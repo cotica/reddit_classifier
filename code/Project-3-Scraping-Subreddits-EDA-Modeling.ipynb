{
 "cells": [
  {
   "cell_type": "markdown",
   "metadata": {},
   "source": [
    "# NLP analysis and classification of subReddits\n",
    "\n",
    "\n",
    "_Continued. To see the data scrape and initial problem statement exploration, please see:_\n",
    "[Report1: scrape](https://git.generalassemb.ly/cotica/project_3/blob/main/code/Project-3-Scraping-Subreddits-data-pull.ipynb).\n",
    "\n",
    "GENERAL NOTE ON ATTRIBUTION: The ideas and coding techniques applied throughout this work are heavily influenced thanks to collaboration with and numerous reviews by Gwen Rathgeber. This report would not have been possible without substantial input from Gwen.\n",
    "\n",
    "\n",
    "## Part II - Cleaning & elementary EDA\n",
    "---"
   ]
  },
  {
   "cell_type": "markdown",
   "metadata": {},
   "source": [
    "We'll import all our required libraries up here."
   ]
  },
  {
   "cell_type": "code",
   "execution_count": 95,
   "metadata": {
    "ExecuteTime": {
     "end_time": "2021-04-30T03:54:03.468009Z",
     "start_time": "2021-04-30T03:54:03.455737Z"
    }
   },
   "outputs": [],
   "source": [
    "#import all prospective libraries\n",
    "\n",
    "import pandas as pd, \\\n",
    "       numpy as np, \\\n",
    "       requests, time, nltk, \\\n",
    "       datetime as dt, \\\n",
    "       matplotlib.pyplot as plt, seaborn as sns, \\\n",
    "       re, os #regex\n",
    "\n",
    "\n",
    "#NLP transformers\n",
    "from nltk.stem import WordNetLemmatizer\n",
    "from nltk.sentiment.vader import SentimentIntensityAnalyzer\n",
    "from nltk.tokenize import RegexpTokenizer\n",
    "\n",
    "import gensim.downloader as api #allows us to get word2vec anf glove embeddings that we need\n",
    "from gensim.models.word2vec import Word2Vec\n",
    "from transformers import pipeline\n",
    "from sklearn.pipeline import Pipeline\n",
    "from sklearn.feature_extraction.text import CountVectorizer, \\\n",
    "                                            TfidfVectorizer\n",
    "\n",
    "\n",
    "#classifiers\n",
    "from sklearn.neighbors import KNeighborsClassifier\n",
    "from sklearn.linear_model import LogisticRegression\n",
    "\n",
    "from sklearn.ensemble import (RandomForestClassifier, \\\n",
    "                              ExtraTreesClassifier, \\\n",
    "                              BaggingClassifier,\n",
    "                              GradientBoostingClassifier, \\\n",
    "                              AdaBoostClassifier, \\\n",
    "                              VotingClassifier)\n",
    "\n",
    "from sklearn.tree import DecisionTreeClassifier, plot_tree, export_text\n",
    "from xgboost import XGBRegressor, XGBClassifier\n",
    "from sklearn.naive_bayes import MultinomialNB\n",
    "\n",
    "\n",
    "#metrics / model preprocessing\n",
    "from sklearn.metrics import (accuracy_score, confusion_matrix, \\\n",
    "                             plot_confusion_matrix, \\\n",
    "                             recall_score, precision_score)\n",
    "\n",
    "from sklearn.pipeline import Pipeline\n",
    "from sklearn.model_selection import train_test_split, \\\n",
    "                                    GridSearchCV, \\\n",
    "                                    cross_val_score, \\\n",
    "                                    RandomizedSearchCV\n",
    "\n",
    "from sklearn.preprocessing import StandardScaler\n",
    "from sklearn.dummy import DummyClassifier\n",
    "from scipy.stats import uniform, loguniform\n",
    "\n",
    "# easier to see full text with a bigger maxwidth:\n",
    "pd.options.display.max_colwidth = 200\n",
    "\n",
    "#show grid on plots\n",
    "sns.set_style('darkgrid')"
   ]
  },
  {
   "cell_type": "code",
   "execution_count": 2,
   "metadata": {
    "ExecuteTime": {
     "end_time": "2021-04-30T00:52:28.287672Z",
     "start_time": "2021-04-30T00:52:28.272377Z"
    }
   },
   "outputs": [],
   "source": [
    "#pip install python-Levenshtein\n",
    "#this is for the gensim.similarities.levenshtein submodule"
   ]
  },
  {
   "cell_type": "markdown",
   "metadata": {},
   "source": [
    "- - - \n",
    "\n",
    "### Pull in the files from our scrapes"
   ]
  },
  {
   "cell_type": "code",
   "execution_count": 3,
   "metadata": {
    "ExecuteTime": {
     "end_time": "2021-04-30T00:52:28.548082Z",
     "start_time": "2021-04-30T00:52:28.399597Z"
    }
   },
   "outputs": [],
   "source": [
    "movie_deets2 = pd.read_csv('../data_outputs/good_movie_deets2.csv')\n",
    "bad_deets2 = pd.read_csv('../data_outputs/bad_movie_deets2.csv')"
   ]
  },
  {
   "cell_type": "markdown",
   "metadata": {},
   "source": [
    "### Get basic stats"
   ]
  },
  {
   "cell_type": "markdown",
   "metadata": {},
   "source": [
    "Let's look at basic stats about our data.\n",
    "\n",
    "How many records do we have, prior to cleaning?"
   ]
  },
  {
   "cell_type": "code",
   "execution_count": 4,
   "metadata": {
    "ExecuteTime": {
     "end_time": "2021-04-30T00:52:28.582282Z",
     "start_time": "2021-04-30T00:52:28.550327Z"
    }
   },
   "outputs": [
    {
     "data": {
      "text/plain": [
       "(8805, 9)"
      ]
     },
     "execution_count": 4,
     "metadata": {},
     "output_type": "execute_result"
    }
   ],
   "source": [
    "movie_deets2.shape"
   ]
  },
  {
   "cell_type": "code",
   "execution_count": 5,
   "metadata": {
    "ExecuteTime": {
     "end_time": "2021-04-30T00:52:28.620557Z",
     "start_time": "2021-04-30T00:52:28.588386Z"
    }
   },
   "outputs": [
    {
     "data": {
      "text/plain": [
       "(8180, 9)"
      ]
     },
     "execution_count": 5,
     "metadata": {},
     "output_type": "execute_result"
    }
   ],
   "source": [
    "bad_deets2.shape"
   ]
  },
  {
   "cell_type": "markdown",
   "metadata": {},
   "source": [
    "What did we pull in?"
   ]
  },
  {
   "cell_type": "code",
   "execution_count": 6,
   "metadata": {
    "ExecuteTime": {
     "end_time": "2021-04-30T00:52:28.720741Z",
     "start_time": "2021-04-30T00:52:28.649394Z"
    },
    "scrolled": true
   },
   "outputs": [
    {
     "data": {
      "text/html": [
       "<div>\n",
       "<style scoped>\n",
       "    .dataframe tbody tr th:only-of-type {\n",
       "        vertical-align: middle;\n",
       "    }\n",
       "\n",
       "    .dataframe tbody tr th {\n",
       "        vertical-align: top;\n",
       "    }\n",
       "\n",
       "    .dataframe thead th {\n",
       "        text-align: right;\n",
       "    }\n",
       "</style>\n",
       "<table border=\"1\" class=\"dataframe\">\n",
       "  <thead>\n",
       "    <tr style=\"text-align: right;\">\n",
       "      <th></th>\n",
       "      <th>title</th>\n",
       "      <th>selftext</th>\n",
       "      <th>subreddit</th>\n",
       "      <th>created_utc</th>\n",
       "      <th>author</th>\n",
       "      <th>is_self</th>\n",
       "      <th>score</th>\n",
       "      <th>num_comments</th>\n",
       "      <th>timestamp</th>\n",
       "    </tr>\n",
       "  </thead>\n",
       "  <tbody>\n",
       "    <tr>\n",
       "      <th>0</th>\n",
       "      <td>Listen,share,repost \"culgrin d mayor\" Africa gorilla volume 1 EP on all PLATFORMS</td>\n",
       "      <td>NaN</td>\n",
       "      <td>MovieDetails</td>\n",
       "      <td>1619213155</td>\n",
       "      <td>culgrin1</td>\n",
       "      <td>False</td>\n",
       "      <td>1</td>\n",
       "      <td>0</td>\n",
       "      <td>2021-04-23</td>\n",
       "    </tr>\n",
       "    <tr>\n",
       "      <th>1</th>\n",
       "      <td>In Repo Man (1984), Miller says to Otto “suppose you're thinkin' about a plate o' shrimp. Suddenly someone'll say, plate, or shrimp, or plate o' shrimp out the blue” as an example of his concept o...</td>\n",
       "      <td>NaN</td>\n",
       "      <td>MovieDetails</td>\n",
       "      <td>1619214866</td>\n",
       "      <td>VictorBlimpmuscle</td>\n",
       "      <td>False</td>\n",
       "      <td>1</td>\n",
       "      <td>12</td>\n",
       "      <td>2021-04-23</td>\n",
       "    </tr>\n",
       "  </tbody>\n",
       "</table>\n",
       "</div>"
      ],
      "text/plain": [
       "                                                                                                                                                                                                     title  \\\n",
       "0                                                                                                                        Listen,share,repost \"culgrin d mayor\" Africa gorilla volume 1 EP on all PLATFORMS   \n",
       "1  In Repo Man (1984), Miller says to Otto “suppose you're thinkin' about a plate o' shrimp. Suddenly someone'll say, plate, or shrimp, or plate o' shrimp out the blue” as an example of his concept o...   \n",
       "\n",
       "  selftext     subreddit  created_utc             author  is_self  score  \\\n",
       "0      NaN  MovieDetails   1619213155           culgrin1    False      1   \n",
       "1      NaN  MovieDetails   1619214866  VictorBlimpmuscle    False      1   \n",
       "\n",
       "   num_comments   timestamp  \n",
       "0             0  2021-04-23  \n",
       "1            12  2021-04-23  "
      ]
     },
     "execution_count": 6,
     "metadata": {},
     "output_type": "execute_result"
    }
   ],
   "source": [
    "movie_deets2.head(2)"
   ]
  },
  {
   "cell_type": "code",
   "execution_count": 7,
   "metadata": {
    "ExecuteTime": {
     "end_time": "2021-04-30T00:52:28.918841Z",
     "start_time": "2021-04-30T00:52:28.746260Z"
    },
    "scrolled": true
   },
   "outputs": [
    {
     "data": {
      "text/html": [
       "<div>\n",
       "<style scoped>\n",
       "    .dataframe tbody tr th:only-of-type {\n",
       "        vertical-align: middle;\n",
       "    }\n",
       "\n",
       "    .dataframe tbody tr th {\n",
       "        vertical-align: top;\n",
       "    }\n",
       "\n",
       "    .dataframe thead th {\n",
       "        text-align: right;\n",
       "    }\n",
       "</style>\n",
       "<table border=\"1\" class=\"dataframe\">\n",
       "  <thead>\n",
       "    <tr style=\"text-align: right;\">\n",
       "      <th></th>\n",
       "      <th>title</th>\n",
       "      <th>selftext</th>\n",
       "      <th>subreddit</th>\n",
       "      <th>created_utc</th>\n",
       "      <th>author</th>\n",
       "      <th>is_self</th>\n",
       "      <th>score</th>\n",
       "      <th>num_comments</th>\n",
       "      <th>timestamp</th>\n",
       "    </tr>\n",
       "  </thead>\n",
       "  <tbody>\n",
       "    <tr>\n",
       "      <th>0</th>\n",
       "      <td>In the movie Bullworth (1998), a police officer is seen not shooting black people.</td>\n",
       "      <td>NaN</td>\n",
       "      <td>shittymoviedetails</td>\n",
       "      <td>1619214935</td>\n",
       "      <td>Wuz314159</td>\n",
       "      <td>False</td>\n",
       "      <td>1</td>\n",
       "      <td>1</td>\n",
       "      <td>2021-04-23</td>\n",
       "    </tr>\n",
       "    <tr>\n",
       "      <th>1</th>\n",
       "      <td>The Nightmare Before Christmas (1993), when he arrives at Christmas Town, Jack sings \"what's this? There's white things in the air\". 22 seconds later he sings \"there are children throwing snowball...</td>\n",
       "      <td>NaN</td>\n",
       "      <td>shittymoviedetails</td>\n",
       "      <td>1619217853</td>\n",
       "      <td>Nerf_Herder86</td>\n",
       "      <td>False</td>\n",
       "      <td>1</td>\n",
       "      <td>0</td>\n",
       "      <td>2021-04-23</td>\n",
       "    </tr>\n",
       "  </tbody>\n",
       "</table>\n",
       "</div>"
      ],
      "text/plain": [
       "                                                                                                                                                                                                     title  \\\n",
       "0                                                                                                                       In the movie Bullworth (1998), a police officer is seen not shooting black people.   \n",
       "1  The Nightmare Before Christmas (1993), when he arrives at Christmas Town, Jack sings \"what's this? There's white things in the air\". 22 seconds later he sings \"there are children throwing snowball...   \n",
       "\n",
       "  selftext           subreddit  created_utc         author  is_self  score  \\\n",
       "0      NaN  shittymoviedetails   1619214935      Wuz314159    False      1   \n",
       "1      NaN  shittymoviedetails   1619217853  Nerf_Herder86    False      1   \n",
       "\n",
       "   num_comments   timestamp  \n",
       "0             1  2021-04-23  \n",
       "1             0  2021-04-23  "
      ]
     },
     "execution_count": 7,
     "metadata": {},
     "output_type": "execute_result"
    }
   ],
   "source": [
    "bad_deets2.head(2)"
   ]
  },
  {
   "cell_type": "markdown",
   "metadata": {},
   "source": [
    "Let's actually merge our dataframes to make it easier for processing."
   ]
  },
  {
   "cell_type": "code",
   "execution_count": 8,
   "metadata": {
    "ExecuteTime": {
     "end_time": "2021-04-30T00:52:29.121853Z",
     "start_time": "2021-04-30T00:52:28.926957Z"
    }
   },
   "outputs": [
    {
     "data": {
      "text/html": [
       "<div>\n",
       "<style scoped>\n",
       "    .dataframe tbody tr th:only-of-type {\n",
       "        vertical-align: middle;\n",
       "    }\n",
       "\n",
       "    .dataframe tbody tr th {\n",
       "        vertical-align: top;\n",
       "    }\n",
       "\n",
       "    .dataframe thead th {\n",
       "        text-align: right;\n",
       "    }\n",
       "</style>\n",
       "<table border=\"1\" class=\"dataframe\">\n",
       "  <thead>\n",
       "    <tr style=\"text-align: right;\">\n",
       "      <th></th>\n",
       "      <th>title</th>\n",
       "      <th>selftext</th>\n",
       "      <th>subreddit</th>\n",
       "      <th>created_utc</th>\n",
       "      <th>author</th>\n",
       "      <th>is_self</th>\n",
       "      <th>score</th>\n",
       "      <th>num_comments</th>\n",
       "      <th>timestamp</th>\n",
       "    </tr>\n",
       "  </thead>\n",
       "  <tbody>\n",
       "    <tr>\n",
       "      <th>0</th>\n",
       "      <td>In the movie Bullworth (1998), a police officer is seen not shooting black people.</td>\n",
       "      <td>NaN</td>\n",
       "      <td>shittymoviedetails</td>\n",
       "      <td>1619214935</td>\n",
       "      <td>Wuz314159</td>\n",
       "      <td>False</td>\n",
       "      <td>1</td>\n",
       "      <td>1</td>\n",
       "      <td>2021-04-23</td>\n",
       "    </tr>\n",
       "  </tbody>\n",
       "</table>\n",
       "</div>"
      ],
      "text/plain": [
       "                                                                                title  \\\n",
       "0  In the movie Bullworth (1998), a police officer is seen not shooting black people.   \n",
       "\n",
       "  selftext           subreddit  created_utc     author  is_self  score  \\\n",
       "0      NaN  shittymoviedetails   1619214935  Wuz314159    False      1   \n",
       "\n",
       "   num_comments   timestamp  \n",
       "0             1  2021-04-23  "
      ]
     },
     "execution_count": 8,
     "metadata": {},
     "output_type": "execute_result"
    }
   ],
   "source": [
    "#pd.concat([df1, df2])\n",
    "df = pd.concat([bad_deets2, movie_deets2])\n",
    "df.head(1)"
   ]
  },
  {
   "cell_type": "code",
   "execution_count": 9,
   "metadata": {
    "ExecuteTime": {
     "end_time": "2021-04-30T00:52:29.156235Z",
     "start_time": "2021-04-30T00:52:29.140296Z"
    }
   },
   "outputs": [
    {
     "data": {
      "text/plain": [
       "(16985, 9)"
      ]
     },
     "execution_count": 9,
     "metadata": {},
     "output_type": "execute_result"
    }
   ],
   "source": [
    "df.shape"
   ]
  },
  {
   "cell_type": "markdown",
   "metadata": {},
   "source": [
    "What data types are we dealing with?"
   ]
  },
  {
   "cell_type": "code",
   "execution_count": 10,
   "metadata": {
    "ExecuteTime": {
     "end_time": "2021-04-30T00:52:29.235165Z",
     "start_time": "2021-04-30T00:52:29.175718Z"
    },
    "scrolled": false
   },
   "outputs": [
    {
     "name": "stdout",
     "output_type": "stream",
     "text": [
      "<class 'pandas.core.frame.DataFrame'>\n",
      "Int64Index: 16985 entries, 0 to 8804\n",
      "Data columns (total 9 columns):\n",
      " #   Column        Non-Null Count  Dtype \n",
      "---  ------        --------------  ----- \n",
      " 0   title         16985 non-null  object\n",
      " 1   selftext      2260 non-null   object\n",
      " 2   subreddit     16985 non-null  object\n",
      " 3   created_utc   16985 non-null  int64 \n",
      " 4   author        16985 non-null  object\n",
      " 5   is_self       16985 non-null  bool  \n",
      " 6   score         16985 non-null  int64 \n",
      " 7   num_comments  16985 non-null  int64 \n",
      " 8   timestamp     16985 non-null  object\n",
      "dtypes: bool(1), int64(3), object(5)\n",
      "memory usage: 1.2+ MB\n"
     ]
    }
   ],
   "source": [
    "df.info()"
   ]
  },
  {
   "cell_type": "markdown",
   "metadata": {},
   "source": [
    "A few objects, like text fields, are expected, and will need to be transformed / vectorized for modeling.\n",
    "\n",
    "Let's also convert the time stamps to a usable format, just in case they come in handy for modeling."
   ]
  },
  {
   "cell_type": "markdown",
   "metadata": {},
   "source": [
    "A few objects, like text fields, are expected, and will need to be transformed / vectorized for modeling.\n",
    "\n",
    "Let's also convert the time stamps to a usable format, just in case they come in handy for modeling. Further, the UTC is actually not really something we want in our model, and it's not really numeric either (it's a datetime concept if anything). Let's take care of that as well."
   ]
  },
  {
   "cell_type": "code",
   "execution_count": 11,
   "metadata": {
    "ExecuteTime": {
     "end_time": "2021-04-30T00:52:38.807992Z",
     "start_time": "2021-04-30T00:52:29.237551Z"
    }
   },
   "outputs": [],
   "source": [
    "#convert time stamps\n",
    "#.apply(pd.to_datetime) - ref.: https://stackoverflow.com/questions/26763344/convert-pandas-column-to-datetime\n",
    "df['timestamp'] = df['timestamp'].apply(pd.to_datetime)\n",
    "df['created_utc'] = df['created_utc'].apply(pd.to_datetime)"
   ]
  },
  {
   "cell_type": "markdown",
   "metadata": {},
   "source": [
    "Now we can try to obtain basic descriptive stats."
   ]
  },
  {
   "cell_type": "code",
   "execution_count": 12,
   "metadata": {
    "ExecuteTime": {
     "end_time": "2021-04-30T00:52:38.840850Z",
     "start_time": "2021-04-30T00:52:38.811263Z"
    },
    "scrolled": true
   },
   "outputs": [
    {
     "data": {
      "text/html": [
       "<div>\n",
       "<style scoped>\n",
       "    .dataframe tbody tr th:only-of-type {\n",
       "        vertical-align: middle;\n",
       "    }\n",
       "\n",
       "    .dataframe tbody tr th {\n",
       "        vertical-align: top;\n",
       "    }\n",
       "\n",
       "    .dataframe thead th {\n",
       "        text-align: right;\n",
       "    }\n",
       "</style>\n",
       "<table border=\"1\" class=\"dataframe\">\n",
       "  <thead>\n",
       "    <tr style=\"text-align: right;\">\n",
       "      <th></th>\n",
       "      <th>score</th>\n",
       "      <th>num_comments</th>\n",
       "    </tr>\n",
       "  </thead>\n",
       "  <tbody>\n",
       "    <tr>\n",
       "      <th>count</th>\n",
       "      <td>16985.0</td>\n",
       "      <td>16985.0</td>\n",
       "    </tr>\n",
       "    <tr>\n",
       "      <th>mean</th>\n",
       "      <td>82.5</td>\n",
       "      <td>17.4</td>\n",
       "    </tr>\n",
       "    <tr>\n",
       "      <th>std</th>\n",
       "      <td>1717.4</td>\n",
       "      <td>100.1</td>\n",
       "    </tr>\n",
       "    <tr>\n",
       "      <th>min</th>\n",
       "      <td>0.0</td>\n",
       "      <td>0.0</td>\n",
       "    </tr>\n",
       "    <tr>\n",
       "      <th>25%</th>\n",
       "      <td>1.0</td>\n",
       "      <td>0.0</td>\n",
       "    </tr>\n",
       "    <tr>\n",
       "      <th>50%</th>\n",
       "      <td>1.0</td>\n",
       "      <td>2.0</td>\n",
       "    </tr>\n",
       "    <tr>\n",
       "      <th>75%</th>\n",
       "      <td>1.0</td>\n",
       "      <td>5.0</td>\n",
       "    </tr>\n",
       "    <tr>\n",
       "      <th>max</th>\n",
       "      <td>72489.0</td>\n",
       "      <td>3368.0</td>\n",
       "    </tr>\n",
       "  </tbody>\n",
       "</table>\n",
       "</div>"
      ],
      "text/plain": [
       "         score  num_comments\n",
       "count  16985.0       16985.0\n",
       "mean      82.5          17.4\n",
       "std     1717.4         100.1\n",
       "min        0.0           0.0\n",
       "25%        1.0           0.0\n",
       "50%        1.0           2.0\n",
       "75%        1.0           5.0\n",
       "max    72489.0        3368.0"
      ]
     },
     "execution_count": 12,
     "metadata": {},
     "output_type": "execute_result"
    }
   ],
   "source": [
    "df.describe().round(1)"
   ]
  },
  {
   "cell_type": "markdown",
   "metadata": {},
   "source": [
    "Not much to look at here at the moment. The notables are the distribution of comments and just the gaping wide spread in our data. We'll want to perform some more specific distribution analyses a little down the road, once done with the cleaning, to make more sense out of these stats."
   ]
  },
  {
   "cell_type": "markdown",
   "metadata": {},
   "source": [
    "Where might we have issues with missing data?"
   ]
  },
  {
   "cell_type": "code",
   "execution_count": 13,
   "metadata": {
    "ExecuteTime": {
     "end_time": "2021-04-30T00:52:38.875795Z",
     "start_time": "2021-04-30T00:52:38.853713Z"
    },
    "scrolled": true
   },
   "outputs": [
    {
     "data": {
      "text/plain": [
       "title               0\n",
       "selftext        14725\n",
       "subreddit           0\n",
       "created_utc         0\n",
       "author              0\n",
       "is_self             0\n",
       "score               0\n",
       "num_comments        0\n",
       "timestamp           0\n",
       "dtype: int64"
      ]
     },
     "execution_count": 13,
     "metadata": {},
     "output_type": "execute_result"
    }
   ],
   "source": [
    "df.isnull().sum()"
   ]
  },
  {
   "cell_type": "markdown",
   "metadata": {},
   "source": [
    "- - - \n",
    "\n",
    "### Imputation and cleaning strategy\n",
    "\n",
    "Our strategy is to first remove anything with selftext appearing to have been deleted. Even though these are not read as nulls, they effectively are, for our purposes.\n",
    "\n",
    "We knew that we'd have quite a few issues with missing self-text, when we shose to scrape unfiltered data. To remedy this, we could impute all nulls where self text is missing with the post's title, but this might result in inadvertent text duplicates when we train our model. So, instead, we are going to engineer a new column and merge the self-text and title text. _Note: Attribution for the idea to Riley R._\n",
    "\n",
    "We can, if we would like to, further dedupe and get rid of ostensibly spammy looking posts, by adding stop words like \"repost\", \"reshare\", as well as dropping any dominant authors or ones that sound spammy (\"bot\", \"auto\", \"moderator\").\n",
    "\n",
    "We will also need to get rid of any link references.\n",
    "\n",
    "Okay, let's start by dropping anything with the word \"removed\" or \"deleted\". It's a tiny portion of our set, so I am not super worried about losing those rows of data."
   ]
  },
  {
   "cell_type": "code",
   "execution_count": 14,
   "metadata": {
    "ExecuteTime": {
     "end_time": "2021-04-30T00:52:38.910047Z",
     "start_time": "2021-04-30T00:52:38.878470Z"
    }
   },
   "outputs": [],
   "source": [
    "#df[~df['col'].str.contains('value1|value2')]\n",
    "#syntactic ref from https://stackoverflow.com/questions/52297740/typeerror-bad-operand-type-for-unary-float\n",
    "\n",
    "df = df[~df['selftext'].str.contains('deleted|removed', na=False)]\n",
    "\n",
    "#df = df[df.selftext != 'deleted']\n",
    "#df = df[df.selftext != 'removed']"
   ]
  },
  {
   "cell_type": "code",
   "execution_count": 15,
   "metadata": {
    "ExecuteTime": {
     "end_time": "2021-04-30T00:52:38.933060Z",
     "start_time": "2021-04-30T00:52:38.916294Z"
    }
   },
   "outputs": [
    {
     "data": {
      "text/html": [
       "<div>\n",
       "<style scoped>\n",
       "    .dataframe tbody tr th:only-of-type {\n",
       "        vertical-align: middle;\n",
       "    }\n",
       "\n",
       "    .dataframe tbody tr th {\n",
       "        vertical-align: top;\n",
       "    }\n",
       "\n",
       "    .dataframe thead th {\n",
       "        text-align: right;\n",
       "    }\n",
       "</style>\n",
       "<table border=\"1\" class=\"dataframe\">\n",
       "  <thead>\n",
       "    <tr style=\"text-align: right;\">\n",
       "      <th></th>\n",
       "      <th>title</th>\n",
       "      <th>selftext</th>\n",
       "      <th>subreddit</th>\n",
       "      <th>created_utc</th>\n",
       "      <th>author</th>\n",
       "      <th>is_self</th>\n",
       "      <th>score</th>\n",
       "      <th>num_comments</th>\n",
       "      <th>timestamp</th>\n",
       "    </tr>\n",
       "  </thead>\n",
       "  <tbody>\n",
       "    <tr>\n",
       "      <th>0</th>\n",
       "      <td>In the movie Bullworth (1998), a police officer is seen not shooting black people.</td>\n",
       "      <td>NaN</td>\n",
       "      <td>shittymoviedetails</td>\n",
       "      <td>1970-01-01 00:00:01.619214935</td>\n",
       "      <td>Wuz314159</td>\n",
       "      <td>False</td>\n",
       "      <td>1</td>\n",
       "      <td>1</td>\n",
       "      <td>2021-04-23</td>\n",
       "    </tr>\n",
       "  </tbody>\n",
       "</table>\n",
       "</div>"
      ],
      "text/plain": [
       "                                                                                title  \\\n",
       "0  In the movie Bullworth (1998), a police officer is seen not shooting black people.   \n",
       "\n",
       "  selftext           subreddit                   created_utc     author  \\\n",
       "0      NaN  shittymoviedetails 1970-01-01 00:00:01.619214935  Wuz314159   \n",
       "\n",
       "   is_self  score  num_comments  timestamp  \n",
       "0    False      1             1 2021-04-23  "
      ]
     },
     "execution_count": 15,
     "metadata": {},
     "output_type": "execute_result"
    }
   ],
   "source": [
    "#check\n",
    "df.head(1)"
   ]
  },
  {
   "cell_type": "markdown",
   "metadata": {},
   "source": [
    "Let's confirm that those bad rows are gone."
   ]
  },
  {
   "cell_type": "code",
   "execution_count": 16,
   "metadata": {
    "ExecuteTime": {
     "end_time": "2021-04-30T00:52:38.971251Z",
     "start_time": "2021-04-30T00:52:38.943081Z"
    }
   },
   "outputs": [
    {
     "data": {
      "text/plain": [
       "&gt;!In \"The Girl with the Dragon Tattoo\", Christopher Plummer tells Daniel Craig's character \"The man who hires the detective should always be kept on the suspects list.\" In \"Knives Out\", Craig is hired by Ransom Drysdale (Chris Evans) to investigate the murder of Harlan Thrombey (Christopher Plummer), which Ransom himself committed.!&lt;    2\n",
       "[https://i.imgur.com/5yFzqdk.jpg](https://i.imgur.com/5yFzqdk.jpg)                                                                                                                                                                                                                                                                                       2\n",
       "Name: selftext, dtype: int64"
      ]
     },
     "execution_count": 16,
     "metadata": {},
     "output_type": "execute_result"
    }
   ],
   "source": [
    "#check again that removed and deleted selftexts are no longer in frame\n",
    "df['selftext'].value_counts().sort_values(ascending=False)[:2]"
   ]
  },
  {
   "cell_type": "markdown",
   "metadata": {},
   "source": [
    "We should see the dropped rows reflected in the shape."
   ]
  },
  {
   "cell_type": "code",
   "execution_count": 17,
   "metadata": {
    "ExecuteTime": {
     "end_time": "2021-04-30T00:52:39.003887Z",
     "start_time": "2021-04-30T00:52:38.995518Z"
    }
   },
   "outputs": [
    {
     "data": {
      "text/plain": [
       "(15417, 9)"
      ]
     },
     "execution_count": 17,
     "metadata": {},
     "output_type": "execute_result"
    }
   ],
   "source": [
    "#Confirm dataframe has shrunk\n",
    "df.shape"
   ]
  },
  {
   "cell_type": "markdown",
   "metadata": {},
   "source": [
    "Finally, the nulls should still be intact -- we are going to take care of that in a moment."
   ]
  },
  {
   "cell_type": "code",
   "execution_count": 18,
   "metadata": {
    "ExecuteTime": {
     "end_time": "2021-04-30T00:52:39.034569Z",
     "start_time": "2021-04-30T00:52:39.007174Z"
    },
    "scrolled": true
   },
   "outputs": [
    {
     "data": {
      "text/plain": [
       "title               0\n",
       "selftext        14725\n",
       "subreddit           0\n",
       "created_utc         0\n",
       "author              0\n",
       "is_self             0\n",
       "score               0\n",
       "num_comments        0\n",
       "timestamp           0\n",
       "dtype: int64"
      ]
     },
     "execution_count": 18,
     "metadata": {},
     "output_type": "execute_result"
    }
   ],
   "source": [
    "df.isnull().sum()"
   ]
  },
  {
   "cell_type": "markdown",
   "metadata": {},
   "source": [
    "We also need to get rid of the link mentions and junk in the strings."
   ]
  },
  {
   "cell_type": "code",
   "execution_count": 19,
   "metadata": {
    "ExecuteTime": {
     "end_time": "2021-04-30T00:52:39.129530Z",
     "start_time": "2021-04-30T00:52:39.037488Z"
    }
   },
   "outputs": [],
   "source": [
    "#df['column'] = df['column'].replace(r'http\\S+', '', regex=True).replace(r'www\\S+', '', regex=True)\n",
    "#from https://stackoverflow.com/questions/51994254/removing-url-from-a-column-in-pandas-dataframe/51994366\n",
    "\n",
    "df['selftext'] = df['selftext'].replace(r'http\\S+', '', regex=True).replace(\n",
    "    r'www\\S+', '', regex=True).replace(r'\\&amp\\S+', '', regex=True)"
   ]
  },
  {
   "cell_type": "code",
   "execution_count": 20,
   "metadata": {
    "ExecuteTime": {
     "end_time": "2021-04-30T00:52:39.151771Z",
     "start_time": "2021-04-30T00:52:39.131793Z"
    }
   },
   "outputs": [
    {
     "data": {
      "text/plain": [
       "pandas.core.series.Series"
      ]
     },
     "execution_count": 20,
     "metadata": {},
     "output_type": "execute_result"
    }
   ],
   "source": [
    "type(df['selftext'])"
   ]
  },
  {
   "cell_type": "code",
   "execution_count": 21,
   "metadata": {
    "ExecuteTime": {
     "end_time": "2021-04-30T00:52:39.771379Z",
     "start_time": "2021-04-30T00:52:39.155854Z"
    }
   },
   "outputs": [],
   "source": [
    "#from https://stackoverflow.com/questions/44227748/removing-newlines-from-messy-strings-in-pandas-dataframe-cells\n",
    "\n",
    "df.replace(to_replace=[r\"\\\\t|\\\\n|\\\\r\", \"\\t|\\n|\\r\"], value=[\"\",\"\"], regex=True, inplace=True)\n",
    "\n",
    "df = df.replace(r'\\\\n','', regex=True) "
   ]
  },
  {
   "cell_type": "code",
   "execution_count": 22,
   "metadata": {
    "ExecuteTime": {
     "end_time": "2021-04-30T00:52:40.088856Z",
     "start_time": "2021-04-30T00:52:39.773509Z"
    }
   },
   "outputs": [],
   "source": [
    "#Thanks to Aderinsola, Dan and Riley R. for collaboration on this code\n",
    "df = df.replace(r'[^a-zA-Z0-9]', ' ', regex=True)"
   ]
  },
  {
   "cell_type": "markdown",
   "metadata": {},
   "source": [
    "We need an imputation strategy for the NaNs. I'm choosing to fill them in with spaces.\n",
    "\n",
    "We will then merge the self-text and title columns as a single text column, to vectorize and train on later."
   ]
  },
  {
   "cell_type": "code",
   "execution_count": 23,
   "metadata": {
    "ExecuteTime": {
     "end_time": "2021-04-30T00:52:40.109598Z",
     "start_time": "2021-04-30T00:52:40.096659Z"
    }
   },
   "outputs": [],
   "source": [
    "#nuke nulls\n",
    "df['selftext'].fillna('', inplace=True)"
   ]
  },
  {
   "cell_type": "code",
   "execution_count": 24,
   "metadata": {
    "ExecuteTime": {
     "end_time": "2021-04-30T00:52:40.217671Z",
     "start_time": "2021-04-30T00:52:40.116081Z"
    }
   },
   "outputs": [
    {
     "data": {
      "text/html": [
       "<div>\n",
       "<style scoped>\n",
       "    .dataframe tbody tr th:only-of-type {\n",
       "        vertical-align: middle;\n",
       "    }\n",
       "\n",
       "    .dataframe tbody tr th {\n",
       "        vertical-align: top;\n",
       "    }\n",
       "\n",
       "    .dataframe thead th {\n",
       "        text-align: right;\n",
       "    }\n",
       "</style>\n",
       "<table border=\"1\" class=\"dataframe\">\n",
       "  <thead>\n",
       "    <tr style=\"text-align: right;\">\n",
       "      <th></th>\n",
       "      <th>title</th>\n",
       "      <th>selftext</th>\n",
       "      <th>subreddit</th>\n",
       "      <th>created_utc</th>\n",
       "      <th>author</th>\n",
       "      <th>is_self</th>\n",
       "      <th>score</th>\n",
       "      <th>num_comments</th>\n",
       "      <th>timestamp</th>\n",
       "      <th>all_text</th>\n",
       "    </tr>\n",
       "  </thead>\n",
       "  <tbody>\n",
       "    <tr>\n",
       "      <th>0</th>\n",
       "      <td>In the movie Bullworth  1998   a police officer is seen not shooting black people</td>\n",
       "      <td></td>\n",
       "      <td>shittymoviedetails</td>\n",
       "      <td>1970-01-01 00:00:01.619214935</td>\n",
       "      <td>Wuz314159</td>\n",
       "      <td>False</td>\n",
       "      <td>1</td>\n",
       "      <td>1</td>\n",
       "      <td>2021-04-23</td>\n",
       "      <td>In the movie Bullworth  1998   a police officer is seen not shooting black people .</td>\n",
       "    </tr>\n",
       "    <tr>\n",
       "      <th>13</th>\n",
       "      <td>After the commercial success of Kitchen Gun  and Toilet Grenade   Peter Serafinowicz expanded his business to offer a larger variety of cleaning products in John Wick  Chapter 2</td>\n",
       "      <td></td>\n",
       "      <td>shittymoviedetails</td>\n",
       "      <td>1970-01-01 00:00:01.619251458</td>\n",
       "      <td>Raoshard</td>\n",
       "      <td>False</td>\n",
       "      <td>1</td>\n",
       "      <td>46</td>\n",
       "      <td>2021-04-24</td>\n",
       "      <td>After the commercial success of Kitchen Gun  and Toilet Grenade   Peter Serafinowicz expanded his business to offer a larger variety of cleaning products in John Wick  Chapter 2.</td>\n",
       "    </tr>\n",
       "    <tr>\n",
       "      <th>23</th>\n",
       "      <td>Guy makes his interestingly bizarre rendition that s addictive</td>\n",
       "      <td></td>\n",
       "      <td>shittymoviedetails</td>\n",
       "      <td>1970-01-01 00:00:01.619283112</td>\n",
       "      <td>TitsAmazing</td>\n",
       "      <td>False</td>\n",
       "      <td>1</td>\n",
       "      <td>0</td>\n",
       "      <td>2021-04-24</td>\n",
       "      <td>Guy makes his interestingly bizarre rendition that s addictive.</td>\n",
       "    </tr>\n",
       "    <tr>\n",
       "      <th>22</th>\n",
       "      <td>The film title No Country For Old Men  2007  refers to the fact that Florida is not  in fact  a country  It is a state</td>\n",
       "      <td></td>\n",
       "      <td>shittymoviedetails</td>\n",
       "      <td>1970-01-01 00:00:01.619282093</td>\n",
       "      <td>NuclearJesusMan</td>\n",
       "      <td>False</td>\n",
       "      <td>1</td>\n",
       "      <td>5</td>\n",
       "      <td>2021-04-24</td>\n",
       "      <td>The film title No Country For Old Men  2007  refers to the fact that Florida is not  in fact  a country  It is a state .</td>\n",
       "    </tr>\n",
       "    <tr>\n",
       "      <th>21</th>\n",
       "      <td>In 2001  A Space Odyssey  1968   much of the film focuses on characters walking slowly  in silence  This is a reference to the fact that holy fuck this movie is boring as all hell</td>\n",
       "      <td></td>\n",
       "      <td>shittymoviedetails</td>\n",
       "      <td>1970-01-01 00:00:01.619281182</td>\n",
       "      <td>NuclearJesusMan</td>\n",
       "      <td>False</td>\n",
       "      <td>1</td>\n",
       "      <td>20</td>\n",
       "      <td>2021-04-24</td>\n",
       "      <td>In 2001  A Space Odyssey  1968   much of the film focuses on characters walking slowly  in silence  This is a reference to the fact that holy fuck this movie is boring as all hell .</td>\n",
       "    </tr>\n",
       "    <tr>\n",
       "      <th>20</th>\n",
       "      <td>In Captain America   The Winter Soldier  2014   the Winter Soldier looks like a crab in this scene  This is a reference to the actors name Sebastian  who is a crab in another Disney film  The Litt...</td>\n",
       "      <td></td>\n",
       "      <td>shittymoviedetails</td>\n",
       "      <td>1970-01-01 00:00:01.619280462</td>\n",
       "      <td>KennKennyKenKen</td>\n",
       "      <td>False</td>\n",
       "      <td>1</td>\n",
       "      <td>61</td>\n",
       "      <td>2021-04-24</td>\n",
       "      <td>In Captain America   The Winter Soldier  2014   the Winter Soldier looks like a crab in this scene  This is a reference to the actors name Sebastian  who is a crab in another Disney film  The Litt...</td>\n",
       "    </tr>\n",
       "    <tr>\n",
       "      <th>19</th>\n",
       "      <td>In Justice League  2021  the kid from the liquor store whom Bruce was referring to is actually McLovin</td>\n",
       "      <td></td>\n",
       "      <td>shittymoviedetails</td>\n",
       "      <td>1970-01-01 00:00:01.619278471</td>\n",
       "      <td>pale guy</td>\n",
       "      <td>False</td>\n",
       "      <td>1</td>\n",
       "      <td>0</td>\n",
       "      <td>2021-04-24</td>\n",
       "      <td>In Justice League  2021  the kid from the liquor store whom Bruce was referring to is actually McLovin .</td>\n",
       "    </tr>\n",
       "    <tr>\n",
       "      <th>18</th>\n",
       "      <td>Captain America 4  TBA  has recently been announced  Here is the leaked trailer</td>\n",
       "      <td></td>\n",
       "      <td>shittymoviedetails</td>\n",
       "      <td>1970-01-01 00:00:01.619277392</td>\n",
       "      <td>KennKennyKenKen</td>\n",
       "      <td>False</td>\n",
       "      <td>1</td>\n",
       "      <td>13</td>\n",
       "      <td>2021-04-24</td>\n",
       "      <td>Captain America 4  TBA  has recently been announced  Here is the leaked trailer .</td>\n",
       "    </tr>\n",
       "    <tr>\n",
       "      <th>17</th>\n",
       "      <td>In The Curious Case of Benjamin Button  2008  Brad Pitt became old because fight clubs can really take a toll on a guy</td>\n",
       "      <td></td>\n",
       "      <td>shittymoviedetails</td>\n",
       "      <td>1970-01-01 00:00:01.619275733</td>\n",
       "      <td>pale guy</td>\n",
       "      <td>False</td>\n",
       "      <td>1</td>\n",
       "      <td>0</td>\n",
       "      <td>2021-04-24</td>\n",
       "      <td>In The Curious Case of Benjamin Button  2008  Brad Pitt became old because fight clubs can really take a toll on a guy .</td>\n",
       "    </tr>\n",
       "    <tr>\n",
       "      <th>16</th>\n",
       "      <td>in mortal kombat  Hanzo says Cole Young  don t let the bloodline die  in Japanese   Cole Young</td>\n",
       "      <td></td>\n",
       "      <td>shittymoviedetails</td>\n",
       "      <td>1970-01-01 00:00:01.619270578</td>\n",
       "      <td>invertedparadX</td>\n",
       "      <td>False</td>\n",
       "      <td>1</td>\n",
       "      <td>0</td>\n",
       "      <td>2021-04-24</td>\n",
       "      <td>in mortal kombat  Hanzo says Cole Young  don t let the bloodline die  in Japanese   Cole Young .</td>\n",
       "    </tr>\n",
       "    <tr>\n",
       "      <th>15</th>\n",
       "      <td>In The Falcon And The Winter Soldier  Sam becomes the new Captain America despite having no super soldier serum is a reference to the practice of affirmative action</td>\n",
       "      <td></td>\n",
       "      <td>shittymoviedetails</td>\n",
       "      <td>1970-01-01 00:00:01.619266974</td>\n",
       "      <td>endgamespoilerbot</td>\n",
       "      <td>False</td>\n",
       "      <td>1</td>\n",
       "      <td>1</td>\n",
       "      <td>2021-04-24</td>\n",
       "      <td>In The Falcon And The Winter Soldier  Sam becomes the new Captain America despite having no super soldier serum is a reference to the practice of affirmative action .</td>\n",
       "    </tr>\n",
       "    <tr>\n",
       "      <th>14</th>\n",
       "      <td>Dbz Budokai Opening Story Mode  PS2</td>\n",
       "      <td></td>\n",
       "      <td>shittymoviedetails</td>\n",
       "      <td>1970-01-01 00:00:01.619259493</td>\n",
       "      <td>Aggressive Touch635</td>\n",
       "      <td>False</td>\n",
       "      <td>1</td>\n",
       "      <td>2</td>\n",
       "      <td>2021-04-24</td>\n",
       "      <td>Dbz Budokai Opening Story Mode  PS2 .</td>\n",
       "    </tr>\n",
       "    <tr>\n",
       "      <th>12</th>\n",
       "      <td>r shittymoviedetails hit 600k subscribers yesterday</td>\n",
       "      <td></td>\n",
       "      <td>shittymoviedetails</td>\n",
       "      <td>1970-01-01 00:00:01.619248539</td>\n",
       "      <td>TrendingBot</td>\n",
       "      <td>False</td>\n",
       "      <td>1</td>\n",
       "      <td>0</td>\n",
       "      <td>2021-04-24</td>\n",
       "      <td>r shittymoviedetails hit 600k subscribers yesterday.</td>\n",
       "    </tr>\n",
       "    <tr>\n",
       "      <th>1</th>\n",
       "      <td>The Nightmare Before Christmas  1993   when he arrives at Christmas Town  Jack sings  what s this  There s white things in the air   22 seconds later he sings  there are children throwing snowball...</td>\n",
       "      <td></td>\n",
       "      <td>shittymoviedetails</td>\n",
       "      <td>1970-01-01 00:00:01.619217853</td>\n",
       "      <td>Nerf Herder86</td>\n",
       "      <td>False</td>\n",
       "      <td>1</td>\n",
       "      <td>0</td>\n",
       "      <td>2021-04-23</td>\n",
       "      <td>The Nightmare Before Christmas  1993   when he arrives at Christmas Town  Jack sings  what s this  There s white things in the air   22 seconds later he sings  there are children throwing snowball...</td>\n",
       "    </tr>\n",
       "    <tr>\n",
       "      <th>11</th>\n",
       "      <td>In Game of Thrones Season 8  Daenerys  last words are  we break the wheel together  which spelled backwards says  rehtegot leehw eht kaerb ew  which doesn t make sense just like the rest of season 8</td>\n",
       "      <td></td>\n",
       "      <td>shittymoviedetails</td>\n",
       "      <td>1970-01-01 00:00:01.619248335</td>\n",
       "      <td>liquidInanna</td>\n",
       "      <td>False</td>\n",
       "      <td>1</td>\n",
       "      <td>4</td>\n",
       "      <td>2021-04-24</td>\n",
       "      <td>In Game of Thrones Season 8  Daenerys  last words are  we break the wheel together  which spelled backwards says  rehtegot leehw eht kaerb ew  which doesn t make sense just like the rest of season...</td>\n",
       "    </tr>\n",
       "    <tr>\n",
       "      <th>10</th>\n",
       "      <td>In Mortal Kombat  2021  the garden gnomes give the main characters the creeps because they cum on their hands</td>\n",
       "      <td></td>\n",
       "      <td>shittymoviedetails</td>\n",
       "      <td>1970-01-01 00:00:01.619238570</td>\n",
       "      <td>mtndew7</td>\n",
       "      <td>True</td>\n",
       "      <td>1</td>\n",
       "      <td>1</td>\n",
       "      <td>2021-04-23</td>\n",
       "      <td>In Mortal Kombat  2021  the garden gnomes give the main characters the creeps because they cum on their hands.</td>\n",
       "    </tr>\n",
       "    <tr>\n",
       "      <th>9</th>\n",
       "      <td>In the movie Stowaway 2021  a crew is traveling to Mars  The journey is supposed to take 2 years  Everyone is so boring  that the leading character exits the spaceship and dies alone outside</td>\n",
       "      <td></td>\n",
       "      <td>shittymoviedetails</td>\n",
       "      <td>1970-01-01 00:00:01.619237800</td>\n",
       "      <td>Gyros45</td>\n",
       "      <td>False</td>\n",
       "      <td>1</td>\n",
       "      <td>2</td>\n",
       "      <td>2021-04-23</td>\n",
       "      <td>In the movie Stowaway 2021  a crew is traveling to Mars  The journey is supposed to take 2 years  Everyone is so boring  that the leading character exits the spaceship and dies alone outside .</td>\n",
       "    </tr>\n",
       "    <tr>\n",
       "      <th>8</th>\n",
       "      <td>American Beauty was supposed to be a prequel to Se7en but the plot got diluted so bad that it became an entirely different movie</td>\n",
       "      <td></td>\n",
       "      <td>shittymoviedetails</td>\n",
       "      <td>1970-01-01 00:00:01.619234366</td>\n",
       "      <td>Dingus fartsniffer</td>\n",
       "      <td>True</td>\n",
       "      <td>1</td>\n",
       "      <td>2</td>\n",
       "      <td>2021-04-23</td>\n",
       "      <td>American Beauty was supposed to be a prequel to Se7en but the plot got diluted so bad that it became an entirely different movie .</td>\n",
       "    </tr>\n",
       "    <tr>\n",
       "      <th>7</th>\n",
       "      <td>The casting of Hugh Jackman as Wolverine was both a shock and inconvenience to him because of communication errors  It was decided early on that they needed a  Huge Actor  to play the popular char...</td>\n",
       "      <td></td>\n",
       "      <td>shittymoviedetails</td>\n",
       "      <td>1970-01-01 00:00:01.619229514</td>\n",
       "      <td>YouGoThatWayIllGoHom</td>\n",
       "      <td>False</td>\n",
       "      <td>1</td>\n",
       "      <td>4</td>\n",
       "      <td>2021-04-23</td>\n",
       "      <td>The casting of Hugh Jackman as Wolverine was both a shock and inconvenience to him because of communication errors  It was decided early on that they needed a  Huge Actor  to play the popular char...</td>\n",
       "    </tr>\n",
       "    <tr>\n",
       "      <th>6</th>\n",
       "      <td>I can t believe they spent  90 million on this movie and no one pointed out that there s a typo in the title</td>\n",
       "      <td></td>\n",
       "      <td>shittymoviedetails</td>\n",
       "      <td>1970-01-01 00:00:01.619228584</td>\n",
       "      <td>invertedparadX</td>\n",
       "      <td>False</td>\n",
       "      <td>1</td>\n",
       "      <td>166</td>\n",
       "      <td>2021-04-23</td>\n",
       "      <td>I can t believe they spent  90 million on this movie and no one pointed out that there s a typo in the title.</td>\n",
       "    </tr>\n",
       "    <tr>\n",
       "      <th>5</th>\n",
       "      <td>In Mortal Kombat  2021  in this scene you can clearly see a crew member in the shot  Very irresponsible</td>\n",
       "      <td></td>\n",
       "      <td>shittymoviedetails</td>\n",
       "      <td>1970-01-01 00:00:01.619227354</td>\n",
       "      <td>MyHandsAreGone</td>\n",
       "      <td>False</td>\n",
       "      <td>1</td>\n",
       "      <td>0</td>\n",
       "      <td>2021-04-23</td>\n",
       "      <td>In Mortal Kombat  2021  in this scene you can clearly see a crew member in the shot  Very irresponsible .</td>\n",
       "    </tr>\n",
       "    <tr>\n",
       "      <th>4</th>\n",
       "      <td>johnny cage could not appear in mortal kombat due to scheduling conflicts shooting the real world  back at it like a crack addict</td>\n",
       "      <td></td>\n",
       "      <td>shittymoviedetails</td>\n",
       "      <td>1970-01-01 00:00:01.619227056</td>\n",
       "      <td>invertedparadX</td>\n",
       "      <td>False</td>\n",
       "      <td>1</td>\n",
       "      <td>0</td>\n",
       "      <td>2021-04-23</td>\n",
       "      <td>johnny cage could not appear in mortal kombat due to scheduling conflicts shooting the real world  back at it like a crack addict.</td>\n",
       "    </tr>\n",
       "    <tr>\n",
       "      <th>3</th>\n",
       "      <td>In Frozen  2013  Anna asks  Why have a ballroom with no balls   This is a direct reference to there being no males in the kingdom</td>\n",
       "      <td></td>\n",
       "      <td>shittymoviedetails</td>\n",
       "      <td>1970-01-01 00:00:01.619223942</td>\n",
       "      <td>aceswild347</td>\n",
       "      <td>False</td>\n",
       "      <td>1</td>\n",
       "      <td>6</td>\n",
       "      <td>2021-04-23</td>\n",
       "      <td>In Frozen  2013  Anna asks  Why have a ballroom with no balls   This is a direct reference to there being no males in the kingdom .</td>\n",
       "    </tr>\n",
       "    <tr>\n",
       "      <th>2</th>\n",
       "      <td>In Bumblebee  2018   we see a roll of toilet paper  which is used to get rid of shit  in the revenge scene  This is a reference to how this reboot is getting rid of the shit that Michael Bay made ...</td>\n",
       "      <td></td>\n",
       "      <td>shittymoviedetails</td>\n",
       "      <td>1970-01-01 00:00:01.619220585</td>\n",
       "      <td>dontcommitnorespawn</td>\n",
       "      <td>False</td>\n",
       "      <td>1</td>\n",
       "      <td>3</td>\n",
       "      <td>2021-04-23</td>\n",
       "      <td>In Bumblebee  2018   we see a roll of toilet paper  which is used to get rid of shit  in the revenge scene  This is a reference to how this reboot is getting rid of the shit that Michael Bay made ...</td>\n",
       "    </tr>\n",
       "    <tr>\n",
       "      <th>24</th>\n",
       "      <td>Your mama took you to karate class next door to a dollar store  next thing you know  you fighting dudes from another dimension throwing fire balls  amp  ice spears  like sensei didn t teach you an...</td>\n",
       "      <td></td>\n",
       "      <td>shittymoviedetails</td>\n",
       "      <td>1970-01-01 00:00:01.619284669</td>\n",
       "      <td>invertedparadX</td>\n",
       "      <td>False</td>\n",
       "      <td>1</td>\n",
       "      <td>0</td>\n",
       "      <td>2021-04-24</td>\n",
       "      <td>Your mama took you to karate class next door to a dollar store  next thing you know  you fighting dudes from another dimension throwing fire balls  amp  ice spears  like sensei didn t teach you an...</td>\n",
       "    </tr>\n",
       "  </tbody>\n",
       "</table>\n",
       "</div>"
      ],
      "text/plain": [
       "                                                                                                                                                                                                      title  \\\n",
       "0                                                                                                                        In the movie Bullworth  1998   a police officer is seen not shooting black people    \n",
       "13                        After the commercial success of Kitchen Gun  and Toilet Grenade   Peter Serafinowicz expanded his business to offer a larger variety of cleaning products in John Wick  Chapter 2   \n",
       "23                                                                                                                                           Guy makes his interestingly bizarre rendition that s addictive   \n",
       "22                                                                                  The film title No Country For Old Men  2007  refers to the fact that Florida is not  in fact  a country  It is a state    \n",
       "21                     In 2001  A Space Odyssey  1968   much of the film focuses on characters walking slowly  in silence  This is a reference to the fact that holy fuck this movie is boring as all hell    \n",
       "20  In Captain America   The Winter Soldier  2014   the Winter Soldier looks like a crab in this scene  This is a reference to the actors name Sebastian  who is a crab in another Disney film  The Litt...   \n",
       "19                                                                                                  In Justice League  2021  the kid from the liquor store whom Bruce was referring to is actually McLovin    \n",
       "18                                                                                                                         Captain America 4  TBA  has recently been announced  Here is the leaked trailer    \n",
       "17                                                                                  In The Curious Case of Benjamin Button  2008  Brad Pitt became old because fight clubs can really take a toll on a guy    \n",
       "16                                                                                                          in mortal kombat  Hanzo says Cole Young  don t let the bloodline die  in Japanese   Cole Young    \n",
       "15                                    In The Falcon And The Winter Soldier  Sam becomes the new Captain America despite having no super soldier serum is a reference to the practice of affirmative action    \n",
       "14                                                                                                                                                                     Dbz Budokai Opening Story Mode  PS2    \n",
       "12                                                                                                                                                      r shittymoviedetails hit 600k subscribers yesterday   \n",
       "1   The Nightmare Before Christmas  1993   when he arrives at Christmas Town  Jack sings  what s this  There s white things in the air   22 seconds later he sings  there are children throwing snowball...   \n",
       "11  In Game of Thrones Season 8  Daenerys  last words are  we break the wheel together  which spelled backwards says  rehtegot leehw eht kaerb ew  which doesn t make sense just like the rest of season 8    \n",
       "10                                                                                            In Mortal Kombat  2021  the garden gnomes give the main characters the creeps because they cum on their hands   \n",
       "9           In the movie Stowaway 2021  a crew is traveling to Mars  The journey is supposed to take 2 years  Everyone is so boring  that the leading character exits the spaceship and dies alone outside    \n",
       "8                                                                         American Beauty was supposed to be a prequel to Se7en but the plot got diluted so bad that it became an entirely different movie    \n",
       "7   The casting of Hugh Jackman as Wolverine was both a shock and inconvenience to him because of communication errors  It was decided early on that they needed a  Huge Actor  to play the popular char...   \n",
       "6                                                                                              I can t believe they spent  90 million on this movie and no one pointed out that there s a typo in the title   \n",
       "5                                                                                                  In Mortal Kombat  2021  in this scene you can clearly see a crew member in the shot  Very irresponsible    \n",
       "4                                                                         johnny cage could not appear in mortal kombat due to scheduling conflicts shooting the real world  back at it like a crack addict   \n",
       "3                                                                        In Frozen  2013  Anna asks  Why have a ballroom with no balls   This is a direct reference to there being no males in the kingdom    \n",
       "2   In Bumblebee  2018   we see a roll of toilet paper  which is used to get rid of shit  in the revenge scene  This is a reference to how this reboot is getting rid of the shit that Michael Bay made ...   \n",
       "24  Your mama took you to karate class next door to a dollar store  next thing you know  you fighting dudes from another dimension throwing fire balls  amp  ice spears  like sensei didn t teach you an...   \n",
       "\n",
       "   selftext           subreddit                   created_utc  \\\n",
       "0            shittymoviedetails 1970-01-01 00:00:01.619214935   \n",
       "13           shittymoviedetails 1970-01-01 00:00:01.619251458   \n",
       "23           shittymoviedetails 1970-01-01 00:00:01.619283112   \n",
       "22           shittymoviedetails 1970-01-01 00:00:01.619282093   \n",
       "21           shittymoviedetails 1970-01-01 00:00:01.619281182   \n",
       "20           shittymoviedetails 1970-01-01 00:00:01.619280462   \n",
       "19           shittymoviedetails 1970-01-01 00:00:01.619278471   \n",
       "18           shittymoviedetails 1970-01-01 00:00:01.619277392   \n",
       "17           shittymoviedetails 1970-01-01 00:00:01.619275733   \n",
       "16           shittymoviedetails 1970-01-01 00:00:01.619270578   \n",
       "15           shittymoviedetails 1970-01-01 00:00:01.619266974   \n",
       "14           shittymoviedetails 1970-01-01 00:00:01.619259493   \n",
       "12           shittymoviedetails 1970-01-01 00:00:01.619248539   \n",
       "1            shittymoviedetails 1970-01-01 00:00:01.619217853   \n",
       "11           shittymoviedetails 1970-01-01 00:00:01.619248335   \n",
       "10           shittymoviedetails 1970-01-01 00:00:01.619238570   \n",
       "9            shittymoviedetails 1970-01-01 00:00:01.619237800   \n",
       "8            shittymoviedetails 1970-01-01 00:00:01.619234366   \n",
       "7            shittymoviedetails 1970-01-01 00:00:01.619229514   \n",
       "6            shittymoviedetails 1970-01-01 00:00:01.619228584   \n",
       "5            shittymoviedetails 1970-01-01 00:00:01.619227354   \n",
       "4            shittymoviedetails 1970-01-01 00:00:01.619227056   \n",
       "3            shittymoviedetails 1970-01-01 00:00:01.619223942   \n",
       "2            shittymoviedetails 1970-01-01 00:00:01.619220585   \n",
       "24           shittymoviedetails 1970-01-01 00:00:01.619284669   \n",
       "\n",
       "                  author  is_self  score  num_comments  timestamp  \\\n",
       "0              Wuz314159    False      1             1 2021-04-23   \n",
       "13              Raoshard    False      1            46 2021-04-24   \n",
       "23           TitsAmazing    False      1             0 2021-04-24   \n",
       "22       NuclearJesusMan    False      1             5 2021-04-24   \n",
       "21       NuclearJesusMan    False      1            20 2021-04-24   \n",
       "20       KennKennyKenKen    False      1            61 2021-04-24   \n",
       "19             pale guy     False      1             0 2021-04-24   \n",
       "18       KennKennyKenKen    False      1            13 2021-04-24   \n",
       "17             pale guy     False      1             0 2021-04-24   \n",
       "16        invertedparadX    False      1             0 2021-04-24   \n",
       "15     endgamespoilerbot    False      1             1 2021-04-24   \n",
       "14   Aggressive Touch635    False      1             2 2021-04-24   \n",
       "12           TrendingBot    False      1             0 2021-04-24   \n",
       "1          Nerf Herder86    False      1             0 2021-04-23   \n",
       "11          liquidInanna    False      1             4 2021-04-24   \n",
       "10               mtndew7     True      1             1 2021-04-23   \n",
       "9                Gyros45    False      1             2 2021-04-23   \n",
       "8     Dingus fartsniffer     True      1             2 2021-04-23   \n",
       "7   YouGoThatWayIllGoHom    False      1             4 2021-04-23   \n",
       "6         invertedparadX    False      1           166 2021-04-23   \n",
       "5         MyHandsAreGone    False      1             0 2021-04-23   \n",
       "4         invertedparadX    False      1             0 2021-04-23   \n",
       "3            aceswild347    False      1             6 2021-04-23   \n",
       "2    dontcommitnorespawn    False      1             3 2021-04-23   \n",
       "24        invertedparadX    False      1             0 2021-04-24   \n",
       "\n",
       "                                                                                                                                                                                                   all_text  \n",
       "0                                                                                                                      In the movie Bullworth  1998   a police officer is seen not shooting black people .   \n",
       "13                      After the commercial success of Kitchen Gun  and Toilet Grenade   Peter Serafinowicz expanded his business to offer a larger variety of cleaning products in John Wick  Chapter 2.   \n",
       "23                                                                                                                                         Guy makes his interestingly bizarre rendition that s addictive.   \n",
       "22                                                                                The film title No Country For Old Men  2007  refers to the fact that Florida is not  in fact  a country  It is a state .   \n",
       "21                   In 2001  A Space Odyssey  1968   much of the film focuses on characters walking slowly  in silence  This is a reference to the fact that holy fuck this movie is boring as all hell .   \n",
       "20  In Captain America   The Winter Soldier  2014   the Winter Soldier looks like a crab in this scene  This is a reference to the actors name Sebastian  who is a crab in another Disney film  The Litt...  \n",
       "19                                                                                                In Justice League  2021  the kid from the liquor store whom Bruce was referring to is actually McLovin .   \n",
       "18                                                                                                                       Captain America 4  TBA  has recently been announced  Here is the leaked trailer .   \n",
       "17                                                                                In The Curious Case of Benjamin Button  2008  Brad Pitt became old because fight clubs can really take a toll on a guy .   \n",
       "16                                                                                                        in mortal kombat  Hanzo says Cole Young  don t let the bloodline die  in Japanese   Cole Young .   \n",
       "15                                  In The Falcon And The Winter Soldier  Sam becomes the new Captain America despite having no super soldier serum is a reference to the practice of affirmative action .   \n",
       "14                                                                                                                                                                   Dbz Budokai Opening Story Mode  PS2 .   \n",
       "12                                                                                                                                                    r shittymoviedetails hit 600k subscribers yesterday.   \n",
       "1   The Nightmare Before Christmas  1993   when he arrives at Christmas Town  Jack sings  what s this  There s white things in the air   22 seconds later he sings  there are children throwing snowball...  \n",
       "11  In Game of Thrones Season 8  Daenerys  last words are  we break the wheel together  which spelled backwards says  rehtegot leehw eht kaerb ew  which doesn t make sense just like the rest of season...  \n",
       "10                                                                                          In Mortal Kombat  2021  the garden gnomes give the main characters the creeps because they cum on their hands.   \n",
       "9         In the movie Stowaway 2021  a crew is traveling to Mars  The journey is supposed to take 2 years  Everyone is so boring  that the leading character exits the spaceship and dies alone outside .   \n",
       "8                                                                       American Beauty was supposed to be a prequel to Se7en but the plot got diluted so bad that it became an entirely different movie .   \n",
       "7   The casting of Hugh Jackman as Wolverine was both a shock and inconvenience to him because of communication errors  It was decided early on that they needed a  Huge Actor  to play the popular char...  \n",
       "6                                                                                            I can t believe they spent  90 million on this movie and no one pointed out that there s a typo in the title.   \n",
       "5                                                                                                In Mortal Kombat  2021  in this scene you can clearly see a crew member in the shot  Very irresponsible .   \n",
       "4                                                                       johnny cage could not appear in mortal kombat due to scheduling conflicts shooting the real world  back at it like a crack addict.   \n",
       "3                                                                      In Frozen  2013  Anna asks  Why have a ballroom with no balls   This is a direct reference to there being no males in the kingdom .   \n",
       "2   In Bumblebee  2018   we see a roll of toilet paper  which is used to get rid of shit  in the revenge scene  This is a reference to how this reboot is getting rid of the shit that Michael Bay made ...  \n",
       "24  Your mama took you to karate class next door to a dollar store  next thing you know  you fighting dudes from another dimension throwing fire balls  amp  ice spears  like sensei didn t teach you an...  "
      ]
     },
     "execution_count": 24,
     "metadata": {},
     "output_type": "execute_result"
    }
   ],
   "source": [
    "#get new all-text column.\n",
    "df['all_text'] = df['title'] + '. ' + df['selftext']\n",
    "\n",
    "#check result\n",
    "df.head(25).sort_values(by = 'selftext', ascending = False)"
   ]
  },
  {
   "cell_type": "code",
   "execution_count": 25,
   "metadata": {
    "ExecuteTime": {
     "end_time": "2021-04-30T00:52:40.271742Z",
     "start_time": "2021-04-30T00:52:40.221206Z"
    },
    "scrolled": true
   },
   "outputs": [
    {
     "data": {
      "text/plain": [
       "6176                                                                                                                                                             tl dr   outraged  Michael Keaton must respond \n",
       "3713                                                             the same score that is used in the infamous  Save Martha  scene in the BvS is used in the final monologue that Diana gives to the whole world \n",
       "3829            ok so in the last spiderman movie FFH  in the final scene we see J  K  Simmons playing as J  Jonah Jameson but he also play the same role in thr first Spider Man trilogy  whats that all about\n",
       "5981                                                                                                                                                                                                       lmao\n",
       "880     in Madagascar 2005 the beach scene gloria   the hippo   come out of the box with starfish at her chest and a crab at her    underbelly    she then says   alrighty boys  funs over  to me that sound...\n",
       "                                                                                                         ...                                                                                                   \n",
       "2732                                                                                                                                                                                                           \n",
       "2731                                                                                                                                                                                                           \n",
       "2729                                                                                                                                                                                                           \n",
       "2727                                                                                                                                                                                                           \n",
       "0                                                                                                                                                                                                              \n",
       "Name: selftext, Length: 15417, dtype: object"
      ]
     },
     "execution_count": 25,
     "metadata": {},
     "output_type": "execute_result"
    }
   ],
   "source": [
    "df['selftext'].sort_values(ascending=False)"
   ]
  },
  {
   "cell_type": "code",
   "execution_count": 26,
   "metadata": {
    "ExecuteTime": {
     "end_time": "2021-04-30T00:52:40.294378Z",
     "start_time": "2021-04-30T00:52:40.274179Z"
    }
   },
   "outputs": [],
   "source": [
    "#get rid of spammy text / authors by creating stop words list -- or do this underneath,\n",
    "#in the NLP part -- time permitting"
   ]
  },
  {
   "cell_type": "markdown",
   "metadata": {},
   "source": [
    "--- \n",
    "\n",
    "### Analysis\n",
    "\n",
    "Now that we are more or less done cleaning, let's understand the density and usefulness of our content, by analyzing the volume of comments and looking for the richness of the text columns.\n",
    "\n",
    "We will be able to perform additional text analysis later on, once we have transformed (vectorized) our text.\n",
    "\n",
    "First, let's take a look at the distribution of posts by the volume of comments."
   ]
  },
  {
   "cell_type": "code",
   "execution_count": 27,
   "metadata": {
    "ExecuteTime": {
     "end_time": "2021-04-30T00:52:40.342288Z",
     "start_time": "2021-04-30T00:52:40.303992Z"
    },
    "scrolled": true
   },
   "outputs": [
    {
     "data": {
      "text/plain": [
       "0     4073\n",
       "2     2414\n",
       "1     1865\n",
       "3     1413\n",
       "4     1117\n",
       "5      657\n",
       "6      506\n",
       "7      352\n",
       "8      312\n",
       "9      233\n",
       "10     217\n",
       "11     174\n",
       "12     169\n",
       "13     127\n",
       "14     117\n",
       "15      86\n",
       "16      84\n",
       "17      68\n",
       "18      65\n",
       "20      63\n",
       "19      52\n",
       "22      44\n",
       "21      38\n",
       "23      35\n",
       "26      34\n",
       "25      29\n",
       "27      27\n",
       "24      26\n",
       "30      22\n",
       "28      21\n",
       "33      21\n",
       "36      20\n",
       "29      18\n",
       "41      17\n",
       "31      16\n",
       "35      16\n",
       "37      15\n",
       "42      13\n",
       "34      13\n",
       "32      13\n",
       "39      13\n",
       "54      12\n",
       "45      11\n",
       "51      10\n",
       "46       9\n",
       "57       9\n",
       "48       9\n",
       "44       8\n",
       "47       8\n",
       "43       7\n",
       "Name: num_comments, dtype: int64"
      ]
     },
     "execution_count": 27,
     "metadata": {},
     "output_type": "execute_result"
    }
   ],
   "source": [
    "df['num_comments'].value_counts()[:50]"
   ]
  },
  {
   "cell_type": "code",
   "execution_count": 28,
   "metadata": {
    "ExecuteTime": {
     "end_time": "2021-04-30T00:52:40.362656Z",
     "start_time": "2021-04-30T00:52:40.348846Z"
    }
   },
   "outputs": [
    {
     "data": {
      "text/plain": [
       "18.974573522734644"
      ]
     },
     "execution_count": 28,
     "metadata": {},
     "output_type": "execute_result"
    }
   ],
   "source": [
    "df['num_comments'].mean()"
   ]
  },
  {
   "cell_type": "code",
   "execution_count": 29,
   "metadata": {
    "ExecuteTime": {
     "end_time": "2021-04-30T00:52:40.395765Z",
     "start_time": "2021-04-30T00:52:40.368813Z"
    }
   },
   "outputs": [
    {
     "data": {
      "text/plain": [
       "0    0\n",
       "dtype: int64"
      ]
     },
     "execution_count": 29,
     "metadata": {},
     "output_type": "execute_result"
    }
   ],
   "source": [
    "df['num_comments'].mode()"
   ]
  },
  {
   "cell_type": "code",
   "execution_count": 30,
   "metadata": {
    "ExecuteTime": {
     "end_time": "2021-04-30T00:52:40.423137Z",
     "start_time": "2021-04-30T00:52:40.401516Z"
    },
    "scrolled": true
   },
   "outputs": [
    {
     "data": {
      "text/plain": [
       "2.0"
      ]
     },
     "execution_count": 30,
     "metadata": {},
     "output_type": "execute_result"
    }
   ],
   "source": [
    "df['num_comments'].median()"
   ]
  },
  {
   "cell_type": "code",
   "execution_count": 31,
   "metadata": {
    "ExecuteTime": {
     "end_time": "2021-04-30T00:52:40.451607Z",
     "start_time": "2021-04-30T00:52:40.426449Z"
    }
   },
   "outputs": [
    {
     "data": {
      "text/plain": [
       "3368"
      ]
     },
     "execution_count": 31,
     "metadata": {},
     "output_type": "execute_result"
    }
   ],
   "source": [
    "df['num_comments'].max()"
   ]
  },
  {
   "cell_type": "markdown",
   "metadata": {},
   "source": [
    "Judging from this, the vast majority of posts have no comments at all. The average number of comments is 18, although there are also extreme outliers exceeding 1000 comments that we expect to add noise to the model; BUT, they can also be meaningful in indicating a popular post, so we are not necessarily going to get rid of it on the merit that it may skew our data, because it may be some kind of a signal still.\n",
    "\n",
    "Let's visualize this."
   ]
  },
  {
   "cell_type": "code",
   "execution_count": 32,
   "metadata": {
    "ExecuteTime": {
     "end_time": "2021-04-30T00:52:40.786923Z",
     "start_time": "2021-04-30T00:52:40.455917Z"
    }
   },
   "outputs": [
    {
     "data": {
      "image/png": "[encoded data removed]",
      "text/plain": [
       "<Figure size 1152x576 with 1 Axes>"
      ]
     },
     "metadata": {},
     "output_type": "display_data"
    }
   ],
   "source": [
    "#code ref from Gwen's lab review lesson 4/27/2021\n",
    "\n",
    "plt.figure(figsize = (16,8));\n",
    "df['num_comments'].plot(kind='hist');\n",
    "plt.title('Number of post comments', size =20);\n",
    "plt.xticks([0, 200, 500, 1000], size=14);\n",
    "plt.yticks(size=12);\n",
    "plt.ylabel('Number of posts', size=14);"
   ]
  },
  {
   "cell_type": "markdown",
   "metadata": {},
   "source": [
    "Now let's look at distribution by authors. Let's see if any stick out as dominant, which can either mean that they are highly engaged on Reddit, or it could be a signal of spam.\n",
    "\n",
    "Further, we might want to cross-validate if any others appear across _multiple_ of our subReddits!"
   ]
  },
  {
   "cell_type": "code",
   "execution_count": 33,
   "metadata": {
    "ExecuteTime": {
     "end_time": "2021-04-30T00:52:40.820896Z",
     "start_time": "2021-04-30T00:52:40.790776Z"
    },
    "scrolled": true
   },
   "outputs": [
    {
     "data": {
      "text/plain": [
       "Numerous Lemon          282\n",
       "Tokyono                 191\n",
       "pale guy                154\n",
       "random guy somewhere    138\n",
       "klsi832                 108\n",
       "Comic Book Reader        92\n",
       "sirsquid                 82\n",
       "alizamessy               63\n",
       "VictorBlimpmuscle        53\n",
       " deleted                 50\n",
       "KscILLBILL               46\n",
       "ToyVaren                 45\n",
       "invertedparadX           43\n",
       "SpaceMyopia              41\n",
       "james 1990               40\n",
       "RayInRed                 31\n",
       "lopezjessy               30\n",
       "Jack Earth 2             26\n",
       "skyfall91404             25\n",
       "Iamnotbroke              25\n",
       "JoshuaCalledMe           24\n",
       "Russian Bagel            24\n",
       "Prize Guest              24\n",
       "zzuhruf                  23\n",
       "legalbagelbeagle         22\n",
       "KermitTheFraud92         21\n",
       "RickySmith2005           21\n",
       "ShaneMP01                20\n",
       "MattTheSmithers          19\n",
       "AnishNoor92              19\n",
       "Gyros45                  19\n",
       "SleepyGary5              19\n",
       "hearzy09                 18\n",
       "Zedfourkay               17\n",
       "SteveReddon              16\n",
       "Art0001                  16\n",
       "SilDaz                   16\n",
       "ajack762                 16\n",
       "i  am  the  light        15\n",
       "GreenEggsAndHamTyler     15\n",
       "trodrig21                15\n",
       "dartmaster666            15\n",
       "Str33twise84             15\n",
       "Knaasbiesbaas            14\n",
       "Ravenclaw 14             14\n",
       "OneSalientOversight      14\n",
       "Jaygeejaygeee            14\n",
       "Objective Menu3158       14\n",
       "Temporary Rate 3312      13\n",
       "yasshost77               13\n",
       "Name: author, dtype: int64"
      ]
     },
     "execution_count": 33,
     "metadata": {},
     "output_type": "execute_result"
    }
   ],
   "source": [
    "df['author'].value_counts()[:50] #get only unique"
   ]
  },
  {
   "cell_type": "code",
   "execution_count": 34,
   "metadata": {
    "ExecuteTime": {
     "end_time": "2021-04-30T00:52:40.848910Z",
     "start_time": "2021-04-30T00:52:40.824387Z"
    }
   },
   "outputs": [
    {
     "data": {
      "text/plain": [
       "1.7088228774107737"
      ]
     },
     "execution_count": 34,
     "metadata": {},
     "output_type": "execute_result"
    }
   ],
   "source": [
    "df['author'].value_counts().mean()"
   ]
  },
  {
   "cell_type": "markdown",
   "metadata": {},
   "source": [
    "We do have some authors that have posted hundreds of posts here, with an average author posting approximately twice. But nothing really obviously sticks out as concerning, at the moment, based on the author's handle alone -- that is, if we were looking for glaringly \"spammy\" signals with a naked eye (i.e. sans any spam detection machine like spam vs. ham). There are a few humorous handles, and also a number that show that the author's handle is \"deleted\", which we take to mean no longer active. Still, that's a small subset of the data that should have minimal bearing on it.\n",
    "\n",
    "(We can check for the word 'repost' and 'reshare' as well; although we should have hopefully gotten rid of most of that content noise by stripping out the URLs from the text fields earlier.)\n",
    "\n",
    "But how many unique authors are there?"
   ]
  },
  {
   "cell_type": "code",
   "execution_count": 35,
   "metadata": {
    "ExecuteTime": {
     "end_time": "2021-04-30T00:52:40.872684Z",
     "start_time": "2021-04-30T00:52:40.857721Z"
    },
    "scrolled": true
   },
   "outputs": [
    {
     "data": {
      "text/plain": [
       "9022"
      ]
     },
     "execution_count": 35,
     "metadata": {},
     "output_type": "execute_result"
    }
   ],
   "source": [
    "#unique authors\n",
    "#from Gwen's NLP lab review\n",
    "len(df['author'].unique())"
   ]
  },
  {
   "cell_type": "markdown",
   "metadata": {},
   "source": [
    "This checks out, given that we saw just under 2 posts / author on average earlier.\n",
    "\n",
    "What if authors post to more than one of the subreddits?"
   ]
  },
  {
   "cell_type": "code",
   "execution_count": 36,
   "metadata": {
    "ExecuteTime": {
     "end_time": "2021-04-30T00:52:40.889456Z",
     "start_time": "2021-04-30T00:52:40.877652Z"
    }
   },
   "outputs": [],
   "source": [
    "# I want to be able to do groupby's the old fashioned way! Thanks for the find to Riley Robertson!\n",
    "! pip install -U pandasql"
   ]
  },
  {
   "cell_type": "code",
   "execution_count": 37,
   "metadata": {
    "ExecuteTime": {
     "end_time": "2021-04-30T00:52:41.231052Z",
     "start_time": "2021-04-30T00:52:40.891658Z"
    }
   },
   "outputs": [],
   "source": [
    "#docstring: https://pypi.org/project/pandasql/\n",
    "from pandasql import sqldf\n",
    "pysqldf = lambda q: sqldf(q, globals())\n",
    "\n",
    "def pysqldf(q):\n",
    "    #add this to your script if you get tired of calling locals()\n",
    "    return sqldf(q, globals())"
   ]
  },
  {
   "cell_type": "code",
   "execution_count": 38,
   "metadata": {
    "ExecuteTime": {
     "end_time": "2021-04-30T00:52:41.830483Z",
     "start_time": "2021-04-30T00:52:41.233638Z"
    }
   },
   "outputs": [
    {
     "name": "stdout",
     "output_type": "stream",
     "text": [
      "   posts     subreddit                author\n",
      "0      1  MovieDetails           Godzilla   \n",
      "1      1  MovieDetails                 BMO  \n",
      "2      1  MovieDetails    Hello my name is  \n",
      "3      1  MovieDetails            Leonardo  \n",
      "4      1  MovieDetails        Reginaphalange\n"
     ]
    }
   ],
   "source": [
    "#groupby the authors by subreddit -- check query construct is returning, what we want!\n",
    "#fix this w/ Gwen's query (posted during 4/19 BH), if time, or kill\n",
    "df = df\n",
    "\n",
    "\n",
    "q = \"\"\"\n",
    "    SELECT DISTINCT\n",
    "           count(selftext) as posts,\n",
    "           subreddit,\n",
    "           author\n",
    "           \n",
    "           FROM\n",
    "              df\n",
    "           GROUP BY\n",
    "              author\n",
    "           ORDER BY\n",
    "              subreddit;\n",
    "              \n",
    "\"\"\"\n",
    "print(pysqldf(q).head())"
   ]
  },
  {
   "cell_type": "markdown",
   "metadata": {},
   "source": [
    "Let's go ahead and see when most of our posts are from."
   ]
  },
  {
   "cell_type": "code",
   "execution_count": 39,
   "metadata": {
    "ExecuteTime": {
     "end_time": "2021-04-30T00:52:42.282537Z",
     "start_time": "2021-04-30T00:52:41.833912Z"
    }
   },
   "outputs": [
    {
     "data": {
      "image/png": "[encoded data removed]",
      "text/plain": [
       "<Figure size 1152x576 with 1 Axes>"
      ]
     },
     "metadata": {},
     "output_type": "display_data"
    }
   ],
   "source": [
    "#get post age\n",
    "plt.figure(figsize = (16, 8))\n",
    "plt.title('Age of post', size = 20);\n",
    "df['timestamp'].hist();\n",
    "plt.xticks(size=15)\n",
    "plt.yticks(size=15)\n",
    "plt.ylabel('Number of posts', size = 15);"
   ]
  },
  {
   "cell_type": "markdown",
   "metadata": {},
   "source": [
    "Our posts come from September 2020 to present. ( _Note: this may be a function of how far back we scraped and not in itself meaningful. This was an attempt to find possible seasonality, but there isn't really a pattern I can establish here, and it would be more meaningful to look at a year+ worth's._ )"
   ]
  },
  {
   "cell_type": "markdown",
   "metadata": {},
   "source": [
    "Finally, let's look at the distribution of original posts, compared to reposts."
   ]
  },
  {
   "cell_type": "code",
   "execution_count": 40,
   "metadata": {
    "ExecuteTime": {
     "end_time": "2021-04-30T00:52:42.350101Z",
     "start_time": "2021-04-30T00:52:42.285705Z"
    },
    "scrolled": true
   },
   "outputs": [
    {
     "data": {
      "text/plain": [
       "False    0.94\n",
       "True     0.06\n",
       "Name: is_self, dtype: float64"
      ]
     },
     "execution_count": 40,
     "metadata": {},
     "output_type": "execute_result"
    }
   ],
   "source": [
    "df['is_self'].value_counts(normalize=True).round(2)"
   ]
  },
  {
   "cell_type": "code",
   "execution_count": 41,
   "metadata": {
    "ExecuteTime": {
     "end_time": "2021-04-30T00:52:42.364226Z",
     "start_time": "2021-04-30T00:52:42.355246Z"
    }
   },
   "outputs": [],
   "source": [
    "#strip out repost / reshare stuff (if time)"
   ]
  },
  {
   "cell_type": "markdown",
   "metadata": {},
   "source": [
    "As we can see, most posts are actually reposts in our threads, and we anticipate that the overall quality of our posts might thus be on the lower side.\n",
    "\n",
    "So how well do most posts score?\n",
    "\n",
    "(More on this here: [What do Reddit post scores mean?](https://www.reddit.com/wiki/faq#wiki_how_is_a_submission.27s_score_determined.3F).)"
   ]
  },
  {
   "cell_type": "code",
   "execution_count": 42,
   "metadata": {
    "ExecuteTime": {
     "end_time": "2021-04-30T00:52:42.388036Z",
     "start_time": "2021-04-30T00:52:42.367757Z"
    }
   },
   "outputs": [
    {
     "data": {
      "text/plain": [
       "90.47869235259778"
      ]
     },
     "execution_count": 42,
     "metadata": {},
     "output_type": "execute_result"
    }
   ],
   "source": [
    "df['score'].mean()"
   ]
  },
  {
   "cell_type": "code",
   "execution_count": 43,
   "metadata": {
    "ExecuteTime": {
     "end_time": "2021-04-30T00:52:42.675142Z",
     "start_time": "2021-04-30T00:52:42.390913Z"
    },
    "scrolled": true
   },
   "outputs": [
    {
     "data": {
      "image/png": "[encoded data removed]",
      "text/plain": [
       "<Figure size 1152x576 with 1 Axes>"
      ]
     },
     "metadata": {},
     "output_type": "display_data"
    }
   ],
   "source": [
    "#dist of scores\n",
    "plt.figure(figsize = (16,8))\n",
    "df['score'].plot(kind = 'hist');\n",
    "plt.title('Distribution of post scores', size= 20)\n",
    "plt.yticks(size=15)\n",
    "plt.xticks([0, 3500, 7000, 10_000], size=15,rotation = 90)\n",
    "plt.ylabel('Number of posts', size = 15);"
   ]
  },
  {
   "cell_type": "markdown",
   "metadata": {},
   "source": [
    "Looks like this is about all we can do, before further transformation.\n",
    "\n",
    "- - -\n",
    "\n",
    "## Part III: NLP & feature eng"
   ]
  },
  {
   "cell_type": "code",
   "execution_count": 44,
   "metadata": {
    "ExecuteTime": {
     "end_time": "2021-04-30T00:52:42.697720Z",
     "start_time": "2021-04-30T00:52:42.679415Z"
    },
    "scrolled": true
   },
   "outputs": [
    {
     "data": {
      "text/plain": [
       "Index(['title', 'selftext', 'subreddit', 'created_utc', 'author', 'is_self',\n",
       "       'score', 'num_comments', 'timestamp', 'all_text'],\n",
       "      dtype='object')"
      ]
     },
     "execution_count": 44,
     "metadata": {},
     "output_type": "execute_result"
    }
   ],
   "source": [
    "df.columns"
   ]
  },
  {
   "cell_type": "markdown",
   "metadata": {},
   "source": [
    "### NLP processing and general modeling workflow\n",
    "\n",
    "Model workflow review ( _thanks, Heather R.!_ ):\n",
    "\n",
    "1. We will perform sentiment analysis on the whole dataset and get polarity scores\n",
    "2. Vectorize (**small data leakage)\n",
    "3. We will train test split, using the sentiment scores (either filtered or compound), to set up the X matrix\n",
    "4. We will then fit-transform to X-train and transform on X-test and vectorize. Note 1: setting max features, stopwords can help control the size of the data here. Note 2: only pull out the X train, excluding sentiment scores (because only text data needs to be vectorized).\n",
    "5. Concatenate the vectorized output back w/ the original X features and sentiment scores."
   ]
  },
  {
   "cell_type": "markdown",
   "metadata": {},
   "source": [
    "### Sentiment analysis (feature eng.)\n",
    "\n",
    "OK, so we want to geta bit of an idea about the kinds of things people post about.\n",
    "\n",
    "But what is the temperature of the room? And can we tell, from the heat -- or mediocreness -- of the conversation, where our posts might belong?\n",
    "\n",
    "Let's take a look, using sentiment analysis. We are going to use VADER, which, according to General Assembly lesson material, works particularly well on social media context; and, well, Reddit is _kind of_ like social media in many regards, not the least of which is commenting, threading, participating in a community, and overall, being a bit of a public market of the stream of all of our (topical) consciousness."
   ]
  },
  {
   "cell_type": "code",
   "execution_count": 45,
   "metadata": {
    "ExecuteTime": {
     "end_time": "2021-04-30T00:52:42.732422Z",
     "start_time": "2021-04-30T00:52:42.701343Z"
    }
   },
   "outputs": [
    {
     "name": "stdout",
     "output_type": "stream",
     "text": [
      "15417\n"
     ]
    },
    {
     "data": {
      "text/plain": [
       "['In the movie Bullworth  1998   a police officer is seen not shooting black people . ',\n",
       " 'The Nightmare Before Christmas  1993   when he arrives at Christmas Town  Jack sings  what s this  There s white things in the air   22 seconds later he sings  there are children throwing snowballs instead of throwing heads   This is because Danny Elfman was deaf and can t hear what he just sang. ',\n",
       " 'In Bumblebee  2018   we see a roll of toilet paper  which is used to get rid of shit  in the revenge scene  This is a reference to how this reboot is getting rid of the shit that Michael Bay made in the first 5 Transformers movies . ',\n",
       " 'In Frozen  2013  Anna asks  Why have a ballroom with no balls   This is a direct reference to there being no males in the kingdom . ',\n",
       " 'johnny cage could not appear in mortal kombat due to scheduling conflicts shooting the real world  back at it like a crack addict. ',\n",
       " 'In Mortal Kombat  2021  in this scene you can clearly see a crew member in the shot  Very irresponsible . ',\n",
       " 'I can t believe they spent  90 million on this movie and no one pointed out that there s a typo in the title. ',\n",
       " 'The casting of Hugh Jackman as Wolverine was both a shock and inconvenience to him because of communication errors  It was decided early on that they needed a  Huge Actor  to play the popular character  The Australians had accents  so  Huge Actman  was cast  Then he had to lift weights and stuff . ',\n",
       " 'American Beauty was supposed to be a prequel to Se7en but the plot got diluted so bad that it became an entirely different movie . ',\n",
       " 'In the movie Stowaway 2021  a crew is traveling to Mars  The journey is supposed to take 2 years  Everyone is so boring  that the leading character exits the spaceship and dies alone outside . ',\n",
       " 'In Mortal Kombat  2021  the garden gnomes give the main characters the creeps because they cum on their hands. ',\n",
       " 'In Game of Thrones Season 8  Daenerys  last words are  we break the wheel together  which spelled backwards says  rehtegot leehw eht kaerb ew  which doesn t make sense just like the rest of season 8 . ',\n",
       " ' r shittymoviedetails hit 600k subscribers yesterday. ',\n",
       " 'After the commercial success of Kitchen Gun  and Toilet Grenade   Peter Serafinowicz expanded his business to offer a larger variety of cleaning products in John Wick  Chapter 2. ',\n",
       " 'Dbz Budokai Opening Story Mode  PS2 . ',\n",
       " 'In The Falcon And The Winter Soldier  Sam becomes the new Captain America despite having no super soldier serum is a reference to the practice of affirmative action . ',\n",
       " 'in mortal kombat  Hanzo says Cole Young  don t let the bloodline die  in Japanese   Cole Young . ',\n",
       " 'In The Curious Case of Benjamin Button  2008  Brad Pitt became old because fight clubs can really take a toll on a guy . ',\n",
       " 'Captain America 4  TBA  has recently been announced  Here is the leaked trailer . ',\n",
       " 'In Justice League  2021  the kid from the liquor store whom Bruce was referring to is actually McLovin . ',\n",
       " 'In Captain America   The Winter Soldier  2014   the Winter Soldier looks like a crab in this scene  This is a reference to the actors name Sebastian  who is a crab in another Disney film  The Little Mermaid  1989  . ',\n",
       " 'In 2001  A Space Odyssey  1968   much of the film focuses on characters walking slowly  in silence  This is a reference to the fact that holy fuck this movie is boring as all hell . ',\n",
       " 'The film title No Country For Old Men  2007  refers to the fact that Florida is not  in fact  a country  It is a state . ',\n",
       " 'Guy makes his interestingly bizarre rendition that s addictive. ',\n",
       " 'Your mama took you to karate class next door to a dollar store  next thing you know  you fighting dudes from another dimension throwing fire balls  amp  ice spears  like sensei didn t teach you any of this shit. ',\n",
       " 'I just watched Saving Private Ryan and I can t get over how much of a pussy this guy is . ',\n",
       " 'In  Me  Earl  amp  The Dying Girl   2015  the narrator tells us that Rachel survives the story but later on we learn that she dies of cancer  this is an impressive example of a psych ayyyy gottim       . ',\n",
       " 'In MORTAL KOMBAT  2021   Bi Han  Sub Zero  murders Hanzo Hasashi s  Scorpion  family  and torments him before killing him and sending him to Hell  Hanzo s suffering is an inside Mortal Kombat reference to the fact that they just showed us the best part of the movie  and the rest is terrible . ',\n",
       " 'In the movie  Inglourious Basterds  the phrase  inglorious bastards  is spelled incorrectly  It is because Quentin Tarantino is a big dumb idiot head . ',\n",
       " 'in the lion king 1   insert year here  mickey mouse did a cameo easter egg in the stars  like  he was jealous of mufasa that much he had to plagiarized his death . ',\n",
       " 'In Zack Snyder s Justice League  there is a scene where Aquaman swims away which is followed by some women on the shore singing  I didn t watch the whole scene because it was weird and I don t speak Norwegian or Swedish or whatever and didn t understand what the fuck they were doing . ',\n",
       " 'In Star Wars   The last Jedi  2017  when Luke Skywalker said  Amazing  everything blablablablabla  I don t fucking remember  was wrong  It was actually a subtle nod to rian jhonson due to nothing in the movie was done right. ',\n",
       " 'In Toy Story 2  1999   Buzz tells Woody  Life s only worth living if you re being loved by a kid   This is because Buzz is a paedophile . ',\n",
       " 'Gary Oldman  burn victim  earned so much money from Hannibal  2001  that he was able to afford reconstructive facial surgery. ',\n",
       " 'During the bar scene in Suicide Squad  2016   Harley Quinn calls Kitana  ninja  and asks if she wants  Sake   This implies Harley is a racist. ',\n",
       " 'Due to this blatant misspelling of Beanaddict Cucumberbitch s name Disney had to recall thousands of posters for the new Dr  Strange movie . ',\n",
       " 'At the end of the Monster Hunter movie  Gore Magala shows up  The production team deliberately left Gore Magala s feelers  antenna  out of the film as a nod to the fact that while playing MH Generations  after 30 hunts  Gore Magala refused to give me any feelers as hunt rewards . ',\n",
       " 'In ALIEN  1978   Jonesy the cat jumps out of a locker  hissing  which frightens Harry Dean Stanton  This is the film s subtle nod to the fact that cats have sharp teeth and claws  and when they jump out of stuff at you  it s fucking terrifying . ',\n",
       " 'In the film ALIEN  1978   Jonesy the cat jumps out of a locker  frightening Harry Dean Stanton  This is a reference to the fact that cats have sharp teeth and claws  and when they jump out of stuff at you  it s fucking terrifying . ',\n",
       " 'In Avengers Endgame  2019   Korg is shown playing on a PS4  even though it is 2025  This is because the PS5 is still out of stock . ',\n",
       " 'The film Holes  2003   about pre teen boys in detention forced to dig dirt  could have been called  My Weird Detention   or  The Dig  or  Summer Shoveling  or literally anything other than  Holes   But no  they just HAD to make everyone uncomfortable and call it  Holes   2003  . ',\n",
       " 'Vince Gilligan reveals a small detail from Breaking Bad. ',\n",
       " 'In The Dark Knight Rises  2012  Batman comes back after eight years  unlike my dad . ',\n",
       " 'In Star Wars  Episode IV   A New Hope  1977   Mark Hamill based his portrayal of the protagonist on Luke Skywalker  a character who appeared throughout the screenplay for Star Wars  Episode IV   A New Hope . ',\n",
       " 'In Marvel s new movie the title character has red hair and is named Black Widow  an arachnoid which practices animal cannibalisms  This is a reference to DC s Aquaman where the character Mera is played by Amber Heard  a redhead who abused her ex husband . ',\n",
       " 'In the movie Zack Snyder s Justice League  Lois Lane hugs Clark Kent after his resurrection and says to him  You smell good   This is because she loves the smell of ancient genesis chamber swamp and unwashed  decaying man sweat . ',\n",
       " 'Ben Shapiro is playing Jonny 2x4 in the live action remake of Ed  Edd  and Eddy . ',\n",
       " 'In man of steel  2013  the movie ends abruptly at 11 37  this is because I got bored of it and turned on smallville instead. ',\n",
       " 'Beginning in Star Wars  Episode 3  palpatine exclusively wears black robes  This is because he is in mourning  as he loves democracy  and democracy has died . ',\n",
       " 'In Sound of Metal  2019   this kid looks straight at the camera  This is because he is bli   wait  wrong sense . ',\n",
       " ' the nineties was weird bruh    Goro  mortal kombat . ',\n",
       " 'This man plays  sports  in Queens gambit. ',\n",
       " 'Spock and Brokeback Mountain are basically the same movie if you trade ear for hat . ',\n",
       " 'The title of Transformers Last Knight  isn t actually about the last night of a battle or about a drunken stupor Katy Perry style . There s a  K  in the name which means its actually about a protector  a sentry    a hero  and not about a time of day like most people think  Dont feel ashamed if you didnt notice the  K  in the title  It was super subtle and tricky  The movie came out like 5 years ago and I just figured it out now  after painstaking research  Its named this way because Marky Mark was the last vestige of hope for a shitty movie series that for some reason  which scientists and movie critics still cant understand  people paid to see',\n",
       " 'In PULP FICTION  1994   director Quentin Tarantino focuses several shots on Uma Thurman s bare feet to convey a sense of confident vulnerability and ease and literally no other reason . ',\n",
       " 'In the lion king 1 1 2  you can see a Mackey mouse head in the top right  It was meant to be a cock and balls to follow Disney s long tradition of putting sex stuff in kids movies  but management caught it before release and made them change it. ',\n",
       " 'In the lion king 1 1 2  you can see a Mickey Mouse head in the top right  It was meant to be a cock and balls to follow Disney s long tradition of putting sex stuff in kids movies  but management caught it before release and made them change it. ',\n",
       " 'In the new Mortal Kombat movie they foreshadow the consequences of Hanzo not brining the buckets and using the elements that bring life. ',\n",
       " 'In Joker  2019   before the show starts  Murray tells Arthur that cursing isn t allowed  However  during the show  Arthur says  You get what you fucking deserve   This may indicate that Arthur might not like Murray . ',\n",
       " 'The 2021 film Mortal Kombat was named as such because everyone dies in Kombat  Namibia . ',\n",
       " 'The  I Am Legend  script originally featured aliens  but after a few days of shooting they were cut because of the lack of budget for alien costumes and make up. ',\n",
       " 'In Terminator 2  1991   the T 1000 does not find his target initially  because he is looking for John Connor instead of Waldo Connor. ',\n",
       " 'T D A T  came out on May 28  2004 making it 6 174 days since its supposed day after tomorrow  Checkmate Scientists . ',\n",
       " 'In Cars 2  2011   a field of oil rigs  run by lemons  are shown placed in The Pacific Ocean  This implies that oil is car s blood  and that the lemons are vampires . ',\n",
       " 'In Transformers  2007   Megatron has helped the human race  as explained in this scene  more than Optimus ever did . ',\n",
       " 'In The Sound of Music  1965   The Von Trapps were secretly basketball stars  They escaped Austria so the Nazis couldn t steal their mad hoops skills . ',\n",
       " 'In Mortal Kombat  2021  Theres a reference to Mortal Kombat  What a fucking concept. ',\n",
       " 'In Mortal Kombat  2021   there is a boring office scene at the start of the movie  Then I realized I was watching an advert  so I changed channels . ',\n",
       " 'In The Sound of Music  1965   The Von Trapps were secretly basketball stars  They escaped Austria so the Nazis couldn t utilize their skills for evil . ',\n",
       " 'In Breakin  2  Electric Boogaloo  1984   the main character has a creepy doll  This isn t really a detail  I just wanted to highlight the fact that a movie called Breakin  2  Electric Boogaloo actually exists . ',\n",
       " 'In Fantastic Beasts and Where to Find Them  2016   the roads have massive cracks in them  Thus the movie is an accurate representation of the general quality of roads in New York City . ',\n",
       " 'In Fantastic Beasts and Where to Find Them  2016   the roads have massive cracks in them  Therefore the movie accurately depicts the quality of roads in New York City . ',\n",
       " 'In Mortal Kombat  2021   a bunch of people beat each other up  This is a reference to the title of movie . ',\n",
       " 'In Fantastic Beasts and Where to Find Them  2016   the roads have massive cracks in them  Thus the movie accurately depicts the quality of roads in NYC . ',\n",
       " 'Before Steppenwolf was came to Earth for the Mother Box  Bumblebee gave it to Sam Witwicky for safekeeping . ',\n",
       " 'Despite their best efforts to make a movie so bad that no one would ever want to see a mortal kombat movie again  the producers of the movie mortal kombat annihilation  1997  failed and now a new MK movie was released  Someone will have to make a movie even worse to kill this movie franchise . ',\n",
       " 'Jack Nicholson s line   You can t handle the truth   in A Few Good Men was inspired by the script  which had those exact words . ',\n",
       " 'The 3 dots in the title of the Neil Breen movie  I am here    now   2009  are a reference to the famous line in the movie mortal kombat annihilation  too bad you    will die    so that the public would be warned that the movie is also a crappy movie . ',\n",
       " 'Mortal Kombat  2021  is based on a video game from 1992 with the same name  This is so that people watch it without realizing how bad the quality is . ',\n",
       " 'Have you seen the snyder cut of the 2021 MortalKombat Movie . ',\n",
       " 'Fun fact  when Shang Tsung was sucking kung Lao soul you can hear soultrain by Ybn Nahmir. ',\n",
       " 'In Rocky  1976   Rocky is told  Women weaken legs   This is why he beats his meat . ',\n",
       " 'In Mortal Kombat  2021  Australian actor Josh Lawson plays a criminal  Way to avoid playing against type  there  Josh . ',\n",
       " 'In Mortal Kombat  2021   Australian actor Josh Lawson plays a criminal  Way to play against type  there  Josh . ',\n",
       " 'Many Disney films feature an Easter egg known as  hidden Mickey ears   This scene from Iron Man 2  2010  is a perfect example  as Mickey s ears are hidden . ',\n",
       " 'In No Country For Old Men  2007  Anton Chigurh drinks milk from straight from the bottle  This symbolises that Chigurh was in fact thirsty  resulting in him drinking milk he found in the fridge . ',\n",
       " 'In  Ben 10  Alien Swarm   2009   wait  there s a Ben 10 live action adaptation . ',\n",
       " ' Time  is said exactly 99 times in  In Time   2011   It would have been an even 100 but they ran out of time . ',\n",
       " 'In the movie  Godzilla vs Kong   2021  Godzilla does in fact fight Kong  This is a reference to the vs in the title  which is used to declare a fight between 2 or more parties  like Batman vs Superman  or me vs my ex wife in court where she took everything I own  that vile bitch. ',\n",
       " 'Although the babies in the baby geniuses franchise of movies are geniuses  the scriptwriters for those movies are really dumb  because the stories of those movies are super crappy . ',\n",
       " 'In the movie Dumb  amp  Dumber  1994  we re never told which character is Dumb  and which is Dumber  because at any moment one can be Dumber than the other . ',\n",
       " 'According to Batman The Killing Joke  2016  Batman and the Joker are eskimo brothers . ',\n",
       " 'Will Smith asks  So we some kind of Suicide Squad   in Suicide Squad  2016  as he was confused and thought he had signed up for a Marvel movie. ',\n",
       " 'In Aquaman  2018   Jason Mamoa foreshadows Amber Heard s IRL boyfriend s thoughts  JusticeForJohnnyDepp. ',\n",
       " '    And a message from Ryder from GTA San Andreas on the left grave leaving a final message for CJ. ',\n",
       " 'In Batman  amp  Robin  1997  Mr  Freeze claims that everything freezes  This is a reference to the fact that he doesn t realize Vodka won t freeze  making him a fucking dumbass . ',\n",
       " 'Rocketman  2019  was supposed to be about the life and career of Elton John  However  I was treated by Harland Williams going to space instead  This is because Justin the DVD rental worker mixed the two movies up  clueless of which one s the Elton John biography  Thanks a lot  Justin  You idiot . ',\n",
       " 'The Prequels were secretly masterpieces filled with profound subtexts and subtle messages . ',\n",
       " 'In the new movie  Nobody  2021   Bob Odenkirk plays a young woman who comes to in a roadside diner with no idea where she is or how she got there  Split between two timelines   oh wait  no  that s 88  2015   the other movie with Christopher Lloyd and Michael Ironside. ',\n",
       " 'To best play Groot in the MCU  Vin Diesel had a special script which contained actual lines for Groot  In the films  he exclusively says  I am Groot  because trees can t read and neither can Vin Diesel . ']"
      ]
     },
     "execution_count": 45,
     "metadata": {},
     "output_type": "execute_result"
    }
   ],
   "source": [
    "#First, convert to a list of strings; full reference in this entire section to the sentiment analysis lesson from Heather Robbins\n",
    "corpus = list(df['all_text'])\n",
    "while(\"\" in corpus) : corpus.remove(\"\") #from: https://www.geeksforgeeks.org/python-remove-empty-strings-from-list-of-strings/\n",
    "print(len(corpus))\n",
    "corpus[:100]"
   ]
  },
  {
   "cell_type": "markdown",
   "metadata": {},
   "source": [
    "Looks like we generated a corpus of just over 15000 documents.\n",
    "\n",
    "We'll instantiate our VADER analyzer and check it out by producing some polarity scores on a post."
   ]
  },
  {
   "cell_type": "code",
   "execution_count": 46,
   "metadata": {
    "ExecuteTime": {
     "end_time": "2021-04-30T00:52:42.783888Z",
     "start_time": "2021-04-30T00:52:42.740970Z"
    }
   },
   "outputs": [
    {
     "name": "stdout",
     "output_type": "stream",
     "text": [
      "{'neg': 0.0, 'neu': 0.932, 'pos': 0.068, 'compound': 0.3612}\n",
      "In Captain America   The Winter Soldier  2014   the Winter Soldier looks like a crab in this scene  This is a reference to the actors name Sebastian  who is a crab in another Disney film  The Little Mermaid  1989  . \n"
     ]
    }
   ],
   "source": [
    "#sentiment analysis\n",
    "#instantiate VADER\n",
    "vader = SentimentIntensityAnalyzer()\n",
    "\n",
    "#Get polarity scores for a random post for a quick check\n",
    "print(vader.polarity_scores(corpus[20]))\n",
    "\n",
    "print(corpus[20])"
   ]
  },
  {
   "cell_type": "code",
   "execution_count": 47,
   "metadata": {
    "ExecuteTime": {
     "end_time": "2021-04-30T00:52:42.796248Z",
     "start_time": "2021-04-30T00:52:42.786488Z"
    },
    "scrolled": true
   },
   "outputs": [
    {
     "data": {
      "text/plain": [
       "list"
      ]
     },
     "execution_count": 47,
     "metadata": {},
     "output_type": "execute_result"
    }
   ],
   "source": [
    "type(corpus)"
   ]
  },
  {
   "cell_type": "markdown",
   "metadata": {},
   "source": [
    "Now let's do this for all of our data."
   ]
  },
  {
   "cell_type": "code",
   "execution_count": 48,
   "metadata": {
    "ExecuteTime": {
     "end_time": "2021-04-30T00:52:52.132934Z",
     "start_time": "2021-04-30T00:52:42.798128Z"
    }
   },
   "outputs": [
    {
     "data": {
      "text/html": [
       "<div>\n",
       "<style scoped>\n",
       "    .dataframe tbody tr th:only-of-type {\n",
       "        vertical-align: middle;\n",
       "    }\n",
       "\n",
       "    .dataframe tbody tr th {\n",
       "        vertical-align: top;\n",
       "    }\n",
       "\n",
       "    .dataframe thead th {\n",
       "        text-align: right;\n",
       "    }\n",
       "</style>\n",
       "<table border=\"1\" class=\"dataframe\">\n",
       "  <thead>\n",
       "    <tr style=\"text-align: right;\">\n",
       "      <th></th>\n",
       "      <th>neg</th>\n",
       "      <th>neu</th>\n",
       "      <th>pos</th>\n",
       "      <th>compound</th>\n",
       "      <th>all_text</th>\n",
       "    </tr>\n",
       "  </thead>\n",
       "  <tbody>\n",
       "    <tr>\n",
       "      <th>0</th>\n",
       "      <td>0.000</td>\n",
       "      <td>1.000</td>\n",
       "      <td>0.0</td>\n",
       "      <td>0.0000</td>\n",
       "      <td>In the movie Bullworth  1998   a police officer is seen not shooting black people .</td>\n",
       "    </tr>\n",
       "    <tr>\n",
       "      <th>1</th>\n",
       "      <td>0.000</td>\n",
       "      <td>1.000</td>\n",
       "      <td>0.0</td>\n",
       "      <td>0.0000</td>\n",
       "      <td>The Nightmare Before Christmas  1993   when he arrives at Christmas Town  Jack sings  what s this  There s white things in the air   22 seconds later he sings  there are children throwing snowball...</td>\n",
       "    </tr>\n",
       "    <tr>\n",
       "      <th>2</th>\n",
       "      <td>0.209</td>\n",
       "      <td>0.791</td>\n",
       "      <td>0.0</td>\n",
       "      <td>-0.8910</td>\n",
       "      <td>In Bumblebee  2018   we see a roll of toilet paper  which is used to get rid of shit  in the revenge scene  This is a reference to how this reboot is getting rid of the shit that Michael Bay made ...</td>\n",
       "    </tr>\n",
       "    <tr>\n",
       "      <th>3</th>\n",
       "      <td>0.173</td>\n",
       "      <td>0.827</td>\n",
       "      <td>0.0</td>\n",
       "      <td>-0.5267</td>\n",
       "      <td>In Frozen  2013  Anna asks  Why have a ballroom with no balls   This is a direct reference to there being no males in the kingdom .</td>\n",
       "    </tr>\n",
       "    <tr>\n",
       "      <th>4</th>\n",
       "      <td>0.104</td>\n",
       "      <td>0.797</td>\n",
       "      <td>0.1</td>\n",
       "      <td>-0.0258</td>\n",
       "      <td>johnny cage could not appear in mortal kombat due to scheduling conflicts shooting the real world  back at it like a crack addict.</td>\n",
       "    </tr>\n",
       "  </tbody>\n",
       "</table>\n",
       "</div>"
      ],
      "text/plain": [
       "     neg    neu  pos  compound  \\\n",
       "0  0.000  1.000  0.0    0.0000   \n",
       "1  0.000  1.000  0.0    0.0000   \n",
       "2  0.209  0.791  0.0   -0.8910   \n",
       "3  0.173  0.827  0.0   -0.5267   \n",
       "4  0.104  0.797  0.1   -0.0258   \n",
       "\n",
       "                                                                                                                                                                                                  all_text  \n",
       "0                                                                                                                     In the movie Bullworth  1998   a police officer is seen not shooting black people .   \n",
       "1  The Nightmare Before Christmas  1993   when he arrives at Christmas Town  Jack sings  what s this  There s white things in the air   22 seconds later he sings  there are children throwing snowball...  \n",
       "2  In Bumblebee  2018   we see a roll of toilet paper  which is used to get rid of shit  in the revenge scene  This is a reference to how this reboot is getting rid of the shit that Michael Bay made ...  \n",
       "3                                                                     In Frozen  2013  Anna asks  Why have a ballroom with no balls   This is a direct reference to there being no males in the kingdom .   \n",
       "4                                                                      johnny cage could not appear in mortal kombat due to scheduling conflicts shooting the real world  back at it like a crack addict.   "
      ]
     },
     "execution_count": 48,
     "metadata": {},
     "output_type": "execute_result"
    }
   ],
   "source": [
    "sentiment = []    \n",
    "\n",
    "for post in corpus:\n",
    "    scores = vader.polarity_scores(post)\n",
    "    scores['all_text'] = post\n",
    "    sentiment.append(scores)\n",
    "\n",
    "sentiment_df = pd.DataFrame(sentiment)\n",
    "sentiment_df.head()"
   ]
  },
  {
   "cell_type": "code",
   "execution_count": 51,
   "metadata": {
    "ExecuteTime": {
     "end_time": "2021-04-30T00:52:52.197681Z",
     "start_time": "2021-04-30T00:52:52.182080Z"
    }
   },
   "outputs": [
    {
     "data": {
      "text/html": [
       "<div>\n",
       "<style scoped>\n",
       "    .dataframe tbody tr th:only-of-type {\n",
       "        vertical-align: middle;\n",
       "    }\n",
       "\n",
       "    .dataframe tbody tr th {\n",
       "        vertical-align: top;\n",
       "    }\n",
       "\n",
       "    .dataframe thead th {\n",
       "        text-align: right;\n",
       "    }\n",
       "</style>\n",
       "<table border=\"1\" class=\"dataframe\">\n",
       "  <thead>\n",
       "    <tr style=\"text-align: right;\">\n",
       "      <th></th>\n",
       "      <th>neg</th>\n",
       "      <th>neu</th>\n",
       "      <th>pos</th>\n",
       "      <th>compound</th>\n",
       "      <th>all_text</th>\n",
       "    </tr>\n",
       "  </thead>\n",
       "  <tbody>\n",
       "    <tr>\n",
       "      <th>0</th>\n",
       "      <td>0.0</td>\n",
       "      <td>1.0</td>\n",
       "      <td>0.0</td>\n",
       "      <td>0.0</td>\n",
       "      <td>In the movie Bullworth  1998   a police officer is seen not shooting black people .</td>\n",
       "    </tr>\n",
       "  </tbody>\n",
       "</table>\n",
       "</div>"
      ],
      "text/plain": [
       "   neg  neu  pos  compound  \\\n",
       "0  0.0  1.0  0.0       0.0   \n",
       "\n",
       "                                                                               all_text  \n",
       "0  In the movie Bullworth  1998   a police officer is seen not shooting black people .   "
      ]
     },
     "execution_count": 51,
     "metadata": {},
     "output_type": "execute_result"
    }
   ],
   "source": [
    "sentiment_df.head(1)"
   ]
  },
  {
   "cell_type": "markdown",
   "metadata": {},
   "source": [
    "We will use this dataframe and merge it back with our target, to understand distribution."
   ]
  },
  {
   "cell_type": "code",
   "execution_count": 54,
   "metadata": {
    "ExecuteTime": {
     "end_time": "2021-04-30T00:52:52.304191Z",
     "start_time": "2021-04-30T00:52:52.273060Z"
    }
   },
   "outputs": [],
   "source": [
    "#reset index due to earlier dropped rows\n",
    "df.reset_index(inplace=True)\n",
    "sentiment_df.reset_index(inplace=True)"
   ]
  },
  {
   "cell_type": "code",
   "execution_count": 55,
   "metadata": {
    "ExecuteTime": {
     "end_time": "2021-04-30T00:52:52.332474Z",
     "start_time": "2021-04-30T00:52:52.306897Z"
    }
   },
   "outputs": [
    {
     "data": {
      "text/html": [
       "<div>\n",
       "<style scoped>\n",
       "    .dataframe tbody tr th:only-of-type {\n",
       "        vertical-align: middle;\n",
       "    }\n",
       "\n",
       "    .dataframe tbody tr th {\n",
       "        vertical-align: top;\n",
       "    }\n",
       "\n",
       "    .dataframe thead th {\n",
       "        text-align: right;\n",
       "    }\n",
       "</style>\n",
       "<table border=\"1\" class=\"dataframe\">\n",
       "  <thead>\n",
       "    <tr style=\"text-align: right;\">\n",
       "      <th></th>\n",
       "      <th>index</th>\n",
       "      <th>neg</th>\n",
       "      <th>neu</th>\n",
       "      <th>pos</th>\n",
       "      <th>compound</th>\n",
       "      <th>all_text</th>\n",
       "      <th>target</th>\n",
       "    </tr>\n",
       "  </thead>\n",
       "  <tbody>\n",
       "    <tr>\n",
       "      <th>0</th>\n",
       "      <td>0</td>\n",
       "      <td>0.000</td>\n",
       "      <td>1.000</td>\n",
       "      <td>0.0</td>\n",
       "      <td>0.0000</td>\n",
       "      <td>In the movie Bullworth  1998   a police officer is seen not shooting black people .</td>\n",
       "      <td>shittymoviedetails</td>\n",
       "    </tr>\n",
       "    <tr>\n",
       "      <th>1</th>\n",
       "      <td>1</td>\n",
       "      <td>0.000</td>\n",
       "      <td>1.000</td>\n",
       "      <td>0.0</td>\n",
       "      <td>0.0000</td>\n",
       "      <td>The Nightmare Before Christmas  1993   when he arrives at Christmas Town  Jack sings  what s this  There s white things in the air   22 seconds later he sings  there are children throwing snowball...</td>\n",
       "      <td>shittymoviedetails</td>\n",
       "    </tr>\n",
       "    <tr>\n",
       "      <th>2</th>\n",
       "      <td>2</td>\n",
       "      <td>0.209</td>\n",
       "      <td>0.791</td>\n",
       "      <td>0.0</td>\n",
       "      <td>-0.8910</td>\n",
       "      <td>In Bumblebee  2018   we see a roll of toilet paper  which is used to get rid of shit  in the revenge scene  This is a reference to how this reboot is getting rid of the shit that Michael Bay made ...</td>\n",
       "      <td>shittymoviedetails</td>\n",
       "    </tr>\n",
       "    <tr>\n",
       "      <th>3</th>\n",
       "      <td>3</td>\n",
       "      <td>0.173</td>\n",
       "      <td>0.827</td>\n",
       "      <td>0.0</td>\n",
       "      <td>-0.5267</td>\n",
       "      <td>In Frozen  2013  Anna asks  Why have a ballroom with no balls   This is a direct reference to there being no males in the kingdom .</td>\n",
       "      <td>shittymoviedetails</td>\n",
       "    </tr>\n",
       "    <tr>\n",
       "      <th>4</th>\n",
       "      <td>4</td>\n",
       "      <td>0.104</td>\n",
       "      <td>0.797</td>\n",
       "      <td>0.1</td>\n",
       "      <td>-0.0258</td>\n",
       "      <td>johnny cage could not appear in mortal kombat due to scheduling conflicts shooting the real world  back at it like a crack addict.</td>\n",
       "      <td>shittymoviedetails</td>\n",
       "    </tr>\n",
       "  </tbody>\n",
       "</table>\n",
       "</div>"
      ],
      "text/plain": [
       "   index    neg    neu  pos  compound  \\\n",
       "0      0  0.000  1.000  0.0    0.0000   \n",
       "1      1  0.000  1.000  0.0    0.0000   \n",
       "2      2  0.209  0.791  0.0   -0.8910   \n",
       "3      3  0.173  0.827  0.0   -0.5267   \n",
       "4      4  0.104  0.797  0.1   -0.0258   \n",
       "\n",
       "                                                                                                                                                                                                  all_text  \\\n",
       "0                                                                                                                     In the movie Bullworth  1998   a police officer is seen not shooting black people .    \n",
       "1  The Nightmare Before Christmas  1993   when he arrives at Christmas Town  Jack sings  what s this  There s white things in the air   22 seconds later he sings  there are children throwing snowball...   \n",
       "2  In Bumblebee  2018   we see a roll of toilet paper  which is used to get rid of shit  in the revenge scene  This is a reference to how this reboot is getting rid of the shit that Michael Bay made ...   \n",
       "3                                                                     In Frozen  2013  Anna asks  Why have a ballroom with no balls   This is a direct reference to there being no males in the kingdom .    \n",
       "4                                                                      johnny cage could not appear in mortal kombat due to scheduling conflicts shooting the real world  back at it like a crack addict.    \n",
       "\n",
       "               target  \n",
       "0  shittymoviedetails  \n",
       "1  shittymoviedetails  \n",
       "2  shittymoviedetails  \n",
       "3  shittymoviedetails  \n",
       "4  shittymoviedetails  "
      ]
     },
     "execution_count": 55,
     "metadata": {},
     "output_type": "execute_result"
    }
   ],
   "source": [
    "#set target to equal to our subreddit - bin. / conversion to num not req.\n",
    "sentiment_df['target'] =df['subreddit']\n",
    "sentiment_df.head()"
   ]
  },
  {
   "cell_type": "markdown",
   "metadata": {},
   "source": [
    "Let's visualize the sentiment."
   ]
  },
  {
   "cell_type": "code",
   "execution_count": 174,
   "metadata": {
    "ExecuteTime": {
     "end_time": "2021-04-30T16:19:42.264000Z",
     "start_time": "2021-04-30T16:19:38.990082Z"
    },
    "scrolled": true
   },
   "outputs": [
    {
     "data": {
      "text/plain": [
       "<Figure size 1080x864 with 0 Axes>"
      ]
     },
     "metadata": {},
     "output_type": "display_data"
    },
    {
     "data": {
      "image/png": "[encoded data removed]",
      "text/plain": [
       "<Figure size 432x288 with 1 Axes>"
      ]
     },
     "metadata": {},
     "output_type": "display_data"
    }
   ],
   "source": [
    "#Plot the average positivity, negativity and compound scores for target\n",
    "plt.figure(figsize=(15,12));\n",
    "sentiment_df.groupby('target').mean()[['pos', 'neg', 'compound', 'neu']].plot(kind='barh');\n",
    "plt.title('Average Positive, Negative & Compound Scores', size = 15);\n",
    "plt.xticks(size=13);\n",
    "plt.yticks(size=13, rotation = 70);\n",
    "plt.ylabel('Target: Subreddit', size=13);\n",
    "plt.xlabel('Sentiment score', size=13);\n",
    "plt.savefig('../images/sentiment.jpg');"
   ]
  },
  {
   "cell_type": "markdown",
   "metadata": {},
   "source": [
    "Interesting, interesting! We may have our first strong signal and indication of separation between our subreddits here. It seems that our Sh-tty Movies, unsurprisingly, contain a bit more negative content. But surprisingly, they also contain a lot more mixed content. The amount of positive content is about identical across the subreddits. But mostly, the posts are primarily neutral across the board."
   ]
  },
  {
   "cell_type": "code",
   "execution_count": 57,
   "metadata": {
    "ExecuteTime": {
     "end_time": "2021-04-30T00:52:53.075775Z",
     "start_time": "2021-04-30T00:52:53.057938Z"
    }
   },
   "outputs": [],
   "source": [
    "#pair-plot relationships btn. top words / sentiment and word length etc. - if time"
   ]
  },
  {
   "cell_type": "markdown",
   "metadata": {},
   "source": [
    "### Vectorize text in prep for analysis\n",
    "\n",
    "We will need to vectorize our words, for our models to process them. \n",
    "We will vectorize self-text, as well as, potentially, title and / or our joint text column to train on."
   ]
  },
  {
   "cell_type": "code",
   "execution_count": 58,
   "metadata": {
    "ExecuteTime": {
     "end_time": "2021-04-30T00:52:53.110503Z",
     "start_time": "2021-04-30T00:52:53.091052Z"
    }
   },
   "outputs": [],
   "source": [
    "#initialize CV transformer\n",
    "cvec = CountVectorizer(stop_words='english', max_features = 500)"
   ]
  },
  {
   "cell_type": "markdown",
   "metadata": {},
   "source": [
    "### Word analysis"
   ]
  },
  {
   "cell_type": "code",
   "execution_count": 59,
   "metadata": {
    "ExecuteTime": {
     "end_time": "2021-04-30T00:52:53.977404Z",
     "start_time": "2021-04-30T00:52:53.112769Z"
    }
   },
   "outputs": [],
   "source": [
    "#fit and tansform the vectorizer\n",
    "word_counts = cvec.fit_transform(df['all_text'])"
   ]
  },
  {
   "cell_type": "code",
   "execution_count": 60,
   "metadata": {
    "ExecuteTime": {
     "end_time": "2021-04-30T00:52:54.007384Z",
     "start_time": "2021-04-30T00:52:53.992750Z"
    }
   },
   "outputs": [
    {
     "data": {
      "text/plain": [
       "scipy.sparse.csr.csr_matrix"
      ]
     },
     "execution_count": 60,
     "metadata": {},
     "output_type": "execute_result"
    }
   ],
   "source": [
    "type(word_counts)"
   ]
  },
  {
   "cell_type": "code",
   "execution_count": 61,
   "metadata": {
    "ExecuteTime": {
     "end_time": "2021-04-30T00:52:54.077180Z",
     "start_time": "2021-04-30T00:52:54.014886Z"
    }
   },
   "outputs": [],
   "source": [
    "#make it a df\n",
    "counts = pd.DataFrame(word_counts.todense(), columns=cvec.get_feature_names())"
   ]
  },
  {
   "cell_type": "markdown",
   "metadata": {},
   "source": [
    "How many total words do we have in the post column?"
   ]
  },
  {
   "cell_type": "code",
   "execution_count": 62,
   "metadata": {
    "ExecuteTime": {
     "end_time": "2021-04-30T00:52:54.132893Z",
     "start_time": "2021-04-30T00:52:54.093294Z"
    }
   },
   "outputs": [
    {
     "data": {
      "text/plain": [
       "104126"
      ]
     },
     "execution_count": 62,
     "metadata": {},
     "output_type": "execute_result"
    }
   ],
   "source": [
    "counts.sum().sum()\n",
    "#note: identical calc to doing this as `word_counts.sum()`"
   ]
  },
  {
   "cell_type": "markdown",
   "metadata": {},
   "source": [
    "Let's create a new column called \"post length\" that calculates the words contained in a post's body."
   ]
  },
  {
   "cell_type": "code",
   "execution_count": 63,
   "metadata": {
    "ExecuteTime": {
     "end_time": "2021-04-30T00:52:54.226877Z",
     "start_time": "2021-04-30T00:52:54.158567Z"
    }
   },
   "outputs": [],
   "source": [
    "#get length of posts\n",
    "df['post_length'] = df['all_text'].map(lambda x: len(x.split()))"
   ]
  },
  {
   "cell_type": "code",
   "execution_count": 64,
   "metadata": {
    "ExecuteTime": {
     "end_time": "2021-04-30T00:52:54.283194Z",
     "start_time": "2021-04-30T00:52:54.229848Z"
    }
   },
   "outputs": [
    {
     "data": {
      "text/html": [
       "<div>\n",
       "<style scoped>\n",
       "    .dataframe tbody tr th:only-of-type {\n",
       "        vertical-align: middle;\n",
       "    }\n",
       "\n",
       "    .dataframe tbody tr th {\n",
       "        vertical-align: top;\n",
       "    }\n",
       "\n",
       "    .dataframe thead th {\n",
       "        text-align: right;\n",
       "    }\n",
       "</style>\n",
       "<table border=\"1\" class=\"dataframe\">\n",
       "  <thead>\n",
       "    <tr style=\"text-align: right;\">\n",
       "      <th></th>\n",
       "      <th>index</th>\n",
       "      <th>title</th>\n",
       "      <th>selftext</th>\n",
       "      <th>subreddit</th>\n",
       "      <th>created_utc</th>\n",
       "      <th>author</th>\n",
       "      <th>is_self</th>\n",
       "      <th>score</th>\n",
       "      <th>num_comments</th>\n",
       "      <th>timestamp</th>\n",
       "      <th>all_text</th>\n",
       "      <th>post_length</th>\n",
       "    </tr>\n",
       "  </thead>\n",
       "  <tbody>\n",
       "    <tr>\n",
       "      <th>8049</th>\n",
       "      <td>257</td>\n",
       "      <td>zad 21 egzamin o mioklasisty 2018 matematyka</td>\n",
       "      <td></td>\n",
       "      <td>MovieDetails</td>\n",
       "      <td>1970-01-01 00:00:01.619026377</td>\n",
       "      <td>Johnino19</td>\n",
       "      <td>False</td>\n",
       "      <td>1</td>\n",
       "      <td>2</td>\n",
       "      <td>2021-04-21</td>\n",
       "      <td>zad 21 egzamin o mioklasisty 2018 matematyka.</td>\n",
       "      <td>7</td>\n",
       "    </tr>\n",
       "    <tr>\n",
       "      <th>2729</th>\n",
       "      <td>2946</td>\n",
       "      <td>your daily trivia</td>\n",
       "      <td></td>\n",
       "      <td>shittymoviedetails</td>\n",
       "      <td>1970-01-01 00:00:01.611216624</td>\n",
       "      <td>a14alo</td>\n",
       "      <td>False</td>\n",
       "      <td>1</td>\n",
       "      <td>0</td>\n",
       "      <td>2021-01-21</td>\n",
       "      <td>your daily trivia.</td>\n",
       "      <td>3</td>\n",
       "    </tr>\n",
       "    <tr>\n",
       "      <th>10627</th>\n",
       "      <td>3363</td>\n",
       "      <td>yeah maybe just change it to  In the end scene of Another Round  2020   Martin  played by Mads Mikkelsen  does some ballet dancing  This is a direct reference to Mads Mikkelsen s past career as a ...</td>\n",
       "      <td>Video Link   source link  Thanks to Reddit users Tokyono and Numerous Lemons for helping out</td>\n",
       "      <td>MovieDetails</td>\n",
       "      <td>1970-01-01 00:00:01.610206725</td>\n",
       "      <td>zzuhruf</td>\n",
       "      <td>True</td>\n",
       "      <td>1</td>\n",
       "      <td>2</td>\n",
       "      <td>2021-01-09</td>\n",
       "      <td>yeah maybe just change it to  In the end scene of Another Round  2020   Martin  played by Mads Mikkelsen  does some ballet dancing  This is a direct reference to Mads Mikkelsen s past career as a ...</td>\n",
       "      <td>54</td>\n",
       "    </tr>\n",
       "    <tr>\n",
       "      <th>14586</th>\n",
       "      <td>7859</td>\n",
       "      <td>wonderwoman 1984</td>\n",
       "      <td></td>\n",
       "      <td>MovieDetails</td>\n",
       "      <td>1970-01-01 00:00:01.601159049</td>\n",
       "      <td>theniceguy1279</td>\n",
       "      <td>False</td>\n",
       "      <td>1</td>\n",
       "      <td>0</td>\n",
       "      <td>2020-09-26</td>\n",
       "      <td>wonderwoman 1984.</td>\n",
       "      <td>2</td>\n",
       "    </tr>\n",
       "    <tr>\n",
       "      <th>3589</th>\n",
       "      <td>3865</td>\n",
       "      <td>wonder woman 1984 full movie download in hindi</td>\n",
       "      <td></td>\n",
       "      <td>shittymoviedetails</td>\n",
       "      <td>1970-01-01 00:00:01.609435601</td>\n",
       "      <td>sahilbaba2021</td>\n",
       "      <td>False</td>\n",
       "      <td>1</td>\n",
       "      <td>0</td>\n",
       "      <td>2020-12-31</td>\n",
       "      <td>wonder woman 1984 full movie download in hindi.</td>\n",
       "      <td>8</td>\n",
       "    </tr>\n",
       "  </tbody>\n",
       "</table>\n",
       "</div>"
      ],
      "text/plain": [
       "       index  \\\n",
       "8049     257   \n",
       "2729    2946   \n",
       "10627   3363   \n",
       "14586   7859   \n",
       "3589    3865   \n",
       "\n",
       "                                                                                                                                                                                                         title  \\\n",
       "8049                                                                                                                                                              zad 21 egzamin o mioklasisty 2018 matematyka   \n",
       "2729                                                                                                                                                                                         your daily trivia   \n",
       "10627  yeah maybe just change it to  In the end scene of Another Round  2020   Martin  played by Mads Mikkelsen  does some ballet dancing  This is a direct reference to Mads Mikkelsen s past career as a ...   \n",
       "14586                                                                                                                                                                                         wonderwoman 1984   \n",
       "3589                                                                                                                                                            wonder woman 1984 full movie download in hindi   \n",
       "\n",
       "                                                                                            selftext  \\\n",
       "8049                                                                                                   \n",
       "2729                                                                                                   \n",
       "10627   Video Link   source link  Thanks to Reddit users Tokyono and Numerous Lemons for helping out   \n",
       "14586                                                                                                  \n",
       "3589                                                                                                   \n",
       "\n",
       "                subreddit                   created_utc          author  \\\n",
       "8049         MovieDetails 1970-01-01 00:00:01.619026377       Johnino19   \n",
       "2729   shittymoviedetails 1970-01-01 00:00:01.611216624          a14alo   \n",
       "10627        MovieDetails 1970-01-01 00:00:01.610206725         zzuhruf   \n",
       "14586        MovieDetails 1970-01-01 00:00:01.601159049  theniceguy1279   \n",
       "3589   shittymoviedetails 1970-01-01 00:00:01.609435601   sahilbaba2021   \n",
       "\n",
       "       is_self  score  num_comments  timestamp  \\\n",
       "8049     False      1             2 2021-04-21   \n",
       "2729     False      1             0 2021-01-21   \n",
       "10627     True      1             2 2021-01-09   \n",
       "14586    False      1             0 2020-09-26   \n",
       "3589     False      1             0 2020-12-31   \n",
       "\n",
       "                                                                                                                                                                                                      all_text  \\\n",
       "8049                                                                                                                                                            zad 21 egzamin o mioklasisty 2018 matematyka.    \n",
       "2729                                                                                                                                                                                       your daily trivia.    \n",
       "10627  yeah maybe just change it to  In the end scene of Another Round  2020   Martin  played by Mads Mikkelsen  does some ballet dancing  This is a direct reference to Mads Mikkelsen s past career as a ...   \n",
       "14586                                                                                                                                                                                       wonderwoman 1984.    \n",
       "3589                                                                                                                                                          wonder woman 1984 full movie download in hindi.    \n",
       "\n",
       "       post_length  \n",
       "8049             7  \n",
       "2729             3  \n",
       "10627           54  \n",
       "14586            2  \n",
       "3589             8  "
      ]
     },
     "execution_count": 64,
     "metadata": {},
     "output_type": "execute_result"
    }
   ],
   "source": [
    "#take a peek\n",
    "df.sort_values(by = 'all_text', ascending = False).head()"
   ]
  },
  {
   "cell_type": "markdown",
   "metadata": {},
   "source": [
    "What is the most typical post length?"
   ]
  },
  {
   "cell_type": "code",
   "execution_count": 65,
   "metadata": {
    "ExecuteTime": {
     "end_time": "2021-04-30T00:52:55.052675Z",
     "start_time": "2021-04-30T00:52:54.297362Z"
    }
   },
   "outputs": [
    {
     "data": {
      "image/png": "[encoded data removed]",
      "text/plain": [
       "<Figure size 432x288 with 1 Axes>"
      ]
     },
     "metadata": {},
     "output_type": "display_data"
    }
   ],
   "source": [
    "#inspiration from Gwen's NLP lab review\n",
    "#think about whether the signal here is valuable\n",
    "\n",
    "df.groupby('subreddit')[['post_length']].mean().plot(kind='barh');\n",
    "plt.xticks(size=13);\n",
    "plt.yticks(size=13, rotation = 70, color = 'red'); #rotation added in order to fit labels\n",
    "plt.ylabel('Subreddit', size=15)\n",
    "plt.xlabel('Post length (in words)', size=15);\n",
    "plt.title('Post length by Subreddit', size=15);\n",
    "plt.savefig('../images/post_length.png')"
   ]
  },
  {
   "cell_type": "markdown",
   "metadata": {},
   "source": [
    "It seems that post length varies insignificantly by the type of subreddit."
   ]
  },
  {
   "cell_type": "code",
   "execution_count": 66,
   "metadata": {
    "ExecuteTime": {
     "end_time": "2021-04-30T00:52:55.073764Z",
     "start_time": "2021-04-30T00:52:55.056545Z"
    }
   },
   "outputs": [],
   "source": [
    "#post length vs. scores\n",
    "#group by post length being above or below the mean, and look at whether the avg. post score changes\n",
    "#if time only"
   ]
  },
  {
   "cell_type": "markdown",
   "metadata": {},
   "source": [
    "What are the most common words?"
   ]
  },
  {
   "cell_type": "code",
   "execution_count": 67,
   "metadata": {
    "ExecuteTime": {
     "end_time": "2021-04-30T00:52:55.101211Z",
     "start_time": "2021-04-30T00:52:55.076631Z"
    }
   },
   "outputs": [
    {
     "data": {
      "text/plain": [
       "pandas.core.frame.DataFrame"
      ]
     },
     "execution_count": 67,
     "metadata": {},
     "output_type": "execute_result"
    }
   ],
   "source": [
    "type(counts)"
   ]
  },
  {
   "cell_type": "code",
   "execution_count": 68,
   "metadata": {
    "ExecuteTime": {
     "end_time": "2021-04-30T00:52:55.143320Z",
     "start_time": "2021-04-30T00:52:55.124816Z"
    }
   },
   "outputs": [
    {
     "data": {
      "text/plain": [
       "movie        3348\n",
       "scene        1555\n",
       "film         1543\n",
       "character    1204\n",
       "man          1173\n",
       "reference    1166\n",
       "fact          985\n",
       "actually      909\n",
       "2020          831\n",
       "2019          830\n",
       "time          824\n",
       "just          813\n",
       "like          772\n",
       "seen          676\n",
       "star          658\n",
       "says          628\n",
       "director      589\n",
       "real          584\n",
       "end           554\n",
       "played        549\n",
       "spider        516\n",
       "later         514\n",
       "movies        512\n",
       "people        503\n",
       "new           490\n",
       "john          482\n",
       "actor         481\n",
       "2017          465\n",
       "wars          463\n",
       "2021          461\n",
       "dtype: int64"
      ]
     },
     "execution_count": 68,
     "metadata": {},
     "output_type": "execute_result"
    }
   ],
   "source": [
    "#word freq analysis - Gwen's lab review code\n",
    "counts.sum().sort_values(ascending=False).head(30).T"
   ]
  },
  {
   "cell_type": "code",
   "execution_count": 69,
   "metadata": {
    "ExecuteTime": {
     "end_time": "2021-04-30T00:52:56.406985Z",
     "start_time": "2021-04-30T00:52:55.164169Z"
    }
   },
   "outputs": [
    {
     "data": {
      "image/png": "[encoded data removed]",
      "text/plain": [
       "<Figure size 720x576 with 1 Axes>"
      ]
     },
     "metadata": {},
     "output_type": "display_data"
    }
   ],
   "source": [
    "#Gwen's lab review code\n",
    "plt.figure(figsize=(10,8))\n",
    "counts.sum().sort_values(ascending=False).head(30)[1:].plot(kind='barh');\n",
    "plt.title('Most frequently occurring words in movie subReddits', size = 15);\n",
    "plt.xlabel('Word count', size =13);\n",
    "plt.yticks(size=13);\n",
    "plt.ylabel('Word', size=13);\n",
    "plt.savefig('../images/word_freq.png')"
   ]
  },
  {
   "cell_type": "markdown",
   "metadata": {},
   "source": [
    "Ok, so words like 'movies', 'director', 'character' and 'played' come up a lot. This is not particularly exciting and would be expected for a movie themed post. \n",
    "\n",
    "We also see som intersting ones like 'star' and 'spider'. It may not be conclusive, yet, what these refer to. So -- let's see if we can get more meaning out of these, by looking at word pairs."
   ]
  },
  {
   "cell_type": "code",
   "execution_count": 70,
   "metadata": {
    "ExecuteTime": {
     "end_time": "2021-04-30T00:52:56.634023Z",
     "start_time": "2021-04-30T00:52:56.425856Z"
    }
   },
   "outputs": [],
   "source": [
    "#look at bi-grams / tri-grams\n",
    "#consult Gwen's NLP lab review notebook (fb status analysis) for this!\n",
    "cvec2 = CountVectorizer(stop_words='english', ngram_range=(2,2), max_features = 30)\n",
    "ngram = cvec2.fit_transform(df['selftext'])\n",
    "ngrams = pd.DataFrame(ngram.todense(), columns = cvec2.get_feature_names())"
   ]
  },
  {
   "cell_type": "code",
   "execution_count": 71,
   "metadata": {
    "ExecuteTime": {
     "end_time": "2021-04-30T00:52:56.649585Z",
     "start_time": "2021-04-30T00:52:56.636091Z"
    }
   },
   "outputs": [
    {
     "data": {
      "text/plain": [
       "pandas.core.frame.DataFrame"
      ]
     },
     "execution_count": 71,
     "metadata": {},
     "output_type": "execute_result"
    }
   ],
   "source": [
    "type(ngrams)"
   ]
  },
  {
   "cell_type": "code",
   "execution_count": 72,
   "metadata": {
    "ExecuteTime": {
     "end_time": "2021-04-30T00:52:56.673819Z",
     "start_time": "2021-04-30T00:52:56.666555Z"
    }
   },
   "outputs": [
    {
     "data": {
      "text/plain": [
       "Index(['2008 interesting', 'blue tank', 'didn want', 'does know', 'don know',\n",
       "       'easter egg', 'end movie', 'interesting share', 'iron man', 'just like',\n",
       "       'just noticed', 'le marq', 'long time', 'look like', 'looks like',\n",
       "       'lt gt', 'main character', 'movie scene', 'peter parker', 'point view',\n",
       "       'pretty sure', 'processing img', 'scene movie', 'seen movie',\n",
       "       'tai lung', 'takes place', 've seen', 'view poll', 'watching movie',\n",
       "       'years ago'],\n",
       "      dtype='object')"
      ]
     },
     "execution_count": 72,
     "metadata": {},
     "output_type": "execute_result"
    }
   ],
   "source": [
    "ngrams.columns"
   ]
  },
  {
   "cell_type": "code",
   "execution_count": 73,
   "metadata": {
    "ExecuteTime": {
     "end_time": "2021-04-30T00:52:56.706621Z",
     "start_time": "2021-04-30T00:52:56.691905Z"
    },
    "scrolled": true
   },
   "outputs": [
    {
     "data": {
      "text/plain": [
       "(15417, 30)"
      ]
     },
     "execution_count": 73,
     "metadata": {},
     "output_type": "execute_result"
    }
   ],
   "source": [
    "ngrams.shape"
   ]
  },
  {
   "cell_type": "code",
   "execution_count": 74,
   "metadata": {
    "ExecuteTime": {
     "end_time": "2021-04-30T00:52:56.843401Z",
     "start_time": "2021-04-30T00:52:56.715107Z"
    }
   },
   "outputs": [],
   "source": [
    "bigrams = [col for col in ngrams.columns if len(col.split()) == 2]"
   ]
  },
  {
   "cell_type": "code",
   "execution_count": 75,
   "metadata": {
    "ExecuteTime": {
     "end_time": "2021-04-30T00:52:58.631262Z",
     "start_time": "2021-04-30T00:52:56.904764Z"
    },
    "scrolled": true
   },
   "outputs": [
    {
     "data": {
      "image/png": "[encoded data removed]",
      "text/plain": [
       "<Figure size 720x576 with 1 Axes>"
      ]
     },
     "metadata": {},
     "output_type": "display_data"
    }
   ],
   "source": [
    "plt.figure(figsize= (10,8))\n",
    "ngrams[bigrams].sum().sort_values(ascending = False).head(30).plot(kind='barh');\n",
    "plt.title('Most frequent bigrams in movie related subreddits', size = 15);\n",
    "plt.yticks(size=13)\n",
    "plt.xticks(size=13)\n",
    "plt.xlabel('Frequency of appearance in text', size=14)\n",
    "plt.ylabel('Word combinations')\n",
    "plt.savefig('../images/bigrams.png');"
   ]
  },
  {
   "cell_type": "markdown",
   "metadata": {},
   "source": [
    "These are much more interesting and telling previews -- we can start to piece some context together about what people are talking about! These really start to tell some more interesting stories now; we can see things like 'iron man' and 'peter parker' appearing in here. And that is probably also why we saw 'spider' referenced in the unigrams."
   ]
  },
  {
   "cell_type": "code",
   "execution_count": 76,
   "metadata": {
    "ExecuteTime": {
     "end_time": "2021-04-30T00:52:58.642907Z",
     "start_time": "2021-04-30T00:52:58.636094Z"
    }
   },
   "outputs": [],
   "source": [
    "#stemming / lemmatizing -- if time"
   ]
  },
  {
   "cell_type": "code",
   "execution_count": 77,
   "metadata": {
    "ExecuteTime": {
     "end_time": "2021-04-30T00:52:58.683360Z",
     "start_time": "2021-04-30T00:52:58.664732Z"
    }
   },
   "outputs": [],
   "source": [
    "#parts of speech -- if time"
   ]
  },
  {
   "cell_type": "markdown",
   "metadata": {},
   "source": [
    "We have a bit of interesting insights and possible signals to dig into. Let's see how the machine views these.\n",
    "\n",
    "- - -\n",
    "## Part IV: Modeling\n",
    "\n",
    "Several classification models are availed to us. We will try the merits of different ones, potentially including the following, and looking for a good mix of interpretability and predictive power, as well as ability to process our rich feature set.\n",
    "\n",
    "* KNN -- does not work well with many features\n",
    "* Decision Trees\n",
    "* Random Forest\n",
    "* Bayes\n",
    "* Logistic regression (NOTE: this one might only make sense if we find some linearity in earlier text relationship analysis)\n",
    "* Boosting -- does not work well with lots of features\n",
    "\n",
    "We will tune and random-search for best parameters, where appropriate.\n",
    "\n",
    "### Transform and preprocess"
   ]
  },
  {
   "cell_type": "markdown",
   "metadata": {},
   "source": [
    "We are going to keep our data composition simple and train primarily on our primary text field as well as post sentiment, to predict the target. As we saw, things like post length and number of comments were barely distinguishable, and based on the total size of the reddit, the number of authors would be a little disproportionate but not a true signal of how the data might perform based on just that skew. So let's leave those factors off.\n",
    "\n",
    "We are going to use our trusted count vectorizer again; this time, to prep for modeling."
   ]
  },
  {
   "cell_type": "code",
   "execution_count": 78,
   "metadata": {
    "ExecuteTime": {
     "end_time": "2021-04-30T00:52:58.727970Z",
     "start_time": "2021-04-30T00:52:58.700331Z"
    },
    "scrolled": true
   },
   "outputs": [
    {
     "data": {
      "text/html": [
       "<div>\n",
       "<style scoped>\n",
       "    .dataframe tbody tr th:only-of-type {\n",
       "        vertical-align: middle;\n",
       "    }\n",
       "\n",
       "    .dataframe tbody tr th {\n",
       "        vertical-align: top;\n",
       "    }\n",
       "\n",
       "    .dataframe thead th {\n",
       "        text-align: right;\n",
       "    }\n",
       "</style>\n",
       "<table border=\"1\" class=\"dataframe\">\n",
       "  <thead>\n",
       "    <tr style=\"text-align: right;\">\n",
       "      <th></th>\n",
       "      <th>index</th>\n",
       "      <th>neg</th>\n",
       "      <th>neu</th>\n",
       "      <th>pos</th>\n",
       "      <th>compound</th>\n",
       "      <th>all_text</th>\n",
       "      <th>target</th>\n",
       "    </tr>\n",
       "  </thead>\n",
       "  <tbody>\n",
       "    <tr>\n",
       "      <th>0</th>\n",
       "      <td>0</td>\n",
       "      <td>0.0</td>\n",
       "      <td>1.0</td>\n",
       "      <td>0.0</td>\n",
       "      <td>0.0</td>\n",
       "      <td>In the movie Bullworth  1998   a police officer is seen not shooting black people .</td>\n",
       "      <td>shittymoviedetails</td>\n",
       "    </tr>\n",
       "    <tr>\n",
       "      <th>1</th>\n",
       "      <td>1</td>\n",
       "      <td>0.0</td>\n",
       "      <td>1.0</td>\n",
       "      <td>0.0</td>\n",
       "      <td>0.0</td>\n",
       "      <td>The Nightmare Before Christmas  1993   when he arrives at Christmas Town  Jack sings  what s this  There s white things in the air   22 seconds later he sings  there are children throwing snowball...</td>\n",
       "      <td>shittymoviedetails</td>\n",
       "    </tr>\n",
       "  </tbody>\n",
       "</table>\n",
       "</div>"
      ],
      "text/plain": [
       "   index  neg  neu  pos  compound  \\\n",
       "0      0  0.0  1.0  0.0       0.0   \n",
       "1      1  0.0  1.0  0.0       0.0   \n",
       "\n",
       "                                                                                                                                                                                                  all_text  \\\n",
       "0                                                                                                                     In the movie Bullworth  1998   a police officer is seen not shooting black people .    \n",
       "1  The Nightmare Before Christmas  1993   when he arrives at Christmas Town  Jack sings  what s this  There s white things in the air   22 seconds later he sings  there are children throwing snowball...   \n",
       "\n",
       "               target  \n",
       "0  shittymoviedetails  \n",
       "1  shittymoviedetails  "
      ]
     },
     "execution_count": 78,
     "metadata": {},
     "output_type": "execute_result"
    }
   ],
   "source": [
    "#what's in our current df?\n",
    "sentiment_df.head(2)"
   ]
  },
  {
   "cell_type": "code",
   "execution_count": 79,
   "metadata": {
    "ExecuteTime": {
     "end_time": "2021-04-30T00:52:58.750221Z",
     "start_time": "2021-04-30T00:52:58.731027Z"
    }
   },
   "outputs": [],
   "source": [
    "#instantiate cvec\n",
    "cvec_modeling = CountVectorizer(\n",
    "    stop_words = 'english', \n",
    "    max_features = 5_000, #init guess for efficiency; + use grid search? (optional)\n",
    "    ngram_range=(1, 2), #uni + bi-grams\n",
    ") #tinker w/ max features dep. on how long runs"
   ]
  },
  {
   "cell_type": "markdown",
   "metadata": {},
   "source": [
    "It's time time define our features set. We are using sentiment and our text."
   ]
  },
  {
   "cell_type": "code",
   "execution_count": 89,
   "metadata": {
    "ExecuteTime": {
     "end_time": "2021-04-30T03:30:57.467603Z",
     "start_time": "2021-04-30T03:30:51.002440Z"
    }
   },
   "outputs": [],
   "source": [
    "#new word array w/ cvec transform; set X and y\n",
    "cvec_df = cvec_modeling.fit_transform(sentiment_df['all_text'])\n",
    "cvec_df=pd.DataFrame(cvec_df.todense(), columns = cvec_modeling.get_feature_names())\n",
    "features=pd.concat([cvec_df, sentiment_df],axis=1)#, ignore_index=True)\n",
    "X = features.drop(\n",
    "    columns = ['target', 'all_text','index']) #been vectorized; drop unnecessary index we created on concat\n",
    "feature_names = X.columns\n",
    "#X = np.array(X) \n",
    "y = (sentiment_df['target']) #np.array"
   ]
  },
  {
   "cell_type": "code",
   "execution_count": 143,
   "metadata": {
    "ExecuteTime": {
     "end_time": "2021-04-30T07:02:22.438356Z",
     "start_time": "2021-04-30T07:02:22.432395Z"
    }
   },
   "outputs": [
    {
     "data": {
      "text/plain": [
       "(15417, 5007)"
      ]
     },
     "execution_count": 143,
     "metadata": {},
     "output_type": "execute_result"
    }
   ],
   "source": [
    "features.shape"
   ]
  },
  {
   "cell_type": "code",
   "execution_count": 90,
   "metadata": {
    "ExecuteTime": {
     "end_time": "2021-04-30T03:31:02.974203Z",
     "start_time": "2021-04-30T03:31:02.969203Z"
    }
   },
   "outputs": [
    {
     "data": {
      "text/plain": [
       "(15417, 5003)"
      ]
     },
     "execution_count": 90,
     "metadata": {},
     "output_type": "execute_result"
    }
   ],
   "source": [
    "#expecting ~5k features based on the params we set\n",
    "X.shape"
   ]
  },
  {
   "cell_type": "markdown",
   "metadata": {},
   "source": [
    "Let's split off our training and prediction data now."
   ]
  },
  {
   "cell_type": "code",
   "execution_count": 91,
   "metadata": {
    "ExecuteTime": {
     "end_time": "2021-04-30T03:31:09.161967Z",
     "start_time": "2021-04-30T03:31:07.848217Z"
    }
   },
   "outputs": [],
   "source": [
    "#train-test-split\n",
    "X_train, X_test, y_train, y_test = train_test_split(X,y, stratify = y, random_state = 42)"
   ]
  },
  {
   "cell_type": "markdown",
   "metadata": {},
   "source": [
    "Let's map our baseline predictions for our classes, which are the ones for the model to beat."
   ]
  },
  {
   "cell_type": "code",
   "execution_count": 85,
   "metadata": {
    "ExecuteTime": {
     "end_time": "2021-04-30T00:56:29.861409Z",
     "start_time": "2021-04-30T00:56:29.823608Z"
    },
    "scrolled": true
   },
   "outputs": [
    {
     "data": {
      "text/plain": [
       "shittymoviedetails    0.507038\n",
       "MovieDetails          0.492962\n",
       "Name: target, dtype: float64"
      ]
     },
     "execution_count": 85,
     "metadata": {},
     "output_type": "execute_result"
    }
   ],
   "source": [
    "#baseline pred\n",
    "sentiment_df['target'].value_counts(normalize=True)"
   ]
  },
  {
   "cell_type": "markdown",
   "metadata": {},
   "source": [
    "Looks like we have pretty evenly distributed classes to start out. It's almost as if... a post has a 50/50 shot of being in either. So, I expect the classifier to struggle with choosing or making an opinion on the posts, but let's see, if we can beat the baseline.\n",
    "\n",
    "I want a random forest to see if we can get different opinions and the wisdom of the crowd to get us some likely predictions!"
   ]
  },
  {
   "cell_type": "markdown",
   "metadata": {},
   "source": [
    "### Model 1: Random forest"
   ]
  },
  {
   "cell_type": "markdown",
   "metadata": {},
   "source": [
    "Let's first try this out of the box."
   ]
  },
  {
   "cell_type": "code",
   "execution_count": 123,
   "metadata": {
    "ExecuteTime": {
     "end_time": "2021-04-30T06:24:14.268586Z",
     "start_time": "2021-04-30T06:23:26.001319Z"
    }
   },
   "outputs": [
    {
     "data": {
      "text/plain": [
       "(0.9944646254973188, 0.7400778210116732)"
      ]
     },
     "execution_count": 123,
     "metadata": {},
     "output_type": "execute_result"
    }
   ],
   "source": [
    "#instantiate\n",
    "forest = RandomForestClassifier()\n",
    "\n",
    "#fit on the train\n",
    "forest.fit(X_train,y_train)"
   ]
  },
  {
   "cell_type": "code",
   "execution_count": 124,
   "metadata": {
    "ExecuteTime": {
     "end_time": "2021-04-30T06:25:23.491374Z",
     "start_time": "2021-04-30T06:25:20.518141Z"
    },
    "scrolled": true
   },
   "outputs": [
    {
     "data": {
      "text/plain": [
       "(0.9945, 0.7401)"
      ]
     },
     "execution_count": 124,
     "metadata": {},
     "output_type": "execute_result"
    }
   ],
   "source": [
    "#score on train and test\n",
    "forest.score(X_train, y_train).round(4), forest.score(X_test, y_test).round(4)"
   ]
  },
  {
   "cell_type": "markdown",
   "metadata": {},
   "source": [
    "Initial model is pretty overfit, but not terrible."
   ]
  },
  {
   "cell_type": "markdown",
   "metadata": {},
   "source": [
    "Let's break out the feature importances!"
   ]
  },
  {
   "cell_type": "code",
   "execution_count": 154,
   "metadata": {
    "ExecuteTime": {
     "end_time": "2021-04-30T07:13:23.262473Z",
     "start_time": "2021-04-30T07:13:23.209662Z"
    },
    "scrolled": true
   },
   "outputs": [
    {
     "data": {
      "text/html": [
       "<div>\n",
       "<style scoped>\n",
       "    .dataframe tbody tr th:only-of-type {\n",
       "        vertical-align: middle;\n",
       "    }\n",
       "\n",
       "    .dataframe tbody tr th {\n",
       "        vertical-align: top;\n",
       "    }\n",
       "\n",
       "    .dataframe thead th {\n",
       "        text-align: right;\n",
       "    }\n",
       "</style>\n",
       "<table border=\"1\" class=\"dataframe\">\n",
       "  <thead>\n",
       "    <tr style=\"text-align: right;\">\n",
       "      <th></th>\n",
       "      <th>importance</th>\n",
       "    </tr>\n",
       "    <tr>\n",
       "      <th>feature</th>\n",
       "      <th></th>\n",
       "    </tr>\n",
       "  </thead>\n",
       "  <tbody>\n",
       "    <tr>\n",
       "      <th>neu</th>\n",
       "      <td>0.017968</td>\n",
       "    </tr>\n",
       "    <tr>\n",
       "      <th>fact</th>\n",
       "      <td>0.017462</td>\n",
       "    </tr>\n",
       "    <tr>\n",
       "      <th>compound</th>\n",
       "      <td>0.016446</td>\n",
       "    </tr>\n",
       "    <tr>\n",
       "      <th>neg</th>\n",
       "      <td>0.016218</td>\n",
       "    </tr>\n",
       "    <tr>\n",
       "      <th>pos</th>\n",
       "      <td>0.012302</td>\n",
       "    </tr>\n",
       "    <tr>\n",
       "      <th>...</th>\n",
       "      <td>...</td>\n",
       "    </tr>\n",
       "    <tr>\n",
       "      <th>club</th>\n",
       "      <td>0.001129</td>\n",
       "    </tr>\n",
       "    <tr>\n",
       "      <th>real</th>\n",
       "      <td>0.001128</td>\n",
       "    </tr>\n",
       "    <tr>\n",
       "      <th>wonder woman</th>\n",
       "      <td>0.001120</td>\n",
       "    </tr>\n",
       "    <tr>\n",
       "      <th>main</th>\n",
       "      <td>0.001114</td>\n",
       "    </tr>\n",
       "    <tr>\n",
       "      <th>set</th>\n",
       "      <td>0.001104</td>\n",
       "    </tr>\n",
       "  </tbody>\n",
       "</table>\n",
       "<p>70 rows × 1 columns</p>\n",
       "</div>"
      ],
      "text/plain": [
       "              importance\n",
       "feature                 \n",
       "neu             0.017968\n",
       "fact            0.017462\n",
       "compound        0.016446\n",
       "neg             0.016218\n",
       "pos             0.012302\n",
       "...                  ...\n",
       "club            0.001129\n",
       "real            0.001128\n",
       "wonder woman    0.001120\n",
       "main            0.001114\n",
       "set             0.001104\n",
       "\n",
       "[70 rows x 1 columns]"
      ]
     },
     "execution_count": 154,
     "metadata": {},
     "output_type": "execute_result"
    }
   ],
   "source": [
    "feature_importances = pd.DataFrame(zip(\n",
    "    feature_names, forest.feature_importances_), columns = ['feature','importance'])\n",
    "\n",
    "#drop index\n",
    "feature_importances = feature_importances.set_index('feature')\n",
    "feature_importances.sort_values(by = 'importance', ascending = False).head(70)"
   ]
  },
  {
   "cell_type": "markdown",
   "metadata": {},
   "source": [
    "It comes as no surprise that our sentiment features really did have some weight.\n",
    "\n",
    "It's also no surprise that, with thousands of word-features in the matrix, each word would have fairly nominal weight on the model overall.\n",
    "\n",
    "The feature selection we see here in the end is disappointingly challenging to interpet. In retrospect, I should have probably removed stop words like ‘movie’ before training the model."
   ]
  },
  {
   "cell_type": "markdown",
   "metadata": {},
   "source": [
    "I'll tune my forest using grid search, for simplicity."
   ]
  },
  {
   "cell_type": "code",
   "execution_count": 103,
   "metadata": {
    "ExecuteTime": {
     "end_time": "2021-04-30T04:19:53.159274Z",
     "start_time": "2021-04-30T04:19:53.152328Z"
    }
   },
   "outputs": [],
   "source": [
    "#param grid -- combination models to grid search over for ideal params; high-low strat,\n",
    "#for efficiency (Devin)\n",
    "\n",
    "params = {\n",
    "    'n_estimators': [25, 100],\n",
    "    'max_depth': [1, 4, 16], #trial\n",
    "    'max_features': [None,'auto']\n",
    "}"
   ]
  },
  {
   "cell_type": "code",
   "execution_count": 104,
   "metadata": {
    "ExecuteTime": {
     "end_time": "2021-04-30T04:19:53.178334Z",
     "start_time": "2021-04-30T04:19:53.170169Z"
    }
   },
   "outputs": [],
   "source": [
    "#check cores on machine -- spread out our computing power\n",
    "cores = os.cpu_count()\n",
    "cores"
   ]
  },
  {
   "cell_type": "code",
   "execution_count": 116,
   "metadata": {
    "ExecuteTime": {
     "end_time": "2021-04-30T04:34:52.120326Z",
     "start_time": "2021-04-30T04:30:19.688322Z"
    }
   },
   "outputs": [
    {
     "name": "stdout",
     "output_type": "stream",
     "text": [
      "Fitting 2 folds for each of 12 candidates, totalling 24 fits\n"
     ]
    },
    {
     "name": "stderr",
     "output_type": "stream",
     "text": [
      "[Parallel(n_jobs=-1)]: Using backend LokyBackend with 4 concurrent workers.\n",
      "[Parallel(n_jobs=-1)]: Done  24 out of  24 | elapsed:  4.5min finished\n"
     ]
    },
    {
     "data": {
      "text/plain": [
       "GridSearchCV(cv=2, estimator=RandomForestClassifier(), n_jobs=-1,\n",
       "             param_grid={'max_depth': [1, 4, 16],\n",
       "                         'max_features': [None, 'auto'],\n",
       "                         'n_estimators': [25, 100]},\n",
       "             verbose=1)"
      ]
     },
     "execution_count": 116,
     "metadata": {},
     "output_type": "execute_result"
    }
   ],
   "source": [
    "#instantiate transformer, estimator\n",
    "#also implement param grid here (ideally)\n",
    "forest = RandomForestClassifier() \n",
    "\n",
    "grid_search_cv = GridSearchCV(forest, param_grid = params, n_jobs = -1, verbose=1, cv = 2)\n",
    "#-1 n jobs uses all avail. cores\n",
    "\n",
    "#fit on train\n",
    "grid_search_cv.fit(X_train,y_train)"
   ]
  },
  {
   "cell_type": "code",
   "execution_count": 118,
   "metadata": {
    "ExecuteTime": {
     "end_time": "2021-04-30T04:40:40.629779Z",
     "start_time": "2021-04-30T04:40:40.623449Z"
    }
   },
   "outputs": [
    {
     "data": {
      "text/plain": [
       "0.6771"
      ]
     },
     "execution_count": 118,
     "metadata": {},
     "output_type": "execute_result"
    }
   ],
   "source": [
    "grid_search_cv.best_score_.round(4)"
   ]
  },
  {
   "cell_type": "code",
   "execution_count": 119,
   "metadata": {
    "ExecuteTime": {
     "end_time": "2021-04-30T04:40:44.626967Z",
     "start_time": "2021-04-30T04:40:44.617773Z"
    }
   },
   "outputs": [
    {
     "data": {
      "text/plain": [
       "{'max_depth': 16, 'max_features': 'auto', 'n_estimators': 100}"
      ]
     },
     "execution_count": 119,
     "metadata": {},
     "output_type": "execute_result"
    }
   ],
   "source": [
    "grid_search_cv.best_params_"
   ]
  },
  {
   "cell_type": "code",
   "execution_count": 109,
   "metadata": {
    "ExecuteTime": {
     "end_time": "2021-04-30T04:27:53.611982Z",
     "start_time": "2021-04-30T04:27:53.228724Z"
    }
   },
   "outputs": [],
   "source": [
    "preds = grid_search_cv.predict(X_test)"
   ]
  },
  {
   "cell_type": "code",
   "execution_count": 125,
   "metadata": {
    "ExecuteTime": {
     "end_time": "2021-04-30T06:26:31.718007Z",
     "start_time": "2021-04-30T06:26:30.339050Z"
    }
   },
   "outputs": [
    {
     "data": {
      "text/plain": [
       "(0.7632, 0.6918)"
      ]
     },
     "execution_count": 125,
     "metadata": {},
     "output_type": "execute_result"
    }
   ],
   "source": [
    "grid_search_cv.score(X_train, y_train).round(4), grid_search_cv.score(\n",
    "    X_test, y_test).round(4)"
   ]
  },
  {
   "cell_type": "markdown",
   "metadata": {},
   "source": [
    "These scores are much closer together, which tells me, it's probably a better fit than the out of the box model, although the accuracy is worse. However, we are still beating the baseline."
   ]
  },
  {
   "cell_type": "code",
   "execution_count": 168,
   "metadata": {
    "ExecuteTime": {
     "end_time": "2021-04-30T07:38:35.199234Z",
     "start_time": "2021-04-30T07:38:35.192954Z"
    }
   },
   "outputs": [
    {
     "data": {
      "text/plain": [
       "pandas.core.series.Series"
      ]
     },
     "execution_count": 168,
     "metadata": {},
     "output_type": "execute_result"
    }
   ],
   "source": [
    "type(y_test)"
   ]
  },
  {
   "cell_type": "code",
   "execution_count": 171,
   "metadata": {
    "ExecuteTime": {
     "end_time": "2021-04-30T07:39:49.534520Z",
     "start_time": "2021-04-30T07:39:49.523367Z"
    }
   },
   "outputs": [
    {
     "data": {
      "text/plain": [
       "(3855,)"
      ]
     },
     "execution_count": 171,
     "metadata": {},
     "output_type": "execute_result"
    }
   ],
   "source": [
    "#match test and pred shape to build confusion matrix\n",
    "y_test.drop(y_test.index[0], inplace=True)\n",
    "y_test.shape"
   ]
  },
  {
   "cell_type": "code",
   "execution_count": 175,
   "metadata": {
    "ExecuteTime": {
     "end_time": "2021-04-30T22:25:38.933817Z",
     "start_time": "2021-04-30T22:25:38.914032Z"
    }
   },
   "outputs": [],
   "source": [
    "#add confusion matrix, all the other class. metrics -- sensitivity, precision, recall, etc.\n",
    "#tn, fp, fn, tp = confusion_matrix(y_test, preds).ravel() -- need to troubleshoot this"
   ]
  },
  {
   "cell_type": "markdown",
   "metadata": {},
   "source": [
    "### Model 2: Decision Trees"
   ]
  },
  {
   "cell_type": "code",
   "execution_count": 177,
   "metadata": {
    "ExecuteTime": {
     "end_time": "2021-04-30T22:28:55.895362Z",
     "start_time": "2021-04-30T22:28:55.892131Z"
    }
   },
   "outputs": [],
   "source": [
    "#I probably will need to re-split train test on mod target; so let's redefine it up above, if needed"
   ]
  },
  {
   "cell_type": "markdown",
   "metadata": {},
   "source": [
    "We are going to repeat our workflow now on one more highly interpreable and visualizable model: decision trees. Our data set is pretty well balanced, so this should not be a problem, and decision trees are supposed to run fast -- a good tool for a data scientist short on time.\n",
    "\n",
    "Note: Decision trees and ensemble methods do not require feature scaling to be performed as they are not sensitive to the the variance in the data. [source](https://www.google.com/search?q=do+i+need+to+scale+before+running+decision+tree&oq=do+i+need+to+scale+before+running+decision+tree&aqs=chrome..69i57j33i160j33i299.7672j0j7&sourceid=chrome&ie=UTF-8)"
   ]
  },
  {
   "cell_type": "code",
   "execution_count": 178,
   "metadata": {
    "ExecuteTime": {
     "end_time": "2021-04-30T22:32:42.399780Z",
     "start_time": "2021-04-30T22:32:42.394842Z"
    }
   },
   "outputs": [],
   "source": [
    "#repeat workflow\n",
    "#remember to scale - NOTE: not req. for trees\n",
    "#remember to tune params (optional for Bayes)\n",
    "\n",
    "#instantiate tree\n",
    "dt = DecisionTreeClassifier(random_state =42)"
   ]
  },
  {
   "cell_type": "code",
   "execution_count": 182,
   "metadata": {
    "ExecuteTime": {
     "end_time": "2021-04-30T22:56:48.762291Z",
     "start_time": "2021-04-30T22:56:18.753549Z"
    }
   },
   "outputs": [
    {
     "data": {
      "text/plain": [
       "DecisionTreeClassifier(random_state=42)"
      ]
     },
     "execution_count": 182,
     "metadata": {},
     "output_type": "execute_result"
    }
   ],
   "source": [
    "#fit simple tree\n",
    "dt.fit(X_train, y_train)"
   ]
  },
  {
   "cell_type": "code",
   "execution_count": 185,
   "metadata": {
    "ExecuteTime": {
     "end_time": "2021-04-30T23:01:41.172789Z",
     "start_time": "2021-04-30T23:01:41.168687Z"
    }
   },
   "outputs": [],
   "source": [
    "# Evaluate model.\n",
    "#print(f'Score on training set: {dt.score(X_train, y_train)}')\n",
    "#print(f'Score on testing set: {dt.score(X_test, y_test)}')\n",
    "#code breaks! - revisit"
   ]
  },
  {
   "cell_type": "code",
   "execution_count": 186,
   "metadata": {
    "ExecuteTime": {
     "end_time": "2021-04-30T23:01:41.205763Z",
     "start_time": "2021-04-30T23:01:41.179068Z"
    }
   },
   "outputs": [],
   "source": [
    "#rerun with hyper-params\n",
    "\n",
    "# Instantiate model with:\n",
    "# - a maximum depth of 5.\n",
    "# - at least 7 samples required in order to split an internal node.\n",
    "# - at least 3 samples in each leaf node.\n",
    "# - a cost complexity of 0.01.\n",
    "# - random state of 42.\n",
    "\n",
    "dt_tuned = DecisionTreeClassifier(\n",
    "    max_depth=5,\n",
    "    min_samples_split=7,\n",
    "    min_samples_leaf=3,\n",
    "    ccp_alpha=0.1,\n",
    "    random_state =42) #instantiate"
   ]
  },
  {
   "cell_type": "code",
   "execution_count": 187,
   "metadata": {
    "ExecuteTime": {
     "end_time": "2021-04-30T23:01:45.138511Z",
     "start_time": "2021-04-30T23:01:41.214697Z"
    }
   },
   "outputs": [
    {
     "data": {
      "text/plain": [
       "DecisionTreeClassifier(ccp_alpha=0.1, max_depth=5, min_samples_leaf=3,\n",
       "                       min_samples_split=7, random_state=42)"
      ]
     },
     "execution_count": 187,
     "metadata": {},
     "output_type": "execute_result"
    }
   ],
   "source": [
    "#fit tuned tree\n",
    "dt_tuned.fit(X_train, y_train)"
   ]
  },
  {
   "cell_type": "code",
   "execution_count": 190,
   "metadata": {
    "ExecuteTime": {
     "end_time": "2021-04-30T23:02:11.323496Z",
     "start_time": "2021-04-30T23:02:11.320796Z"
    }
   },
   "outputs": [],
   "source": [
    "# Evaluate model.\n",
    "#print(f'Score on training set: {dt_tuned.score(X_train, y_train).round(4)}')\n",
    "#print(f'Score on testing set: {dt_tuned.score(X_test, y_test).round(4)}')\n",
    "\n",
    "#breaks - revisit"
   ]
  },
  {
   "cell_type": "code",
   "execution_count": 191,
   "metadata": {
    "ExecuteTime": {
     "end_time": "2021-04-30T23:02:11.333785Z",
     "start_time": "2021-04-30T23:02:11.328065Z"
    }
   },
   "outputs": [],
   "source": [
    "#grid search the tree\n",
    "params = {\n",
    "    'max_depth': [2, 3, 5, 7],\n",
    "    'min_samples_split': [5, 10, 20],\n",
    "    'min_samples_leaf': [2, 3, 5],\n",
    "    'ccp_alpha': [0, 0.01, 0.1, 1]\n",
    "}"
   ]
  },
  {
   "cell_type": "code",
   "execution_count": 192,
   "metadata": {
    "ExecuteTime": {
     "end_time": "2021-04-30T23:02:11.351706Z",
     "start_time": "2021-04-30T23:02:11.338406Z"
    }
   },
   "outputs": [],
   "source": [
    "#instantiate grid searched tree\n",
    "dt_grid_searched = DecisionTreeClassifier(random_state=42)"
   ]
  },
  {
   "cell_type": "code",
   "execution_count": 193,
   "metadata": {
    "ExecuteTime": {
     "end_time": "2021-04-30T23:15:01.854771Z",
     "start_time": "2021-04-30T23:02:11.355531Z"
    }
   },
   "outputs": [
    {
     "data": {
      "text/plain": [
       "GridSearchCV(cv=3, estimator=DecisionTreeClassifier(random_state=42),\n",
       "             param_grid={'ccp_alpha': [0, 0.01, 0.1, 1],\n",
       "                         'max_depth': [2, 3, 5, 7],\n",
       "                         'min_samples_leaf': [2, 3, 5],\n",
       "                         'min_samples_split': [5, 10, 20]})"
      ]
     },
     "execution_count": 193,
     "metadata": {},
     "output_type": "execute_result"
    }
   ],
   "source": [
    "#fit tree\n",
    "gs = GridSearchCV(dt_grid_searched, params, cv = 3)\n",
    "gs.fit(X_train, y_train)"
   ]
  },
  {
   "cell_type": "code",
   "execution_count": 194,
   "metadata": {
    "ExecuteTime": {
     "end_time": "2021-04-30T23:15:01.873678Z",
     "start_time": "2021-04-30T23:15:01.860093Z"
    }
   },
   "outputs": [
    {
     "data": {
      "text/plain": [
       "{'ccp_alpha': 0,\n",
       " 'max_depth': 7,\n",
       " 'min_samples_leaf': 2,\n",
       " 'min_samples_split': 10}"
      ]
     },
     "execution_count": 194,
     "metadata": {},
     "output_type": "execute_result"
    }
   ],
   "source": [
    "gs.best_params_"
   ]
  },
  {
   "cell_type": "code",
   "execution_count": 195,
   "metadata": {
    "ExecuteTime": {
     "end_time": "2021-04-30T23:15:01.965316Z",
     "start_time": "2021-04-30T23:15:01.877671Z"
    }
   },
   "outputs": [
    {
     "data": {
      "text/plain": [
       "0.6031"
      ]
     },
     "execution_count": 195,
     "metadata": {},
     "output_type": "execute_result"
    }
   ],
   "source": [
    "gs.best_score_.round(4)"
   ]
  },
  {
   "cell_type": "code",
   "execution_count": 202,
   "metadata": {
    "ExecuteTime": {
     "end_time": "2021-04-30T23:17:01.738824Z",
     "start_time": "2021-04-30T23:17:01.734911Z"
    }
   },
   "outputs": [],
   "source": [
    "# Evaluate model.\n",
    "#print(f'Score on training set: {gs.score(X_train, y_train).round(4)}')\n",
    "#print(f'Score on testing set: {gs.score(X_test, y_test).round(4)}')"
   ]
  },
  {
   "cell_type": "code",
   "execution_count": 203,
   "metadata": {
    "ExecuteTime": {
     "end_time": "2021-04-30T23:17:01.999159Z",
     "start_time": "2021-04-30T23:17:01.743920Z"
    }
   },
   "outputs": [],
   "source": [
    "#get preds\n",
    "tree_preds = gs.predict(X_test)"
   ]
  },
  {
   "cell_type": "code",
   "execution_count": 205,
   "metadata": {
    "ExecuteTime": {
     "end_time": "2021-04-30T23:18:01.772598Z",
     "start_time": "2021-04-30T23:18:01.768259Z"
    }
   },
   "outputs": [],
   "source": [
    "#tn, fp, fn, tp = confusion_matrix(y_test, tree_preds).ravel()\n",
    "\n",
    "#print(confusion_matrix(y_test, tree_preds))"
   ]
  },
  {
   "cell_type": "code",
   "execution_count": 206,
   "metadata": {
    "ExecuteTime": {
     "end_time": "2021-04-30T23:18:01.781839Z",
     "start_time": "2021-04-30T23:18:01.778243Z"
    }
   },
   "outputs": [],
   "source": [
    "#plot confusion matrix as well"
   ]
  },
  {
   "cell_type": "code",
   "execution_count": 208,
   "metadata": {
    "ExecuteTime": {
     "end_time": "2021-04-30T23:18:49.001057Z",
     "start_time": "2021-04-30T23:18:48.998566Z"
    }
   },
   "outputs": [],
   "source": [
    "#get sensitivity\n",
    "#sense = tp/(tp+fn) #true pos over all pos\n",
    "#print(f'Sensitivity: {round(sense, 4)}')"
   ]
  },
  {
   "cell_type": "code",
   "execution_count": null,
   "metadata": {
    "ExecuteTime": {
     "end_time": "2021-04-30T23:18:01.810862Z",
     "start_time": "2021-04-30T23:18:01.787Z"
    }
   },
   "outputs": [],
   "source": [
    "#get specificity\n",
    "#spec = tn/(tn + fp) #true neg over all neg\n",
    "#print(f'Specificity: {round(spec, 4)}')"
   ]
  },
  {
   "cell_type": "code",
   "execution_count": null,
   "metadata": {
    "ExecuteTime": {
     "end_time": "2021-04-30T23:18:01.811705Z",
     "start_time": "2021-04-30T23:18:01.795Z"
    }
   },
   "outputs": [],
   "source": [
    "#get classes -- NOTE: can use the .classes_ param as well\n",
    "df['subreddit'].value_counts()"
   ]
  },
  {
   "cell_type": "code",
   "execution_count": 211,
   "metadata": {
    "ExecuteTime": {
     "end_time": "2021-04-30T23:30:11.482730Z",
     "start_time": "2021-04-30T23:30:06.160743Z"
    }
   },
   "outputs": [
    {
     "data": {
      "image/png": "[encoded data removed]",
      "text/plain": [
       "<Figure size 3600x2160 with 1 Axes>"
      ]
     },
     "metadata": {},
     "output_type": "display_data"
    }
   ],
   "source": [
    "#visualization: how the forest picks the splits - nice to have\n",
    "\n",
    "# Establish size of figure.\n",
    "plt.figure(figsize = (50, 30))\n",
    "\n",
    "# Plot our tree.\n",
    "plot_tree(gs.best_estimator_,\n",
    "          feature_names = X_train.columns,\n",
    "          class_names = ['shittymoviedetails', 'MovieDetails'],\n",
    "          filled = True);\n",
    "\n",
    "\n",
    "#save graphic\n",
    "\n",
    "plt.savefig('../images/tree.png')"
   ]
  },
  {
   "cell_type": "markdown",
   "metadata": {},
   "source": [
    "- - -\n",
    "## Part V - Conclusions\n",
    "\n",
    "We chose to keep our data composition simple and train primarily on our joint title-selftext (post) text field as well as post sentiment, to predict the target. We did not pick up a lot of signal during EDA from attributes like number of comments or posts per author, so these did not wind up being selected for purposes of modeling.\n",
    "\n",
    "Our classes were distributed pretty evenly, and this helped to some extent determine our modeling strategy. \n",
    "\n",
    "Based on our accuracy score, the Random Forest model was 69% accurate at predicting the right class; which is better than the 50/50 baseline shot, since we did not really have a strong majority class to start out. We think that the random forest model had decent predictive power, but ultimately, our topics are just too similar for this model to predict very well.\n",
    "\n",
    "In part, there may be less than stellar aha!s here, because we do have some noise words in our vectorized text data, including \"easter egg\", \"movies\", and the like, which add no real value to training or separating our data and may likely appear in any movie related subreddit. In retrospect, amending our `stopwords` list to exclude these terms from training may have improved our accuracy by a bit. We see similar results when reviewing our model feature importance, where many noisy words come up merely due to their frequency.\n",
    "\n",
    "Sentiment turned out to be strongest decypherable signal and indication of separation between our subreddits here. It seems that our Sh-tty Movies, unsurprisingly, contain a bit more negative content or mixed-sentiment content. The amount of positive content is about identical across the subreddits, and most posts are scored as neutral by our sentiment analyzer. (We definitely anticipated the \"regular\" movie detail subreddit to be mostly neutral, and this is good signal confirmation.)\n",
    "\n",
    "When we set out to model, we expected that comparing two very closely related topics for purposes of classification -- particularly, with rather sparse text data and with a lot of humorous sentiment (read: images, lore, cliches and idioms) would present challenges, for purposes of natural language processing interpretation and classification.\n",
    "\n",
    "In the future, Support Vector Machines may be attempted in order to try to bring in some more of the computer vision on the images and improve our model (although PushShift API may not be sufficient here for scraping purposes, and more selective sampling required).\n",
    "\n",
    "The goal of this particular exploration was always to have some fun with text data, and, for our game of trivia, fun may be the more important factor than model accuracy. In the end, this is not necessarily a model worthy of production, even if the machine accuracy did beat our crowd predictions (by a negligible amount), during the live game simulation."
   ]
  }
 ],
 "metadata": {
  "kernelspec": {
   "display_name": "Python 3",
   "language": "python",
   "name": "python3"
  },
  "language_info": {
   "codemirror_mode": {
    "name": "ipython",
    "version": 3
   },
   "file_extension": ".py",
   "mimetype": "text/x-python",
   "name": "python",
   "nbconvert_exporter": "python",
   "pygments_lexer": "ipython3",
   "version": "3.8.3"
  },
  "latex_envs": {
   "LaTeX_envs_menu_present": true,
   "autoclose": false,
   "autocomplete": true,
   "bibliofile": "biblio.bib",
   "cite_by": "apalike",
   "current_citInitial": 1,
   "eqLabelWithNumbers": true,
   "eqNumInitial": 1,
   "hotkeys": {
    "equation": "Ctrl-E",
    "itemize": "Ctrl-I"
   },
   "labels_anchors": false,
   "latex_user_defs": false,
   "report_style_numbering": false,
   "user_envs_cfg": false
  },
  "toc": {
   "base_numbering": 1,
   "nav_menu": {},
   "number_sections": true,
   "sideBar": true,
   "skip_h1_title": false,
   "title_cell": "Table of Contents",
   "title_sidebar": "Contents",
   "toc_cell": false,
   "toc_position": {},
   "toc_section_display": true,
   "toc_window_display": true
  },
  "varInspector": {
   "cols": {
    "lenName": 16,
    "lenType": 16,
    "lenVar": 40
   },
   "kernels_config": {
    "python": {
     "delete_cmd_postfix": "",
     "delete_cmd_prefix": "del ",
     "library": "var_list.py",
     "varRefreshCmd": "print(var_dic_list())"
    },
    "r": {
     "delete_cmd_postfix": ") ",
     "delete_cmd_prefix": "rm(",
     "library": "var_list.r",
     "varRefreshCmd": "cat(var_dic_list()) "
    }
   },
   "types_to_exclude": [
    "module",
    "function",
    "builtin_function_or_method",
    "instance",
    "_Feature"
   ],
   "window_display": false
  }
 },
 "nbformat": 4,
 "nbformat_minor": 4
}

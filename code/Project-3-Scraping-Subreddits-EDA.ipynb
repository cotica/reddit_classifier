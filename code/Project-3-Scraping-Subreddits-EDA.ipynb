{
 "cells": [
  {
   "cell_type": "markdown",
   "metadata": {},
   "source": [
    "# NLP analysis and classification of subReddits\n",
    "\n",
    "\n",
    "## Part II - Cleaning, preprocessing & EDA\n",
    "---"
   ]
  },
  {
   "cell_type": "markdown",
   "metadata": {},
   "source": [
    "We'll import all our required libraries up here."
   ]
  },
  {
   "cell_type": "code",
   "execution_count": 1,
   "metadata": {
    "ExecuteTime": {
     "end_time": "2021-04-29T22:58:43.197506Z",
     "start_time": "2021-04-29T22:58:19.468974Z"
    }
   },
   "outputs": [],
   "source": [
    "#import all potential libraries\n",
    "\n",
    "import pandas as pd, \\\n",
    "       numpy as np, \\\n",
    "       requests, time, nltk, \\\n",
    "       datetime as dt, \\\n",
    "       matplotlib.pyplot as plt, seaborn as sns, \\\n",
    "       re #regex\n",
    "\n",
    "#NLP transformers\n",
    "from nltk.stem import WordNetLemmatizer\n",
    "from nltk.sentiment.vader import SentimentIntensityAnalyzer\n",
    "from nltk.tokenize import RegexpTokenizer\n",
    "\n",
    "import gensim.downloader as api #allows us to get word2vec anf glove embeddings that we need\n",
    "from gensim.models.word2vec import Word2Vec\n",
    "from transformers import pipeline\n",
    "from sklearn.pipeline import Pipeline\n",
    "from sklearn.feature_extraction.text import CountVectorizer, \\\n",
    "                                            TfidfVectorizer\n",
    "\n",
    "\n",
    "#classifiers\n",
    "from sklearn.neighbors import KNeighborsClassifier\n",
    "from sklearn.linear_model import LogisticRegression\n",
    "\n",
    "from sklearn.ensemble import (RandomForestClassifier, \\\n",
    "                              ExtraTreesClassifier, \\\n",
    "                              BaggingClassifier,\n",
    "                              GradientBoostingClassifier, \\\n",
    "                              AdaBoostClassifier, \\\n",
    "                              VotingClassifier)\n",
    "\n",
    "from sklearn.tree import DecisionTreeClassifier, plot_tree, export_text\n",
    "from xgboost import XGBRegressor, XGBClassifier\n",
    "from sklearn.naive_bayes import MultinomialNB\n",
    "\n",
    "\n",
    "#metrics / model preprocessing\n",
    "from sklearn.metrics import (accuracy_score, confusion_matrix, \\\n",
    "                             plot_confusion_matrix, \\\n",
    "                             recall_score, precision_score)\n",
    "\n",
    "from sklearn.pipeline import Pipeline\n",
    "from sklearn.model_selection import train_test_split, \\\n",
    "                                    GridSearchCV, \\\n",
    "                                    cross_val_score, \\\n",
    "                                    RandomizedSearchCV\n",
    "\n",
    "from sklearn.preprocessing import StandardScaler\n",
    "from sklearn.dummy import DummyClassifier\n",
    "from scipy.stats import uniform, loguniform\n",
    "\n",
    "# easier to see full text with a bigger maxwidth:\n",
    "pd.options.display.max_colwidth = 200\n",
    "\n",
    "#show grid on plots\n",
    "sns.set_style('darkgrid')"
   ]
  },
  {
   "cell_type": "code",
   "execution_count": 2,
   "metadata": {
    "ExecuteTime": {
     "end_time": "2021-04-29T22:58:43.210611Z",
     "start_time": "2021-04-29T22:58:43.206586Z"
    }
   },
   "outputs": [],
   "source": [
    "#pip install python-Levenshtein\n",
    "#this is for the gensim.similarities.levenshtein submodule"
   ]
  },
  {
   "cell_type": "markdown",
   "metadata": {},
   "source": [
    "- - - \n",
    "\n",
    "### Pull in the files, resulting from our scrapes, into dataframes!"
   ]
  },
  {
   "cell_type": "code",
   "execution_count": 3,
   "metadata": {
    "ExecuteTime": {
     "end_time": "2021-04-29T22:58:43.514185Z",
     "start_time": "2021-04-29T22:58:43.223824Z"
    }
   },
   "outputs": [],
   "source": [
    "movie_deets2 = pd.read_csv('../data_outputs/good_movie_deets2.csv')\n",
    "bad_deets2 = pd.read_csv('../data_outputs/bad_movie_deets2.csv')\n",
    "all_movies = pd.read_csv('../data_outputs/all_movies.csv')"
   ]
  },
  {
   "cell_type": "markdown",
   "metadata": {},
   "source": [
    "### Get basic stats"
   ]
  },
  {
   "cell_type": "markdown",
   "metadata": {},
   "source": [
    "Let's look at basic stats about our data.\n",
    "\n",
    "How many records do we have, prior to cleaning?"
   ]
  },
  {
   "cell_type": "code",
   "execution_count": 4,
   "metadata": {
    "ExecuteTime": {
     "end_time": "2021-04-29T22:58:43.541870Z",
     "start_time": "2021-04-29T22:58:43.526398Z"
    }
   },
   "outputs": [
    {
     "data": {
      "text/plain": [
       "(8805, 9)"
      ]
     },
     "execution_count": 4,
     "metadata": {},
     "output_type": "execute_result"
    }
   ],
   "source": [
    "movie_deets2.shape"
   ]
  },
  {
   "cell_type": "code",
   "execution_count": 5,
   "metadata": {
    "ExecuteTime": {
     "end_time": "2021-04-29T22:58:43.562529Z",
     "start_time": "2021-04-29T22:58:43.546105Z"
    }
   },
   "outputs": [
    {
     "data": {
      "text/plain": [
       "(8180, 9)"
      ]
     },
     "execution_count": 5,
     "metadata": {},
     "output_type": "execute_result"
    }
   ],
   "source": [
    "bad_deets2.shape"
   ]
  },
  {
   "cell_type": "code",
   "execution_count": 6,
   "metadata": {
    "ExecuteTime": {
     "end_time": "2021-04-29T22:58:43.578539Z",
     "start_time": "2021-04-29T22:58:43.564724Z"
    }
   },
   "outputs": [
    {
     "data": {
      "text/plain": [
       "(9404, 9)"
      ]
     },
     "execution_count": 6,
     "metadata": {},
     "output_type": "execute_result"
    }
   ],
   "source": [
    "all_movies.shape"
   ]
  },
  {
   "cell_type": "markdown",
   "metadata": {},
   "source": [
    "What did we pull in?"
   ]
  },
  {
   "cell_type": "code",
   "execution_count": 7,
   "metadata": {
    "ExecuteTime": {
     "end_time": "2021-04-29T22:58:43.613537Z",
     "start_time": "2021-04-29T22:58:43.582984Z"
    },
    "scrolled": true
   },
   "outputs": [
    {
     "data": {
      "text/html": [
       "<div>\n",
       "<style scoped>\n",
       "    .dataframe tbody tr th:only-of-type {\n",
       "        vertical-align: middle;\n",
       "    }\n",
       "\n",
       "    .dataframe tbody tr th {\n",
       "        vertical-align: top;\n",
       "    }\n",
       "\n",
       "    .dataframe thead th {\n",
       "        text-align: right;\n",
       "    }\n",
       "</style>\n",
       "<table border=\"1\" class=\"dataframe\">\n",
       "  <thead>\n",
       "    <tr style=\"text-align: right;\">\n",
       "      <th></th>\n",
       "      <th>title</th>\n",
       "      <th>selftext</th>\n",
       "      <th>subreddit</th>\n",
       "      <th>created_utc</th>\n",
       "      <th>author</th>\n",
       "      <th>is_self</th>\n",
       "      <th>score</th>\n",
       "      <th>num_comments</th>\n",
       "      <th>timestamp</th>\n",
       "    </tr>\n",
       "  </thead>\n",
       "  <tbody>\n",
       "    <tr>\n",
       "      <th>0</th>\n",
       "      <td>Listen,share,repost \"culgrin d mayor\" Africa gorilla volume 1 EP on all PLATFORMS</td>\n",
       "      <td>NaN</td>\n",
       "      <td>MovieDetails</td>\n",
       "      <td>1619213155</td>\n",
       "      <td>culgrin1</td>\n",
       "      <td>False</td>\n",
       "      <td>1</td>\n",
       "      <td>0</td>\n",
       "      <td>2021-04-23</td>\n",
       "    </tr>\n",
       "    <tr>\n",
       "      <th>1</th>\n",
       "      <td>In Repo Man (1984), Miller says to Otto “suppose you're thinkin' about a plate o' shrimp. Suddenly someone'll say, plate, or shrimp, or plate o' shrimp out the blue” as an example of his concept o...</td>\n",
       "      <td>NaN</td>\n",
       "      <td>MovieDetails</td>\n",
       "      <td>1619214866</td>\n",
       "      <td>VictorBlimpmuscle</td>\n",
       "      <td>False</td>\n",
       "      <td>1</td>\n",
       "      <td>12</td>\n",
       "      <td>2021-04-23</td>\n",
       "    </tr>\n",
       "  </tbody>\n",
       "</table>\n",
       "</div>"
      ],
      "text/plain": [
       "                                                                                                                                                                                                     title  \\\n",
       "0                                                                                                                        Listen,share,repost \"culgrin d mayor\" Africa gorilla volume 1 EP on all PLATFORMS   \n",
       "1  In Repo Man (1984), Miller says to Otto “suppose you're thinkin' about a plate o' shrimp. Suddenly someone'll say, plate, or shrimp, or plate o' shrimp out the blue” as an example of his concept o...   \n",
       "\n",
       "  selftext     subreddit  created_utc             author  is_self  score  \\\n",
       "0      NaN  MovieDetails   1619213155           culgrin1    False      1   \n",
       "1      NaN  MovieDetails   1619214866  VictorBlimpmuscle    False      1   \n",
       "\n",
       "   num_comments   timestamp  \n",
       "0             0  2021-04-23  \n",
       "1            12  2021-04-23  "
      ]
     },
     "execution_count": 7,
     "metadata": {},
     "output_type": "execute_result"
    }
   ],
   "source": [
    "movie_deets2.head(2)"
   ]
  },
  {
   "cell_type": "code",
   "execution_count": 8,
   "metadata": {
    "ExecuteTime": {
     "end_time": "2021-04-29T22:58:43.649112Z",
     "start_time": "2021-04-29T22:58:43.624116Z"
    },
    "scrolled": true
   },
   "outputs": [
    {
     "data": {
      "text/html": [
       "<div>\n",
       "<style scoped>\n",
       "    .dataframe tbody tr th:only-of-type {\n",
       "        vertical-align: middle;\n",
       "    }\n",
       "\n",
       "    .dataframe tbody tr th {\n",
       "        vertical-align: top;\n",
       "    }\n",
       "\n",
       "    .dataframe thead th {\n",
       "        text-align: right;\n",
       "    }\n",
       "</style>\n",
       "<table border=\"1\" class=\"dataframe\">\n",
       "  <thead>\n",
       "    <tr style=\"text-align: right;\">\n",
       "      <th></th>\n",
       "      <th>title</th>\n",
       "      <th>selftext</th>\n",
       "      <th>subreddit</th>\n",
       "      <th>created_utc</th>\n",
       "      <th>author</th>\n",
       "      <th>is_self</th>\n",
       "      <th>score</th>\n",
       "      <th>num_comments</th>\n",
       "      <th>timestamp</th>\n",
       "    </tr>\n",
       "  </thead>\n",
       "  <tbody>\n",
       "    <tr>\n",
       "      <th>0</th>\n",
       "      <td>In the movie Bullworth (1998), a police officer is seen not shooting black people.</td>\n",
       "      <td>NaN</td>\n",
       "      <td>shittymoviedetails</td>\n",
       "      <td>1619214935</td>\n",
       "      <td>Wuz314159</td>\n",
       "      <td>False</td>\n",
       "      <td>1</td>\n",
       "      <td>1</td>\n",
       "      <td>2021-04-23</td>\n",
       "    </tr>\n",
       "    <tr>\n",
       "      <th>1</th>\n",
       "      <td>The Nightmare Before Christmas (1993), when he arrives at Christmas Town, Jack sings \"what's this? There's white things in the air\". 22 seconds later he sings \"there are children throwing snowball...</td>\n",
       "      <td>NaN</td>\n",
       "      <td>shittymoviedetails</td>\n",
       "      <td>1619217853</td>\n",
       "      <td>Nerf_Herder86</td>\n",
       "      <td>False</td>\n",
       "      <td>1</td>\n",
       "      <td>0</td>\n",
       "      <td>2021-04-23</td>\n",
       "    </tr>\n",
       "  </tbody>\n",
       "</table>\n",
       "</div>"
      ],
      "text/plain": [
       "                                                                                                                                                                                                     title  \\\n",
       "0                                                                                                                       In the movie Bullworth (1998), a police officer is seen not shooting black people.   \n",
       "1  The Nightmare Before Christmas (1993), when he arrives at Christmas Town, Jack sings \"what's this? There's white things in the air\". 22 seconds later he sings \"there are children throwing snowball...   \n",
       "\n",
       "  selftext           subreddit  created_utc         author  is_self  score  \\\n",
       "0      NaN  shittymoviedetails   1619214935      Wuz314159    False      1   \n",
       "1      NaN  shittymoviedetails   1619217853  Nerf_Herder86    False      1   \n",
       "\n",
       "   num_comments   timestamp  \n",
       "0             1  2021-04-23  \n",
       "1             0  2021-04-23  "
      ]
     },
     "execution_count": 8,
     "metadata": {},
     "output_type": "execute_result"
    }
   ],
   "source": [
    "bad_deets2.head(2)"
   ]
  },
  {
   "cell_type": "code",
   "execution_count": 9,
   "metadata": {
    "ExecuteTime": {
     "end_time": "2021-04-29T22:58:43.706860Z",
     "start_time": "2021-04-29T22:58:43.660930Z"
    },
    "scrolled": true
   },
   "outputs": [
    {
     "data": {
      "text/html": [
       "<div>\n",
       "<style scoped>\n",
       "    .dataframe tbody tr th:only-of-type {\n",
       "        vertical-align: middle;\n",
       "    }\n",
       "\n",
       "    .dataframe tbody tr th {\n",
       "        vertical-align: top;\n",
       "    }\n",
       "\n",
       "    .dataframe thead th {\n",
       "        text-align: right;\n",
       "    }\n",
       "</style>\n",
       "<table border=\"1\" class=\"dataframe\">\n",
       "  <thead>\n",
       "    <tr style=\"text-align: right;\">\n",
       "      <th></th>\n",
       "      <th>title</th>\n",
       "      <th>selftext</th>\n",
       "      <th>subreddit</th>\n",
       "      <th>created_utc</th>\n",
       "      <th>author</th>\n",
       "      <th>is_self</th>\n",
       "      <th>score</th>\n",
       "      <th>num_comments</th>\n",
       "      <th>timestamp</th>\n",
       "    </tr>\n",
       "  </thead>\n",
       "  <tbody>\n",
       "    <tr>\n",
       "      <th>0</th>\n",
       "      <td>Russian sci-fi film about artificial intelligence testing.</td>\n",
       "      <td>NaN</td>\n",
       "      <td>movies</td>\n",
       "      <td>1619216594</td>\n",
       "      <td>Anixx</td>\n",
       "      <td>False</td>\n",
       "      <td>1</td>\n",
       "      <td>0</td>\n",
       "      <td>2021-04-23</td>\n",
       "    </tr>\n",
       "    <tr>\n",
       "      <th>1</th>\n",
       "      <td>Just why! Miranda is not in the Lizzie McGuire Movie and while the movie was still good, there's a huge hole without Miranda especially when they go to a country like Rome. And Miranda was already...</td>\n",
       "      <td>[removed]</td>\n",
       "      <td>movies</td>\n",
       "      <td>1619217134</td>\n",
       "      <td>EvilIceCream1755</td>\n",
       "      <td>True</td>\n",
       "      <td>1</td>\n",
       "      <td>0</td>\n",
       "      <td>2021-04-23</td>\n",
       "    </tr>\n",
       "  </tbody>\n",
       "</table>\n",
       "</div>"
      ],
      "text/plain": [
       "                                                                                                                                                                                                     title  \\\n",
       "0                                                                                                                                               Russian sci-fi film about artificial intelligence testing.   \n",
       "1  Just why! Miranda is not in the Lizzie McGuire Movie and while the movie was still good, there's a huge hole without Miranda especially when they go to a country like Rome. And Miranda was already...   \n",
       "\n",
       "    selftext subreddit  created_utc            author  is_self  score  \\\n",
       "0        NaN    movies   1619216594             Anixx    False      1   \n",
       "1  [removed]    movies   1619217134  EvilIceCream1755     True      1   \n",
       "\n",
       "   num_comments   timestamp  \n",
       "0             0  2021-04-23  \n",
       "1             0  2021-04-23  "
      ]
     },
     "execution_count": 9,
     "metadata": {},
     "output_type": "execute_result"
    }
   ],
   "source": [
    "all_movies.head(2)"
   ]
  },
  {
   "cell_type": "markdown",
   "metadata": {},
   "source": [
    "Let's actually merge our dataframes to make it easier for processing."
   ]
  },
  {
   "cell_type": "code",
   "execution_count": 10,
   "metadata": {
    "ExecuteTime": {
     "end_time": "2021-04-29T22:58:43.801914Z",
     "start_time": "2021-04-29T22:58:43.723798Z"
    }
   },
   "outputs": [
    {
     "data": {
      "text/html": [
       "<div>\n",
       "<style scoped>\n",
       "    .dataframe tbody tr th:only-of-type {\n",
       "        vertical-align: middle;\n",
       "    }\n",
       "\n",
       "    .dataframe tbody tr th {\n",
       "        vertical-align: top;\n",
       "    }\n",
       "\n",
       "    .dataframe thead th {\n",
       "        text-align: right;\n",
       "    }\n",
       "</style>\n",
       "<table border=\"1\" class=\"dataframe\">\n",
       "  <thead>\n",
       "    <tr style=\"text-align: right;\">\n",
       "      <th></th>\n",
       "      <th>title</th>\n",
       "      <th>selftext</th>\n",
       "      <th>subreddit</th>\n",
       "      <th>created_utc</th>\n",
       "      <th>author</th>\n",
       "      <th>is_self</th>\n",
       "      <th>score</th>\n",
       "      <th>num_comments</th>\n",
       "      <th>timestamp</th>\n",
       "    </tr>\n",
       "  </thead>\n",
       "  <tbody>\n",
       "    <tr>\n",
       "      <th>0</th>\n",
       "      <td>In the movie Bullworth (1998), a police officer is seen not shooting black people.</td>\n",
       "      <td>NaN</td>\n",
       "      <td>shittymoviedetails</td>\n",
       "      <td>1619214935</td>\n",
       "      <td>Wuz314159</td>\n",
       "      <td>False</td>\n",
       "      <td>1</td>\n",
       "      <td>1</td>\n",
       "      <td>2021-04-23</td>\n",
       "    </tr>\n",
       "  </tbody>\n",
       "</table>\n",
       "</div>"
      ],
      "text/plain": [
       "                                                                                title  \\\n",
       "0  In the movie Bullworth (1998), a police officer is seen not shooting black people.   \n",
       "\n",
       "  selftext           subreddit  created_utc     author  is_self  score  \\\n",
       "0      NaN  shittymoviedetails   1619214935  Wuz314159    False      1   \n",
       "\n",
       "   num_comments   timestamp  \n",
       "0             1  2021-04-23  "
      ]
     },
     "execution_count": 10,
     "metadata": {},
     "output_type": "execute_result"
    }
   ],
   "source": [
    "#pd.concat([df1, df2])\n",
    "df = pd.concat([bad_deets2, movie_deets2, all_movies])\n",
    "df.head(1)"
   ]
  },
  {
   "cell_type": "code",
   "execution_count": 11,
   "metadata": {
    "ExecuteTime": {
     "end_time": "2021-04-29T22:58:43.821630Z",
     "start_time": "2021-04-29T22:58:43.806044Z"
    }
   },
   "outputs": [
    {
     "data": {
      "text/plain": [
       "(26389, 9)"
      ]
     },
     "execution_count": 11,
     "metadata": {},
     "output_type": "execute_result"
    }
   ],
   "source": [
    "df.shape"
   ]
  },
  {
   "cell_type": "markdown",
   "metadata": {},
   "source": [
    "What data types are we dealing with?"
   ]
  },
  {
   "cell_type": "code",
   "execution_count": 12,
   "metadata": {
    "ExecuteTime": {
     "end_time": "2021-04-29T22:58:43.909671Z",
     "start_time": "2021-04-29T22:58:43.826353Z"
    },
    "scrolled": false
   },
   "outputs": [
    {
     "name": "stdout",
     "output_type": "stream",
     "text": [
      "<class 'pandas.core.frame.DataFrame'>\n",
      "Int64Index: 26389 entries, 0 to 9403\n",
      "Data columns (total 9 columns):\n",
      " #   Column        Non-Null Count  Dtype \n",
      "---  ------        --------------  ----- \n",
      " 0   title         26389 non-null  object\n",
      " 1   selftext      7350 non-null   object\n",
      " 2   subreddit     26389 non-null  object\n",
      " 3   created_utc   26389 non-null  int64 \n",
      " 4   author        26389 non-null  object\n",
      " 5   is_self       26389 non-null  bool  \n",
      " 6   score         26389 non-null  int64 \n",
      " 7   num_comments  26389 non-null  int64 \n",
      " 8   timestamp     26389 non-null  object\n",
      "dtypes: bool(1), int64(3), object(5)\n",
      "memory usage: 1.8+ MB\n"
     ]
    }
   ],
   "source": [
    "df.info()"
   ]
  },
  {
   "cell_type": "markdown",
   "metadata": {},
   "source": [
    "A few objects, like text fields, are expected, and will need to be transformed / vectorized for modeling.\n",
    "\n",
    "Let's also convert the time stamps to a usable format, just in case they come in handy for modeling."
   ]
  },
  {
   "cell_type": "markdown",
   "metadata": {},
   "source": [
    "A few objects, like text fields, are expected, and will need to be transformed / vectorized for modeling.\n",
    "\n",
    "Let's also convert the time stamps to a usable format, just in case they come in handy for modeling. Further, the UTC is actually not really something we want in our model, and it's not really numeric either (it's a datetime concept if anything). Let's take care of that as well."
   ]
  },
  {
   "cell_type": "code",
   "execution_count": 13,
   "metadata": {
    "ExecuteTime": {
     "end_time": "2021-04-29T22:59:03.080441Z",
     "start_time": "2021-04-29T22:58:43.928702Z"
    }
   },
   "outputs": [],
   "source": [
    "#convert time stamps\n",
    "#.apply(pd.to_datetime) - ref.: https://stackoverflow.com/questions/26763344/convert-pandas-column-to-datetime\n",
    "df['timestamp'] = df['timestamp'].apply(pd.to_datetime)\n",
    "df['created_utc'] = df['created_utc'].apply(pd.to_datetime)"
   ]
  },
  {
   "cell_type": "markdown",
   "metadata": {},
   "source": [
    "Now we can try to obtain basic descriptive stats."
   ]
  },
  {
   "cell_type": "code",
   "execution_count": 14,
   "metadata": {
    "ExecuteTime": {
     "end_time": "2021-04-29T22:59:03.150435Z",
     "start_time": "2021-04-29T22:59:03.083165Z"
    },
    "scrolled": true
   },
   "outputs": [
    {
     "data": {
      "text/html": [
       "<div>\n",
       "<style scoped>\n",
       "    .dataframe tbody tr th:only-of-type {\n",
       "        vertical-align: middle;\n",
       "    }\n",
       "\n",
       "    .dataframe tbody tr th {\n",
       "        vertical-align: top;\n",
       "    }\n",
       "\n",
       "    .dataframe thead th {\n",
       "        text-align: right;\n",
       "    }\n",
       "</style>\n",
       "<table border=\"1\" class=\"dataframe\">\n",
       "  <thead>\n",
       "    <tr style=\"text-align: right;\">\n",
       "      <th></th>\n",
       "      <th>score</th>\n",
       "      <th>num_comments</th>\n",
       "    </tr>\n",
       "  </thead>\n",
       "  <tbody>\n",
       "    <tr>\n",
       "      <th>count</th>\n",
       "      <td>26389.0</td>\n",
       "      <td>26389.0</td>\n",
       "    </tr>\n",
       "    <tr>\n",
       "      <th>mean</th>\n",
       "      <td>57.4</td>\n",
       "      <td>18.7</td>\n",
       "    </tr>\n",
       "    <tr>\n",
       "      <th>std</th>\n",
       "      <td>1400.0</td>\n",
       "      <td>124.0</td>\n",
       "    </tr>\n",
       "    <tr>\n",
       "      <th>min</th>\n",
       "      <td>0.0</td>\n",
       "      <td>0.0</td>\n",
       "    </tr>\n",
       "    <tr>\n",
       "      <th>25%</th>\n",
       "      <td>1.0</td>\n",
       "      <td>0.0</td>\n",
       "    </tr>\n",
       "    <tr>\n",
       "      <th>50%</th>\n",
       "      <td>1.0</td>\n",
       "      <td>2.0</td>\n",
       "    </tr>\n",
       "    <tr>\n",
       "      <th>75%</th>\n",
       "      <td>1.0</td>\n",
       "      <td>5.0</td>\n",
       "    </tr>\n",
       "    <tr>\n",
       "      <th>max</th>\n",
       "      <td>72489.0</td>\n",
       "      <td>6036.0</td>\n",
       "    </tr>\n",
       "  </tbody>\n",
       "</table>\n",
       "</div>"
      ],
      "text/plain": [
       "         score  num_comments\n",
       "count  26389.0       26389.0\n",
       "mean      57.4          18.7\n",
       "std     1400.0         124.0\n",
       "min        0.0           0.0\n",
       "25%        1.0           0.0\n",
       "50%        1.0           2.0\n",
       "75%        1.0           5.0\n",
       "max    72489.0        6036.0"
      ]
     },
     "execution_count": 14,
     "metadata": {},
     "output_type": "execute_result"
    }
   ],
   "source": [
    "df.describe().round(1)"
   ]
  },
  {
   "cell_type": "markdown",
   "metadata": {},
   "source": [
    "Not much to look at here at the moment. The notables are the distribution of comments. We'll want to perform some more specific distribution analyses a little down the road, once done with the cleaning, to make more sense out of these stats."
   ]
  },
  {
   "cell_type": "markdown",
   "metadata": {},
   "source": [
    "Where might we have issues with missing data?"
   ]
  },
  {
   "cell_type": "code",
   "execution_count": 15,
   "metadata": {
    "ExecuteTime": {
     "end_time": "2021-04-29T22:59:03.188797Z",
     "start_time": "2021-04-29T22:59:03.160283Z"
    },
    "scrolled": true
   },
   "outputs": [
    {
     "data": {
      "text/plain": [
       "title               0\n",
       "selftext        19039\n",
       "subreddit           0\n",
       "created_utc         0\n",
       "author              0\n",
       "is_self             0\n",
       "score               0\n",
       "num_comments        0\n",
       "timestamp           0\n",
       "dtype: int64"
      ]
     },
     "execution_count": 15,
     "metadata": {},
     "output_type": "execute_result"
    }
   ],
   "source": [
    "df.isnull().sum()"
   ]
  },
  {
   "cell_type": "markdown",
   "metadata": {},
   "source": [
    "- - - \n",
    "\n",
    "### Imputation and cleaning strategy\n",
    "\n",
    "Our strategy is to first remove anything with selftext appearing to have been deleted. Even though these are not read as nulls, they effectively are, for our purposes.\n",
    "\n",
    "We knew that we'd have quite a few issues with missing self-text, when we shose to scrape unfiltered data. To remedy this, we could impute all nulls where self text is missing with the post's title, but this might result in inadvertent text duplicates when we train our model. So, instead, we are going to engineer a new column and merge the self-text and title text. _Note: Attribution for the idea to Riley R._\n",
    "\n",
    "We will further dedupe and get rid of ostensibly spammy looking posts, by adding stop words like \"repost\", \"reshare\", as well as dropping any dominant authors or ones that sound spammy (\"bot\", \"auto\").\n",
    "\n",
    "We will also need to get rid of any link references.\n",
    "\n",
    "Okay, let's start by dropping anything with the word \"removed\" or \"deleted\". It's a tiny portion of our set, so I am not super worried about losing those rows of data."
   ]
  },
  {
   "cell_type": "code",
   "execution_count": 16,
   "metadata": {
    "ExecuteTime": {
     "end_time": "2021-04-29T22:59:03.279150Z",
     "start_time": "2021-04-29T22:59:03.194786Z"
    }
   },
   "outputs": [],
   "source": [
    "#df[~df['col'].str.contains('value1|value2')]\n",
    "#syntactic ref from https://stackoverflow.com/questions/52297740/typeerror-bad-operand-type-for-unary-float\n",
    "\n",
    "df = df[~df['selftext'].str.contains('deleted|removed', na=False)]\n",
    "\n",
    "#df = df[df.selftext != 'deleted']\n",
    "#df = df[df.selftext != 'removed']"
   ]
  },
  {
   "cell_type": "code",
   "execution_count": 17,
   "metadata": {
    "ExecuteTime": {
     "end_time": "2021-04-29T22:59:03.315035Z",
     "start_time": "2021-04-29T22:59:03.284051Z"
    }
   },
   "outputs": [
    {
     "data": {
      "text/html": [
       "<div>\n",
       "<style scoped>\n",
       "    .dataframe tbody tr th:only-of-type {\n",
       "        vertical-align: middle;\n",
       "    }\n",
       "\n",
       "    .dataframe tbody tr th {\n",
       "        vertical-align: top;\n",
       "    }\n",
       "\n",
       "    .dataframe thead th {\n",
       "        text-align: right;\n",
       "    }\n",
       "</style>\n",
       "<table border=\"1\" class=\"dataframe\">\n",
       "  <thead>\n",
       "    <tr style=\"text-align: right;\">\n",
       "      <th></th>\n",
       "      <th>title</th>\n",
       "      <th>selftext</th>\n",
       "      <th>subreddit</th>\n",
       "      <th>created_utc</th>\n",
       "      <th>author</th>\n",
       "      <th>is_self</th>\n",
       "      <th>score</th>\n",
       "      <th>num_comments</th>\n",
       "      <th>timestamp</th>\n",
       "    </tr>\n",
       "  </thead>\n",
       "  <tbody>\n",
       "    <tr>\n",
       "      <th>0</th>\n",
       "      <td>In the movie Bullworth (1998), a police officer is seen not shooting black people.</td>\n",
       "      <td>NaN</td>\n",
       "      <td>shittymoviedetails</td>\n",
       "      <td>1970-01-01 00:00:01.619214935</td>\n",
       "      <td>Wuz314159</td>\n",
       "      <td>False</td>\n",
       "      <td>1</td>\n",
       "      <td>1</td>\n",
       "      <td>2021-04-23</td>\n",
       "    </tr>\n",
       "  </tbody>\n",
       "</table>\n",
       "</div>"
      ],
      "text/plain": [
       "                                                                                title  \\\n",
       "0  In the movie Bullworth (1998), a police officer is seen not shooting black people.   \n",
       "\n",
       "  selftext           subreddit                   created_utc     author  \\\n",
       "0      NaN  shittymoviedetails 1970-01-01 00:00:01.619214935  Wuz314159   \n",
       "\n",
       "   is_self  score  num_comments  timestamp  \n",
       "0    False      1             1 2021-04-23  "
      ]
     },
     "execution_count": 17,
     "metadata": {},
     "output_type": "execute_result"
    }
   ],
   "source": [
    "#check\n",
    "df.head(1)"
   ]
  },
  {
   "cell_type": "markdown",
   "metadata": {},
   "source": [
    "Let's confirm that those bad rows are gone."
   ]
  },
  {
   "cell_type": "code",
   "execution_count": 18,
   "metadata": {
    "ExecuteTime": {
     "end_time": "2021-04-29T22:59:03.348086Z",
     "start_time": "2021-04-29T22:59:03.318435Z"
    }
   },
   "outputs": [
    {
     "data": {
      "text/plain": [
       "I believe people forget to mention why Lucy keeps egging on about the thoughts of ending this nonexistent relationship. If this is meant to be an idealized girlfriend, then there’d be no need for her to feel uneasy about moving on from Jake. That could mean two things: Jake originally planned to stop living in his own thoughts of the past and just face reality. Or: This movie is about Jake tragically facing the truth but having an inability to live on. \\n\\nThe scene with Jake’s parents could represent his final goodbye’s with them. This entire interaction holds so many contradictions, but what I want to focus on is the mom mistaking Jake’s 20th birthday to be his 50th. Jake could’ve actually been there in the flesh or Jake couldn’t muster the perfect time to mentally leave his parents. The inconsistencies in Lucy’s telling of how they first met could support this too. After the runaround of a story, she mentions how Jake finally became a “normal” and “funny” person.. but that doesn’t sound like something Jake would be. Jake was working these ideas in real time because everything had to feel right to him. Then Lucy mentions how they’ve been together for only two weeks but feels as though it’s been far longer. Jake could’ve rehearsed this moment ,or at least the idea of having a girlfriend, for years on end, unable to perfect each sequence. \\n\\nLucy comes to this realization and then plans to officially end things on the staircase. She offers the idea of wanting to “make a clean break” because “he could only wait for so long”. At this point, Lucy feels unaware of how much control she has over herself. She feels as if melded to Jake’s own self. Because that’s what she is, but it’s coming to a point where Jake couldn’t differentiate a false reality from what’s real. This is made concrete when Lucy sees a picture of Jake as a child. Lucy begins to question Jake’s past when she thinks “wasn’t it me?” It also shows how little Lucy has ever mentioned of her family or her own past, because she never used this to relate to Jake in any way besides not knowing who is who. The only person that was ever on her mind was just Jake. Jake is unable to establish a clear sense of character but he no longer cares. He just moves on to the next moment, seeking to find the finale of closing things off with his parents. \\n\\nAround the same time later, both Jake and Lucy begin to cry. Jake could’ve finally found reconcilement, even if it be abrupt and short, in departing from his family. For Lucy to cry with unannounced thoughts, that’s to tell the viewer how connected her and Jake truly are. Too much of Jake was seeping into the figment of what be Lucy.  \\n\\nMoving on to the final scenes of the movie, Lucy would later on ask herself “how long would it take to die from hypothermia?” Which sort of foreshadowed Jake’s untimely death in the final scenes. Lucy would then chase after Jake and traverse through the school. Skipping the dialogue she holds with the janitor, a.k.a Jake talking to himself, she takes part in a dance. Jake ,the janitor, kills this false idea once and for all and then reacts in real time with heavy breaths as he gets ready and moves towards the car. Once inside, Jake puts the keys down and just sits until he goes mad. These are his final moments and he chose this car to be his burial ground. Cutting to the end credits, we see a bright sunny day and snow covering some of the frame. If any moment in this movie can relate to this, it’d be when the father sees the many paintings of Lucy’s. He mentions how could he “feel something, if there’s not a person feeling... sad or joyous”. Going by the father’s words, what am I to feel if there’s no person there? Well, there is. Jake is just hidden in plain sight, covered by the snow on the car. He died of the aforementioned hypothermia after finally cutting ties with his reminders of a false life.  Hence the double entendre in the name “I’m Thinking of Ending Things”.    2\n",
       "There was a big movie sale last year on digital media with films. I was just wondering if the same sale was happening this year and if anyone knows anything that might or might not happen this year again so that I know that for sure whether to wait or spend my money on films that I want or if I wait for something that won’t happen                                                                                                                                                                                                                                                                                                                                                                                                                                                                                                                                                                                                                                                                                                                                                                                                                                                                                                                                                                                                                                                                                                                                                                                                                                                                                                                                                                                                                                                                                                                                                                                                                                                                                                                                                                                                                                                                                                                                                                                                                                                                                                                                                                                                                                                                                                                                                                                                                                                                                                                                                                                                                                                                                                                                                                                                                                                                                                                                                                                                                                                                                                                                                                                                                                                                                                                                                                                                                                                                                                                                                                                                                                                                                                                                                                                             2\n",
       "Name: selftext, dtype: int64"
      ]
     },
     "execution_count": 18,
     "metadata": {},
     "output_type": "execute_result"
    }
   ],
   "source": [
    "#check again that removed and deleted selftexts are no longer in frame\n",
    "df['selftext'].value_counts().sort_values(ascending=False)[:2]"
   ]
  },
  {
   "cell_type": "markdown",
   "metadata": {},
   "source": [
    "We should see the dropped rows reflected in the shape."
   ]
  },
  {
   "cell_type": "code",
   "execution_count": 19,
   "metadata": {
    "ExecuteTime": {
     "end_time": "2021-04-29T22:59:03.364268Z",
     "start_time": "2021-04-29T22:59:03.350300Z"
    }
   },
   "outputs": [
    {
     "data": {
      "text/plain": [
       "(21798, 9)"
      ]
     },
     "execution_count": 19,
     "metadata": {},
     "output_type": "execute_result"
    }
   ],
   "source": [
    "#Confirm data frame has shrunk by 227 rows\n",
    "df.shape"
   ]
  },
  {
   "cell_type": "markdown",
   "metadata": {},
   "source": [
    "Finally, the nulls should still be intact -- we are going to take care of that in a moment."
   ]
  },
  {
   "cell_type": "code",
   "execution_count": 20,
   "metadata": {
    "ExecuteTime": {
     "end_time": "2021-04-29T22:59:03.391386Z",
     "start_time": "2021-04-29T22:59:03.368664Z"
    },
    "scrolled": true
   },
   "outputs": [
    {
     "data": {
      "text/plain": [
       "title               0\n",
       "selftext        19039\n",
       "subreddit           0\n",
       "created_utc         0\n",
       "author              0\n",
       "is_self             0\n",
       "score               0\n",
       "num_comments        0\n",
       "timestamp           0\n",
       "dtype: int64"
      ]
     },
     "execution_count": 20,
     "metadata": {},
     "output_type": "execute_result"
    }
   ],
   "source": [
    "df.isnull().sum()"
   ]
  },
  {
   "cell_type": "markdown",
   "metadata": {},
   "source": [
    "We also need to get rid of the link mentions."
   ]
  },
  {
   "cell_type": "code",
   "execution_count": 21,
   "metadata": {
    "ExecuteTime": {
     "end_time": "2021-04-29T22:59:03.646310Z",
     "start_time": "2021-04-29T22:59:03.394850Z"
    }
   },
   "outputs": [],
   "source": [
    "#df['column'] = df['column'].replace(r'http\\S+', '', regex=True).replace(r'www\\S+', '', regex=True)\n",
    "#from https://stackoverflow.com/questions/51994254/removing-url-from-a-column-in-pandas-dataframe/51994366\n",
    "\n",
    "df['selftext'] = df['selftext'].replace(r'http\\S+', '', regex=True).replace(\n",
    "    r'www\\S+', '', regex=True).replace(r'\\&amp\\S+', '', regex=True)"
   ]
  },
  {
   "cell_type": "code",
   "execution_count": 22,
   "metadata": {
    "ExecuteTime": {
     "end_time": "2021-04-29T22:59:03.685958Z",
     "start_time": "2021-04-29T22:59:03.653373Z"
    }
   },
   "outputs": [
    {
     "data": {
      "text/plain": [
       "pandas.core.series.Series"
      ]
     },
     "execution_count": 22,
     "metadata": {},
     "output_type": "execute_result"
    }
   ],
   "source": [
    "type(df['selftext'])"
   ]
  },
  {
   "cell_type": "code",
   "execution_count": 23,
   "metadata": {
    "ExecuteTime": {
     "end_time": "2021-04-29T22:59:05.861656Z",
     "start_time": "2021-04-29T22:59:03.769373Z"
    }
   },
   "outputs": [],
   "source": [
    "#from https://stackoverflow.com/questions/44227748/removing-newlines-from-messy-strings-in-pandas-dataframe-cells\n",
    "\n",
    "df.replace(to_replace=[r\"\\\\t|\\\\n|\\\\r\", \"\\t|\\n|\\r\"], value=[\"\",\"\"], regex=True, inplace=True)\n",
    "\n",
    "df = df.replace(r'\\\\n','', regex=True) "
   ]
  },
  {
   "cell_type": "code",
   "execution_count": 24,
   "metadata": {
    "ExecuteTime": {
     "end_time": "2021-04-29T22:59:07.086586Z",
     "start_time": "2021-04-29T22:59:05.877919Z"
    }
   },
   "outputs": [],
   "source": [
    "#Thanks to Aderinsola, Dan and Riley R. for collaboration on this code\n",
    "df = df.replace(r'[^a-zA-Z0-9]', ' ', regex=True)"
   ]
  },
  {
   "cell_type": "markdown",
   "metadata": {},
   "source": [
    "Now let's create our all-text column that we'll train on later.\n",
    "\n",
    "However, we still need an imputation strategy for the NaNs. I'm choosing to fill them in with spaces."
   ]
  },
  {
   "cell_type": "code",
   "execution_count": 25,
   "metadata": {
    "ExecuteTime": {
     "end_time": "2021-04-29T22:59:07.108853Z",
     "start_time": "2021-04-29T22:59:07.093601Z"
    }
   },
   "outputs": [],
   "source": [
    "#nuke nulls\n",
    "df['selftext'].fillna('', inplace=True)"
   ]
  },
  {
   "cell_type": "code",
   "execution_count": 26,
   "metadata": {
    "ExecuteTime": {
     "end_time": "2021-04-29T22:59:07.290324Z",
     "start_time": "2021-04-29T22:59:07.117731Z"
    }
   },
   "outputs": [
    {
     "data": {
      "text/html": [
       "<div>\n",
       "<style scoped>\n",
       "    .dataframe tbody tr th:only-of-type {\n",
       "        vertical-align: middle;\n",
       "    }\n",
       "\n",
       "    .dataframe tbody tr th {\n",
       "        vertical-align: top;\n",
       "    }\n",
       "\n",
       "    .dataframe thead th {\n",
       "        text-align: right;\n",
       "    }\n",
       "</style>\n",
       "<table border=\"1\" class=\"dataframe\">\n",
       "  <thead>\n",
       "    <tr style=\"text-align: right;\">\n",
       "      <th></th>\n",
       "      <th>title</th>\n",
       "      <th>selftext</th>\n",
       "      <th>subreddit</th>\n",
       "      <th>created_utc</th>\n",
       "      <th>author</th>\n",
       "      <th>is_self</th>\n",
       "      <th>score</th>\n",
       "      <th>num_comments</th>\n",
       "      <th>timestamp</th>\n",
       "      <th>all_text</th>\n",
       "    </tr>\n",
       "  </thead>\n",
       "  <tbody>\n",
       "    <tr>\n",
       "      <th>0</th>\n",
       "      <td>In the movie Bullworth  1998   a police officer is seen not shooting black people</td>\n",
       "      <td></td>\n",
       "      <td>shittymoviedetails</td>\n",
       "      <td>1970-01-01 00:00:01.619214935</td>\n",
       "      <td>Wuz314159</td>\n",
       "      <td>False</td>\n",
       "      <td>1</td>\n",
       "      <td>1</td>\n",
       "      <td>2021-04-23</td>\n",
       "      <td>In the movie Bullworth  1998   a police officer is seen not shooting black people .</td>\n",
       "    </tr>\n",
       "    <tr>\n",
       "      <th>13</th>\n",
       "      <td>After the commercial success of Kitchen Gun  and Toilet Grenade   Peter Serafinowicz expanded his business to offer a larger variety of cleaning products in John Wick  Chapter 2</td>\n",
       "      <td></td>\n",
       "      <td>shittymoviedetails</td>\n",
       "      <td>1970-01-01 00:00:01.619251458</td>\n",
       "      <td>Raoshard</td>\n",
       "      <td>False</td>\n",
       "      <td>1</td>\n",
       "      <td>46</td>\n",
       "      <td>2021-04-24</td>\n",
       "      <td>After the commercial success of Kitchen Gun  and Toilet Grenade   Peter Serafinowicz expanded his business to offer a larger variety of cleaning products in John Wick  Chapter 2.</td>\n",
       "    </tr>\n",
       "    <tr>\n",
       "      <th>23</th>\n",
       "      <td>Guy makes his interestingly bizarre rendition that s addictive</td>\n",
       "      <td></td>\n",
       "      <td>shittymoviedetails</td>\n",
       "      <td>1970-01-01 00:00:01.619283112</td>\n",
       "      <td>TitsAmazing</td>\n",
       "      <td>False</td>\n",
       "      <td>1</td>\n",
       "      <td>0</td>\n",
       "      <td>2021-04-24</td>\n",
       "      <td>Guy makes his interestingly bizarre rendition that s addictive.</td>\n",
       "    </tr>\n",
       "    <tr>\n",
       "      <th>22</th>\n",
       "      <td>The film title No Country For Old Men  2007  refers to the fact that Florida is not  in fact  a country  It is a state</td>\n",
       "      <td></td>\n",
       "      <td>shittymoviedetails</td>\n",
       "      <td>1970-01-01 00:00:01.619282093</td>\n",
       "      <td>NuclearJesusMan</td>\n",
       "      <td>False</td>\n",
       "      <td>1</td>\n",
       "      <td>5</td>\n",
       "      <td>2021-04-24</td>\n",
       "      <td>The film title No Country For Old Men  2007  refers to the fact that Florida is not  in fact  a country  It is a state .</td>\n",
       "    </tr>\n",
       "    <tr>\n",
       "      <th>21</th>\n",
       "      <td>In 2001  A Space Odyssey  1968   much of the film focuses on characters walking slowly  in silence  This is a reference to the fact that holy fuck this movie is boring as all hell</td>\n",
       "      <td></td>\n",
       "      <td>shittymoviedetails</td>\n",
       "      <td>1970-01-01 00:00:01.619281182</td>\n",
       "      <td>NuclearJesusMan</td>\n",
       "      <td>False</td>\n",
       "      <td>1</td>\n",
       "      <td>20</td>\n",
       "      <td>2021-04-24</td>\n",
       "      <td>In 2001  A Space Odyssey  1968   much of the film focuses on characters walking slowly  in silence  This is a reference to the fact that holy fuck this movie is boring as all hell .</td>\n",
       "    </tr>\n",
       "    <tr>\n",
       "      <th>20</th>\n",
       "      <td>In Captain America   The Winter Soldier  2014   the Winter Soldier looks like a crab in this scene  This is a reference to the actors name Sebastian  who is a crab in another Disney film  The Litt...</td>\n",
       "      <td></td>\n",
       "      <td>shittymoviedetails</td>\n",
       "      <td>1970-01-01 00:00:01.619280462</td>\n",
       "      <td>KennKennyKenKen</td>\n",
       "      <td>False</td>\n",
       "      <td>1</td>\n",
       "      <td>61</td>\n",
       "      <td>2021-04-24</td>\n",
       "      <td>In Captain America   The Winter Soldier  2014   the Winter Soldier looks like a crab in this scene  This is a reference to the actors name Sebastian  who is a crab in another Disney film  The Litt...</td>\n",
       "    </tr>\n",
       "    <tr>\n",
       "      <th>19</th>\n",
       "      <td>In Justice League  2021  the kid from the liquor store whom Bruce was referring to is actually McLovin</td>\n",
       "      <td></td>\n",
       "      <td>shittymoviedetails</td>\n",
       "      <td>1970-01-01 00:00:01.619278471</td>\n",
       "      <td>pale guy</td>\n",
       "      <td>False</td>\n",
       "      <td>1</td>\n",
       "      <td>0</td>\n",
       "      <td>2021-04-24</td>\n",
       "      <td>In Justice League  2021  the kid from the liquor store whom Bruce was referring to is actually McLovin .</td>\n",
       "    </tr>\n",
       "    <tr>\n",
       "      <th>18</th>\n",
       "      <td>Captain America 4  TBA  has recently been announced  Here is the leaked trailer</td>\n",
       "      <td></td>\n",
       "      <td>shittymoviedetails</td>\n",
       "      <td>1970-01-01 00:00:01.619277392</td>\n",
       "      <td>KennKennyKenKen</td>\n",
       "      <td>False</td>\n",
       "      <td>1</td>\n",
       "      <td>13</td>\n",
       "      <td>2021-04-24</td>\n",
       "      <td>Captain America 4  TBA  has recently been announced  Here is the leaked trailer .</td>\n",
       "    </tr>\n",
       "    <tr>\n",
       "      <th>17</th>\n",
       "      <td>In The Curious Case of Benjamin Button  2008  Brad Pitt became old because fight clubs can really take a toll on a guy</td>\n",
       "      <td></td>\n",
       "      <td>shittymoviedetails</td>\n",
       "      <td>1970-01-01 00:00:01.619275733</td>\n",
       "      <td>pale guy</td>\n",
       "      <td>False</td>\n",
       "      <td>1</td>\n",
       "      <td>0</td>\n",
       "      <td>2021-04-24</td>\n",
       "      <td>In The Curious Case of Benjamin Button  2008  Brad Pitt became old because fight clubs can really take a toll on a guy .</td>\n",
       "    </tr>\n",
       "    <tr>\n",
       "      <th>16</th>\n",
       "      <td>in mortal kombat  Hanzo says Cole Young  don t let the bloodline die  in Japanese   Cole Young</td>\n",
       "      <td></td>\n",
       "      <td>shittymoviedetails</td>\n",
       "      <td>1970-01-01 00:00:01.619270578</td>\n",
       "      <td>invertedparadX</td>\n",
       "      <td>False</td>\n",
       "      <td>1</td>\n",
       "      <td>0</td>\n",
       "      <td>2021-04-24</td>\n",
       "      <td>in mortal kombat  Hanzo says Cole Young  don t let the bloodline die  in Japanese   Cole Young .</td>\n",
       "    </tr>\n",
       "    <tr>\n",
       "      <th>15</th>\n",
       "      <td>In The Falcon And The Winter Soldier  Sam becomes the new Captain America despite having no super soldier serum is a reference to the practice of affirmative action</td>\n",
       "      <td></td>\n",
       "      <td>shittymoviedetails</td>\n",
       "      <td>1970-01-01 00:00:01.619266974</td>\n",
       "      <td>endgamespoilerbot</td>\n",
       "      <td>False</td>\n",
       "      <td>1</td>\n",
       "      <td>1</td>\n",
       "      <td>2021-04-24</td>\n",
       "      <td>In The Falcon And The Winter Soldier  Sam becomes the new Captain America despite having no super soldier serum is a reference to the practice of affirmative action .</td>\n",
       "    </tr>\n",
       "    <tr>\n",
       "      <th>14</th>\n",
       "      <td>Dbz Budokai Opening Story Mode  PS2</td>\n",
       "      <td></td>\n",
       "      <td>shittymoviedetails</td>\n",
       "      <td>1970-01-01 00:00:01.619259493</td>\n",
       "      <td>Aggressive Touch635</td>\n",
       "      <td>False</td>\n",
       "      <td>1</td>\n",
       "      <td>2</td>\n",
       "      <td>2021-04-24</td>\n",
       "      <td>Dbz Budokai Opening Story Mode  PS2 .</td>\n",
       "    </tr>\n",
       "    <tr>\n",
       "      <th>12</th>\n",
       "      <td>r shittymoviedetails hit 600k subscribers yesterday</td>\n",
       "      <td></td>\n",
       "      <td>shittymoviedetails</td>\n",
       "      <td>1970-01-01 00:00:01.619248539</td>\n",
       "      <td>TrendingBot</td>\n",
       "      <td>False</td>\n",
       "      <td>1</td>\n",
       "      <td>0</td>\n",
       "      <td>2021-04-24</td>\n",
       "      <td>r shittymoviedetails hit 600k subscribers yesterday.</td>\n",
       "    </tr>\n",
       "    <tr>\n",
       "      <th>1</th>\n",
       "      <td>The Nightmare Before Christmas  1993   when he arrives at Christmas Town  Jack sings  what s this  There s white things in the air   22 seconds later he sings  there are children throwing snowball...</td>\n",
       "      <td></td>\n",
       "      <td>shittymoviedetails</td>\n",
       "      <td>1970-01-01 00:00:01.619217853</td>\n",
       "      <td>Nerf Herder86</td>\n",
       "      <td>False</td>\n",
       "      <td>1</td>\n",
       "      <td>0</td>\n",
       "      <td>2021-04-23</td>\n",
       "      <td>The Nightmare Before Christmas  1993   when he arrives at Christmas Town  Jack sings  what s this  There s white things in the air   22 seconds later he sings  there are children throwing snowball...</td>\n",
       "    </tr>\n",
       "    <tr>\n",
       "      <th>11</th>\n",
       "      <td>In Game of Thrones Season 8  Daenerys  last words are  we break the wheel together  which spelled backwards says  rehtegot leehw eht kaerb ew  which doesn t make sense just like the rest of season 8</td>\n",
       "      <td></td>\n",
       "      <td>shittymoviedetails</td>\n",
       "      <td>1970-01-01 00:00:01.619248335</td>\n",
       "      <td>liquidInanna</td>\n",
       "      <td>False</td>\n",
       "      <td>1</td>\n",
       "      <td>4</td>\n",
       "      <td>2021-04-24</td>\n",
       "      <td>In Game of Thrones Season 8  Daenerys  last words are  we break the wheel together  which spelled backwards says  rehtegot leehw eht kaerb ew  which doesn t make sense just like the rest of season...</td>\n",
       "    </tr>\n",
       "    <tr>\n",
       "      <th>10</th>\n",
       "      <td>In Mortal Kombat  2021  the garden gnomes give the main characters the creeps because they cum on their hands</td>\n",
       "      <td></td>\n",
       "      <td>shittymoviedetails</td>\n",
       "      <td>1970-01-01 00:00:01.619238570</td>\n",
       "      <td>mtndew7</td>\n",
       "      <td>True</td>\n",
       "      <td>1</td>\n",
       "      <td>1</td>\n",
       "      <td>2021-04-23</td>\n",
       "      <td>In Mortal Kombat  2021  the garden gnomes give the main characters the creeps because they cum on their hands.</td>\n",
       "    </tr>\n",
       "    <tr>\n",
       "      <th>9</th>\n",
       "      <td>In the movie Stowaway 2021  a crew is traveling to Mars  The journey is supposed to take 2 years  Everyone is so boring  that the leading character exits the spaceship and dies alone outside</td>\n",
       "      <td></td>\n",
       "      <td>shittymoviedetails</td>\n",
       "      <td>1970-01-01 00:00:01.619237800</td>\n",
       "      <td>Gyros45</td>\n",
       "      <td>False</td>\n",
       "      <td>1</td>\n",
       "      <td>2</td>\n",
       "      <td>2021-04-23</td>\n",
       "      <td>In the movie Stowaway 2021  a crew is traveling to Mars  The journey is supposed to take 2 years  Everyone is so boring  that the leading character exits the spaceship and dies alone outside .</td>\n",
       "    </tr>\n",
       "    <tr>\n",
       "      <th>8</th>\n",
       "      <td>American Beauty was supposed to be a prequel to Se7en but the plot got diluted so bad that it became an entirely different movie</td>\n",
       "      <td></td>\n",
       "      <td>shittymoviedetails</td>\n",
       "      <td>1970-01-01 00:00:01.619234366</td>\n",
       "      <td>Dingus fartsniffer</td>\n",
       "      <td>True</td>\n",
       "      <td>1</td>\n",
       "      <td>2</td>\n",
       "      <td>2021-04-23</td>\n",
       "      <td>American Beauty was supposed to be a prequel to Se7en but the plot got diluted so bad that it became an entirely different movie .</td>\n",
       "    </tr>\n",
       "    <tr>\n",
       "      <th>7</th>\n",
       "      <td>The casting of Hugh Jackman as Wolverine was both a shock and inconvenience to him because of communication errors  It was decided early on that they needed a  Huge Actor  to play the popular char...</td>\n",
       "      <td></td>\n",
       "      <td>shittymoviedetails</td>\n",
       "      <td>1970-01-01 00:00:01.619229514</td>\n",
       "      <td>YouGoThatWayIllGoHom</td>\n",
       "      <td>False</td>\n",
       "      <td>1</td>\n",
       "      <td>4</td>\n",
       "      <td>2021-04-23</td>\n",
       "      <td>The casting of Hugh Jackman as Wolverine was both a shock and inconvenience to him because of communication errors  It was decided early on that they needed a  Huge Actor  to play the popular char...</td>\n",
       "    </tr>\n",
       "    <tr>\n",
       "      <th>6</th>\n",
       "      <td>I can t believe they spent  90 million on this movie and no one pointed out that there s a typo in the title</td>\n",
       "      <td></td>\n",
       "      <td>shittymoviedetails</td>\n",
       "      <td>1970-01-01 00:00:01.619228584</td>\n",
       "      <td>invertedparadX</td>\n",
       "      <td>False</td>\n",
       "      <td>1</td>\n",
       "      <td>166</td>\n",
       "      <td>2021-04-23</td>\n",
       "      <td>I can t believe they spent  90 million on this movie and no one pointed out that there s a typo in the title.</td>\n",
       "    </tr>\n",
       "    <tr>\n",
       "      <th>5</th>\n",
       "      <td>In Mortal Kombat  2021  in this scene you can clearly see a crew member in the shot  Very irresponsible</td>\n",
       "      <td></td>\n",
       "      <td>shittymoviedetails</td>\n",
       "      <td>1970-01-01 00:00:01.619227354</td>\n",
       "      <td>MyHandsAreGone</td>\n",
       "      <td>False</td>\n",
       "      <td>1</td>\n",
       "      <td>0</td>\n",
       "      <td>2021-04-23</td>\n",
       "      <td>In Mortal Kombat  2021  in this scene you can clearly see a crew member in the shot  Very irresponsible .</td>\n",
       "    </tr>\n",
       "    <tr>\n",
       "      <th>4</th>\n",
       "      <td>johnny cage could not appear in mortal kombat due to scheduling conflicts shooting the real world  back at it like a crack addict</td>\n",
       "      <td></td>\n",
       "      <td>shittymoviedetails</td>\n",
       "      <td>1970-01-01 00:00:01.619227056</td>\n",
       "      <td>invertedparadX</td>\n",
       "      <td>False</td>\n",
       "      <td>1</td>\n",
       "      <td>0</td>\n",
       "      <td>2021-04-23</td>\n",
       "      <td>johnny cage could not appear in mortal kombat due to scheduling conflicts shooting the real world  back at it like a crack addict.</td>\n",
       "    </tr>\n",
       "    <tr>\n",
       "      <th>3</th>\n",
       "      <td>In Frozen  2013  Anna asks  Why have a ballroom with no balls   This is a direct reference to there being no males in the kingdom</td>\n",
       "      <td></td>\n",
       "      <td>shittymoviedetails</td>\n",
       "      <td>1970-01-01 00:00:01.619223942</td>\n",
       "      <td>aceswild347</td>\n",
       "      <td>False</td>\n",
       "      <td>1</td>\n",
       "      <td>6</td>\n",
       "      <td>2021-04-23</td>\n",
       "      <td>In Frozen  2013  Anna asks  Why have a ballroom with no balls   This is a direct reference to there being no males in the kingdom .</td>\n",
       "    </tr>\n",
       "    <tr>\n",
       "      <th>2</th>\n",
       "      <td>In Bumblebee  2018   we see a roll of toilet paper  which is used to get rid of shit  in the revenge scene  This is a reference to how this reboot is getting rid of the shit that Michael Bay made ...</td>\n",
       "      <td></td>\n",
       "      <td>shittymoviedetails</td>\n",
       "      <td>1970-01-01 00:00:01.619220585</td>\n",
       "      <td>dontcommitnorespawn</td>\n",
       "      <td>False</td>\n",
       "      <td>1</td>\n",
       "      <td>3</td>\n",
       "      <td>2021-04-23</td>\n",
       "      <td>In Bumblebee  2018   we see a roll of toilet paper  which is used to get rid of shit  in the revenge scene  This is a reference to how this reboot is getting rid of the shit that Michael Bay made ...</td>\n",
       "    </tr>\n",
       "    <tr>\n",
       "      <th>24</th>\n",
       "      <td>Your mama took you to karate class next door to a dollar store  next thing you know  you fighting dudes from another dimension throwing fire balls  amp  ice spears  like sensei didn t teach you an...</td>\n",
       "      <td></td>\n",
       "      <td>shittymoviedetails</td>\n",
       "      <td>1970-01-01 00:00:01.619284669</td>\n",
       "      <td>invertedparadX</td>\n",
       "      <td>False</td>\n",
       "      <td>1</td>\n",
       "      <td>0</td>\n",
       "      <td>2021-04-24</td>\n",
       "      <td>Your mama took you to karate class next door to a dollar store  next thing you know  you fighting dudes from another dimension throwing fire balls  amp  ice spears  like sensei didn t teach you an...</td>\n",
       "    </tr>\n",
       "  </tbody>\n",
       "</table>\n",
       "</div>"
      ],
      "text/plain": [
       "                                                                                                                                                                                                      title  \\\n",
       "0                                                                                                                        In the movie Bullworth  1998   a police officer is seen not shooting black people    \n",
       "13                        After the commercial success of Kitchen Gun  and Toilet Grenade   Peter Serafinowicz expanded his business to offer a larger variety of cleaning products in John Wick  Chapter 2   \n",
       "23                                                                                                                                           Guy makes his interestingly bizarre rendition that s addictive   \n",
       "22                                                                                  The film title No Country For Old Men  2007  refers to the fact that Florida is not  in fact  a country  It is a state    \n",
       "21                     In 2001  A Space Odyssey  1968   much of the film focuses on characters walking slowly  in silence  This is a reference to the fact that holy fuck this movie is boring as all hell    \n",
       "20  In Captain America   The Winter Soldier  2014   the Winter Soldier looks like a crab in this scene  This is a reference to the actors name Sebastian  who is a crab in another Disney film  The Litt...   \n",
       "19                                                                                                  In Justice League  2021  the kid from the liquor store whom Bruce was referring to is actually McLovin    \n",
       "18                                                                                                                         Captain America 4  TBA  has recently been announced  Here is the leaked trailer    \n",
       "17                                                                                  In The Curious Case of Benjamin Button  2008  Brad Pitt became old because fight clubs can really take a toll on a guy    \n",
       "16                                                                                                          in mortal kombat  Hanzo says Cole Young  don t let the bloodline die  in Japanese   Cole Young    \n",
       "15                                    In The Falcon And The Winter Soldier  Sam becomes the new Captain America despite having no super soldier serum is a reference to the practice of affirmative action    \n",
       "14                                                                                                                                                                     Dbz Budokai Opening Story Mode  PS2    \n",
       "12                                                                                                                                                      r shittymoviedetails hit 600k subscribers yesterday   \n",
       "1   The Nightmare Before Christmas  1993   when he arrives at Christmas Town  Jack sings  what s this  There s white things in the air   22 seconds later he sings  there are children throwing snowball...   \n",
       "11  In Game of Thrones Season 8  Daenerys  last words are  we break the wheel together  which spelled backwards says  rehtegot leehw eht kaerb ew  which doesn t make sense just like the rest of season 8    \n",
       "10                                                                                            In Mortal Kombat  2021  the garden gnomes give the main characters the creeps because they cum on their hands   \n",
       "9           In the movie Stowaway 2021  a crew is traveling to Mars  The journey is supposed to take 2 years  Everyone is so boring  that the leading character exits the spaceship and dies alone outside    \n",
       "8                                                                         American Beauty was supposed to be a prequel to Se7en but the plot got diluted so bad that it became an entirely different movie    \n",
       "7   The casting of Hugh Jackman as Wolverine was both a shock and inconvenience to him because of communication errors  It was decided early on that they needed a  Huge Actor  to play the popular char...   \n",
       "6                                                                                              I can t believe they spent  90 million on this movie and no one pointed out that there s a typo in the title   \n",
       "5                                                                                                  In Mortal Kombat  2021  in this scene you can clearly see a crew member in the shot  Very irresponsible    \n",
       "4                                                                         johnny cage could not appear in mortal kombat due to scheduling conflicts shooting the real world  back at it like a crack addict   \n",
       "3                                                                        In Frozen  2013  Anna asks  Why have a ballroom with no balls   This is a direct reference to there being no males in the kingdom    \n",
       "2   In Bumblebee  2018   we see a roll of toilet paper  which is used to get rid of shit  in the revenge scene  This is a reference to how this reboot is getting rid of the shit that Michael Bay made ...   \n",
       "24  Your mama took you to karate class next door to a dollar store  next thing you know  you fighting dudes from another dimension throwing fire balls  amp  ice spears  like sensei didn t teach you an...   \n",
       "\n",
       "   selftext           subreddit                   created_utc  \\\n",
       "0            shittymoviedetails 1970-01-01 00:00:01.619214935   \n",
       "13           shittymoviedetails 1970-01-01 00:00:01.619251458   \n",
       "23           shittymoviedetails 1970-01-01 00:00:01.619283112   \n",
       "22           shittymoviedetails 1970-01-01 00:00:01.619282093   \n",
       "21           shittymoviedetails 1970-01-01 00:00:01.619281182   \n",
       "20           shittymoviedetails 1970-01-01 00:00:01.619280462   \n",
       "19           shittymoviedetails 1970-01-01 00:00:01.619278471   \n",
       "18           shittymoviedetails 1970-01-01 00:00:01.619277392   \n",
       "17           shittymoviedetails 1970-01-01 00:00:01.619275733   \n",
       "16           shittymoviedetails 1970-01-01 00:00:01.619270578   \n",
       "15           shittymoviedetails 1970-01-01 00:00:01.619266974   \n",
       "14           shittymoviedetails 1970-01-01 00:00:01.619259493   \n",
       "12           shittymoviedetails 1970-01-01 00:00:01.619248539   \n",
       "1            shittymoviedetails 1970-01-01 00:00:01.619217853   \n",
       "11           shittymoviedetails 1970-01-01 00:00:01.619248335   \n",
       "10           shittymoviedetails 1970-01-01 00:00:01.619238570   \n",
       "9            shittymoviedetails 1970-01-01 00:00:01.619237800   \n",
       "8            shittymoviedetails 1970-01-01 00:00:01.619234366   \n",
       "7            shittymoviedetails 1970-01-01 00:00:01.619229514   \n",
       "6            shittymoviedetails 1970-01-01 00:00:01.619228584   \n",
       "5            shittymoviedetails 1970-01-01 00:00:01.619227354   \n",
       "4            shittymoviedetails 1970-01-01 00:00:01.619227056   \n",
       "3            shittymoviedetails 1970-01-01 00:00:01.619223942   \n",
       "2            shittymoviedetails 1970-01-01 00:00:01.619220585   \n",
       "24           shittymoviedetails 1970-01-01 00:00:01.619284669   \n",
       "\n",
       "                  author  is_self  score  num_comments  timestamp  \\\n",
       "0              Wuz314159    False      1             1 2021-04-23   \n",
       "13              Raoshard    False      1            46 2021-04-24   \n",
       "23           TitsAmazing    False      1             0 2021-04-24   \n",
       "22       NuclearJesusMan    False      1             5 2021-04-24   \n",
       "21       NuclearJesusMan    False      1            20 2021-04-24   \n",
       "20       KennKennyKenKen    False      1            61 2021-04-24   \n",
       "19             pale guy     False      1             0 2021-04-24   \n",
       "18       KennKennyKenKen    False      1            13 2021-04-24   \n",
       "17             pale guy     False      1             0 2021-04-24   \n",
       "16        invertedparadX    False      1             0 2021-04-24   \n",
       "15     endgamespoilerbot    False      1             1 2021-04-24   \n",
       "14   Aggressive Touch635    False      1             2 2021-04-24   \n",
       "12           TrendingBot    False      1             0 2021-04-24   \n",
       "1          Nerf Herder86    False      1             0 2021-04-23   \n",
       "11          liquidInanna    False      1             4 2021-04-24   \n",
       "10               mtndew7     True      1             1 2021-04-23   \n",
       "9                Gyros45    False      1             2 2021-04-23   \n",
       "8     Dingus fartsniffer     True      1             2 2021-04-23   \n",
       "7   YouGoThatWayIllGoHom    False      1             4 2021-04-23   \n",
       "6         invertedparadX    False      1           166 2021-04-23   \n",
       "5         MyHandsAreGone    False      1             0 2021-04-23   \n",
       "4         invertedparadX    False      1             0 2021-04-23   \n",
       "3            aceswild347    False      1             6 2021-04-23   \n",
       "2    dontcommitnorespawn    False      1             3 2021-04-23   \n",
       "24        invertedparadX    False      1             0 2021-04-24   \n",
       "\n",
       "                                                                                                                                                                                                   all_text  \n",
       "0                                                                                                                      In the movie Bullworth  1998   a police officer is seen not shooting black people .   \n",
       "13                      After the commercial success of Kitchen Gun  and Toilet Grenade   Peter Serafinowicz expanded his business to offer a larger variety of cleaning products in John Wick  Chapter 2.   \n",
       "23                                                                                                                                         Guy makes his interestingly bizarre rendition that s addictive.   \n",
       "22                                                                                The film title No Country For Old Men  2007  refers to the fact that Florida is not  in fact  a country  It is a state .   \n",
       "21                   In 2001  A Space Odyssey  1968   much of the film focuses on characters walking slowly  in silence  This is a reference to the fact that holy fuck this movie is boring as all hell .   \n",
       "20  In Captain America   The Winter Soldier  2014   the Winter Soldier looks like a crab in this scene  This is a reference to the actors name Sebastian  who is a crab in another Disney film  The Litt...  \n",
       "19                                                                                                In Justice League  2021  the kid from the liquor store whom Bruce was referring to is actually McLovin .   \n",
       "18                                                                                                                       Captain America 4  TBA  has recently been announced  Here is the leaked trailer .   \n",
       "17                                                                                In The Curious Case of Benjamin Button  2008  Brad Pitt became old because fight clubs can really take a toll on a guy .   \n",
       "16                                                                                                        in mortal kombat  Hanzo says Cole Young  don t let the bloodline die  in Japanese   Cole Young .   \n",
       "15                                  In The Falcon And The Winter Soldier  Sam becomes the new Captain America despite having no super soldier serum is a reference to the practice of affirmative action .   \n",
       "14                                                                                                                                                                   Dbz Budokai Opening Story Mode  PS2 .   \n",
       "12                                                                                                                                                    r shittymoviedetails hit 600k subscribers yesterday.   \n",
       "1   The Nightmare Before Christmas  1993   when he arrives at Christmas Town  Jack sings  what s this  There s white things in the air   22 seconds later he sings  there are children throwing snowball...  \n",
       "11  In Game of Thrones Season 8  Daenerys  last words are  we break the wheel together  which spelled backwards says  rehtegot leehw eht kaerb ew  which doesn t make sense just like the rest of season...  \n",
       "10                                                                                          In Mortal Kombat  2021  the garden gnomes give the main characters the creeps because they cum on their hands.   \n",
       "9         In the movie Stowaway 2021  a crew is traveling to Mars  The journey is supposed to take 2 years  Everyone is so boring  that the leading character exits the spaceship and dies alone outside .   \n",
       "8                                                                       American Beauty was supposed to be a prequel to Se7en but the plot got diluted so bad that it became an entirely different movie .   \n",
       "7   The casting of Hugh Jackman as Wolverine was both a shock and inconvenience to him because of communication errors  It was decided early on that they needed a  Huge Actor  to play the popular char...  \n",
       "6                                                                                            I can t believe they spent  90 million on this movie and no one pointed out that there s a typo in the title.   \n",
       "5                                                                                                In Mortal Kombat  2021  in this scene you can clearly see a crew member in the shot  Very irresponsible .   \n",
       "4                                                                       johnny cage could not appear in mortal kombat due to scheduling conflicts shooting the real world  back at it like a crack addict.   \n",
       "3                                                                      In Frozen  2013  Anna asks  Why have a ballroom with no balls   This is a direct reference to there being no males in the kingdom .   \n",
       "2   In Bumblebee  2018   we see a roll of toilet paper  which is used to get rid of shit  in the revenge scene  This is a reference to how this reboot is getting rid of the shit that Michael Bay made ...  \n",
       "24  Your mama took you to karate class next door to a dollar store  next thing you know  you fighting dudes from another dimension throwing fire balls  amp  ice spears  like sensei didn t teach you an...  "
      ]
     },
     "execution_count": 26,
     "metadata": {},
     "output_type": "execute_result"
    }
   ],
   "source": [
    "#get new all-text column.\n",
    "df['all_text'] = df['title'] + '. ' + df['selftext']\n",
    "\n",
    "#check result\n",
    "df.head(25).sort_values(by = 'selftext', ascending = False)"
   ]
  },
  {
   "cell_type": "code",
   "execution_count": 27,
   "metadata": {
    "ExecuteTime": {
     "end_time": "2021-04-29T22:59:07.340847Z",
     "start_time": "2021-04-29T22:59:07.295277Z"
    },
    "scrolled": true
   },
   "outputs": [
    {
     "data": {
      "text/plain": [
       "7446    tl dr  The new Mulan sucksI m Chinese  so I was excited as hell that we were getting a new  grittier Mulan that seemed to pay more homage to the original legend  and was more respectful to Chinese...\n",
       "6176                                                                                                                                                             tl dr   outraged  Michael Keaton must respond \n",
       "324     this was a movie that took place in a steampunk asian setting  the characters were glove puppets like thunderbolt fantasy or pili  and there was a robot  the movie tittle is also the name of the r...\n",
       "1644    this is the scene    i saw this movie back in 2012 in 3D and it was so good  probably the best movie i ve seen in 3D  in rewatching it  i m still so impressed by the feel of the flying fish scene ...\n",
       "2050    this is a random post but I just rewatched this again on crackle and I love this movie man  I m not huge into scifi like some but I like it enough if it s compelling material wether book  media  s...\n",
       "                                                                                                         ...                                                                                                   \n",
       "6238                                                                                                                                                                                                           \n",
       "6239                                                                                                                                                                                                           \n",
       "6241                                                                                                                                                                                                           \n",
       "6242                                                                                                                                                                                                           \n",
       "0                                                                                                                                                                                                              \n",
       "Name: selftext, Length: 21798, dtype: object"
      ]
     },
     "execution_count": 27,
     "metadata": {},
     "output_type": "execute_result"
    }
   ],
   "source": [
    "df['selftext'].sort_values(ascending=False)"
   ]
  },
  {
   "cell_type": "code",
   "execution_count": 28,
   "metadata": {
    "ExecuteTime": {
     "end_time": "2021-04-29T22:59:07.357332Z",
     "start_time": "2021-04-29T22:59:07.348082Z"
    }
   },
   "outputs": [],
   "source": [
    "#get rid of spammy text / authors by creating stop words list -- or do this underneath, in the NLP part."
   ]
  },
  {
   "cell_type": "markdown",
   "metadata": {},
   "source": [
    "--- \n",
    "\n",
    "### Analysis\n",
    "\n",
    "Now that we are more or less done cleaning, let's understand the density and usefulness of our content, by analyzing the volume of comments and looking for the richness of the text columns.\n",
    "\n",
    "We will be able to perform additional text analysis later on, once we have transformed (vectorized) our text.\n",
    "\n",
    "First, let's take a look at the distribution of posts by the volume of comments."
   ]
  },
  {
   "cell_type": "code",
   "execution_count": 29,
   "metadata": {
    "ExecuteTime": {
     "end_time": "2021-04-29T22:59:07.386601Z",
     "start_time": "2021-04-29T22:59:07.360600Z"
    },
    "scrolled": true
   },
   "outputs": [
    {
     "data": {
      "text/plain": [
       "0     7083\n",
       "2     2767\n",
       "1     2159\n",
       "3     1578\n",
       "4     1282\n",
       "5      786\n",
       "6      641\n",
       "7      452\n",
       "8      406\n",
       "9      334\n",
       "10     301\n",
       "11     251\n",
       "12     245\n",
       "13     185\n",
       "14     173\n",
       "16     148\n",
       "15     138\n",
       "17     123\n",
       "20     115\n",
       "18     102\n",
       "19      88\n",
       "21      85\n",
       "22      71\n",
       "23      66\n",
       "25      66\n",
       "26      65\n",
       "27      62\n",
       "24      56\n",
       "29      46\n",
       "30      46\n",
       "28      46\n",
       "36      43\n",
       "33      39\n",
       "35      37\n",
       "34      37\n",
       "31      36\n",
       "42      35\n",
       "37      33\n",
       "32      32\n",
       "41      30\n",
       "43      28\n",
       "54      28\n",
       "47      26\n",
       "39      25\n",
       "44      24\n",
       "40      23\n",
       "38      20\n",
       "46      19\n",
       "45      18\n",
       "52      18\n",
       "Name: num_comments, dtype: int64"
      ]
     },
     "execution_count": 29,
     "metadata": {},
     "output_type": "execute_result"
    }
   ],
   "source": [
    "df['num_comments'].value_counts()[:50]"
   ]
  },
  {
   "cell_type": "code",
   "execution_count": 30,
   "metadata": {
    "ExecuteTime": {
     "end_time": "2021-04-29T22:59:07.400941Z",
     "start_time": "2021-04-29T22:59:07.391337Z"
    }
   },
   "outputs": [
    {
     "data": {
      "text/plain": [
       "22.316726305165613"
      ]
     },
     "execution_count": 30,
     "metadata": {},
     "output_type": "execute_result"
    }
   ],
   "source": [
    "df['num_comments'].mean()"
   ]
  },
  {
   "cell_type": "code",
   "execution_count": 31,
   "metadata": {
    "ExecuteTime": {
     "end_time": "2021-04-29T22:59:07.420633Z",
     "start_time": "2021-04-29T22:59:07.407935Z"
    }
   },
   "outputs": [
    {
     "data": {
      "text/plain": [
       "0    0\n",
       "dtype: int64"
      ]
     },
     "execution_count": 31,
     "metadata": {},
     "output_type": "execute_result"
    }
   ],
   "source": [
    "df['num_comments'].mode()"
   ]
  },
  {
   "cell_type": "code",
   "execution_count": 32,
   "metadata": {
    "ExecuteTime": {
     "end_time": "2021-04-29T22:59:07.445297Z",
     "start_time": "2021-04-29T22:59:07.426524Z"
    },
    "scrolled": true
   },
   "outputs": [
    {
     "data": {
      "text/plain": [
       "2.0"
      ]
     },
     "execution_count": 32,
     "metadata": {},
     "output_type": "execute_result"
    }
   ],
   "source": [
    "df['num_comments'].median()"
   ]
  },
  {
   "cell_type": "code",
   "execution_count": 33,
   "metadata": {
    "ExecuteTime": {
     "end_time": "2021-04-29T22:59:07.458613Z",
     "start_time": "2021-04-29T22:59:07.448355Z"
    }
   },
   "outputs": [
    {
     "data": {
      "text/plain": [
       "6036"
      ]
     },
     "execution_count": 33,
     "metadata": {},
     "output_type": "execute_result"
    }
   ],
   "source": [
    "df['num_comments'].max()"
   ]
  },
  {
   "cell_type": "markdown",
   "metadata": {},
   "source": [
    "Judging from this, the vast majority of posts have no comments at all. The average number of comments is 22. There are also extreme outliers exceeding 1000 comments.\n",
    "\n",
    "Let's visualize this."
   ]
  },
  {
   "cell_type": "code",
   "execution_count": 34,
   "metadata": {
    "ExecuteTime": {
     "end_time": "2021-04-29T22:59:08.086854Z",
     "start_time": "2021-04-29T22:59:07.463831Z"
    }
   },
   "outputs": [
    {
     "data": {
      "image/png": "[encoded data removed]",
      "text/plain": [
       "<Figure size 1152x576 with 1 Axes>"
      ]
     },
     "metadata": {},
     "output_type": "display_data"
    }
   ],
   "source": [
    "#code ref from Gwen's lab review lesson 4/27/2021\n",
    "\n",
    "plt.figure(figsize = (16,8));\n",
    "df['num_comments'].plot(kind='hist');\n",
    "plt.title('Number of post comments', size =20);\n",
    "plt.xticks([0, 200, 500, 1000], size=14);\n",
    "plt.yticks(size=12);\n",
    "plt.ylabel('Number of posts', size=14);"
   ]
  },
  {
   "cell_type": "markdown",
   "metadata": {},
   "source": [
    "Anything beyond 500 comments (an already huge number barely registers); there is definitely a huge outlier with something getting 6K comments; we might want to remove this outlier, to reduce noise in our data.\n",
    "\n",
    "Now let's look at distribution by authors. Let's see if any stick out as dominant, which can either mean that they are highly engaged on Reddit, or it could be a signal of spam.\n",
    "\n",
    "Further, we might want to cross-validate if any others appear across _multiple_ of our subReddits!"
   ]
  },
  {
   "cell_type": "code",
   "execution_count": 35,
   "metadata": {
    "ExecuteTime": {
     "end_time": "2021-04-29T22:59:08.126218Z",
     "start_time": "2021-04-29T22:59:08.091203Z"
    },
    "scrolled": true
   },
   "outputs": [
    {
     "data": {
      "text/plain": [
       "wednesdaygiftinfo       434\n",
       "Numerous Lemon          282\n",
       "Ornery Control 9474     264\n",
       "Tokyono                 191\n",
       " deleted                189\n",
       "pale guy                154\n",
       "random guy somewhere    138\n",
       "klsi832                 108\n",
       "Comic Book Reader        92\n",
       "sirsquid                 82\n",
       "chanma50                 73\n",
       "MovieBattleGame          68\n",
       "alizamessy               63\n",
       "Sisiwakanamaru           62\n",
       "VictorBlimpmuscle        53\n",
       "ggroover97               51\n",
       "KscILLBILL               46\n",
       "ToyVaren                 46\n",
       "invertedparadX           43\n",
       "SpaceMyopia              41\n",
       "gautsvo                  41\n",
       "james 1990               40\n",
       "movihq                   33\n",
       "prsnreddit               31\n",
       "RayInRed                 31\n",
       "lopezjessy               30\n",
       "LiteraryBoner            27\n",
       "CephalopodRed            27\n",
       "Jack Earth 2             26\n",
       "randomspawner            26\n",
       "Iamnotbroke              25\n",
       "MistleFeast              25\n",
       "Mostafa Dahroug          25\n",
       "skyfall91404             25\n",
       "Russian Bagel            24\n",
       "Puzzleheaded Fun 257     24\n",
       "JoshuaCalledMe           24\n",
       "flikrate                 24\n",
       "Prize Guest              24\n",
       "zzuhruf                  23\n",
       "2016dsense               23\n",
       "legalbagelbeagle         22\n",
       "ceaguila84               21\n",
       "RickySmith2005           21\n",
       "AnishNoor92              21\n",
       "KermitTheFraud92         21\n",
       "ShaneMP01                20\n",
       "DraftDraw                20\n",
       "SleepyGary5              19\n",
       "MattTheSmithers          19\n",
       "Name: author, dtype: int64"
      ]
     },
     "execution_count": 35,
     "metadata": {},
     "output_type": "execute_result"
    }
   ],
   "source": [
    "df['author'].value_counts()[:50] #get only unique"
   ]
  },
  {
   "cell_type": "code",
   "execution_count": 36,
   "metadata": {
    "ExecuteTime": {
     "end_time": "2021-04-29T22:59:08.163915Z",
     "start_time": "2021-04-29T22:59:08.129032Z"
    }
   },
   "outputs": [
    {
     "data": {
      "text/plain": [
       "1.7245253164556962"
      ]
     },
     "execution_count": 36,
     "metadata": {},
     "output_type": "execute_result"
    }
   ],
   "source": [
    "df['author'].value_counts().mean()"
   ]
  },
  {
   "cell_type": "markdown",
   "metadata": {},
   "source": [
    "We do have some authors that have posted hundreds of posts here, with an average author posting approximately twice. But nothing really obviously sticks out as concerning, at the moment, based on the author's handle alone -- that is, if we were looking for glaringly \"spammy\" signals with a naked eye (i.e. sans any spam detection machine like spam vs. ham). We'll check for the word 'repost' and 'reshare' as well; although we should have hopefully gotten rid of most of that content noise by stripping out the URLs from the text fields earlier.\n",
    "\n",
    "But how many unique authors are there?"
   ]
  },
  {
   "cell_type": "code",
   "execution_count": 37,
   "metadata": {
    "ExecuteTime": {
     "end_time": "2021-04-29T22:59:08.186518Z",
     "start_time": "2021-04-29T22:59:08.165997Z"
    },
    "scrolled": true
   },
   "outputs": [
    {
     "data": {
      "text/plain": [
       "12640"
      ]
     },
     "execution_count": 37,
     "metadata": {},
     "output_type": "execute_result"
    }
   ],
   "source": [
    "#unique authors\n",
    "#from Gwen's NLP lab review\n",
    "len(df['author'].unique())"
   ]
  },
  {
   "cell_type": "markdown",
   "metadata": {},
   "source": [
    "This checks out, given that we saw roughly 2 posts / author, above.\n",
    "\n",
    "What if authors post to more than one of the subreddits?"
   ]
  },
  {
   "cell_type": "code",
   "execution_count": 38,
   "metadata": {
    "ExecuteTime": {
     "end_time": "2021-04-29T22:59:08.192062Z",
     "start_time": "2021-04-29T22:59:08.189005Z"
    }
   },
   "outputs": [],
   "source": [
    "# I want to be able to do groupby's the old fashioned way! Thanks for the find to Riley Robertson!\n",
    "#! pip install -U pandasql"
   ]
  },
  {
   "cell_type": "code",
   "execution_count": 39,
   "metadata": {
    "ExecuteTime": {
     "end_time": "2021-04-29T22:59:08.647328Z",
     "start_time": "2021-04-29T22:59:08.205582Z"
    }
   },
   "outputs": [],
   "source": [
    "#docstring: https://pypi.org/project/pandasql/\n",
    "from pandasql import sqldf\n",
    "pysqldf = lambda q: sqldf(q, globals())\n",
    "\n",
    "def pysqldf(q):\n",
    "    #add this to your script if you get tired of calling locals()\n",
    "    return sqldf(q, globals())"
   ]
  },
  {
   "cell_type": "code",
   "execution_count": 40,
   "metadata": {
    "ExecuteTime": {
     "end_time": "2021-04-29T22:59:10.091932Z",
     "start_time": "2021-04-29T22:59:08.653288Z"
    }
   },
   "outputs": [
    {
     "name": "stdout",
     "output_type": "stream",
     "text": [
      "   posts     subreddit                author\n",
      "0      1  MovieDetails           Godzilla   \n",
      "1      1  MovieDetails                 BMO  \n",
      "2      1  MovieDetails    Hello my name is  \n",
      "3      1  MovieDetails            Leonardo  \n",
      "4      1  MovieDetails        Reginaphalange\n"
     ]
    }
   ],
   "source": [
    "#groupby the authors by subreddit -- check query construct is returning, what we want!\n",
    "#fix this w/ Gwen's query (posted during 4/19 BH), if time, or kill\n",
    "df = df\n",
    "\n",
    "\n",
    "q = \"\"\"\n",
    "    SELECT DISTINCT\n",
    "           count(selftext) as posts,\n",
    "           subreddit,\n",
    "           author\n",
    "           \n",
    "           FROM\n",
    "              df\n",
    "           GROUP BY\n",
    "              author\n",
    "           ORDER BY\n",
    "              subreddit;\n",
    "              \n",
    "\"\"\"\n",
    "print(pysqldf(q).head())"
   ]
  },
  {
   "cell_type": "markdown",
   "metadata": {},
   "source": [
    "Let's go ahead and see when most of our posts are from."
   ]
  },
  {
   "cell_type": "code",
   "execution_count": 41,
   "metadata": {
    "ExecuteTime": {
     "end_time": "2021-04-29T22:59:11.101250Z",
     "start_time": "2021-04-29T22:59:10.096883Z"
    }
   },
   "outputs": [
    {
     "data": {
      "image/png": "[encoded data removed]",
      "text/plain": [
       "<Figure size 1152x576 with 1 Axes>"
      ]
     },
     "metadata": {},
     "output_type": "display_data"
    }
   ],
   "source": [
    "#get post age\n",
    "plt.figure(figsize = (16, 8))\n",
    "plt.title('Age of post', size = 20);\n",
    "df['timestamp'].hist();\n",
    "plt.xticks(size=15)\n",
    "plt.yticks(size=15)\n",
    "plt.ylabel('Number of posts', size = 15);"
   ]
  },
  {
   "cell_type": "markdown",
   "metadata": {},
   "source": [
    "Our posts come from September 2020 to present. ( _Note: this may be a function of how far back we scraped and not in itself meaningful. This was an attempt to find possible seasonality, but there isn't really a pattern I can establish here, and it would be more meaningful to look at a year+ worth's._ )"
   ]
  },
  {
   "cell_type": "markdown",
   "metadata": {},
   "source": [
    "Finally, let's look at the distribution of original posts, compared to reposts."
   ]
  },
  {
   "cell_type": "code",
   "execution_count": 42,
   "metadata": {
    "ExecuteTime": {
     "end_time": "2021-04-29T22:59:11.133655Z",
     "start_time": "2021-04-29T22:59:11.110947Z"
    },
    "scrolled": true
   },
   "outputs": [
    {
     "data": {
      "text/plain": [
       "False    0.86\n",
       "True     0.14\n",
       "Name: is_self, dtype: float64"
      ]
     },
     "execution_count": 42,
     "metadata": {},
     "output_type": "execute_result"
    }
   ],
   "source": [
    "df['is_self'].value_counts(normalize=True).round(2)"
   ]
  },
  {
   "cell_type": "code",
   "execution_count": 43,
   "metadata": {
    "ExecuteTime": {
     "end_time": "2021-04-29T22:59:11.150389Z",
     "start_time": "2021-04-29T22:59:11.139351Z"
    }
   },
   "outputs": [],
   "source": [
    "#strip out repost / reshare stuff"
   ]
  },
  {
   "cell_type": "markdown",
   "metadata": {},
   "source": [
    "As we can see, most posts are actually reposts in our threads, and we anticipate that the overall quality of our posts might thus be on the lower side.\n",
    "\n",
    "So how well do most posts score?\n",
    "\n",
    "(More on this here: [What do Reddit post scores mean?](https://www.reddit.com/wiki/faq#wiki_how_is_a_submission.27s_score_determined.3F).)"
   ]
  },
  {
   "cell_type": "code",
   "execution_count": 44,
   "metadata": {
    "ExecuteTime": {
     "end_time": "2021-04-29T22:59:11.165283Z",
     "start_time": "2021-04-29T22:59:11.158287Z"
    }
   },
   "outputs": [
    {
     "data": {
      "text/plain": [
       "69.0378933847142"
      ]
     },
     "execution_count": 44,
     "metadata": {},
     "output_type": "execute_result"
    }
   ],
   "source": [
    "df['score'].mean()"
   ]
  },
  {
   "cell_type": "code",
   "execution_count": 45,
   "metadata": {
    "ExecuteTime": {
     "end_time": "2021-04-29T22:59:11.663367Z",
     "start_time": "2021-04-29T22:59:11.170313Z"
    },
    "scrolled": true
   },
   "outputs": [
    {
     "data": {
      "image/png": "[encoded data removed]",
      "text/plain": [
       "<Figure size 1152x576 with 1 Axes>"
      ]
     },
     "metadata": {},
     "output_type": "display_data"
    }
   ],
   "source": [
    "#dist of scores\n",
    "plt.figure(figsize = (16,8))\n",
    "df['score'].plot(kind = 'hist');\n",
    "plt.title('Distribution of post scores', size= 20)\n",
    "plt.yticks(size=15)\n",
    "plt.xticks([0, 3500, 7000, 10_000], size=15,rotation = 90)\n",
    "plt.ylabel('Number of posts', size = 15);"
   ]
  },
  {
   "cell_type": "markdown",
   "metadata": {},
   "source": [
    "Looks like this is about all we can do, before further transformation.\n",
    "\n",
    "- - -\n",
    "\n",
    "## Part III: NLP & feature eng"
   ]
  },
  {
   "cell_type": "code",
   "execution_count": 46,
   "metadata": {
    "ExecuteTime": {
     "end_time": "2021-04-29T22:59:11.680527Z",
     "start_time": "2021-04-29T22:59:11.666303Z"
    },
    "scrolled": true
   },
   "outputs": [
    {
     "data": {
      "text/plain": [
       "Index(['title', 'selftext', 'subreddit', 'created_utc', 'author', 'is_self',\n",
       "       'score', 'num_comments', 'timestamp', 'all_text'],\n",
       "      dtype='object')"
      ]
     },
     "execution_count": 46,
     "metadata": {},
     "output_type": "execute_result"
    }
   ],
   "source": [
    "df.columns"
   ]
  },
  {
   "cell_type": "markdown",
   "metadata": {},
   "source": [
    "### Sentiment analysis (feature eng.)\n",
    "\n",
    "OK, so we want to geta bit of an idea about the kinds of things people post about.\n",
    "\n",
    "But what is the temperature of the room? And can we tell, from the heat -- or mediocreness -- of the conversation, where our posts might belong?\n",
    "\n",
    "Let's take a look, using sentiment analysis. We are going to use VADER, which, according to General Assembly lesson material, works particularly well on social media context; and, well, Reddit is _kind of_ like social media in many regards, not the least of which is commenting, threading, participating in a community, and overall, being a bit of a public market of the stream of all of our (topical) consciousness."
   ]
  },
  {
   "cell_type": "markdown",
   "metadata": {},
   "source": [
    "### Modeling workflow\n",
    "\n",
    "Model workflow review ( _thanks, Heather R.!_ ):\n",
    "\n",
    "1. We will perform sentiment analysis on the whole dataset and get polarity scores\n",
    "2. Vectorize (**small data leakage)\n",
    "3. We will train test split, using the sentiment scores (either filtered or compound), to set up the X matrix\n",
    "4. We will then fit-transform to X-train and transform on X-test and vectorize. Note 1: setting max features, stopwords can help control the size of the data here. Note 2: only pull out the X train, excluding sentiment scores (because only text data needs to be vectorized).\n",
    "5. Concatenate the vectorized output back w/ the original X features and sentiment scores."
   ]
  },
  {
   "cell_type": "code",
   "execution_count": 47,
   "metadata": {
    "ExecuteTime": {
     "end_time": "2021-04-29T22:59:11.714974Z",
     "start_time": "2021-04-29T22:59:11.684952Z"
    }
   },
   "outputs": [
    {
     "name": "stdout",
     "output_type": "stream",
     "text": [
      "21798\n"
     ]
    },
    {
     "data": {
      "text/plain": [
       "['In the movie Bullworth  1998   a police officer is seen not shooting black people . ',\n",
       " 'The Nightmare Before Christmas  1993   when he arrives at Christmas Town  Jack sings  what s this  There s white things in the air   22 seconds later he sings  there are children throwing snowballs instead of throwing heads   This is because Danny Elfman was deaf and can t hear what he just sang. ',\n",
       " 'In Bumblebee  2018   we see a roll of toilet paper  which is used to get rid of shit  in the revenge scene  This is a reference to how this reboot is getting rid of the shit that Michael Bay made in the first 5 Transformers movies . ',\n",
       " 'In Frozen  2013  Anna asks  Why have a ballroom with no balls   This is a direct reference to there being no males in the kingdom . ',\n",
       " 'johnny cage could not appear in mortal kombat due to scheduling conflicts shooting the real world  back at it like a crack addict. ',\n",
       " 'In Mortal Kombat  2021  in this scene you can clearly see a crew member in the shot  Very irresponsible . ',\n",
       " 'I can t believe they spent  90 million on this movie and no one pointed out that there s a typo in the title. ',\n",
       " 'The casting of Hugh Jackman as Wolverine was both a shock and inconvenience to him because of communication errors  It was decided early on that they needed a  Huge Actor  to play the popular character  The Australians had accents  so  Huge Actman  was cast  Then he had to lift weights and stuff . ',\n",
       " 'American Beauty was supposed to be a prequel to Se7en but the plot got diluted so bad that it became an entirely different movie . ',\n",
       " 'In the movie Stowaway 2021  a crew is traveling to Mars  The journey is supposed to take 2 years  Everyone is so boring  that the leading character exits the spaceship and dies alone outside . ',\n",
       " 'In Mortal Kombat  2021  the garden gnomes give the main characters the creeps because they cum on their hands. ',\n",
       " 'In Game of Thrones Season 8  Daenerys  last words are  we break the wheel together  which spelled backwards says  rehtegot leehw eht kaerb ew  which doesn t make sense just like the rest of season 8 . ',\n",
       " ' r shittymoviedetails hit 600k subscribers yesterday. ',\n",
       " 'After the commercial success of Kitchen Gun  and Toilet Grenade   Peter Serafinowicz expanded his business to offer a larger variety of cleaning products in John Wick  Chapter 2. ',\n",
       " 'Dbz Budokai Opening Story Mode  PS2 . ',\n",
       " 'In The Falcon And The Winter Soldier  Sam becomes the new Captain America despite having no super soldier serum is a reference to the practice of affirmative action . ',\n",
       " 'in mortal kombat  Hanzo says Cole Young  don t let the bloodline die  in Japanese   Cole Young . ',\n",
       " 'In The Curious Case of Benjamin Button  2008  Brad Pitt became old because fight clubs can really take a toll on a guy . ',\n",
       " 'Captain America 4  TBA  has recently been announced  Here is the leaked trailer . ',\n",
       " 'In Justice League  2021  the kid from the liquor store whom Bruce was referring to is actually McLovin . ',\n",
       " 'In Captain America   The Winter Soldier  2014   the Winter Soldier looks like a crab in this scene  This is a reference to the actors name Sebastian  who is a crab in another Disney film  The Little Mermaid  1989  . ',\n",
       " 'In 2001  A Space Odyssey  1968   much of the film focuses on characters walking slowly  in silence  This is a reference to the fact that holy fuck this movie is boring as all hell . ',\n",
       " 'The film title No Country For Old Men  2007  refers to the fact that Florida is not  in fact  a country  It is a state . ',\n",
       " 'Guy makes his interestingly bizarre rendition that s addictive. ',\n",
       " 'Your mama took you to karate class next door to a dollar store  next thing you know  you fighting dudes from another dimension throwing fire balls  amp  ice spears  like sensei didn t teach you any of this shit. ',\n",
       " 'I just watched Saving Private Ryan and I can t get over how much of a pussy this guy is . ',\n",
       " 'In  Me  Earl  amp  The Dying Girl   2015  the narrator tells us that Rachel survives the story but later on we learn that she dies of cancer  this is an impressive example of a psych ayyyy gottim       . ',\n",
       " 'In MORTAL KOMBAT  2021   Bi Han  Sub Zero  murders Hanzo Hasashi s  Scorpion  family  and torments him before killing him and sending him to Hell  Hanzo s suffering is an inside Mortal Kombat reference to the fact that they just showed us the best part of the movie  and the rest is terrible . ',\n",
       " 'In the movie  Inglourious Basterds  the phrase  inglorious bastards  is spelled incorrectly  It is because Quentin Tarantino is a big dumb idiot head . ',\n",
       " 'in the lion king 1   insert year here  mickey mouse did a cameo easter egg in the stars  like  he was jealous of mufasa that much he had to plagiarized his death . ',\n",
       " 'In Zack Snyder s Justice League  there is a scene where Aquaman swims away which is followed by some women on the shore singing  I didn t watch the whole scene because it was weird and I don t speak Norwegian or Swedish or whatever and didn t understand what the fuck they were doing . ',\n",
       " 'In Star Wars   The last Jedi  2017  when Luke Skywalker said  Amazing  everything blablablablabla  I don t fucking remember  was wrong  It was actually a subtle nod to rian jhonson due to nothing in the movie was done right. ',\n",
       " 'In Toy Story 2  1999   Buzz tells Woody  Life s only worth living if you re being loved by a kid   This is because Buzz is a paedophile . ',\n",
       " 'Gary Oldman  burn victim  earned so much money from Hannibal  2001  that he was able to afford reconstructive facial surgery. ',\n",
       " 'During the bar scene in Suicide Squad  2016   Harley Quinn calls Kitana  ninja  and asks if she wants  Sake   This implies Harley is a racist. ',\n",
       " 'Due to this blatant misspelling of Beanaddict Cucumberbitch s name Disney had to recall thousands of posters for the new Dr  Strange movie . ',\n",
       " 'At the end of the Monster Hunter movie  Gore Magala shows up  The production team deliberately left Gore Magala s feelers  antenna  out of the film as a nod to the fact that while playing MH Generations  after 30 hunts  Gore Magala refused to give me any feelers as hunt rewards . ',\n",
       " 'In ALIEN  1978   Jonesy the cat jumps out of a locker  hissing  which frightens Harry Dean Stanton  This is the film s subtle nod to the fact that cats have sharp teeth and claws  and when they jump out of stuff at you  it s fucking terrifying . ',\n",
       " 'In the film ALIEN  1978   Jonesy the cat jumps out of a locker  frightening Harry Dean Stanton  This is a reference to the fact that cats have sharp teeth and claws  and when they jump out of stuff at you  it s fucking terrifying . ',\n",
       " 'In Avengers Endgame  2019   Korg is shown playing on a PS4  even though it is 2025  This is because the PS5 is still out of stock . ',\n",
       " 'The film Holes  2003   about pre teen boys in detention forced to dig dirt  could have been called  My Weird Detention   or  The Dig  or  Summer Shoveling  or literally anything other than  Holes   But no  they just HAD to make everyone uncomfortable and call it  Holes   2003  . ',\n",
       " 'Vince Gilligan reveals a small detail from Breaking Bad. ',\n",
       " 'In The Dark Knight Rises  2012  Batman comes back after eight years  unlike my dad . ',\n",
       " 'In Star Wars  Episode IV   A New Hope  1977   Mark Hamill based his portrayal of the protagonist on Luke Skywalker  a character who appeared throughout the screenplay for Star Wars  Episode IV   A New Hope . ',\n",
       " 'In Marvel s new movie the title character has red hair and is named Black Widow  an arachnoid which practices animal cannibalisms  This is a reference to DC s Aquaman where the character Mera is played by Amber Heard  a redhead who abused her ex husband . ',\n",
       " 'In the movie Zack Snyder s Justice League  Lois Lane hugs Clark Kent after his resurrection and says to him  You smell good   This is because she loves the smell of ancient genesis chamber swamp and unwashed  decaying man sweat . ',\n",
       " 'Ben Shapiro is playing Jonny 2x4 in the live action remake of Ed  Edd  and Eddy . ',\n",
       " 'In man of steel  2013  the movie ends abruptly at 11 37  this is because I got bored of it and turned on smallville instead. ',\n",
       " 'Beginning in Star Wars  Episode 3  palpatine exclusively wears black robes  This is because he is in mourning  as he loves democracy  and democracy has died . ',\n",
       " 'In Sound of Metal  2019   this kid looks straight at the camera  This is because he is bli   wait  wrong sense . ',\n",
       " ' the nineties was weird bruh    Goro  mortal kombat . ',\n",
       " 'This man plays  sports  in Queens gambit. ',\n",
       " 'Spock and Brokeback Mountain are basically the same movie if you trade ear for hat . ',\n",
       " 'The title of Transformers Last Knight  isn t actually about the last night of a battle or about a drunken stupor Katy Perry style . There s a  K  in the name which means its actually about a protector  a sentry    a hero  and not about a time of day like most people think  Dont feel ashamed if you didnt notice the  K  in the title  It was super subtle and tricky  The movie came out like 5 years ago and I just figured it out now  after painstaking research  Its named this way because Marky Mark was the last vestige of hope for a shitty movie series that for some reason  which scientists and movie critics still cant understand  people paid to see',\n",
       " 'In PULP FICTION  1994   director Quentin Tarantino focuses several shots on Uma Thurman s bare feet to convey a sense of confident vulnerability and ease and literally no other reason . ',\n",
       " 'In the lion king 1 1 2  you can see a Mackey mouse head in the top right  It was meant to be a cock and balls to follow Disney s long tradition of putting sex stuff in kids movies  but management caught it before release and made them change it. ',\n",
       " 'In the lion king 1 1 2  you can see a Mickey Mouse head in the top right  It was meant to be a cock and balls to follow Disney s long tradition of putting sex stuff in kids movies  but management caught it before release and made them change it. ',\n",
       " 'In the new Mortal Kombat movie they foreshadow the consequences of Hanzo not brining the buckets and using the elements that bring life. ',\n",
       " 'In Joker  2019   before the show starts  Murray tells Arthur that cursing isn t allowed  However  during the show  Arthur says  You get what you fucking deserve   This may indicate that Arthur might not like Murray . ',\n",
       " 'The 2021 film Mortal Kombat was named as such because everyone dies in Kombat  Namibia . ',\n",
       " 'The  I Am Legend  script originally featured aliens  but after a few days of shooting they were cut because of the lack of budget for alien costumes and make up. ',\n",
       " 'In Terminator 2  1991   the T 1000 does not find his target initially  because he is looking for John Connor instead of Waldo Connor. ',\n",
       " 'T D A T  came out on May 28  2004 making it 6 174 days since its supposed day after tomorrow  Checkmate Scientists . ',\n",
       " 'In Cars 2  2011   a field of oil rigs  run by lemons  are shown placed in The Pacific Ocean  This implies that oil is car s blood  and that the lemons are vampires . ',\n",
       " 'In Transformers  2007   Megatron has helped the human race  as explained in this scene  more than Optimus ever did . ',\n",
       " 'In The Sound of Music  1965   The Von Trapps were secretly basketball stars  They escaped Austria so the Nazis couldn t steal their mad hoops skills . ',\n",
       " 'In Mortal Kombat  2021  Theres a reference to Mortal Kombat  What a fucking concept. ',\n",
       " 'In Mortal Kombat  2021   there is a boring office scene at the start of the movie  Then I realized I was watching an advert  so I changed channels . ',\n",
       " 'In The Sound of Music  1965   The Von Trapps were secretly basketball stars  They escaped Austria so the Nazis couldn t utilize their skills for evil . ',\n",
       " 'In Breakin  2  Electric Boogaloo  1984   the main character has a creepy doll  This isn t really a detail  I just wanted to highlight the fact that a movie called Breakin  2  Electric Boogaloo actually exists . ',\n",
       " 'In Fantastic Beasts and Where to Find Them  2016   the roads have massive cracks in them  Thus the movie is an accurate representation of the general quality of roads in New York City . ',\n",
       " 'In Fantastic Beasts and Where to Find Them  2016   the roads have massive cracks in them  Therefore the movie accurately depicts the quality of roads in New York City . ',\n",
       " 'In Mortal Kombat  2021   a bunch of people beat each other up  This is a reference to the title of movie . ',\n",
       " 'In Fantastic Beasts and Where to Find Them  2016   the roads have massive cracks in them  Thus the movie accurately depicts the quality of roads in NYC . ',\n",
       " 'Before Steppenwolf was came to Earth for the Mother Box  Bumblebee gave it to Sam Witwicky for safekeeping . ',\n",
       " 'Despite their best efforts to make a movie so bad that no one would ever want to see a mortal kombat movie again  the producers of the movie mortal kombat annihilation  1997  failed and now a new MK movie was released  Someone will have to make a movie even worse to kill this movie franchise . ',\n",
       " 'Jack Nicholson s line   You can t handle the truth   in A Few Good Men was inspired by the script  which had those exact words . ',\n",
       " 'The 3 dots in the title of the Neil Breen movie  I am here    now   2009  are a reference to the famous line in the movie mortal kombat annihilation  too bad you    will die    so that the public would be warned that the movie is also a crappy movie . ',\n",
       " 'Mortal Kombat  2021  is based on a video game from 1992 with the same name  This is so that people watch it without realizing how bad the quality is . ',\n",
       " 'Have you seen the snyder cut of the 2021 MortalKombat Movie . ',\n",
       " 'Fun fact  when Shang Tsung was sucking kung Lao soul you can hear soultrain by Ybn Nahmir. ',\n",
       " 'In Rocky  1976   Rocky is told  Women weaken legs   This is why he beats his meat . ',\n",
       " 'In Mortal Kombat  2021  Australian actor Josh Lawson plays a criminal  Way to avoid playing against type  there  Josh . ',\n",
       " 'In Mortal Kombat  2021   Australian actor Josh Lawson plays a criminal  Way to play against type  there  Josh . ',\n",
       " 'Many Disney films feature an Easter egg known as  hidden Mickey ears   This scene from Iron Man 2  2010  is a perfect example  as Mickey s ears are hidden . ',\n",
       " 'In No Country For Old Men  2007  Anton Chigurh drinks milk from straight from the bottle  This symbolises that Chigurh was in fact thirsty  resulting in him drinking milk he found in the fridge . ',\n",
       " 'In  Ben 10  Alien Swarm   2009   wait  there s a Ben 10 live action adaptation . ',\n",
       " ' Time  is said exactly 99 times in  In Time   2011   It would have been an even 100 but they ran out of time . ',\n",
       " 'In the movie  Godzilla vs Kong   2021  Godzilla does in fact fight Kong  This is a reference to the vs in the title  which is used to declare a fight between 2 or more parties  like Batman vs Superman  or me vs my ex wife in court where she took everything I own  that vile bitch. ',\n",
       " 'Although the babies in the baby geniuses franchise of movies are geniuses  the scriptwriters for those movies are really dumb  because the stories of those movies are super crappy . ',\n",
       " 'In the movie Dumb  amp  Dumber  1994  we re never told which character is Dumb  and which is Dumber  because at any moment one can be Dumber than the other . ',\n",
       " 'According to Batman The Killing Joke  2016  Batman and the Joker are eskimo brothers . ',\n",
       " 'Will Smith asks  So we some kind of Suicide Squad   in Suicide Squad  2016  as he was confused and thought he had signed up for a Marvel movie. ',\n",
       " 'In Aquaman  2018   Jason Mamoa foreshadows Amber Heard s IRL boyfriend s thoughts  JusticeForJohnnyDepp. ',\n",
       " '    And a message from Ryder from GTA San Andreas on the left grave leaving a final message for CJ. ',\n",
       " 'In Batman  amp  Robin  1997  Mr  Freeze claims that everything freezes  This is a reference to the fact that he doesn t realize Vodka won t freeze  making him a fucking dumbass . ',\n",
       " 'Rocketman  2019  was supposed to be about the life and career of Elton John  However  I was treated by Harland Williams going to space instead  This is because Justin the DVD rental worker mixed the two movies up  clueless of which one s the Elton John biography  Thanks a lot  Justin  You idiot . ',\n",
       " 'The Prequels were secretly masterpieces filled with profound subtexts and subtle messages . ',\n",
       " 'In the new movie  Nobody  2021   Bob Odenkirk plays a young woman who comes to in a roadside diner with no idea where she is or how she got there  Split between two timelines   oh wait  no  that s 88  2015   the other movie with Christopher Lloyd and Michael Ironside. ',\n",
       " 'To best play Groot in the MCU  Vin Diesel had a special script which contained actual lines for Groot  In the films  he exclusively says  I am Groot  because trees can t read and neither can Vin Diesel . ']"
      ]
     },
     "execution_count": 47,
     "metadata": {},
     "output_type": "execute_result"
    }
   ],
   "source": [
    "#First, convert to a list of strings; full reference in this entire section to the sentiment analysis lesson from Heather Robbins\n",
    "corpus = list(df['all_text'])\n",
    "while(\"\" in corpus) : corpus.remove(\"\") #from: https://www.geeksforgeeks.org/python-remove-empty-strings-from-list-of-strings/\n",
    "print(len(corpus))\n",
    "corpus[:100]"
   ]
  },
  {
   "cell_type": "markdown",
   "metadata": {},
   "source": [
    "Looks like we generated a corpus of just over 2500 documents.\n",
    "\n",
    "We'll instantiate our VADER analyzer and check it out by producing some polarity scores on a post."
   ]
  },
  {
   "cell_type": "code",
   "execution_count": 48,
   "metadata": {
    "ExecuteTime": {
     "end_time": "2021-04-29T22:59:11.770808Z",
     "start_time": "2021-04-29T22:59:11.719128Z"
    }
   },
   "outputs": [
    {
     "name": "stdout",
     "output_type": "stream",
     "text": [
      "{'neg': 0.0, 'neu': 0.932, 'pos': 0.068, 'compound': 0.3612}\n",
      "In Captain America   The Winter Soldier  2014   the Winter Soldier looks like a crab in this scene  This is a reference to the actors name Sebastian  who is a crab in another Disney film  The Little Mermaid  1989  . \n"
     ]
    }
   ],
   "source": [
    "#sentiment analysis\n",
    "#instantiate VADER\n",
    "vader = SentimentIntensityAnalyzer()\n",
    "\n",
    "#Get polarity scores for a random post for a quick check\n",
    "print(vader.polarity_scores(corpus[20]))\n",
    "\n",
    "print(corpus[20])"
   ]
  },
  {
   "cell_type": "code",
   "execution_count": 49,
   "metadata": {
    "ExecuteTime": {
     "end_time": "2021-04-29T22:59:11.790800Z",
     "start_time": "2021-04-29T22:59:11.781523Z"
    },
    "scrolled": true
   },
   "outputs": [
    {
     "data": {
      "text/plain": [
       "list"
      ]
     },
     "execution_count": 49,
     "metadata": {},
     "output_type": "execute_result"
    }
   ],
   "source": [
    "type(corpus)"
   ]
  },
  {
   "cell_type": "markdown",
   "metadata": {},
   "source": [
    "Now let's do this for all of our data."
   ]
  },
  {
   "cell_type": "code",
   "execution_count": 50,
   "metadata": {
    "ExecuteTime": {
     "end_time": "2021-04-29T22:59:47.935307Z",
     "start_time": "2021-04-29T22:59:11.795689Z"
    }
   },
   "outputs": [
    {
     "data": {
      "text/html": [
       "<div>\n",
       "<style scoped>\n",
       "    .dataframe tbody tr th:only-of-type {\n",
       "        vertical-align: middle;\n",
       "    }\n",
       "\n",
       "    .dataframe tbody tr th {\n",
       "        vertical-align: top;\n",
       "    }\n",
       "\n",
       "    .dataframe thead th {\n",
       "        text-align: right;\n",
       "    }\n",
       "</style>\n",
       "<table border=\"1\" class=\"dataframe\">\n",
       "  <thead>\n",
       "    <tr style=\"text-align: right;\">\n",
       "      <th></th>\n",
       "      <th>neg</th>\n",
       "      <th>neu</th>\n",
       "      <th>pos</th>\n",
       "      <th>compound</th>\n",
       "      <th>all_text</th>\n",
       "    </tr>\n",
       "  </thead>\n",
       "  <tbody>\n",
       "    <tr>\n",
       "      <th>0</th>\n",
       "      <td>0.000</td>\n",
       "      <td>1.000</td>\n",
       "      <td>0.0</td>\n",
       "      <td>0.0000</td>\n",
       "      <td>In the movie Bullworth  1998   a police officer is seen not shooting black people .</td>\n",
       "    </tr>\n",
       "    <tr>\n",
       "      <th>1</th>\n",
       "      <td>0.000</td>\n",
       "      <td>1.000</td>\n",
       "      <td>0.0</td>\n",
       "      <td>0.0000</td>\n",
       "      <td>The Nightmare Before Christmas  1993   when he arrives at Christmas Town  Jack sings  what s this  There s white things in the air   22 seconds later he sings  there are children throwing snowball...</td>\n",
       "    </tr>\n",
       "    <tr>\n",
       "      <th>2</th>\n",
       "      <td>0.209</td>\n",
       "      <td>0.791</td>\n",
       "      <td>0.0</td>\n",
       "      <td>-0.8910</td>\n",
       "      <td>In Bumblebee  2018   we see a roll of toilet paper  which is used to get rid of shit  in the revenge scene  This is a reference to how this reboot is getting rid of the shit that Michael Bay made ...</td>\n",
       "    </tr>\n",
       "    <tr>\n",
       "      <th>3</th>\n",
       "      <td>0.173</td>\n",
       "      <td>0.827</td>\n",
       "      <td>0.0</td>\n",
       "      <td>-0.5267</td>\n",
       "      <td>In Frozen  2013  Anna asks  Why have a ballroom with no balls   This is a direct reference to there being no males in the kingdom .</td>\n",
       "    </tr>\n",
       "    <tr>\n",
       "      <th>4</th>\n",
       "      <td>0.104</td>\n",
       "      <td>0.797</td>\n",
       "      <td>0.1</td>\n",
       "      <td>-0.0258</td>\n",
       "      <td>johnny cage could not appear in mortal kombat due to scheduling conflicts shooting the real world  back at it like a crack addict.</td>\n",
       "    </tr>\n",
       "  </tbody>\n",
       "</table>\n",
       "</div>"
      ],
      "text/plain": [
       "     neg    neu  pos  compound  \\\n",
       "0  0.000  1.000  0.0    0.0000   \n",
       "1  0.000  1.000  0.0    0.0000   \n",
       "2  0.209  0.791  0.0   -0.8910   \n",
       "3  0.173  0.827  0.0   -0.5267   \n",
       "4  0.104  0.797  0.1   -0.0258   \n",
       "\n",
       "                                                                                                                                                                                                  all_text  \n",
       "0                                                                                                                     In the movie Bullworth  1998   a police officer is seen not shooting black people .   \n",
       "1  The Nightmare Before Christmas  1993   when he arrives at Christmas Town  Jack sings  what s this  There s white things in the air   22 seconds later he sings  there are children throwing snowball...  \n",
       "2  In Bumblebee  2018   we see a roll of toilet paper  which is used to get rid of shit  in the revenge scene  This is a reference to how this reboot is getting rid of the shit that Michael Bay made ...  \n",
       "3                                                                     In Frozen  2013  Anna asks  Why have a ballroom with no balls   This is a direct reference to there being no males in the kingdom .   \n",
       "4                                                                      johnny cage could not appear in mortal kombat due to scheduling conflicts shooting the real world  back at it like a crack addict.   "
      ]
     },
     "execution_count": 50,
     "metadata": {},
     "output_type": "execute_result"
    }
   ],
   "source": [
    "sentiment = []    \n",
    "\n",
    "for post in corpus:\n",
    "    scores = vader.polarity_scores(post)\n",
    "    scores['all_text'] = post\n",
    "    sentiment.append(scores)\n",
    "\n",
    "sentiment_df = pd.DataFrame(sentiment)\n",
    "sentiment_df.head()"
   ]
  },
  {
   "cell_type": "code",
   "execution_count": 51,
   "metadata": {
    "ExecuteTime": {
     "end_time": "2021-04-29T22:59:48.000885Z",
     "start_time": "2021-04-29T22:59:47.970553Z"
    }
   },
   "outputs": [
    {
     "data": {
      "text/plain": [
       "(21798, 5)"
      ]
     },
     "execution_count": 51,
     "metadata": {},
     "output_type": "execute_result"
    }
   ],
   "source": [
    "sentiment_df.shape"
   ]
  },
  {
   "cell_type": "code",
   "execution_count": 52,
   "metadata": {
    "ExecuteTime": {
     "end_time": "2021-04-29T22:59:48.073148Z",
     "start_time": "2021-04-29T22:59:48.050068Z"
    }
   },
   "outputs": [
    {
     "data": {
      "text/plain": [
       "(21798, 10)"
      ]
     },
     "execution_count": 52,
     "metadata": {},
     "output_type": "execute_result"
    }
   ],
   "source": [
    "df.shape"
   ]
  },
  {
   "cell_type": "code",
   "execution_count": 53,
   "metadata": {
    "ExecuteTime": {
     "end_time": "2021-04-29T22:59:48.201563Z",
     "start_time": "2021-04-29T22:59:48.118315Z"
    }
   },
   "outputs": [
    {
     "data": {
      "text/html": [
       "<div>\n",
       "<style scoped>\n",
       "    .dataframe tbody tr th:only-of-type {\n",
       "        vertical-align: middle;\n",
       "    }\n",
       "\n",
       "    .dataframe tbody tr th {\n",
       "        vertical-align: top;\n",
       "    }\n",
       "\n",
       "    .dataframe thead th {\n",
       "        text-align: right;\n",
       "    }\n",
       "</style>\n",
       "<table border=\"1\" class=\"dataframe\">\n",
       "  <thead>\n",
       "    <tr style=\"text-align: right;\">\n",
       "      <th></th>\n",
       "      <th>neg</th>\n",
       "      <th>neu</th>\n",
       "      <th>pos</th>\n",
       "      <th>compound</th>\n",
       "      <th>all_text</th>\n",
       "    </tr>\n",
       "  </thead>\n",
       "  <tbody>\n",
       "    <tr>\n",
       "      <th>0</th>\n",
       "      <td>0.0</td>\n",
       "      <td>1.0</td>\n",
       "      <td>0.0</td>\n",
       "      <td>0.0</td>\n",
       "      <td>In the movie Bullworth  1998   a police officer is seen not shooting black people .</td>\n",
       "    </tr>\n",
       "  </tbody>\n",
       "</table>\n",
       "</div>"
      ],
      "text/plain": [
       "   neg  neu  pos  compound  \\\n",
       "0  0.0  1.0  0.0       0.0   \n",
       "\n",
       "                                                                               all_text  \n",
       "0  In the movie Bullworth  1998   a police officer is seen not shooting black people .   "
      ]
     },
     "execution_count": 53,
     "metadata": {},
     "output_type": "execute_result"
    }
   ],
   "source": [
    "sentiment_df.head(1)"
   ]
  },
  {
   "cell_type": "code",
   "execution_count": 54,
   "metadata": {
    "ExecuteTime": {
     "end_time": "2021-04-29T22:59:48.232046Z",
     "start_time": "2021-04-29T22:59:48.206198Z"
    }
   },
   "outputs": [
    {
     "data": {
      "text/plain": [
       "RangeIndex(start=0, stop=21798, step=1)"
      ]
     },
     "execution_count": 54,
     "metadata": {},
     "output_type": "execute_result"
    }
   ],
   "source": [
    "sentiment_df.index"
   ]
  },
  {
   "cell_type": "code",
   "execution_count": 55,
   "metadata": {
    "ExecuteTime": {
     "end_time": "2021-04-29T22:59:48.299307Z",
     "start_time": "2021-04-29T22:59:48.236114Z"
    }
   },
   "outputs": [
    {
     "data": {
      "text/html": [
       "<div>\n",
       "<style scoped>\n",
       "    .dataframe tbody tr th:only-of-type {\n",
       "        vertical-align: middle;\n",
       "    }\n",
       "\n",
       "    .dataframe tbody tr th {\n",
       "        vertical-align: top;\n",
       "    }\n",
       "\n",
       "    .dataframe thead th {\n",
       "        text-align: right;\n",
       "    }\n",
       "</style>\n",
       "<table border=\"1\" class=\"dataframe\">\n",
       "  <thead>\n",
       "    <tr style=\"text-align: right;\">\n",
       "      <th></th>\n",
       "      <th>title</th>\n",
       "      <th>selftext</th>\n",
       "      <th>subreddit</th>\n",
       "      <th>created_utc</th>\n",
       "      <th>author</th>\n",
       "      <th>is_self</th>\n",
       "      <th>score</th>\n",
       "      <th>num_comments</th>\n",
       "      <th>timestamp</th>\n",
       "      <th>all_text</th>\n",
       "    </tr>\n",
       "  </thead>\n",
       "  <tbody>\n",
       "    <tr>\n",
       "      <th>0</th>\n",
       "      <td>In the movie Bullworth  1998   a police officer is seen not shooting black people</td>\n",
       "      <td></td>\n",
       "      <td>shittymoviedetails</td>\n",
       "      <td>1970-01-01 00:00:01.619214935</td>\n",
       "      <td>Wuz314159</td>\n",
       "      <td>False</td>\n",
       "      <td>1</td>\n",
       "      <td>1</td>\n",
       "      <td>2021-04-23</td>\n",
       "      <td>In the movie Bullworth  1998   a police officer is seen not shooting black people .</td>\n",
       "    </tr>\n",
       "  </tbody>\n",
       "</table>\n",
       "</div>"
      ],
      "text/plain": [
       "                                                                                title  \\\n",
       "0  In the movie Bullworth  1998   a police officer is seen not shooting black people    \n",
       "\n",
       "  selftext           subreddit                   created_utc     author  \\\n",
       "0           shittymoviedetails 1970-01-01 00:00:01.619214935  Wuz314159   \n",
       "\n",
       "   is_self  score  num_comments  timestamp  \\\n",
       "0    False      1             1 2021-04-23   \n",
       "\n",
       "                                                                               all_text  \n",
       "0  In the movie Bullworth  1998   a police officer is seen not shooting black people .   "
      ]
     },
     "execution_count": 55,
     "metadata": {},
     "output_type": "execute_result"
    }
   ],
   "source": [
    "df.head(1)"
   ]
  },
  {
   "cell_type": "code",
   "execution_count": 56,
   "metadata": {
    "ExecuteTime": {
     "end_time": "2021-04-29T22:59:48.353446Z",
     "start_time": "2021-04-29T22:59:48.306840Z"
    }
   },
   "outputs": [],
   "source": [
    "#reset index due to earlier dropped rows\n",
    "df.reset_index(inplace=True)\n",
    "sentiment_df.reset_index(inplace=True)"
   ]
  },
  {
   "cell_type": "code",
   "execution_count": 57,
   "metadata": {
    "ExecuteTime": {
     "end_time": "2021-04-29T22:59:48.440989Z",
     "start_time": "2021-04-29T22:59:48.368417Z"
    }
   },
   "outputs": [
    {
     "data": {
      "text/html": [
       "<div>\n",
       "<style scoped>\n",
       "    .dataframe tbody tr th:only-of-type {\n",
       "        vertical-align: middle;\n",
       "    }\n",
       "\n",
       "    .dataframe tbody tr th {\n",
       "        vertical-align: top;\n",
       "    }\n",
       "\n",
       "    .dataframe thead th {\n",
       "        text-align: right;\n",
       "    }\n",
       "</style>\n",
       "<table border=\"1\" class=\"dataframe\">\n",
       "  <thead>\n",
       "    <tr style=\"text-align: right;\">\n",
       "      <th></th>\n",
       "      <th>index</th>\n",
       "      <th>neg</th>\n",
       "      <th>neu</th>\n",
       "      <th>pos</th>\n",
       "      <th>compound</th>\n",
       "      <th>all_text</th>\n",
       "      <th>target</th>\n",
       "    </tr>\n",
       "  </thead>\n",
       "  <tbody>\n",
       "    <tr>\n",
       "      <th>0</th>\n",
       "      <td>0</td>\n",
       "      <td>0.000</td>\n",
       "      <td>1.000</td>\n",
       "      <td>0.0</td>\n",
       "      <td>0.0000</td>\n",
       "      <td>In the movie Bullworth  1998   a police officer is seen not shooting black people .</td>\n",
       "      <td>shittymoviedetails</td>\n",
       "    </tr>\n",
       "    <tr>\n",
       "      <th>1</th>\n",
       "      <td>1</td>\n",
       "      <td>0.000</td>\n",
       "      <td>1.000</td>\n",
       "      <td>0.0</td>\n",
       "      <td>0.0000</td>\n",
       "      <td>The Nightmare Before Christmas  1993   when he arrives at Christmas Town  Jack sings  what s this  There s white things in the air   22 seconds later he sings  there are children throwing snowball...</td>\n",
       "      <td>shittymoviedetails</td>\n",
       "    </tr>\n",
       "    <tr>\n",
       "      <th>2</th>\n",
       "      <td>2</td>\n",
       "      <td>0.209</td>\n",
       "      <td>0.791</td>\n",
       "      <td>0.0</td>\n",
       "      <td>-0.8910</td>\n",
       "      <td>In Bumblebee  2018   we see a roll of toilet paper  which is used to get rid of shit  in the revenge scene  This is a reference to how this reboot is getting rid of the shit that Michael Bay made ...</td>\n",
       "      <td>shittymoviedetails</td>\n",
       "    </tr>\n",
       "    <tr>\n",
       "      <th>3</th>\n",
       "      <td>3</td>\n",
       "      <td>0.173</td>\n",
       "      <td>0.827</td>\n",
       "      <td>0.0</td>\n",
       "      <td>-0.5267</td>\n",
       "      <td>In Frozen  2013  Anna asks  Why have a ballroom with no balls   This is a direct reference to there being no males in the kingdom .</td>\n",
       "      <td>shittymoviedetails</td>\n",
       "    </tr>\n",
       "    <tr>\n",
       "      <th>4</th>\n",
       "      <td>4</td>\n",
       "      <td>0.104</td>\n",
       "      <td>0.797</td>\n",
       "      <td>0.1</td>\n",
       "      <td>-0.0258</td>\n",
       "      <td>johnny cage could not appear in mortal kombat due to scheduling conflicts shooting the real world  back at it like a crack addict.</td>\n",
       "      <td>shittymoviedetails</td>\n",
       "    </tr>\n",
       "  </tbody>\n",
       "</table>\n",
       "</div>"
      ],
      "text/plain": [
       "   index    neg    neu  pos  compound  \\\n",
       "0      0  0.000  1.000  0.0    0.0000   \n",
       "1      1  0.000  1.000  0.0    0.0000   \n",
       "2      2  0.209  0.791  0.0   -0.8910   \n",
       "3      3  0.173  0.827  0.0   -0.5267   \n",
       "4      4  0.104  0.797  0.1   -0.0258   \n",
       "\n",
       "                                                                                                                                                                                                  all_text  \\\n",
       "0                                                                                                                     In the movie Bullworth  1998   a police officer is seen not shooting black people .    \n",
       "1  The Nightmare Before Christmas  1993   when he arrives at Christmas Town  Jack sings  what s this  There s white things in the air   22 seconds later he sings  there are children throwing snowball...   \n",
       "2  In Bumblebee  2018   we see a roll of toilet paper  which is used to get rid of shit  in the revenge scene  This is a reference to how this reboot is getting rid of the shit that Michael Bay made ...   \n",
       "3                                                                     In Frozen  2013  Anna asks  Why have a ballroom with no balls   This is a direct reference to there being no males in the kingdom .    \n",
       "4                                                                      johnny cage could not appear in mortal kombat due to scheduling conflicts shooting the real world  back at it like a crack addict.    \n",
       "\n",
       "               target  \n",
       "0  shittymoviedetails  \n",
       "1  shittymoviedetails  \n",
       "2  shittymoviedetails  \n",
       "3  shittymoviedetails  \n",
       "4  shittymoviedetails  "
      ]
     },
     "execution_count": 57,
     "metadata": {},
     "output_type": "execute_result"
    }
   ],
   "source": [
    "#set target to equal to our subreddit - bin. / conversion to num not req.\n",
    "sentiment_df['target'] =df['subreddit']\n",
    "sentiment_df.head()"
   ]
  },
  {
   "cell_type": "code",
   "execution_count": 59,
   "metadata": {
    "ExecuteTime": {
     "end_time": "2021-04-29T23:01:33.568214Z",
     "start_time": "2021-04-29T23:01:32.592549Z"
    }
   },
   "outputs": [
    {
     "data": {
      "image/png": "[encoded data removed]",
      "text/plain": [
       "<Figure size 432x288 with 1 Axes>"
      ]
     },
     "metadata": {},
     "output_type": "display_data"
    }
   ],
   "source": [
    "#Plot the average positivity, negativity and compound scores for target\n",
    "sentiment_df.groupby('target').mean()[['pos', 'neg', 'compound']].plot(kind='barh')\n",
    "plt.title('Average Positive, Negative & Compound Scores');"
   ]
  },
  {
   "cell_type": "code",
   "execution_count": 60,
   "metadata": {
    "ExecuteTime": {
     "end_time": "2021-04-29T23:01:53.029343Z",
     "start_time": "2021-04-29T23:01:53.025167Z"
    }
   },
   "outputs": [],
   "source": [
    "#pair-plot relationships btn. top words / sentiment and word length etc.\n",
    "#Some inspiration from Ben's work\n"
   ]
  },
  {
   "cell_type": "markdown",
   "metadata": {},
   "source": [
    "### Vectorize text in prep for analysis\n",
    "\n",
    "We will need to vectorize our words, for our models to process them. \n",
    "We will vectorize self-text, as well as, potentially, title and / or our joint text column to train on."
   ]
  },
  {
   "cell_type": "code",
   "execution_count": 61,
   "metadata": {
    "ExecuteTime": {
     "end_time": "2021-04-29T23:01:53.181313Z",
     "start_time": "2021-04-29T23:01:53.177293Z"
    }
   },
   "outputs": [],
   "source": [
    "#initialize CV transformer\n",
    "cvec = CountVectorizer(stop_words='english', max_features = 500)"
   ]
  },
  {
   "cell_type": "markdown",
   "metadata": {},
   "source": [
    "### Word analysis"
   ]
  },
  {
   "cell_type": "code",
   "execution_count": 62,
   "metadata": {
    "ExecuteTime": {
     "end_time": "2021-04-29T23:01:54.148391Z",
     "start_time": "2021-04-29T23:01:53.311863Z"
    }
   },
   "outputs": [],
   "source": [
    "word_counts = cvec.fit_transform(df['selftext'])"
   ]
  },
  {
   "cell_type": "code",
   "execution_count": 63,
   "metadata": {
    "ExecuteTime": {
     "end_time": "2021-04-29T23:01:54.165477Z",
     "start_time": "2021-04-29T23:01:54.151009Z"
    }
   },
   "outputs": [
    {
     "data": {
      "text/plain": [
       "scipy.sparse.csr.csr_matrix"
      ]
     },
     "execution_count": 63,
     "metadata": {},
     "output_type": "execute_result"
    }
   ],
   "source": [
    "type(word_counts)"
   ]
  },
  {
   "cell_type": "code",
   "execution_count": 64,
   "metadata": {
    "ExecuteTime": {
     "end_time": "2021-04-29T23:01:54.216568Z",
     "start_time": "2021-04-29T23:01:54.179028Z"
    }
   },
   "outputs": [],
   "source": [
    "counts = pd.DataFrame(word_counts.todense(), columns=cvec.get_feature_names())"
   ]
  },
  {
   "cell_type": "markdown",
   "metadata": {},
   "source": [
    "How many words do we have in the post column?"
   ]
  },
  {
   "cell_type": "code",
   "execution_count": 65,
   "metadata": {
    "ExecuteTime": {
     "end_time": "2021-04-29T23:01:54.414023Z",
     "start_time": "2021-04-29T23:01:54.224833Z"
    }
   },
   "outputs": [
    {
     "data": {
      "text/plain": [
       "76941"
      ]
     },
     "execution_count": 65,
     "metadata": {},
     "output_type": "execute_result"
    }
   ],
   "source": [
    "counts.sum().sum()\n",
    "#note: identical calc to doing this as `word_counts.sum()`"
   ]
  },
  {
   "cell_type": "markdown",
   "metadata": {},
   "source": [
    "Let's create a new column called \"post length\" that calculates the words contained in a post's body."
   ]
  },
  {
   "cell_type": "code",
   "execution_count": 66,
   "metadata": {
    "ExecuteTime": {
     "end_time": "2021-04-29T23:01:54.520310Z",
     "start_time": "2021-04-29T23:01:54.415847Z"
    }
   },
   "outputs": [],
   "source": [
    "#get length of posts\n",
    "df['post_length'] = df['selftext'].map(lambda x: len(x.split()))"
   ]
  },
  {
   "cell_type": "code",
   "execution_count": 67,
   "metadata": {
    "ExecuteTime": {
     "end_time": "2021-04-29T23:01:54.625099Z",
     "start_time": "2021-04-29T23:01:54.531135Z"
    }
   },
   "outputs": [
    {
     "data": {
      "text/html": [
       "<div>\n",
       "<style scoped>\n",
       "    .dataframe tbody tr th:only-of-type {\n",
       "        vertical-align: middle;\n",
       "    }\n",
       "\n",
       "    .dataframe tbody tr th {\n",
       "        vertical-align: top;\n",
       "    }\n",
       "\n",
       "    .dataframe thead th {\n",
       "        text-align: right;\n",
       "    }\n",
       "</style>\n",
       "<table border=\"1\" class=\"dataframe\">\n",
       "  <thead>\n",
       "    <tr style=\"text-align: right;\">\n",
       "      <th></th>\n",
       "      <th>index</th>\n",
       "      <th>title</th>\n",
       "      <th>selftext</th>\n",
       "      <th>subreddit</th>\n",
       "      <th>created_utc</th>\n",
       "      <th>author</th>\n",
       "      <th>is_self</th>\n",
       "      <th>score</th>\n",
       "      <th>num_comments</th>\n",
       "      <th>timestamp</th>\n",
       "      <th>all_text</th>\n",
       "      <th>post_length</th>\n",
       "    </tr>\n",
       "  </thead>\n",
       "  <tbody>\n",
       "    <tr>\n",
       "      <th>20395</th>\n",
       "      <td>7446</td>\n",
       "      <td>I really don t like the live action Mulan</td>\n",
       "      <td>tl dr  The new Mulan sucksI m Chinese  so I was excited as hell that we were getting a new  grittier Mulan that seemed to pay more homage to the original legend  and was more respectful to Chinese...</td>\n",
       "      <td>movies</td>\n",
       "      <td>1970-01-01 00:00:01.604190060</td>\n",
       "      <td>Puff the penguin</td>\n",
       "      <td>True</td>\n",
       "      <td>1</td>\n",
       "      <td>14</td>\n",
       "      <td>2020-10-31</td>\n",
       "      <td>I really don t like the live action Mulan. tl dr  The new Mulan sucksI m Chinese  so I was excited as hell that we were getting a new  grittier Mulan that seemed to pay more homage to the original...</td>\n",
       "      <td>430</td>\n",
       "    </tr>\n",
       "    <tr>\n",
       "      <th>13068</th>\n",
       "      <td>6176</td>\n",
       "      <td>In the movie  The Founder   2016   Ray Kroc says every McDonalds burger must have 3 pickles  Well  today my McDonalds burgers both only had 2 pickles  Is this movie even accurate  I am outraged an...</td>\n",
       "      <td>tl dr   outraged  Michael Keaton must respond</td>\n",
       "      <td>MovieDetails</td>\n",
       "      <td>1970-01-01 00:00:01.604262582</td>\n",
       "      <td>fatal music</td>\n",
       "      <td>True</td>\n",
       "      <td>1</td>\n",
       "      <td>2</td>\n",
       "      <td>2020-11-01</td>\n",
       "      <td>In the movie  The Founder   2016   Ray Kroc says every McDonalds burger must have 3 pickles  Well  today my McDonalds burgers both only had 2 pickles  Is this movie even accurate  I am outraged an...</td>\n",
       "      <td>7</td>\n",
       "    </tr>\n",
       "    <tr>\n",
       "      <th>15673</th>\n",
       "      <td>324</td>\n",
       "      <td>Help find a puppet movie</td>\n",
       "      <td>this was a movie that took place in a steampunk asian setting  the characters were glove puppets like thunderbolt fantasy or pili  and there was a robot  the movie tittle is also the name of the r...</td>\n",
       "      <td>movies</td>\n",
       "      <td>1970-01-01 00:00:01.618700964</td>\n",
       "      <td>hellowhatareyou</td>\n",
       "      <td>True</td>\n",
       "      <td>1</td>\n",
       "      <td>4</td>\n",
       "      <td>2021-04-17</td>\n",
       "      <td>Help find a puppet movie. this was a movie that took place in a steampunk asian setting  the characters were glove puppets like thunderbolt fantasy or pili  and there was a robot  the movie tittle...</td>\n",
       "      <td>111</td>\n",
       "    </tr>\n",
       "    <tr>\n",
       "      <th>16572</th>\n",
       "      <td>1644</td>\n",
       "      <td>the flying fish scene in Life of Pi is the best use of  3D  i ve seen</td>\n",
       "      <td>this is the scene    i saw this movie back in 2012 in 3D and it was so good  probably the best movie i ve seen in 3D  in rewatching it  i m still so impressed by the feel of the flying fish scene ...</td>\n",
       "      <td>movies</td>\n",
       "      <td>1970-01-01 00:00:01.615421072</td>\n",
       "      <td>seethar</td>\n",
       "      <td>True</td>\n",
       "      <td>1</td>\n",
       "      <td>16</td>\n",
       "      <td>2021-03-10</td>\n",
       "      <td>the flying fish scene in Life of Pi is the best use of  3D  i ve seen. this is the scene    i saw this movie back in 2012 in 3D and it was so good  probably the best movie i ve seen in 3D  in rewa...</td>\n",
       "      <td>130</td>\n",
       "    </tr>\n",
       "    <tr>\n",
       "      <th>16796</th>\n",
       "      <td>2050</td>\n",
       "      <td>District 9 is still one of my fav sci  fi</td>\n",
       "      <td>this is a random post but I just rewatched this again on crackle and I love this movie man  I m not huge into scifi like some but I like it enough if it s compelling material wether book  media  s...</td>\n",
       "      <td>movies</td>\n",
       "      <td>1970-01-01 00:00:01.614730206</td>\n",
       "      <td>Consistent Ad 9153</td>\n",
       "      <td>True</td>\n",
       "      <td>1</td>\n",
       "      <td>257</td>\n",
       "      <td>2021-03-02</td>\n",
       "      <td>District 9 is still one of my fav sci  fi. this is a random post but I just rewatched this again on crackle and I love this movie man  I m not huge into scifi like some but I like it enough if it ...</td>\n",
       "      <td>237</td>\n",
       "    </tr>\n",
       "  </tbody>\n",
       "</table>\n",
       "</div>"
      ],
      "text/plain": [
       "       index  \\\n",
       "20395   7446   \n",
       "13068   6176   \n",
       "15673    324   \n",
       "16572   1644   \n",
       "16796   2050   \n",
       "\n",
       "                                                                                                                                                                                                         title  \\\n",
       "20395                                                                                                                                                                I really don t like the live action Mulan   \n",
       "13068  In the movie  The Founder   2016   Ray Kroc says every McDonalds burger must have 3 pickles  Well  today my McDonalds burgers both only had 2 pickles  Is this movie even accurate  I am outraged an...   \n",
       "15673                                                                                                                                                                                 Help find a puppet movie   \n",
       "16572                                                                                                                                    the flying fish scene in Life of Pi is the best use of  3D  i ve seen   \n",
       "16796                                                                                                                                                                District 9 is still one of my fav sci  fi   \n",
       "\n",
       "                                                                                                                                                                                                      selftext  \\\n",
       "20395  tl dr  The new Mulan sucksI m Chinese  so I was excited as hell that we were getting a new  grittier Mulan that seemed to pay more homage to the original legend  and was more respectful to Chinese...   \n",
       "13068                                                                                                                                                           tl dr   outraged  Michael Keaton must respond    \n",
       "15673  this was a movie that took place in a steampunk asian setting  the characters were glove puppets like thunderbolt fantasy or pili  and there was a robot  the movie tittle is also the name of the r...   \n",
       "16572  this is the scene    i saw this movie back in 2012 in 3D and it was so good  probably the best movie i ve seen in 3D  in rewatching it  i m still so impressed by the feel of the flying fish scene ...   \n",
       "16796  this is a random post but I just rewatched this again on crackle and I love this movie man  I m not huge into scifi like some but I like it enough if it s compelling material wether book  media  s...   \n",
       "\n",
       "          subreddit                   created_utc              author  \\\n",
       "20395        movies 1970-01-01 00:00:01.604190060    Puff the penguin   \n",
       "13068  MovieDetails 1970-01-01 00:00:01.604262582         fatal music   \n",
       "15673        movies 1970-01-01 00:00:01.618700964     hellowhatareyou   \n",
       "16572        movies 1970-01-01 00:00:01.615421072             seethar   \n",
       "16796        movies 1970-01-01 00:00:01.614730206  Consistent Ad 9153   \n",
       "\n",
       "       is_self  score  num_comments  timestamp  \\\n",
       "20395     True      1            14 2020-10-31   \n",
       "13068     True      1             2 2020-11-01   \n",
       "15673     True      1             4 2021-04-17   \n",
       "16572     True      1            16 2021-03-10   \n",
       "16796     True      1           257 2021-03-02   \n",
       "\n",
       "                                                                                                                                                                                                      all_text  \\\n",
       "20395  I really don t like the live action Mulan. tl dr  The new Mulan sucksI m Chinese  so I was excited as hell that we were getting a new  grittier Mulan that seemed to pay more homage to the original...   \n",
       "13068  In the movie  The Founder   2016   Ray Kroc says every McDonalds burger must have 3 pickles  Well  today my McDonalds burgers both only had 2 pickles  Is this movie even accurate  I am outraged an...   \n",
       "15673  Help find a puppet movie. this was a movie that took place in a steampunk asian setting  the characters were glove puppets like thunderbolt fantasy or pili  and there was a robot  the movie tittle...   \n",
       "16572  the flying fish scene in Life of Pi is the best use of  3D  i ve seen. this is the scene    i saw this movie back in 2012 in 3D and it was so good  probably the best movie i ve seen in 3D  in rewa...   \n",
       "16796  District 9 is still one of my fav sci  fi. this is a random post but I just rewatched this again on crackle and I love this movie man  I m not huge into scifi like some but I like it enough if it ...   \n",
       "\n",
       "       post_length  \n",
       "20395          430  \n",
       "13068            7  \n",
       "15673          111  \n",
       "16572          130  \n",
       "16796          237  "
      ]
     },
     "execution_count": 67,
     "metadata": {},
     "output_type": "execute_result"
    }
   ],
   "source": [
    "#take a peek\n",
    "df.sort_values(by = 'selftext', ascending = False).head()"
   ]
  },
  {
   "cell_type": "markdown",
   "metadata": {},
   "source": [
    "What is the most typical post length?"
   ]
  },
  {
   "cell_type": "code",
   "execution_count": 68,
   "metadata": {
    "ExecuteTime": {
     "end_time": "2021-04-29T23:01:54.646235Z",
     "start_time": "2021-04-29T23:01:54.627955Z"
    }
   },
   "outputs": [
    {
     "data": {
      "text/plain": [
       "1"
      ]
     },
     "execution_count": 68,
     "metadata": {},
     "output_type": "execute_result"
    }
   ],
   "source": [
    "#check for average post density -- length of posts\n",
    "len(df['selftext'].mode())"
   ]
  },
  {
   "cell_type": "markdown",
   "metadata": {},
   "source": [
    "Let's visualize post length, by subReddit."
   ]
  },
  {
   "cell_type": "code",
   "execution_count": 69,
   "metadata": {
    "ExecuteTime": {
     "end_time": "2021-04-29T23:01:56.187564Z",
     "start_time": "2021-04-29T23:01:54.656256Z"
    }
   },
   "outputs": [
    {
     "data": {
      "image/png": "[encoded data removed]",
      "text/plain": [
       "<Figure size 432x288 with 1 Axes>"
      ]
     },
     "metadata": {},
     "output_type": "display_data"
    }
   ],
   "source": [
    "#inspiration from Gwen's NLP lab review\n",
    "\n",
    "df.groupby('subreddit')[['post_length']].mean().plot(kind='barh');\n",
    "plt.xticks(size=13);\n",
    "plt.yticks(size=13, rotation = 70, color = 'red'); #rotation added in order to fit labels\n",
    "plt.ylabel('Subreddit', size=15)\n",
    "plt.xlabel('Post length (in words)', size=15);\n",
    "plt.title('Post length by Subreddit', size=15);\n",
    "plt.savefig('../images/post_length.png')"
   ]
  },
  {
   "cell_type": "markdown",
   "metadata": {},
   "source": [
    "It seems that post length varies significantly by the type of subreddit, whoa! Is this a dead giveaway of how our models might perform? (Insert suspenseful music here.)\n",
    "\n",
    "Suffice it to say, I see promise of a signal there!"
   ]
  },
  {
   "cell_type": "code",
   "execution_count": 70,
   "metadata": {
    "ExecuteTime": {
     "end_time": "2021-04-29T23:01:56.200246Z",
     "start_time": "2021-04-29T23:01:56.194560Z"
    }
   },
   "outputs": [],
   "source": [
    "#post length vs. scores\n",
    "#group by post length being above or below the mean, and look at whether the avg. post score changes"
   ]
  },
  {
   "cell_type": "markdown",
   "metadata": {},
   "source": [
    "What are the most common words?"
   ]
  },
  {
   "cell_type": "code",
   "execution_count": 71,
   "metadata": {
    "ExecuteTime": {
     "end_time": "2021-04-29T23:01:56.219993Z",
     "start_time": "2021-04-29T23:01:56.209014Z"
    }
   },
   "outputs": [
    {
     "data": {
      "text/plain": [
       "pandas.core.frame.DataFrame"
      ]
     },
     "execution_count": 71,
     "metadata": {},
     "output_type": "execute_result"
    }
   ],
   "source": [
    "type(counts)"
   ]
  },
  {
   "cell_type": "code",
   "execution_count": 72,
   "metadata": {
    "ExecuteTime": {
     "end_time": "2021-04-29T23:01:56.271883Z",
     "start_time": "2021-04-29T23:01:56.224333Z"
    }
   },
   "outputs": [
    {
     "data": {
      "text/plain": [
       "movie        3015\n",
       "like         1771\n",
       "just         1718\n",
       "film         1540\n",
       "movies       1501\n",
       "think         979\n",
       "really        896\n",
       "time          877\n",
       "know          773\n",
       "good          746\n",
       "ve            728\n",
       "don           691\n",
       "people        666\n",
       "films         618\n",
       "watch         601\n",
       "scene         549\n",
       "great         518\n",
       "seen          503\n",
       "story         487\n",
       "way           481\n",
       "love          480\n",
       "watching      433\n",
       "make          414\n",
       "did           411\n",
       "character     401\n",
       "best          400\n",
       "remember      397\n",
       "watched       391\n",
       "man           381\n",
       "end           370\n",
       "dtype: int64"
      ]
     },
     "execution_count": 72,
     "metadata": {},
     "output_type": "execute_result"
    }
   ],
   "source": [
    "#word freq analysis - Gwen's lab review code\n",
    "counts.sum().sort_values(ascending=False).head(30).T"
   ]
  },
  {
   "cell_type": "code",
   "execution_count": 73,
   "metadata": {
    "ExecuteTime": {
     "end_time": "2021-04-29T23:01:58.759038Z",
     "start_time": "2021-04-29T23:01:56.279091Z"
    }
   },
   "outputs": [
    {
     "data": {
      "image/png": "[encoded data removed]",
      "text/plain": [
       "<Figure size 720x576 with 1 Axes>"
      ]
     },
     "metadata": {},
     "output_type": "display_data"
    }
   ],
   "source": [
    "#Gwen's lab review code\n",
    "plt.figure(figsize=(10,8))\n",
    "counts.sum().sort_values(ascending=False).head(30)[1:].plot(kind='barh');\n",
    "plt.title('Most frequently occurring words in movie subReddits', size = 15);\n",
    "plt.xlabel('Word count', size =13);\n",
    "plt.yticks(size=13);\n",
    "plt.ylabel('Word', size=13);\n",
    "plt.savefig('../images/word_freq.png')"
   ]
  },
  {
   "cell_type": "markdown",
   "metadata": {},
   "source": [
    "Ok, so words like 'watch', 'scene' and 'films' come up a lot. This is not particularly exciting and would be expected for a movie themed post. Let's look at word pairs."
   ]
  },
  {
   "cell_type": "code",
   "execution_count": 87,
   "metadata": {
    "ExecuteTime": {
     "end_time": "2021-04-29T23:06:19.932447Z",
     "start_time": "2021-04-29T23:06:18.538168Z"
    }
   },
   "outputs": [],
   "source": [
    "#look at bi-grams / tri-grams\n",
    "#consult Gwen's NLP lab review notebook (fb status analysis) for this!\n",
    "cvec2 = CountVectorizer(stop_words='english', ngram_range=(2,2), max_features = 30)\n",
    "ngram = cvec2.fit_transform(df['selftext'])\n",
    "ngrams = pd.DataFrame(ngram.todense(), columns = cvec2.get_feature_names())"
   ]
  },
  {
   "cell_type": "code",
   "execution_count": 88,
   "metadata": {
    "ExecuteTime": {
     "end_time": "2021-04-29T23:06:19.958450Z",
     "start_time": "2021-04-29T23:06:19.949737Z"
    }
   },
   "outputs": [
    {
     "data": {
      "text/plain": [
       "pandas.core.frame.DataFrame"
      ]
     },
     "execution_count": 88,
     "metadata": {},
     "output_type": "execute_result"
    }
   ],
   "source": [
    "type(ngrams)"
   ]
  },
  {
   "cell_type": "code",
   "execution_count": 89,
   "metadata": {
    "ExecuteTime": {
     "end_time": "2021-04-29T23:06:19.976891Z",
     "start_time": "2021-04-29T23:06:19.964548Z"
    }
   },
   "outputs": [
    {
     "data": {
      "text/plain": [
       "Index(['00 pm', 'boycott tom', 'click rankings', 'don know', 'don think',\n",
       "       'feel like', 'feels like', 'felt like', 'filler text', 'film like',\n",
       "       'haven seen', 'high school', 'jerry boycott', 'just watched',\n",
       "       'main character', 'movie just', 'movie like', 'movies like',\n",
       "       'processing img', 'really good', 'rotten tomatoes', 'sci fi',\n",
       "       'seen film', 'star wars', 'text filler', 'tom jerry', 've seen',\n",
       "       'watch movie', 'watched movie', 'years ago'],\n",
       "      dtype='object')"
      ]
     },
     "execution_count": 89,
     "metadata": {},
     "output_type": "execute_result"
    }
   ],
   "source": [
    "ngrams.columns"
   ]
  },
  {
   "cell_type": "markdown",
   "metadata": {},
   "source": [
    "These are much more interesting and telling previews -- we can start to piece some context together about what people are talking about! All we are looking at, though, is the start and end of our (not so little) output array. How big is this in terms of features?"
   ]
  },
  {
   "cell_type": "code",
   "execution_count": 90,
   "metadata": {
    "ExecuteTime": {
     "end_time": "2021-04-29T23:06:19.999107Z",
     "start_time": "2021-04-29T23:06:19.987543Z"
    },
    "scrolled": true
   },
   "outputs": [
    {
     "data": {
      "text/plain": [
       "(21798, 30)"
      ]
     },
     "execution_count": 90,
     "metadata": {},
     "output_type": "execute_result"
    }
   ],
   "source": [
    "ngrams.shape"
   ]
  },
  {
   "cell_type": "markdown",
   "metadata": {},
   "source": [
    "Whoa! 150K features! This will take a minute!"
   ]
  },
  {
   "cell_type": "code",
   "execution_count": 91,
   "metadata": {
    "ExecuteTime": {
     "end_time": "2021-04-29T23:06:20.020444Z",
     "start_time": "2021-04-29T23:06:20.002660Z"
    }
   },
   "outputs": [],
   "source": [
    "bigrams = [col for col in ngrams.columns if len(col.split()) == 2]"
   ]
  },
  {
   "cell_type": "code",
   "execution_count": 92,
   "metadata": {
    "ExecuteTime": {
     "end_time": "2021-04-29T23:06:23.000492Z",
     "start_time": "2021-04-29T23:06:20.028712Z"
    },
    "scrolled": true
   },
   "outputs": [
    {
     "data": {
      "image/png": "[encoded data removed]",
      "text/plain": [
       "<Figure size 720x576 with 1 Axes>"
      ]
     },
     "metadata": {},
     "output_type": "display_data"
    }
   ],
   "source": [
    "plt.figure(figsize= (10,8))\n",
    "ngrams[bigrams].sum().sort_values(ascending = False).head(30).plot(kind='barh');\n",
    "plt.title('Most frequent bigrams in movie related subreddits', size = 15);\n",
    "plt.yticks(size=13)\n",
    "plt.xticks(size=13)\n",
    "plt.xlabel('Frequency of appearance in text', size=14)\n",
    "plt.ylabel('Word combinations')\n",
    "plt.savefig('../images/bigrams.png');"
   ]
  },
  {
   "cell_type": "markdown",
   "metadata": {},
   "source": [
    "These really start to tell some more interesting stories now; we can see things like 'star wars' and 'tom jerry' appearing in here, along with some 'rotten tomatoes' 🍅 and people evidently wanting to boycott Tom and Jerry. Sad cat emoji here."
   ]
  },
  {
   "cell_type": "code",
   "execution_count": 93,
   "metadata": {
    "ExecuteTime": {
     "end_time": "2021-04-29T23:06:23.012830Z",
     "start_time": "2021-04-29T23:06:23.002806Z"
    }
   },
   "outputs": [],
   "source": [
    "#stemming / lemmatizing -- if time"
   ]
  },
  {
   "cell_type": "code",
   "execution_count": 94,
   "metadata": {
    "ExecuteTime": {
     "end_time": "2021-04-29T23:06:23.026699Z",
     "start_time": "2021-04-29T23:06:23.019141Z"
    }
   },
   "outputs": [],
   "source": [
    "#parts of speech -- if time"
   ]
  },
  {
   "cell_type": "markdown",
   "metadata": {},
   "source": [
    "- - -\n",
    "## Part IV: Modeling\n",
    "\n",
    "Several classification models are availed to us. We will try the merits of different ones, potentially including:\n",
    "\n",
    "* KNN\n",
    "* Decision Trees\n",
    "* Random Forest\n",
    "* Bayes\n",
    "* Logistic regression (NOTE: this one only makes sense if we find some linearity in earlier text relationship analysis)\n",
    "* Boosting\n",
    "\n",
    "We will tune and random-search for best parameters, where appropriate.\n",
    "\n",
    "### Transform and preprocess"
   ]
  },
  {
   "cell_type": "code",
   "execution_count": 127,
   "metadata": {
    "ExecuteTime": {
     "end_time": "2021-04-29T23:37:54.438348Z",
     "start_time": "2021-04-29T23:37:54.411414Z"
    },
    "scrolled": true
   },
   "outputs": [
    {
     "data": {
      "text/html": [
       "<div>\n",
       "<style scoped>\n",
       "    .dataframe tbody tr th:only-of-type {\n",
       "        vertical-align: middle;\n",
       "    }\n",
       "\n",
       "    .dataframe tbody tr th {\n",
       "        vertical-align: top;\n",
       "    }\n",
       "\n",
       "    .dataframe thead th {\n",
       "        text-align: right;\n",
       "    }\n",
       "</style>\n",
       "<table border=\"1\" class=\"dataframe\">\n",
       "  <thead>\n",
       "    <tr style=\"text-align: right;\">\n",
       "      <th></th>\n",
       "      <th>index</th>\n",
       "      <th>neg</th>\n",
       "      <th>neu</th>\n",
       "      <th>pos</th>\n",
       "      <th>compound</th>\n",
       "      <th>all_text</th>\n",
       "      <th>target</th>\n",
       "    </tr>\n",
       "  </thead>\n",
       "  <tbody>\n",
       "    <tr>\n",
       "      <th>0</th>\n",
       "      <td>0</td>\n",
       "      <td>0.0</td>\n",
       "      <td>1.0</td>\n",
       "      <td>0.0</td>\n",
       "      <td>0.0</td>\n",
       "      <td>In the movie Bullworth  1998   a police officer is seen not shooting black people .</td>\n",
       "      <td>shittymoviedetails</td>\n",
       "    </tr>\n",
       "    <tr>\n",
       "      <th>1</th>\n",
       "      <td>1</td>\n",
       "      <td>0.0</td>\n",
       "      <td>1.0</td>\n",
       "      <td>0.0</td>\n",
       "      <td>0.0</td>\n",
       "      <td>The Nightmare Before Christmas  1993   when he arrives at Christmas Town  Jack sings  what s this  There s white things in the air   22 seconds later he sings  there are children throwing snowball...</td>\n",
       "      <td>shittymoviedetails</td>\n",
       "    </tr>\n",
       "  </tbody>\n",
       "</table>\n",
       "</div>"
      ],
      "text/plain": [
       "   index  neg  neu  pos  compound  \\\n",
       "0      0  0.0  1.0  0.0       0.0   \n",
       "1      1  0.0  1.0  0.0       0.0   \n",
       "\n",
       "                                                                                                                                                                                                  all_text  \\\n",
       "0                                                                                                                     In the movie Bullworth  1998   a police officer is seen not shooting black people .    \n",
       "1  The Nightmare Before Christmas  1993   when he arrives at Christmas Town  Jack sings  what s this  There s white things in the air   22 seconds later he sings  there are children throwing snowball...   \n",
       "\n",
       "               target  \n",
       "0  shittymoviedetails  \n",
       "1  shittymoviedetails  "
      ]
     },
     "execution_count": 127,
     "metadata": {},
     "output_type": "execute_result"
    }
   ],
   "source": [
    "sentiment_df.head(2)"
   ]
  },
  {
   "cell_type": "code",
   "execution_count": 128,
   "metadata": {
    "ExecuteTime": {
     "end_time": "2021-04-29T23:37:54.726788Z",
     "start_time": "2021-04-29T23:37:54.451558Z"
    }
   },
   "outputs": [],
   "source": [
    "#instantiate cvec\n",
    "cvec_modeling = CountVectorizer(\n",
    "    stop_words = 'english', \n",
    "    max_features = 5_000,\n",
    "    ngram_range=(1, 2), #uni + bi-grams\n",
    ") #tinker w/ max features dep. on how long runs"
   ]
  },
  {
   "cell_type": "code",
   "execution_count": 129,
   "metadata": {
    "ExecuteTime": {
     "end_time": "2021-04-29T23:38:25.583337Z",
     "start_time": "2021-04-29T23:37:54.729207Z"
    }
   },
   "outputs": [],
   "source": [
    "#new word array w/ cvec transform; set X and y\n",
    "cvec_df = cvec_modeling.fit_transform(sentiment_df['all_text'])\n",
    "cvec_df=pd.DataFrame(cvec_df.todense(), columns = cvec_modeling.get_feature_names())\n",
    "features=pd.concat([cvec_df, sentiment_df],axis=1)\n",
    "X = features.drop(\n",
    "    columns = ['target', 'all_text']) #been vectorized\n",
    "feature_names = X.columns\n",
    "X = np.array(X)\n",
    "y = np.array(sentiment_df['target'])"
   ]
  },
  {
   "cell_type": "code",
   "execution_count": 130,
   "metadata": {
    "ExecuteTime": {
     "end_time": "2021-04-29T23:38:25.661632Z",
     "start_time": "2021-04-29T23:38:25.627493Z"
    }
   },
   "outputs": [
    {
     "data": {
      "text/plain": [
       "(21798, 5004)"
      ]
     },
     "execution_count": 130,
     "metadata": {},
     "output_type": "execute_result"
    }
   ],
   "source": [
    "#expecting ~5k features\n",
    "X.shape"
   ]
  },
  {
   "cell_type": "code",
   "execution_count": 131,
   "metadata": {
    "ExecuteTime": {
     "end_time": "2021-04-29T23:38:33.619649Z",
     "start_time": "2021-04-29T23:38:25.679586Z"
    }
   },
   "outputs": [],
   "source": [
    "#train-test-split\n",
    "X_train, X_test, y_train, y_test = train_test_split(X,y, stratify = y, random_state = 42)"
   ]
  },
  {
   "cell_type": "markdown",
   "metadata": {},
   "source": [
    "### Model 1: Random forest"
   ]
  },
  {
   "cell_type": "code",
   "execution_count": 132,
   "metadata": {
    "ExecuteTime": {
     "end_time": "2021-04-29T23:41:58.221356Z",
     "start_time": "2021-04-29T23:38:33.629551Z"
    }
   },
   "outputs": [
    {
     "data": {
      "text/plain": [
       "RandomForestClassifier()"
      ]
     },
     "execution_count": 132,
     "metadata": {},
     "output_type": "execute_result"
    }
   ],
   "source": [
    "#instantiate and fit. WARNING: Be sure that scaling isn't req. for a particular model\n",
    "#also define param grid here (ideally)\n",
    "forest = RandomForestClassifier() #params?? define...\n",
    "forest.fit(X_train,y_train)"
   ]
  },
  {
   "cell_type": "code",
   "execution_count": 133,
   "metadata": {
    "ExecuteTime": {
     "end_time": "2021-04-29T23:42:04.747746Z",
     "start_time": "2021-04-29T23:41:58.227054Z"
    }
   },
   "outputs": [
    {
     "data": {
      "text/plain": [
       "(1.0, 0.9897247706422019)"
      ]
     },
     "execution_count": 133,
     "metadata": {},
     "output_type": "execute_result"
    }
   ],
   "source": [
    "#score\n",
    "forest.score(X_train, y_train), forest.score(X_test, y_test)"
   ]
  },
  {
   "cell_type": "code",
   "execution_count": 134,
   "metadata": {
    "ExecuteTime": {
     "end_time": "2021-04-29T23:42:04.964110Z",
     "start_time": "2021-04-29T23:42:04.752504Z"
    }
   },
   "outputs": [
    {
     "data": {
      "text/html": [
       "<div>\n",
       "<style scoped>\n",
       "    .dataframe tbody tr th:only-of-type {\n",
       "        vertical-align: middle;\n",
       "    }\n",
       "\n",
       "    .dataframe tbody tr th {\n",
       "        vertical-align: top;\n",
       "    }\n",
       "\n",
       "    .dataframe thead th {\n",
       "        text-align: right;\n",
       "    }\n",
       "</style>\n",
       "<table border=\"1\" class=\"dataframe\">\n",
       "  <thead>\n",
       "    <tr style=\"text-align: right;\">\n",
       "      <th></th>\n",
       "      <th>feature</th>\n",
       "      <th>importance</th>\n",
       "    </tr>\n",
       "  </thead>\n",
       "  <tbody>\n",
       "    <tr>\n",
       "      <th>4999</th>\n",
       "      <td>index</td>\n",
       "      <td>0.445397</td>\n",
       "    </tr>\n",
       "    <tr>\n",
       "      <th>5003</th>\n",
       "      <td>compound</td>\n",
       "      <td>0.016396</td>\n",
       "    </tr>\n",
       "    <tr>\n",
       "      <th>5001</th>\n",
       "      <td>neu</td>\n",
       "      <td>0.015737</td>\n",
       "    </tr>\n",
       "    <tr>\n",
       "      <th>5002</th>\n",
       "      <td>pos</td>\n",
       "      <td>0.015010</td>\n",
       "    </tr>\n",
       "    <tr>\n",
       "      <th>5000</th>\n",
       "      <td>neg</td>\n",
       "      <td>0.012361</td>\n",
       "    </tr>\n",
       "    <tr>\n",
       "      <th>1604</th>\n",
       "      <td>fact</td>\n",
       "      <td>0.008877</td>\n",
       "    </tr>\n",
       "    <tr>\n",
       "      <th>3009</th>\n",
       "      <td>movies</td>\n",
       "      <td>0.006716</td>\n",
       "    </tr>\n",
       "    <tr>\n",
       "      <th>3660</th>\n",
       "      <td>reference</td>\n",
       "      <td>0.006490</td>\n",
       "    </tr>\n",
       "    <tr>\n",
       "      <th>2966</th>\n",
       "      <td>movie</td>\n",
       "      <td>0.006027</td>\n",
       "    </tr>\n",
       "    <tr>\n",
       "      <th>4470</th>\n",
       "      <td>think</td>\n",
       "      <td>0.004957</td>\n",
       "    </tr>\n",
       "    <tr>\n",
       "      <th>3901</th>\n",
       "      <td>scene</td>\n",
       "      <td>0.003731</td>\n",
       "    </tr>\n",
       "    <tr>\n",
       "      <th>268</th>\n",
       "      <td>actually</td>\n",
       "      <td>0.003539</td>\n",
       "    </tr>\n",
       "    <tr>\n",
       "      <th>4576</th>\n",
       "      <td>trailer</td>\n",
       "      <td>0.003163</td>\n",
       "    </tr>\n",
       "    <tr>\n",
       "      <th>4316</th>\n",
       "      <td>subtle</td>\n",
       "      <td>0.003044</td>\n",
       "    </tr>\n",
       "    <tr>\n",
       "      <th>2409</th>\n",
       "      <td>just</td>\n",
       "      <td>0.002844</td>\n",
       "    </tr>\n",
       "    <tr>\n",
       "      <th>4828</th>\n",
       "      <td>watch</td>\n",
       "      <td>0.002527</td>\n",
       "    </tr>\n",
       "    <tr>\n",
       "      <th>2606</th>\n",
       "      <td>like</td>\n",
       "      <td>0.002508</td>\n",
       "    </tr>\n",
       "    <tr>\n",
       "      <th>4708</th>\n",
       "      <td>ve</td>\n",
       "      <td>0.002458</td>\n",
       "    </tr>\n",
       "    <tr>\n",
       "      <th>122</th>\n",
       "      <td>2019</td>\n",
       "      <td>0.002103</td>\n",
       "    </tr>\n",
       "    <tr>\n",
       "      <th>3661</th>\n",
       "      <td>reference fact</td>\n",
       "      <td>0.002060</td>\n",
       "    </tr>\n",
       "    <tr>\n",
       "      <th>1702</th>\n",
       "      <td>film</td>\n",
       "      <td>0.002058</td>\n",
       "    </tr>\n",
       "    <tr>\n",
       "      <th>1923</th>\n",
       "      <td>good</td>\n",
       "      <td>0.002057</td>\n",
       "    </tr>\n",
       "    <tr>\n",
       "      <th>1719</th>\n",
       "      <td>films</td>\n",
       "      <td>0.002045</td>\n",
       "    </tr>\n",
       "    <tr>\n",
       "      <th>3751</th>\n",
       "      <td>review</td>\n",
       "      <td>0.001962</td>\n",
       "    </tr>\n",
       "    <tr>\n",
       "      <th>3185</th>\n",
       "      <td>online</td>\n",
       "      <td>0.001884</td>\n",
       "    </tr>\n",
       "    <tr>\n",
       "      <th>865</th>\n",
       "      <td>character</td>\n",
       "      <td>0.001861</td>\n",
       "    </tr>\n",
       "    <tr>\n",
       "      <th>3629</th>\n",
       "      <td>really</td>\n",
       "      <td>0.001857</td>\n",
       "    </tr>\n",
       "    <tr>\n",
       "      <th>3119</th>\n",
       "      <td>nod</td>\n",
       "      <td>0.001809</td>\n",
       "    </tr>\n",
       "    <tr>\n",
       "      <th>3378</th>\n",
       "      <td>played</td>\n",
       "      <td>0.001723</td>\n",
       "    </tr>\n",
       "    <tr>\n",
       "      <th>3090</th>\n",
       "      <td>new</td>\n",
       "      <td>0.001600</td>\n",
       "    </tr>\n",
       "  </tbody>\n",
       "</table>\n",
       "</div>"
      ],
      "text/plain": [
       "             feature  importance\n",
       "4999           index    0.445397\n",
       "5003        compound    0.016396\n",
       "5001             neu    0.015737\n",
       "5002             pos    0.015010\n",
       "5000             neg    0.012361\n",
       "1604            fact    0.008877\n",
       "3009          movies    0.006716\n",
       "3660       reference    0.006490\n",
       "2966           movie    0.006027\n",
       "4470           think    0.004957\n",
       "3901           scene    0.003731\n",
       "268         actually    0.003539\n",
       "4576         trailer    0.003163\n",
       "4316          subtle    0.003044\n",
       "2409            just    0.002844\n",
       "4828           watch    0.002527\n",
       "2606            like    0.002508\n",
       "4708              ve    0.002458\n",
       "122             2019    0.002103\n",
       "3661  reference fact    0.002060\n",
       "1702            film    0.002058\n",
       "1923            good    0.002057\n",
       "1719           films    0.002045\n",
       "3751          review    0.001962\n",
       "3185          online    0.001884\n",
       "865        character    0.001861\n",
       "3629          really    0.001857\n",
       "3119             nod    0.001809\n",
       "3378          played    0.001723\n",
       "3090             new    0.001600"
      ]
     },
     "execution_count": 134,
     "metadata": {},
     "output_type": "execute_result"
    }
   ],
   "source": [
    "feature_importances = pd.DataFrame(zip(\n",
    "    feature_names, forest.feature_importances_), columns = ['feature','importance'])\n",
    "feature_importances.sort_values(by = 'importance', ascending = False).head(30)"
   ]
  },
  {
   "cell_type": "code",
   "execution_count": null,
   "metadata": {},
   "outputs": [],
   "source": []
  }
 ],
 "metadata": {
  "kernelspec": {
   "display_name": "Python 3",
   "language": "python",
   "name": "python3"
  },
  "language_info": {
   "codemirror_mode": {
    "name": "ipython",
    "version": 3
   },
   "file_extension": ".py",
   "mimetype": "text/x-python",
   "name": "python",
   "nbconvert_exporter": "python",
   "pygments_lexer": "ipython3",
   "version": "3.8.3"
  },
  "latex_envs": {
   "LaTeX_envs_menu_present": true,
   "autoclose": false,
   "autocomplete": true,
   "bibliofile": "biblio.bib",
   "cite_by": "apalike",
   "current_citInitial": 1,
   "eqLabelWithNumbers": true,
   "eqNumInitial": 1,
   "hotkeys": {
    "equation": "Ctrl-E",
    "itemize": "Ctrl-I"
   },
   "labels_anchors": false,
   "latex_user_defs": false,
   "report_style_numbering": false,
   "user_envs_cfg": false
  },
  "toc": {
   "base_numbering": 1,
   "nav_menu": {},
   "number_sections": true,
   "sideBar": true,
   "skip_h1_title": false,
   "title_cell": "Table of Contents",
   "title_sidebar": "Contents",
   "toc_cell": false,
   "toc_position": {},
   "toc_section_display": true,
   "toc_window_display": true
  },
  "varInspector": {
   "cols": {
    "lenName": 16,
    "lenType": 16,
    "lenVar": 40
   },
   "kernels_config": {
    "python": {
     "delete_cmd_postfix": "",
     "delete_cmd_prefix": "del ",
     "library": "var_list.py",
     "varRefreshCmd": "print(var_dic_list())"
    },
    "r": {
     "delete_cmd_postfix": ") ",
     "delete_cmd_prefix": "rm(",
     "library": "var_list.r",
     "varRefreshCmd": "cat(var_dic_list()) "
    }
   },
   "types_to_exclude": [
    "module",
    "function",
    "builtin_function_or_method",
    "instance",
    "_Feature"
   ],
   "window_display": false
  }
 },
 "nbformat": 4,
 "nbformat_minor": 4
}

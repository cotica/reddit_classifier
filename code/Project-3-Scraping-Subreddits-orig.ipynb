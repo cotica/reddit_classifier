{
 "cells": [
  {
   "cell_type": "markdown",
   "metadata": {},
   "source": [
    "# Scraping subreddits\n",
    "\n",
    "\n",
    "## Problem statement\n",
    "---\n",
    "We are producing a trivia focused, _Jeopardy_ or _Who Wants to Be a Millionaire_* style game show, where we want the audience to guess the source of the movie details. Everything is scrambled together! The task: figure out if the details came from good movie details, or whether the movie production team took a shorcut and landed in Sh**ty Movie Details!\n",
    "\n",
    "*Trademarks of their appropiate productions\n",
    "\n",
    "To do this, we are going to solve the problem using a classifer trained on some subreddit data.\n",
    "\n",
    "_Thanks to Gwen Rathgeber for some inspiration during the quest for a compelling problem statement!_\n",
    "\n",
    "![](https://www.bigraildiversity.co.uk/wp-content/uploads/2018/10/Night-at-the-Movies-Converted-900x600.png)\n",
    "\n",
    "\n",
    "## Data sources and references\n",
    "\n",
    "---\n",
    "\n",
    "1. GENERAL NOTE ON ATTRIBUTION: The work throughout this Report, including many if not most coding techniques, rely and borrow heavily from code discussed in Riley Dallas, Sophie \"Sonya\" Tabac, Charlie Rice, Heather Robbins, and Gwen Rathgeber's class lectures, Notebooks, GitHub repositories, tips on techniques and troubleshooting help. The code is adapted to solve our specific problem.\n",
    "\n",
    "\n",
    "2. The following subReddits were scraped:\n",
    "\n",
    "    * [Movie Details](https://www.reddit.com/r/MovieDetails/)\n",
    "    * [Sh**ty Movie Details](https://www.reddit.com/r/shittymoviedetails/)\n",
    "\n",
    "---\n",
    "\n",
    "### Note on the data and style\n",
    "\n",
    "Strong language may appear in various Reddit posts in raw form. To the extent possible, it shall be cleaned in the course of the project. There also may be some humor used throughout the presentation of the analysis.\n",
    "\n",
    "---\n",
    "\n",
    "## Webscrape - let's fetch some data!"
   ]
  },
  {
   "cell_type": "markdown",
   "metadata": {},
   "source": [
    "We'll import all our required libraries up here."
   ]
  },
  {
   "cell_type": "code",
   "execution_count": 1,
   "metadata": {
    "ExecuteTime": {
     "end_time": "2021-04-25T07:58:26.004089Z",
     "start_time": "2021-04-25T07:58:11.953182Z"
    }
   },
   "outputs": [],
   "source": [
    "#import libraries\n",
    "import pandas as pd, numpy as np, requests, time, nltk, datetime as dt\n",
    "\n",
    "#NLP\n",
    "from nltk.stem import WordNetLemmatizer\n",
    "from nltk.sentiment.vader import SentimentIntensityAnalyzer\n",
    "\n",
    "import gensim.downloader as api #allows us to get word2vec anf glove embeddins that we need\n",
    "from gensim.models.word2vec import Word2Vec\n",
    "from transformers import pipeline\n",
    "from sklearn.feature_extraction.text import CountVectorizer, TfidfVectorizer\n",
    "\n",
    "\n",
    "#classifiers\n",
    "from sklearn.neighbors import KNeighborsClassifier\n",
    "from sklearn.preprocessing import StandardScaler\n",
    "from sklearn.linear_model import LogisticRegression\n",
    "from sklearn.metrics import (accuracy_score, confusion_matrix, plot_confusion_matrix, \\\n",
    "                             recall_score, precision_score)\n",
    "from sklearn.pipeline import Pipeline\n",
    "from sklearn.model_selection import train_test_split, GridSearchCV, cross_val_score\n",
    "from sklearn.dummy import DummyClassifier\n",
    "\n",
    "\n",
    "# easier to see full text with a bigger maxwidth:\n",
    "pd.options.display.max_colwidth = 200"
   ]
  },
  {
   "cell_type": "code",
   "execution_count": 2,
   "metadata": {
    "ExecuteTime": {
     "end_time": "2021-04-25T07:58:26.010144Z",
     "start_time": "2021-04-25T07:58:26.005832Z"
    }
   },
   "outputs": [],
   "source": [
    "#pip install python-Levenshtein\n",
    "#this is for the gensim.similarities.levenshtein submodule"
   ]
  },
  {
   "cell_type": "markdown",
   "metadata": {},
   "source": [
    "Next, we will use the PushShift API to collect the subReddit data we need.\n",
    "\n",
    "More information about the API can be found on the [Pushshift repo](https://github.com/pushshift/api)."
   ]
  },
  {
   "cell_type": "markdown",
   "metadata": {},
   "source": [
    "### Set up single post scrape"
   ]
  },
  {
   "cell_type": "code",
   "execution_count": 3,
   "metadata": {
    "ExecuteTime": {
     "end_time": "2021-04-25T07:58:26.017908Z",
     "start_time": "2021-04-25T07:58:26.014869Z"
    }
   },
   "outputs": [],
   "source": [
    "#Query the PushShift API for the subReddit data we need\n",
    "url = 'https://api.pushshift.io/reddit/search/submission?subreddit=MovieDetails'\n",
    "url2 = 'https://api.pushshift.io/reddit/search/submission?subreddit=shittymoviedetails'"
   ]
  },
  {
   "cell_type": "markdown",
   "metadata": {},
   "source": [
    "_PRO-TIP: We can paste the URL in browser to preview the JSON format._\n",
    "\n",
    "Next, we need to define some parameters and then confirm that we get a response from the API, from both the subReddits. (NOTE: There is no key needed to access the Reddit API.)"
   ]
  },
  {
   "cell_type": "code",
   "execution_count": 4,
   "metadata": {
    "ExecuteTime": {
     "end_time": "2021-04-25T07:58:26.025681Z",
     "start_time": "2021-04-25T07:58:26.020663Z"
    }
   },
   "outputs": [],
   "source": [
    "#define what we need to get from the subreddit\n",
    "params = {\n",
    "    'subreddit': 'MovieDetails',\n",
    "    'size' : 100 #100 seems to be the max, even if change this to a greater size\n",
    "#    'before': ''\n",
    "}"
   ]
  },
  {
   "cell_type": "code",
   "execution_count": 5,
   "metadata": {
    "ExecuteTime": {
     "end_time": "2021-04-25T07:58:26.034222Z",
     "start_time": "2021-04-25T07:58:26.029309Z"
    }
   },
   "outputs": [],
   "source": [
    "#define what we need to get from the subreddit\n",
    "params2 = {\n",
    "    'subreddit': 'shittymoviedetails',\n",
    "    'size' : 100 #100 seems to be the max, even if change this to a greater size\n",
    "#    'before': ''\n",
    "}"
   ]
  },
  {
   "cell_type": "markdown",
   "metadata": {},
   "source": [
    "Let's check that our response is valid -- we are looking for a 200 response code."
   ]
  },
  {
   "cell_type": "code",
   "execution_count": 6,
   "metadata": {
    "ExecuteTime": {
     "end_time": "2021-04-25T07:58:35.456401Z",
     "start_time": "2021-04-25T07:58:26.037135Z"
    }
   },
   "outputs": [
    {
     "data": {
      "text/plain": [
       "200"
      ]
     },
     "execution_count": 6,
     "metadata": {},
     "output_type": "execute_result"
    }
   ],
   "source": [
    "res = requests.get(url, params) \n",
    "res.status_code"
   ]
  },
  {
   "cell_type": "code",
   "execution_count": 7,
   "metadata": {
    "ExecuteTime": {
     "end_time": "2021-04-25T07:58:37.463684Z",
     "start_time": "2021-04-25T07:58:35.459870Z"
    }
   },
   "outputs": [
    {
     "data": {
      "text/plain": [
       "200"
      ]
     },
     "execution_count": 7,
     "metadata": {},
     "output_type": "execute_result"
    }
   ],
   "source": [
    "res2 = requests.get(url2, params2)\n",
    "res2.status_code"
   ]
  },
  {
   "cell_type": "markdown",
   "metadata": {},
   "source": [
    "Let's look at the content we fetched, for a single post:"
   ]
  },
  {
   "cell_type": "code",
   "execution_count": 8,
   "metadata": {
    "ExecuteTime": {
     "end_time": "2021-04-25T07:58:37.476948Z",
     "start_time": "2021-04-25T07:58:37.466125Z"
    },
    "scrolled": true
   },
   "outputs": [
    {
     "name": "stdout",
     "output_type": "stream",
     "text": [
      "<class 'requests.models.Response'>\n",
      "{'all_awardings': [], 'allow_live_comments': False, 'author': 'ambisinister_gecko', 'author_flair_css_class': None, 'author_flair_richtext': [], 'author_flair_text': None, 'author_flair_type': 'text', 'author_fullname': 't2_640pfb72', 'author_patreon_flair': False, 'author_premium': False, 'awarders': [], 'can_mod_post': False, 'contest_mode': False, 'created_utc': 1619336854, 'domain': 'self.MovieDetails', 'full_link': 'https://www.reddit.com/r/MovieDetails/comments/my3gul/mortal_kombat_2021_has_a_fight_scene_in_a_trailer/', 'gildings': {}, 'id': 'my3gul', 'is_crosspostable': True, 'is_meta': False, 'is_original_content': False, 'is_reddit_media_domain': False, 'is_robot_indexable': True, 'is_self': True, 'is_video': False, 'link_flair_background_color': '#0079d3', 'link_flair_css_class': 'Image', 'link_flair_richtext': [{'e': 'text', 't': '🥚 Easter Egg'}], 'link_flair_template_id': 'b968d6fa-5f2d-11e7-8e64-0e8c19beb1c6', 'link_flair_text': '🥚 Easter Egg', 'link_flair_text_color': 'light', 'link_flair_type': 'richtext', 'locked': False, 'media_only': False, 'no_follow': True, 'num_comments': 1, 'num_crossposts': 0, 'over_18': False, 'parent_whitelist_status': 'all_ads', 'permalink': '/r/MovieDetails/comments/my3gul/mortal_kombat_2021_has_a_fight_scene_in_a_trailer/', 'pinned': False, 'pwls': 6, 'retrieved_on': 1619336865, 'score': 1, 'selftext': \"The mortal kombat fight is between Sonya and Kano, didn't want to leave spoilers in the title.\\n\\nBoth scenes take place in a trailer home. Both scenes involve fighting a one-eyed (arguably, in the case of kano)  sociopathic bad guy. Both scenes have a similar bathroom fight sequence. Both scenes involve the bad guy getting stabbed in the eye at the end.\\n\\nI'm pretty sure I haven't really listed half the similarities, because I haven't compared them side by side. Pretty sure if you did, there would be a lot more.\\n\\nI was going to call the Mortal Kombat fight sequence an 'homage' to the kill bill one, but when I googled it I found that the two movies share a producer in Bennet Walsh, so I'm not sure 'homage' is the right word -- he couldn't be paying homage to himself, right?\", 'send_replies': True, 'spoiler': True, 'stickied': False, 'subreddit': 'MovieDetails', 'subreddit_id': 't5_3md1s', 'subreddit_subscribers': 2289149, 'subreddit_type': 'public', 'suggested_sort': 'confidence', 'thumbnail': 'spoiler', 'title': 'Mortal Kombat (2021) has a fight scene in a trailer home between &lt;spoiler&gt; and &lt;spoiler&gt;. The scene is meant to mirror the trailer fight scene in Kill Bill Vol 2.', 'total_awards_received': 0, 'treatment_tags': [], 'upvote_ratio': 1.0, 'url': 'https://www.reddit.com/r/MovieDetails/comments/my3gul/mortal_kombat_2021_has_a_fight_scene_in_a_trailer/', 'whitelist_status': 'all_ads', 'wls': 6}\n",
      "<class 'dict'>\n",
      "dict_keys(['data'])\n"
     ]
    }
   ],
   "source": [
    "print(type(res)) #check attrs\n",
    "\n",
    "data = res.json() #get the content in JSON format\n",
    "\n",
    "orig_posts = data['data'][0] #Fetch the list of first posts\n",
    "\n",
    "#verify what we got\n",
    "print(orig_posts)\n",
    "\n",
    "print(type(orig_posts))\n",
    "\n",
    "print(data.keys())"
   ]
  },
  {
   "cell_type": "markdown",
   "metadata": {},
   "source": [
    "Everything we do, we have to repeat for our second subReddit."
   ]
  },
  {
   "cell_type": "code",
   "execution_count": 9,
   "metadata": {
    "ExecuteTime": {
     "end_time": "2021-04-25T07:58:37.496069Z",
     "start_time": "2021-04-25T07:58:37.481682Z"
    }
   },
   "outputs": [
    {
     "data": {
      "text/plain": [
       "{'all_awardings': [],\n",
       " 'allow_live_comments': False,\n",
       " 'author': 'Sarke1',\n",
       " 'author_flair_css_class': None,\n",
       " 'author_flair_richtext': [],\n",
       " 'author_flair_text': None,\n",
       " 'author_flair_type': 'text',\n",
       " 'author_fullname': 't2_4ta1n',\n",
       " 'author_patreon_flair': False,\n",
       " 'author_premium': False,\n",
       " 'awarders': [],\n",
       " 'can_mod_post': False,\n",
       " 'contest_mode': False,\n",
       " 'created_utc': 1619335786,\n",
       " 'domain': 'i.imgur.com',\n",
       " 'full_link': 'https://www.reddit.com/r/shittymoviedetails/comments/my392g/the_i_am_legend_script_originally_featured_aliens/',\n",
       " 'gildings': {},\n",
       " 'id': 'my392g',\n",
       " 'is_crosspostable': True,\n",
       " 'is_meta': False,\n",
       " 'is_original_content': False,\n",
       " 'is_reddit_media_domain': False,\n",
       " 'is_robot_indexable': True,\n",
       " 'is_self': False,\n",
       " 'is_video': False,\n",
       " 'link_flair_background_color': '',\n",
       " 'link_flair_richtext': [],\n",
       " 'link_flair_text_color': 'dark',\n",
       " 'link_flair_type': 'text',\n",
       " 'locked': False,\n",
       " 'media_only': False,\n",
       " 'no_follow': True,\n",
       " 'num_comments': 0,\n",
       " 'num_crossposts': 0,\n",
       " 'over_18': False,\n",
       " 'parent_whitelist_status': 'some_ads',\n",
       " 'permalink': '/r/shittymoviedetails/comments/my392g/the_i_am_legend_script_originally_featured_aliens/',\n",
       " 'pinned': False,\n",
       " 'post_hint': 'image',\n",
       " 'preview': {'enabled': True,\n",
       "  'images': [{'id': 'qyoyr5Q39R439rJx6dIIgV9KqIlwLvMs_8zOMkU5es0',\n",
       "    'resolutions': [{'height': 105,\n",
       "      'url': 'https://external-preview.redd.it/jHnI-CYnITaXKzayp5eOXJTWMbj754wntWRMZZOTPHw.jpg?width=108&amp;crop=smart&amp;auto=webp&amp;s=a21009e919acfb1ceb6fee81dd24b8c77287d1e7',\n",
       "      'width': 108},\n",
       "     {'height': 211,\n",
       "      'url': 'https://external-preview.redd.it/jHnI-CYnITaXKzayp5eOXJTWMbj754wntWRMZZOTPHw.jpg?width=216&amp;crop=smart&amp;auto=webp&amp;s=f5dd42c964d00b9d57feb6a2bd75b46b3c8421ab',\n",
       "      'width': 216},\n",
       "     {'height': 313,\n",
       "      'url': 'https://external-preview.redd.it/jHnI-CYnITaXKzayp5eOXJTWMbj754wntWRMZZOTPHw.jpg?width=320&amp;crop=smart&amp;auto=webp&amp;s=2be2d156ac1a504699807551cb9ba30497c9175b',\n",
       "      'width': 320},\n",
       "     {'height': 626,\n",
       "      'url': 'https://external-preview.redd.it/jHnI-CYnITaXKzayp5eOXJTWMbj754wntWRMZZOTPHw.jpg?width=640&amp;crop=smart&amp;auto=webp&amp;s=8ea61548786711d4a6435e9e1617dbfe62c2b351',\n",
       "      'width': 640}],\n",
       "    'source': {'height': 768,\n",
       "     'url': 'https://external-preview.redd.it/jHnI-CYnITaXKzayp5eOXJTWMbj754wntWRMZZOTPHw.jpg?auto=webp&amp;s=66a596a910a27852ccfdd12345ae6462b70fe88d',\n",
       "     'width': 784},\n",
       "    'variants': {}}]},\n",
       " 'pwls': 7,\n",
       " 'retrieved_on': 1619335797,\n",
       " 'score': 1,\n",
       " 'selftext': '',\n",
       " 'send_replies': True,\n",
       " 'spoiler': False,\n",
       " 'stickied': False,\n",
       " 'subreddit': 'shittymoviedetails',\n",
       " 'subreddit_id': 't5_3mj3w',\n",
       " 'subreddit_subscribers': 600042,\n",
       " 'subreddit_type': 'public',\n",
       " 'suggested_sort': 'confidence',\n",
       " 'thumbnail': 'https://b.thumbs.redditmedia.com/7atLwqL_OUGNkiO7BKkKB998oxdatB-nNDAxt8tdU2M.jpg',\n",
       " 'thumbnail_height': 137,\n",
       " 'thumbnail_width': 140,\n",
       " 'title': 'The \"I Am Legend\" script originally featured aliens, but after a few days of shooting they were cut because of the lack of budget for alien costumes and make-up',\n",
       " 'total_awards_received': 0,\n",
       " 'treatment_tags': [],\n",
       " 'upvote_ratio': 1.0,\n",
       " 'url': 'https://i.imgur.com/gQj6pQw.jpg',\n",
       " 'url_overridden_by_dest': 'https://i.imgur.com/gQj6pQw.jpg',\n",
       " 'whitelist_status': 'some_ads',\n",
       " 'wls': 7}"
      ]
     },
     "execution_count": 9,
     "metadata": {},
     "output_type": "execute_result"
    }
   ],
   "source": [
    "#repeat for the 2nd subreddit\n",
    "data2 = res2.json() #get the content in JSON format\n",
    "posts2 = data2['data'][0] #Fetch the list of first post\n",
    "posts2"
   ]
  },
  {
   "cell_type": "code",
   "execution_count": 10,
   "metadata": {
    "ExecuteTime": {
     "end_time": "2021-04-25T07:58:37.504728Z",
     "start_time": "2021-04-25T07:58:37.498175Z"
    }
   },
   "outputs": [
    {
     "data": {
      "text/plain": [
       "61"
      ]
     },
     "execution_count": 10,
     "metadata": {},
     "output_type": "execute_result"
    }
   ],
   "source": [
    "len(orig_posts)"
   ]
  },
  {
   "cell_type": "markdown",
   "metadata": {},
   "source": [
    "Let's take a look at what we pulled in a more visually accessible format."
   ]
  },
  {
   "cell_type": "code",
   "execution_count": 11,
   "metadata": {
    "ExecuteTime": {
     "end_time": "2021-04-25T07:58:37.575169Z",
     "start_time": "2021-04-25T07:58:37.507274Z"
    }
   },
   "outputs": [
    {
     "data": {
      "text/html": [
       "<div>\n",
       "<style scoped>\n",
       "    .dataframe tbody tr th:only-of-type {\n",
       "        vertical-align: middle;\n",
       "    }\n",
       "\n",
       "    .dataframe tbody tr th {\n",
       "        vertical-align: top;\n",
       "    }\n",
       "\n",
       "    .dataframe thead th {\n",
       "        text-align: right;\n",
       "    }\n",
       "</style>\n",
       "<table border=\"1\" class=\"dataframe\">\n",
       "  <thead>\n",
       "    <tr style=\"text-align: right;\">\n",
       "      <th></th>\n",
       "      <th>all_awardings</th>\n",
       "      <th>allow_live_comments</th>\n",
       "      <th>author</th>\n",
       "      <th>author_flair_css_class</th>\n",
       "      <th>author_flair_richtext</th>\n",
       "      <th>author_flair_text</th>\n",
       "      <th>author_flair_type</th>\n",
       "      <th>author_fullname</th>\n",
       "      <th>author_patreon_flair</th>\n",
       "      <th>author_premium</th>\n",
       "      <th>...</th>\n",
       "      <th>removed_by_category</th>\n",
       "      <th>media</th>\n",
       "      <th>media_embed</th>\n",
       "      <th>secure_media</th>\n",
       "      <th>secure_media_embed</th>\n",
       "      <th>gallery_data</th>\n",
       "      <th>is_gallery</th>\n",
       "      <th>media_metadata</th>\n",
       "      <th>author_flair_template_id</th>\n",
       "      <th>author_flair_text_color</th>\n",
       "    </tr>\n",
       "  </thead>\n",
       "  <tbody>\n",
       "    <tr>\n",
       "      <th>0</th>\n",
       "      <td>[]</td>\n",
       "      <td>False</td>\n",
       "      <td>ambisinister_gecko</td>\n",
       "      <td>None</td>\n",
       "      <td>[]</td>\n",
       "      <td>None</td>\n",
       "      <td>text</td>\n",
       "      <td>t2_640pfb72</td>\n",
       "      <td>False</td>\n",
       "      <td>False</td>\n",
       "      <td>...</td>\n",
       "      <td>NaN</td>\n",
       "      <td>NaN</td>\n",
       "      <td>NaN</td>\n",
       "      <td>NaN</td>\n",
       "      <td>NaN</td>\n",
       "      <td>NaN</td>\n",
       "      <td>NaN</td>\n",
       "      <td>NaN</td>\n",
       "      <td>NaN</td>\n",
       "      <td>NaN</td>\n",
       "    </tr>\n",
       "    <tr>\n",
       "      <th>1</th>\n",
       "      <td>[]</td>\n",
       "      <td>False</td>\n",
       "      <td>PrivateEducation</td>\n",
       "      <td>None</td>\n",
       "      <td>[]</td>\n",
       "      <td>None</td>\n",
       "      <td>text</td>\n",
       "      <td>t2_b0a3h</td>\n",
       "      <td>False</td>\n",
       "      <td>False</td>\n",
       "      <td>...</td>\n",
       "      <td>NaN</td>\n",
       "      <td>NaN</td>\n",
       "      <td>NaN</td>\n",
       "      <td>NaN</td>\n",
       "      <td>NaN</td>\n",
       "      <td>NaN</td>\n",
       "      <td>NaN</td>\n",
       "      <td>NaN</td>\n",
       "      <td>NaN</td>\n",
       "      <td>NaN</td>\n",
       "    </tr>\n",
       "    <tr>\n",
       "      <th>2</th>\n",
       "      <td>[]</td>\n",
       "      <td>False</td>\n",
       "      <td>PrivateEducation</td>\n",
       "      <td>None</td>\n",
       "      <td>[]</td>\n",
       "      <td>None</td>\n",
       "      <td>text</td>\n",
       "      <td>t2_b0a3h</td>\n",
       "      <td>False</td>\n",
       "      <td>False</td>\n",
       "      <td>...</td>\n",
       "      <td>moderator</td>\n",
       "      <td>NaN</td>\n",
       "      <td>NaN</td>\n",
       "      <td>NaN</td>\n",
       "      <td>NaN</td>\n",
       "      <td>NaN</td>\n",
       "      <td>NaN</td>\n",
       "      <td>NaN</td>\n",
       "      <td>NaN</td>\n",
       "      <td>NaN</td>\n",
       "    </tr>\n",
       "    <tr>\n",
       "      <th>3</th>\n",
       "      <td>[]</td>\n",
       "      <td>False</td>\n",
       "      <td>advent_precursor</td>\n",
       "      <td>None</td>\n",
       "      <td>[]</td>\n",
       "      <td>None</td>\n",
       "      <td>text</td>\n",
       "      <td>t2_2ghlqap4</td>\n",
       "      <td>False</td>\n",
       "      <td>False</td>\n",
       "      <td>...</td>\n",
       "      <td>NaN</td>\n",
       "      <td>NaN</td>\n",
       "      <td>NaN</td>\n",
       "      <td>NaN</td>\n",
       "      <td>NaN</td>\n",
       "      <td>NaN</td>\n",
       "      <td>NaN</td>\n",
       "      <td>NaN</td>\n",
       "      <td>NaN</td>\n",
       "      <td>NaN</td>\n",
       "    </tr>\n",
       "    <tr>\n",
       "      <th>4</th>\n",
       "      <td>[]</td>\n",
       "      <td>False</td>\n",
       "      <td>stalwartGRUNT</td>\n",
       "      <td>None</td>\n",
       "      <td>[]</td>\n",
       "      <td>None</td>\n",
       "      <td>text</td>\n",
       "      <td>t2_1k03g353</td>\n",
       "      <td>False</td>\n",
       "      <td>False</td>\n",
       "      <td>...</td>\n",
       "      <td>NaN</td>\n",
       "      <td>NaN</td>\n",
       "      <td>NaN</td>\n",
       "      <td>NaN</td>\n",
       "      <td>NaN</td>\n",
       "      <td>NaN</td>\n",
       "      <td>NaN</td>\n",
       "      <td>NaN</td>\n",
       "      <td>NaN</td>\n",
       "      <td>NaN</td>\n",
       "    </tr>\n",
       "  </tbody>\n",
       "</table>\n",
       "<p>5 rows × 76 columns</p>\n",
       "</div>"
      ],
      "text/plain": [
       "  all_awardings  allow_live_comments              author  \\\n",
       "0            []                False  ambisinister_gecko   \n",
       "1            []                False    PrivateEducation   \n",
       "2            []                False    PrivateEducation   \n",
       "3            []                False    advent_precursor   \n",
       "4            []                False       stalwartGRUNT   \n",
       "\n",
       "  author_flair_css_class author_flair_richtext author_flair_text  \\\n",
       "0                   None                    []              None   \n",
       "1                   None                    []              None   \n",
       "2                   None                    []              None   \n",
       "3                   None                    []              None   \n",
       "4                   None                    []              None   \n",
       "\n",
       "  author_flair_type author_fullname  author_patreon_flair  author_premium  \\\n",
       "0              text     t2_640pfb72                 False           False   \n",
       "1              text        t2_b0a3h                 False           False   \n",
       "2              text        t2_b0a3h                 False           False   \n",
       "3              text     t2_2ghlqap4                 False           False   \n",
       "4              text     t2_1k03g353                 False           False   \n",
       "\n",
       "   ... removed_by_category  media  media_embed  secure_media  \\\n",
       "0  ...                 NaN    NaN          NaN           NaN   \n",
       "1  ...                 NaN    NaN          NaN           NaN   \n",
       "2  ...           moderator    NaN          NaN           NaN   \n",
       "3  ...                 NaN    NaN          NaN           NaN   \n",
       "4  ...                 NaN    NaN          NaN           NaN   \n",
       "\n",
       "  secure_media_embed gallery_data is_gallery media_metadata  \\\n",
       "0                NaN          NaN        NaN            NaN   \n",
       "1                NaN          NaN        NaN            NaN   \n",
       "2                NaN          NaN        NaN            NaN   \n",
       "3                NaN          NaN        NaN            NaN   \n",
       "4                NaN          NaN        NaN            NaN   \n",
       "\n",
       "   author_flair_template_id  author_flair_text_color  \n",
       "0                       NaN                      NaN  \n",
       "1                       NaN                      NaN  \n",
       "2                       NaN                      NaN  \n",
       "3                       NaN                      NaN  \n",
       "4                       NaN                      NaN  \n",
       "\n",
       "[5 rows x 76 columns]"
      ]
     },
     "execution_count": 11,
     "metadata": {},
     "output_type": "execute_result"
    }
   ],
   "source": [
    "#create df\n",
    "results_df = pd.DataFrame(data['data'])\n",
    "results_df2 = pd.DataFrame(data2['data'])\n",
    "results_df.head()"
   ]
  },
  {
   "cell_type": "code",
   "execution_count": 12,
   "metadata": {
    "ExecuteTime": {
     "end_time": "2021-04-25T07:58:37.592883Z",
     "start_time": "2021-04-25T07:58:37.576954Z"
    }
   },
   "outputs": [
    {
     "data": {
      "text/plain": [
       "Index(['all_awardings', 'allow_live_comments', 'author',\n",
       "       'author_flair_css_class', 'author_flair_richtext', 'author_flair_text',\n",
       "       'author_flair_type', 'author_fullname', 'author_patreon_flair',\n",
       "       'author_premium', 'awarders', 'can_mod_post', 'contest_mode',\n",
       "       'created_utc', 'domain', 'full_link', 'gildings', 'id',\n",
       "       'is_crosspostable', 'is_meta', 'is_original_content',\n",
       "       'is_reddit_media_domain', 'is_robot_indexable', 'is_self', 'is_video',\n",
       "       'link_flair_background_color', 'link_flair_css_class',\n",
       "       'link_flair_richtext', 'link_flair_template_id', 'link_flair_text',\n",
       "       'link_flair_text_color', 'link_flair_type', 'locked', 'media_only',\n",
       "       'no_follow', 'num_comments', 'num_crossposts', 'over_18',\n",
       "       'parent_whitelist_status', 'permalink', 'pinned', 'pwls',\n",
       "       'retrieved_on', 'score', 'selftext', 'send_replies', 'spoiler',\n",
       "       'stickied', 'subreddit', 'subreddit_id', 'subreddit_subscribers',\n",
       "       'subreddit_type', 'suggested_sort', 'thumbnail', 'title',\n",
       "       'total_awards_received', 'treatment_tags', 'upvote_ratio', 'url',\n",
       "       'whitelist_status', 'wls', 'post_hint', 'preview', 'thumbnail_height',\n",
       "       'thumbnail_width', 'url_overridden_by_dest', 'removed_by_category',\n",
       "       'media', 'media_embed', 'secure_media', 'secure_media_embed',\n",
       "       'gallery_data', 'is_gallery', 'media_metadata',\n",
       "       'author_flair_template_id', 'author_flair_text_color'],\n",
       "      dtype='object')"
      ]
     },
     "execution_count": 12,
     "metadata": {},
     "output_type": "execute_result"
    }
   ],
   "source": [
    "results_df.columns"
   ]
  },
  {
   "cell_type": "markdown",
   "metadata": {},
   "source": [
    "There is a lot of metadata here. We probably will not need most of it.\n",
    "\n",
    "Here are the important tags we plan to use:\n",
    "\n",
    "* subreddit\n",
    "* selftext\n",
    "* title\n",
    "* created_utc\n",
    "* author\n",
    "* is_self (to filter out link-only posts)\n",
    "* score\n",
    "* num_comments"
   ]
  },
  {
   "cell_type": "markdown",
   "metadata": {},
   "source": [
    "Let's grab just the metadata we need."
   ]
  },
  {
   "cell_type": "code",
   "execution_count": 13,
   "metadata": {
    "ExecuteTime": {
     "end_time": "2021-04-25T07:58:37.606236Z",
     "start_time": "2021-04-25T07:58:37.597976Z"
    }
   },
   "outputs": [],
   "source": [
    "subfields = ['title', 'selftext', 'subreddit', 'created_utc', 'author', 'is_self', \\\n",
    "'score', 'num_comments']"
   ]
  },
  {
   "cell_type": "code",
   "execution_count": 14,
   "metadata": {
    "ExecuteTime": {
     "end_time": "2021-04-25T07:58:37.633702Z",
     "start_time": "2021-04-25T07:58:37.611628Z"
    }
   },
   "outputs": [
    {
     "data": {
      "text/html": [
       "<div>\n",
       "<style scoped>\n",
       "    .dataframe tbody tr th:only-of-type {\n",
       "        vertical-align: middle;\n",
       "    }\n",
       "\n",
       "    .dataframe tbody tr th {\n",
       "        vertical-align: top;\n",
       "    }\n",
       "\n",
       "    .dataframe thead th {\n",
       "        text-align: right;\n",
       "    }\n",
       "</style>\n",
       "<table border=\"1\" class=\"dataframe\">\n",
       "  <thead>\n",
       "    <tr style=\"text-align: right;\">\n",
       "      <th></th>\n",
       "      <th>title</th>\n",
       "      <th>selftext</th>\n",
       "      <th>subreddit</th>\n",
       "      <th>created_utc</th>\n",
       "      <th>author</th>\n",
       "      <th>is_self</th>\n",
       "      <th>score</th>\n",
       "      <th>num_comments</th>\n",
       "    </tr>\n",
       "  </thead>\n",
       "  <tbody>\n",
       "    <tr>\n",
       "      <th>0</th>\n",
       "      <td>Mortal Kombat (2021) has a fight scene in a trailer home between &amp;lt;spoiler&amp;gt; and &amp;lt;spoiler&amp;gt;. The scene is meant to mirror the trailer fight scene in Kill Bill Vol 2.</td>\n",
       "      <td>The mortal kombat fight is between Sonya and Kano, didn't want to leave spoilers in the title.\\n\\nBoth scenes take place in a trailer home. Both scenes involve fighting a one-eyed (arguably, in th...</td>\n",
       "      <td>MovieDetails</td>\n",
       "      <td>1619336854</td>\n",
       "      <td>ambisinister_gecko</td>\n",
       "      <td>True</td>\n",
       "      <td>1</td>\n",
       "      <td>1</td>\n",
       "    </tr>\n",
       "    <tr>\n",
       "      <th>1</th>\n",
       "      <td>George Harrison can be seen in the background of the ExLeper scene of Life of Brian (1979 ) wearing a golden crown with red headwear. Cant find anyone else posting about him being in this scene on...</td>\n",
       "      <td></td>\n",
       "      <td>MovieDetails</td>\n",
       "      <td>1619336852</td>\n",
       "      <td>PrivateEducation</td>\n",
       "      <td>False</td>\n",
       "      <td>1</td>\n",
       "      <td>1</td>\n",
       "    </tr>\n",
       "  </tbody>\n",
       "</table>\n",
       "</div>"
      ],
      "text/plain": [
       "                                                                                                                                                                                                     title  \\\n",
       "0                           Mortal Kombat (2021) has a fight scene in a trailer home between &lt;spoiler&gt; and &lt;spoiler&gt;. The scene is meant to mirror the trailer fight scene in Kill Bill Vol 2.   \n",
       "1  George Harrison can be seen in the background of the ExLeper scene of Life of Brian (1979 ) wearing a golden crown with red headwear. Cant find anyone else posting about him being in this scene on...   \n",
       "\n",
       "                                                                                                                                                                                                  selftext  \\\n",
       "0  The mortal kombat fight is between Sonya and Kano, didn't want to leave spoilers in the title.\\n\\nBoth scenes take place in a trailer home. Both scenes involve fighting a one-eyed (arguably, in th...   \n",
       "1                                                                                                                                                                                                            \n",
       "\n",
       "      subreddit  created_utc              author  is_self  score  num_comments  \n",
       "0  MovieDetails   1619336854  ambisinister_gecko     True      1             1  \n",
       "1  MovieDetails   1619336852    PrivateEducation    False      1             1  "
      ]
     },
     "execution_count": 14,
     "metadata": {},
     "output_type": "execute_result"
    }
   ],
   "source": [
    "results_df = results_df[subfields]\n",
    "results_df2 = results_df2[subfields]\n",
    "results_df.head(2)"
   ]
  },
  {
   "cell_type": "markdown",
   "metadata": {},
   "source": [
    "Let's remove any duplicate posts."
   ]
  },
  {
   "cell_type": "code",
   "execution_count": 15,
   "metadata": {
    "ExecuteTime": {
     "end_time": "2021-04-25T07:58:37.658378Z",
     "start_time": "2021-04-25T07:58:37.635282Z"
    }
   },
   "outputs": [],
   "source": [
    "#dupes\n",
    "results_df.drop_duplicates(inplace=True)\n",
    "results_df2.drop_duplicates(inplace=True)"
   ]
  },
  {
   "cell_type": "markdown",
   "metadata": {},
   "source": [
    "We also only want original text content here."
   ]
  },
  {
   "cell_type": "code",
   "execution_count": 16,
   "metadata": {
    "ExecuteTime": {
     "end_time": "2021-04-25T07:58:37.674125Z",
     "start_time": "2021-04-25T07:58:37.663605Z"
    }
   },
   "outputs": [],
   "source": [
    "#filter only for self posts\n",
    "results_df = results_df[results_df[\"is_self\"] == True]\n",
    "results_df2 = results_df2[results_df2['is_self']==True]"
   ]
  },
  {
   "cell_type": "markdown",
   "metadata": {},
   "source": [
    "We'll grab the timestamp so that we can set before and after the post we want, to pull in our desired volume of posts."
   ]
  },
  {
   "cell_type": "code",
   "execution_count": 17,
   "metadata": {
    "ExecuteTime": {
     "end_time": "2021-04-25T07:58:37.697335Z",
     "start_time": "2021-04-25T07:58:37.676748Z"
    },
    "scrolled": true
   },
   "outputs": [
    {
     "data": {
      "text/plain": [
       "0     2021-04-25\n",
       "5     2021-04-24\n",
       "6     2021-04-24\n",
       "8     2021-04-24\n",
       "19    2021-04-24\n",
       "26    2021-04-24\n",
       "27    2021-04-24\n",
       "50    2021-04-24\n",
       "63    2021-04-23\n",
       "64    2021-04-23\n",
       "65    2021-04-23\n",
       "66    2021-04-23\n",
       "68    2021-04-23\n",
       "72    2021-04-23\n",
       "88    2021-04-23\n",
       "95    2021-04-23\n",
       "98    2021-04-23\n",
       "Name: timestamp, dtype: object"
      ]
     },
     "execution_count": 17,
     "metadata": {},
     "output_type": "execute_result"
    }
   ],
   "source": [
    "#convert timestamp to a format we understand\n",
    "results_df['timestamp'] = results_df['created_utc'].map(dt.date.fromtimestamp)\n",
    "results_df2['timestamp'] = results_df2['created_utc'].map(dt.date.fromtimestamp)\n",
    "results_df['timestamp']"
   ]
  },
  {
   "cell_type": "code",
   "execution_count": 18,
   "metadata": {
    "ExecuteTime": {
     "end_time": "2021-04-25T07:58:37.709666Z",
     "start_time": "2021-04-25T07:58:37.700816Z"
    }
   },
   "outputs": [
    {
     "data": {
      "text/plain": [
       "(17, 9)"
      ]
     },
     "execution_count": 18,
     "metadata": {},
     "output_type": "execute_result"
    }
   ],
   "source": [
    "results_df.shape"
   ]
  },
  {
   "cell_type": "markdown",
   "metadata": {},
   "source": [
    "Looks like we get a couple days' worth in a single pull."
   ]
  },
  {
   "cell_type": "markdown",
   "metadata": {},
   "source": [
    "### Set up to pull @certain freq"
   ]
  },
  {
   "cell_type": "markdown",
   "metadata": {},
   "source": [
    "Let's set up our pull to be a bit more dynamic."
   ]
  },
  {
   "cell_type": "code",
   "execution_count": 19,
   "metadata": {
    "ExecuteTime": {
     "end_time": "2021-04-25T07:58:37.722045Z",
     "start_time": "2021-04-25T07:58:37.712093Z"
    },
    "scrolled": true
   },
   "outputs": [
    {
     "data": {
      "text/plain": [
       "'https://api.pushshift.io/reddit/search/submission?subreddit=MovieDetails&size=100'"
      ]
     },
     "execution_count": 19,
     "metadata": {},
     "output_type": "execute_result"
    }
   ],
   "source": [
    "#define endpoint\n",
    "base_url = 'https://api.pushshift.io/reddit/search/submission'\n",
    "\n",
    "#update params\n",
    "subreddit = 'MovieDetails'\n",
    "size = 100\n",
    "\n",
    "#construct URL\n",
    "stem = f'{base_url}?subreddit={subreddit}&size={size}'\n",
    "stem"
   ]
  },
  {
   "cell_type": "code",
   "execution_count": 20,
   "metadata": {
    "ExecuteTime": {
     "end_time": "2021-04-25T07:58:37.740684Z",
     "start_time": "2021-04-25T07:58:37.726207Z"
    }
   },
   "outputs": [
    {
     "data": {
      "text/plain": [
       "False"
      ]
     },
     "execution_count": 20,
     "metadata": {},
     "output_type": "execute_result"
    }
   ],
   "source": [
    "stem == url"
   ]
  },
  {
   "cell_type": "markdown",
   "metadata": {},
   "source": [
    "Let's add in a time component to loop over multiple days' worth of posts."
   ]
  },
  {
   "cell_type": "code",
   "execution_count": 21,
   "metadata": {
    "ExecuteTime": {
     "end_time": "2021-04-25T07:58:37.756063Z",
     "start_time": "2021-04-25T07:58:37.747030Z"
    }
   },
   "outputs": [
    {
     "data": {
      "text/plain": [
       "'https://api.pushshift.io/reddit/search/submission?subreddit=MovieDetails&size=100&after=30d'"
      ]
     },
     "execution_count": 21,
     "metadata": {},
     "output_type": "execute_result"
    }
   ],
   "source": [
    "days = 30\n",
    "url = f'{stem}&after={days}d'\n",
    "url"
   ]
  },
  {
   "cell_type": "code",
   "execution_count": 22,
   "metadata": {
    "ExecuteTime": {
     "end_time": "2021-04-25T07:58:40.676366Z",
     "start_time": "2021-04-25T07:58:37.758724Z"
    },
    "scrolled": false
   },
   "outputs": [
    {
     "data": {
      "text/plain": [
       "0    2021-03-27\n",
       "1    2021-03-27\n",
       "2    2021-03-27\n",
       "3    2021-03-27\n",
       "4    2021-03-27\n",
       "Name: created_utc, dtype: object"
      ]
     },
     "execution_count": 22,
     "metadata": {},
     "output_type": "execute_result"
    }
   ],
   "source": [
    "#verify output\n",
    "\n",
    "res=requests.get(url)\n",
    "assert res.status_code == 200\n",
    "json_data = res.json()\n",
    "\n",
    "results_df = pd.DataFrame(json_data['data'])[subfields]\n",
    "\n",
    "results_df[\n",
    "    'created_utc'].map(dt.date.fromtimestamp).head()"
   ]
  },
  {
   "cell_type": "markdown",
   "metadata": {},
   "source": [
    "We see something from as far back as a month ago, which is what we were expecting."
   ]
  },
  {
   "cell_type": "code",
   "execution_count": 23,
   "metadata": {
    "ExecuteTime": {
     "end_time": "2021-04-25T07:58:40.686851Z",
     "start_time": "2021-04-25T07:58:40.682226Z"
    }
   },
   "outputs": [
    {
     "data": {
      "text/plain": [
       "(100, 8)"
      ]
     },
     "execution_count": 23,
     "metadata": {},
     "output_type": "execute_result"
    }
   ],
   "source": [
    "results_df.shape"
   ]
  },
  {
   "cell_type": "markdown",
   "metadata": {},
   "source": [
    "### Automate pull"
   ]
  },
  {
   "cell_type": "markdown",
   "metadata": {},
   "source": [
    "Let's set up a function that fetches posts and appends them to a dataframe.\n",
    "\n",
    "We will then run this on our desired subReddits."
   ]
  },
  {
   "cell_type": "code",
   "execution_count": 24,
   "metadata": {
    "ExecuteTime": {
     "end_time": "2021-04-25T07:58:40.702667Z",
     "start_time": "2021-04-25T07:58:40.691262Z"
    }
   },
   "outputs": [],
   "source": [
    "#loop to iterate through the pulls\n",
    "\n",
    "def fetch_posts(subreddit, #specify subreddit\n",
    "                kind = 'submission', is_video=False,  #grab post; partial ref to Riley Robertson's query\n",
    "               day_window = 30, n=500): #number of iterations to run\n",
    "    #through; this is also how many dfs are output that need to be concatenated\n",
    "\n",
    "#est. params\n",
    "    \n",
    "    base_url = f'https://api.pushshift.io/reddit/search/{kind}'\n",
    "\n",
    "    stem = f'{base_url}?subreddit={subreddit}&size=500'\n",
    "\n",
    "  \n",
    "    posts = []\n",
    "\n",
    "    for i in range(1, n+1): #that many iterations\n",
    "        \n",
    "        URL = '{}&after={}d'.format(stem, day_window *i)\n",
    "        \n",
    "        print('Query from timeframe: ' + URL)\n",
    "                \n",
    "        try: #partial ref to Ben Mathis's query to handle exception\n",
    "            res = requests.get(URL)\n",
    "            assert res.status_code == 200\n",
    "            \n",
    "        except:\n",
    "            continue\n",
    "        \n",
    "        json_dict = res.json()['data'] #grab the single key from the list of json dicts\n",
    "   \n",
    "        df = pd.DataFrame.from_dict(json_dict) #convert dictionary info to a df\n",
    "        \n",
    "        posts.append(df) #append the df from each iteration to our posts list\n",
    "        \n",
    "        total_scraped = sum(len(x) for x in posts) #understand, how many posts we\n",
    "        #are getting\n",
    "        \n",
    "       # print(len(posts))\n",
    "            \n",
    "        print(total_scraped)\n",
    "        \n",
    "        if total_scraped > 10_000:\n",
    "            break\n",
    "        \n",
    "        time.sleep(1) #wait 1 s between requests\n",
    "        \n",
    "    #merge list of dfs from our requests\n",
    "    full_df = pd.concat(posts, sort=False)\n",
    "    \n",
    "    #if kind == 'submission' & selftext:not=[removed]:\n",
    "    \n",
    "    full_df = full_df[subfields] #only want the specific columns\n",
    "    full_df.drop_duplicates(inplace=True) #de-dupe posts\n",
    "    full_df = full_df.loc[full_df['is_self']==True] #only grab original submissions\n",
    "    \n",
    "    print(full_df.shape)\n",
    "    \n",
    "    full_df['timestamp'] = full_df['created_utc'].map(dt.date.fromtimestamp) #convert time\n",
    "    \n",
    "    return full_df.reset_index(drop=True)"
   ]
  },
  {
   "cell_type": "code",
   "execution_count": 25,
   "metadata": {
    "ExecuteTime": {
     "end_time": "2021-04-25T19:11:03.283923Z",
     "start_time": "2021-04-25T07:58:40.704285Z"
    }
   },
   "outputs": [
    {
     "name": "stdout",
     "output_type": "stream",
     "text": [
      "Query from timeframe: https://api.pushshift.io/reddit/search/submission?subreddit=MovieDetails&size=500&after=30d\n",
      "Query from timeframe: https://api.pushshift.io/reddit/search/submission?subreddit=MovieDetails&size=500&after=60d\n",
      "100\n",
      "Query from timeframe: https://api.pushshift.io/reddit/search/submission?subreddit=MovieDetails&size=500&after=90d\n",
      "200\n",
      "Query from timeframe: https://api.pushshift.io/reddit/search/submission?subreddit=MovieDetails&size=500&after=120d\n",
      "300\n",
      "Query from timeframe: https://api.pushshift.io/reddit/search/submission?subreddit=MovieDetails&size=500&after=150d\n",
      "400\n",
      "Query from timeframe: https://api.pushshift.io/reddit/search/submission?subreddit=MovieDetails&size=500&after=180d\n",
      "500\n",
      "Query from timeframe: https://api.pushshift.io/reddit/search/submission?subreddit=MovieDetails&size=500&after=210d\n",
      "600\n",
      "Query from timeframe: https://api.pushshift.io/reddit/search/submission?subreddit=MovieDetails&size=500&after=240d\n",
      "700\n",
      "Query from timeframe: https://api.pushshift.io/reddit/search/submission?subreddit=MovieDetails&size=500&after=270d\n",
      "800\n",
      "Query from timeframe: https://api.pushshift.io/reddit/search/submission?subreddit=MovieDetails&size=500&after=300d\n",
      "900\n",
      "Query from timeframe: https://api.pushshift.io/reddit/search/submission?subreddit=MovieDetails&size=500&after=330d\n",
      "1000\n",
      "Query from timeframe: https://api.pushshift.io/reddit/search/submission?subreddit=MovieDetails&size=500&after=360d\n",
      "1100\n",
      "Query from timeframe: https://api.pushshift.io/reddit/search/submission?subreddit=MovieDetails&size=500&after=390d\n",
      "1200\n",
      "Query from timeframe: https://api.pushshift.io/reddit/search/submission?subreddit=MovieDetails&size=500&after=420d\n",
      "1300\n",
      "Query from timeframe: https://api.pushshift.io/reddit/search/submission?subreddit=MovieDetails&size=500&after=450d\n",
      "1400\n",
      "Query from timeframe: https://api.pushshift.io/reddit/search/submission?subreddit=MovieDetails&size=500&after=480d\n",
      "1500\n",
      "Query from timeframe: https://api.pushshift.io/reddit/search/submission?subreddit=MovieDetails&size=500&after=510d\n",
      "1600\n",
      "Query from timeframe: https://api.pushshift.io/reddit/search/submission?subreddit=MovieDetails&size=500&after=540d\n",
      "Query from timeframe: https://api.pushshift.io/reddit/search/submission?subreddit=MovieDetails&size=500&after=570d\n",
      "1700\n",
      "Query from timeframe: https://api.pushshift.io/reddit/search/submission?subreddit=MovieDetails&size=500&after=600d\n",
      "Query from timeframe: https://api.pushshift.io/reddit/search/submission?subreddit=MovieDetails&size=500&after=630d\n",
      "1800\n",
      "Query from timeframe: https://api.pushshift.io/reddit/search/submission?subreddit=MovieDetails&size=500&after=660d\n",
      "1900\n",
      "Query from timeframe: https://api.pushshift.io/reddit/search/submission?subreddit=MovieDetails&size=500&after=690d\n",
      "2000\n",
      "Query from timeframe: https://api.pushshift.io/reddit/search/submission?subreddit=MovieDetails&size=500&after=720d\n",
      "2100\n",
      "Query from timeframe: https://api.pushshift.io/reddit/search/submission?subreddit=MovieDetails&size=500&after=750d\n",
      "2200\n",
      "Query from timeframe: https://api.pushshift.io/reddit/search/submission?subreddit=MovieDetails&size=500&after=780d\n",
      "2300\n",
      "Query from timeframe: https://api.pushshift.io/reddit/search/submission?subreddit=MovieDetails&size=500&after=810d\n",
      "2400\n",
      "Query from timeframe: https://api.pushshift.io/reddit/search/submission?subreddit=MovieDetails&size=500&after=840d\n",
      "2500\n",
      "Query from timeframe: https://api.pushshift.io/reddit/search/submission?subreddit=MovieDetails&size=500&after=870d\n",
      "2600\n",
      "Query from timeframe: https://api.pushshift.io/reddit/search/submission?subreddit=MovieDetails&size=500&after=900d\n",
      "2700\n",
      "Query from timeframe: https://api.pushshift.io/reddit/search/submission?subreddit=MovieDetails&size=500&after=930d\n",
      "2800\n",
      "Query from timeframe: https://api.pushshift.io/reddit/search/submission?subreddit=MovieDetails&size=500&after=960d\n",
      "2900\n",
      "Query from timeframe: https://api.pushshift.io/reddit/search/submission?subreddit=MovieDetails&size=500&after=990d\n",
      "2973\n",
      "Query from timeframe: https://api.pushshift.io/reddit/search/submission?subreddit=MovieDetails&size=500&after=1020d\n",
      "3073\n",
      "Query from timeframe: https://api.pushshift.io/reddit/search/submission?subreddit=MovieDetails&size=500&after=1050d\n",
      "3173\n",
      "Query from timeframe: https://api.pushshift.io/reddit/search/submission?subreddit=MovieDetails&size=500&after=1080d\n",
      "3273\n",
      "Query from timeframe: https://api.pushshift.io/reddit/search/submission?subreddit=MovieDetails&size=500&after=1110d\n",
      "3373\n",
      "Query from timeframe: https://api.pushshift.io/reddit/search/submission?subreddit=MovieDetails&size=500&after=1140d\n",
      "3473\n",
      "Query from timeframe: https://api.pushshift.io/reddit/search/submission?subreddit=MovieDetails&size=500&after=1170d\n",
      "3573\n",
      "Query from timeframe: https://api.pushshift.io/reddit/search/submission?subreddit=MovieDetails&size=500&after=1200d\n",
      "Query from timeframe: https://api.pushshift.io/reddit/search/submission?subreddit=MovieDetails&size=500&after=1230d\n",
      "3673\n",
      "Query from timeframe: https://api.pushshift.io/reddit/search/submission?subreddit=MovieDetails&size=500&after=1260d\n",
      "3773\n",
      "Query from timeframe: https://api.pushshift.io/reddit/search/submission?subreddit=MovieDetails&size=500&after=1290d\n",
      "Query from timeframe: https://api.pushshift.io/reddit/search/submission?subreddit=MovieDetails&size=500&after=1320d\n",
      "3873\n",
      "Query from timeframe: https://api.pushshift.io/reddit/search/submission?subreddit=MovieDetails&size=500&after=1350d\n",
      "3973\n",
      "Query from timeframe: https://api.pushshift.io/reddit/search/submission?subreddit=MovieDetails&size=500&after=1380d\n",
      "4073\n",
      "Query from timeframe: https://api.pushshift.io/reddit/search/submission?subreddit=MovieDetails&size=500&after=1410d\n",
      "Query from timeframe: https://api.pushshift.io/reddit/search/submission?subreddit=MovieDetails&size=500&after=1440d\n",
      "4173\n",
      "Query from timeframe: https://api.pushshift.io/reddit/search/submission?subreddit=MovieDetails&size=500&after=1470d\n",
      "4273\n",
      "Query from timeframe: https://api.pushshift.io/reddit/search/submission?subreddit=MovieDetails&size=500&after=1500d\n",
      "4373\n",
      "Query from timeframe: https://api.pushshift.io/reddit/search/submission?subreddit=MovieDetails&size=500&after=1530d\n",
      "4473\n",
      "Query from timeframe: https://api.pushshift.io/reddit/search/submission?subreddit=MovieDetails&size=500&after=1560d\n",
      "4573\n",
      "Query from timeframe: https://api.pushshift.io/reddit/search/submission?subreddit=MovieDetails&size=500&after=1590d\n",
      "4673\n",
      "Query from timeframe: https://api.pushshift.io/reddit/search/submission?subreddit=MovieDetails&size=500&after=1620d\n",
      "4773\n",
      "Query from timeframe: https://api.pushshift.io/reddit/search/submission?subreddit=MovieDetails&size=500&after=1650d\n",
      "4873\n",
      "Query from timeframe: https://api.pushshift.io/reddit/search/submission?subreddit=MovieDetails&size=500&after=1680d\n",
      "4973\n",
      "Query from timeframe: https://api.pushshift.io/reddit/search/submission?subreddit=MovieDetails&size=500&after=1710d\n",
      "5073\n",
      "Query from timeframe: https://api.pushshift.io/reddit/search/submission?subreddit=MovieDetails&size=500&after=1740d\n",
      "5173\n",
      "Query from timeframe: https://api.pushshift.io/reddit/search/submission?subreddit=MovieDetails&size=500&after=1770d\n",
      "5273\n",
      "Query from timeframe: https://api.pushshift.io/reddit/search/submission?subreddit=MovieDetails&size=500&after=1800d\n",
      "5373\n",
      "Query from timeframe: https://api.pushshift.io/reddit/search/submission?subreddit=MovieDetails&size=500&after=1830d\n",
      "5473\n",
      "Query from timeframe: https://api.pushshift.io/reddit/search/submission?subreddit=MovieDetails&size=500&after=1860d\n",
      "5573\n",
      "Query from timeframe: https://api.pushshift.io/reddit/search/submission?subreddit=MovieDetails&size=500&after=1890d\n",
      "5673\n",
      "Query from timeframe: https://api.pushshift.io/reddit/search/submission?subreddit=MovieDetails&size=500&after=1920d\n",
      "5773\n",
      "Query from timeframe: https://api.pushshift.io/reddit/search/submission?subreddit=MovieDetails&size=500&after=1950d\n",
      "5873\n",
      "Query from timeframe: https://api.pushshift.io/reddit/search/submission?subreddit=MovieDetails&size=500&after=1980d\n",
      "5973\n",
      "Query from timeframe: https://api.pushshift.io/reddit/search/submission?subreddit=MovieDetails&size=500&after=2010d\n",
      "6073\n",
      "Query from timeframe: https://api.pushshift.io/reddit/search/submission?subreddit=MovieDetails&size=500&after=2040d\n",
      "6173\n",
      "Query from timeframe: https://api.pushshift.io/reddit/search/submission?subreddit=MovieDetails&size=500&after=2070d\n"
     ]
    },
    {
     "name": "stdout",
     "output_type": "stream",
     "text": [
      "6273\n",
      "Query from timeframe: https://api.pushshift.io/reddit/search/submission?subreddit=MovieDetails&size=500&after=2100d\n",
      "6373\n",
      "Query from timeframe: https://api.pushshift.io/reddit/search/submission?subreddit=MovieDetails&size=500&after=2130d\n",
      "6473\n",
      "Query from timeframe: https://api.pushshift.io/reddit/search/submission?subreddit=MovieDetails&size=500&after=2160d\n",
      "6573\n",
      "Query from timeframe: https://api.pushshift.io/reddit/search/submission?subreddit=MovieDetails&size=500&after=2190d\n",
      "6673\n",
      "Query from timeframe: https://api.pushshift.io/reddit/search/submission?subreddit=MovieDetails&size=500&after=2220d\n",
      "Query from timeframe: https://api.pushshift.io/reddit/search/submission?subreddit=MovieDetails&size=500&after=2250d\n",
      "6773\n",
      "Query from timeframe: https://api.pushshift.io/reddit/search/submission?subreddit=MovieDetails&size=500&after=2280d\n",
      "6873\n",
      "Query from timeframe: https://api.pushshift.io/reddit/search/submission?subreddit=MovieDetails&size=500&after=2310d\n",
      "6973\n",
      "Query from timeframe: https://api.pushshift.io/reddit/search/submission?subreddit=MovieDetails&size=500&after=2340d\n",
      "7073\n",
      "Query from timeframe: https://api.pushshift.io/reddit/search/submission?subreddit=MovieDetails&size=500&after=2370d\n",
      "7173\n",
      "Query from timeframe: https://api.pushshift.io/reddit/search/submission?subreddit=MovieDetails&size=500&after=2400d\n",
      "Query from timeframe: https://api.pushshift.io/reddit/search/submission?subreddit=MovieDetails&size=500&after=2430d\n",
      "7273\n",
      "Query from timeframe: https://api.pushshift.io/reddit/search/submission?subreddit=MovieDetails&size=500&after=2460d\n",
      "7373\n",
      "Query from timeframe: https://api.pushshift.io/reddit/search/submission?subreddit=MovieDetails&size=500&after=2490d\n",
      "7473\n",
      "Query from timeframe: https://api.pushshift.io/reddit/search/submission?subreddit=MovieDetails&size=500&after=2520d\n",
      "7573\n",
      "Query from timeframe: https://api.pushshift.io/reddit/search/submission?subreddit=MovieDetails&size=500&after=2550d\n",
      "Query from timeframe: https://api.pushshift.io/reddit/search/submission?subreddit=MovieDetails&size=500&after=2580d\n",
      "7673\n",
      "Query from timeframe: https://api.pushshift.io/reddit/search/submission?subreddit=MovieDetails&size=500&after=2610d\n",
      "Query from timeframe: https://api.pushshift.io/reddit/search/submission?subreddit=MovieDetails&size=500&after=2640d\n",
      "7773\n",
      "Query from timeframe: https://api.pushshift.io/reddit/search/submission?subreddit=MovieDetails&size=500&after=2670d\n",
      "7873\n",
      "Query from timeframe: https://api.pushshift.io/reddit/search/submission?subreddit=MovieDetails&size=500&after=2700d\n",
      "7973\n",
      "Query from timeframe: https://api.pushshift.io/reddit/search/submission?subreddit=MovieDetails&size=500&after=2730d\n",
      "8073\n",
      "Query from timeframe: https://api.pushshift.io/reddit/search/submission?subreddit=MovieDetails&size=500&after=2760d\n",
      "8173\n",
      "Query from timeframe: https://api.pushshift.io/reddit/search/submission?subreddit=MovieDetails&size=500&after=2790d\n",
      "8273\n",
      "Query from timeframe: https://api.pushshift.io/reddit/search/submission?subreddit=MovieDetails&size=500&after=2820d\n",
      "8373\n",
      "Query from timeframe: https://api.pushshift.io/reddit/search/submission?subreddit=MovieDetails&size=500&after=2850d\n",
      "8473\n",
      "Query from timeframe: https://api.pushshift.io/reddit/search/submission?subreddit=MovieDetails&size=500&after=2880d\n",
      "8573\n",
      "Query from timeframe: https://api.pushshift.io/reddit/search/submission?subreddit=MovieDetails&size=500&after=2910d\n",
      "8673\n",
      "Query from timeframe: https://api.pushshift.io/reddit/search/submission?subreddit=MovieDetails&size=500&after=2940d\n",
      "8773\n",
      "Query from timeframe: https://api.pushshift.io/reddit/search/submission?subreddit=MovieDetails&size=500&after=2970d\n",
      "Query from timeframe: https://api.pushshift.io/reddit/search/submission?subreddit=MovieDetails&size=500&after=3000d\n",
      "8873\n",
      "Query from timeframe: https://api.pushshift.io/reddit/search/submission?subreddit=MovieDetails&size=500&after=3030d\n",
      "Query from timeframe: https://api.pushshift.io/reddit/search/submission?subreddit=MovieDetails&size=500&after=3060d\n",
      "8973\n",
      "Query from timeframe: https://api.pushshift.io/reddit/search/submission?subreddit=MovieDetails&size=500&after=3090d\n",
      "9073\n",
      "Query from timeframe: https://api.pushshift.io/reddit/search/submission?subreddit=MovieDetails&size=500&after=3120d\n",
      "9173\n",
      "Query from timeframe: https://api.pushshift.io/reddit/search/submission?subreddit=MovieDetails&size=500&after=3150d\n",
      "9273\n",
      "Query from timeframe: https://api.pushshift.io/reddit/search/submission?subreddit=MovieDetails&size=500&after=3180d\n",
      "9373\n",
      "Query from timeframe: https://api.pushshift.io/reddit/search/submission?subreddit=MovieDetails&size=500&after=3210d\n",
      "9473\n",
      "Query from timeframe: https://api.pushshift.io/reddit/search/submission?subreddit=MovieDetails&size=500&after=3240d\n",
      "9573\n",
      "Query from timeframe: https://api.pushshift.io/reddit/search/submission?subreddit=MovieDetails&size=500&after=3270d\n",
      "9673\n",
      "Query from timeframe: https://api.pushshift.io/reddit/search/submission?subreddit=MovieDetails&size=500&after=3300d\n",
      "9773\n",
      "Query from timeframe: https://api.pushshift.io/reddit/search/submission?subreddit=MovieDetails&size=500&after=3330d\n",
      "9873\n",
      "Query from timeframe: https://api.pushshift.io/reddit/search/submission?subreddit=MovieDetails&size=500&after=3360d\n",
      "9973\n",
      "Query from timeframe: https://api.pushshift.io/reddit/search/submission?subreddit=MovieDetails&size=500&after=3390d\n",
      "10073\n",
      "Query from timeframe: https://api.pushshift.io/reddit/search/submission?subreddit=MovieDetails&size=500&after=3420d\n",
      "10173\n",
      "Query from timeframe: https://api.pushshift.io/reddit/search/submission?subreddit=MovieDetails&size=500&after=3450d\n",
      "10273\n",
      "Query from timeframe: https://api.pushshift.io/reddit/search/submission?subreddit=MovieDetails&size=500&after=3480d\n",
      "10373\n",
      "Query from timeframe: https://api.pushshift.io/reddit/search/submission?subreddit=MovieDetails&size=500&after=3510d\n",
      "10473\n",
      "Query from timeframe: https://api.pushshift.io/reddit/search/submission?subreddit=MovieDetails&size=500&after=3540d\n",
      "Query from timeframe: https://api.pushshift.io/reddit/search/submission?subreddit=MovieDetails&size=500&after=3570d\n",
      "10573\n",
      "Query from timeframe: https://api.pushshift.io/reddit/search/submission?subreddit=MovieDetails&size=500&after=3600d\n",
      "10673\n",
      "Query from timeframe: https://api.pushshift.io/reddit/search/submission?subreddit=MovieDetails&size=500&after=3630d\n",
      "Query from timeframe: https://api.pushshift.io/reddit/search/submission?subreddit=MovieDetails&size=500&after=3660d\n",
      "10773\n",
      "Query from timeframe: https://api.pushshift.io/reddit/search/submission?subreddit=MovieDetails&size=500&after=3690d\n",
      "10873\n",
      "Query from timeframe: https://api.pushshift.io/reddit/search/submission?subreddit=MovieDetails&size=500&after=3720d\n",
      "10973\n",
      "Query from timeframe: https://api.pushshift.io/reddit/search/submission?subreddit=MovieDetails&size=500&after=3750d\n",
      "11073\n",
      "Query from timeframe: https://api.pushshift.io/reddit/search/submission?subreddit=MovieDetails&size=500&after=3780d\n",
      "11173\n",
      "Query from timeframe: https://api.pushshift.io/reddit/search/submission?subreddit=MovieDetails&size=500&after=3810d\n",
      "11273\n",
      "Query from timeframe: https://api.pushshift.io/reddit/search/submission?subreddit=MovieDetails&size=500&after=3840d\n",
      "11373\n",
      "Query from timeframe: https://api.pushshift.io/reddit/search/submission?subreddit=MovieDetails&size=500&after=3870d\n",
      "11473\n",
      "Query from timeframe: https://api.pushshift.io/reddit/search/submission?subreddit=MovieDetails&size=500&after=3900d\n",
      "11573\n",
      "Query from timeframe: https://api.pushshift.io/reddit/search/submission?subreddit=MovieDetails&size=500&after=3930d\n",
      "11673\n",
      "Query from timeframe: https://api.pushshift.io/reddit/search/submission?subreddit=MovieDetails&size=500&after=3960d\n",
      "11773\n",
      "Query from timeframe: https://api.pushshift.io/reddit/search/submission?subreddit=MovieDetails&size=500&after=3990d\n",
      "11873\n",
      "Query from timeframe: https://api.pushshift.io/reddit/search/submission?subreddit=MovieDetails&size=500&after=4020d\n",
      "11973\n",
      "Query from timeframe: https://api.pushshift.io/reddit/search/submission?subreddit=MovieDetails&size=500&after=4050d\n",
      "12073\n",
      "Query from timeframe: https://api.pushshift.io/reddit/search/submission?subreddit=MovieDetails&size=500&after=4080d\n",
      "12173\n",
      "Query from timeframe: https://api.pushshift.io/reddit/search/submission?subreddit=MovieDetails&size=500&after=4110d\n"
     ]
    },
    {
     "name": "stdout",
     "output_type": "stream",
     "text": [
      "12273\n",
      "Query from timeframe: https://api.pushshift.io/reddit/search/submission?subreddit=MovieDetails&size=500&after=4140d\n",
      "12373\n",
      "Query from timeframe: https://api.pushshift.io/reddit/search/submission?subreddit=MovieDetails&size=500&after=4170d\n",
      "12473\n",
      "Query from timeframe: https://api.pushshift.io/reddit/search/submission?subreddit=MovieDetails&size=500&after=4200d\n",
      "12573\n",
      "Query from timeframe: https://api.pushshift.io/reddit/search/submission?subreddit=MovieDetails&size=500&after=4230d\n",
      "12673\n",
      "Query from timeframe: https://api.pushshift.io/reddit/search/submission?subreddit=MovieDetails&size=500&after=4260d\n",
      "12773\n",
      "Query from timeframe: https://api.pushshift.io/reddit/search/submission?subreddit=MovieDetails&size=500&after=4290d\n",
      "12873\n",
      "Query from timeframe: https://api.pushshift.io/reddit/search/submission?subreddit=MovieDetails&size=500&after=4320d\n",
      "12973\n",
      "Query from timeframe: https://api.pushshift.io/reddit/search/submission?subreddit=MovieDetails&size=500&after=4350d\n",
      "13073\n",
      "Query from timeframe: https://api.pushshift.io/reddit/search/submission?subreddit=MovieDetails&size=500&after=4380d\n",
      "13173\n",
      "Query from timeframe: https://api.pushshift.io/reddit/search/submission?subreddit=MovieDetails&size=500&after=4410d\n",
      "13273\n",
      "Query from timeframe: https://api.pushshift.io/reddit/search/submission?subreddit=MovieDetails&size=500&after=4440d\n",
      "13373\n",
      "Query from timeframe: https://api.pushshift.io/reddit/search/submission?subreddit=MovieDetails&size=500&after=4470d\n",
      "13473\n",
      "Query from timeframe: https://api.pushshift.io/reddit/search/submission?subreddit=MovieDetails&size=500&after=4500d\n",
      "13573\n",
      "Query from timeframe: https://api.pushshift.io/reddit/search/submission?subreddit=MovieDetails&size=500&after=4530d\n",
      "13673\n",
      "Query from timeframe: https://api.pushshift.io/reddit/search/submission?subreddit=MovieDetails&size=500&after=4560d\n",
      "13773\n",
      "Query from timeframe: https://api.pushshift.io/reddit/search/submission?subreddit=MovieDetails&size=500&after=4590d\n",
      "13873\n",
      "Query from timeframe: https://api.pushshift.io/reddit/search/submission?subreddit=MovieDetails&size=500&after=4620d\n",
      "13973\n",
      "Query from timeframe: https://api.pushshift.io/reddit/search/submission?subreddit=MovieDetails&size=500&after=4650d\n",
      "14073\n",
      "Query from timeframe: https://api.pushshift.io/reddit/search/submission?subreddit=MovieDetails&size=500&after=4680d\n",
      "14173\n",
      "Query from timeframe: https://api.pushshift.io/reddit/search/submission?subreddit=MovieDetails&size=500&after=4710d\n",
      "14273\n",
      "Query from timeframe: https://api.pushshift.io/reddit/search/submission?subreddit=MovieDetails&size=500&after=4740d\n",
      "14373\n",
      "Query from timeframe: https://api.pushshift.io/reddit/search/submission?subreddit=MovieDetails&size=500&after=4770d\n",
      "14473\n",
      "Query from timeframe: https://api.pushshift.io/reddit/search/submission?subreddit=MovieDetails&size=500&after=4800d\n",
      "14573\n",
      "Query from timeframe: https://api.pushshift.io/reddit/search/submission?subreddit=MovieDetails&size=500&after=4830d\n",
      "14673\n",
      "Query from timeframe: https://api.pushshift.io/reddit/search/submission?subreddit=MovieDetails&size=500&after=4860d\n",
      "14773\n",
      "Query from timeframe: https://api.pushshift.io/reddit/search/submission?subreddit=MovieDetails&size=500&after=4890d\n",
      "14873\n",
      "Query from timeframe: https://api.pushshift.io/reddit/search/submission?subreddit=MovieDetails&size=500&after=4920d\n",
      "14973\n",
      "Query from timeframe: https://api.pushshift.io/reddit/search/submission?subreddit=MovieDetails&size=500&after=4950d\n",
      "15073\n",
      "Query from timeframe: https://api.pushshift.io/reddit/search/submission?subreddit=MovieDetails&size=500&after=4980d\n",
      "15173\n",
      "Query from timeframe: https://api.pushshift.io/reddit/search/submission?subreddit=MovieDetails&size=500&after=5010d\n",
      "15273\n",
      "Query from timeframe: https://api.pushshift.io/reddit/search/submission?subreddit=MovieDetails&size=500&after=5040d\n",
      "15373\n",
      "Query from timeframe: https://api.pushshift.io/reddit/search/submission?subreddit=MovieDetails&size=500&after=5070d\n",
      "15473\n",
      "Query from timeframe: https://api.pushshift.io/reddit/search/submission?subreddit=MovieDetails&size=500&after=5100d\n",
      "15573\n",
      "Query from timeframe: https://api.pushshift.io/reddit/search/submission?subreddit=MovieDetails&size=500&after=5130d\n",
      "15673\n",
      "Query from timeframe: https://api.pushshift.io/reddit/search/submission?subreddit=MovieDetails&size=500&after=5160d\n",
      "15773\n",
      "Query from timeframe: https://api.pushshift.io/reddit/search/submission?subreddit=MovieDetails&size=500&after=5190d\n",
      "15873\n",
      "Query from timeframe: https://api.pushshift.io/reddit/search/submission?subreddit=MovieDetails&size=500&after=5220d\n",
      "15973\n",
      "Query from timeframe: https://api.pushshift.io/reddit/search/submission?subreddit=MovieDetails&size=500&after=5250d\n",
      "16073\n",
      "Query from timeframe: https://api.pushshift.io/reddit/search/submission?subreddit=MovieDetails&size=500&after=5280d\n",
      "16173\n",
      "Query from timeframe: https://api.pushshift.io/reddit/search/submission?subreddit=MovieDetails&size=500&after=5310d\n",
      "16273\n",
      "Query from timeframe: https://api.pushshift.io/reddit/search/submission?subreddit=MovieDetails&size=500&after=5340d\n",
      "Query from timeframe: https://api.pushshift.io/reddit/search/submission?subreddit=MovieDetails&size=500&after=5370d\n",
      "16373\n",
      "Query from timeframe: https://api.pushshift.io/reddit/search/submission?subreddit=MovieDetails&size=500&after=5400d\n",
      "16473\n",
      "Query from timeframe: https://api.pushshift.io/reddit/search/submission?subreddit=MovieDetails&size=500&after=5430d\n",
      "16573\n",
      "Query from timeframe: https://api.pushshift.io/reddit/search/submission?subreddit=MovieDetails&size=500&after=5460d\n",
      "16673\n",
      "Query from timeframe: https://api.pushshift.io/reddit/search/submission?subreddit=MovieDetails&size=500&after=5490d\n",
      "16773\n",
      "Query from timeframe: https://api.pushshift.io/reddit/search/submission?subreddit=MovieDetails&size=500&after=5520d\n",
      "16873\n",
      "Query from timeframe: https://api.pushshift.io/reddit/search/submission?subreddit=MovieDetails&size=500&after=5550d\n",
      "16973\n",
      "Query from timeframe: https://api.pushshift.io/reddit/search/submission?subreddit=MovieDetails&size=500&after=5580d\n",
      "17073\n",
      "Query from timeframe: https://api.pushshift.io/reddit/search/submission?subreddit=MovieDetails&size=500&after=5610d\n",
      "Query from timeframe: https://api.pushshift.io/reddit/search/submission?subreddit=MovieDetails&size=500&after=5640d\n",
      "17173\n",
      "Query from timeframe: https://api.pushshift.io/reddit/search/submission?subreddit=MovieDetails&size=500&after=5670d\n",
      "17273\n",
      "Query from timeframe: https://api.pushshift.io/reddit/search/submission?subreddit=MovieDetails&size=500&after=5700d\n",
      "17373\n",
      "Query from timeframe: https://api.pushshift.io/reddit/search/submission?subreddit=MovieDetails&size=500&after=5730d\n",
      "17473\n",
      "Query from timeframe: https://api.pushshift.io/reddit/search/submission?subreddit=MovieDetails&size=500&after=5760d\n",
      "17573\n",
      "Query from timeframe: https://api.pushshift.io/reddit/search/submission?subreddit=MovieDetails&size=500&after=5790d\n",
      "17673\n",
      "Query from timeframe: https://api.pushshift.io/reddit/search/submission?subreddit=MovieDetails&size=500&after=5820d\n",
      "17773\n",
      "Query from timeframe: https://api.pushshift.io/reddit/search/submission?subreddit=MovieDetails&size=500&after=5850d\n",
      "17873\n",
      "Query from timeframe: https://api.pushshift.io/reddit/search/submission?subreddit=MovieDetails&size=500&after=5880d\n",
      "17973\n",
      "Query from timeframe: https://api.pushshift.io/reddit/search/submission?subreddit=MovieDetails&size=500&after=5910d\n",
      "18073\n",
      "Query from timeframe: https://api.pushshift.io/reddit/search/submission?subreddit=MovieDetails&size=500&after=5940d\n",
      "18173\n",
      "Query from timeframe: https://api.pushshift.io/reddit/search/submission?subreddit=MovieDetails&size=500&after=5970d\n",
      "18273\n",
      "Query from timeframe: https://api.pushshift.io/reddit/search/submission?subreddit=MovieDetails&size=500&after=6000d\n",
      "18373\n",
      "Query from timeframe: https://api.pushshift.io/reddit/search/submission?subreddit=MovieDetails&size=500&after=6030d\n",
      "18473\n",
      "Query from timeframe: https://api.pushshift.io/reddit/search/submission?subreddit=MovieDetails&size=500&after=6060d\n",
      "18573\n",
      "Query from timeframe: https://api.pushshift.io/reddit/search/submission?subreddit=MovieDetails&size=500&after=6090d\n",
      "Query from timeframe: https://api.pushshift.io/reddit/search/submission?subreddit=MovieDetails&size=500&after=6120d\n",
      "18673\n",
      "Query from timeframe: https://api.pushshift.io/reddit/search/submission?subreddit=MovieDetails&size=500&after=6150d\n"
     ]
    },
    {
     "name": "stdout",
     "output_type": "stream",
     "text": [
      "18773\n",
      "Query from timeframe: https://api.pushshift.io/reddit/search/submission?subreddit=MovieDetails&size=500&after=6180d\n",
      "18873\n",
      "Query from timeframe: https://api.pushshift.io/reddit/search/submission?subreddit=MovieDetails&size=500&after=6210d\n",
      "18973\n",
      "Query from timeframe: https://api.pushshift.io/reddit/search/submission?subreddit=MovieDetails&size=500&after=6240d\n",
      "19073\n",
      "Query from timeframe: https://api.pushshift.io/reddit/search/submission?subreddit=MovieDetails&size=500&after=6270d\n",
      "19173\n",
      "Query from timeframe: https://api.pushshift.io/reddit/search/submission?subreddit=MovieDetails&size=500&after=6300d\n",
      "19273\n",
      "Query from timeframe: https://api.pushshift.io/reddit/search/submission?subreddit=MovieDetails&size=500&after=6330d\n",
      "19373\n",
      "Query from timeframe: https://api.pushshift.io/reddit/search/submission?subreddit=MovieDetails&size=500&after=6360d\n",
      "19473\n",
      "Query from timeframe: https://api.pushshift.io/reddit/search/submission?subreddit=MovieDetails&size=500&after=6390d\n",
      "19573\n",
      "Query from timeframe: https://api.pushshift.io/reddit/search/submission?subreddit=MovieDetails&size=500&after=6420d\n",
      "Query from timeframe: https://api.pushshift.io/reddit/search/submission?subreddit=MovieDetails&size=500&after=6450d\n",
      "19673\n",
      "Query from timeframe: https://api.pushshift.io/reddit/search/submission?subreddit=MovieDetails&size=500&after=6480d\n",
      "19773\n",
      "Query from timeframe: https://api.pushshift.io/reddit/search/submission?subreddit=MovieDetails&size=500&after=6510d\n",
      "19873\n",
      "Query from timeframe: https://api.pushshift.io/reddit/search/submission?subreddit=MovieDetails&size=500&after=6540d\n",
      "19973\n",
      "Query from timeframe: https://api.pushshift.io/reddit/search/submission?subreddit=MovieDetails&size=500&after=6570d\n",
      "20073\n",
      "(626, 8)\n"
     ]
    },
    {
     "data": {
      "text/html": [
       "<div>\n",
       "<style scoped>\n",
       "    .dataframe tbody tr th:only-of-type {\n",
       "        vertical-align: middle;\n",
       "    }\n",
       "\n",
       "    .dataframe tbody tr th {\n",
       "        vertical-align: top;\n",
       "    }\n",
       "\n",
       "    .dataframe thead th {\n",
       "        text-align: right;\n",
       "    }\n",
       "</style>\n",
       "<table border=\"1\" class=\"dataframe\">\n",
       "  <thead>\n",
       "    <tr style=\"text-align: right;\">\n",
       "      <th></th>\n",
       "      <th>title</th>\n",
       "      <th>selftext</th>\n",
       "      <th>subreddit</th>\n",
       "      <th>created_utc</th>\n",
       "      <th>author</th>\n",
       "      <th>is_self</th>\n",
       "      <th>score</th>\n",
       "      <th>num_comments</th>\n",
       "      <th>timestamp</th>\n",
       "    </tr>\n",
       "  </thead>\n",
       "  <tbody>\n",
       "    <tr>\n",
       "      <th>0</th>\n",
       "      <td>Free Movie Streaming Sites 2021 | No Signup &amp;amp; Download</td>\n",
       "      <td>[removed]</td>\n",
       "      <td>MovieDetails</td>\n",
       "      <td>1614153597</td>\n",
       "      <td>Wafer_Jaded</td>\n",
       "      <td>True</td>\n",
       "      <td>1</td>\n",
       "      <td>0</td>\n",
       "      <td>2021-02-23</td>\n",
       "    </tr>\n",
       "    <tr>\n",
       "      <th>1</th>\n",
       "      <td>All time Comedy Movie Tier List</td>\n",
       "      <td>[removed]</td>\n",
       "      <td>MovieDetails</td>\n",
       "      <td>1614172795</td>\n",
       "      <td>TrustedMarketing</td>\n",
       "      <td>True</td>\n",
       "      <td>1</td>\n",
       "      <td>2</td>\n",
       "      <td>2021-02-24</td>\n",
       "    </tr>\n",
       "    <tr>\n",
       "      <th>2</th>\n",
       "      <td>Comedy Movies Tier List photo from (2008) Step Brothers</td>\n",
       "      <td>[removed]</td>\n",
       "      <td>MovieDetails</td>\n",
       "      <td>1614172875</td>\n",
       "      <td>TrustedMarketing</td>\n",
       "      <td>True</td>\n",
       "      <td>1</td>\n",
       "      <td>4</td>\n",
       "      <td>2021-02-24</td>\n",
       "    </tr>\n",
       "    <tr>\n",
       "      <th>3</th>\n",
       "      <td>The little things (2021) theory</td>\n",
       "      <td>[deleted]</td>\n",
       "      <td>MovieDetails</td>\n",
       "      <td>1614192363</td>\n",
       "      <td>[deleted]</td>\n",
       "      <td>True</td>\n",
       "      <td>1</td>\n",
       "      <td>2</td>\n",
       "      <td>2021-02-24</td>\n",
       "    </tr>\n",
       "    <tr>\n",
       "      <th>4</th>\n",
       "      <td>The little things (2021) *shoes*</td>\n",
       "      <td>[removed]</td>\n",
       "      <td>MovieDetails</td>\n",
       "      <td>1614192478</td>\n",
       "      <td>r35p30t</td>\n",
       "      <td>True</td>\n",
       "      <td>2</td>\n",
       "      <td>4</td>\n",
       "      <td>2021-02-24</td>\n",
       "    </tr>\n",
       "  </tbody>\n",
       "</table>\n",
       "</div>"
      ],
      "text/plain": [
       "                                                        title   selftext  \\\n",
       "0  Free Movie Streaming Sites 2021 | No Signup &amp; Download  [removed]   \n",
       "1                             All time Comedy Movie Tier List  [removed]   \n",
       "2     Comedy Movies Tier List photo from (2008) Step Brothers  [removed]   \n",
       "3                             The little things (2021) theory  [deleted]   \n",
       "4                            The little things (2021) *shoes*  [removed]   \n",
       "\n",
       "      subreddit  created_utc            author  is_self  score  num_comments  \\\n",
       "0  MovieDetails   1614153597       Wafer_Jaded     True      1             0   \n",
       "1  MovieDetails   1614172795  TrustedMarketing     True      1             2   \n",
       "2  MovieDetails   1614172875  TrustedMarketing     True      1             4   \n",
       "3  MovieDetails   1614192363         [deleted]     True      1             2   \n",
       "4  MovieDetails   1614192478           r35p30t     True      2             4   \n",
       "\n",
       "    timestamp  \n",
       "0  2021-02-23  \n",
       "1  2021-02-24  \n",
       "2  2021-02-24  \n",
       "3  2021-02-24  \n",
       "4  2021-02-24  "
      ]
     },
     "execution_count": 25,
     "metadata": {},
     "output_type": "execute_result"
    }
   ],
   "source": [
    "movie_deets = fetch_posts('MovieDetails')\n",
    "movie_deets.head()"
   ]
  },
  {
   "cell_type": "code",
   "execution_count": null,
   "metadata": {
    "ExecuteTime": {
     "end_time": "2021-04-25T19:36:06.476846Z",
     "start_time": "2021-04-25T19:09:31.551Z"
    }
   },
   "outputs": [],
   "source": [
    "movie_deets.shape"
   ]
  },
  {
   "cell_type": "markdown",
   "metadata": {},
   "source": [
    "### Repeat this process for our second subreddit"
   ]
  },
  {
   "cell_type": "code",
   "execution_count": 29,
   "metadata": {
    "ExecuteTime": {
     "end_time": "2021-04-25T19:35:56.750298Z",
     "start_time": "2021-04-25T19:11:03.316165Z"
    }
   },
   "outputs": [
    {
     "name": "stdout",
     "output_type": "stream",
     "text": [
      "Query from timeframe: https://api.pushshift.io/reddit/search/submission?subreddit=shittymoviedetails&size=500&after=30d\n",
      "100\n",
      "Query from timeframe: https://api.pushshift.io/reddit/search/submission?subreddit=shittymoviedetails&size=500&after=60d\n",
      "200\n",
      "Query from timeframe: https://api.pushshift.io/reddit/search/submission?subreddit=shittymoviedetails&size=500&after=90d\n",
      "300\n",
      "Query from timeframe: https://api.pushshift.io/reddit/search/submission?subreddit=shittymoviedetails&size=500&after=120d\n",
      "400\n",
      "Query from timeframe: https://api.pushshift.io/reddit/search/submission?subreddit=shittymoviedetails&size=500&after=150d\n",
      "500\n",
      "Query from timeframe: https://api.pushshift.io/reddit/search/submission?subreddit=shittymoviedetails&size=500&after=180d\n",
      "600\n",
      "Query from timeframe: https://api.pushshift.io/reddit/search/submission?subreddit=shittymoviedetails&size=500&after=210d\n",
      "Query from timeframe: https://api.pushshift.io/reddit/search/submission?subreddit=shittymoviedetails&size=500&after=240d\n",
      "700\n",
      "Query from timeframe: https://api.pushshift.io/reddit/search/submission?subreddit=shittymoviedetails&size=500&after=270d\n",
      "800\n",
      "Query from timeframe: https://api.pushshift.io/reddit/search/submission?subreddit=shittymoviedetails&size=500&after=300d\n",
      "900\n",
      "Query from timeframe: https://api.pushshift.io/reddit/search/submission?subreddit=shittymoviedetails&size=500&after=330d\n",
      "1000\n",
      "Query from timeframe: https://api.pushshift.io/reddit/search/submission?subreddit=shittymoviedetails&size=500&after=360d\n",
      "1100\n",
      "Query from timeframe: https://api.pushshift.io/reddit/search/submission?subreddit=shittymoviedetails&size=500&after=390d\n",
      "1200\n",
      "Query from timeframe: https://api.pushshift.io/reddit/search/submission?subreddit=shittymoviedetails&size=500&after=420d\n",
      "1300\n",
      "Query from timeframe: https://api.pushshift.io/reddit/search/submission?subreddit=shittymoviedetails&size=500&after=450d\n",
      "1400\n",
      "Query from timeframe: https://api.pushshift.io/reddit/search/submission?subreddit=shittymoviedetails&size=500&after=480d\n",
      "1500\n",
      "Query from timeframe: https://api.pushshift.io/reddit/search/submission?subreddit=shittymoviedetails&size=500&after=510d\n",
      "1600\n",
      "Query from timeframe: https://api.pushshift.io/reddit/search/submission?subreddit=shittymoviedetails&size=500&after=540d\n",
      "1700\n",
      "Query from timeframe: https://api.pushshift.io/reddit/search/submission?subreddit=shittymoviedetails&size=500&after=570d\n",
      "1800\n",
      "Query from timeframe: https://api.pushshift.io/reddit/search/submission?subreddit=shittymoviedetails&size=500&after=600d\n",
      "1900\n",
      "Query from timeframe: https://api.pushshift.io/reddit/search/submission?subreddit=shittymoviedetails&size=500&after=630d\n",
      "2000\n",
      "Query from timeframe: https://api.pushshift.io/reddit/search/submission?subreddit=shittymoviedetails&size=500&after=660d\n",
      "2100\n",
      "Query from timeframe: https://api.pushshift.io/reddit/search/submission?subreddit=shittymoviedetails&size=500&after=690d\n",
      "2200\n",
      "Query from timeframe: https://api.pushshift.io/reddit/search/submission?subreddit=shittymoviedetails&size=500&after=720d\n",
      "2300\n",
      "Query from timeframe: https://api.pushshift.io/reddit/search/submission?subreddit=shittymoviedetails&size=500&after=750d\n",
      "2400\n",
      "Query from timeframe: https://api.pushshift.io/reddit/search/submission?subreddit=shittymoviedetails&size=500&after=780d\n",
      "2500\n",
      "Query from timeframe: https://api.pushshift.io/reddit/search/submission?subreddit=shittymoviedetails&size=500&after=810d\n",
      "2600\n",
      "Query from timeframe: https://api.pushshift.io/reddit/search/submission?subreddit=shittymoviedetails&size=500&after=840d\n",
      "2700\n",
      "Query from timeframe: https://api.pushshift.io/reddit/search/submission?subreddit=shittymoviedetails&size=500&after=870d\n",
      "2800\n",
      "Query from timeframe: https://api.pushshift.io/reddit/search/submission?subreddit=shittymoviedetails&size=500&after=900d\n",
      "2900\n",
      "Query from timeframe: https://api.pushshift.io/reddit/search/submission?subreddit=shittymoviedetails&size=500&after=930d\n",
      "3000\n",
      "Query from timeframe: https://api.pushshift.io/reddit/search/submission?subreddit=shittymoviedetails&size=500&after=960d\n",
      "3100\n",
      "Query from timeframe: https://api.pushshift.io/reddit/search/submission?subreddit=shittymoviedetails&size=500&after=990d\n",
      "3175\n",
      "Query from timeframe: https://api.pushshift.io/reddit/search/submission?subreddit=shittymoviedetails&size=500&after=1020d\n",
      "3275\n",
      "Query from timeframe: https://api.pushshift.io/reddit/search/submission?subreddit=shittymoviedetails&size=500&after=1050d\n",
      "3375\n",
      "Query from timeframe: https://api.pushshift.io/reddit/search/submission?subreddit=shittymoviedetails&size=500&after=1080d\n",
      "3475\n",
      "Query from timeframe: https://api.pushshift.io/reddit/search/submission?subreddit=shittymoviedetails&size=500&after=1110d\n",
      "3575\n",
      "Query from timeframe: https://api.pushshift.io/reddit/search/submission?subreddit=shittymoviedetails&size=500&after=1140d\n",
      "3675\n",
      "Query from timeframe: https://api.pushshift.io/reddit/search/submission?subreddit=shittymoviedetails&size=500&after=1170d\n",
      "3775\n",
      "Query from timeframe: https://api.pushshift.io/reddit/search/submission?subreddit=shittymoviedetails&size=500&after=1200d\n",
      "3875\n",
      "Query from timeframe: https://api.pushshift.io/reddit/search/submission?subreddit=shittymoviedetails&size=500&after=1230d\n",
      "3975\n",
      "Query from timeframe: https://api.pushshift.io/reddit/search/submission?subreddit=shittymoviedetails&size=500&after=1260d\n",
      "4075\n",
      "Query from timeframe: https://api.pushshift.io/reddit/search/submission?subreddit=shittymoviedetails&size=500&after=1290d\n",
      "4175\n",
      "Query from timeframe: https://api.pushshift.io/reddit/search/submission?subreddit=shittymoviedetails&size=500&after=1320d\n",
      "4275\n",
      "Query from timeframe: https://api.pushshift.io/reddit/search/submission?subreddit=shittymoviedetails&size=500&after=1350d\n",
      "4375\n",
      "Query from timeframe: https://api.pushshift.io/reddit/search/submission?subreddit=shittymoviedetails&size=500&after=1380d\n",
      "Query from timeframe: https://api.pushshift.io/reddit/search/submission?subreddit=shittymoviedetails&size=500&after=1410d\n",
      "4475\n",
      "Query from timeframe: https://api.pushshift.io/reddit/search/submission?subreddit=shittymoviedetails&size=500&after=1440d\n",
      "4575\n",
      "Query from timeframe: https://api.pushshift.io/reddit/search/submission?subreddit=shittymoviedetails&size=500&after=1470d\n",
      "4675\n",
      "Query from timeframe: https://api.pushshift.io/reddit/search/submission?subreddit=shittymoviedetails&size=500&after=1500d\n",
      "4775\n",
      "Query from timeframe: https://api.pushshift.io/reddit/search/submission?subreddit=shittymoviedetails&size=500&after=1530d\n",
      "4875\n",
      "Query from timeframe: https://api.pushshift.io/reddit/search/submission?subreddit=shittymoviedetails&size=500&after=1560d\n",
      "4975\n",
      "Query from timeframe: https://api.pushshift.io/reddit/search/submission?subreddit=shittymoviedetails&size=500&after=1590d\n",
      "5075\n",
      "Query from timeframe: https://api.pushshift.io/reddit/search/submission?subreddit=shittymoviedetails&size=500&after=1620d\n",
      "5175\n",
      "Query from timeframe: https://api.pushshift.io/reddit/search/submission?subreddit=shittymoviedetails&size=500&after=1650d\n",
      "5275\n",
      "Query from timeframe: https://api.pushshift.io/reddit/search/submission?subreddit=shittymoviedetails&size=500&after=1680d\n",
      "5375\n",
      "Query from timeframe: https://api.pushshift.io/reddit/search/submission?subreddit=shittymoviedetails&size=500&after=1710d\n",
      "5475\n",
      "Query from timeframe: https://api.pushshift.io/reddit/search/submission?subreddit=shittymoviedetails&size=500&after=1740d\n",
      "5575\n",
      "Query from timeframe: https://api.pushshift.io/reddit/search/submission?subreddit=shittymoviedetails&size=500&after=1770d\n",
      "5675\n",
      "Query from timeframe: https://api.pushshift.io/reddit/search/submission?subreddit=shittymoviedetails&size=500&after=1800d\n",
      "5775\n",
      "Query from timeframe: https://api.pushshift.io/reddit/search/submission?subreddit=shittymoviedetails&size=500&after=1830d\n",
      "5875\n",
      "Query from timeframe: https://api.pushshift.io/reddit/search/submission?subreddit=shittymoviedetails&size=500&after=1860d\n",
      "5975\n",
      "Query from timeframe: https://api.pushshift.io/reddit/search/submission?subreddit=shittymoviedetails&size=500&after=1890d\n",
      "6075\n",
      "Query from timeframe: https://api.pushshift.io/reddit/search/submission?subreddit=shittymoviedetails&size=500&after=1920d\n",
      "6175\n",
      "Query from timeframe: https://api.pushshift.io/reddit/search/submission?subreddit=shittymoviedetails&size=500&after=1950d\n"
     ]
    },
    {
     "name": "stdout",
     "output_type": "stream",
     "text": [
      "6275\n",
      "Query from timeframe: https://api.pushshift.io/reddit/search/submission?subreddit=shittymoviedetails&size=500&after=1980d\n",
      "6375\n",
      "Query from timeframe: https://api.pushshift.io/reddit/search/submission?subreddit=shittymoviedetails&size=500&after=2010d\n",
      "6475\n",
      "Query from timeframe: https://api.pushshift.io/reddit/search/submission?subreddit=shittymoviedetails&size=500&after=2040d\n",
      "6575\n",
      "Query from timeframe: https://api.pushshift.io/reddit/search/submission?subreddit=shittymoviedetails&size=500&after=2070d\n",
      "6675\n",
      "Query from timeframe: https://api.pushshift.io/reddit/search/submission?subreddit=shittymoviedetails&size=500&after=2100d\n",
      "6775\n",
      "Query from timeframe: https://api.pushshift.io/reddit/search/submission?subreddit=shittymoviedetails&size=500&after=2130d\n",
      "6875\n",
      "Query from timeframe: https://api.pushshift.io/reddit/search/submission?subreddit=shittymoviedetails&size=500&after=2160d\n",
      "6975\n",
      "Query from timeframe: https://api.pushshift.io/reddit/search/submission?subreddit=shittymoviedetails&size=500&after=2190d\n",
      "7075\n",
      "Query from timeframe: https://api.pushshift.io/reddit/search/submission?subreddit=shittymoviedetails&size=500&after=2220d\n",
      "7175\n",
      "Query from timeframe: https://api.pushshift.io/reddit/search/submission?subreddit=shittymoviedetails&size=500&after=2250d\n",
      "7275\n",
      "Query from timeframe: https://api.pushshift.io/reddit/search/submission?subreddit=shittymoviedetails&size=500&after=2280d\n",
      "7375\n",
      "Query from timeframe: https://api.pushshift.io/reddit/search/submission?subreddit=shittymoviedetails&size=500&after=2310d\n",
      "7475\n",
      "Query from timeframe: https://api.pushshift.io/reddit/search/submission?subreddit=shittymoviedetails&size=500&after=2340d\n",
      "7575\n",
      "Query from timeframe: https://api.pushshift.io/reddit/search/submission?subreddit=shittymoviedetails&size=500&after=2370d\n",
      "7675\n",
      "Query from timeframe: https://api.pushshift.io/reddit/search/submission?subreddit=shittymoviedetails&size=500&after=2400d\n",
      "7775\n",
      "Query from timeframe: https://api.pushshift.io/reddit/search/submission?subreddit=shittymoviedetails&size=500&after=2430d\n",
      "7875\n",
      "Query from timeframe: https://api.pushshift.io/reddit/search/submission?subreddit=shittymoviedetails&size=500&after=2460d\n",
      "7975\n",
      "Query from timeframe: https://api.pushshift.io/reddit/search/submission?subreddit=shittymoviedetails&size=500&after=2490d\n",
      "8075\n",
      "Query from timeframe: https://api.pushshift.io/reddit/search/submission?subreddit=shittymoviedetails&size=500&after=2520d\n",
      "8175\n",
      "Query from timeframe: https://api.pushshift.io/reddit/search/submission?subreddit=shittymoviedetails&size=500&after=2550d\n",
      "8275\n",
      "Query from timeframe: https://api.pushshift.io/reddit/search/submission?subreddit=shittymoviedetails&size=500&after=2580d\n",
      "Query from timeframe: https://api.pushshift.io/reddit/search/submission?subreddit=shittymoviedetails&size=500&after=2610d\n",
      "8375\n",
      "Query from timeframe: https://api.pushshift.io/reddit/search/submission?subreddit=shittymoviedetails&size=500&after=2640d\n",
      "8475\n",
      "Query from timeframe: https://api.pushshift.io/reddit/search/submission?subreddit=shittymoviedetails&size=500&after=2670d\n",
      "8575\n",
      "Query from timeframe: https://api.pushshift.io/reddit/search/submission?subreddit=shittymoviedetails&size=500&after=2700d\n",
      "8675\n",
      "Query from timeframe: https://api.pushshift.io/reddit/search/submission?subreddit=shittymoviedetails&size=500&after=2730d\n",
      "8775\n",
      "Query from timeframe: https://api.pushshift.io/reddit/search/submission?subreddit=shittymoviedetails&size=500&after=2760d\n",
      "8875\n",
      "Query from timeframe: https://api.pushshift.io/reddit/search/submission?subreddit=shittymoviedetails&size=500&after=2790d\n",
      "8975\n",
      "Query from timeframe: https://api.pushshift.io/reddit/search/submission?subreddit=shittymoviedetails&size=500&after=2820d\n",
      "Query from timeframe: https://api.pushshift.io/reddit/search/submission?subreddit=shittymoviedetails&size=500&after=2850d\n",
      "9075\n",
      "Query from timeframe: https://api.pushshift.io/reddit/search/submission?subreddit=shittymoviedetails&size=500&after=2880d\n",
      "9175\n",
      "Query from timeframe: https://api.pushshift.io/reddit/search/submission?subreddit=shittymoviedetails&size=500&after=2910d\n",
      "9275\n",
      "Query from timeframe: https://api.pushshift.io/reddit/search/submission?subreddit=shittymoviedetails&size=500&after=2940d\n",
      "9375\n",
      "Query from timeframe: https://api.pushshift.io/reddit/search/submission?subreddit=shittymoviedetails&size=500&after=2970d\n",
      "9475\n",
      "Query from timeframe: https://api.pushshift.io/reddit/search/submission?subreddit=shittymoviedetails&size=500&after=3000d\n",
      "9575\n",
      "Query from timeframe: https://api.pushshift.io/reddit/search/submission?subreddit=shittymoviedetails&size=500&after=3030d\n",
      "9675\n",
      "Query from timeframe: https://api.pushshift.io/reddit/search/submission?subreddit=shittymoviedetails&size=500&after=3060d\n",
      "9775\n",
      "Query from timeframe: https://api.pushshift.io/reddit/search/submission?subreddit=shittymoviedetails&size=500&after=3090d\n",
      "9875\n",
      "Query from timeframe: https://api.pushshift.io/reddit/search/submission?subreddit=shittymoviedetails&size=500&after=3120d\n",
      "9975\n",
      "Query from timeframe: https://api.pushshift.io/reddit/search/submission?subreddit=shittymoviedetails&size=500&after=3150d\n",
      "10075\n",
      "Query from timeframe: https://api.pushshift.io/reddit/search/submission?subreddit=shittymoviedetails&size=500&after=3180d\n",
      "10175\n",
      "Query from timeframe: https://api.pushshift.io/reddit/search/submission?subreddit=shittymoviedetails&size=500&after=3210d\n",
      "10275\n",
      "Query from timeframe: https://api.pushshift.io/reddit/search/submission?subreddit=shittymoviedetails&size=500&after=3240d\n",
      "Query from timeframe: https://api.pushshift.io/reddit/search/submission?subreddit=shittymoviedetails&size=500&after=3270d\n",
      "10375\n",
      "Query from timeframe: https://api.pushshift.io/reddit/search/submission?subreddit=shittymoviedetails&size=500&after=3300d\n",
      "10475\n",
      "Query from timeframe: https://api.pushshift.io/reddit/search/submission?subreddit=shittymoviedetails&size=500&after=3330d\n",
      "10575\n",
      "Query from timeframe: https://api.pushshift.io/reddit/search/submission?subreddit=shittymoviedetails&size=500&after=3360d\n",
      "10675\n",
      "Query from timeframe: https://api.pushshift.io/reddit/search/submission?subreddit=shittymoviedetails&size=500&after=3390d\n",
      "10775\n",
      "Query from timeframe: https://api.pushshift.io/reddit/search/submission?subreddit=shittymoviedetails&size=500&after=3420d\n",
      "10875\n",
      "Query from timeframe: https://api.pushshift.io/reddit/search/submission?subreddit=shittymoviedetails&size=500&after=3450d\n",
      "10975\n",
      "Query from timeframe: https://api.pushshift.io/reddit/search/submission?subreddit=shittymoviedetails&size=500&after=3480d\n",
      "11075\n",
      "Query from timeframe: https://api.pushshift.io/reddit/search/submission?subreddit=shittymoviedetails&size=500&after=3510d\n",
      "11175\n",
      "Query from timeframe: https://api.pushshift.io/reddit/search/submission?subreddit=shittymoviedetails&size=500&after=3540d\n",
      "11275\n",
      "Query from timeframe: https://api.pushshift.io/reddit/search/submission?subreddit=shittymoviedetails&size=500&after=3570d\n",
      "11375\n",
      "Query from timeframe: https://api.pushshift.io/reddit/search/submission?subreddit=shittymoviedetails&size=500&after=3600d\n",
      "11475\n",
      "Query from timeframe: https://api.pushshift.io/reddit/search/submission?subreddit=shittymoviedetails&size=500&after=3630d\n",
      "11575\n",
      "Query from timeframe: https://api.pushshift.io/reddit/search/submission?subreddit=shittymoviedetails&size=500&after=3660d\n",
      "11675\n",
      "Query from timeframe: https://api.pushshift.io/reddit/search/submission?subreddit=shittymoviedetails&size=500&after=3690d\n",
      "11775\n",
      "Query from timeframe: https://api.pushshift.io/reddit/search/submission?subreddit=shittymoviedetails&size=500&after=3720d\n",
      "11875\n",
      "Query from timeframe: https://api.pushshift.io/reddit/search/submission?subreddit=shittymoviedetails&size=500&after=3750d\n",
      "11975\n",
      "Query from timeframe: https://api.pushshift.io/reddit/search/submission?subreddit=shittymoviedetails&size=500&after=3780d\n",
      "12075\n",
      "Query from timeframe: https://api.pushshift.io/reddit/search/submission?subreddit=shittymoviedetails&size=500&after=3810d\n",
      "12175\n",
      "Query from timeframe: https://api.pushshift.io/reddit/search/submission?subreddit=shittymoviedetails&size=500&after=3840d\n",
      "12275\n",
      "Query from timeframe: https://api.pushshift.io/reddit/search/submission?subreddit=shittymoviedetails&size=500&after=3870d\n",
      "12375\n",
      "Query from timeframe: https://api.pushshift.io/reddit/search/submission?subreddit=shittymoviedetails&size=500&after=3900d\n"
     ]
    },
    {
     "name": "stdout",
     "output_type": "stream",
     "text": [
      "Query from timeframe: https://api.pushshift.io/reddit/search/submission?subreddit=shittymoviedetails&size=500&after=3930d\n",
      "12475\n",
      "Query from timeframe: https://api.pushshift.io/reddit/search/submission?subreddit=shittymoviedetails&size=500&after=3960d\n",
      "12575\n",
      "Query from timeframe: https://api.pushshift.io/reddit/search/submission?subreddit=shittymoviedetails&size=500&after=3990d\n",
      "12675\n",
      "Query from timeframe: https://api.pushshift.io/reddit/search/submission?subreddit=shittymoviedetails&size=500&after=4020d\n",
      "12775\n",
      "Query from timeframe: https://api.pushshift.io/reddit/search/submission?subreddit=shittymoviedetails&size=500&after=4050d\n",
      "12875\n",
      "Query from timeframe: https://api.pushshift.io/reddit/search/submission?subreddit=shittymoviedetails&size=500&after=4080d\n",
      "12975\n",
      "Query from timeframe: https://api.pushshift.io/reddit/search/submission?subreddit=shittymoviedetails&size=500&after=4110d\n",
      "13075\n",
      "Query from timeframe: https://api.pushshift.io/reddit/search/submission?subreddit=shittymoviedetails&size=500&after=4140d\n",
      "13175\n",
      "Query from timeframe: https://api.pushshift.io/reddit/search/submission?subreddit=shittymoviedetails&size=500&after=4170d\n",
      "13275\n",
      "Query from timeframe: https://api.pushshift.io/reddit/search/submission?subreddit=shittymoviedetails&size=500&after=4200d\n",
      "13375\n",
      "Query from timeframe: https://api.pushshift.io/reddit/search/submission?subreddit=shittymoviedetails&size=500&after=4230d\n",
      "13475\n",
      "Query from timeframe: https://api.pushshift.io/reddit/search/submission?subreddit=shittymoviedetails&size=500&after=4260d\n",
      "13575\n",
      "Query from timeframe: https://api.pushshift.io/reddit/search/submission?subreddit=shittymoviedetails&size=500&after=4290d\n",
      "13675\n",
      "Query from timeframe: https://api.pushshift.io/reddit/search/submission?subreddit=shittymoviedetails&size=500&after=4320d\n",
      "13775\n",
      "Query from timeframe: https://api.pushshift.io/reddit/search/submission?subreddit=shittymoviedetails&size=500&after=4350d\n",
      "13875\n",
      "Query from timeframe: https://api.pushshift.io/reddit/search/submission?subreddit=shittymoviedetails&size=500&after=4380d\n",
      "13975\n",
      "Query from timeframe: https://api.pushshift.io/reddit/search/submission?subreddit=shittymoviedetails&size=500&after=4410d\n",
      "14075\n",
      "Query from timeframe: https://api.pushshift.io/reddit/search/submission?subreddit=shittymoviedetails&size=500&after=4440d\n",
      "14175\n",
      "Query from timeframe: https://api.pushshift.io/reddit/search/submission?subreddit=shittymoviedetails&size=500&after=4470d\n",
      "14275\n",
      "Query from timeframe: https://api.pushshift.io/reddit/search/submission?subreddit=shittymoviedetails&size=500&after=4500d\n",
      "14375\n",
      "Query from timeframe: https://api.pushshift.io/reddit/search/submission?subreddit=shittymoviedetails&size=500&after=4530d\n",
      "14475\n",
      "Query from timeframe: https://api.pushshift.io/reddit/search/submission?subreddit=shittymoviedetails&size=500&after=4560d\n",
      "14575\n",
      "Query from timeframe: https://api.pushshift.io/reddit/search/submission?subreddit=shittymoviedetails&size=500&after=4590d\n",
      "14675\n",
      "Query from timeframe: https://api.pushshift.io/reddit/search/submission?subreddit=shittymoviedetails&size=500&after=4620d\n",
      "14775\n",
      "Query from timeframe: https://api.pushshift.io/reddit/search/submission?subreddit=shittymoviedetails&size=500&after=4650d\n",
      "14875\n",
      "Query from timeframe: https://api.pushshift.io/reddit/search/submission?subreddit=shittymoviedetails&size=500&after=4680d\n",
      "14975\n",
      "Query from timeframe: https://api.pushshift.io/reddit/search/submission?subreddit=shittymoviedetails&size=500&after=4710d\n",
      "15075\n",
      "Query from timeframe: https://api.pushshift.io/reddit/search/submission?subreddit=shittymoviedetails&size=500&after=4740d\n",
      "15175\n",
      "Query from timeframe: https://api.pushshift.io/reddit/search/submission?subreddit=shittymoviedetails&size=500&after=4770d\n",
      "15275\n",
      "Query from timeframe: https://api.pushshift.io/reddit/search/submission?subreddit=shittymoviedetails&size=500&after=4800d\n",
      "15375\n",
      "Query from timeframe: https://api.pushshift.io/reddit/search/submission?subreddit=shittymoviedetails&size=500&after=4830d\n",
      "15475\n",
      "Query from timeframe: https://api.pushshift.io/reddit/search/submission?subreddit=shittymoviedetails&size=500&after=4860d\n",
      "15575\n",
      "Query from timeframe: https://api.pushshift.io/reddit/search/submission?subreddit=shittymoviedetails&size=500&after=4890d\n",
      "15675\n",
      "Query from timeframe: https://api.pushshift.io/reddit/search/submission?subreddit=shittymoviedetails&size=500&after=4920d\n",
      "15775\n",
      "Query from timeframe: https://api.pushshift.io/reddit/search/submission?subreddit=shittymoviedetails&size=500&after=4950d\n",
      "15875\n",
      "Query from timeframe: https://api.pushshift.io/reddit/search/submission?subreddit=shittymoviedetails&size=500&after=4980d\n",
      "15975\n",
      "Query from timeframe: https://api.pushshift.io/reddit/search/submission?subreddit=shittymoviedetails&size=500&after=5010d\n",
      "16075\n",
      "Query from timeframe: https://api.pushshift.io/reddit/search/submission?subreddit=shittymoviedetails&size=500&after=5040d\n",
      "16175\n",
      "Query from timeframe: https://api.pushshift.io/reddit/search/submission?subreddit=shittymoviedetails&size=500&after=5070d\n",
      "16275\n",
      "Query from timeframe: https://api.pushshift.io/reddit/search/submission?subreddit=shittymoviedetails&size=500&after=5100d\n",
      "16375\n",
      "Query from timeframe: https://api.pushshift.io/reddit/search/submission?subreddit=shittymoviedetails&size=500&after=5130d\n",
      "16475\n",
      "Query from timeframe: https://api.pushshift.io/reddit/search/submission?subreddit=shittymoviedetails&size=500&after=5160d\n",
      "16575\n",
      "Query from timeframe: https://api.pushshift.io/reddit/search/submission?subreddit=shittymoviedetails&size=500&after=5190d\n",
      "16675\n",
      "Query from timeframe: https://api.pushshift.io/reddit/search/submission?subreddit=shittymoviedetails&size=500&after=5220d\n",
      "16775\n",
      "Query from timeframe: https://api.pushshift.io/reddit/search/submission?subreddit=shittymoviedetails&size=500&after=5250d\n",
      "16875\n",
      "Query from timeframe: https://api.pushshift.io/reddit/search/submission?subreddit=shittymoviedetails&size=500&after=5280d\n",
      "16975\n",
      "Query from timeframe: https://api.pushshift.io/reddit/search/submission?subreddit=shittymoviedetails&size=500&after=5310d\n",
      "17075\n",
      "Query from timeframe: https://api.pushshift.io/reddit/search/submission?subreddit=shittymoviedetails&size=500&after=5340d\n",
      "17175\n",
      "Query from timeframe: https://api.pushshift.io/reddit/search/submission?subreddit=shittymoviedetails&size=500&after=5370d\n",
      "17275\n",
      "Query from timeframe: https://api.pushshift.io/reddit/search/submission?subreddit=shittymoviedetails&size=500&after=5400d\n",
      "17375\n",
      "Query from timeframe: https://api.pushshift.io/reddit/search/submission?subreddit=shittymoviedetails&size=500&after=5430d\n",
      "17475\n",
      "Query from timeframe: https://api.pushshift.io/reddit/search/submission?subreddit=shittymoviedetails&size=500&after=5460d\n",
      "17575\n",
      "Query from timeframe: https://api.pushshift.io/reddit/search/submission?subreddit=shittymoviedetails&size=500&after=5490d\n",
      "17675\n",
      "Query from timeframe: https://api.pushshift.io/reddit/search/submission?subreddit=shittymoviedetails&size=500&after=5520d\n",
      "17775\n",
      "Query from timeframe: https://api.pushshift.io/reddit/search/submission?subreddit=shittymoviedetails&size=500&after=5550d\n",
      "17875\n",
      "Query from timeframe: https://api.pushshift.io/reddit/search/submission?subreddit=shittymoviedetails&size=500&after=5580d\n",
      "17975\n",
      "Query from timeframe: https://api.pushshift.io/reddit/search/submission?subreddit=shittymoviedetails&size=500&after=5610d\n",
      "18075\n",
      "Query from timeframe: https://api.pushshift.io/reddit/search/submission?subreddit=shittymoviedetails&size=500&after=5640d\n",
      "18175\n",
      "Query from timeframe: https://api.pushshift.io/reddit/search/submission?subreddit=shittymoviedetails&size=500&after=5670d\n",
      "Query from timeframe: https://api.pushshift.io/reddit/search/submission?subreddit=shittymoviedetails&size=500&after=5700d\n",
      "18275\n",
      "Query from timeframe: https://api.pushshift.io/reddit/search/submission?subreddit=shittymoviedetails&size=500&after=5730d\n",
      "18375\n",
      "Query from timeframe: https://api.pushshift.io/reddit/search/submission?subreddit=shittymoviedetails&size=500&after=5760d\n",
      "18475\n",
      "Query from timeframe: https://api.pushshift.io/reddit/search/submission?subreddit=shittymoviedetails&size=500&after=5790d\n",
      "18575\n",
      "Query from timeframe: https://api.pushshift.io/reddit/search/submission?subreddit=shittymoviedetails&size=500&after=5820d\n",
      "18675\n",
      "Query from timeframe: https://api.pushshift.io/reddit/search/submission?subreddit=shittymoviedetails&size=500&after=5850d\n"
     ]
    },
    {
     "name": "stdout",
     "output_type": "stream",
     "text": [
      "18775\n",
      "Query from timeframe: https://api.pushshift.io/reddit/search/submission?subreddit=shittymoviedetails&size=500&after=5880d\n",
      "18875\n",
      "Query from timeframe: https://api.pushshift.io/reddit/search/submission?subreddit=shittymoviedetails&size=500&after=5910d\n",
      "18975\n",
      "Query from timeframe: https://api.pushshift.io/reddit/search/submission?subreddit=shittymoviedetails&size=500&after=5940d\n",
      "19075\n",
      "Query from timeframe: https://api.pushshift.io/reddit/search/submission?subreddit=shittymoviedetails&size=500&after=5970d\n",
      "19175\n",
      "Query from timeframe: https://api.pushshift.io/reddit/search/submission?subreddit=shittymoviedetails&size=500&after=6000d\n",
      "19275\n",
      "Query from timeframe: https://api.pushshift.io/reddit/search/submission?subreddit=shittymoviedetails&size=500&after=6030d\n",
      "19375\n",
      "Query from timeframe: https://api.pushshift.io/reddit/search/submission?subreddit=shittymoviedetails&size=500&after=6060d\n",
      "19475\n",
      "Query from timeframe: https://api.pushshift.io/reddit/search/submission?subreddit=shittymoviedetails&size=500&after=6090d\n",
      "19575\n",
      "Query from timeframe: https://api.pushshift.io/reddit/search/submission?subreddit=shittymoviedetails&size=500&after=6120d\n",
      "19675\n",
      "Query from timeframe: https://api.pushshift.io/reddit/search/submission?subreddit=shittymoviedetails&size=500&after=6150d\n",
      "19775\n",
      "Query from timeframe: https://api.pushshift.io/reddit/search/submission?subreddit=shittymoviedetails&size=500&after=6180d\n",
      "19875\n",
      "Query from timeframe: https://api.pushshift.io/reddit/search/submission?subreddit=shittymoviedetails&size=500&after=6210d\n",
      "19975\n",
      "Query from timeframe: https://api.pushshift.io/reddit/search/submission?subreddit=shittymoviedetails&size=500&after=6240d\n",
      "20075\n",
      "(253, 8)\n",
      "(253, 9)\n"
     ]
    },
    {
     "data": {
      "text/html": [
       "<div>\n",
       "<style scoped>\n",
       "    .dataframe tbody tr th:only-of-type {\n",
       "        vertical-align: middle;\n",
       "    }\n",
       "\n",
       "    .dataframe tbody tr th {\n",
       "        vertical-align: top;\n",
       "    }\n",
       "\n",
       "    .dataframe thead th {\n",
       "        text-align: right;\n",
       "    }\n",
       "</style>\n",
       "<table border=\"1\" class=\"dataframe\">\n",
       "  <thead>\n",
       "    <tr style=\"text-align: right;\">\n",
       "      <th></th>\n",
       "      <th>title</th>\n",
       "      <th>selftext</th>\n",
       "      <th>subreddit</th>\n",
       "      <th>created_utc</th>\n",
       "      <th>author</th>\n",
       "      <th>is_self</th>\n",
       "      <th>score</th>\n",
       "      <th>num_comments</th>\n",
       "      <th>timestamp</th>\n",
       "    </tr>\n",
       "  </thead>\n",
       "  <tbody>\n",
       "    <tr>\n",
       "      <th>0</th>\n",
       "      <td>Question, is this a sub to make fun of movies ? Sarcastically?</td>\n",
       "      <td></td>\n",
       "      <td>shittymoviedetails</td>\n",
       "      <td>1616877480</td>\n",
       "      <td>ExpensiveIngenuity1</td>\n",
       "      <td>True</td>\n",
       "      <td>1</td>\n",
       "      <td>1</td>\n",
       "      <td>2021-03-27</td>\n",
       "    </tr>\n",
       "    <tr>\n",
       "      <th>1</th>\n",
       "      <td>If you ever feel useless, just remember...</td>\n",
       "      <td>In Finding Nemo, the fish students get on a jellyfish’s back like a bus. Not like they can’t swim.</td>\n",
       "      <td>shittymoviedetails</td>\n",
       "      <td>1616914691</td>\n",
       "      <td>k1ckstarteer</td>\n",
       "      <td>True</td>\n",
       "      <td>1</td>\n",
       "      <td>3</td>\n",
       "      <td>2021-03-27</td>\n",
       "    </tr>\n",
       "    <tr>\n",
       "      <th>2</th>\n",
       "      <td>In the second episode of The Falcon and the Winter Soldier, the new Captain America throws his shield to break his sidekick's fall off of a speeding truck. This is because his sidekick is from IKE...</td>\n",
       "      <td></td>\n",
       "      <td>shittymoviedetails</td>\n",
       "      <td>1616953328</td>\n",
       "      <td>sometimesavowel</td>\n",
       "      <td>True</td>\n",
       "      <td>1</td>\n",
       "      <td>0</td>\n",
       "      <td>2021-03-28</td>\n",
       "    </tr>\n",
       "    <tr>\n",
       "      <th>3</th>\n",
       "      <td>Kubrick's The Shining (1980) Was Named So Due to the Incessant Glare from Nicholson's Balding Head.</td>\n",
       "      <td>For only $25.85, you too can 'cosplay' Jack Torrance.\\n\\nhttps://www.ebay.com/itm/Brown-Bob-Wig-Bald-Head-for-Cosplay-The-Shining-Jack-Nicholson-Costume-HM-664-/183269829335?mkevt=1&amp;amp;mkcid=1&amp;am...</td>\n",
       "      <td>shittymoviedetails</td>\n",
       "      <td>1616961963</td>\n",
       "      <td>5pez__A</td>\n",
       "      <td>True</td>\n",
       "      <td>0</td>\n",
       "      <td>0</td>\n",
       "      <td>2021-03-28</td>\n",
       "    </tr>\n",
       "    <tr>\n",
       "      <th>4</th>\n",
       "      <td>Christopher walken awakens from a coma with the ability of second sight in the movie \"the dead zone\", in the movie he talks about the book, \"the legend of sleepy hollow\".</td>\n",
       "      <td>This is because he really does have second sight and knew that in the 1999 release of the movie, based on the book, he would be playing the part of the headless horseman and wanted to create some ...</td>\n",
       "      <td>shittymoviedetails</td>\n",
       "      <td>1617011798</td>\n",
       "      <td>40andbored</td>\n",
       "      <td>True</td>\n",
       "      <td>1</td>\n",
       "      <td>0</td>\n",
       "      <td>2021-03-29</td>\n",
       "    </tr>\n",
       "  </tbody>\n",
       "</table>\n",
       "</div>"
      ],
      "text/plain": [
       "                                                                                                                                                                                                     title  \\\n",
       "0                                                                                                                                           Question, is this a sub to make fun of movies ? Sarcastically?   \n",
       "1                                                                                                                                                               If you ever feel useless, just remember...   \n",
       "2  In the second episode of The Falcon and the Winter Soldier, the new Captain America throws his shield to break his sidekick's fall off of a speeding truck. This is because his sidekick is from IKE...   \n",
       "3                                                                                                      Kubrick's The Shining (1980) Was Named So Due to the Incessant Glare from Nicholson's Balding Head.   \n",
       "4                               Christopher walken awakens from a coma with the ability of second sight in the movie \"the dead zone\", in the movie he talks about the book, \"the legend of sleepy hollow\".   \n",
       "\n",
       "                                                                                                                                                                                                  selftext  \\\n",
       "0                                                                                                                                                                                                            \n",
       "1                                                                                                       In Finding Nemo, the fish students get on a jellyfish’s back like a bus. Not like they can’t swim.   \n",
       "2                                                                                                                                                                                                            \n",
       "3  For only $25.85, you too can 'cosplay' Jack Torrance.\\n\\nhttps://www.ebay.com/itm/Brown-Bob-Wig-Bald-Head-for-Cosplay-The-Shining-Jack-Nicholson-Costume-HM-664-/183269829335?mkevt=1&amp;mkcid=1&am...   \n",
       "4  This is because he really does have second sight and knew that in the 1999 release of the movie, based on the book, he would be playing the part of the headless horseman and wanted to create some ...   \n",
       "\n",
       "            subreddit  created_utc               author  is_self  score  \\\n",
       "0  shittymoviedetails   1616877480  ExpensiveIngenuity1     True      1   \n",
       "1  shittymoviedetails   1616914691         k1ckstarteer     True      1   \n",
       "2  shittymoviedetails   1616953328      sometimesavowel     True      1   \n",
       "3  shittymoviedetails   1616961963              5pez__A     True      0   \n",
       "4  shittymoviedetails   1617011798           40andbored     True      1   \n",
       "\n",
       "   num_comments   timestamp  \n",
       "0             1  2021-03-27  \n",
       "1             3  2021-03-27  \n",
       "2             0  2021-03-28  \n",
       "3             0  2021-03-28  \n",
       "4             0  2021-03-29  "
      ]
     },
     "execution_count": 29,
     "metadata": {},
     "output_type": "execute_result"
    }
   ],
   "source": [
    "bad_deets = fetch_posts('shittymoviedetails')\n",
    "print(bad_deets.shape)\n",
    "bad_deets.head()"
   ]
  },
  {
   "cell_type": "code",
   "execution_count": null,
   "metadata": {
    "ExecuteTime": {
     "end_time": "2021-04-25T19:36:06.369485Z",
     "start_time": "2021-04-25T19:08:59.745Z"
    }
   },
   "outputs": [],
   "source": [
    "bad_deets.shape"
   ]
  },
  {
   "cell_type": "markdown",
   "metadata": {},
   "source": [
    "### Output the dataframes!"
   ]
  },
  {
   "cell_type": "code",
   "execution_count": 31,
   "metadata": {
    "ExecuteTime": {
     "end_time": "2021-04-25T19:35:56.831784Z",
     "start_time": "2021-04-25T19:35:56.782248Z"
    }
   },
   "outputs": [],
   "source": [
    "movie_deets.to_csv('../data_outputs/good_movie_deets.csv', index=False)\n",
    "bad_deets.to_csv('../data_outputs/bad_movie_deets.csv', index=False)"
   ]
  },
  {
   "cell_type": "markdown",
   "metadata": {},
   "source": [
    "## Cleaning and EDA"
   ]
  },
  {
   "cell_type": "markdown",
   "metadata": {},
   "source": [
    "Let's look at basic stats about our data."
   ]
  },
  {
   "cell_type": "code",
   "execution_count": 32,
   "metadata": {
    "ExecuteTime": {
     "end_time": "2021-04-25T19:35:56.841690Z",
     "start_time": "2021-04-25T19:35:56.833697Z"
    }
   },
   "outputs": [],
   "source": [
    "#<df>.isnull().sum()"
   ]
  },
  {
   "cell_type": "markdown",
   "metadata": {},
   "source": [
    "Let's understand the density and usefulness of our content, by analyzing the volume of comments and looking for the richness of the text-heavy columns we are expecting.\n",
    "\n",
    "We are also going to see, whether there are any interesting prospective features for training our models."
   ]
  },
  {
   "cell_type": "code",
   "execution_count": 33,
   "metadata": {
    "ExecuteTime": {
     "end_time": "2021-04-25T19:35:56.850957Z",
     "start_time": "2021-04-25T19:35:56.847503Z"
    },
    "scrolled": true
   },
   "outputs": [],
   "source": [
    "#<df>['num_comments'].value_counts()"
   ]
  },
  {
   "cell_type": "code",
   "execution_count": 34,
   "metadata": {
    "ExecuteTime": {
     "end_time": "2021-04-25T19:35:56.912051Z",
     "start_time": "2021-04-25T19:35:56.890906Z"
    }
   },
   "outputs": [],
   "source": [
    "#check for post density\n",
    "#<df>['selftext'].value_counts()"
   ]
  },
  {
   "cell_type": "code",
   "execution_count": 35,
   "metadata": {
    "ExecuteTime": {
     "end_time": "2021-04-25T19:35:56.919058Z",
     "start_time": "2021-04-25T19:35:56.914422Z"
    }
   },
   "outputs": [],
   "source": [
    "#<df>['title'].value_counts()"
   ]
  },
  {
   "cell_type": "code",
   "execution_count": 36,
   "metadata": {
    "ExecuteTime": {
     "end_time": "2021-04-25T19:35:56.930409Z",
     "start_time": "2021-04-25T19:35:56.925501Z"
    }
   },
   "outputs": [],
   "source": [
    "#<df>['author'].value_counts() #get only unique"
   ]
  },
  {
   "cell_type": "markdown",
   "metadata": {},
   "source": [
    "## NLP & feature eng"
   ]
  },
  {
   "cell_type": "markdown",
   "metadata": {},
   "source": [
    "### Word analysis"
   ]
  },
  {
   "cell_type": "code",
   "execution_count": 37,
   "metadata": {
    "ExecuteTime": {
     "end_time": "2021-04-25T19:35:56.940228Z",
     "start_time": "2021-04-25T19:35:56.935640Z"
    }
   },
   "outputs": [],
   "source": [
    "#word freq\n",
    "#vectorize self-text"
   ]
  },
  {
   "cell_type": "code",
   "execution_count": 38,
   "metadata": {
    "ExecuteTime": {
     "end_time": "2021-04-25T19:35:56.947726Z",
     "start_time": "2021-04-25T19:35:56.943275Z"
    }
   },
   "outputs": [],
   "source": [
    "#sentiment"
   ]
  },
  {
   "cell_type": "code",
   "execution_count": null,
   "metadata": {},
   "outputs": [],
   "source": []
  }
 ],
 "metadata": {
  "kernelspec": {
   "display_name": "Python 3",
   "language": "python",
   "name": "python3"
  },
  "latex_envs": {
   "LaTeX_envs_menu_present": true,
   "autoclose": false,
   "autocomplete": true,
   "bibliofile": "biblio.bib",
   "cite_by": "apalike",
   "current_citInitial": 1,
   "eqLabelWithNumbers": true,
   "eqNumInitial": 1,
   "hotkeys": {
    "equation": "Ctrl-E",
    "itemize": "Ctrl-I"
   },
   "labels_anchors": false,
   "latex_user_defs": false,
   "report_style_numbering": false,
   "user_envs_cfg": false
  },
  "toc": {
   "base_numbering": 1,
   "nav_menu": {},
   "number_sections": true,
   "sideBar": true,
   "skip_h1_title": false,
   "title_cell": "Table of Contents",
   "title_sidebar": "Contents",
   "toc_cell": false,
   "toc_position": {},
   "toc_section_display": true,
   "toc_window_display": true
  },
  "varInspector": {
   "cols": {
    "lenName": 16,
    "lenType": 16,
    "lenVar": 40
   },
   "kernels_config": {
    "python": {
     "delete_cmd_postfix": "",
     "delete_cmd_prefix": "del ",
     "library": "var_list.py",
     "varRefreshCmd": "print(var_dic_list())"
    },
    "r": {
     "delete_cmd_postfix": ") ",
     "delete_cmd_prefix": "rm(",
     "library": "var_list.r",
     "varRefreshCmd": "cat(var_dic_list()) "
    }
   },
   "types_to_exclude": [
    "module",
    "function",
    "builtin_function_or_method",
    "instance",
    "_Feature"
   ],
   "window_display": false
  }
 },
 "nbformat": 4,
 "nbformat_minor": 4
}

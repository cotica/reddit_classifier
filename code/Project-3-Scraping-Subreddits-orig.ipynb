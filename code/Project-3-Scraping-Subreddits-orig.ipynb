{
 "cells": [
  {
   "cell_type": "markdown",
   "metadata": {},
   "source": [
    "# Scraping subreddits\n",
    "\n",
    "\n",
    "## Problem statement\n",
    "---\n",
    "We are producing a trivia focused, _Jeopardy_ or _Who Wants to Be a Millionaire_* style game show, where we want the audience to guess the source of the movie details. Everything is scrambled together! The task: figure out if the details came from good movie details, or whether the movie production team took a shorcut and landed in Sh**ty Movie Details!\n",
    "\n",
    "*Trademarks of their appropiate productions\n",
    "\n",
    "To do this, we are going to solve the problem using a classifer trained on some subreddit data.\n",
    "\n",
    "_Thanks to Gwen Rathgeber for some inspiration during the quest for a compelling problem statement!_\n",
    "\n",
    "![](https://www.bigraildiversity.co.uk/wp-content/uploads/2018/10/Night-at-the-Movies-Converted-900x600.png)\n",
    "\n",
    "\n",
    "## Data sources and references\n",
    "\n",
    "---\n",
    "\n",
    "1. GENERAL NOTE ON ATTRIBUTION: The work throughout this Report, including many if not most coding techniques, rely and borrow heavily from code discussed in Riley Dallas, Sophie \"Sonya\" Tabac, Charlie Rice, Heather Robbins, and Gwen Rathgeber's class lectures, Notebooks, GitHub repositories, tips on techniques and troubleshooting help. The code is adapted to solve our specific problem.\n",
    "\n",
    "\n",
    "2. The following subReddits were scraped:\n",
    "\n",
    "    * [Movie Details](https://www.reddit.com/r/MovieDetails/)\n",
    "    * [Sh**ty Movie Details](https://www.reddit.com/r/shittymoviedetails/)\n",
    "\n",
    "---\n",
    "\n",
    "### Note on the data and style\n",
    "\n",
    "Strong language may appear in various Reddit posts in raw form. To the extent possible, it shall be cleaned in the course of the project. There also may be some humor used throughout the presentation of the analysis.\n",
    "\n",
    "---\n",
    "\n",
    "## Webscrape - let's fetch some data!"
   ]
  },
  {
   "cell_type": "markdown",
   "metadata": {},
   "source": [
    "We'll import all our required libraries up here."
   ]
  },
  {
   "cell_type": "code",
   "execution_count": 1,
   "metadata": {
    "ExecuteTime": {
     "end_time": "2021-04-25T07:26:02.276740Z",
     "start_time": "2021-04-25T07:25:41.631398Z"
    }
   },
   "outputs": [],
   "source": [
    "#import libraries\n",
    "import pandas as pd, numpy as np, requests, time, nltk, datetime as dt\n",
    "\n",
    "#NLP\n",
    "from nltk.stem import WordNetLemmatizer\n",
    "from nltk.sentiment.vader import SentimentIntensityAnalyzer\n",
    "\n",
    "import gensim.downloader as api #allows us to get word2vec anf glove embeddins that we need\n",
    "from gensim.models.word2vec import Word2Vec\n",
    "from transformers import pipeline\n",
    "from sklearn.feature_extraction.text import CountVectorizer, TfidfVectorizer\n",
    "\n",
    "\n",
    "#classifiers\n",
    "from sklearn.neighbors import KNeighborsClassifier\n",
    "from sklearn.preprocessing import StandardScaler\n",
    "from sklearn.linear_model import LogisticRegression\n",
    "from sklearn.metrics import (accuracy_score, confusion_matrix, plot_confusion_matrix, \\\n",
    "                             recall_score, precision_score)\n",
    "from sklearn.pipeline import Pipeline\n",
    "from sklearn.model_selection import train_test_split, GridSearchCV, cross_val_score\n",
    "from sklearn.dummy import DummyClassifier\n",
    "\n",
    "\n",
    "# easier to see full text with a bigger maxwidth:\n",
    "pd.options.display.max_colwidth = 200"
   ]
  },
  {
   "cell_type": "code",
   "execution_count": 2,
   "metadata": {
    "ExecuteTime": {
     "end_time": "2021-04-25T07:26:02.322734Z",
     "start_time": "2021-04-25T07:26:02.281512Z"
    }
   },
   "outputs": [],
   "source": [
    "#pip install python-Levenshtein\n",
    "#this is for the gensim.similarities.levenshtein submodule"
   ]
  },
  {
   "cell_type": "markdown",
   "metadata": {},
   "source": [
    "Next, we will use the PushShift API to collect the subReddit data we need.\n",
    "\n",
    "More information about the API can be found on the [Pushshift repo](https://github.com/pushshift/api)."
   ]
  },
  {
   "cell_type": "markdown",
   "metadata": {},
   "source": [
    "### Set up single post scrape"
   ]
  },
  {
   "cell_type": "code",
   "execution_count": 3,
   "metadata": {
    "ExecuteTime": {
     "end_time": "2021-04-25T07:26:02.343050Z",
     "start_time": "2021-04-25T07:26:02.334997Z"
    }
   },
   "outputs": [],
   "source": [
    "#Query the PushShift API for the subReddit data we need\n",
    "url = 'https://api.pushshift.io/reddit/search/submission?subreddit=MovieDetails'\n",
    "url2 = 'https://api.pushshift.io/reddit/search/submission?subreddit=shittymoviedetails'"
   ]
  },
  {
   "cell_type": "markdown",
   "metadata": {},
   "source": [
    "_PRO-TIP: We can paste the URL in browser to preview the JSON format._\n",
    "\n",
    "Next, we need to define some parameters and then confirm that we get a response from the API, from both the subReddits. (NOTE: There is no key needed to access the Reddit API.)"
   ]
  },
  {
   "cell_type": "code",
   "execution_count": 4,
   "metadata": {
    "ExecuteTime": {
     "end_time": "2021-04-25T07:26:02.354034Z",
     "start_time": "2021-04-25T07:26:02.345766Z"
    }
   },
   "outputs": [],
   "source": [
    "#define what we need to get from the subreddit\n",
    "params = {\n",
    "    'subreddit': 'MovieDetails',\n",
    "    'size' : 100 #100 seems to be the max, even if change this to a greater size\n",
    "#    'before': ''\n",
    "}"
   ]
  },
  {
   "cell_type": "code",
   "execution_count": 5,
   "metadata": {
    "ExecuteTime": {
     "end_time": "2021-04-25T07:26:02.363523Z",
     "start_time": "2021-04-25T07:26:02.357802Z"
    }
   },
   "outputs": [],
   "source": [
    "#define what we need to get from the subreddit\n",
    "params2 = {\n",
    "    'subreddit': 'shittymoviedetails',\n",
    "    'size' : 100 #100 seems to be the max, even if change this to a greater size\n",
    "#    'before': ''\n",
    "}"
   ]
  },
  {
   "cell_type": "markdown",
   "metadata": {},
   "source": [
    "Let's check that our response is valid -- we are looking for a 200 response code."
   ]
  },
  {
   "cell_type": "code",
   "execution_count": 6,
   "metadata": {
    "ExecuteTime": {
     "end_time": "2021-04-25T07:26:08.257610Z",
     "start_time": "2021-04-25T07:26:02.372897Z"
    }
   },
   "outputs": [
    {
     "data": {
      "text/plain": [
       "200"
      ]
     },
     "execution_count": 6,
     "metadata": {},
     "output_type": "execute_result"
    }
   ],
   "source": [
    "res = requests.get(url, params) \n",
    "res.status_code"
   ]
  },
  {
   "cell_type": "code",
   "execution_count": 7,
   "metadata": {
    "ExecuteTime": {
     "end_time": "2021-04-25T07:26:17.980482Z",
     "start_time": "2021-04-25T07:26:08.259417Z"
    }
   },
   "outputs": [
    {
     "data": {
      "text/plain": [
       "200"
      ]
     },
     "execution_count": 7,
     "metadata": {},
     "output_type": "execute_result"
    }
   ],
   "source": [
    "res2 = requests.get(url2, params2)\n",
    "res2.status_code"
   ]
  },
  {
   "cell_type": "markdown",
   "metadata": {},
   "source": [
    "Let's look at the content we fetched, for a single post:"
   ]
  },
  {
   "cell_type": "code",
   "execution_count": 8,
   "metadata": {
    "ExecuteTime": {
     "end_time": "2021-04-25T07:26:18.011658Z",
     "start_time": "2021-04-25T07:26:17.990617Z"
    },
    "scrolled": true
   },
   "outputs": [
    {
     "name": "stdout",
     "output_type": "stream",
     "text": [
      "<class 'requests.models.Response'>\n",
      "{'all_awardings': [], 'allow_live_comments': False, 'author': 'advent_precursor', 'author_flair_css_class': None, 'author_flair_richtext': [], 'author_flair_text': None, 'author_flair_type': 'text', 'author_fullname': 't2_2ghlqap4', 'author_patreon_flair': False, 'author_premium': False, 'awarders': [], 'can_mod_post': False, 'contest_mode': False, 'created_utc': 1619333404, 'domain': '/r/MovieDetails/comments/my2rpl/in_mortal_kombat_2021_a_reference_to_how_the/', 'full_link': 'https://www.reddit.com/r/MovieDetails/comments/my2rpl/in_mortal_kombat_2021_a_reference_to_how_the/', 'gildings': {}, 'id': 'my2rpl', 'is_crosspostable': True, 'is_meta': False, 'is_original_content': False, 'is_reddit_media_domain': False, 'is_robot_indexable': True, 'is_self': False, 'is_video': True, 'link_flair_background_color': '#0079d3', 'link_flair_css_class': 'Image', 'link_flair_richtext': [{'e': 'text', 't': '🥚 Easter Egg'}], 'link_flair_template_id': 'b968d6fa-5f2d-11e7-8e64-0e8c19beb1c6', 'link_flair_text': '🥚 Easter Egg', 'link_flair_text_color': 'light', 'link_flair_type': 'richtext', 'locked': False, 'media_only': False, 'no_follow': True, 'num_comments': 0, 'num_crossposts': 0, 'over_18': False, 'parent_whitelist_status': 'all_ads', 'permalink': '/r/MovieDetails/comments/my2rpl/in_mortal_kombat_2021_a_reference_to_how_the/', 'pinned': False, 'post_hint': 'hosted:video', 'preview': {'enabled': False, 'images': [{'id': 'PdDbjWu_Uuc5AjSyAdvTd7n4VBw764JQuONQEXyrHR0', 'resolutions': [{'height': 60, 'url': 'https://external-preview.redd.it/4hligzYQ7uRSwdCk0lab0SUlkDt01xHYNzqbDXdVamE.png?width=108&amp;crop=smart&amp;format=pjpg&amp;auto=webp&amp;s=256ce788e84f7321d4d2970f5a0c52aea1817812', 'width': 108}, {'height': 121, 'url': 'https://external-preview.redd.it/4hligzYQ7uRSwdCk0lab0SUlkDt01xHYNzqbDXdVamE.png?width=216&amp;crop=smart&amp;format=pjpg&amp;auto=webp&amp;s=f425f522b1c7fc694aed1b921b168cc02b293691', 'width': 216}, {'height': 180, 'url': 'https://external-preview.redd.it/4hligzYQ7uRSwdCk0lab0SUlkDt01xHYNzqbDXdVamE.png?width=320&amp;crop=smart&amp;format=pjpg&amp;auto=webp&amp;s=5550e49cb6557f02abefc66f38f028b222708ba3', 'width': 320}, {'height': 360, 'url': 'https://external-preview.redd.it/4hligzYQ7uRSwdCk0lab0SUlkDt01xHYNzqbDXdVamE.png?width=640&amp;crop=smart&amp;format=pjpg&amp;auto=webp&amp;s=c97a01740abdbb43a7acad497e229e2ee0057691', 'width': 640}, {'height': 540, 'url': 'https://external-preview.redd.it/4hligzYQ7uRSwdCk0lab0SUlkDt01xHYNzqbDXdVamE.png?width=960&amp;crop=smart&amp;format=pjpg&amp;auto=webp&amp;s=2e1c64dcc5825ec7a0ad3974b475b35450080da9', 'width': 960}, {'height': 607, 'url': 'https://external-preview.redd.it/4hligzYQ7uRSwdCk0lab0SUlkDt01xHYNzqbDXdVamE.png?width=1080&amp;crop=smart&amp;format=pjpg&amp;auto=webp&amp;s=9ba89630433ea61740433e4d567f525f8bd9d91e', 'width': 1080}], 'source': {'height': 1080, 'url': 'https://external-preview.redd.it/4hligzYQ7uRSwdCk0lab0SUlkDt01xHYNzqbDXdVamE.png?format=pjpg&amp;auto=webp&amp;s=e880730937a9f225124cbcdfdee22edba46fa60b', 'width': 1920}, 'variants': {}}]}, 'pwls': 6, 'retrieved_on': 1619333415, 'score': 1, 'selftext': '', 'send_replies': True, 'spoiler': False, 'stickied': False, 'subreddit': 'MovieDetails', 'subreddit_id': 't5_3md1s', 'subreddit_subscribers': 2289098, 'subreddit_type': 'public', 'suggested_sort': 'confidence', 'thumbnail': 'https://b.thumbs.redditmedia.com/npirxKhcYtNz4ixkkD06f-AwTB_XbGd8KWGtUyY9bPU.jpg', 'thumbnail_height': 78, 'thumbnail_width': 140, 'title': 'In Mortal Kombat (2021) a reference to how the video game is played. Players (or the cpu) would use this tactic often. If not blocked properly, you can continue to sweep consecutively.Often found annoying to video gamers and frowned upon when it happens.', 'total_awards_received': 0, 'treatment_tags': [], 'upvote_ratio': 1.0, 'url': 'https://v.redd.it/vikaechkm9v61', 'url_overridden_by_dest': 'https://v.redd.it/vikaechkm9v61', 'whitelist_status': 'all_ads', 'wls': 6}\n",
      "<class 'dict'>\n",
      "dict_keys(['data'])\n"
     ]
    }
   ],
   "source": [
    "print(type(res)) #check attrs\n",
    "\n",
    "data = res.json() #get the content in JSON format\n",
    "\n",
    "orig_posts = data['data'][0] #Fetch the list of first posts\n",
    "\n",
    "#verify what we got\n",
    "print(orig_posts)\n",
    "\n",
    "print(type(orig_posts))\n",
    "\n",
    "print(data.keys())"
   ]
  },
  {
   "cell_type": "markdown",
   "metadata": {},
   "source": [
    "Everything we do, we have to repeat for our second subReddit."
   ]
  },
  {
   "cell_type": "code",
   "execution_count": 9,
   "metadata": {
    "ExecuteTime": {
     "end_time": "2021-04-25T07:26:18.059953Z",
     "start_time": "2021-04-25T07:26:18.021045Z"
    }
   },
   "outputs": [
    {
     "data": {
      "text/plain": [
       "{'all_awardings': [],\n",
       " 'allow_live_comments': False,\n",
       " 'author': 'TheOther36',\n",
       " 'author_flair_css_class': None,\n",
       " 'author_flair_richtext': [],\n",
       " 'author_flair_text': None,\n",
       " 'author_flair_type': 'text',\n",
       " 'author_fullname': 't2_6k0ecni4',\n",
       " 'author_patreon_flair': False,\n",
       " 'author_premium': False,\n",
       " 'awarders': [],\n",
       " 'can_mod_post': False,\n",
       " 'contest_mode': False,\n",
       " 'created_utc': 1619334788,\n",
       " 'domain': 'i.redd.it',\n",
       " 'full_link': 'https://www.reddit.com/r/shittymoviedetails/comments/my31x5/the_2021_film_mortal_kombat_was_named_as_such/',\n",
       " 'gildings': {},\n",
       " 'id': 'my31x5',\n",
       " 'is_crosspostable': True,\n",
       " 'is_meta': False,\n",
       " 'is_original_content': False,\n",
       " 'is_reddit_media_domain': True,\n",
       " 'is_robot_indexable': True,\n",
       " 'is_self': False,\n",
       " 'is_video': False,\n",
       " 'link_flair_background_color': '',\n",
       " 'link_flair_richtext': [],\n",
       " 'link_flair_text_color': 'dark',\n",
       " 'link_flair_type': 'text',\n",
       " 'locked': False,\n",
       " 'media_only': False,\n",
       " 'no_follow': True,\n",
       " 'num_comments': 0,\n",
       " 'num_crossposts': 0,\n",
       " 'over_18': False,\n",
       " 'parent_whitelist_status': 'some_ads',\n",
       " 'permalink': '/r/shittymoviedetails/comments/my31x5/the_2021_film_mortal_kombat_was_named_as_such/',\n",
       " 'pinned': False,\n",
       " 'post_hint': 'image',\n",
       " 'preview': {'enabled': True,\n",
       "  'images': [{'id': 'z55vQsLT9Pet6sH3qroZG7zVyQUtEu4fm8_XDbwj-OU',\n",
       "    'resolutions': [{'height': 159,\n",
       "      'url': 'https://preview.redd.it/z1jnys37s9v61.png?width=108&amp;crop=smart&amp;auto=webp&amp;s=5a8babfa0ae2ad0e3b4b3fc62d4efa44cb180862',\n",
       "      'width': 108},\n",
       "     {'height': 319,\n",
       "      'url': 'https://preview.redd.it/z1jnys37s9v61.png?width=216&amp;crop=smart&amp;auto=webp&amp;s=f3fb1fbdff719afb4183acaa95072c2242e5ee52',\n",
       "      'width': 216}],\n",
       "    'source': {'height': 370,\n",
       "     'url': 'https://preview.redd.it/z1jnys37s9v61.png?auto=webp&amp;s=d9ae8605fbadfb71444b24d90a68bc6305a00c7b',\n",
       "     'width': 250},\n",
       "    'variants': {}}]},\n",
       " 'pwls': 7,\n",
       " 'retrieved_on': 1619334799,\n",
       " 'score': 1,\n",
       " 'selftext': '',\n",
       " 'send_replies': True,\n",
       " 'spoiler': False,\n",
       " 'stickied': False,\n",
       " 'subreddit': 'shittymoviedetails',\n",
       " 'subreddit_id': 't5_3mj3w',\n",
       " 'subreddit_subscribers': 600043,\n",
       " 'subreddit_type': 'public',\n",
       " 'suggested_sort': 'confidence',\n",
       " 'thumbnail': 'https://b.thumbs.redditmedia.com/qWzN4xD92YKbumYaW4ysI7aqUXzlEffCQpW954VbE_A.jpg',\n",
       " 'thumbnail_height': 140,\n",
       " 'thumbnail_width': 140,\n",
       " 'title': 'The 2021 film Mortal Kombat was named as such because everyone dies in Kombat, Namibia.',\n",
       " 'total_awards_received': 0,\n",
       " 'treatment_tags': [],\n",
       " 'upvote_ratio': 1.0,\n",
       " 'url': 'https://i.redd.it/z1jnys37s9v61.png',\n",
       " 'url_overridden_by_dest': 'https://i.redd.it/z1jnys37s9v61.png',\n",
       " 'whitelist_status': 'some_ads',\n",
       " 'wls': 7}"
      ]
     },
     "execution_count": 9,
     "metadata": {},
     "output_type": "execute_result"
    }
   ],
   "source": [
    "#repeat for the 2nd subreddit\n",
    "data2 = res2.json() #get the content in JSON format\n",
    "posts2 = data2['data'][0] #Fetch the list of first post\n",
    "posts2"
   ]
  },
  {
   "cell_type": "code",
   "execution_count": 10,
   "metadata": {
    "ExecuteTime": {
     "end_time": "2021-04-25T07:26:18.074726Z",
     "start_time": "2021-04-25T07:26:18.062795Z"
    }
   },
   "outputs": [
    {
     "data": {
      "text/plain": [
       "66"
      ]
     },
     "execution_count": 10,
     "metadata": {},
     "output_type": "execute_result"
    }
   ],
   "source": [
    "len(orig_posts)"
   ]
  },
  {
   "cell_type": "markdown",
   "metadata": {},
   "source": [
    "Let's take a look at what we pulled in a more visually accessible format."
   ]
  },
  {
   "cell_type": "code",
   "execution_count": 11,
   "metadata": {
    "ExecuteTime": {
     "end_time": "2021-04-25T07:26:18.152187Z",
     "start_time": "2021-04-25T07:26:18.076652Z"
    }
   },
   "outputs": [
    {
     "data": {
      "text/html": [
       "<div>\n",
       "<style scoped>\n",
       "    .dataframe tbody tr th:only-of-type {\n",
       "        vertical-align: middle;\n",
       "    }\n",
       "\n",
       "    .dataframe tbody tr th {\n",
       "        vertical-align: top;\n",
       "    }\n",
       "\n",
       "    .dataframe thead th {\n",
       "        text-align: right;\n",
       "    }\n",
       "</style>\n",
       "<table border=\"1\" class=\"dataframe\">\n",
       "  <thead>\n",
       "    <tr style=\"text-align: right;\">\n",
       "      <th></th>\n",
       "      <th>all_awardings</th>\n",
       "      <th>allow_live_comments</th>\n",
       "      <th>author</th>\n",
       "      <th>author_flair_css_class</th>\n",
       "      <th>author_flair_richtext</th>\n",
       "      <th>author_flair_text</th>\n",
       "      <th>author_flair_type</th>\n",
       "      <th>author_fullname</th>\n",
       "      <th>author_patreon_flair</th>\n",
       "      <th>author_premium</th>\n",
       "      <th>...</th>\n",
       "      <th>removed_by_category</th>\n",
       "      <th>media</th>\n",
       "      <th>media_embed</th>\n",
       "      <th>secure_media</th>\n",
       "      <th>secure_media_embed</th>\n",
       "      <th>gallery_data</th>\n",
       "      <th>is_gallery</th>\n",
       "      <th>media_metadata</th>\n",
       "      <th>author_flair_template_id</th>\n",
       "      <th>author_flair_text_color</th>\n",
       "    </tr>\n",
       "  </thead>\n",
       "  <tbody>\n",
       "    <tr>\n",
       "      <th>0</th>\n",
       "      <td>[]</td>\n",
       "      <td>False</td>\n",
       "      <td>advent_precursor</td>\n",
       "      <td>None</td>\n",
       "      <td>[]</td>\n",
       "      <td>None</td>\n",
       "      <td>text</td>\n",
       "      <td>t2_2ghlqap4</td>\n",
       "      <td>False</td>\n",
       "      <td>False</td>\n",
       "      <td>...</td>\n",
       "      <td>NaN</td>\n",
       "      <td>NaN</td>\n",
       "      <td>NaN</td>\n",
       "      <td>NaN</td>\n",
       "      <td>NaN</td>\n",
       "      <td>NaN</td>\n",
       "      <td>NaN</td>\n",
       "      <td>NaN</td>\n",
       "      <td>NaN</td>\n",
       "      <td>NaN</td>\n",
       "    </tr>\n",
       "    <tr>\n",
       "      <th>1</th>\n",
       "      <td>[]</td>\n",
       "      <td>False</td>\n",
       "      <td>stalwartGRUNT</td>\n",
       "      <td>None</td>\n",
       "      <td>[]</td>\n",
       "      <td>None</td>\n",
       "      <td>text</td>\n",
       "      <td>t2_1k03g353</td>\n",
       "      <td>False</td>\n",
       "      <td>False</td>\n",
       "      <td>...</td>\n",
       "      <td>NaN</td>\n",
       "      <td>NaN</td>\n",
       "      <td>NaN</td>\n",
       "      <td>NaN</td>\n",
       "      <td>NaN</td>\n",
       "      <td>NaN</td>\n",
       "      <td>NaN</td>\n",
       "      <td>NaN</td>\n",
       "      <td>NaN</td>\n",
       "      <td>NaN</td>\n",
       "    </tr>\n",
       "    <tr>\n",
       "      <th>2</th>\n",
       "      <td>[]</td>\n",
       "      <td>False</td>\n",
       "      <td>WhirledNews</td>\n",
       "      <td>None</td>\n",
       "      <td>[]</td>\n",
       "      <td>None</td>\n",
       "      <td>text</td>\n",
       "      <td>t2_3cbl0</td>\n",
       "      <td>False</td>\n",
       "      <td>False</td>\n",
       "      <td>...</td>\n",
       "      <td>NaN</td>\n",
       "      <td>NaN</td>\n",
       "      <td>NaN</td>\n",
       "      <td>NaN</td>\n",
       "      <td>NaN</td>\n",
       "      <td>NaN</td>\n",
       "      <td>NaN</td>\n",
       "      <td>NaN</td>\n",
       "      <td>NaN</td>\n",
       "      <td>NaN</td>\n",
       "    </tr>\n",
       "    <tr>\n",
       "      <th>3</th>\n",
       "      <td>[]</td>\n",
       "      <td>False</td>\n",
       "      <td>Qbccd</td>\n",
       "      <td>None</td>\n",
       "      <td>[]</td>\n",
       "      <td>None</td>\n",
       "      <td>text</td>\n",
       "      <td>t2_7bllpt0q</td>\n",
       "      <td>False</td>\n",
       "      <td>False</td>\n",
       "      <td>...</td>\n",
       "      <td>moderator</td>\n",
       "      <td>NaN</td>\n",
       "      <td>NaN</td>\n",
       "      <td>NaN</td>\n",
       "      <td>NaN</td>\n",
       "      <td>NaN</td>\n",
       "      <td>NaN</td>\n",
       "      <td>NaN</td>\n",
       "      <td>NaN</td>\n",
       "      <td>NaN</td>\n",
       "    </tr>\n",
       "    <tr>\n",
       "      <th>4</th>\n",
       "      <td>[]</td>\n",
       "      <td>False</td>\n",
       "      <td>Twisted_Schwartz_</td>\n",
       "      <td>None</td>\n",
       "      <td>[]</td>\n",
       "      <td>None</td>\n",
       "      <td>text</td>\n",
       "      <td>t2_266l79g</td>\n",
       "      <td>False</td>\n",
       "      <td>False</td>\n",
       "      <td>...</td>\n",
       "      <td>NaN</td>\n",
       "      <td>{'oembed': {'author_name': 'Movieclips', 'author_url': 'https://www.youtube.com/c/MOVIECLIPS', 'height': 200, 'html': '&amp;lt;iframe width=\"356\" height=\"200\" src=\"https://www.youtube.com/embed/bBaNdH...</td>\n",
       "      <td>{'content': '&amp;lt;iframe width=\"356\" height=\"200\" src=\"https://www.youtube.com/embed/bBaNdHqC_Yo?start=9&amp;amp;feature=oembed&amp;amp;enablejsapi=1\" frameborder=\"0\" allow=\"accelerometer; autoplay; clipbo...</td>\n",
       "      <td>{'oembed': {'author_name': 'Movieclips', 'author_url': 'https://www.youtube.com/c/MOVIECLIPS', 'height': 200, 'html': '&amp;lt;iframe width=\"356\" height=\"200\" src=\"https://www.youtube.com/embed/bBaNdH...</td>\n",
       "      <td>{'content': '&amp;lt;iframe width=\"356\" height=\"200\" src=\"https://www.youtube.com/embed/bBaNdHqC_Yo?start=9&amp;amp;feature=oembed&amp;amp;enablejsapi=1\" frameborder=\"0\" allow=\"accelerometer; autoplay; clipbo...</td>\n",
       "      <td>NaN</td>\n",
       "      <td>NaN</td>\n",
       "      <td>NaN</td>\n",
       "      <td>NaN</td>\n",
       "      <td>NaN</td>\n",
       "    </tr>\n",
       "  </tbody>\n",
       "</table>\n",
       "<p>5 rows × 76 columns</p>\n",
       "</div>"
      ],
      "text/plain": [
       "  all_awardings  allow_live_comments             author  \\\n",
       "0            []                False   advent_precursor   \n",
       "1            []                False      stalwartGRUNT   \n",
       "2            []                False        WhirledNews   \n",
       "3            []                False              Qbccd   \n",
       "4            []                False  Twisted_Schwartz_   \n",
       "\n",
       "  author_flair_css_class author_flair_richtext author_flair_text  \\\n",
       "0                   None                    []              None   \n",
       "1                   None                    []              None   \n",
       "2                   None                    []              None   \n",
       "3                   None                    []              None   \n",
       "4                   None                    []              None   \n",
       "\n",
       "  author_flair_type author_fullname  author_patreon_flair  author_premium  \\\n",
       "0              text     t2_2ghlqap4                 False           False   \n",
       "1              text     t2_1k03g353                 False           False   \n",
       "2              text        t2_3cbl0                 False           False   \n",
       "3              text     t2_7bllpt0q                 False           False   \n",
       "4              text      t2_266l79g                 False           False   \n",
       "\n",
       "   ... removed_by_category  \\\n",
       "0  ...                 NaN   \n",
       "1  ...                 NaN   \n",
       "2  ...                 NaN   \n",
       "3  ...           moderator   \n",
       "4  ...                 NaN   \n",
       "\n",
       "                                                                                                                                                                                                     media  \\\n",
       "0                                                                                                                                                                                                      NaN   \n",
       "1                                                                                                                                                                                                      NaN   \n",
       "2                                                                                                                                                                                                      NaN   \n",
       "3                                                                                                                                                                                                      NaN   \n",
       "4  {'oembed': {'author_name': 'Movieclips', 'author_url': 'https://www.youtube.com/c/MOVIECLIPS', 'height': 200, 'html': '&lt;iframe width=\"356\" height=\"200\" src=\"https://www.youtube.com/embed/bBaNdH...   \n",
       "\n",
       "                                                                                                                                                                                               media_embed  \\\n",
       "0                                                                                                                                                                                                      NaN   \n",
       "1                                                                                                                                                                                                      NaN   \n",
       "2                                                                                                                                                                                                      NaN   \n",
       "3                                                                                                                                                                                                      NaN   \n",
       "4  {'content': '&lt;iframe width=\"356\" height=\"200\" src=\"https://www.youtube.com/embed/bBaNdHqC_Yo?start=9&amp;feature=oembed&amp;enablejsapi=1\" frameborder=\"0\" allow=\"accelerometer; autoplay; clipbo...   \n",
       "\n",
       "                                                                                                                                                                                              secure_media  \\\n",
       "0                                                                                                                                                                                                      NaN   \n",
       "1                                                                                                                                                                                                      NaN   \n",
       "2                                                                                                                                                                                                      NaN   \n",
       "3                                                                                                                                                                                                      NaN   \n",
       "4  {'oembed': {'author_name': 'Movieclips', 'author_url': 'https://www.youtube.com/c/MOVIECLIPS', 'height': 200, 'html': '&lt;iframe width=\"356\" height=\"200\" src=\"https://www.youtube.com/embed/bBaNdH...   \n",
       "\n",
       "                                                                                                                                                                                        secure_media_embed  \\\n",
       "0                                                                                                                                                                                                      NaN   \n",
       "1                                                                                                                                                                                                      NaN   \n",
       "2                                                                                                                                                                                                      NaN   \n",
       "3                                                                                                                                                                                                      NaN   \n",
       "4  {'content': '&lt;iframe width=\"356\" height=\"200\" src=\"https://www.youtube.com/embed/bBaNdHqC_Yo?start=9&amp;feature=oembed&amp;enablejsapi=1\" frameborder=\"0\" allow=\"accelerometer; autoplay; clipbo...   \n",
       "\n",
       "  gallery_data is_gallery media_metadata  author_flair_template_id  \\\n",
       "0          NaN        NaN            NaN                       NaN   \n",
       "1          NaN        NaN            NaN                       NaN   \n",
       "2          NaN        NaN            NaN                       NaN   \n",
       "3          NaN        NaN            NaN                       NaN   \n",
       "4          NaN        NaN            NaN                       NaN   \n",
       "\n",
       "   author_flair_text_color  \n",
       "0                      NaN  \n",
       "1                      NaN  \n",
       "2                      NaN  \n",
       "3                      NaN  \n",
       "4                      NaN  \n",
       "\n",
       "[5 rows x 76 columns]"
      ]
     },
     "execution_count": 11,
     "metadata": {},
     "output_type": "execute_result"
    }
   ],
   "source": [
    "#create df\n",
    "results_df = pd.DataFrame(data['data'])\n",
    "results_df2 = pd.DataFrame(data2['data'])\n",
    "results_df.head()"
   ]
  },
  {
   "cell_type": "code",
   "execution_count": 12,
   "metadata": {
    "ExecuteTime": {
     "end_time": "2021-04-25T07:26:18.164592Z",
     "start_time": "2021-04-25T07:26:18.156911Z"
    }
   },
   "outputs": [
    {
     "data": {
      "text/plain": [
       "Index(['all_awardings', 'allow_live_comments', 'author',\n",
       "       'author_flair_css_class', 'author_flair_richtext', 'author_flair_text',\n",
       "       'author_flair_type', 'author_fullname', 'author_patreon_flair',\n",
       "       'author_premium', 'awarders', 'can_mod_post', 'contest_mode',\n",
       "       'created_utc', 'domain', 'full_link', 'gildings', 'id',\n",
       "       'is_crosspostable', 'is_meta', 'is_original_content',\n",
       "       'is_reddit_media_domain', 'is_robot_indexable', 'is_self', 'is_video',\n",
       "       'link_flair_background_color', 'link_flair_css_class',\n",
       "       'link_flair_richtext', 'link_flair_template_id', 'link_flair_text',\n",
       "       'link_flair_text_color', 'link_flair_type', 'locked', 'media_only',\n",
       "       'no_follow', 'num_comments', 'num_crossposts', 'over_18',\n",
       "       'parent_whitelist_status', 'permalink', 'pinned', 'post_hint',\n",
       "       'preview', 'pwls', 'retrieved_on', 'score', 'selftext', 'send_replies',\n",
       "       'spoiler', 'stickied', 'subreddit', 'subreddit_id',\n",
       "       'subreddit_subscribers', 'subreddit_type', 'suggested_sort',\n",
       "       'thumbnail', 'thumbnail_height', 'thumbnail_width', 'title',\n",
       "       'total_awards_received', 'treatment_tags', 'upvote_ratio', 'url',\n",
       "       'url_overridden_by_dest', 'whitelist_status', 'wls',\n",
       "       'removed_by_category', 'media', 'media_embed', 'secure_media',\n",
       "       'secure_media_embed', 'gallery_data', 'is_gallery', 'media_metadata',\n",
       "       'author_flair_template_id', 'author_flair_text_color'],\n",
       "      dtype='object')"
      ]
     },
     "execution_count": 12,
     "metadata": {},
     "output_type": "execute_result"
    }
   ],
   "source": [
    "results_df.columns"
   ]
  },
  {
   "cell_type": "markdown",
   "metadata": {},
   "source": [
    "There is a lot of metadata here. We probably will not need most of it.\n",
    "\n",
    "Here are the important tags we plan to use:\n",
    "\n",
    "* subreddit\n",
    "* selftext\n",
    "* title\n",
    "* created_utc\n",
    "* author\n",
    "* is_self (to filter out link-only posts)\n",
    "* score\n",
    "* num_comments"
   ]
  },
  {
   "cell_type": "markdown",
   "metadata": {},
   "source": [
    "Let's grab just the metadata we need."
   ]
  },
  {
   "cell_type": "code",
   "execution_count": 13,
   "metadata": {
    "ExecuteTime": {
     "end_time": "2021-04-25T07:26:18.179556Z",
     "start_time": "2021-04-25T07:26:18.174557Z"
    }
   },
   "outputs": [],
   "source": [
    "subfields = ['title', 'selftext', 'subreddit', 'created_utc', 'author', 'is_self', \\\n",
    "'score', 'num_comments']"
   ]
  },
  {
   "cell_type": "code",
   "execution_count": 14,
   "metadata": {
    "ExecuteTime": {
     "end_time": "2021-04-25T07:26:18.211485Z",
     "start_time": "2021-04-25T07:26:18.182264Z"
    }
   },
   "outputs": [
    {
     "data": {
      "text/html": [
       "<div>\n",
       "<style scoped>\n",
       "    .dataframe tbody tr th:only-of-type {\n",
       "        vertical-align: middle;\n",
       "    }\n",
       "\n",
       "    .dataframe tbody tr th {\n",
       "        vertical-align: top;\n",
       "    }\n",
       "\n",
       "    .dataframe thead th {\n",
       "        text-align: right;\n",
       "    }\n",
       "</style>\n",
       "<table border=\"1\" class=\"dataframe\">\n",
       "  <thead>\n",
       "    <tr style=\"text-align: right;\">\n",
       "      <th></th>\n",
       "      <th>title</th>\n",
       "      <th>selftext</th>\n",
       "      <th>subreddit</th>\n",
       "      <th>created_utc</th>\n",
       "      <th>author</th>\n",
       "      <th>is_self</th>\n",
       "      <th>score</th>\n",
       "      <th>num_comments</th>\n",
       "    </tr>\n",
       "  </thead>\n",
       "  <tbody>\n",
       "    <tr>\n",
       "      <th>0</th>\n",
       "      <td>In Mortal Kombat (2021) a reference to how the video game is played. Players (or the cpu) would use this tactic often. If not blocked properly, you can continue to sweep consecutively.Often found ...</td>\n",
       "      <td></td>\n",
       "      <td>MovieDetails</td>\n",
       "      <td>1619333404</td>\n",
       "      <td>advent_precursor</td>\n",
       "      <td>False</td>\n",
       "      <td>1</td>\n",
       "      <td>0</td>\n",
       "    </tr>\n",
       "    <tr>\n",
       "      <th>1</th>\n",
       "      <td>In Rango (2011), The bottle he uses to shield himself from the hawk has a faded Mexican soda company logo, jarritos</td>\n",
       "      <td></td>\n",
       "      <td>MovieDetails</td>\n",
       "      <td>1619331027</td>\n",
       "      <td>stalwartGRUNT</td>\n",
       "      <td>False</td>\n",
       "      <td>1</td>\n",
       "      <td>1</td>\n",
       "    </tr>\n",
       "  </tbody>\n",
       "</table>\n",
       "</div>"
      ],
      "text/plain": [
       "                                                                                                                                                                                                     title  \\\n",
       "0  In Mortal Kombat (2021) a reference to how the video game is played. Players (or the cpu) would use this tactic often. If not blocked properly, you can continue to sweep consecutively.Often found ...   \n",
       "1                                                                                      In Rango (2011), The bottle he uses to shield himself from the hawk has a faded Mexican soda company logo, jarritos   \n",
       "\n",
       "  selftext     subreddit  created_utc            author  is_self  score  \\\n",
       "0           MovieDetails   1619333404  advent_precursor    False      1   \n",
       "1           MovieDetails   1619331027     stalwartGRUNT    False      1   \n",
       "\n",
       "   num_comments  \n",
       "0             0  \n",
       "1             1  "
      ]
     },
     "execution_count": 14,
     "metadata": {},
     "output_type": "execute_result"
    }
   ],
   "source": [
    "results_df = results_df[subfields]\n",
    "results_df2 = results_df2[subfields]\n",
    "results_df.head(2)"
   ]
  },
  {
   "cell_type": "markdown",
   "metadata": {},
   "source": [
    "Let's remove any duplicate posts."
   ]
  },
  {
   "cell_type": "code",
   "execution_count": 15,
   "metadata": {
    "ExecuteTime": {
     "end_time": "2021-04-25T07:26:18.239667Z",
     "start_time": "2021-04-25T07:26:18.213381Z"
    }
   },
   "outputs": [],
   "source": [
    "#dupes\n",
    "results_df.drop_duplicates(inplace=True)\n",
    "results_df2.drop_duplicates(inplace=True)"
   ]
  },
  {
   "cell_type": "markdown",
   "metadata": {},
   "source": [
    "We also only want original text content here."
   ]
  },
  {
   "cell_type": "code",
   "execution_count": 16,
   "metadata": {
    "ExecuteTime": {
     "end_time": "2021-04-25T07:26:18.254632Z",
     "start_time": "2021-04-25T07:26:18.241702Z"
    }
   },
   "outputs": [],
   "source": [
    "#filter only for self posts\n",
    "results_df = results_df[results_df[\"is_self\"] == True]\n",
    "results_df2 = results_df2[results_df2['is_self']==True]"
   ]
  },
  {
   "cell_type": "markdown",
   "metadata": {},
   "source": [
    "We'll grab the timestamp so that we can set before and after the post we want, to pull in our desired volume of posts."
   ]
  },
  {
   "cell_type": "code",
   "execution_count": 17,
   "metadata": {
    "ExecuteTime": {
     "end_time": "2021-04-25T07:26:18.276613Z",
     "start_time": "2021-04-25T07:26:18.257853Z"
    },
    "scrolled": true
   },
   "outputs": [
    {
     "data": {
      "text/plain": [
       "2     2021-04-24\n",
       "3     2021-04-24\n",
       "5     2021-04-24\n",
       "16    2021-04-24\n",
       "23    2021-04-24\n",
       "24    2021-04-24\n",
       "47    2021-04-24\n",
       "60    2021-04-23\n",
       "61    2021-04-23\n",
       "62    2021-04-23\n",
       "63    2021-04-23\n",
       "65    2021-04-23\n",
       "69    2021-04-23\n",
       "85    2021-04-23\n",
       "92    2021-04-23\n",
       "95    2021-04-23\n",
       "97    2021-04-23\n",
       "98    2021-04-23\n",
       "Name: timestamp, dtype: object"
      ]
     },
     "execution_count": 17,
     "metadata": {},
     "output_type": "execute_result"
    }
   ],
   "source": [
    "#convert timestamp to a format we understand\n",
    "results_df['timestamp'] = results_df['created_utc'].map(dt.date.fromtimestamp)\n",
    "results_df2['timestamp'] = results_df2['created_utc'].map(dt.date.fromtimestamp)\n",
    "results_df['timestamp']"
   ]
  },
  {
   "cell_type": "code",
   "execution_count": 18,
   "metadata": {
    "ExecuteTime": {
     "end_time": "2021-04-25T07:26:18.288291Z",
     "start_time": "2021-04-25T07:26:18.278486Z"
    }
   },
   "outputs": [
    {
     "data": {
      "text/plain": [
       "(18, 9)"
      ]
     },
     "execution_count": 18,
     "metadata": {},
     "output_type": "execute_result"
    }
   ],
   "source": [
    "results_df.shape"
   ]
  },
  {
   "cell_type": "markdown",
   "metadata": {},
   "source": [
    "Looks like we get a couple days' worth in a single pull."
   ]
  },
  {
   "cell_type": "markdown",
   "metadata": {},
   "source": [
    "### Set up to pull @certain freq"
   ]
  },
  {
   "cell_type": "markdown",
   "metadata": {},
   "source": [
    "Let's set up our pull to be a bit more dynamic."
   ]
  },
  {
   "cell_type": "code",
   "execution_count": 19,
   "metadata": {
    "ExecuteTime": {
     "end_time": "2021-04-25T07:26:18.325546Z",
     "start_time": "2021-04-25T07:26:18.295680Z"
    },
    "scrolled": true
   },
   "outputs": [
    {
     "data": {
      "text/plain": [
       "'https://api.pushshift.io/reddit/search/submission?subreddit=MovieDetails&size=100'"
      ]
     },
     "execution_count": 19,
     "metadata": {},
     "output_type": "execute_result"
    }
   ],
   "source": [
    "#define endpoint\n",
    "base_url = 'https://api.pushshift.io/reddit/search/submission'\n",
    "\n",
    "#update params\n",
    "subreddit = 'MovieDetails'\n",
    "size = 100\n",
    "\n",
    "#construct URL\n",
    "stem = f'{base_url}?subreddit={subreddit}&size={size}'\n",
    "stem"
   ]
  },
  {
   "cell_type": "code",
   "execution_count": 20,
   "metadata": {
    "ExecuteTime": {
     "end_time": "2021-04-25T07:26:18.337789Z",
     "start_time": "2021-04-25T07:26:18.327393Z"
    }
   },
   "outputs": [
    {
     "data": {
      "text/plain": [
       "False"
      ]
     },
     "execution_count": 20,
     "metadata": {},
     "output_type": "execute_result"
    }
   ],
   "source": [
    "stem == url"
   ]
  },
  {
   "cell_type": "markdown",
   "metadata": {},
   "source": [
    "Let's add in a time component to loop over multiple days' worth of posts."
   ]
  },
  {
   "cell_type": "code",
   "execution_count": 21,
   "metadata": {
    "ExecuteTime": {
     "end_time": "2021-04-25T07:26:18.348039Z",
     "start_time": "2021-04-25T07:26:18.340827Z"
    }
   },
   "outputs": [
    {
     "data": {
      "text/plain": [
       "'https://api.pushshift.io/reddit/search/submission?subreddit=MovieDetails&size=100&after=30d'"
      ]
     },
     "execution_count": 21,
     "metadata": {},
     "output_type": "execute_result"
    }
   ],
   "source": [
    "days = 30\n",
    "url = f'{stem}&after={days}d'\n",
    "url"
   ]
  },
  {
   "cell_type": "code",
   "execution_count": 22,
   "metadata": {
    "ExecuteTime": {
     "end_time": "2021-04-25T07:26:20.804594Z",
     "start_time": "2021-04-25T07:26:18.356134Z"
    },
    "scrolled": false
   },
   "outputs": [
    {
     "data": {
      "text/plain": [
       "0    2021-03-27\n",
       "1    2021-03-27\n",
       "2    2021-03-27\n",
       "3    2021-03-27\n",
       "4    2021-03-27\n",
       "Name: created_utc, dtype: object"
      ]
     },
     "execution_count": 22,
     "metadata": {},
     "output_type": "execute_result"
    }
   ],
   "source": [
    "#verify output\n",
    "\n",
    "res=requests.get(url)\n",
    "assert res.status_code == 200\n",
    "json_data = res.json()\n",
    "\n",
    "results_df = pd.DataFrame(json_data['data'])[subfields]\n",
    "\n",
    "results_df[\n",
    "    'created_utc'].map(dt.date.fromtimestamp).head()"
   ]
  },
  {
   "cell_type": "markdown",
   "metadata": {},
   "source": [
    "We see something from as far back as a month ago, which is what we were expecting."
   ]
  },
  {
   "cell_type": "code",
   "execution_count": 23,
   "metadata": {
    "ExecuteTime": {
     "end_time": "2021-04-25T07:26:20.826462Z",
     "start_time": "2021-04-25T07:26:20.806798Z"
    }
   },
   "outputs": [
    {
     "data": {
      "text/plain": [
       "(100, 8)"
      ]
     },
     "execution_count": 23,
     "metadata": {},
     "output_type": "execute_result"
    }
   ],
   "source": [
    "results_df.shape"
   ]
  },
  {
   "cell_type": "markdown",
   "metadata": {},
   "source": [
    "### Automate pull"
   ]
  },
  {
   "cell_type": "markdown",
   "metadata": {},
   "source": [
    "Let's set up a function that fetches posts and appends them to a dataframe.\n",
    "\n",
    "We will then run this on our desired subReddits."
   ]
  },
  {
   "cell_type": "code",
   "execution_count": 24,
   "metadata": {
    "ExecuteTime": {
     "end_time": "2021-04-25T07:26:20.845592Z",
     "start_time": "2021-04-25T07:26:20.830640Z"
    }
   },
   "outputs": [],
   "source": [
    "#loop to iterate through the pulls\n",
    "\n",
    "def fetch_posts(subreddit, #specify subreddit\n",
    "                kind = 'submission', is_video=False,  #grab post; partial ref to Riley Robertson's query\n",
    "               day_window = 30, n=500): #number of iterations to run\n",
    "    #through; this is also how many dfs are output that need to be concatenated\n",
    "\n",
    "#est. params\n",
    "    \n",
    "    base_url = f'https://api.pushshift.io/reddit/search/{kind}'\n",
    "\n",
    "    stem = f'{base_url}?subreddit={subreddit}&size=500'\n",
    "\n",
    "  \n",
    "    posts = []\n",
    "\n",
    "    for i in range(1, n+1): #that many iterations\n",
    "        \n",
    "        URL = '{}&after={}d'.format(stem, day_window *i)\n",
    "        \n",
    "        print('Query from timeframe: ' + URL)\n",
    "                \n",
    "        try: #partial ref to Ben Mathis's query to handle exception\n",
    "            res = requests.get(URL)\n",
    "            assert res.status_code == 200\n",
    "            \n",
    "        except:\n",
    "            continue\n",
    "        \n",
    "        json_dict = res.json()['data'] #grab the single key from the list of json dicts\n",
    "   \n",
    "        df = pd.DataFrame.from_dict(json_dict) #convert dictionary info to a df\n",
    "        \n",
    "        posts.append(df) #append the df from each iteration to our posts list\n",
    "        \n",
    "        total_scraped = sum(len(x) for x in posts) #understand, how many posts we\n",
    "        #are getting\n",
    "        \n",
    "       # print(len(posts))\n",
    "            \n",
    "        print(total_scraped)\n",
    "        \n",
    "        if total_scraped > 7500:\n",
    "            break\n",
    "        \n",
    "        time.sleep(1) #wait 1 s between requests\n",
    "        \n",
    "    #merge list of dfs from our requests\n",
    "    full_df = pd.concat(posts, sort=False)\n",
    "    \n",
    "    #if kind == 'submission' & selftext:not=[removed]:\n",
    "    \n",
    "    full_df = full_df[subfields] #only want the specific columns\n",
    "    full_df.drop_duplicates(inplace=True) #de-dupe posts\n",
    "    full_df = full_df.loc[full_df['is_self']==True] #only grab original submissions\n",
    "    \n",
    "    print(full_df.shape)\n",
    "    \n",
    "    full_df['timestamp'] = full_df['created_utc'].map(dt.date.fromtimestamp) #convert time\n",
    "    \n",
    "    return full_df.reset_index(drop=True)"
   ]
  },
  {
   "cell_type": "code",
   "execution_count": 25,
   "metadata": {
    "ExecuteTime": {
     "end_time": "2021-04-25T07:37:43.494842Z",
     "start_time": "2021-04-25T07:26:20.847684Z"
    }
   },
   "outputs": [
    {
     "name": "stdout",
     "output_type": "stream",
     "text": [
      "Query from timeframe: https://api.pushshift.io/reddit/search/submission?subreddit=MovieDetails&size=500&after=30d\n",
      "100\n",
      "Query from timeframe: https://api.pushshift.io/reddit/search/submission?subreddit=MovieDetails&size=500&after=60d\n",
      "200\n",
      "Query from timeframe: https://api.pushshift.io/reddit/search/submission?subreddit=MovieDetails&size=500&after=90d\n",
      "300\n",
      "Query from timeframe: https://api.pushshift.io/reddit/search/submission?subreddit=MovieDetails&size=500&after=120d\n",
      "400\n",
      "Query from timeframe: https://api.pushshift.io/reddit/search/submission?subreddit=MovieDetails&size=500&after=150d\n",
      "500\n",
      "Query from timeframe: https://api.pushshift.io/reddit/search/submission?subreddit=MovieDetails&size=500&after=180d\n",
      "600\n",
      "Query from timeframe: https://api.pushshift.io/reddit/search/submission?subreddit=MovieDetails&size=500&after=210d\n",
      "700\n",
      "Query from timeframe: https://api.pushshift.io/reddit/search/submission?subreddit=MovieDetails&size=500&after=240d\n",
      "800\n",
      "Query from timeframe: https://api.pushshift.io/reddit/search/submission?subreddit=MovieDetails&size=500&after=270d\n",
      "900\n",
      "Query from timeframe: https://api.pushshift.io/reddit/search/submission?subreddit=MovieDetails&size=500&after=300d\n",
      "1000\n",
      "Query from timeframe: https://api.pushshift.io/reddit/search/submission?subreddit=MovieDetails&size=500&after=330d\n",
      "1100\n",
      "Query from timeframe: https://api.pushshift.io/reddit/search/submission?subreddit=MovieDetails&size=500&after=360d\n",
      "1200\n",
      "Query from timeframe: https://api.pushshift.io/reddit/search/submission?subreddit=MovieDetails&size=500&after=390d\n",
      "1300\n",
      "Query from timeframe: https://api.pushshift.io/reddit/search/submission?subreddit=MovieDetails&size=500&after=420d\n",
      "1400\n",
      "Query from timeframe: https://api.pushshift.io/reddit/search/submission?subreddit=MovieDetails&size=500&after=450d\n",
      "1500\n",
      "Query from timeframe: https://api.pushshift.io/reddit/search/submission?subreddit=MovieDetails&size=500&after=480d\n",
      "1600\n",
      "Query from timeframe: https://api.pushshift.io/reddit/search/submission?subreddit=MovieDetails&size=500&after=510d\n",
      "1700\n",
      "Query from timeframe: https://api.pushshift.io/reddit/search/submission?subreddit=MovieDetails&size=500&after=540d\n",
      "1800\n",
      "Query from timeframe: https://api.pushshift.io/reddit/search/submission?subreddit=MovieDetails&size=500&after=570d\n",
      "1900\n",
      "Query from timeframe: https://api.pushshift.io/reddit/search/submission?subreddit=MovieDetails&size=500&after=600d\n",
      "2000\n",
      "Query from timeframe: https://api.pushshift.io/reddit/search/submission?subreddit=MovieDetails&size=500&after=630d\n",
      "Query from timeframe: https://api.pushshift.io/reddit/search/submission?subreddit=MovieDetails&size=500&after=660d\n",
      "2100\n",
      "Query from timeframe: https://api.pushshift.io/reddit/search/submission?subreddit=MovieDetails&size=500&after=690d\n",
      "2200\n",
      "Query from timeframe: https://api.pushshift.io/reddit/search/submission?subreddit=MovieDetails&size=500&after=720d\n",
      "2300\n",
      "Query from timeframe: https://api.pushshift.io/reddit/search/submission?subreddit=MovieDetails&size=500&after=750d\n",
      "2400\n",
      "Query from timeframe: https://api.pushshift.io/reddit/search/submission?subreddit=MovieDetails&size=500&after=780d\n",
      "2500\n",
      "Query from timeframe: https://api.pushshift.io/reddit/search/submission?subreddit=MovieDetails&size=500&after=810d\n",
      "2600\n",
      "Query from timeframe: https://api.pushshift.io/reddit/search/submission?subreddit=MovieDetails&size=500&after=840d\n",
      "2700\n",
      "Query from timeframe: https://api.pushshift.io/reddit/search/submission?subreddit=MovieDetails&size=500&after=870d\n",
      "2800\n",
      "Query from timeframe: https://api.pushshift.io/reddit/search/submission?subreddit=MovieDetails&size=500&after=900d\n",
      "2900\n",
      "Query from timeframe: https://api.pushshift.io/reddit/search/submission?subreddit=MovieDetails&size=500&after=930d\n",
      "3000\n",
      "Query from timeframe: https://api.pushshift.io/reddit/search/submission?subreddit=MovieDetails&size=500&after=960d\n",
      "Query from timeframe: https://api.pushshift.io/reddit/search/submission?subreddit=MovieDetails&size=500&after=990d\n",
      "3073\n",
      "Query from timeframe: https://api.pushshift.io/reddit/search/submission?subreddit=MovieDetails&size=500&after=1020d\n",
      "3173\n",
      "Query from timeframe: https://api.pushshift.io/reddit/search/submission?subreddit=MovieDetails&size=500&after=1050d\n",
      "3273\n",
      "Query from timeframe: https://api.pushshift.io/reddit/search/submission?subreddit=MovieDetails&size=500&after=1080d\n",
      "3373\n",
      "Query from timeframe: https://api.pushshift.io/reddit/search/submission?subreddit=MovieDetails&size=500&after=1110d\n",
      "3473\n",
      "Query from timeframe: https://api.pushshift.io/reddit/search/submission?subreddit=MovieDetails&size=500&after=1140d\n",
      "3573\n",
      "Query from timeframe: https://api.pushshift.io/reddit/search/submission?subreddit=MovieDetails&size=500&after=1170d\n",
      "3673\n",
      "Query from timeframe: https://api.pushshift.io/reddit/search/submission?subreddit=MovieDetails&size=500&after=1200d\n",
      "3773\n",
      "Query from timeframe: https://api.pushshift.io/reddit/search/submission?subreddit=MovieDetails&size=500&after=1230d\n",
      "3873\n",
      "Query from timeframe: https://api.pushshift.io/reddit/search/submission?subreddit=MovieDetails&size=500&after=1260d\n",
      "3973\n",
      "Query from timeframe: https://api.pushshift.io/reddit/search/submission?subreddit=MovieDetails&size=500&after=1290d\n",
      "4073\n",
      "Query from timeframe: https://api.pushshift.io/reddit/search/submission?subreddit=MovieDetails&size=500&after=1320d\n",
      "Query from timeframe: https://api.pushshift.io/reddit/search/submission?subreddit=MovieDetails&size=500&after=1350d\n",
      "4173\n",
      "Query from timeframe: https://api.pushshift.io/reddit/search/submission?subreddit=MovieDetails&size=500&after=1380d\n",
      "4273\n",
      "Query from timeframe: https://api.pushshift.io/reddit/search/submission?subreddit=MovieDetails&size=500&after=1410d\n",
      "4373\n",
      "Query from timeframe: https://api.pushshift.io/reddit/search/submission?subreddit=MovieDetails&size=500&after=1440d\n",
      "4473\n",
      "Query from timeframe: https://api.pushshift.io/reddit/search/submission?subreddit=MovieDetails&size=500&after=1470d\n",
      "Query from timeframe: https://api.pushshift.io/reddit/search/submission?subreddit=MovieDetails&size=500&after=1500d\n",
      "4573\n",
      "Query from timeframe: https://api.pushshift.io/reddit/search/submission?subreddit=MovieDetails&size=500&after=1530d\n",
      "4673\n",
      "Query from timeframe: https://api.pushshift.io/reddit/search/submission?subreddit=MovieDetails&size=500&after=1560d\n",
      "4773\n",
      "Query from timeframe: https://api.pushshift.io/reddit/search/submission?subreddit=MovieDetails&size=500&after=1590d\n",
      "4873\n",
      "Query from timeframe: https://api.pushshift.io/reddit/search/submission?subreddit=MovieDetails&size=500&after=1620d\n",
      "Query from timeframe: https://api.pushshift.io/reddit/search/submission?subreddit=MovieDetails&size=500&after=1650d\n",
      "4973\n",
      "Query from timeframe: https://api.pushshift.io/reddit/search/submission?subreddit=MovieDetails&size=500&after=1680d\n",
      "5073\n",
      "Query from timeframe: https://api.pushshift.io/reddit/search/submission?subreddit=MovieDetails&size=500&after=1710d\n",
      "5173\n",
      "Query from timeframe: https://api.pushshift.io/reddit/search/submission?subreddit=MovieDetails&size=500&after=1740d\n",
      "5273\n",
      "Query from timeframe: https://api.pushshift.io/reddit/search/submission?subreddit=MovieDetails&size=500&after=1770d\n",
      "5373\n",
      "Query from timeframe: https://api.pushshift.io/reddit/search/submission?subreddit=MovieDetails&size=500&after=1800d\n",
      "5473\n",
      "Query from timeframe: https://api.pushshift.io/reddit/search/submission?subreddit=MovieDetails&size=500&after=1830d\n",
      "5573\n",
      "Query from timeframe: https://api.pushshift.io/reddit/search/submission?subreddit=MovieDetails&size=500&after=1860d\n",
      "Query from timeframe: https://api.pushshift.io/reddit/search/submission?subreddit=MovieDetails&size=500&after=1890d\n",
      "5673\n",
      "Query from timeframe: https://api.pushshift.io/reddit/search/submission?subreddit=MovieDetails&size=500&after=1920d\n",
      "5773\n",
      "Query from timeframe: https://api.pushshift.io/reddit/search/submission?subreddit=MovieDetails&size=500&after=1950d\n",
      "Query from timeframe: https://api.pushshift.io/reddit/search/submission?subreddit=MovieDetails&size=500&after=1980d\n",
      "5873\n",
      "Query from timeframe: https://api.pushshift.io/reddit/search/submission?subreddit=MovieDetails&size=500&after=2010d\n",
      "5973\n",
      "Query from timeframe: https://api.pushshift.io/reddit/search/submission?subreddit=MovieDetails&size=500&after=2040d\n",
      "6073\n",
      "Query from timeframe: https://api.pushshift.io/reddit/search/submission?subreddit=MovieDetails&size=500&after=2070d\n"
     ]
    },
    {
     "name": "stdout",
     "output_type": "stream",
     "text": [
      "6173\n",
      "Query from timeframe: https://api.pushshift.io/reddit/search/submission?subreddit=MovieDetails&size=500&after=2100d\n",
      "6273\n",
      "Query from timeframe: https://api.pushshift.io/reddit/search/submission?subreddit=MovieDetails&size=500&after=2130d\n",
      "6373\n",
      "Query from timeframe: https://api.pushshift.io/reddit/search/submission?subreddit=MovieDetails&size=500&after=2160d\n",
      "6473\n",
      "Query from timeframe: https://api.pushshift.io/reddit/search/submission?subreddit=MovieDetails&size=500&after=2190d\n",
      "6573\n",
      "Query from timeframe: https://api.pushshift.io/reddit/search/submission?subreddit=MovieDetails&size=500&after=2220d\n",
      "Query from timeframe: https://api.pushshift.io/reddit/search/submission?subreddit=MovieDetails&size=500&after=2250d\n",
      "6673\n",
      "Query from timeframe: https://api.pushshift.io/reddit/search/submission?subreddit=MovieDetails&size=500&after=2280d\n",
      "6773\n",
      "Query from timeframe: https://api.pushshift.io/reddit/search/submission?subreddit=MovieDetails&size=500&after=2310d\n",
      "6873\n",
      "Query from timeframe: https://api.pushshift.io/reddit/search/submission?subreddit=MovieDetails&size=500&after=2340d\n",
      "6973\n",
      "Query from timeframe: https://api.pushshift.io/reddit/search/submission?subreddit=MovieDetails&size=500&after=2370d\n",
      "7073\n",
      "Query from timeframe: https://api.pushshift.io/reddit/search/submission?subreddit=MovieDetails&size=500&after=2400d\n",
      "7173\n",
      "Query from timeframe: https://api.pushshift.io/reddit/search/submission?subreddit=MovieDetails&size=500&after=2430d\n",
      "7273\n",
      "Query from timeframe: https://api.pushshift.io/reddit/search/submission?subreddit=MovieDetails&size=500&after=2460d\n",
      "7373\n",
      "Query from timeframe: https://api.pushshift.io/reddit/search/submission?subreddit=MovieDetails&size=500&after=2490d\n",
      "7473\n",
      "Query from timeframe: https://api.pushshift.io/reddit/search/submission?subreddit=MovieDetails&size=500&after=2520d\n",
      "7573\n",
      "(651, 8)\n"
     ]
    },
    {
     "data": {
      "text/html": [
       "<div>\n",
       "<style scoped>\n",
       "    .dataframe tbody tr th:only-of-type {\n",
       "        vertical-align: middle;\n",
       "    }\n",
       "\n",
       "    .dataframe tbody tr th {\n",
       "        vertical-align: top;\n",
       "    }\n",
       "\n",
       "    .dataframe thead th {\n",
       "        text-align: right;\n",
       "    }\n",
       "</style>\n",
       "<table border=\"1\" class=\"dataframe\">\n",
       "  <thead>\n",
       "    <tr style=\"text-align: right;\">\n",
       "      <th></th>\n",
       "      <th>title</th>\n",
       "      <th>selftext</th>\n",
       "      <th>subreddit</th>\n",
       "      <th>created_utc</th>\n",
       "      <th>author</th>\n",
       "      <th>is_self</th>\n",
       "      <th>score</th>\n",
       "      <th>num_comments</th>\n",
       "      <th>timestamp</th>\n",
       "    </tr>\n",
       "  </thead>\n",
       "  <tbody>\n",
       "    <tr>\n",
       "      <th>0</th>\n",
       "      <td>The Snowspeeder's call sign, in Empire Strikes Back that finds Han and Luke, is Rouge Two.</td>\n",
       "      <td>[removed]</td>\n",
       "      <td>MovieDetails</td>\n",
       "      <td>1616876110</td>\n",
       "      <td>Knockaire</td>\n",
       "      <td>True</td>\n",
       "      <td>1</td>\n",
       "      <td>0</td>\n",
       "      <td>2021-03-27</td>\n",
       "    </tr>\n",
       "    <tr>\n",
       "      <th>1</th>\n",
       "      <td>Need Help with finding a movie or tv</td>\n",
       "      <td>[removed]</td>\n",
       "      <td>MovieDetails</td>\n",
       "      <td>1616907448</td>\n",
       "      <td>Specter-Ray</td>\n",
       "      <td>True</td>\n",
       "      <td>1</td>\n",
       "      <td>3</td>\n",
       "      <td>2021-03-27</td>\n",
       "    </tr>\n",
       "    <tr>\n",
       "      <th>2</th>\n",
       "      <td>Rush Hour 2 Snoopy Tattoo</td>\n",
       "      <td>[removed]</td>\n",
       "      <td>MovieDetails</td>\n",
       "      <td>1616916052</td>\n",
       "      <td>TheDarkWright</td>\n",
       "      <td>True</td>\n",
       "      <td>1</td>\n",
       "      <td>2</td>\n",
       "      <td>2021-03-28</td>\n",
       "    </tr>\n",
       "    <tr>\n",
       "      <th>3</th>\n",
       "      <td>[Zack Snyder's Justice League 2021] In Victor's vision of the Knightmare timeline we see...</td>\n",
       "      <td>...the Joker's card that he offers to Batman as part of a truce later in the fim, in **Batman's** vision of the Knightmare timeline. Joker says that as long as Batman has the card the truce stands...</td>\n",
       "      <td>MovieDetails</td>\n",
       "      <td>1616955984</td>\n",
       "      <td>beratna66</td>\n",
       "      <td>True</td>\n",
       "      <td>1</td>\n",
       "      <td>11</td>\n",
       "      <td>2021-03-28</td>\n",
       "    </tr>\n",
       "    <tr>\n",
       "      <th>4</th>\n",
       "      <td>Rush Hour 2 (2001) Snoopy Tattoo</td>\n",
       "      <td>I was watching Rush Hour 2 and there is a scene where Jackie Chan and Chris Tucker ae watching Isabella undress. They mention a tattoo above her butt that looks like Snoopy but upon closer inspect...</td>\n",
       "      <td>MovieDetails</td>\n",
       "      <td>1616978416</td>\n",
       "      <td>TheDarkWright</td>\n",
       "      <td>True</td>\n",
       "      <td>0</td>\n",
       "      <td>2</td>\n",
       "      <td>2021-03-28</td>\n",
       "    </tr>\n",
       "  </tbody>\n",
       "</table>\n",
       "</div>"
      ],
      "text/plain": [
       "                                                                                         title  \\\n",
       "0   The Snowspeeder's call sign, in Empire Strikes Back that finds Han and Luke, is Rouge Two.   \n",
       "1                                                         Need Help with finding a movie or tv   \n",
       "2                                                                    Rush Hour 2 Snoopy Tattoo   \n",
       "3  [Zack Snyder's Justice League 2021] In Victor's vision of the Knightmare timeline we see...   \n",
       "4                                                             Rush Hour 2 (2001) Snoopy Tattoo   \n",
       "\n",
       "                                                                                                                                                                                                  selftext  \\\n",
       "0                                                                                                                                                                                                [removed]   \n",
       "1                                                                                                                                                                                                [removed]   \n",
       "2                                                                                                                                                                                                [removed]   \n",
       "3  ...the Joker's card that he offers to Batman as part of a truce later in the fim, in **Batman's** vision of the Knightmare timeline. Joker says that as long as Batman has the card the truce stands...   \n",
       "4  I was watching Rush Hour 2 and there is a scene where Jackie Chan and Chris Tucker ae watching Isabella undress. They mention a tattoo above her butt that looks like Snoopy but upon closer inspect...   \n",
       "\n",
       "      subreddit  created_utc         author  is_self  score  num_comments  \\\n",
       "0  MovieDetails   1616876110      Knockaire     True      1             0   \n",
       "1  MovieDetails   1616907448    Specter-Ray     True      1             3   \n",
       "2  MovieDetails   1616916052  TheDarkWright     True      1             2   \n",
       "3  MovieDetails   1616955984      beratna66     True      1            11   \n",
       "4  MovieDetails   1616978416  TheDarkWright     True      0             2   \n",
       "\n",
       "    timestamp  \n",
       "0  2021-03-27  \n",
       "1  2021-03-27  \n",
       "2  2021-03-28  \n",
       "3  2021-03-28  \n",
       "4  2021-03-28  "
      ]
     },
     "execution_count": 25,
     "metadata": {},
     "output_type": "execute_result"
    }
   ],
   "source": [
    "movie_deets = fetch_posts('MovieDetails')\n",
    "movie_deets.head()"
   ]
  },
  {
   "cell_type": "code",
   "execution_count": 26,
   "metadata": {
    "ExecuteTime": {
     "end_time": "2021-04-25T07:37:43.513983Z",
     "start_time": "2021-04-25T07:37:43.503400Z"
    },
    "scrolled": false
   },
   "outputs": [],
   "source": [
    "#type(movie_deets)"
   ]
  },
  {
   "cell_type": "code",
   "execution_count": 27,
   "metadata": {
    "ExecuteTime": {
     "end_time": "2021-04-25T07:37:43.555711Z",
     "start_time": "2021-04-25T07:37:43.551177Z"
    }
   },
   "outputs": [],
   "source": [
    "#movie_deets.columns"
   ]
  },
  {
   "cell_type": "code",
   "execution_count": 28,
   "metadata": {
    "ExecuteTime": {
     "end_time": "2021-04-25T07:37:43.572570Z",
     "start_time": "2021-04-25T07:37:43.562004Z"
    }
   },
   "outputs": [
    {
     "data": {
      "text/plain": [
       "(651, 9)"
      ]
     },
     "execution_count": 28,
     "metadata": {},
     "output_type": "execute_result"
    }
   ],
   "source": [
    "movie_deets.shape"
   ]
  },
  {
   "cell_type": "markdown",
   "metadata": {},
   "source": [
    "### Repeat this process for our second subreddit"
   ]
  },
  {
   "cell_type": "code",
   "execution_count": null,
   "metadata": {
    "ExecuteTime": {
     "start_time": "2021-04-25T07:25:45.412Z"
    }
   },
   "outputs": [
    {
     "name": "stdout",
     "output_type": "stream",
     "text": [
      "Query from timeframe: https://api.pushshift.io/reddit/search/submission?subreddit=shittymoviedetails&size=500&after=30d\n",
      "100\n",
      "Query from timeframe: https://api.pushshift.io/reddit/search/submission?subreddit=shittymoviedetails&size=500&after=60d\n",
      "200\n",
      "Query from timeframe: https://api.pushshift.io/reddit/search/submission?subreddit=shittymoviedetails&size=500&after=90d\n",
      "300\n",
      "Query from timeframe: https://api.pushshift.io/reddit/search/submission?subreddit=shittymoviedetails&size=500&after=120d\n",
      "400\n",
      "Query from timeframe: https://api.pushshift.io/reddit/search/submission?subreddit=shittymoviedetails&size=500&after=150d\n",
      "500\n",
      "Query from timeframe: https://api.pushshift.io/reddit/search/submission?subreddit=shittymoviedetails&size=500&after=180d\n",
      "600\n",
      "Query from timeframe: https://api.pushshift.io/reddit/search/submission?subreddit=shittymoviedetails&size=500&after=210d\n",
      "Query from timeframe: https://api.pushshift.io/reddit/search/submission?subreddit=shittymoviedetails&size=500&after=240d\n",
      "700\n",
      "Query from timeframe: https://api.pushshift.io/reddit/search/submission?subreddit=shittymoviedetails&size=500&after=270d\n",
      "Query from timeframe: https://api.pushshift.io/reddit/search/submission?subreddit=shittymoviedetails&size=500&after=300d\n",
      "800\n",
      "Query from timeframe: https://api.pushshift.io/reddit/search/submission?subreddit=shittymoviedetails&size=500&after=330d\n",
      "900\n",
      "Query from timeframe: https://api.pushshift.io/reddit/search/submission?subreddit=shittymoviedetails&size=500&after=360d\n",
      "1000\n",
      "Query from timeframe: https://api.pushshift.io/reddit/search/submission?subreddit=shittymoviedetails&size=500&after=390d\n",
      "1100\n",
      "Query from timeframe: https://api.pushshift.io/reddit/search/submission?subreddit=shittymoviedetails&size=500&after=420d\n",
      "1200\n",
      "Query from timeframe: https://api.pushshift.io/reddit/search/submission?subreddit=shittymoviedetails&size=500&after=450d\n",
      "1300\n",
      "Query from timeframe: https://api.pushshift.io/reddit/search/submission?subreddit=shittymoviedetails&size=500&after=480d\n",
      "1400\n",
      "Query from timeframe: https://api.pushshift.io/reddit/search/submission?subreddit=shittymoviedetails&size=500&after=510d\n",
      "1500\n",
      "Query from timeframe: https://api.pushshift.io/reddit/search/submission?subreddit=shittymoviedetails&size=500&after=540d\n",
      "1600\n",
      "Query from timeframe: https://api.pushshift.io/reddit/search/submission?subreddit=shittymoviedetails&size=500&after=570d\n",
      "1700\n",
      "Query from timeframe: https://api.pushshift.io/reddit/search/submission?subreddit=shittymoviedetails&size=500&after=600d\n",
      "1800\n",
      "Query from timeframe: https://api.pushshift.io/reddit/search/submission?subreddit=shittymoviedetails&size=500&after=630d\n",
      "1900\n",
      "Query from timeframe: https://api.pushshift.io/reddit/search/submission?subreddit=shittymoviedetails&size=500&after=660d\n",
      "2000\n",
      "Query from timeframe: https://api.pushshift.io/reddit/search/submission?subreddit=shittymoviedetails&size=500&after=690d\n",
      "2100\n",
      "Query from timeframe: https://api.pushshift.io/reddit/search/submission?subreddit=shittymoviedetails&size=500&after=720d\n",
      "2200\n",
      "Query from timeframe: https://api.pushshift.io/reddit/search/submission?subreddit=shittymoviedetails&size=500&after=750d\n",
      "Query from timeframe: https://api.pushshift.io/reddit/search/submission?subreddit=shittymoviedetails&size=500&after=780d\n",
      "2300\n",
      "Query from timeframe: https://api.pushshift.io/reddit/search/submission?subreddit=shittymoviedetails&size=500&after=810d\n",
      "2400\n",
      "Query from timeframe: https://api.pushshift.io/reddit/search/submission?subreddit=shittymoviedetails&size=500&after=840d\n",
      "2500\n",
      "Query from timeframe: https://api.pushshift.io/reddit/search/submission?subreddit=shittymoviedetails&size=500&after=870d\n",
      "2600\n",
      "Query from timeframe: https://api.pushshift.io/reddit/search/submission?subreddit=shittymoviedetails&size=500&after=900d\n",
      "2700\n",
      "Query from timeframe: https://api.pushshift.io/reddit/search/submission?subreddit=shittymoviedetails&size=500&after=930d\n",
      "2800\n",
      "Query from timeframe: https://api.pushshift.io/reddit/search/submission?subreddit=shittymoviedetails&size=500&after=960d\n",
      "2900\n",
      "Query from timeframe: https://api.pushshift.io/reddit/search/submission?subreddit=shittymoviedetails&size=500&after=990d\n",
      "2975\n",
      "Query from timeframe: https://api.pushshift.io/reddit/search/submission?subreddit=shittymoviedetails&size=500&after=1020d\n",
      "3075\n",
      "Query from timeframe: https://api.pushshift.io/reddit/search/submission?subreddit=shittymoviedetails&size=500&after=1050d\n"
     ]
    }
   ],
   "source": [
    "bad_deets = fetch_posts('shittymoviedetails')\n",
    "print(bad_deets.shape)\n",
    "bad_deets.head()"
   ]
  },
  {
   "cell_type": "markdown",
   "metadata": {},
   "source": [
    "### Output the dataframes!"
   ]
  },
  {
   "cell_type": "code",
   "execution_count": null,
   "metadata": {
    "ExecuteTime": {
     "start_time": "2021-04-25T07:25:45.571Z"
    }
   },
   "outputs": [],
   "source": [
    "movie_deets.to_csv('../data_outputs/good_movie_deets.csv', index=False)\n",
    "bad_deets.to_csv('../data_outputs/bad_movie_deets.csv', index=False)"
   ]
  },
  {
   "cell_type": "markdown",
   "metadata": {},
   "source": [
    "## Cleaning and EDA"
   ]
  },
  {
   "cell_type": "markdown",
   "metadata": {},
   "source": [
    "Let's look at basic stats about our data."
   ]
  },
  {
   "cell_type": "code",
   "execution_count": null,
   "metadata": {
    "ExecuteTime": {
     "start_time": "2021-04-25T07:25:45.903Z"
    }
   },
   "outputs": [],
   "source": [
    "#<df>.isnull().sum()"
   ]
  },
  {
   "cell_type": "markdown",
   "metadata": {},
   "source": [
    "Let's understand the density and usefulness of our content, by analyzing the volume of comments and looking for the richness of the text-heavy columns we are expecting.\n",
    "\n",
    "We are also going to see, whether there are any interesting prospective features for training our models."
   ]
  },
  {
   "cell_type": "code",
   "execution_count": null,
   "metadata": {
    "ExecuteTime": {
     "start_time": "2021-04-25T07:25:46.075Z"
    },
    "scrolled": true
   },
   "outputs": [],
   "source": [
    "#<df>['num_comments'].value_counts()"
   ]
  },
  {
   "cell_type": "code",
   "execution_count": null,
   "metadata": {
    "ExecuteTime": {
     "start_time": "2021-04-25T07:25:46.081Z"
    }
   },
   "outputs": [],
   "source": [
    "#check for post density\n",
    "#<df>['selftext'].value_counts()"
   ]
  },
  {
   "cell_type": "code",
   "execution_count": null,
   "metadata": {
    "ExecuteTime": {
     "start_time": "2021-04-25T07:25:46.087Z"
    }
   },
   "outputs": [],
   "source": [
    "#<df>['title'].value_counts()"
   ]
  },
  {
   "cell_type": "code",
   "execution_count": null,
   "metadata": {
    "ExecuteTime": {
     "start_time": "2021-04-25T07:25:46.093Z"
    }
   },
   "outputs": [],
   "source": [
    "#<df>['author'].value_counts() #get only unique"
   ]
  },
  {
   "cell_type": "markdown",
   "metadata": {},
   "source": [
    "## NLP & feature eng"
   ]
  },
  {
   "cell_type": "markdown",
   "metadata": {},
   "source": [
    "### Word analysis"
   ]
  },
  {
   "cell_type": "code",
   "execution_count": null,
   "metadata": {
    "ExecuteTime": {
     "start_time": "2021-04-25T07:25:46.456Z"
    }
   },
   "outputs": [],
   "source": [
    "#word freq\n",
    "#vectorize self-text"
   ]
  },
  {
   "cell_type": "code",
   "execution_count": null,
   "metadata": {
    "ExecuteTime": {
     "start_time": "2021-04-25T07:25:46.467Z"
    }
   },
   "outputs": [],
   "source": [
    "#sentiment"
   ]
  },
  {
   "cell_type": "code",
   "execution_count": null,
   "metadata": {},
   "outputs": [],
   "source": []
  }
 ],
 "metadata": {
  "kernelspec": {
   "display_name": "Python 3",
   "language": "python",
   "name": "python3"
  },
  "language_info": {
   "codemirror_mode": {
    "name": "ipython",
    "version": 3
   },
   "file_extension": ".py",
   "mimetype": "text/x-python",
   "name": "python",
   "nbconvert_exporter": "python",
   "pygments_lexer": "ipython3",
   "version": "3.8.3"
  },
  "latex_envs": {
   "LaTeX_envs_menu_present": true,
   "autoclose": false,
   "autocomplete": true,
   "bibliofile": "biblio.bib",
   "cite_by": "apalike",
   "current_citInitial": 1,
   "eqLabelWithNumbers": true,
   "eqNumInitial": 1,
   "hotkeys": {
    "equation": "Ctrl-E",
    "itemize": "Ctrl-I"
   },
   "labels_anchors": false,
   "latex_user_defs": false,
   "report_style_numbering": false,
   "user_envs_cfg": false
  },
  "toc": {
   "base_numbering": 1,
   "nav_menu": {},
   "number_sections": true,
   "sideBar": true,
   "skip_h1_title": false,
   "title_cell": "Table of Contents",
   "title_sidebar": "Contents",
   "toc_cell": false,
   "toc_position": {},
   "toc_section_display": true,
   "toc_window_display": true
  },
  "varInspector": {
   "cols": {
    "lenName": 16,
    "lenType": 16,
    "lenVar": 40
   },
   "kernels_config": {
    "python": {
     "delete_cmd_postfix": "",
     "delete_cmd_prefix": "del ",
     "library": "var_list.py",
     "varRefreshCmd": "print(var_dic_list())"
    },
    "r": {
     "delete_cmd_postfix": ") ",
     "delete_cmd_prefix": "rm(",
     "library": "var_list.r",
     "varRefreshCmd": "cat(var_dic_list()) "
    }
   },
   "types_to_exclude": [
    "module",
    "function",
    "builtin_function_or_method",
    "instance",
    "_Feature"
   ],
   "window_display": false
  }
 },
 "nbformat": 4,
 "nbformat_minor": 4
}

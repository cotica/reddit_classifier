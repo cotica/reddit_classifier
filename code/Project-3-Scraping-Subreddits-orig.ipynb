{
 "cells": [
  {
   "cell_type": "markdown",
   "metadata": {},
   "source": [
    "# Scraping subreddits\n",
    "\n",
    "\n",
    "## Problem statement\n",
    "---\n",
    "We are producing a trivia focused, _Jeopardy_ or _Who Wants to Be a Millionaire_* style game show, where we want the audience to guess the source of the movie details. Everything is scrambled together! The task: figure out if the details came from good movie details, or whether the movie production team took a shorcut and landed in Sh**ty Movie Details!\n",
    "\n",
    "*Trademarks of their appropiate productions\n",
    "\n",
    "To do this, we are going to solve the problem using a classifer trained on some subreddit data.\n",
    "\n",
    "_Thanks to Gwen Rathgeber for some inspiration during the quest for a compelling problem statement!_\n",
    "\n",
    "![](https://www.bigraildiversity.co.uk/wp-content/uploads/2018/10/Night-at-the-Movies-Converted-900x600.png)\n",
    "\n",
    "\n",
    "## Data sources and references\n",
    "\n",
    "---\n",
    "\n",
    "1. GENERAL NOTE ON ATTRIBUTION: The work throughout this Report, including many if not most coding techniques, rely and borrow heavily from code discussed in Riley Dallas, Sophie \"Sonya\" Tabac, Charlie Rice, Heather Robbins, and Gwen Rathgeber's class lectures, Notebooks, GitHub repositories, tips on techniques and troubleshooting help. The code is adapted to solve our specific problem.\n",
    "\n",
    "\n",
    "2. The following subReddits were scraped:\n",
    "\n",
    "    * [Movie Details](https://www.reddit.com/r/MovieDetails/)\n",
    "    * [Sh**ty Movie Details](https://www.reddit.com/r/shittymoviedetails/)\n",
    "\n",
    "---\n",
    "\n",
    "### Note on the data and style\n",
    "\n",
    "Strong language may appear in various Reddit posts in raw form. To the extent possible, it shall be cleaned in the course of the project. There also may be some humor used throughout the presentation of the analysis.\n",
    "\n",
    "---\n",
    "\n",
    "## Webscrape - let's fetch some data!"
   ]
  },
  {
   "cell_type": "markdown",
   "metadata": {},
   "source": [
    "We'll import all our required libraries up here."
   ]
  },
  {
   "cell_type": "code",
   "execution_count": 1,
   "metadata": {
    "ExecuteTime": {
     "end_time": "2021-04-25T06:36:55.222965Z",
     "start_time": "2021-04-25T06:36:43.568515Z"
    }
   },
   "outputs": [],
   "source": [
    "#import libraries\n",
    "import pandas as pd, numpy as np, requests, time, nltk, datetime as dt\n",
    "\n",
    "#NLP\n",
    "from nltk.stem import WordNetLemmatizer\n",
    "from nltk.sentiment.vader import SentimentIntensityAnalyzer\n",
    "\n",
    "import gensim.downloader as api #allows us to get word2vec anf glove embeddins that we need\n",
    "from gensim.models.word2vec import Word2Vec\n",
    "from transformers import pipeline\n",
    "from sklearn.feature_extraction.text import CountVectorizer, TfidfVectorizer\n",
    "\n",
    "\n",
    "#classifiers\n",
    "from sklearn.neighbors import KNeighborsClassifier\n",
    "from sklearn.preprocessing import StandardScaler\n",
    "from sklearn.linear_model import LogisticRegression\n",
    "from sklearn.metrics import (accuracy_score, confusion_matrix, plot_confusion_matrix, \\\n",
    "                             recall_score, precision_score)\n",
    "from sklearn.pipeline import Pipeline\n",
    "from sklearn.model_selection import train_test_split, GridSearchCV, cross_val_score\n",
    "from sklearn.dummy import DummyClassifier\n",
    "\n",
    "\n",
    "# easier to see full text with a bigger maxwidth:\n",
    "pd.options.display.max_colwidth = 200"
   ]
  },
  {
   "cell_type": "code",
   "execution_count": 2,
   "metadata": {
    "ExecuteTime": {
     "end_time": "2021-04-25T06:36:55.228505Z",
     "start_time": "2021-04-25T06:36:55.224945Z"
    }
   },
   "outputs": [],
   "source": [
    "#pip install python-Levenshtein\n",
    "#this is for the gensim.similarities.levenshtein submodule"
   ]
  },
  {
   "cell_type": "markdown",
   "metadata": {},
   "source": [
    "Next, we will use the PushShift API to collect the subReddit data we need.\n",
    "\n",
    "More information about the API can be found on the [Pushshift repo](https://github.com/pushshift/api)."
   ]
  },
  {
   "cell_type": "markdown",
   "metadata": {},
   "source": [
    "### Set up single post scrape"
   ]
  },
  {
   "cell_type": "code",
   "execution_count": 3,
   "metadata": {
    "ExecuteTime": {
     "end_time": "2021-04-25T06:36:55.235081Z",
     "start_time": "2021-04-25T06:36:55.231463Z"
    }
   },
   "outputs": [],
   "source": [
    "#Query the PushShift API for the subReddit data we need\n",
    "url = 'https://api.pushshift.io/reddit/search/submission?subreddit=MovieDetails'\n",
    "url2 = 'https://api.pushshift.io/reddit/search/submission?subreddit=shittymoviedetails'"
   ]
  },
  {
   "cell_type": "markdown",
   "metadata": {},
   "source": [
    "_PRO-TIP: We can paste the URL in browser to preview the JSON format._\n",
    "\n",
    "Next, we need to define some parameters and then confirm that we get a response from the API, from both the subReddits. (NOTE: There is no key needed to access the Reddit API.)"
   ]
  },
  {
   "cell_type": "code",
   "execution_count": 4,
   "metadata": {
    "ExecuteTime": {
     "end_time": "2021-04-25T06:36:55.243209Z",
     "start_time": "2021-04-25T06:36:55.239004Z"
    }
   },
   "outputs": [],
   "source": [
    "#define what we need to get from the subreddit\n",
    "params = {\n",
    "    'subreddit': 'MovieDetails',\n",
    "    'size' : 100 #100 seems to be the max, even if change this to a greater size\n",
    "#    'before': ''\n",
    "}"
   ]
  },
  {
   "cell_type": "code",
   "execution_count": 5,
   "metadata": {
    "ExecuteTime": {
     "end_time": "2021-04-25T06:36:55.249907Z",
     "start_time": "2021-04-25T06:36:55.245955Z"
    }
   },
   "outputs": [],
   "source": [
    "#define what we need to get from the subreddit\n",
    "params2 = {\n",
    "    'subreddit': 'shittymoviedetails',\n",
    "    'size' : 100 #100 seems to be the max, even if change this to a greater size\n",
    "#    'before': ''\n",
    "}"
   ]
  },
  {
   "cell_type": "markdown",
   "metadata": {},
   "source": [
    "Let's check that our response is valid -- we are looking for a 200 response code."
   ]
  },
  {
   "cell_type": "code",
   "execution_count": 6,
   "metadata": {
    "ExecuteTime": {
     "end_time": "2021-04-25T06:36:56.055878Z",
     "start_time": "2021-04-25T06:36:55.252573Z"
    }
   },
   "outputs": [
    {
     "data": {
      "text/plain": [
       "200"
      ]
     },
     "execution_count": 6,
     "metadata": {},
     "output_type": "execute_result"
    }
   ],
   "source": [
    "res = requests.get(url, params) \n",
    "res.status_code"
   ]
  },
  {
   "cell_type": "code",
   "execution_count": 7,
   "metadata": {
    "ExecuteTime": {
     "end_time": "2021-04-25T06:37:04.592323Z",
     "start_time": "2021-04-25T06:36:56.057696Z"
    }
   },
   "outputs": [
    {
     "data": {
      "text/plain": [
       "200"
      ]
     },
     "execution_count": 7,
     "metadata": {},
     "output_type": "execute_result"
    }
   ],
   "source": [
    "res2 = requests.get(url2, params2)\n",
    "res2.status_code"
   ]
  },
  {
   "cell_type": "markdown",
   "metadata": {},
   "source": [
    "Let's look at the content we fetched, for a single post:"
   ]
  },
  {
   "cell_type": "code",
   "execution_count": 8,
   "metadata": {
    "ExecuteTime": {
     "end_time": "2021-04-25T06:37:04.611062Z",
     "start_time": "2021-04-25T06:37:04.595341Z"
    },
    "scrolled": true
   },
   "outputs": [
    {
     "name": "stdout",
     "output_type": "stream",
     "text": [
      "<class 'requests.models.Response'>\n",
      "{'all_awardings': [], 'allow_live_comments': False, 'author': 'stalwartGRUNT', 'author_flair_css_class': None, 'author_flair_richtext': [], 'author_flair_text': None, 'author_flair_type': 'text', 'author_fullname': 't2_1k03g353', 'author_patreon_flair': False, 'author_premium': False, 'awarders': [], 'can_mod_post': False, 'contest_mode': False, 'created_utc': 1619331027, 'domain': 'i.redd.it', 'full_link': 'https://www.reddit.com/r/MovieDetails/comments/my298f/in_rango_2011_the_bottle_he_uses_to_shield/', 'gildings': {}, 'id': 'my298f', 'is_crosspostable': True, 'is_meta': False, 'is_original_content': False, 'is_reddit_media_domain': True, 'is_robot_indexable': True, 'is_self': False, 'is_video': False, 'link_flair_background_color': '#0079d3', 'link_flair_css_class': 'Image', 'link_flair_richtext': [{'e': 'text', 't': '🥚 Easter Egg'}], 'link_flair_template_id': 'b968d6fa-5f2d-11e7-8e64-0e8c19beb1c6', 'link_flair_text': '🥚 Easter Egg', 'link_flair_text_color': 'light', 'link_flair_type': 'richtext', 'locked': False, 'media_only': False, 'no_follow': True, 'num_comments': 1, 'num_crossposts': 0, 'over_18': False, 'parent_whitelist_status': 'all_ads', 'permalink': '/r/MovieDetails/comments/my298f/in_rango_2011_the_bottle_he_uses_to_shield/', 'pinned': False, 'post_hint': 'image', 'preview': {'enabled': True, 'images': [{'id': 'sZQgXf5SfmL78tfpDdh5LIjEVCx11JcsLTkqjzHJYOs', 'resolutions': [{'height': 45, 'url': 'https://preview.redd.it/ixckf2org9v61.png?width=108&amp;crop=smart&amp;auto=webp&amp;s=cc0863fb3f6fd54b76085a5a2f26bcd4e6898efd', 'width': 108}, {'height': 90, 'url': 'https://preview.redd.it/ixckf2org9v61.png?width=216&amp;crop=smart&amp;auto=webp&amp;s=b90f95021c0e5be7b6681a30425109642da786a9', 'width': 216}, {'height': 133, 'url': 'https://preview.redd.it/ixckf2org9v61.png?width=320&amp;crop=smart&amp;auto=webp&amp;s=e21a353f8dc51dd75b8f4d8e9b7e702643361035', 'width': 320}, {'height': 267, 'url': 'https://preview.redd.it/ixckf2org9v61.png?width=640&amp;crop=smart&amp;auto=webp&amp;s=cf46b176f83213d77a2ab2c94286bbaee68f2f29', 'width': 640}, {'height': 401, 'url': 'https://preview.redd.it/ixckf2org9v61.png?width=960&amp;crop=smart&amp;auto=webp&amp;s=ffc3bd0810baf1e3ea0ac4b2319a11fc5cab4a4b', 'width': 960}, {'height': 451, 'url': 'https://preview.redd.it/ixckf2org9v61.png?width=1080&amp;crop=smart&amp;auto=webp&amp;s=c7b61f7fb00fd586bfce0140261db93149a8487c', 'width': 1080}], 'source': {'height': 803, 'url': 'https://preview.redd.it/ixckf2org9v61.png?auto=webp&amp;s=2f071df06079791688bad9f97780433fc4800b3d', 'width': 1920}, 'variants': {'obfuscated': {'resolutions': [{'height': 45, 'url': 'https://preview.redd.it/ixckf2org9v61.png?width=108&amp;crop=smart&amp;blur=10&amp;format=pjpg&amp;auto=webp&amp;s=330aa05e5ba173e94346a1b6b7a5bc7583cb1862', 'width': 108}, {'height': 90, 'url': 'https://preview.redd.it/ixckf2org9v61.png?width=216&amp;crop=smart&amp;blur=21&amp;format=pjpg&amp;auto=webp&amp;s=225f29b5b0cdfbf35cb0e34a2397f57306222e4a', 'width': 216}, {'height': 133, 'url': 'https://preview.redd.it/ixckf2org9v61.png?width=320&amp;crop=smart&amp;blur=32&amp;format=pjpg&amp;auto=webp&amp;s=611a661e285b8d4232f4a65db353fd1930877882', 'width': 320}, {'height': 267, 'url': 'https://preview.redd.it/ixckf2org9v61.png?width=640&amp;crop=smart&amp;blur=40&amp;format=pjpg&amp;auto=webp&amp;s=bab0e720a7af83604712ca4d8742219d1f7e2d99', 'width': 640}, {'height': 401, 'url': 'https://preview.redd.it/ixckf2org9v61.png?width=960&amp;crop=smart&amp;blur=40&amp;format=pjpg&amp;auto=webp&amp;s=6ee2ed3e348403d1e1563f433e2b235c3a15d047', 'width': 960}, {'height': 451, 'url': 'https://preview.redd.it/ixckf2org9v61.png?width=1080&amp;crop=smart&amp;blur=40&amp;format=pjpg&amp;auto=webp&amp;s=fbe69ffbde5b37849545d5f2f8a40f0f1359d0d7', 'width': 1080}], 'source': {'height': 803, 'url': 'https://preview.redd.it/ixckf2org9v61.png?blur=40&amp;format=pjpg&amp;auto=webp&amp;s=ffbfa4ff36ecef751bbd74f22152ee728f23e538', 'width': 1920}}}}]}, 'pwls': 6, 'retrieved_on': 1619331038, 'score': 1, 'selftext': '', 'send_replies': True, 'spoiler': True, 'stickied': False, 'subreddit': 'MovieDetails', 'subreddit_id': 't5_3md1s', 'subreddit_subscribers': 2289054, 'subreddit_type': 'public', 'suggested_sort': 'confidence', 'thumbnail': 'spoiler', 'thumbnail_height': 58, 'thumbnail_width': 140, 'title': 'In Rango (2011), The bottle he uses to shield himself from the hawk has a faded Mexican soda company logo, jarritos', 'total_awards_received': 0, 'treatment_tags': [], 'upvote_ratio': 1.0, 'url': 'https://i.redd.it/ixckf2org9v61.png', 'url_overridden_by_dest': 'https://i.redd.it/ixckf2org9v61.png', 'whitelist_status': 'all_ads', 'wls': 6}\n",
      "<class 'dict'>\n",
      "dict_keys(['data'])\n"
     ]
    }
   ],
   "source": [
    "print(type(res)) #check attrs\n",
    "\n",
    "data = res.json() #get the content in JSON format\n",
    "\n",
    "orig_posts = data['data'][0] #Fetch the list of first posts\n",
    "\n",
    "#verify what we got\n",
    "print(orig_posts)\n",
    "\n",
    "print(type(orig_posts))\n",
    "\n",
    "print(data.keys())"
   ]
  },
  {
   "cell_type": "markdown",
   "metadata": {},
   "source": [
    "Everything we do, we have to repeat for our second subReddit."
   ]
  },
  {
   "cell_type": "code",
   "execution_count": 9,
   "metadata": {
    "ExecuteTime": {
     "end_time": "2021-04-25T06:37:04.628622Z",
     "start_time": "2021-04-25T06:37:04.613963Z"
    }
   },
   "outputs": [
    {
     "data": {
      "text/plain": [
       "{'all_awardings': [],\n",
       " 'allow_live_comments': False,\n",
       " 'author': 'ConsistentTop954',\n",
       " 'author_flair_css_class': None,\n",
       " 'author_flair_richtext': [],\n",
       " 'author_flair_text': None,\n",
       " 'author_flair_type': 'text',\n",
       " 'author_fullname': 't2_br0rfjjh',\n",
       " 'author_patreon_flair': False,\n",
       " 'author_premium': False,\n",
       " 'awarders': [],\n",
       " 'can_mod_post': False,\n",
       " 'contest_mode': False,\n",
       " 'created_utc': 1619332362,\n",
       " 'domain': 'i.redd.it',\n",
       " 'full_link': 'https://www.reddit.com/r/shittymoviedetails/comments/my2joe/in_joker_2019_before_the_show_starts_murray_tells/',\n",
       " 'gildings': {},\n",
       " 'id': 'my2joe',\n",
       " 'is_crosspostable': True,\n",
       " 'is_meta': False,\n",
       " 'is_original_content': False,\n",
       " 'is_reddit_media_domain': True,\n",
       " 'is_robot_indexable': True,\n",
       " 'is_self': False,\n",
       " 'is_video': False,\n",
       " 'link_flair_background_color': '',\n",
       " 'link_flair_richtext': [],\n",
       " 'link_flair_text_color': 'dark',\n",
       " 'link_flair_type': 'text',\n",
       " 'locked': False,\n",
       " 'media_only': False,\n",
       " 'no_follow': True,\n",
       " 'num_comments': 0,\n",
       " 'num_crossposts': 0,\n",
       " 'over_18': False,\n",
       " 'parent_whitelist_status': 'some_ads',\n",
       " 'permalink': '/r/shittymoviedetails/comments/my2joe/in_joker_2019_before_the_show_starts_murray_tells/',\n",
       " 'pinned': False,\n",
       " 'post_hint': 'image',\n",
       " 'preview': {'enabled': True,\n",
       "  'images': [{'id': 'oKCjR618eNQ3ZPogRqbl0AhQHbP6IoqwuEHd65gS7hc',\n",
       "    'resolutions': [{'height': 60,\n",
       "      'url': 'https://preview.redd.it/hq3ubqnvj9v61.jpg?width=108&amp;crop=smart&amp;auto=webp&amp;s=c2544403d51785c0fe2e5bd3377abeb17cdbe2c1',\n",
       "      'width': 108},\n",
       "     {'height': 121,\n",
       "      'url': 'https://preview.redd.it/hq3ubqnvj9v61.jpg?width=216&amp;crop=smart&amp;auto=webp&amp;s=1c9a38ef7fe78feb325c027dcb9a4d23706144c3',\n",
       "      'width': 216},\n",
       "     {'height': 180,\n",
       "      'url': 'https://preview.redd.it/hq3ubqnvj9v61.jpg?width=320&amp;crop=smart&amp;auto=webp&amp;s=8dfbb938d5d3775654caf76bc109ae3704f9a46f',\n",
       "      'width': 320},\n",
       "     {'height': 360,\n",
       "      'url': 'https://preview.redd.it/hq3ubqnvj9v61.jpg?width=640&amp;crop=smart&amp;auto=webp&amp;s=313c4368ff3fb7125d3c9b3fa9876abe50601ada',\n",
       "      'width': 640},\n",
       "     {'height': 540,\n",
       "      'url': 'https://preview.redd.it/hq3ubqnvj9v61.jpg?width=960&amp;crop=smart&amp;auto=webp&amp;s=0bcbf52c6db5cf646dbbd009d140a478f3d14352',\n",
       "      'width': 960},\n",
       "     {'height': 607,\n",
       "      'url': 'https://preview.redd.it/hq3ubqnvj9v61.jpg?width=1080&amp;crop=smart&amp;auto=webp&amp;s=aba32828e799423a335be4adccaf602250e2fdaf',\n",
       "      'width': 1080}],\n",
       "    'source': {'height': 720,\n",
       "     'url': 'https://preview.redd.it/hq3ubqnvj9v61.jpg?auto=webp&amp;s=ce8292c4871ec641ffe3535b57971c2000b9c356',\n",
       "     'width': 1280},\n",
       "    'variants': {}}]},\n",
       " 'pwls': 7,\n",
       " 'retrieved_on': 1619332373,\n",
       " 'score': 1,\n",
       " 'selftext': '',\n",
       " 'send_replies': True,\n",
       " 'spoiler': False,\n",
       " 'stickied': False,\n",
       " 'subreddit': 'shittymoviedetails',\n",
       " 'subreddit_id': 't5_3mj3w',\n",
       " 'subreddit_subscribers': 600044,\n",
       " 'subreddit_type': 'public',\n",
       " 'suggested_sort': 'confidence',\n",
       " 'thumbnail': 'https://b.thumbs.redditmedia.com/zqF3YvO-vTsFdpmWNwt_Y72r0HwrAGzjiRerZYfjSos.jpg',\n",
       " 'thumbnail_height': 78,\n",
       " 'thumbnail_width': 140,\n",
       " 'title': 'In Joker (2019), before the show starts, Murray tells Arthur that cursing isn’t allowed. However, during the show, Arthur says “You get what you fucking deserve.” This may indicate that Arthur might not like Murray.',\n",
       " 'total_awards_received': 0,\n",
       " 'treatment_tags': [],\n",
       " 'upvote_ratio': 1.0,\n",
       " 'url': 'https://i.redd.it/hq3ubqnvj9v61.jpg',\n",
       " 'url_overridden_by_dest': 'https://i.redd.it/hq3ubqnvj9v61.jpg',\n",
       " 'whitelist_status': 'some_ads',\n",
       " 'wls': 7}"
      ]
     },
     "execution_count": 9,
     "metadata": {},
     "output_type": "execute_result"
    }
   ],
   "source": [
    "#repeat for the 2nd subreddit\n",
    "data2 = res2.json() #get the content in JSON format\n",
    "posts2 = data2['data'][0] #Fetch the list of first post\n",
    "posts2"
   ]
  },
  {
   "cell_type": "code",
   "execution_count": 10,
   "metadata": {
    "ExecuteTime": {
     "end_time": "2021-04-25T06:37:04.641178Z",
     "start_time": "2021-04-25T06:37:04.631585Z"
    }
   },
   "outputs": [
    {
     "data": {
      "text/plain": [
       "66"
      ]
     },
     "execution_count": 10,
     "metadata": {},
     "output_type": "execute_result"
    }
   ],
   "source": [
    "len(orig_posts)"
   ]
  },
  {
   "cell_type": "markdown",
   "metadata": {},
   "source": [
    "Let's take a look at what we pulled in a more visually accessible format."
   ]
  },
  {
   "cell_type": "code",
   "execution_count": 11,
   "metadata": {
    "ExecuteTime": {
     "end_time": "2021-04-25T06:37:04.697005Z",
     "start_time": "2021-04-25T06:37:04.643331Z"
    }
   },
   "outputs": [
    {
     "data": {
      "text/html": [
       "<div>\n",
       "<style scoped>\n",
       "    .dataframe tbody tr th:only-of-type {\n",
       "        vertical-align: middle;\n",
       "    }\n",
       "\n",
       "    .dataframe tbody tr th {\n",
       "        vertical-align: top;\n",
       "    }\n",
       "\n",
       "    .dataframe thead th {\n",
       "        text-align: right;\n",
       "    }\n",
       "</style>\n",
       "<table border=\"1\" class=\"dataframe\">\n",
       "  <thead>\n",
       "    <tr style=\"text-align: right;\">\n",
       "      <th></th>\n",
       "      <th>all_awardings</th>\n",
       "      <th>allow_live_comments</th>\n",
       "      <th>author</th>\n",
       "      <th>author_flair_css_class</th>\n",
       "      <th>author_flair_richtext</th>\n",
       "      <th>author_flair_text</th>\n",
       "      <th>author_flair_type</th>\n",
       "      <th>author_fullname</th>\n",
       "      <th>author_patreon_flair</th>\n",
       "      <th>author_premium</th>\n",
       "      <th>...</th>\n",
       "      <th>removed_by_category</th>\n",
       "      <th>media</th>\n",
       "      <th>media_embed</th>\n",
       "      <th>secure_media</th>\n",
       "      <th>secure_media_embed</th>\n",
       "      <th>gallery_data</th>\n",
       "      <th>is_gallery</th>\n",
       "      <th>media_metadata</th>\n",
       "      <th>author_flair_template_id</th>\n",
       "      <th>author_flair_text_color</th>\n",
       "    </tr>\n",
       "  </thead>\n",
       "  <tbody>\n",
       "    <tr>\n",
       "      <th>0</th>\n",
       "      <td>[]</td>\n",
       "      <td>False</td>\n",
       "      <td>stalwartGRUNT</td>\n",
       "      <td>None</td>\n",
       "      <td>[]</td>\n",
       "      <td>None</td>\n",
       "      <td>text</td>\n",
       "      <td>t2_1k03g353</td>\n",
       "      <td>False</td>\n",
       "      <td>False</td>\n",
       "      <td>...</td>\n",
       "      <td>NaN</td>\n",
       "      <td>NaN</td>\n",
       "      <td>NaN</td>\n",
       "      <td>NaN</td>\n",
       "      <td>NaN</td>\n",
       "      <td>NaN</td>\n",
       "      <td>NaN</td>\n",
       "      <td>NaN</td>\n",
       "      <td>NaN</td>\n",
       "      <td>NaN</td>\n",
       "    </tr>\n",
       "    <tr>\n",
       "      <th>1</th>\n",
       "      <td>[]</td>\n",
       "      <td>False</td>\n",
       "      <td>WhirledNews</td>\n",
       "      <td>None</td>\n",
       "      <td>[]</td>\n",
       "      <td>None</td>\n",
       "      <td>text</td>\n",
       "      <td>t2_3cbl0</td>\n",
       "      <td>False</td>\n",
       "      <td>False</td>\n",
       "      <td>...</td>\n",
       "      <td>NaN</td>\n",
       "      <td>NaN</td>\n",
       "      <td>NaN</td>\n",
       "      <td>NaN</td>\n",
       "      <td>NaN</td>\n",
       "      <td>NaN</td>\n",
       "      <td>NaN</td>\n",
       "      <td>NaN</td>\n",
       "      <td>NaN</td>\n",
       "      <td>NaN</td>\n",
       "    </tr>\n",
       "    <tr>\n",
       "      <th>2</th>\n",
       "      <td>[]</td>\n",
       "      <td>False</td>\n",
       "      <td>Qbccd</td>\n",
       "      <td>None</td>\n",
       "      <td>[]</td>\n",
       "      <td>None</td>\n",
       "      <td>text</td>\n",
       "      <td>t2_7bllpt0q</td>\n",
       "      <td>False</td>\n",
       "      <td>False</td>\n",
       "      <td>...</td>\n",
       "      <td>moderator</td>\n",
       "      <td>NaN</td>\n",
       "      <td>NaN</td>\n",
       "      <td>NaN</td>\n",
       "      <td>NaN</td>\n",
       "      <td>NaN</td>\n",
       "      <td>NaN</td>\n",
       "      <td>NaN</td>\n",
       "      <td>NaN</td>\n",
       "      <td>NaN</td>\n",
       "    </tr>\n",
       "    <tr>\n",
       "      <th>3</th>\n",
       "      <td>[]</td>\n",
       "      <td>False</td>\n",
       "      <td>Twisted_Schwartz_</td>\n",
       "      <td>None</td>\n",
       "      <td>[]</td>\n",
       "      <td>None</td>\n",
       "      <td>text</td>\n",
       "      <td>t2_266l79g</td>\n",
       "      <td>False</td>\n",
       "      <td>False</td>\n",
       "      <td>...</td>\n",
       "      <td>NaN</td>\n",
       "      <td>{'oembed': {'author_name': 'Movieclips', 'author_url': 'https://www.youtube.com/c/MOVIECLIPS', 'height': 200, 'html': '&amp;lt;iframe width=\"356\" height=\"200\" src=\"https://www.youtube.com/embed/bBaNdH...</td>\n",
       "      <td>{'content': '&amp;lt;iframe width=\"356\" height=\"200\" src=\"https://www.youtube.com/embed/bBaNdHqC_Yo?start=9&amp;amp;feature=oembed&amp;amp;enablejsapi=1\" frameborder=\"0\" allow=\"accelerometer; autoplay; clipbo...</td>\n",
       "      <td>{'oembed': {'author_name': 'Movieclips', 'author_url': 'https://www.youtube.com/c/MOVIECLIPS', 'height': 200, 'html': '&amp;lt;iframe width=\"356\" height=\"200\" src=\"https://www.youtube.com/embed/bBaNdH...</td>\n",
       "      <td>{'content': '&amp;lt;iframe width=\"356\" height=\"200\" src=\"https://www.youtube.com/embed/bBaNdHqC_Yo?start=9&amp;amp;feature=oembed&amp;amp;enablejsapi=1\" frameborder=\"0\" allow=\"accelerometer; autoplay; clipbo...</td>\n",
       "      <td>NaN</td>\n",
       "      <td>NaN</td>\n",
       "      <td>NaN</td>\n",
       "      <td>NaN</td>\n",
       "      <td>NaN</td>\n",
       "    </tr>\n",
       "    <tr>\n",
       "      <th>4</th>\n",
       "      <td>[]</td>\n",
       "      <td>False</td>\n",
       "      <td>Mysanthrop</td>\n",
       "      <td>None</td>\n",
       "      <td>[]</td>\n",
       "      <td>None</td>\n",
       "      <td>text</td>\n",
       "      <td>t2_62tsl3o6</td>\n",
       "      <td>False</td>\n",
       "      <td>False</td>\n",
       "      <td>...</td>\n",
       "      <td>NaN</td>\n",
       "      <td>NaN</td>\n",
       "      <td>NaN</td>\n",
       "      <td>NaN</td>\n",
       "      <td>NaN</td>\n",
       "      <td>NaN</td>\n",
       "      <td>NaN</td>\n",
       "      <td>NaN</td>\n",
       "      <td>NaN</td>\n",
       "      <td>NaN</td>\n",
       "    </tr>\n",
       "  </tbody>\n",
       "</table>\n",
       "<p>5 rows × 76 columns</p>\n",
       "</div>"
      ],
      "text/plain": [
       "  all_awardings  allow_live_comments             author  \\\n",
       "0            []                False      stalwartGRUNT   \n",
       "1            []                False        WhirledNews   \n",
       "2            []                False              Qbccd   \n",
       "3            []                False  Twisted_Schwartz_   \n",
       "4            []                False         Mysanthrop   \n",
       "\n",
       "  author_flair_css_class author_flair_richtext author_flair_text  \\\n",
       "0                   None                    []              None   \n",
       "1                   None                    []              None   \n",
       "2                   None                    []              None   \n",
       "3                   None                    []              None   \n",
       "4                   None                    []              None   \n",
       "\n",
       "  author_flair_type author_fullname  author_patreon_flair  author_premium  \\\n",
       "0              text     t2_1k03g353                 False           False   \n",
       "1              text        t2_3cbl0                 False           False   \n",
       "2              text     t2_7bllpt0q                 False           False   \n",
       "3              text      t2_266l79g                 False           False   \n",
       "4              text     t2_62tsl3o6                 False           False   \n",
       "\n",
       "   ... removed_by_category  \\\n",
       "0  ...                 NaN   \n",
       "1  ...                 NaN   \n",
       "2  ...           moderator   \n",
       "3  ...                 NaN   \n",
       "4  ...                 NaN   \n",
       "\n",
       "                                                                                                                                                                                                     media  \\\n",
       "0                                                                                                                                                                                                      NaN   \n",
       "1                                                                                                                                                                                                      NaN   \n",
       "2                                                                                                                                                                                                      NaN   \n",
       "3  {'oembed': {'author_name': 'Movieclips', 'author_url': 'https://www.youtube.com/c/MOVIECLIPS', 'height': 200, 'html': '&lt;iframe width=\"356\" height=\"200\" src=\"https://www.youtube.com/embed/bBaNdH...   \n",
       "4                                                                                                                                                                                                      NaN   \n",
       "\n",
       "                                                                                                                                                                                               media_embed  \\\n",
       "0                                                                                                                                                                                                      NaN   \n",
       "1                                                                                                                                                                                                      NaN   \n",
       "2                                                                                                                                                                                                      NaN   \n",
       "3  {'content': '&lt;iframe width=\"356\" height=\"200\" src=\"https://www.youtube.com/embed/bBaNdHqC_Yo?start=9&amp;feature=oembed&amp;enablejsapi=1\" frameborder=\"0\" allow=\"accelerometer; autoplay; clipbo...   \n",
       "4                                                                                                                                                                                                      NaN   \n",
       "\n",
       "                                                                                                                                                                                              secure_media  \\\n",
       "0                                                                                                                                                                                                      NaN   \n",
       "1                                                                                                                                                                                                      NaN   \n",
       "2                                                                                                                                                                                                      NaN   \n",
       "3  {'oembed': {'author_name': 'Movieclips', 'author_url': 'https://www.youtube.com/c/MOVIECLIPS', 'height': 200, 'html': '&lt;iframe width=\"356\" height=\"200\" src=\"https://www.youtube.com/embed/bBaNdH...   \n",
       "4                                                                                                                                                                                                      NaN   \n",
       "\n",
       "                                                                                                                                                                                        secure_media_embed  \\\n",
       "0                                                                                                                                                                                                      NaN   \n",
       "1                                                                                                                                                                                                      NaN   \n",
       "2                                                                                                                                                                                                      NaN   \n",
       "3  {'content': '&lt;iframe width=\"356\" height=\"200\" src=\"https://www.youtube.com/embed/bBaNdHqC_Yo?start=9&amp;feature=oembed&amp;enablejsapi=1\" frameborder=\"0\" allow=\"accelerometer; autoplay; clipbo...   \n",
       "4                                                                                                                                                                                                      NaN   \n",
       "\n",
       "  gallery_data is_gallery media_metadata  author_flair_template_id  \\\n",
       "0          NaN        NaN            NaN                       NaN   \n",
       "1          NaN        NaN            NaN                       NaN   \n",
       "2          NaN        NaN            NaN                       NaN   \n",
       "3          NaN        NaN            NaN                       NaN   \n",
       "4          NaN        NaN            NaN                       NaN   \n",
       "\n",
       "   author_flair_text_color  \n",
       "0                      NaN  \n",
       "1                      NaN  \n",
       "2                      NaN  \n",
       "3                      NaN  \n",
       "4                      NaN  \n",
       "\n",
       "[5 rows x 76 columns]"
      ]
     },
     "execution_count": 11,
     "metadata": {},
     "output_type": "execute_result"
    }
   ],
   "source": [
    "#create df\n",
    "results_df = pd.DataFrame(data['data'])\n",
    "results_df2 = pd.DataFrame(data2['data'])\n",
    "results_df.head()"
   ]
  },
  {
   "cell_type": "code",
   "execution_count": 12,
   "metadata": {
    "ExecuteTime": {
     "end_time": "2021-04-25T06:37:04.707089Z",
     "start_time": "2021-04-25T06:37:04.699056Z"
    }
   },
   "outputs": [
    {
     "data": {
      "text/plain": [
       "Index(['all_awardings', 'allow_live_comments', 'author',\n",
       "       'author_flair_css_class', 'author_flair_richtext', 'author_flair_text',\n",
       "       'author_flair_type', 'author_fullname', 'author_patreon_flair',\n",
       "       'author_premium', 'awarders', 'can_mod_post', 'contest_mode',\n",
       "       'created_utc', 'domain', 'full_link', 'gildings', 'id',\n",
       "       'is_crosspostable', 'is_meta', 'is_original_content',\n",
       "       'is_reddit_media_domain', 'is_robot_indexable', 'is_self', 'is_video',\n",
       "       'link_flair_background_color', 'link_flair_css_class',\n",
       "       'link_flair_richtext', 'link_flair_template_id', 'link_flair_text',\n",
       "       'link_flair_text_color', 'link_flair_type', 'locked', 'media_only',\n",
       "       'no_follow', 'num_comments', 'num_crossposts', 'over_18',\n",
       "       'parent_whitelist_status', 'permalink', 'pinned', 'post_hint',\n",
       "       'preview', 'pwls', 'retrieved_on', 'score', 'selftext', 'send_replies',\n",
       "       'spoiler', 'stickied', 'subreddit', 'subreddit_id',\n",
       "       'subreddit_subscribers', 'subreddit_type', 'suggested_sort',\n",
       "       'thumbnail', 'thumbnail_height', 'thumbnail_width', 'title',\n",
       "       'total_awards_received', 'treatment_tags', 'upvote_ratio', 'url',\n",
       "       'url_overridden_by_dest', 'whitelist_status', 'wls',\n",
       "       'removed_by_category', 'media', 'media_embed', 'secure_media',\n",
       "       'secure_media_embed', 'gallery_data', 'is_gallery', 'media_metadata',\n",
       "       'author_flair_template_id', 'author_flair_text_color'],\n",
       "      dtype='object')"
      ]
     },
     "execution_count": 12,
     "metadata": {},
     "output_type": "execute_result"
    }
   ],
   "source": [
    "results_df.columns"
   ]
  },
  {
   "cell_type": "markdown",
   "metadata": {},
   "source": [
    "There is a lot of metadata here. We probably will not need most of it.\n",
    "\n",
    "Here are the important tags we plan to use:\n",
    "\n",
    "* subreddit\n",
    "* selftext\n",
    "* title\n",
    "* created_utc\n",
    "* author\n",
    "* is_self (to filter out link-only posts)\n",
    "* score\n",
    "* num_comments"
   ]
  },
  {
   "cell_type": "markdown",
   "metadata": {},
   "source": [
    "Let's grab just the metadata we need."
   ]
  },
  {
   "cell_type": "code",
   "execution_count": 13,
   "metadata": {
    "ExecuteTime": {
     "end_time": "2021-04-25T06:37:04.713486Z",
     "start_time": "2021-04-25T06:37:04.709214Z"
    }
   },
   "outputs": [],
   "source": [
    "subfields = ['title', 'selftext', 'subreddit', 'created_utc', 'author', 'is_self', \\\n",
    "'score', 'num_comments']"
   ]
  },
  {
   "cell_type": "code",
   "execution_count": 14,
   "metadata": {
    "ExecuteTime": {
     "end_time": "2021-04-25T06:37:04.732602Z",
     "start_time": "2021-04-25T06:37:04.716292Z"
    }
   },
   "outputs": [
    {
     "data": {
      "text/html": [
       "<div>\n",
       "<style scoped>\n",
       "    .dataframe tbody tr th:only-of-type {\n",
       "        vertical-align: middle;\n",
       "    }\n",
       "\n",
       "    .dataframe tbody tr th {\n",
       "        vertical-align: top;\n",
       "    }\n",
       "\n",
       "    .dataframe thead th {\n",
       "        text-align: right;\n",
       "    }\n",
       "</style>\n",
       "<table border=\"1\" class=\"dataframe\">\n",
       "  <thead>\n",
       "    <tr style=\"text-align: right;\">\n",
       "      <th></th>\n",
       "      <th>title</th>\n",
       "      <th>selftext</th>\n",
       "      <th>subreddit</th>\n",
       "      <th>created_utc</th>\n",
       "      <th>author</th>\n",
       "      <th>is_self</th>\n",
       "      <th>score</th>\n",
       "      <th>num_comments</th>\n",
       "    </tr>\n",
       "  </thead>\n",
       "  <tbody>\n",
       "    <tr>\n",
       "      <th>0</th>\n",
       "      <td>In Rango (2011), The bottle he uses to shield himself from the hawk has a faded Mexican soda company logo, jarritos</td>\n",
       "      <td></td>\n",
       "      <td>MovieDetails</td>\n",
       "      <td>1619331027</td>\n",
       "      <td>stalwartGRUNT</td>\n",
       "      <td>False</td>\n",
       "      <td>1</td>\n",
       "      <td>1</td>\n",
       "    </tr>\n",
       "    <tr>\n",
       "      <th>1</th>\n",
       "      <td>Mortal Kombat 2021 - Tanya vs Kano</td>\n",
       "      <td>In the final fight scene between the two, Tanya gets a knife knocked of her hand and it hits the bullseye on a dartboard with a picture on it. In that picture is a sketch of Tanya and Kano, in whi...</td>\n",
       "      <td>MovieDetails</td>\n",
       "      <td>1619329382</td>\n",
       "      <td>WhirledNews</td>\n",
       "      <td>True</td>\n",
       "      <td>1</td>\n",
       "      <td>1</td>\n",
       "    </tr>\n",
       "  </tbody>\n",
       "</table>\n",
       "</div>"
      ],
      "text/plain": [
       "                                                                                                                 title  \\\n",
       "0  In Rango (2011), The bottle he uses to shield himself from the hawk has a faded Mexican soda company logo, jarritos   \n",
       "1                                                                                   Mortal Kombat 2021 - Tanya vs Kano   \n",
       "\n",
       "                                                                                                                                                                                                  selftext  \\\n",
       "0                                                                                                                                                                                                            \n",
       "1  In the final fight scene between the two, Tanya gets a knife knocked of her hand and it hits the bullseye on a dartboard with a picture on it. In that picture is a sketch of Tanya and Kano, in whi...   \n",
       "\n",
       "      subreddit  created_utc         author  is_self  score  num_comments  \n",
       "0  MovieDetails   1619331027  stalwartGRUNT    False      1             1  \n",
       "1  MovieDetails   1619329382    WhirledNews     True      1             1  "
      ]
     },
     "execution_count": 14,
     "metadata": {},
     "output_type": "execute_result"
    }
   ],
   "source": [
    "results_df = results_df[subfields]\n",
    "results_df2 = results_df2[subfields]\n",
    "results_df.head(2)"
   ]
  },
  {
   "cell_type": "markdown",
   "metadata": {},
   "source": [
    "Let's remove any duplicate posts."
   ]
  },
  {
   "cell_type": "code",
   "execution_count": 15,
   "metadata": {
    "ExecuteTime": {
     "end_time": "2021-04-25T06:37:04.747593Z",
     "start_time": "2021-04-25T06:37:04.735734Z"
    }
   },
   "outputs": [],
   "source": [
    "#dupes\n",
    "results_df.drop_duplicates(inplace=True)\n",
    "results_df2.drop_duplicates(inplace=True)"
   ]
  },
  {
   "cell_type": "markdown",
   "metadata": {},
   "source": [
    "We also only want original text content here."
   ]
  },
  {
   "cell_type": "code",
   "execution_count": 16,
   "metadata": {
    "ExecuteTime": {
     "end_time": "2021-04-25T06:37:04.754682Z",
     "start_time": "2021-04-25T06:37:04.749146Z"
    }
   },
   "outputs": [],
   "source": [
    "#filter only for self posts\n",
    "results_df = results_df[results_df[\"is_self\"] == True]\n",
    "results_df2 = results_df2[results_df2['is_self']==True]"
   ]
  },
  {
   "cell_type": "markdown",
   "metadata": {},
   "source": [
    "We'll grab the timestamp so that we can set before and after the post we want, to pull in our desired volume of posts."
   ]
  },
  {
   "cell_type": "code",
   "execution_count": 17,
   "metadata": {
    "ExecuteTime": {
     "end_time": "2021-04-25T06:37:04.766424Z",
     "start_time": "2021-04-25T06:37:04.757275Z"
    },
    "scrolled": true
   },
   "outputs": [
    {
     "data": {
      "text/plain": [
       "1     2021-04-24\n",
       "2     2021-04-24\n",
       "4     2021-04-24\n",
       "15    2021-04-24\n",
       "22    2021-04-24\n",
       "23    2021-04-24\n",
       "46    2021-04-24\n",
       "59    2021-04-23\n",
       "60    2021-04-23\n",
       "61    2021-04-23\n",
       "62    2021-04-23\n",
       "64    2021-04-23\n",
       "68    2021-04-23\n",
       "84    2021-04-23\n",
       "91    2021-04-23\n",
       "94    2021-04-23\n",
       "96    2021-04-23\n",
       "97    2021-04-23\n",
       "Name: timestamp, dtype: object"
      ]
     },
     "execution_count": 17,
     "metadata": {},
     "output_type": "execute_result"
    }
   ],
   "source": [
    "#convert timestamp to a format we understand\n",
    "results_df['timestamp'] = results_df['created_utc'].map(dt.date.fromtimestamp)\n",
    "results_df2['timestamp'] = results_df2['created_utc'].map(dt.date.fromtimestamp)\n",
    "results_df['timestamp']"
   ]
  },
  {
   "cell_type": "code",
   "execution_count": 18,
   "metadata": {
    "ExecuteTime": {
     "end_time": "2021-04-25T06:37:04.775887Z",
     "start_time": "2021-04-25T06:37:04.769001Z"
    }
   },
   "outputs": [
    {
     "data": {
      "text/plain": [
       "(18, 9)"
      ]
     },
     "execution_count": 18,
     "metadata": {},
     "output_type": "execute_result"
    }
   ],
   "source": [
    "results_df.shape"
   ]
  },
  {
   "cell_type": "markdown",
   "metadata": {},
   "source": [
    "Looks like we get a couple days' worth in a single pull."
   ]
  },
  {
   "cell_type": "markdown",
   "metadata": {},
   "source": [
    "### Set up to pull @certain freq"
   ]
  },
  {
   "cell_type": "markdown",
   "metadata": {},
   "source": [
    "Let's set up our pull to be a bit more dynamic."
   ]
  },
  {
   "cell_type": "code",
   "execution_count": 19,
   "metadata": {
    "ExecuteTime": {
     "end_time": "2021-04-25T06:37:04.784136Z",
     "start_time": "2021-04-25T06:37:04.778253Z"
    },
    "scrolled": true
   },
   "outputs": [
    {
     "data": {
      "text/plain": [
       "'https://api.pushshift.io/reddit/search/submission?subreddit=MovieDetails&size=100'"
      ]
     },
     "execution_count": 19,
     "metadata": {},
     "output_type": "execute_result"
    }
   ],
   "source": [
    "#define endpoint\n",
    "base_url = 'https://api.pushshift.io/reddit/search/submission'\n",
    "\n",
    "#update params\n",
    "subreddit = 'MovieDetails'\n",
    "size = 100\n",
    "\n",
    "#construct URL\n",
    "stem = f'{base_url}?subreddit={subreddit}&size={size}'\n",
    "stem"
   ]
  },
  {
   "cell_type": "code",
   "execution_count": 20,
   "metadata": {
    "ExecuteTime": {
     "end_time": "2021-04-25T06:37:04.791381Z",
     "start_time": "2021-04-25T06:37:04.786805Z"
    }
   },
   "outputs": [
    {
     "data": {
      "text/plain": [
       "False"
      ]
     },
     "execution_count": 20,
     "metadata": {},
     "output_type": "execute_result"
    }
   ],
   "source": [
    "stem == url"
   ]
  },
  {
   "cell_type": "markdown",
   "metadata": {},
   "source": [
    "Let's add in a time component to loop over multiple days' worth of posts."
   ]
  },
  {
   "cell_type": "code",
   "execution_count": 21,
   "metadata": {
    "ExecuteTime": {
     "end_time": "2021-04-25T06:37:04.798622Z",
     "start_time": "2021-04-25T06:37:04.793886Z"
    }
   },
   "outputs": [
    {
     "data": {
      "text/plain": [
       "'https://api.pushshift.io/reddit/search/submission?subreddit=MovieDetails&size=100&after=30d'"
      ]
     },
     "execution_count": 21,
     "metadata": {},
     "output_type": "execute_result"
    }
   ],
   "source": [
    "days = 30\n",
    "url = f'{stem}&after={days}d'\n",
    "url"
   ]
  },
  {
   "cell_type": "code",
   "execution_count": 22,
   "metadata": {
    "ExecuteTime": {
     "end_time": "2021-04-25T06:37:09.162884Z",
     "start_time": "2021-04-25T06:37:04.801322Z"
    },
    "scrolled": false
   },
   "outputs": [
    {
     "data": {
      "text/plain": [
       "0    2021-03-27\n",
       "1    2021-03-27\n",
       "2    2021-03-27\n",
       "3    2021-03-27\n",
       "4    2021-03-27\n",
       "Name: created_utc, dtype: object"
      ]
     },
     "execution_count": 22,
     "metadata": {},
     "output_type": "execute_result"
    }
   ],
   "source": [
    "#verify output\n",
    "\n",
    "res=requests.get(url)\n",
    "assert res.status_code == 200\n",
    "json_data = res.json()\n",
    "\n",
    "results_df = pd.DataFrame(json_data['data'])[subfields]\n",
    "\n",
    "results_df[\n",
    "    'created_utc'].map(dt.date.fromtimestamp).head()"
   ]
  },
  {
   "cell_type": "markdown",
   "metadata": {},
   "source": [
    "We see something from as far back as a month ago, which is what we were expecting."
   ]
  },
  {
   "cell_type": "code",
   "execution_count": 23,
   "metadata": {
    "ExecuteTime": {
     "end_time": "2021-04-25T06:37:09.176900Z",
     "start_time": "2021-04-25T06:37:09.167523Z"
    }
   },
   "outputs": [
    {
     "data": {
      "text/plain": [
       "(100, 8)"
      ]
     },
     "execution_count": 23,
     "metadata": {},
     "output_type": "execute_result"
    }
   ],
   "source": [
    "results_df.shape"
   ]
  },
  {
   "cell_type": "markdown",
   "metadata": {},
   "source": [
    "### Automate pull"
   ]
  },
  {
   "cell_type": "markdown",
   "metadata": {},
   "source": [
    "Let's set up a function that fetches posts and appends them to a dataframe.\n",
    "\n",
    "We will then run this on our desired subReddits."
   ]
  },
  {
   "cell_type": "code",
   "execution_count": 24,
   "metadata": {
    "ExecuteTime": {
     "end_time": "2021-04-25T06:37:09.192363Z",
     "start_time": "2021-04-25T06:37:09.180758Z"
    }
   },
   "outputs": [],
   "source": [
    "#loop to iterate through the pulls\n",
    "\n",
    "def fetch_posts(subreddit, #specify subreddit\n",
    "                kind = 'submission', #grab post\n",
    "               day_window = 1000, n=5): #number of iterations to run\n",
    "    #through; this is also how many dfs are output\n",
    "\n",
    "\n",
    "#est. params\n",
    "    \n",
    "    \n",
    "    base_url = f'https://api.pushshift.io/reddit/search/{kind}'\n",
    "\n",
    "    stem = f'{base_url}?subreddit={subreddit}&size=500'\n",
    "\n",
    "  \n",
    "    posts = []\n",
    "\n",
    "    for i in range(1, n+1): #that many iterations\n",
    "        \n",
    "        URL = '{}&after={}d'.format(stem, day_window *i)\n",
    "        \n",
    "        print('Query from timeframe: ' + URL)\n",
    "        \n",
    "        res = requests.get(URL)\n",
    "        assert res.status_code == 200\n",
    "        \n",
    "        json_dict = res.json()['data'] #grab the single key from the list of json dicts\n",
    "   \n",
    "        df = pd.DataFrame.from_dict(json_dict) #convert dictionary info to a df\n",
    "        \n",
    "        posts.append(df) #append the df from each iteration to our posts list\n",
    "        \n",
    "        total_scraped = sum(len(x) for x in posts) #understand, how many posts we\n",
    "        #are getting\n",
    "            \n",
    "        print(total_scraped)\n",
    "        \n",
    "        if total_scraped > 7500:\n",
    "            break\n",
    "        \n",
    "        time.sleep(1) #wait 1 s between requests\n",
    "        \n",
    "    #merge list of dfs from our requests\n",
    "    full_df = pd.concat(posts, sort=False)\n",
    "    \n",
    "  #  if kind == 'submission':\n",
    "    \n",
    "    full_df = full_df[subfields] #only want the specific columns\n",
    "    full_df.drop_duplicates(inplace=True) #de-dupe posts\n",
    "    full_df = full_df.loc[full_df['is_self']==True] #only grab original submissions\n",
    "    \n",
    "    full_df['timestamp'] = full_df['created_utc'].map(dt.date.fromtimestamp) #convert time\n",
    "    \n",
    "    return full_df.reset_index(drop=True)"
   ]
  },
  {
   "cell_type": "code",
   "execution_count": 25,
   "metadata": {
    "ExecuteTime": {
     "end_time": "2021-04-25T06:37:47.867469Z",
     "start_time": "2021-04-25T06:37:09.195618Z"
    }
   },
   "outputs": [
    {
     "name": "stdout",
     "output_type": "stream",
     "text": [
      "Query from timeframe: https://api.pushshift.io/reddit/search/submission?subreddit=MovieDetails&size=500&after=1000d\n",
      "100\n",
      "Query from timeframe: https://api.pushshift.io/reddit/search/submission?subreddit=MovieDetails&size=500&after=2000d\n",
      "200\n",
      "Query from timeframe: https://api.pushshift.io/reddit/search/submission?subreddit=MovieDetails&size=500&after=3000d\n",
      "300\n",
      "Query from timeframe: https://api.pushshift.io/reddit/search/submission?subreddit=MovieDetails&size=500&after=4000d\n",
      "400\n",
      "Query from timeframe: https://api.pushshift.io/reddit/search/submission?subreddit=MovieDetails&size=500&after=5000d\n",
      "500\n"
     ]
    },
    {
     "data": {
      "text/html": [
       "<div>\n",
       "<style scoped>\n",
       "    .dataframe tbody tr th:only-of-type {\n",
       "        vertical-align: middle;\n",
       "    }\n",
       "\n",
       "    .dataframe tbody tr th {\n",
       "        vertical-align: top;\n",
       "    }\n",
       "\n",
       "    .dataframe thead th {\n",
       "        text-align: right;\n",
       "    }\n",
       "</style>\n",
       "<table border=\"1\" class=\"dataframe\">\n",
       "  <thead>\n",
       "    <tr style=\"text-align: right;\">\n",
       "      <th></th>\n",
       "      <th>title</th>\n",
       "      <th>selftext</th>\n",
       "      <th>subreddit</th>\n",
       "      <th>created_utc</th>\n",
       "      <th>author</th>\n",
       "      <th>is_self</th>\n",
       "      <th>score</th>\n",
       "      <th>num_comments</th>\n",
       "      <th>timestamp</th>\n",
       "    </tr>\n",
       "  </thead>\n",
       "  <tbody>\n",
       "    <tr>\n",
       "      <th>0</th>\n",
       "      <td>In the dark knight rises when lucius fox show the new material to Bruce Wayne, he says that he keeps them there to \"keep them from falling into the wrong hands\". Later, the material literally fall...</td>\n",
       "      <td>https://i.redd.it/qvgqz019m1d11.png</td>\n",
       "      <td>MovieDetails</td>\n",
       "      <td>1532938057</td>\n",
       "      <td>sylvain147</td>\n",
       "      <td>True</td>\n",
       "      <td>1</td>\n",
       "      <td>0</td>\n",
       "      <td>2018-07-30</td>\n",
       "    </tr>\n",
       "    <tr>\n",
       "      <th>1</th>\n",
       "      <td>It's the end of the weekend.</td>\n",
       "      <td>[removed]</td>\n",
       "      <td>MovieDetails</td>\n",
       "      <td>1532944839</td>\n",
       "      <td>AutoModerator</td>\n",
       "      <td>True</td>\n",
       "      <td>1</td>\n",
       "      <td>0</td>\n",
       "      <td>2018-07-30</td>\n",
       "    </tr>\n",
       "    <tr>\n",
       "      <th>2</th>\n",
       "      <td>Avengers Infinity War (2018) | Full Movie Free Download | WEB - DL | Direct Link And Torrent Links</td>\n",
       "      <td>[removed]</td>\n",
       "      <td>MovieDetails</td>\n",
       "      <td>1532966211</td>\n",
       "      <td>lahirulg</td>\n",
       "      <td>True</td>\n",
       "      <td>1</td>\n",
       "      <td>0</td>\n",
       "      <td>2018-07-30</td>\n",
       "    </tr>\n",
       "    <tr>\n",
       "      <th>3</th>\n",
       "      <td>In Spider-Man: Homecoming, the Vulture scavenges Chitauri tech from downed ships in the same way that a vulture scavenges meat from carcasses.</td>\n",
       "      <td></td>\n",
       "      <td>MovieDetails</td>\n",
       "      <td>1532967088</td>\n",
       "      <td>dewisri</td>\n",
       "      <td>True</td>\n",
       "      <td>0</td>\n",
       "      <td>5</td>\n",
       "      <td>2018-07-30</td>\n",
       "    </tr>\n",
       "    <tr>\n",
       "      <th>4</th>\n",
       "      <td>In Deadpool 1 and 2, while powerless, Wade never speaks directly to the audience, suggesting that his ability to see the 4th wall is another part of his mutation.</td>\n",
       "      <td>In Deadpool 1, it is only the \"current\" Deadpool providing narration. During the various flashback scenes, Powerless Wade never talks directly to the audience. He does make 4th wall breaking jokes...</td>\n",
       "      <td>MovieDetails</td>\n",
       "      <td>1532973519</td>\n",
       "      <td>Grapz224</td>\n",
       "      <td>True</td>\n",
       "      <td>12585</td>\n",
       "      <td>240</td>\n",
       "      <td>2018-07-30</td>\n",
       "    </tr>\n",
       "  </tbody>\n",
       "</table>\n",
       "</div>"
      ],
      "text/plain": [
       "                                                                                                                                                                                                     title  \\\n",
       "0  In the dark knight rises when lucius fox show the new material to Bruce Wayne, he says that he keeps them there to \"keep them from falling into the wrong hands\". Later, the material literally fall...   \n",
       "1                                                                                                                                                                             It's the end of the weekend.   \n",
       "2                                                                                                       Avengers Infinity War (2018) | Full Movie Free Download | WEB - DL | Direct Link And Torrent Links   \n",
       "3                                                           In Spider-Man: Homecoming, the Vulture scavenges Chitauri tech from downed ships in the same way that a vulture scavenges meat from carcasses.   \n",
       "4                                       In Deadpool 1 and 2, while powerless, Wade never speaks directly to the audience, suggesting that his ability to see the 4th wall is another part of his mutation.   \n",
       "\n",
       "                                                                                                                                                                                                  selftext  \\\n",
       "0                                                                                                                                                                      https://i.redd.it/qvgqz019m1d11.png   \n",
       "1                                                                                                                                                                                                [removed]   \n",
       "2                                                                                                                                                                                                [removed]   \n",
       "3                                                                                                                                                                                                            \n",
       "4  In Deadpool 1, it is only the \"current\" Deadpool providing narration. During the various flashback scenes, Powerless Wade never talks directly to the audience. He does make 4th wall breaking jokes...   \n",
       "\n",
       "      subreddit  created_utc         author  is_self  score  num_comments  \\\n",
       "0  MovieDetails   1532938057     sylvain147     True      1             0   \n",
       "1  MovieDetails   1532944839  AutoModerator     True      1             0   \n",
       "2  MovieDetails   1532966211       lahirulg     True      1             0   \n",
       "3  MovieDetails   1532967088        dewisri     True      0             5   \n",
       "4  MovieDetails   1532973519       Grapz224     True  12585           240   \n",
       "\n",
       "    timestamp  \n",
       "0  2018-07-30  \n",
       "1  2018-07-30  \n",
       "2  2018-07-30  \n",
       "3  2018-07-30  \n",
       "4  2018-07-30  "
      ]
     },
     "execution_count": 25,
     "metadata": {},
     "output_type": "execute_result"
    }
   ],
   "source": [
    "movie_deets = fetch_posts('MovieDetails')\n",
    "movie_deets.head()"
   ]
  },
  {
   "cell_type": "code",
   "execution_count": 26,
   "metadata": {
    "ExecuteTime": {
     "end_time": "2021-04-25T06:37:47.877620Z",
     "start_time": "2021-04-25T06:37:47.871589Z"
    },
    "scrolled": false
   },
   "outputs": [
    {
     "data": {
      "text/plain": [
       "pandas.core.frame.DataFrame"
      ]
     },
     "execution_count": 26,
     "metadata": {},
     "output_type": "execute_result"
    }
   ],
   "source": [
    "type(movie_deets)"
   ]
  },
  {
   "cell_type": "code",
   "execution_count": 27,
   "metadata": {
    "ExecuteTime": {
     "end_time": "2021-04-25T06:37:47.887740Z",
     "start_time": "2021-04-25T06:37:47.880657Z"
    }
   },
   "outputs": [
    {
     "data": {
      "text/plain": [
       "Index(['title', 'selftext', 'subreddit', 'created_utc', 'author', 'is_self',\n",
       "       'score', 'num_comments', 'timestamp'],\n",
       "      dtype='object')"
      ]
     },
     "execution_count": 27,
     "metadata": {},
     "output_type": "execute_result"
    }
   ],
   "source": [
    "movie_deets.columns"
   ]
  },
  {
   "cell_type": "code",
   "execution_count": 28,
   "metadata": {
    "ExecuteTime": {
     "end_time": "2021-04-25T06:37:47.898411Z",
     "start_time": "2021-04-25T06:37:47.890720Z"
    }
   },
   "outputs": [
    {
     "data": {
      "text/plain": [
       "(40, 9)"
      ]
     },
     "execution_count": 28,
     "metadata": {},
     "output_type": "execute_result"
    }
   ],
   "source": [
    "movie_deets.shape"
   ]
  },
  {
   "cell_type": "markdown",
   "metadata": {},
   "source": [
    "### Repeat this process for our second subreddit"
   ]
  },
  {
   "cell_type": "code",
   "execution_count": 29,
   "metadata": {
    "ExecuteTime": {
     "end_time": "2021-04-25T06:38:30.472321Z",
     "start_time": "2021-04-25T06:37:47.899985Z"
    }
   },
   "outputs": [
    {
     "name": "stdout",
     "output_type": "stream",
     "text": [
      "Query from timeframe: https://api.pushshift.io/reddit/search/submission?subreddit=shittymoviedetails&size=500&after=1000d\n",
      "100\n",
      "Query from timeframe: https://api.pushshift.io/reddit/search/submission?subreddit=shittymoviedetails&size=500&after=2000d\n",
      "200\n",
      "Query from timeframe: https://api.pushshift.io/reddit/search/submission?subreddit=shittymoviedetails&size=500&after=3000d\n",
      "300\n",
      "Query from timeframe: https://api.pushshift.io/reddit/search/submission?subreddit=shittymoviedetails&size=500&after=4000d\n",
      "400\n",
      "Query from timeframe: https://api.pushshift.io/reddit/search/submission?subreddit=shittymoviedetails&size=500&after=5000d\n",
      "500\n",
      "(26, 9)\n"
     ]
    },
    {
     "data": {
      "text/html": [
       "<div>\n",
       "<style scoped>\n",
       "    .dataframe tbody tr th:only-of-type {\n",
       "        vertical-align: middle;\n",
       "    }\n",
       "\n",
       "    .dataframe tbody tr th {\n",
       "        vertical-align: top;\n",
       "    }\n",
       "\n",
       "    .dataframe thead th {\n",
       "        text-align: right;\n",
       "    }\n",
       "</style>\n",
       "<table border=\"1\" class=\"dataframe\">\n",
       "  <thead>\n",
       "    <tr style=\"text-align: right;\">\n",
       "      <th></th>\n",
       "      <th>title</th>\n",
       "      <th>selftext</th>\n",
       "      <th>subreddit</th>\n",
       "      <th>created_utc</th>\n",
       "      <th>author</th>\n",
       "      <th>is_self</th>\n",
       "      <th>score</th>\n",
       "      <th>num_comments</th>\n",
       "      <th>timestamp</th>\n",
       "    </tr>\n",
       "  </thead>\n",
       "  <tbody>\n",
       "    <tr>\n",
       "      <th>0</th>\n",
       "      <td>Star Wars uses frequent subtle references to fascism for the Empire's aesthetic. For example, Star Destroyers are shaped like pizza slices. Benito Mussolini, a famous fascist, was Italian.</td>\n",
       "      <td>https://i.redd.it/79e5b9iy75d11.jpg</td>\n",
       "      <td>shittymoviedetails</td>\n",
       "      <td>1532981670</td>\n",
       "      <td>Chikalaka</td>\n",
       "      <td>True</td>\n",
       "      <td>296</td>\n",
       "      <td>5</td>\n",
       "      <td>2018-07-30</td>\n",
       "    </tr>\n",
       "    <tr>\n",
       "      <th>1</th>\n",
       "      <td>In the Star Wars, you can see Luke Skywalker shoot some missiles into the Death Star before it blows up</td>\n",
       "      <td></td>\n",
       "      <td>shittymoviedetails</td>\n",
       "      <td>1533149696</td>\n",
       "      <td>psxv</td>\n",
       "      <td>True</td>\n",
       "      <td>38</td>\n",
       "      <td>3</td>\n",
       "      <td>2018-08-01</td>\n",
       "    </tr>\n",
       "    <tr>\n",
       "      <th>2</th>\n",
       "      <td>The latest Avengers movie is called Infinity War, however his title is misleading as it did not go for infinity, but rather 2 hours and 30 minutes.</td>\n",
       "      <td>Truly the scam of the century.</td>\n",
       "      <td>shittymoviedetails</td>\n",
       "      <td>1533169538</td>\n",
       "      <td>NDOperator</td>\n",
       "      <td>True</td>\n",
       "      <td>19</td>\n",
       "      <td>0</td>\n",
       "      <td>2018-08-01</td>\n",
       "    </tr>\n",
       "    <tr>\n",
       "      <th>3</th>\n",
       "      <td>In Baby Driver, Doc (kevin spacey) says 'i was blinded by the balls on that kid', this references/ foreshadows the actors sexual attraction to BOYS, and the allegations he would face</td>\n",
       "      <td>https://i.redd.it/n9ycz2dw8pd11.jpg</td>\n",
       "      <td>shittymoviedetails</td>\n",
       "      <td>1533224098</td>\n",
       "      <td>Thatsabigvoid</td>\n",
       "      <td>True</td>\n",
       "      <td>16</td>\n",
       "      <td>0</td>\n",
       "      <td>2018-08-02</td>\n",
       "    </tr>\n",
       "    <tr>\n",
       "      <th>4</th>\n",
       "      <td>The movie 'In Bruges' is aptly named because thr majority of the film takes place in Bruges that's in Belgium.</td>\n",
       "      <td></td>\n",
       "      <td>shittymoviedetails</td>\n",
       "      <td>1533308375</td>\n",
       "      <td>Ralph-Hinkley</td>\n",
       "      <td>True</td>\n",
       "      <td>23</td>\n",
       "      <td>1</td>\n",
       "      <td>2018-08-03</td>\n",
       "    </tr>\n",
       "  </tbody>\n",
       "</table>\n",
       "</div>"
      ],
      "text/plain": [
       "                                                                                                                                                                                          title  \\\n",
       "0  Star Wars uses frequent subtle references to fascism for the Empire's aesthetic. For example, Star Destroyers are shaped like pizza slices. Benito Mussolini, a famous fascist, was Italian.   \n",
       "1                                                                                       In the Star Wars, you can see Luke Skywalker shoot some missiles into the Death Star before it blows up   \n",
       "2                                           The latest Avengers movie is called Infinity War, however his title is misleading as it did not go for infinity, but rather 2 hours and 30 minutes.   \n",
       "3        In Baby Driver, Doc (kevin spacey) says 'i was blinded by the balls on that kid', this references/ foreshadows the actors sexual attraction to BOYS, and the allegations he would face   \n",
       "4                                                                                The movie 'In Bruges' is aptly named because thr majority of the film takes place in Bruges that's in Belgium.   \n",
       "\n",
       "                              selftext           subreddit  created_utc  \\\n",
       "0  https://i.redd.it/79e5b9iy75d11.jpg  shittymoviedetails   1532981670   \n",
       "1                                       shittymoviedetails   1533149696   \n",
       "2       Truly the scam of the century.  shittymoviedetails   1533169538   \n",
       "3  https://i.redd.it/n9ycz2dw8pd11.jpg  shittymoviedetails   1533224098   \n",
       "4                                       shittymoviedetails   1533308375   \n",
       "\n",
       "          author  is_self  score  num_comments   timestamp  \n",
       "0      Chikalaka     True    296             5  2018-07-30  \n",
       "1           psxv     True     38             3  2018-08-01  \n",
       "2     NDOperator     True     19             0  2018-08-01  \n",
       "3  Thatsabigvoid     True     16             0  2018-08-02  \n",
       "4  Ralph-Hinkley     True     23             1  2018-08-03  "
      ]
     },
     "execution_count": 29,
     "metadata": {},
     "output_type": "execute_result"
    }
   ],
   "source": [
    "bad_deets = fetch_posts('shittymoviedetails')\n",
    "print(bad_deets.shape)\n",
    "bad_deets.head()"
   ]
  },
  {
   "cell_type": "markdown",
   "metadata": {},
   "source": [
    "### Output the dataframes!"
   ]
  },
  {
   "cell_type": "code",
   "execution_count": 31,
   "metadata": {
    "ExecuteTime": {
     "end_time": "2021-04-25T06:39:10.260390Z",
     "start_time": "2021-04-25T06:39:10.244474Z"
    }
   },
   "outputs": [],
   "source": [
    "movie_deets.to_csv('../data_outputs/good_movie_deets.csv')\n",
    "bad_deets.to_csv('../data_outputs/bad_movie_deets.csv')"
   ]
  },
  {
   "cell_type": "markdown",
   "metadata": {},
   "source": [
    "## Cleaning and EDA"
   ]
  },
  {
   "cell_type": "markdown",
   "metadata": {},
   "source": [
    "Let's look at basic stats about our data."
   ]
  },
  {
   "cell_type": "code",
   "execution_count": null,
   "metadata": {
    "ExecuteTime": {
     "end_time": "2021-04-25T06:38:31.096954Z",
     "start_time": "2021-04-25T06:36:46.273Z"
    }
   },
   "outputs": [],
   "source": [
    "#<df>.isnull().sum()"
   ]
  },
  {
   "cell_type": "markdown",
   "metadata": {},
   "source": [
    "Let's understand the density and usefulness of our content, by analyzing the volume of comments and looking for the richness of the text-heavy columns we are expecting.\n",
    "\n",
    "We are also going to see, whether there are any interesting prospective features for training our models."
   ]
  },
  {
   "cell_type": "code",
   "execution_count": null,
   "metadata": {
    "ExecuteTime": {
     "end_time": "2021-04-25T06:38:31.107045Z",
     "start_time": "2021-04-25T06:36:46.422Z"
    },
    "scrolled": true
   },
   "outputs": [],
   "source": [
    "#<df>['num_comments'].value_counts()"
   ]
  },
  {
   "cell_type": "code",
   "execution_count": null,
   "metadata": {
    "ExecuteTime": {
     "end_time": "2021-04-25T06:38:31.108978Z",
     "start_time": "2021-04-25T06:36:46.429Z"
    }
   },
   "outputs": [],
   "source": [
    "#check for post density\n",
    "#<df>['selftext'].value_counts()"
   ]
  },
  {
   "cell_type": "code",
   "execution_count": null,
   "metadata": {
    "ExecuteTime": {
     "end_time": "2021-04-25T06:38:31.110684Z",
     "start_time": "2021-04-25T06:36:46.434Z"
    }
   },
   "outputs": [],
   "source": [
    "#<df>['title'].value_counts()"
   ]
  },
  {
   "cell_type": "code",
   "execution_count": null,
   "metadata": {
    "ExecuteTime": {
     "end_time": "2021-04-25T06:38:31.112760Z",
     "start_time": "2021-04-25T06:36:46.440Z"
    }
   },
   "outputs": [],
   "source": [
    "#<df>['author'].value_counts() #get only unique"
   ]
  },
  {
   "cell_type": "markdown",
   "metadata": {},
   "source": [
    "## NLP & feature eng"
   ]
  },
  {
   "cell_type": "markdown",
   "metadata": {},
   "source": [
    "### Word analysis"
   ]
  },
  {
   "cell_type": "code",
   "execution_count": null,
   "metadata": {
    "ExecuteTime": {
     "end_time": "2021-04-25T06:38:31.116798Z",
     "start_time": "2021-04-25T06:36:46.750Z"
    }
   },
   "outputs": [],
   "source": [
    "#word freq\n",
    "#vectorize self-text"
   ]
  },
  {
   "cell_type": "code",
   "execution_count": null,
   "metadata": {
    "ExecuteTime": {
     "end_time": "2021-04-25T06:38:31.121660Z",
     "start_time": "2021-04-25T06:36:46.756Z"
    }
   },
   "outputs": [],
   "source": [
    "#sentiment"
   ]
  },
  {
   "cell_type": "code",
   "execution_count": null,
   "metadata": {},
   "outputs": [],
   "source": []
  }
 ],
 "metadata": {
  "kernelspec": {
   "display_name": "Python 3",
   "language": "python",
   "name": "python3"
  },
  "language_info": {
   "codemirror_mode": {
    "name": "ipython",
    "version": 3
   },
   "file_extension": ".py",
   "mimetype": "text/x-python",
   "name": "python",
   "nbconvert_exporter": "python",
   "pygments_lexer": "ipython3",
   "version": "3.8.3"
  },
  "latex_envs": {
   "LaTeX_envs_menu_present": true,
   "autoclose": false,
   "autocomplete": true,
   "bibliofile": "biblio.bib",
   "cite_by": "apalike",
   "current_citInitial": 1,
   "eqLabelWithNumbers": true,
   "eqNumInitial": 1,
   "hotkeys": {
    "equation": "Ctrl-E",
    "itemize": "Ctrl-I"
   },
   "labels_anchors": false,
   "latex_user_defs": false,
   "report_style_numbering": false,
   "user_envs_cfg": false
  },
  "toc": {
   "base_numbering": 1,
   "nav_menu": {},
   "number_sections": true,
   "sideBar": true,
   "skip_h1_title": false,
   "title_cell": "Table of Contents",
   "title_sidebar": "Contents",
   "toc_cell": false,
   "toc_position": {},
   "toc_section_display": true,
   "toc_window_display": true
  },
  "varInspector": {
   "cols": {
    "lenName": 16,
    "lenType": 16,
    "lenVar": 40
   },
   "kernels_config": {
    "python": {
     "delete_cmd_postfix": "",
     "delete_cmd_prefix": "del ",
     "library": "var_list.py",
     "varRefreshCmd": "print(var_dic_list())"
    },
    "r": {
     "delete_cmd_postfix": ") ",
     "delete_cmd_prefix": "rm(",
     "library": "var_list.r",
     "varRefreshCmd": "cat(var_dic_list()) "
    }
   },
   "types_to_exclude": [
    "module",
    "function",
    "builtin_function_or_method",
    "instance",
    "_Feature"
   ],
   "window_display": false
  }
 },
 "nbformat": 4,
 "nbformat_minor": 4
}

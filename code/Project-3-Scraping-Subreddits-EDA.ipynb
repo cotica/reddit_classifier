{
 "cells": [
  {
   "cell_type": "markdown",
   "metadata": {},
   "source": [
    "# NLP analysis and classification of subReddits\n",
    "\n",
    "\n",
    "## Part II - Preprocessing & EDA\n",
    "---"
   ]
  },
  {
   "cell_type": "markdown",
   "metadata": {},
   "source": [
    "We'll import all our required libraries up here."
   ]
  },
  {
   "cell_type": "code",
   "execution_count": 1,
   "metadata": {
    "ExecuteTime": {
     "end_time": "2021-04-29T09:48:50.893423Z",
     "start_time": "2021-04-29T09:48:32.528589Z"
    }
   },
   "outputs": [],
   "source": [
    "#import all potential libraries\n",
    "\n",
    "import pandas as pd, \\\n",
    "       numpy as np, \\\n",
    "       requests, time, nltk, \\\n",
    "       datetime as dt, \\\n",
    "       matplotlib.pyplot as plt, seaborn as sns, \\\n",
    "       re #regex\n",
    "\n",
    "#NLP transformers\n",
    "from nltk.stem import WordNetLemmatizer\n",
    "from nltk.sentiment.vader import SentimentIntensityAnalyzer\n",
    "from nltk.tokenize import RegexpTokenizer\n",
    "\n",
    "import gensim.downloader as api #allows us to get word2vec anf glove embeddings that we need\n",
    "from gensim.models.word2vec import Word2Vec\n",
    "from transformers import pipeline\n",
    "from sklearn.pipeline import Pipeline\n",
    "from sklearn.feature_extraction.text import CountVectorizer, \\\n",
    "                                            TfidfVectorizer\n",
    "\n",
    "\n",
    "#classifiers\n",
    "from sklearn.neighbors import KNeighborsClassifier\n",
    "from sklearn.linear_model import LogisticRegression\n",
    "\n",
    "from sklearn.ensemble import (RandomForestClassifier, \\\n",
    "                              ExtraTreesClassifier, \\\n",
    "                              BaggingClassifier,\n",
    "                              GradientBoostingClassifier, \\\n",
    "                              AdaBoostClassifier, \\\n",
    "                              VotingClassifier)\n",
    "\n",
    "from sklearn.tree import DecisionTreeClassifier, plot_tree, export_text\n",
    "from xgboost import XGBRegressor, XGBClassifier\n",
    "from sklearn.naive_bayes import MultinomialNB\n",
    "\n",
    "\n",
    "#metrics / model preprocessing\n",
    "from sklearn.metrics import (accuracy_score, confusion_matrix, \\\n",
    "                             plot_confusion_matrix, \\\n",
    "                             recall_score, precision_score)\n",
    "\n",
    "from sklearn.pipeline import Pipeline\n",
    "from sklearn.model_selection import train_test_split, \\\n",
    "                                    GridSearchCV, \\\n",
    "                                    cross_val_score, \\\n",
    "                                    RandomizedSearchCV\n",
    "\n",
    "from sklearn.preprocessing import StandardScaler\n",
    "from sklearn.dummy import DummyClassifier\n",
    "from scipy.stats import uniform, loguniform\n",
    "\n",
    "# easier to see full text with a bigger maxwidth:\n",
    "pd.options.display.max_colwidth = 200\n",
    "\n",
    "#show grid on plots\n",
    "sns.set_style('darkgrid')"
   ]
  },
  {
   "cell_type": "code",
   "execution_count": 2,
   "metadata": {
    "ExecuteTime": {
     "end_time": "2021-04-29T09:48:50.904347Z",
     "start_time": "2021-04-29T09:48:50.897343Z"
    }
   },
   "outputs": [],
   "source": [
    "#pip install python-Levenshtein\n",
    "#this is for the gensim.similarities.levenshtein submodule"
   ]
  },
  {
   "cell_type": "markdown",
   "metadata": {},
   "source": [
    "- - - \n",
    "\n",
    "### Pull in the files, resulting from our scrapes, into dataframes!"
   ]
  },
  {
   "cell_type": "code",
   "execution_count": 3,
   "metadata": {
    "ExecuteTime": {
     "end_time": "2021-04-29T09:48:51.065132Z",
     "start_time": "2021-04-29T09:48:50.908161Z"
    }
   },
   "outputs": [],
   "source": [
    "movie_deets2 = pd.read_csv('../data_outputs/good_movie_deets2.csv')\n",
    "bad_deets2 = pd.read_csv('../data_outputs/bad_movie_deets2.csv')\n",
    "all_movies = pd.read_csv('../data_outputs/all_movies.csv')"
   ]
  },
  {
   "cell_type": "markdown",
   "metadata": {},
   "source": [
    "### Get basic stats"
   ]
  },
  {
   "cell_type": "markdown",
   "metadata": {},
   "source": [
    "Let's look at basic stats about our data.\n",
    "\n",
    "How many records do we have, prior to cleaning?"
   ]
  },
  {
   "cell_type": "code",
   "execution_count": 4,
   "metadata": {
    "ExecuteTime": {
     "end_time": "2021-04-29T09:48:51.073717Z",
     "start_time": "2021-04-29T09:48:51.067330Z"
    }
   },
   "outputs": [
    {
     "data": {
      "text/plain": [
       "(8805, 9)"
      ]
     },
     "execution_count": 4,
     "metadata": {},
     "output_type": "execute_result"
    }
   ],
   "source": [
    "movie_deets2.shape"
   ]
  },
  {
   "cell_type": "code",
   "execution_count": 5,
   "metadata": {
    "ExecuteTime": {
     "end_time": "2021-04-29T09:48:51.083355Z",
     "start_time": "2021-04-29T09:48:51.076407Z"
    }
   },
   "outputs": [
    {
     "data": {
      "text/plain": [
       "(8180, 9)"
      ]
     },
     "execution_count": 5,
     "metadata": {},
     "output_type": "execute_result"
    }
   ],
   "source": [
    "bad_deets2.shape"
   ]
  },
  {
   "cell_type": "code",
   "execution_count": 6,
   "metadata": {
    "ExecuteTime": {
     "end_time": "2021-04-29T09:48:51.095140Z",
     "start_time": "2021-04-29T09:48:51.086888Z"
    }
   },
   "outputs": [
    {
     "data": {
      "text/plain": [
       "(9404, 9)"
      ]
     },
     "execution_count": 6,
     "metadata": {},
     "output_type": "execute_result"
    }
   ],
   "source": [
    "all_movies.shape"
   ]
  },
  {
   "cell_type": "markdown",
   "metadata": {},
   "source": [
    "What did we pull in?"
   ]
  },
  {
   "cell_type": "code",
   "execution_count": 7,
   "metadata": {
    "ExecuteTime": {
     "end_time": "2021-04-29T09:48:51.119872Z",
     "start_time": "2021-04-29T09:48:51.097481Z"
    },
    "scrolled": true
   },
   "outputs": [
    {
     "data": {
      "text/html": [
       "<div>\n",
       "<style scoped>\n",
       "    .dataframe tbody tr th:only-of-type {\n",
       "        vertical-align: middle;\n",
       "    }\n",
       "\n",
       "    .dataframe tbody tr th {\n",
       "        vertical-align: top;\n",
       "    }\n",
       "\n",
       "    .dataframe thead th {\n",
       "        text-align: right;\n",
       "    }\n",
       "</style>\n",
       "<table border=\"1\" class=\"dataframe\">\n",
       "  <thead>\n",
       "    <tr style=\"text-align: right;\">\n",
       "      <th></th>\n",
       "      <th>title</th>\n",
       "      <th>selftext</th>\n",
       "      <th>subreddit</th>\n",
       "      <th>created_utc</th>\n",
       "      <th>author</th>\n",
       "      <th>is_self</th>\n",
       "      <th>score</th>\n",
       "      <th>num_comments</th>\n",
       "      <th>timestamp</th>\n",
       "    </tr>\n",
       "  </thead>\n",
       "  <tbody>\n",
       "    <tr>\n",
       "      <th>0</th>\n",
       "      <td>Listen,share,repost \"culgrin d mayor\" Africa gorilla volume 1 EP on all PLATFORMS</td>\n",
       "      <td>NaN</td>\n",
       "      <td>MovieDetails</td>\n",
       "      <td>1619213155</td>\n",
       "      <td>culgrin1</td>\n",
       "      <td>False</td>\n",
       "      <td>1</td>\n",
       "      <td>0</td>\n",
       "      <td>2021-04-23</td>\n",
       "    </tr>\n",
       "    <tr>\n",
       "      <th>1</th>\n",
       "      <td>In Repo Man (1984), Miller says to Otto “suppose you're thinkin' about a plate o' shrimp. Suddenly someone'll say, plate, or shrimp, or plate o' shrimp out the blue” as an example of his concept o...</td>\n",
       "      <td>NaN</td>\n",
       "      <td>MovieDetails</td>\n",
       "      <td>1619214866</td>\n",
       "      <td>VictorBlimpmuscle</td>\n",
       "      <td>False</td>\n",
       "      <td>1</td>\n",
       "      <td>12</td>\n",
       "      <td>2021-04-23</td>\n",
       "    </tr>\n",
       "  </tbody>\n",
       "</table>\n",
       "</div>"
      ],
      "text/plain": [
       "                                                                                                                                                                                                     title  \\\n",
       "0                                                                                                                        Listen,share,repost \"culgrin d mayor\" Africa gorilla volume 1 EP on all PLATFORMS   \n",
       "1  In Repo Man (1984), Miller says to Otto “suppose you're thinkin' about a plate o' shrimp. Suddenly someone'll say, plate, or shrimp, or plate o' shrimp out the blue” as an example of his concept o...   \n",
       "\n",
       "  selftext     subreddit  created_utc             author  is_self  score  \\\n",
       "0      NaN  MovieDetails   1619213155           culgrin1    False      1   \n",
       "1      NaN  MovieDetails   1619214866  VictorBlimpmuscle    False      1   \n",
       "\n",
       "   num_comments   timestamp  \n",
       "0             0  2021-04-23  \n",
       "1            12  2021-04-23  "
      ]
     },
     "execution_count": 7,
     "metadata": {},
     "output_type": "execute_result"
    }
   ],
   "source": [
    "movie_deets2.head(2)"
   ]
  },
  {
   "cell_type": "code",
   "execution_count": 8,
   "metadata": {
    "ExecuteTime": {
     "end_time": "2021-04-29T09:48:51.145623Z",
     "start_time": "2021-04-29T09:48:51.122677Z"
    },
    "scrolled": true
   },
   "outputs": [
    {
     "data": {
      "text/html": [
       "<div>\n",
       "<style scoped>\n",
       "    .dataframe tbody tr th:only-of-type {\n",
       "        vertical-align: middle;\n",
       "    }\n",
       "\n",
       "    .dataframe tbody tr th {\n",
       "        vertical-align: top;\n",
       "    }\n",
       "\n",
       "    .dataframe thead th {\n",
       "        text-align: right;\n",
       "    }\n",
       "</style>\n",
       "<table border=\"1\" class=\"dataframe\">\n",
       "  <thead>\n",
       "    <tr style=\"text-align: right;\">\n",
       "      <th></th>\n",
       "      <th>title</th>\n",
       "      <th>selftext</th>\n",
       "      <th>subreddit</th>\n",
       "      <th>created_utc</th>\n",
       "      <th>author</th>\n",
       "      <th>is_self</th>\n",
       "      <th>score</th>\n",
       "      <th>num_comments</th>\n",
       "      <th>timestamp</th>\n",
       "    </tr>\n",
       "  </thead>\n",
       "  <tbody>\n",
       "    <tr>\n",
       "      <th>0</th>\n",
       "      <td>In the movie Bullworth (1998), a police officer is seen not shooting black people.</td>\n",
       "      <td>NaN</td>\n",
       "      <td>shittymoviedetails</td>\n",
       "      <td>1619214935</td>\n",
       "      <td>Wuz314159</td>\n",
       "      <td>False</td>\n",
       "      <td>1</td>\n",
       "      <td>1</td>\n",
       "      <td>2021-04-23</td>\n",
       "    </tr>\n",
       "    <tr>\n",
       "      <th>1</th>\n",
       "      <td>The Nightmare Before Christmas (1993), when he arrives at Christmas Town, Jack sings \"what's this? There's white things in the air\". 22 seconds later he sings \"there are children throwing snowball...</td>\n",
       "      <td>NaN</td>\n",
       "      <td>shittymoviedetails</td>\n",
       "      <td>1619217853</td>\n",
       "      <td>Nerf_Herder86</td>\n",
       "      <td>False</td>\n",
       "      <td>1</td>\n",
       "      <td>0</td>\n",
       "      <td>2021-04-23</td>\n",
       "    </tr>\n",
       "  </tbody>\n",
       "</table>\n",
       "</div>"
      ],
      "text/plain": [
       "                                                                                                                                                                                                     title  \\\n",
       "0                                                                                                                       In the movie Bullworth (1998), a police officer is seen not shooting black people.   \n",
       "1  The Nightmare Before Christmas (1993), when he arrives at Christmas Town, Jack sings \"what's this? There's white things in the air\". 22 seconds later he sings \"there are children throwing snowball...   \n",
       "\n",
       "  selftext           subreddit  created_utc         author  is_self  score  \\\n",
       "0      NaN  shittymoviedetails   1619214935      Wuz314159    False      1   \n",
       "1      NaN  shittymoviedetails   1619217853  Nerf_Herder86    False      1   \n",
       "\n",
       "   num_comments   timestamp  \n",
       "0             1  2021-04-23  \n",
       "1             0  2021-04-23  "
      ]
     },
     "execution_count": 8,
     "metadata": {},
     "output_type": "execute_result"
    }
   ],
   "source": [
    "bad_deets2.head(2)"
   ]
  },
  {
   "cell_type": "code",
   "execution_count": 9,
   "metadata": {
    "ExecuteTime": {
     "end_time": "2021-04-29T09:48:51.184578Z",
     "start_time": "2021-04-29T09:48:51.150442Z"
    },
    "scrolled": true
   },
   "outputs": [
    {
     "data": {
      "text/html": [
       "<div>\n",
       "<style scoped>\n",
       "    .dataframe tbody tr th:only-of-type {\n",
       "        vertical-align: middle;\n",
       "    }\n",
       "\n",
       "    .dataframe tbody tr th {\n",
       "        vertical-align: top;\n",
       "    }\n",
       "\n",
       "    .dataframe thead th {\n",
       "        text-align: right;\n",
       "    }\n",
       "</style>\n",
       "<table border=\"1\" class=\"dataframe\">\n",
       "  <thead>\n",
       "    <tr style=\"text-align: right;\">\n",
       "      <th></th>\n",
       "      <th>title</th>\n",
       "      <th>selftext</th>\n",
       "      <th>subreddit</th>\n",
       "      <th>created_utc</th>\n",
       "      <th>author</th>\n",
       "      <th>is_self</th>\n",
       "      <th>score</th>\n",
       "      <th>num_comments</th>\n",
       "      <th>timestamp</th>\n",
       "    </tr>\n",
       "  </thead>\n",
       "  <tbody>\n",
       "    <tr>\n",
       "      <th>0</th>\n",
       "      <td>Russian sci-fi film about artificial intelligence testing.</td>\n",
       "      <td>NaN</td>\n",
       "      <td>movies</td>\n",
       "      <td>1619216594</td>\n",
       "      <td>Anixx</td>\n",
       "      <td>False</td>\n",
       "      <td>1</td>\n",
       "      <td>0</td>\n",
       "      <td>2021-04-23</td>\n",
       "    </tr>\n",
       "    <tr>\n",
       "      <th>1</th>\n",
       "      <td>Just why! Miranda is not in the Lizzie McGuire Movie and while the movie was still good, there's a huge hole without Miranda especially when they go to a country like Rome. And Miranda was already...</td>\n",
       "      <td>[removed]</td>\n",
       "      <td>movies</td>\n",
       "      <td>1619217134</td>\n",
       "      <td>EvilIceCream1755</td>\n",
       "      <td>True</td>\n",
       "      <td>1</td>\n",
       "      <td>0</td>\n",
       "      <td>2021-04-23</td>\n",
       "    </tr>\n",
       "  </tbody>\n",
       "</table>\n",
       "</div>"
      ],
      "text/plain": [
       "                                                                                                                                                                                                     title  \\\n",
       "0                                                                                                                                               Russian sci-fi film about artificial intelligence testing.   \n",
       "1  Just why! Miranda is not in the Lizzie McGuire Movie and while the movie was still good, there's a huge hole without Miranda especially when they go to a country like Rome. And Miranda was already...   \n",
       "\n",
       "    selftext subreddit  created_utc            author  is_self  score  \\\n",
       "0        NaN    movies   1619216594             Anixx    False      1   \n",
       "1  [removed]    movies   1619217134  EvilIceCream1755     True      1   \n",
       "\n",
       "   num_comments   timestamp  \n",
       "0             0  2021-04-23  \n",
       "1             0  2021-04-23  "
      ]
     },
     "execution_count": 9,
     "metadata": {},
     "output_type": "execute_result"
    }
   ],
   "source": [
    "all_movies.head(2)"
   ]
  },
  {
   "cell_type": "markdown",
   "metadata": {},
   "source": [
    "Let's actually merge our dataframes to make it easier for processing."
   ]
  },
  {
   "cell_type": "code",
   "execution_count": 10,
   "metadata": {
    "ExecuteTime": {
     "end_time": "2021-04-29T09:48:51.216608Z",
     "start_time": "2021-04-29T09:48:51.186888Z"
    }
   },
   "outputs": [
    {
     "data": {
      "text/html": [
       "<div>\n",
       "<style scoped>\n",
       "    .dataframe tbody tr th:only-of-type {\n",
       "        vertical-align: middle;\n",
       "    }\n",
       "\n",
       "    .dataframe tbody tr th {\n",
       "        vertical-align: top;\n",
       "    }\n",
       "\n",
       "    .dataframe thead th {\n",
       "        text-align: right;\n",
       "    }\n",
       "</style>\n",
       "<table border=\"1\" class=\"dataframe\">\n",
       "  <thead>\n",
       "    <tr style=\"text-align: right;\">\n",
       "      <th></th>\n",
       "      <th>title</th>\n",
       "      <th>selftext</th>\n",
       "      <th>subreddit</th>\n",
       "      <th>created_utc</th>\n",
       "      <th>author</th>\n",
       "      <th>is_self</th>\n",
       "      <th>score</th>\n",
       "      <th>num_comments</th>\n",
       "      <th>timestamp</th>\n",
       "    </tr>\n",
       "  </thead>\n",
       "  <tbody>\n",
       "    <tr>\n",
       "      <th>0</th>\n",
       "      <td>In the movie Bullworth (1998), a police officer is seen not shooting black people.</td>\n",
       "      <td>NaN</td>\n",
       "      <td>shittymoviedetails</td>\n",
       "      <td>1619214935</td>\n",
       "      <td>Wuz314159</td>\n",
       "      <td>False</td>\n",
       "      <td>1</td>\n",
       "      <td>1</td>\n",
       "      <td>2021-04-23</td>\n",
       "    </tr>\n",
       "  </tbody>\n",
       "</table>\n",
       "</div>"
      ],
      "text/plain": [
       "                                                                                title  \\\n",
       "0  In the movie Bullworth (1998), a police officer is seen not shooting black people.   \n",
       "\n",
       "  selftext           subreddit  created_utc     author  is_self  score  \\\n",
       "0      NaN  shittymoviedetails   1619214935  Wuz314159    False      1   \n",
       "\n",
       "   num_comments   timestamp  \n",
       "0             1  2021-04-23  "
      ]
     },
     "execution_count": 10,
     "metadata": {},
     "output_type": "execute_result"
    }
   ],
   "source": [
    "#pd.concat([df1, df2])\n",
    "df = pd.concat([bad_deets2, movie_deets2, all_movies])\n",
    "df.head(1)"
   ]
  },
  {
   "cell_type": "code",
   "execution_count": 11,
   "metadata": {
    "ExecuteTime": {
     "end_time": "2021-04-29T09:48:51.228983Z",
     "start_time": "2021-04-29T09:48:51.218411Z"
    }
   },
   "outputs": [
    {
     "data": {
      "text/plain": [
       "(26389, 9)"
      ]
     },
     "execution_count": 11,
     "metadata": {},
     "output_type": "execute_result"
    }
   ],
   "source": [
    "df.shape"
   ]
  },
  {
   "cell_type": "markdown",
   "metadata": {},
   "source": [
    "What data types are we dealing with?"
   ]
  },
  {
   "cell_type": "code",
   "execution_count": 12,
   "metadata": {
    "ExecuteTime": {
     "end_time": "2021-04-29T09:48:51.266242Z",
     "start_time": "2021-04-29T09:48:51.232034Z"
    },
    "scrolled": false
   },
   "outputs": [
    {
     "name": "stdout",
     "output_type": "stream",
     "text": [
      "<class 'pandas.core.frame.DataFrame'>\n",
      "Int64Index: 26389 entries, 0 to 9403\n",
      "Data columns (total 9 columns):\n",
      " #   Column        Non-Null Count  Dtype \n",
      "---  ------        --------------  ----- \n",
      " 0   title         26389 non-null  object\n",
      " 1   selftext      7350 non-null   object\n",
      " 2   subreddit     26389 non-null  object\n",
      " 3   created_utc   26389 non-null  int64 \n",
      " 4   author        26389 non-null  object\n",
      " 5   is_self       26389 non-null  bool  \n",
      " 6   score         26389 non-null  int64 \n",
      " 7   num_comments  26389 non-null  int64 \n",
      " 8   timestamp     26389 non-null  object\n",
      "dtypes: bool(1), int64(3), object(5)\n",
      "memory usage: 1.8+ MB\n"
     ]
    }
   ],
   "source": [
    "df.info()"
   ]
  },
  {
   "cell_type": "markdown",
   "metadata": {},
   "source": [
    "A few objects, like text fields, are expected, and will need to be transformed / vectorized for modeling.\n",
    "\n",
    "Let's also convert the time stamps to a usable format, just in case they come in handy for modeling."
   ]
  },
  {
   "cell_type": "markdown",
   "metadata": {},
   "source": [
    "A few objects, like text fields, are expected, and will need to be transformed / vectorized for modeling.\n",
    "\n",
    "Let's also convert the time stamps to a usable format, just in case they come in handy for modeling. Further, the UTC is actually not really something we want in our model, and it's not really numeric either (it's a datetime concept if anything). Let's take care of that as well."
   ]
  },
  {
   "cell_type": "code",
   "execution_count": 13,
   "metadata": {
    "ExecuteTime": {
     "end_time": "2021-04-29T09:48:57.262893Z",
     "start_time": "2021-04-29T09:48:51.268387Z"
    }
   },
   "outputs": [],
   "source": [
    "#convert time stamps\n",
    "#.apply(pd.to_datetime) - ref.: https://stackoverflow.com/questions/26763344/convert-pandas-column-to-datetime\n",
    "df['timestamp'] = df['timestamp'].apply(pd.to_datetime)\n",
    "df['created_utc'] = df['created_utc'].apply(pd.to_datetime)"
   ]
  },
  {
   "cell_type": "markdown",
   "metadata": {},
   "source": [
    "Now we can try to obtain basic descriptive stats."
   ]
  },
  {
   "cell_type": "code",
   "execution_count": 14,
   "metadata": {
    "ExecuteTime": {
     "end_time": "2021-04-29T09:48:57.292934Z",
     "start_time": "2021-04-29T09:48:57.265165Z"
    },
    "scrolled": true
   },
   "outputs": [
    {
     "data": {
      "text/html": [
       "<div>\n",
       "<style scoped>\n",
       "    .dataframe tbody tr th:only-of-type {\n",
       "        vertical-align: middle;\n",
       "    }\n",
       "\n",
       "    .dataframe tbody tr th {\n",
       "        vertical-align: top;\n",
       "    }\n",
       "\n",
       "    .dataframe thead th {\n",
       "        text-align: right;\n",
       "    }\n",
       "</style>\n",
       "<table border=\"1\" class=\"dataframe\">\n",
       "  <thead>\n",
       "    <tr style=\"text-align: right;\">\n",
       "      <th></th>\n",
       "      <th>score</th>\n",
       "      <th>num_comments</th>\n",
       "    </tr>\n",
       "  </thead>\n",
       "  <tbody>\n",
       "    <tr>\n",
       "      <th>count</th>\n",
       "      <td>26389.0</td>\n",
       "      <td>26389.0</td>\n",
       "    </tr>\n",
       "    <tr>\n",
       "      <th>mean</th>\n",
       "      <td>57.4</td>\n",
       "      <td>18.7</td>\n",
       "    </tr>\n",
       "    <tr>\n",
       "      <th>std</th>\n",
       "      <td>1400.0</td>\n",
       "      <td>124.0</td>\n",
       "    </tr>\n",
       "    <tr>\n",
       "      <th>min</th>\n",
       "      <td>0.0</td>\n",
       "      <td>0.0</td>\n",
       "    </tr>\n",
       "    <tr>\n",
       "      <th>25%</th>\n",
       "      <td>1.0</td>\n",
       "      <td>0.0</td>\n",
       "    </tr>\n",
       "    <tr>\n",
       "      <th>50%</th>\n",
       "      <td>1.0</td>\n",
       "      <td>2.0</td>\n",
       "    </tr>\n",
       "    <tr>\n",
       "      <th>75%</th>\n",
       "      <td>1.0</td>\n",
       "      <td>5.0</td>\n",
       "    </tr>\n",
       "    <tr>\n",
       "      <th>max</th>\n",
       "      <td>72489.0</td>\n",
       "      <td>6036.0</td>\n",
       "    </tr>\n",
       "  </tbody>\n",
       "</table>\n",
       "</div>"
      ],
      "text/plain": [
       "         score  num_comments\n",
       "count  26389.0       26389.0\n",
       "mean      57.4          18.7\n",
       "std     1400.0         124.0\n",
       "min        0.0           0.0\n",
       "25%        1.0           0.0\n",
       "50%        1.0           2.0\n",
       "75%        1.0           5.0\n",
       "max    72489.0        6036.0"
      ]
     },
     "execution_count": 14,
     "metadata": {},
     "output_type": "execute_result"
    }
   ],
   "source": [
    "df.describe().round(1)"
   ]
  },
  {
   "cell_type": "markdown",
   "metadata": {},
   "source": [
    "Not much to look at here at the moment. The notables are the distribution of comments. We'll want to perform some more specific distribution analyses a little down the road, once done with the cleaning, to make more sense out of these stats."
   ]
  },
  {
   "cell_type": "markdown",
   "metadata": {},
   "source": [
    "Where might we have issues with missing data?"
   ]
  },
  {
   "cell_type": "code",
   "execution_count": 15,
   "metadata": {
    "ExecuteTime": {
     "end_time": "2021-04-29T09:48:57.318345Z",
     "start_time": "2021-04-29T09:48:57.295786Z"
    },
    "scrolled": true
   },
   "outputs": [
    {
     "data": {
      "text/plain": [
       "title               0\n",
       "selftext        19039\n",
       "subreddit           0\n",
       "created_utc         0\n",
       "author              0\n",
       "is_self             0\n",
       "score               0\n",
       "num_comments        0\n",
       "timestamp           0\n",
       "dtype: int64"
      ]
     },
     "execution_count": 15,
     "metadata": {},
     "output_type": "execute_result"
    }
   ],
   "source": [
    "df.isnull().sum()"
   ]
  },
  {
   "cell_type": "markdown",
   "metadata": {},
   "source": [
    "- - - \n",
    "\n",
    "### Imputation and cleaning strategy\n",
    "\n",
    "Our strategy is to first remove anything with selftext appearing to have been deleted. Even though these are not read as nulls, they effectively are, for our purposes.\n",
    "\n",
    "We knew that we'd have quite a few issues with missing self-text, when we shose to scrape unfiltered data. To remedy this, we could impute all nulls where self text is missing with the post's title, but this might result in inadvertent text duplicates when we train our model. So, instead, we are going to engineer a new column and merge the self-text and title text. _Note: Attribution for the idea to Riley R._\n",
    "\n",
    "We will further dedupe and get rid of ostensibly spammy looking posts, by adding stop words like \"repost\", \"reshare\", as well as dropping any dominant authors or ones that sound spammy (\"bot\", \"auto\").\n",
    "\n",
    "We will also need to get rid of any link references.\n",
    "\n",
    "Okay, let's start by dropping anything with the word \"removed\" or \"deleted\". It's a tiny portion of our set, so I am not super worried about losing those rows of data."
   ]
  },
  {
   "cell_type": "code",
   "execution_count": 16,
   "metadata": {
    "ExecuteTime": {
     "end_time": "2021-04-29T09:48:57.362165Z",
     "start_time": "2021-04-29T09:48:57.320930Z"
    }
   },
   "outputs": [],
   "source": [
    "#df[~df['col'].str.contains('value1|value2')]\n",
    "#syntactic ref from https://stackoverflow.com/questions/52297740/typeerror-bad-operand-type-for-unary-float\n",
    "\n",
    "df = df[~df['selftext'].str.contains('deleted|removed', na=False)]\n",
    "\n",
    "#df = df[df.selftext != 'deleted']\n",
    "#df = df[df.selftext != 'removed']"
   ]
  },
  {
   "cell_type": "code",
   "execution_count": 17,
   "metadata": {
    "ExecuteTime": {
     "end_time": "2021-04-29T09:48:57.380065Z",
     "start_time": "2021-04-29T09:48:57.364355Z"
    }
   },
   "outputs": [
    {
     "data": {
      "text/html": [
       "<div>\n",
       "<style scoped>\n",
       "    .dataframe tbody tr th:only-of-type {\n",
       "        vertical-align: middle;\n",
       "    }\n",
       "\n",
       "    .dataframe tbody tr th {\n",
       "        vertical-align: top;\n",
       "    }\n",
       "\n",
       "    .dataframe thead th {\n",
       "        text-align: right;\n",
       "    }\n",
       "</style>\n",
       "<table border=\"1\" class=\"dataframe\">\n",
       "  <thead>\n",
       "    <tr style=\"text-align: right;\">\n",
       "      <th></th>\n",
       "      <th>title</th>\n",
       "      <th>selftext</th>\n",
       "      <th>subreddit</th>\n",
       "      <th>created_utc</th>\n",
       "      <th>author</th>\n",
       "      <th>is_self</th>\n",
       "      <th>score</th>\n",
       "      <th>num_comments</th>\n",
       "      <th>timestamp</th>\n",
       "    </tr>\n",
       "  </thead>\n",
       "  <tbody>\n",
       "    <tr>\n",
       "      <th>0</th>\n",
       "      <td>In the movie Bullworth (1998), a police officer is seen not shooting black people.</td>\n",
       "      <td>NaN</td>\n",
       "      <td>shittymoviedetails</td>\n",
       "      <td>1970-01-01 00:00:01.619214935</td>\n",
       "      <td>Wuz314159</td>\n",
       "      <td>False</td>\n",
       "      <td>1</td>\n",
       "      <td>1</td>\n",
       "      <td>2021-04-23</td>\n",
       "    </tr>\n",
       "  </tbody>\n",
       "</table>\n",
       "</div>"
      ],
      "text/plain": [
       "                                                                                title  \\\n",
       "0  In the movie Bullworth (1998), a police officer is seen not shooting black people.   \n",
       "\n",
       "  selftext           subreddit                   created_utc     author  \\\n",
       "0      NaN  shittymoviedetails 1970-01-01 00:00:01.619214935  Wuz314159   \n",
       "\n",
       "   is_self  score  num_comments  timestamp  \n",
       "0    False      1             1 2021-04-23  "
      ]
     },
     "execution_count": 17,
     "metadata": {},
     "output_type": "execute_result"
    }
   ],
   "source": [
    "#check\n",
    "df.head(1)"
   ]
  },
  {
   "cell_type": "markdown",
   "metadata": {},
   "source": [
    "Let's confirm that those bad rows are gone."
   ]
  },
  {
   "cell_type": "code",
   "execution_count": 18,
   "metadata": {
    "ExecuteTime": {
     "end_time": "2021-04-29T09:48:57.399801Z",
     "start_time": "2021-04-29T09:48:57.382747Z"
    }
   },
   "outputs": [
    {
     "data": {
      "text/plain": [
       "Do you know what simple \"lighting\" trick was used in both of these movies? (--specifically: during the following scenes, IMAGES below):\\n\\nhttps://lh3.googleusercontent.com/proxy/KwBdwYULTehr2Xp4GNGnCT6UipFn19OSfZd4jCZEodni3IGnndgpq3NOiEeKm8JOEAs8jnXvwvZ3-TLgKukUjMsZD5ySO3_obHvvaHXprz84RYXrGwlb8fchAH7yHppp9vzL-Q\\n\\nhttps://www.flickchart.com/blog/wp-content/uploads/2011/03/fplanet7.jpg\\n\\nAnswer:  &gt;!The main shadows --of the trees in the forest and directly under the spacecraft-- *were painted on the ground.*  This was required because the lighting needed to evenly light the actors and massive sets \"killed\" the strong directional quality of those shadows.!&lt;    2\n",
       "There was a big movie sale last year on digital media with films. I was just wondering if the same sale was happening this year and if anyone knows anything that might or might not happen this year again so that I know that for sure whether to wait or spend my money on films that I want or if I wait for something that won’t happen                                                                                                                                                                                                                                                                                                                                                       2\n",
       "Name: selftext, dtype: int64"
      ]
     },
     "execution_count": 18,
     "metadata": {},
     "output_type": "execute_result"
    }
   ],
   "source": [
    "#check again that removed and deleted selftexts are no longer in frame\n",
    "df['selftext'].value_counts().sort_values(ascending=False)[:2]"
   ]
  },
  {
   "cell_type": "markdown",
   "metadata": {},
   "source": [
    "We should see the dropped rows reflected in the shape."
   ]
  },
  {
   "cell_type": "code",
   "execution_count": 19,
   "metadata": {
    "ExecuteTime": {
     "end_time": "2021-04-29T09:48:57.408517Z",
     "start_time": "2021-04-29T09:48:57.401434Z"
    }
   },
   "outputs": [
    {
     "data": {
      "text/plain": [
       "(21798, 9)"
      ]
     },
     "execution_count": 19,
     "metadata": {},
     "output_type": "execute_result"
    }
   ],
   "source": [
    "#Confirm data frame has shrunk by 227 rows\n",
    "df.shape"
   ]
  },
  {
   "cell_type": "markdown",
   "metadata": {},
   "source": [
    "Finally, the nulls should still be intact -- we are going to take care of that in a moment."
   ]
  },
  {
   "cell_type": "code",
   "execution_count": 20,
   "metadata": {
    "ExecuteTime": {
     "end_time": "2021-04-29T09:48:57.428311Z",
     "start_time": "2021-04-29T09:48:57.410182Z"
    },
    "scrolled": true
   },
   "outputs": [
    {
     "data": {
      "text/plain": [
       "title               0\n",
       "selftext        19039\n",
       "subreddit           0\n",
       "created_utc         0\n",
       "author              0\n",
       "is_self             0\n",
       "score               0\n",
       "num_comments        0\n",
       "timestamp           0\n",
       "dtype: int64"
      ]
     },
     "execution_count": 20,
     "metadata": {},
     "output_type": "execute_result"
    }
   ],
   "source": [
    "df.isnull().sum()"
   ]
  },
  {
   "cell_type": "markdown",
   "metadata": {},
   "source": [
    "We also need to get rid of the link mentions."
   ]
  },
  {
   "cell_type": "code",
   "execution_count": 21,
   "metadata": {
    "ExecuteTime": {
     "end_time": "2021-04-29T09:48:57.512338Z",
     "start_time": "2021-04-29T09:48:57.433176Z"
    }
   },
   "outputs": [],
   "source": [
    "#df['column'] = df['column'].replace(r'http\\S+', '', regex=True).replace(r'www\\S+', '', regex=True)\n",
    "#from https://stackoverflow.com/questions/51994254/removing-url-from-a-column-in-pandas-dataframe/51994366\n",
    "\n",
    "df['selftext'] = df['selftext'].replace(r'http\\S+', '', regex=True).replace(\n",
    "    r'www\\S+', '', regex=True).replace(r'\\&amp\\S+', '', regex=True)"
   ]
  },
  {
   "cell_type": "code",
   "execution_count": 22,
   "metadata": {
    "ExecuteTime": {
     "end_time": "2021-04-29T09:48:57.524786Z",
     "start_time": "2021-04-29T09:48:57.514584Z"
    }
   },
   "outputs": [
    {
     "data": {
      "text/plain": [
       "pandas.core.series.Series"
      ]
     },
     "execution_count": 22,
     "metadata": {},
     "output_type": "execute_result"
    }
   ],
   "source": [
    "type(df['selftext'])"
   ]
  },
  {
   "cell_type": "code",
   "execution_count": 23,
   "metadata": {
    "ExecuteTime": {
     "end_time": "2021-04-29T09:48:58.486177Z",
     "start_time": "2021-04-29T09:48:57.532306Z"
    }
   },
   "outputs": [],
   "source": [
    "#from https://stackoverflow.com/questions/44227748/removing-newlines-from-messy-strings-in-pandas-dataframe-cells\n",
    "\n",
    "df.replace(to_replace=[r\"\\\\t|\\\\n|\\\\r\", \"\\t|\\n|\\r\"], value=[\"\",\"\"], regex=True, inplace=True)\n",
    "\n",
    "df = df.replace(r'\\\\n','', regex=True) "
   ]
  },
  {
   "cell_type": "code",
   "execution_count": 24,
   "metadata": {
    "ExecuteTime": {
     "end_time": "2021-04-29T09:48:59.082340Z",
     "start_time": "2021-04-29T09:48:58.508713Z"
    }
   },
   "outputs": [],
   "source": [
    "#Thanks to Aderinsola, Dan and Riley R. for collaboration on this code\n",
    "df = df.replace(r'[^a-zA-Z0-9]', ' ', regex=True)"
   ]
  },
  {
   "cell_type": "markdown",
   "metadata": {},
   "source": [
    "Now let's create our all-text column that we'll train on later.\n",
    "\n",
    "However, we still need an imputation strategy for the NaNs. I'm choosing to fill them in with spaces."
   ]
  },
  {
   "cell_type": "code",
   "execution_count": 25,
   "metadata": {
    "ExecuteTime": {
     "end_time": "2021-04-29T09:48:59.098471Z",
     "start_time": "2021-04-29T09:48:59.084580Z"
    }
   },
   "outputs": [],
   "source": [
    "#nuke nulls\n",
    "df['selftext'].fillna('', inplace=True)"
   ]
  },
  {
   "cell_type": "code",
   "execution_count": 26,
   "metadata": {
    "ExecuteTime": {
     "end_time": "2021-04-29T09:48:59.186267Z",
     "start_time": "2021-04-29T09:48:59.101416Z"
    }
   },
   "outputs": [
    {
     "data": {
      "text/html": [
       "<div>\n",
       "<style scoped>\n",
       "    .dataframe tbody tr th:only-of-type {\n",
       "        vertical-align: middle;\n",
       "    }\n",
       "\n",
       "    .dataframe tbody tr th {\n",
       "        vertical-align: top;\n",
       "    }\n",
       "\n",
       "    .dataframe thead th {\n",
       "        text-align: right;\n",
       "    }\n",
       "</style>\n",
       "<table border=\"1\" class=\"dataframe\">\n",
       "  <thead>\n",
       "    <tr style=\"text-align: right;\">\n",
       "      <th></th>\n",
       "      <th>title</th>\n",
       "      <th>selftext</th>\n",
       "      <th>subreddit</th>\n",
       "      <th>created_utc</th>\n",
       "      <th>author</th>\n",
       "      <th>is_self</th>\n",
       "      <th>score</th>\n",
       "      <th>num_comments</th>\n",
       "      <th>timestamp</th>\n",
       "      <th>all_text</th>\n",
       "    </tr>\n",
       "  </thead>\n",
       "  <tbody>\n",
       "    <tr>\n",
       "      <th>0</th>\n",
       "      <td>In the movie Bullworth  1998   a police officer is seen not shooting black people</td>\n",
       "      <td></td>\n",
       "      <td>shittymoviedetails</td>\n",
       "      <td>1970-01-01 00:00:01.619214935</td>\n",
       "      <td>Wuz314159</td>\n",
       "      <td>False</td>\n",
       "      <td>1</td>\n",
       "      <td>1</td>\n",
       "      <td>2021-04-23</td>\n",
       "      <td>In the movie Bullworth  1998   a police officer is seen not shooting black people .</td>\n",
       "    </tr>\n",
       "    <tr>\n",
       "      <th>13</th>\n",
       "      <td>After the commercial success of Kitchen Gun  and Toilet Grenade   Peter Serafinowicz expanded his business to offer a larger variety of cleaning products in John Wick  Chapter 2</td>\n",
       "      <td></td>\n",
       "      <td>shittymoviedetails</td>\n",
       "      <td>1970-01-01 00:00:01.619251458</td>\n",
       "      <td>Raoshard</td>\n",
       "      <td>False</td>\n",
       "      <td>1</td>\n",
       "      <td>46</td>\n",
       "      <td>2021-04-24</td>\n",
       "      <td>After the commercial success of Kitchen Gun  and Toilet Grenade   Peter Serafinowicz expanded his business to offer a larger variety of cleaning products in John Wick  Chapter 2.</td>\n",
       "    </tr>\n",
       "    <tr>\n",
       "      <th>23</th>\n",
       "      <td>Guy makes his interestingly bizarre rendition that s addictive</td>\n",
       "      <td></td>\n",
       "      <td>shittymoviedetails</td>\n",
       "      <td>1970-01-01 00:00:01.619283112</td>\n",
       "      <td>TitsAmazing</td>\n",
       "      <td>False</td>\n",
       "      <td>1</td>\n",
       "      <td>0</td>\n",
       "      <td>2021-04-24</td>\n",
       "      <td>Guy makes his interestingly bizarre rendition that s addictive.</td>\n",
       "    </tr>\n",
       "    <tr>\n",
       "      <th>22</th>\n",
       "      <td>The film title No Country For Old Men  2007  refers to the fact that Florida is not  in fact  a country  It is a state</td>\n",
       "      <td></td>\n",
       "      <td>shittymoviedetails</td>\n",
       "      <td>1970-01-01 00:00:01.619282093</td>\n",
       "      <td>NuclearJesusMan</td>\n",
       "      <td>False</td>\n",
       "      <td>1</td>\n",
       "      <td>5</td>\n",
       "      <td>2021-04-24</td>\n",
       "      <td>The film title No Country For Old Men  2007  refers to the fact that Florida is not  in fact  a country  It is a state .</td>\n",
       "    </tr>\n",
       "    <tr>\n",
       "      <th>21</th>\n",
       "      <td>In 2001  A Space Odyssey  1968   much of the film focuses on characters walking slowly  in silence  This is a reference to the fact that holy fuck this movie is boring as all hell</td>\n",
       "      <td></td>\n",
       "      <td>shittymoviedetails</td>\n",
       "      <td>1970-01-01 00:00:01.619281182</td>\n",
       "      <td>NuclearJesusMan</td>\n",
       "      <td>False</td>\n",
       "      <td>1</td>\n",
       "      <td>20</td>\n",
       "      <td>2021-04-24</td>\n",
       "      <td>In 2001  A Space Odyssey  1968   much of the film focuses on characters walking slowly  in silence  This is a reference to the fact that holy fuck this movie is boring as all hell .</td>\n",
       "    </tr>\n",
       "    <tr>\n",
       "      <th>20</th>\n",
       "      <td>In Captain America   The Winter Soldier  2014   the Winter Soldier looks like a crab in this scene  This is a reference to the actors name Sebastian  who is a crab in another Disney film  The Litt...</td>\n",
       "      <td></td>\n",
       "      <td>shittymoviedetails</td>\n",
       "      <td>1970-01-01 00:00:01.619280462</td>\n",
       "      <td>KennKennyKenKen</td>\n",
       "      <td>False</td>\n",
       "      <td>1</td>\n",
       "      <td>61</td>\n",
       "      <td>2021-04-24</td>\n",
       "      <td>In Captain America   The Winter Soldier  2014   the Winter Soldier looks like a crab in this scene  This is a reference to the actors name Sebastian  who is a crab in another Disney film  The Litt...</td>\n",
       "    </tr>\n",
       "    <tr>\n",
       "      <th>19</th>\n",
       "      <td>In Justice League  2021  the kid from the liquor store whom Bruce was referring to is actually McLovin</td>\n",
       "      <td></td>\n",
       "      <td>shittymoviedetails</td>\n",
       "      <td>1970-01-01 00:00:01.619278471</td>\n",
       "      <td>pale guy</td>\n",
       "      <td>False</td>\n",
       "      <td>1</td>\n",
       "      <td>0</td>\n",
       "      <td>2021-04-24</td>\n",
       "      <td>In Justice League  2021  the kid from the liquor store whom Bruce was referring to is actually McLovin .</td>\n",
       "    </tr>\n",
       "    <tr>\n",
       "      <th>18</th>\n",
       "      <td>Captain America 4  TBA  has recently been announced  Here is the leaked trailer</td>\n",
       "      <td></td>\n",
       "      <td>shittymoviedetails</td>\n",
       "      <td>1970-01-01 00:00:01.619277392</td>\n",
       "      <td>KennKennyKenKen</td>\n",
       "      <td>False</td>\n",
       "      <td>1</td>\n",
       "      <td>13</td>\n",
       "      <td>2021-04-24</td>\n",
       "      <td>Captain America 4  TBA  has recently been announced  Here is the leaked trailer .</td>\n",
       "    </tr>\n",
       "    <tr>\n",
       "      <th>17</th>\n",
       "      <td>In The Curious Case of Benjamin Button  2008  Brad Pitt became old because fight clubs can really take a toll on a guy</td>\n",
       "      <td></td>\n",
       "      <td>shittymoviedetails</td>\n",
       "      <td>1970-01-01 00:00:01.619275733</td>\n",
       "      <td>pale guy</td>\n",
       "      <td>False</td>\n",
       "      <td>1</td>\n",
       "      <td>0</td>\n",
       "      <td>2021-04-24</td>\n",
       "      <td>In The Curious Case of Benjamin Button  2008  Brad Pitt became old because fight clubs can really take a toll on a guy .</td>\n",
       "    </tr>\n",
       "    <tr>\n",
       "      <th>16</th>\n",
       "      <td>in mortal kombat  Hanzo says Cole Young  don t let the bloodline die  in Japanese   Cole Young</td>\n",
       "      <td></td>\n",
       "      <td>shittymoviedetails</td>\n",
       "      <td>1970-01-01 00:00:01.619270578</td>\n",
       "      <td>invertedparadX</td>\n",
       "      <td>False</td>\n",
       "      <td>1</td>\n",
       "      <td>0</td>\n",
       "      <td>2021-04-24</td>\n",
       "      <td>in mortal kombat  Hanzo says Cole Young  don t let the bloodline die  in Japanese   Cole Young .</td>\n",
       "    </tr>\n",
       "    <tr>\n",
       "      <th>15</th>\n",
       "      <td>In The Falcon And The Winter Soldier  Sam becomes the new Captain America despite having no super soldier serum is a reference to the practice of affirmative action</td>\n",
       "      <td></td>\n",
       "      <td>shittymoviedetails</td>\n",
       "      <td>1970-01-01 00:00:01.619266974</td>\n",
       "      <td>endgamespoilerbot</td>\n",
       "      <td>False</td>\n",
       "      <td>1</td>\n",
       "      <td>1</td>\n",
       "      <td>2021-04-24</td>\n",
       "      <td>In The Falcon And The Winter Soldier  Sam becomes the new Captain America despite having no super soldier serum is a reference to the practice of affirmative action .</td>\n",
       "    </tr>\n",
       "    <tr>\n",
       "      <th>14</th>\n",
       "      <td>Dbz Budokai Opening Story Mode  PS2</td>\n",
       "      <td></td>\n",
       "      <td>shittymoviedetails</td>\n",
       "      <td>1970-01-01 00:00:01.619259493</td>\n",
       "      <td>Aggressive Touch635</td>\n",
       "      <td>False</td>\n",
       "      <td>1</td>\n",
       "      <td>2</td>\n",
       "      <td>2021-04-24</td>\n",
       "      <td>Dbz Budokai Opening Story Mode  PS2 .</td>\n",
       "    </tr>\n",
       "    <tr>\n",
       "      <th>12</th>\n",
       "      <td>r shittymoviedetails hit 600k subscribers yesterday</td>\n",
       "      <td></td>\n",
       "      <td>shittymoviedetails</td>\n",
       "      <td>1970-01-01 00:00:01.619248539</td>\n",
       "      <td>TrendingBot</td>\n",
       "      <td>False</td>\n",
       "      <td>1</td>\n",
       "      <td>0</td>\n",
       "      <td>2021-04-24</td>\n",
       "      <td>r shittymoviedetails hit 600k subscribers yesterday.</td>\n",
       "    </tr>\n",
       "    <tr>\n",
       "      <th>1</th>\n",
       "      <td>The Nightmare Before Christmas  1993   when he arrives at Christmas Town  Jack sings  what s this  There s white things in the air   22 seconds later he sings  there are children throwing snowball...</td>\n",
       "      <td></td>\n",
       "      <td>shittymoviedetails</td>\n",
       "      <td>1970-01-01 00:00:01.619217853</td>\n",
       "      <td>Nerf Herder86</td>\n",
       "      <td>False</td>\n",
       "      <td>1</td>\n",
       "      <td>0</td>\n",
       "      <td>2021-04-23</td>\n",
       "      <td>The Nightmare Before Christmas  1993   when he arrives at Christmas Town  Jack sings  what s this  There s white things in the air   22 seconds later he sings  there are children throwing snowball...</td>\n",
       "    </tr>\n",
       "    <tr>\n",
       "      <th>11</th>\n",
       "      <td>In Game of Thrones Season 8  Daenerys  last words are  we break the wheel together  which spelled backwards says  rehtegot leehw eht kaerb ew  which doesn t make sense just like the rest of season 8</td>\n",
       "      <td></td>\n",
       "      <td>shittymoviedetails</td>\n",
       "      <td>1970-01-01 00:00:01.619248335</td>\n",
       "      <td>liquidInanna</td>\n",
       "      <td>False</td>\n",
       "      <td>1</td>\n",
       "      <td>4</td>\n",
       "      <td>2021-04-24</td>\n",
       "      <td>In Game of Thrones Season 8  Daenerys  last words are  we break the wheel together  which spelled backwards says  rehtegot leehw eht kaerb ew  which doesn t make sense just like the rest of season...</td>\n",
       "    </tr>\n",
       "    <tr>\n",
       "      <th>10</th>\n",
       "      <td>In Mortal Kombat  2021  the garden gnomes give the main characters the creeps because they cum on their hands</td>\n",
       "      <td></td>\n",
       "      <td>shittymoviedetails</td>\n",
       "      <td>1970-01-01 00:00:01.619238570</td>\n",
       "      <td>mtndew7</td>\n",
       "      <td>True</td>\n",
       "      <td>1</td>\n",
       "      <td>1</td>\n",
       "      <td>2021-04-23</td>\n",
       "      <td>In Mortal Kombat  2021  the garden gnomes give the main characters the creeps because they cum on their hands.</td>\n",
       "    </tr>\n",
       "    <tr>\n",
       "      <th>9</th>\n",
       "      <td>In the movie Stowaway 2021  a crew is traveling to Mars  The journey is supposed to take 2 years  Everyone is so boring  that the leading character exits the spaceship and dies alone outside</td>\n",
       "      <td></td>\n",
       "      <td>shittymoviedetails</td>\n",
       "      <td>1970-01-01 00:00:01.619237800</td>\n",
       "      <td>Gyros45</td>\n",
       "      <td>False</td>\n",
       "      <td>1</td>\n",
       "      <td>2</td>\n",
       "      <td>2021-04-23</td>\n",
       "      <td>In the movie Stowaway 2021  a crew is traveling to Mars  The journey is supposed to take 2 years  Everyone is so boring  that the leading character exits the spaceship and dies alone outside .</td>\n",
       "    </tr>\n",
       "    <tr>\n",
       "      <th>8</th>\n",
       "      <td>American Beauty was supposed to be a prequel to Se7en but the plot got diluted so bad that it became an entirely different movie</td>\n",
       "      <td></td>\n",
       "      <td>shittymoviedetails</td>\n",
       "      <td>1970-01-01 00:00:01.619234366</td>\n",
       "      <td>Dingus fartsniffer</td>\n",
       "      <td>True</td>\n",
       "      <td>1</td>\n",
       "      <td>2</td>\n",
       "      <td>2021-04-23</td>\n",
       "      <td>American Beauty was supposed to be a prequel to Se7en but the plot got diluted so bad that it became an entirely different movie .</td>\n",
       "    </tr>\n",
       "    <tr>\n",
       "      <th>7</th>\n",
       "      <td>The casting of Hugh Jackman as Wolverine was both a shock and inconvenience to him because of communication errors  It was decided early on that they needed a  Huge Actor  to play the popular char...</td>\n",
       "      <td></td>\n",
       "      <td>shittymoviedetails</td>\n",
       "      <td>1970-01-01 00:00:01.619229514</td>\n",
       "      <td>YouGoThatWayIllGoHom</td>\n",
       "      <td>False</td>\n",
       "      <td>1</td>\n",
       "      <td>4</td>\n",
       "      <td>2021-04-23</td>\n",
       "      <td>The casting of Hugh Jackman as Wolverine was both a shock and inconvenience to him because of communication errors  It was decided early on that they needed a  Huge Actor  to play the popular char...</td>\n",
       "    </tr>\n",
       "    <tr>\n",
       "      <th>6</th>\n",
       "      <td>I can t believe they spent  90 million on this movie and no one pointed out that there s a typo in the title</td>\n",
       "      <td></td>\n",
       "      <td>shittymoviedetails</td>\n",
       "      <td>1970-01-01 00:00:01.619228584</td>\n",
       "      <td>invertedparadX</td>\n",
       "      <td>False</td>\n",
       "      <td>1</td>\n",
       "      <td>166</td>\n",
       "      <td>2021-04-23</td>\n",
       "      <td>I can t believe they spent  90 million on this movie and no one pointed out that there s a typo in the title.</td>\n",
       "    </tr>\n",
       "    <tr>\n",
       "      <th>5</th>\n",
       "      <td>In Mortal Kombat  2021  in this scene you can clearly see a crew member in the shot  Very irresponsible</td>\n",
       "      <td></td>\n",
       "      <td>shittymoviedetails</td>\n",
       "      <td>1970-01-01 00:00:01.619227354</td>\n",
       "      <td>MyHandsAreGone</td>\n",
       "      <td>False</td>\n",
       "      <td>1</td>\n",
       "      <td>0</td>\n",
       "      <td>2021-04-23</td>\n",
       "      <td>In Mortal Kombat  2021  in this scene you can clearly see a crew member in the shot  Very irresponsible .</td>\n",
       "    </tr>\n",
       "    <tr>\n",
       "      <th>4</th>\n",
       "      <td>johnny cage could not appear in mortal kombat due to scheduling conflicts shooting the real world  back at it like a crack addict</td>\n",
       "      <td></td>\n",
       "      <td>shittymoviedetails</td>\n",
       "      <td>1970-01-01 00:00:01.619227056</td>\n",
       "      <td>invertedparadX</td>\n",
       "      <td>False</td>\n",
       "      <td>1</td>\n",
       "      <td>0</td>\n",
       "      <td>2021-04-23</td>\n",
       "      <td>johnny cage could not appear in mortal kombat due to scheduling conflicts shooting the real world  back at it like a crack addict.</td>\n",
       "    </tr>\n",
       "    <tr>\n",
       "      <th>3</th>\n",
       "      <td>In Frozen  2013  Anna asks  Why have a ballroom with no balls   This is a direct reference to there being no males in the kingdom</td>\n",
       "      <td></td>\n",
       "      <td>shittymoviedetails</td>\n",
       "      <td>1970-01-01 00:00:01.619223942</td>\n",
       "      <td>aceswild347</td>\n",
       "      <td>False</td>\n",
       "      <td>1</td>\n",
       "      <td>6</td>\n",
       "      <td>2021-04-23</td>\n",
       "      <td>In Frozen  2013  Anna asks  Why have a ballroom with no balls   This is a direct reference to there being no males in the kingdom .</td>\n",
       "    </tr>\n",
       "    <tr>\n",
       "      <th>2</th>\n",
       "      <td>In Bumblebee  2018   we see a roll of toilet paper  which is used to get rid of shit  in the revenge scene  This is a reference to how this reboot is getting rid of the shit that Michael Bay made ...</td>\n",
       "      <td></td>\n",
       "      <td>shittymoviedetails</td>\n",
       "      <td>1970-01-01 00:00:01.619220585</td>\n",
       "      <td>dontcommitnorespawn</td>\n",
       "      <td>False</td>\n",
       "      <td>1</td>\n",
       "      <td>3</td>\n",
       "      <td>2021-04-23</td>\n",
       "      <td>In Bumblebee  2018   we see a roll of toilet paper  which is used to get rid of shit  in the revenge scene  This is a reference to how this reboot is getting rid of the shit that Michael Bay made ...</td>\n",
       "    </tr>\n",
       "    <tr>\n",
       "      <th>24</th>\n",
       "      <td>Your mama took you to karate class next door to a dollar store  next thing you know  you fighting dudes from another dimension throwing fire balls  amp  ice spears  like sensei didn t teach you an...</td>\n",
       "      <td></td>\n",
       "      <td>shittymoviedetails</td>\n",
       "      <td>1970-01-01 00:00:01.619284669</td>\n",
       "      <td>invertedparadX</td>\n",
       "      <td>False</td>\n",
       "      <td>1</td>\n",
       "      <td>0</td>\n",
       "      <td>2021-04-24</td>\n",
       "      <td>Your mama took you to karate class next door to a dollar store  next thing you know  you fighting dudes from another dimension throwing fire balls  amp  ice spears  like sensei didn t teach you an...</td>\n",
       "    </tr>\n",
       "  </tbody>\n",
       "</table>\n",
       "</div>"
      ],
      "text/plain": [
       "                                                                                                                                                                                                      title  \\\n",
       "0                                                                                                                        In the movie Bullworth  1998   a police officer is seen not shooting black people    \n",
       "13                        After the commercial success of Kitchen Gun  and Toilet Grenade   Peter Serafinowicz expanded his business to offer a larger variety of cleaning products in John Wick  Chapter 2   \n",
       "23                                                                                                                                           Guy makes his interestingly bizarre rendition that s addictive   \n",
       "22                                                                                  The film title No Country For Old Men  2007  refers to the fact that Florida is not  in fact  a country  It is a state    \n",
       "21                     In 2001  A Space Odyssey  1968   much of the film focuses on characters walking slowly  in silence  This is a reference to the fact that holy fuck this movie is boring as all hell    \n",
       "20  In Captain America   The Winter Soldier  2014   the Winter Soldier looks like a crab in this scene  This is a reference to the actors name Sebastian  who is a crab in another Disney film  The Litt...   \n",
       "19                                                                                                  In Justice League  2021  the kid from the liquor store whom Bruce was referring to is actually McLovin    \n",
       "18                                                                                                                         Captain America 4  TBA  has recently been announced  Here is the leaked trailer    \n",
       "17                                                                                  In The Curious Case of Benjamin Button  2008  Brad Pitt became old because fight clubs can really take a toll on a guy    \n",
       "16                                                                                                          in mortal kombat  Hanzo says Cole Young  don t let the bloodline die  in Japanese   Cole Young    \n",
       "15                                    In The Falcon And The Winter Soldier  Sam becomes the new Captain America despite having no super soldier serum is a reference to the practice of affirmative action    \n",
       "14                                                                                                                                                                     Dbz Budokai Opening Story Mode  PS2    \n",
       "12                                                                                                                                                      r shittymoviedetails hit 600k subscribers yesterday   \n",
       "1   The Nightmare Before Christmas  1993   when he arrives at Christmas Town  Jack sings  what s this  There s white things in the air   22 seconds later he sings  there are children throwing snowball...   \n",
       "11  In Game of Thrones Season 8  Daenerys  last words are  we break the wheel together  which spelled backwards says  rehtegot leehw eht kaerb ew  which doesn t make sense just like the rest of season 8    \n",
       "10                                                                                            In Mortal Kombat  2021  the garden gnomes give the main characters the creeps because they cum on their hands   \n",
       "9           In the movie Stowaway 2021  a crew is traveling to Mars  The journey is supposed to take 2 years  Everyone is so boring  that the leading character exits the spaceship and dies alone outside    \n",
       "8                                                                         American Beauty was supposed to be a prequel to Se7en but the plot got diluted so bad that it became an entirely different movie    \n",
       "7   The casting of Hugh Jackman as Wolverine was both a shock and inconvenience to him because of communication errors  It was decided early on that they needed a  Huge Actor  to play the popular char...   \n",
       "6                                                                                              I can t believe they spent  90 million on this movie and no one pointed out that there s a typo in the title   \n",
       "5                                                                                                  In Mortal Kombat  2021  in this scene you can clearly see a crew member in the shot  Very irresponsible    \n",
       "4                                                                         johnny cage could not appear in mortal kombat due to scheduling conflicts shooting the real world  back at it like a crack addict   \n",
       "3                                                                        In Frozen  2013  Anna asks  Why have a ballroom with no balls   This is a direct reference to there being no males in the kingdom    \n",
       "2   In Bumblebee  2018   we see a roll of toilet paper  which is used to get rid of shit  in the revenge scene  This is a reference to how this reboot is getting rid of the shit that Michael Bay made ...   \n",
       "24  Your mama took you to karate class next door to a dollar store  next thing you know  you fighting dudes from another dimension throwing fire balls  amp  ice spears  like sensei didn t teach you an...   \n",
       "\n",
       "   selftext           subreddit                   created_utc  \\\n",
       "0            shittymoviedetails 1970-01-01 00:00:01.619214935   \n",
       "13           shittymoviedetails 1970-01-01 00:00:01.619251458   \n",
       "23           shittymoviedetails 1970-01-01 00:00:01.619283112   \n",
       "22           shittymoviedetails 1970-01-01 00:00:01.619282093   \n",
       "21           shittymoviedetails 1970-01-01 00:00:01.619281182   \n",
       "20           shittymoviedetails 1970-01-01 00:00:01.619280462   \n",
       "19           shittymoviedetails 1970-01-01 00:00:01.619278471   \n",
       "18           shittymoviedetails 1970-01-01 00:00:01.619277392   \n",
       "17           shittymoviedetails 1970-01-01 00:00:01.619275733   \n",
       "16           shittymoviedetails 1970-01-01 00:00:01.619270578   \n",
       "15           shittymoviedetails 1970-01-01 00:00:01.619266974   \n",
       "14           shittymoviedetails 1970-01-01 00:00:01.619259493   \n",
       "12           shittymoviedetails 1970-01-01 00:00:01.619248539   \n",
       "1            shittymoviedetails 1970-01-01 00:00:01.619217853   \n",
       "11           shittymoviedetails 1970-01-01 00:00:01.619248335   \n",
       "10           shittymoviedetails 1970-01-01 00:00:01.619238570   \n",
       "9            shittymoviedetails 1970-01-01 00:00:01.619237800   \n",
       "8            shittymoviedetails 1970-01-01 00:00:01.619234366   \n",
       "7            shittymoviedetails 1970-01-01 00:00:01.619229514   \n",
       "6            shittymoviedetails 1970-01-01 00:00:01.619228584   \n",
       "5            shittymoviedetails 1970-01-01 00:00:01.619227354   \n",
       "4            shittymoviedetails 1970-01-01 00:00:01.619227056   \n",
       "3            shittymoviedetails 1970-01-01 00:00:01.619223942   \n",
       "2            shittymoviedetails 1970-01-01 00:00:01.619220585   \n",
       "24           shittymoviedetails 1970-01-01 00:00:01.619284669   \n",
       "\n",
       "                  author  is_self  score  num_comments  timestamp  \\\n",
       "0              Wuz314159    False      1             1 2021-04-23   \n",
       "13              Raoshard    False      1            46 2021-04-24   \n",
       "23           TitsAmazing    False      1             0 2021-04-24   \n",
       "22       NuclearJesusMan    False      1             5 2021-04-24   \n",
       "21       NuclearJesusMan    False      1            20 2021-04-24   \n",
       "20       KennKennyKenKen    False      1            61 2021-04-24   \n",
       "19             pale guy     False      1             0 2021-04-24   \n",
       "18       KennKennyKenKen    False      1            13 2021-04-24   \n",
       "17             pale guy     False      1             0 2021-04-24   \n",
       "16        invertedparadX    False      1             0 2021-04-24   \n",
       "15     endgamespoilerbot    False      1             1 2021-04-24   \n",
       "14   Aggressive Touch635    False      1             2 2021-04-24   \n",
       "12           TrendingBot    False      1             0 2021-04-24   \n",
       "1          Nerf Herder86    False      1             0 2021-04-23   \n",
       "11          liquidInanna    False      1             4 2021-04-24   \n",
       "10               mtndew7     True      1             1 2021-04-23   \n",
       "9                Gyros45    False      1             2 2021-04-23   \n",
       "8     Dingus fartsniffer     True      1             2 2021-04-23   \n",
       "7   YouGoThatWayIllGoHom    False      1             4 2021-04-23   \n",
       "6         invertedparadX    False      1           166 2021-04-23   \n",
       "5         MyHandsAreGone    False      1             0 2021-04-23   \n",
       "4         invertedparadX    False      1             0 2021-04-23   \n",
       "3            aceswild347    False      1             6 2021-04-23   \n",
       "2    dontcommitnorespawn    False      1             3 2021-04-23   \n",
       "24        invertedparadX    False      1             0 2021-04-24   \n",
       "\n",
       "                                                                                                                                                                                                   all_text  \n",
       "0                                                                                                                      In the movie Bullworth  1998   a police officer is seen not shooting black people .   \n",
       "13                      After the commercial success of Kitchen Gun  and Toilet Grenade   Peter Serafinowicz expanded his business to offer a larger variety of cleaning products in John Wick  Chapter 2.   \n",
       "23                                                                                                                                         Guy makes his interestingly bizarre rendition that s addictive.   \n",
       "22                                                                                The film title No Country For Old Men  2007  refers to the fact that Florida is not  in fact  a country  It is a state .   \n",
       "21                   In 2001  A Space Odyssey  1968   much of the film focuses on characters walking slowly  in silence  This is a reference to the fact that holy fuck this movie is boring as all hell .   \n",
       "20  In Captain America   The Winter Soldier  2014   the Winter Soldier looks like a crab in this scene  This is a reference to the actors name Sebastian  who is a crab in another Disney film  The Litt...  \n",
       "19                                                                                                In Justice League  2021  the kid from the liquor store whom Bruce was referring to is actually McLovin .   \n",
       "18                                                                                                                       Captain America 4  TBA  has recently been announced  Here is the leaked trailer .   \n",
       "17                                                                                In The Curious Case of Benjamin Button  2008  Brad Pitt became old because fight clubs can really take a toll on a guy .   \n",
       "16                                                                                                        in mortal kombat  Hanzo says Cole Young  don t let the bloodline die  in Japanese   Cole Young .   \n",
       "15                                  In The Falcon And The Winter Soldier  Sam becomes the new Captain America despite having no super soldier serum is a reference to the practice of affirmative action .   \n",
       "14                                                                                                                                                                   Dbz Budokai Opening Story Mode  PS2 .   \n",
       "12                                                                                                                                                    r shittymoviedetails hit 600k subscribers yesterday.   \n",
       "1   The Nightmare Before Christmas  1993   when he arrives at Christmas Town  Jack sings  what s this  There s white things in the air   22 seconds later he sings  there are children throwing snowball...  \n",
       "11  In Game of Thrones Season 8  Daenerys  last words are  we break the wheel together  which spelled backwards says  rehtegot leehw eht kaerb ew  which doesn t make sense just like the rest of season...  \n",
       "10                                                                                          In Mortal Kombat  2021  the garden gnomes give the main characters the creeps because they cum on their hands.   \n",
       "9         In the movie Stowaway 2021  a crew is traveling to Mars  The journey is supposed to take 2 years  Everyone is so boring  that the leading character exits the spaceship and dies alone outside .   \n",
       "8                                                                       American Beauty was supposed to be a prequel to Se7en but the plot got diluted so bad that it became an entirely different movie .   \n",
       "7   The casting of Hugh Jackman as Wolverine was both a shock and inconvenience to him because of communication errors  It was decided early on that they needed a  Huge Actor  to play the popular char...  \n",
       "6                                                                                            I can t believe they spent  90 million on this movie and no one pointed out that there s a typo in the title.   \n",
       "5                                                                                                In Mortal Kombat  2021  in this scene you can clearly see a crew member in the shot  Very irresponsible .   \n",
       "4                                                                       johnny cage could not appear in mortal kombat due to scheduling conflicts shooting the real world  back at it like a crack addict.   \n",
       "3                                                                      In Frozen  2013  Anna asks  Why have a ballroom with no balls   This is a direct reference to there being no males in the kingdom .   \n",
       "2   In Bumblebee  2018   we see a roll of toilet paper  which is used to get rid of shit  in the revenge scene  This is a reference to how this reboot is getting rid of the shit that Michael Bay made ...  \n",
       "24  Your mama took you to karate class next door to a dollar store  next thing you know  you fighting dudes from another dimension throwing fire balls  amp  ice spears  like sensei didn t teach you an...  "
      ]
     },
     "execution_count": 26,
     "metadata": {},
     "output_type": "execute_result"
    }
   ],
   "source": [
    "#get new all-text column.\n",
    "df['all_text'] = df['title'] + '. ' + df['selftext']\n",
    "\n",
    "#check result\n",
    "df.head(25).sort_values(by = 'selftext', ascending = False)"
   ]
  },
  {
   "cell_type": "code",
   "execution_count": 27,
   "metadata": {
    "ExecuteTime": {
     "end_time": "2021-04-29T09:48:59.244765Z",
     "start_time": "2021-04-29T09:48:59.204475Z"
    },
    "scrolled": true
   },
   "outputs": [
    {
     "data": {
      "text/plain": [
       "7446    tl dr  The new Mulan sucksI m Chinese  so I was excited as hell that we were getting a new  grittier Mulan that seemed to pay more homage to the original legend  and was more respectful to Chinese...\n",
       "6176                                                                                                                                                             tl dr   outraged  Michael Keaton must respond \n",
       "324     this was a movie that took place in a steampunk asian setting  the characters were glove puppets like thunderbolt fantasy or pili  and there was a robot  the movie tittle is also the name of the r...\n",
       "1644    this is the scene    i saw this movie back in 2012 in 3D and it was so good  probably the best movie i ve seen in 3D  in rewatching it  i m still so impressed by the feel of the flying fish scene ...\n",
       "2050    this is a random post but I just rewatched this again on crackle and I love this movie man  I m not huge into scifi like some but I like it enough if it s compelling material wether book  media  s...\n",
       "                                                                                                         ...                                                                                                   \n",
       "6238                                                                                                                                                                                                           \n",
       "6239                                                                                                                                                                                                           \n",
       "6241                                                                                                                                                                                                           \n",
       "6242                                                                                                                                                                                                           \n",
       "0                                                                                                                                                                                                              \n",
       "Name: selftext, Length: 21798, dtype: object"
      ]
     },
     "execution_count": 27,
     "metadata": {},
     "output_type": "execute_result"
    }
   ],
   "source": [
    "df['selftext'].sort_values(ascending=False)"
   ]
  },
  {
   "cell_type": "code",
   "execution_count": 28,
   "metadata": {
    "ExecuteTime": {
     "end_time": "2021-04-29T09:48:59.254619Z",
     "start_time": "2021-04-29T09:48:59.250934Z"
    }
   },
   "outputs": [],
   "source": [
    "#get rid of spammy text / authors by creating stop words list -- or do this underneath, in the NLP part."
   ]
  },
  {
   "cell_type": "markdown",
   "metadata": {},
   "source": [
    "--- \n",
    "\n",
    "### Analysis\n",
    "\n",
    "Now that we are more or less done cleaning, let's understand the density and usefulness of our content, by analyzing the volume of comments and looking for the richness of the text columns.\n",
    "\n",
    "We will be able to perform additional text analysis later on, once we have transformed (vectorized) our text.\n",
    "\n",
    "First, let's take a look at the distribution of posts by the volume of comments."
   ]
  },
  {
   "cell_type": "code",
   "execution_count": 29,
   "metadata": {
    "ExecuteTime": {
     "end_time": "2021-04-29T09:48:59.287602Z",
     "start_time": "2021-04-29T09:48:59.266834Z"
    },
    "scrolled": true
   },
   "outputs": [
    {
     "data": {
      "text/plain": [
       "0     7083\n",
       "2     2767\n",
       "1     2159\n",
       "3     1578\n",
       "4     1282\n",
       "5      786\n",
       "6      641\n",
       "7      452\n",
       "8      406\n",
       "9      334\n",
       "10     301\n",
       "11     251\n",
       "12     245\n",
       "13     185\n",
       "14     173\n",
       "16     148\n",
       "15     138\n",
       "17     123\n",
       "20     115\n",
       "18     102\n",
       "19      88\n",
       "21      85\n",
       "22      71\n",
       "23      66\n",
       "25      66\n",
       "26      65\n",
       "27      62\n",
       "24      56\n",
       "29      46\n",
       "30      46\n",
       "28      46\n",
       "36      43\n",
       "33      39\n",
       "35      37\n",
       "34      37\n",
       "31      36\n",
       "42      35\n",
       "37      33\n",
       "32      32\n",
       "41      30\n",
       "43      28\n",
       "54      28\n",
       "47      26\n",
       "39      25\n",
       "44      24\n",
       "40      23\n",
       "38      20\n",
       "46      19\n",
       "45      18\n",
       "52      18\n",
       "Name: num_comments, dtype: int64"
      ]
     },
     "execution_count": 29,
     "metadata": {},
     "output_type": "execute_result"
    }
   ],
   "source": [
    "df['num_comments'].value_counts()[:50]"
   ]
  },
  {
   "cell_type": "code",
   "execution_count": 30,
   "metadata": {
    "ExecuteTime": {
     "end_time": "2021-04-29T09:48:59.312858Z",
     "start_time": "2021-04-29T09:48:59.299816Z"
    }
   },
   "outputs": [
    {
     "data": {
      "text/plain": [
       "22.316726305165613"
      ]
     },
     "execution_count": 30,
     "metadata": {},
     "output_type": "execute_result"
    }
   ],
   "source": [
    "df['num_comments'].mean()"
   ]
  },
  {
   "cell_type": "code",
   "execution_count": 31,
   "metadata": {
    "ExecuteTime": {
     "end_time": "2021-04-29T09:48:59.328858Z",
     "start_time": "2021-04-29T09:48:59.316192Z"
    }
   },
   "outputs": [
    {
     "data": {
      "text/plain": [
       "0    0\n",
       "dtype: int64"
      ]
     },
     "execution_count": 31,
     "metadata": {},
     "output_type": "execute_result"
    }
   ],
   "source": [
    "df['num_comments'].mode()"
   ]
  },
  {
   "cell_type": "code",
   "execution_count": 32,
   "metadata": {
    "ExecuteTime": {
     "end_time": "2021-04-29T09:48:59.343211Z",
     "start_time": "2021-04-29T09:48:59.334434Z"
    },
    "scrolled": true
   },
   "outputs": [
    {
     "data": {
      "text/plain": [
       "2.0"
      ]
     },
     "execution_count": 32,
     "metadata": {},
     "output_type": "execute_result"
    }
   ],
   "source": [
    "df['num_comments'].median()"
   ]
  },
  {
   "cell_type": "code",
   "execution_count": 33,
   "metadata": {
    "ExecuteTime": {
     "end_time": "2021-04-29T09:48:59.354604Z",
     "start_time": "2021-04-29T09:48:59.347377Z"
    }
   },
   "outputs": [
    {
     "data": {
      "text/plain": [
       "6036"
      ]
     },
     "execution_count": 33,
     "metadata": {},
     "output_type": "execute_result"
    }
   ],
   "source": [
    "df['num_comments'].max()"
   ]
  },
  {
   "cell_type": "markdown",
   "metadata": {},
   "source": [
    "Judging from this, the vast majority of posts have no comments at all. The average number of comments is 22. There are also extreme outliers exceeding 1000 comments.\n",
    "\n",
    "Let's visualize this."
   ]
  },
  {
   "cell_type": "code",
   "execution_count": 34,
   "metadata": {
    "ExecuteTime": {
     "end_time": "2021-04-29T09:48:59.631386Z",
     "start_time": "2021-04-29T09:48:59.358889Z"
    }
   },
   "outputs": [
    {
     "data": {
      "image/png": "[encoded data removed]",
      "text/plain": [
       "<Figure size 1152x576 with 1 Axes>"
      ]
     },
     "metadata": {},
     "output_type": "display_data"
    }
   ],
   "source": [
    "#code ref from Gwen's lab review lesson 4/27/2021\n",
    "\n",
    "plt.figure(figsize = (16,8));\n",
    "df['num_comments'].plot(kind='hist');\n",
    "plt.title('Number of post comments', size =20);\n",
    "plt.xticks([0, 200, 500, 1000], size=14);\n",
    "plt.yticks(size=12);\n",
    "plt.ylabel('Number of posts', size=14);"
   ]
  },
  {
   "cell_type": "markdown",
   "metadata": {},
   "source": [
    "Anything beyond 500 comments (an already huge number barely registers); there is definitely a huge outlier with something getting 6K comments; we might want to remove this outlier, to reduce noise in our data.\n",
    "\n",
    "Now let's look at distribution by authors. Let's see if any stick out as dominant, which can either mean that they are highly engaged on Reddit, or it could be a signal of spam.\n",
    "\n",
    "Further, we might want to cross-validate if any others appear across _multiple_ of our subReddits!"
   ]
  },
  {
   "cell_type": "code",
   "execution_count": 35,
   "metadata": {
    "ExecuteTime": {
     "end_time": "2021-04-29T09:48:59.658064Z",
     "start_time": "2021-04-29T09:48:59.634082Z"
    },
    "scrolled": true
   },
   "outputs": [
    {
     "data": {
      "text/plain": [
       "wednesdaygiftinfo       434\n",
       "Numerous Lemon          282\n",
       "Ornery Control 9474     264\n",
       "Tokyono                 191\n",
       " deleted                189\n",
       "pale guy                154\n",
       "random guy somewhere    138\n",
       "klsi832                 108\n",
       "Comic Book Reader        92\n",
       "sirsquid                 82\n",
       "chanma50                 73\n",
       "MovieBattleGame          68\n",
       "alizamessy               63\n",
       "Sisiwakanamaru           62\n",
       "VictorBlimpmuscle        53\n",
       "ggroover97               51\n",
       "ToyVaren                 46\n",
       "KscILLBILL               46\n",
       "invertedparadX           43\n",
       "gautsvo                  41\n",
       "SpaceMyopia              41\n",
       "james 1990               40\n",
       "movihq                   33\n",
       "RayInRed                 31\n",
       "prsnreddit               31\n",
       "lopezjessy               30\n",
       "LiteraryBoner            27\n",
       "CephalopodRed            27\n",
       "Jack Earth 2             26\n",
       "randomspawner            26\n",
       "MistleFeast              25\n",
       "Iamnotbroke              25\n",
       "Mostafa Dahroug          25\n",
       "skyfall91404             25\n",
       "Prize Guest              24\n",
       "JoshuaCalledMe           24\n",
       "flikrate                 24\n",
       "Russian Bagel            24\n",
       "Puzzleheaded Fun 257     24\n",
       "zzuhruf                  23\n",
       "2016dsense               23\n",
       "legalbagelbeagle         22\n",
       "AnishNoor92              21\n",
       "KermitTheFraud92         21\n",
       "ceaguila84               21\n",
       "RickySmith2005           21\n",
       "ShaneMP01                20\n",
       "DraftDraw                20\n",
       "SleepyGary5              19\n",
       "Gyros45                  19\n",
       "Name: author, dtype: int64"
      ]
     },
     "execution_count": 35,
     "metadata": {},
     "output_type": "execute_result"
    }
   ],
   "source": [
    "df['author'].value_counts()[:50] #get only unique"
   ]
  },
  {
   "cell_type": "code",
   "execution_count": 36,
   "metadata": {
    "ExecuteTime": {
     "end_time": "2021-04-29T09:48:59.684396Z",
     "start_time": "2021-04-29T09:48:59.662885Z"
    }
   },
   "outputs": [
    {
     "data": {
      "text/plain": [
       "1.7245253164556962"
      ]
     },
     "execution_count": 36,
     "metadata": {},
     "output_type": "execute_result"
    }
   ],
   "source": [
    "df['author'].value_counts().mean()"
   ]
  },
  {
   "cell_type": "markdown",
   "metadata": {},
   "source": [
    "We do have some authors that have posted hundreds of posts here, with an average author posting approximately twice. But nothing really obviously sticks out as concerning, at the moment, based on the author's handle alone -- that is, if we were looking for glaringly \"spammy\" signals with a naked eye (i.e. sans any spam detection machine like spam vs. ham). We'll check for the word 'repost' and 'reshare' as well; although we should have hopefully gotten rid of most of that content noise by stripping out the URLs from the text fields earlier.\n",
    "\n",
    "But how many unique authors are there?"
   ]
  },
  {
   "cell_type": "code",
   "execution_count": 37,
   "metadata": {
    "ExecuteTime": {
     "end_time": "2021-04-29T09:48:59.699932Z",
     "start_time": "2021-04-29T09:48:59.687384Z"
    },
    "scrolled": true
   },
   "outputs": [
    {
     "data": {
      "text/plain": [
       "12640"
      ]
     },
     "execution_count": 37,
     "metadata": {},
     "output_type": "execute_result"
    }
   ],
   "source": [
    "#unique authors\n",
    "#from Gwen's NLP lab review\n",
    "len(df['author'].unique())"
   ]
  },
  {
   "cell_type": "markdown",
   "metadata": {},
   "source": [
    "This checks out, given that we saw roughly 2 posts / author, above.\n",
    "\n",
    "What if authors post to more than one of the subreddits?"
   ]
  },
  {
   "cell_type": "code",
   "execution_count": 38,
   "metadata": {
    "ExecuteTime": {
     "end_time": "2021-04-29T09:48:59.707887Z",
     "start_time": "2021-04-29T09:48:59.704252Z"
    }
   },
   "outputs": [],
   "source": [
    "# I want to be able to do groupby's the old fashioned way! Thanks for the find to Riley Robertson!\n",
    "#! pip install -U pandasql"
   ]
  },
  {
   "cell_type": "code",
   "execution_count": 39,
   "metadata": {
    "ExecuteTime": {
     "end_time": "2021-04-29T09:49:00.116766Z",
     "start_time": "2021-04-29T09:48:59.711931Z"
    }
   },
   "outputs": [],
   "source": [
    "#docstring: https://pypi.org/project/pandasql/\n",
    "from pandasql import sqldf\n",
    "pysqldf = lambda q: sqldf(q, globals())\n",
    "\n",
    "def pysqldf(q):\n",
    "    #add this to your script if you get tired of calling locals()\n",
    "    return sqldf(q, globals())"
   ]
  },
  {
   "cell_type": "code",
   "execution_count": 40,
   "metadata": {
    "ExecuteTime": {
     "end_time": "2021-04-29T09:49:00.876165Z",
     "start_time": "2021-04-29T09:49:00.119052Z"
    }
   },
   "outputs": [
    {
     "name": "stdout",
     "output_type": "stream",
     "text": [
      "   posts     subreddit                author\n",
      "0      1  MovieDetails           Godzilla   \n",
      "1      1  MovieDetails                 BMO  \n",
      "2      1  MovieDetails    Hello my name is  \n",
      "3      1  MovieDetails            Leonardo  \n",
      "4      1  MovieDetails        Reginaphalange\n"
     ]
    }
   ],
   "source": [
    "#groupby the authors by subreddit -- check query construct is returning, what we want!\n",
    "#fix this w/ Gwen's query (posted during 4/19 BH), if time, or kill\n",
    "df = df\n",
    "\n",
    "\n",
    "q = \"\"\"\n",
    "    SELECT DISTINCT\n",
    "           count(selftext) as posts,\n",
    "           subreddit,\n",
    "           author\n",
    "           \n",
    "           FROM\n",
    "              df\n",
    "           GROUP BY\n",
    "              author\n",
    "           ORDER BY\n",
    "              subreddit;\n",
    "              \n",
    "\"\"\"\n",
    "print(pysqldf(q).head())"
   ]
  },
  {
   "cell_type": "markdown",
   "metadata": {},
   "source": [
    "Let's go ahead and see when most of our posts are from."
   ]
  },
  {
   "cell_type": "code",
   "execution_count": 41,
   "metadata": {
    "ExecuteTime": {
     "end_time": "2021-04-29T09:49:01.251982Z",
     "start_time": "2021-04-29T09:49:00.880429Z"
    }
   },
   "outputs": [
    {
     "data": {
      "image/png": "[encoded data removed]",
      "text/plain": [
       "<Figure size 1152x576 with 1 Axes>"
      ]
     },
     "metadata": {},
     "output_type": "display_data"
    }
   ],
   "source": [
    "#get post age\n",
    "plt.figure(figsize = (16, 8))\n",
    "plt.title('Age of post', size = 20);\n",
    "df['timestamp'].hist();\n",
    "plt.xticks(size=15)\n",
    "plt.yticks(size=15)\n",
    "plt.ylabel('Number of posts', size = 15);"
   ]
  },
  {
   "cell_type": "markdown",
   "metadata": {},
   "source": [
    "Our posts come from September 2020 to present. ( _Note: this may be a function of how far back we scraped and not in itself meaningful. This was an attempt to find possible seasonality, but there isn't really a pattern I can establish here, and it would be more meaningful to look at a year+ worth's._ )"
   ]
  },
  {
   "cell_type": "markdown",
   "metadata": {},
   "source": [
    "Finally, let's look at the distribution of original posts, compared to reposts."
   ]
  },
  {
   "cell_type": "code",
   "execution_count": 42,
   "metadata": {
    "ExecuteTime": {
     "end_time": "2021-04-29T09:49:01.275728Z",
     "start_time": "2021-04-29T09:49:01.261387Z"
    },
    "scrolled": true
   },
   "outputs": [
    {
     "data": {
      "text/plain": [
       "False    0.86\n",
       "True     0.14\n",
       "Name: is_self, dtype: float64"
      ]
     },
     "execution_count": 42,
     "metadata": {},
     "output_type": "execute_result"
    }
   ],
   "source": [
    "df['is_self'].value_counts(normalize=True).round(2)"
   ]
  },
  {
   "cell_type": "code",
   "execution_count": 43,
   "metadata": {
    "ExecuteTime": {
     "end_time": "2021-04-29T09:49:01.286354Z",
     "start_time": "2021-04-29T09:49:01.282602Z"
    }
   },
   "outputs": [],
   "source": [
    "#strip out repost / reshare stuff"
   ]
  },
  {
   "cell_type": "markdown",
   "metadata": {},
   "source": [
    "As we can see, most posts are actually reposts in our threads, and we anticipate that the overall quality of our posts might thus be on the lower side.\n",
    "\n",
    "So how well do most posts score?\n",
    "\n",
    "(More on this here: [What do Reddit post scores mean?](https://www.reddit.com/wiki/faq#wiki_how_is_a_submission.27s_score_determined.3F).)"
   ]
  },
  {
   "cell_type": "code",
   "execution_count": 44,
   "metadata": {
    "ExecuteTime": {
     "end_time": "2021-04-29T09:49:01.306871Z",
     "start_time": "2021-04-29T09:49:01.296130Z"
    }
   },
   "outputs": [
    {
     "data": {
      "text/plain": [
       "69.0378933847142"
      ]
     },
     "execution_count": 44,
     "metadata": {},
     "output_type": "execute_result"
    }
   ],
   "source": [
    "df['score'].mean()"
   ]
  },
  {
   "cell_type": "code",
   "execution_count": 45,
   "metadata": {
    "ExecuteTime": {
     "end_time": "2021-04-29T09:49:01.505894Z",
     "start_time": "2021-04-29T09:49:01.311523Z"
    },
    "scrolled": true
   },
   "outputs": [
    {
     "data": {
      "image/png": "[encoded data removed]",
      "text/plain": [
       "<Figure size 1152x576 with 1 Axes>"
      ]
     },
     "metadata": {},
     "output_type": "display_data"
    }
   ],
   "source": [
    "#dist of scores\n",
    "plt.figure(figsize = (16,8))\n",
    "df['score'].plot(kind = 'hist');\n",
    "plt.title('Distribution of post scores', size= 20)\n",
    "plt.yticks(size=15)\n",
    "plt.xticks([0, 3500, 7000, 10_000], size=15,rotation = 90)\n",
    "plt.ylabel('Number of posts', size = 15);"
   ]
  },
  {
   "cell_type": "markdown",
   "metadata": {},
   "source": [
    "Looks like this is about all we can do, before further transformation.\n",
    "\n",
    "- - -\n",
    "\n",
    "## Part III: NLP & feature eng"
   ]
  },
  {
   "cell_type": "code",
   "execution_count": 76,
   "metadata": {
    "ExecuteTime": {
     "end_time": "2021-04-29T21:06:04.340321Z",
     "start_time": "2021-04-29T21:06:04.315031Z"
    },
    "scrolled": true
   },
   "outputs": [
    {
     "data": {
      "text/plain": [
       "Index(['title', 'selftext', 'subreddit', 'created_utc', 'author', 'is_self',\n",
       "       'score', 'num_comments', 'timestamp', 'all_text', 'post_length'],\n",
       "      dtype='object')"
      ]
     },
     "execution_count": 76,
     "metadata": {},
     "output_type": "execute_result"
    }
   ],
   "source": [
    "df.columns"
   ]
  },
  {
   "cell_type": "markdown",
   "metadata": {},
   "source": [
    "### Modeling workflow\n",
    "\n",
    "Model workflow review ( _thanks, Heather R.!_ ):\n",
    "\n",
    "1. We will perform sentiment analysis on the whole dataset and get polarity scores\n",
    "2. We will train test split, using the sentiment scores (either filtered or compound), to set up the X matrix\n",
    "3. We will then fit-transform to X-train and transform on X-test and vectorize. Note 1: setting max features, stopwords can help control the size of the data here. Note 2: only pull out the X train, excluding sentiment scores (because only text data needs to be vectorized).\n",
    "4. Concatenate the vectorized output back w/ the original X features and sentiment scores."
   ]
  },
  {
   "cell_type": "markdown",
   "metadata": {},
   "source": [
    "### Sentiment analysis\n",
    "\n",
    "OK, so we want to geta bit of an idea about the kinds of things people post about.\n",
    "\n",
    "But what is the temperature of the room? And can we tell, from the heat -- or mediocreness -- of the conversation, where our posts might belong?\n",
    "\n",
    "Let's take a look, using sentiment analysis. We are going to use VADER, which, according to General Assembly lesson material, works particularly well on social media context; and, well, Reddit is _kind of_ like social media in many regards, not the least of which is commenting, threading, participating in a community, and overall, being a bit of a public market of the stream of all of our (topical) consciousness."
   ]
  },
  {
   "cell_type": "code",
   "execution_count": 65,
   "metadata": {
    "ExecuteTime": {
     "end_time": "2021-04-29T09:50:47.179162Z",
     "start_time": "2021-04-29T09:50:45.958250Z"
    }
   },
   "outputs": [
    {
     "name": "stdout",
     "output_type": "stream",
     "text": [
      "2615\n"
     ]
    },
    {
     "data": {
      "text/plain": [
       "['There s a  K  in the name which means its actually about a protector  a sentry    a hero  and not about a time of day like most people think  Dont feel ashamed if you didnt notice the  K  in the title  It was super subtle and tricky  The movie came out like 5 years ago and I just figured it out now  after painstaking research  Its named this way because Marky Mark was the last vestige of hope for a shitty movie series that for some reason  which scientists and movie critics still cant understand  people paid to see',\n",
       " 'I m from Russia  and we are encountered a weird situation with LOTR in IMAX remastered  Ads was telling us that it s gonna be Remastered 4K  And you know what we got  2001 version  looks like  because it s blurry in action scenes like CRAZY  and no comments from officials  Theatrical cut for sure  So the question is   what happening in your country  Again   we are suffering  quality in 2D regular cinema looks ok  but not sure that it s remastered  IMAX   truly  worst experience ever  Pain in eyes  vomiting feelings and so on  Help WB  universal Russia  theaters  imax are ignoring us  I have all the proofs and so on I m not alone   all socials in Russia are full with negative comments ',\n",
       " 'RIP little Fabio',\n",
       " 'In the movie Idiocracy  the doctor says  My first wife was  tarded  She s a pilot now    Later in the movie  you can see planes crashing in the background  Proving that her uncle was also a pilot ',\n",
       " 'In Bojack Horseman s1e1  Bojack says  Linus had a blanket and no one gave him shit for it   This tells us Peanuts exists in Bojacks universe  Given that humans and animals are all bipedal and civilized speak languages within the universe of Bojack Horseman  this means that Snoopie and Woodstock aren t just caricatures of regular house pets  but are rather regular people who happen to be mute and enjoy walking around in the nude ',\n",
       " 'Or even if it wasn t an after thought for the one that does',\n",
       " 'Is nobody else triggered by the continuity in these movies  I cannot be the only one who thinks this chronological order of these movies make no sense     How does a team go from winning the Junior Goodwill Games against Iceland  and go to highschool and suddenly suck balls    Also    Hello iceland s goodwill games captain  what are you doing in an American school with an american accent and playing goalee for the high school varsity team  Like WTF  And what is up with all the new kids also being clubbed into the  do not belong to eden hall   Was it because of their lower middle class upbringing  Apart from Adam  did the other new kids also suffer financial difficulties  How did they afford all this airtravel for games  Also didn t the new kids have super fancy stuff in D2  Like what was the point of pitting the ducks against the highschool varsity team after they played internationally  Isn t that a demotion  Like  you won against the best of the international players  but here  get your ass handed to you by kids you were supposed to be better than   Also  if the rest of team were also from lower income households  how come Kenan and his brother didn t get selected   Also how did Julie go from blocking ALL the shots  to not being able to block even one  D1 to D2 was good    or ok ish    But D3 was so stupid and made no logical sense in the progression of the ducks  Also wasn t Charlie  You can take my spot  Conway always the sweet kid who always has everyone s back  How does he suddenly become the terrible rebel who is fighting everyone  Like what  I get teenage angst and all that BS  But that is just such a departure from Spazway  How does he go from being a brat to coming back to school and have no freaking penalty for being an asshole  I m pretty sure that would have been grounds for suspension of his scholarship Like I went to a school with rich kids  and I wasn t homeless or anything but I didn t have the designer shoes and the fancy cellphones  But the bullies didn t try to get me kicked out because I was poor  They just treated me like crap for other reasons  and spoke badly about my  lacking  finances behind my back  Also  is this a day school or a boarding school   don t get it  I am so confused Don t even get me started on Portman  Like wtf was that ',\n",
       " 'Like a word for word copy   ',\n",
       " 'I was just rewatching Age of Ultron and caught this   It s amazing he thought this was so funny that it bore repeating in a completely different superhero film       Age of Ultron     Justice League  ',\n",
       " 'The budget for the film was set at 160 to 200 million dollars to help cover the costs of destroying skyscrapers in Hong Kong ',\n",
       " 'Of terminator 3',\n",
       " 'This is because he really does have second sight and knew that in the 1999 release of the movie  based on the book  he would be playing the part of the headless horseman and wanted to create some pre release advertising ',\n",
       " 'The ducks are neither mighty  nor     are they ducks    Also  they never say whether Gordon Bombay molested those kids or not  which strongly suggests to me that he did ',\n",
       " 'In Finding Nemo  the fish students get on a jellyfish s back like a bus  Not like they can t swim ',\n",
       " 'For only  25 85  you too can  cosplay  Jack Torrance ',\n",
       " 'Hello  to celebrate our 1 000th order we are giving away 15 Necklaces to the first 15 customers who add them to their carts We sell zodiac necklaces  in either silver or gold  feel free to comment or dm me if you have any questions Here you can check them out   zodilaces com  ',\n",
       " 'Rachel Marrons sister hires a hitman to kill her successful sister but the reasons why are vague and explained in just a few minutes and never spoken about again  Also the sister never shows any outward resentment for her sister in any way throughout the movie which leaves her character severely underdeveloped ',\n",
       " 'Rachel Marrons sister hires a hitman to kill her successful sister but the reasons why are vague and explained in just a few minutes and never spoken about again  Also the sister never shows any outward resentment for her sister in any way throughout the movie which leaves her character severely underdeveloped ',\n",
       " 'That s why the movie drags on  on after about the first third of the film   Every available person was tasked with  finding the missing pages of the script  in the Australian outback   Eventually everyone  including Agent Smith from the Matrix and Nicole Kidman gave up  and they just shouted  That s a wrap   Roll credits  check the gate        ',\n",
       " 'I made a video of the correct history behind Cromwell and the English Civil War  I invite you to watch and learn something today  I hope you the best in all your ventures  Be safe    Tim Talks   The History Behind Cromwell   YouTube  ',\n",
       " 'Had she not told them of the other eye while in the Indian temple   the movie would have ended Fade to credits ',\n",
       " 'We were watching Firefly Lane and my gf said   Kim s   Kate s mom looked like John Smith s wife from Man in the High Castle  Chelah Horsdal  I checked IMDB and she was right  That s when I saw Quinn Lord and realized why he looked familiar  He had played her son before ',\n",
       " 'Wonder what they re up too now   ',\n",
       " '   This I had already uploaded but I had to accommodate some things that I did not make clear ',\n",
       " 'Hey  can we talk about how there are no voice acting credits anywhere in Surfs Up   what s the deal  I scoured through the post credit sequence and found nothing  pls help',\n",
       " 'They did Avatar in 45 minutes start to finish ',\n",
       " ' ',\n",
       " ' ',\n",
       " 'Also  I don t own or know how to use photoshop ',\n",
       " 'The Rock has a biography that he isn t even in  It stars Nic Cage and Sean Connery ',\n",
       " 'In the movie  The Little Things   Dir  John Lee Hancock  2020  Denzel Washington spends a great deal of time sitting in chairs looking purposeful Several powerful chair sitting moments are in fact quite pivotal to the plot  Denzel Washington Sitting Purposefully In Chairs  ',\n",
       " 'In the movie Hancock  the main character Hancock sits down with Rays family for dinner after saving Ray s life when he was parked on the train  During dinner they have meatballs and he states   That s a good meatball boy  That meatball is being made from scratch by someone that has been around for thousands of years and traveled the world eating food  Can you imagine how good a meatball made by someone with that experience would be  That would be a damn good meatball',\n",
       " ' Processing img h5rpmmnf8uc61    ',\n",
       " ' Processing img 53ht4c4sixc61    ',\n",
       " 'In the edge of tomorrow  Tom Cruise wears a fake butt  ',\n",
       " 'I have no further clarification for this particular detail ',\n",
       " ' Processing img w74nug5yoqb61    ',\n",
       " '    Alejandro G  I  rritu     and his wife saw this film at the Cannes festival in 2000  20 years later he was till so moved by he describes how after viewing it they  walked in complete silence for almost 10 minutes  We suddenly stopped by the sea  Maria hugged me and started crying inconsolably on my shoulder  And I did the same on hers   In the Mood for Love  had left us speechless and deeply moved  It was that moment that reminded me why   I wanted to become filmmaker     visit our channel     here     ',\n",
       " 'Is posting actually shit',\n",
       " 'In The dark knight returns  a beam falls on Bruce Wayne when Wayne manor has been burning for about 5 minutes  This is to show what shitty builders the Waynes are  Processing img ov7dsntnnvb61    ',\n",
       " ' ',\n",
       " ' Processing img 8o4bls4dqoa61    ',\n",
       " 'Bonus  Nolan was inspired by Anna Kendrick and Pitch Perfect to create a film that was a palindrome   Source  ',\n",
       " 'What an Odd job ',\n",
       " 'Cheetahs almost always live in fear of actual apex predator  they are also emotionally unstable and require support dogs to live in zoos ',\n",
       " ' Processing img zppqfkect6961    ',\n",
       " ' Processing img 0d1prh9old961    ',\n",
       " ' You can watch the scene here   Processing img 4c33g00rkh961    ',\n",
       " ' Processing img z3ydmba90v861    ',\n",
       " 'It takes place during George Orwell s book and is about Wonder Woman toppling big brother',\n",
       " '   A New Voice in Cinema   Ken Ngwa    January 17  2021    By Vikki Tobak   Article Originally Appeared in  MassAppeal com     Today we profile a fr   new voice scorching through New York  Ken Ngwa is afilmmaker  screenwriter  and businessman  He is the creator  director  and  executive producer of  Nature Boy    A film about growing up as an African immigrant on   the southside of Chicago  As a Director he has slowly built animpressive body of work via social media  He s traveled the world   Israel France  Cameroon  Argentina  Nigeria and Brazil   and through it all  hehas cultivated a deep understanding of people  His instagram fe   is littered with heart warming images and provocativegraphics  I literally spent an hour on the page before I realized how deepdown the rabbit hole of the gram I had gone  This year  the Director hasembarked on his biggest adventure yet  Nature Boy  Nature Boy is the storyof an African boy from the suburbs of Chicago who goes joyriding with twoboys from inner city Chicago   The film is scheduled for release late 2021  Check out his page  it s international  crazy informative and packed with dopemusic  u kenngwa    u sunpeopleproductions  ',\n",
       " 'This is proof that Aunt Sarah hasn t had the Siamese very long at all  because   sometimes  they just do that   Siamese    cats    are    weird   ',\n",
       " 'All the souls were Blue  Green colored and not red  In additive light the primary colors are blue  green  and red   They Wanted to be sure there was no red in the before  or afterlife soul depiction either ',\n",
       " 'In the next movie  ex name  Taken 3  they would explain Hades and Ares were behind it all ',\n",
       " 'At the end of  The Force of Awakens  when Rey hands Luke his lightsaber the su prise on Mark Hamill s face is genuine and due to the face that his agent just told him that he was going to paid millions of dollars just for turning down and pealing back his hood ',\n",
       " 'At the end of   Casablanca  Humphrey  Bogart tells Ingrid Bergman  We ll always have Paris  because he claimed to have won the famous city in a hot dog eating contest but the joke s on her because he s only telling her this to get in her plants ',\n",
       " 'If you analyze the walking motion of the characters in Total Recall in the Mars scenes  you ll notice that the gravity actually matches Earth s  That s because they didn t have the budget to go to Mars and build a colony to film there ',\n",
       " ' Processing img apd2sfwbox461    ',\n",
       " 'Do you know where to get  Fusogenix DNA vaccine Online   from USA Legitly Oh My God we need this vaccines before our entire community get wipe outGod Forbit',\n",
       " 'This is a nod to the fact that the movie is NOT titled after the video game Vader Immortal  because of the fact that Darth Vader is not immortal in the movie  I also thought of this on the toilet so give gold now  Epic  ',\n",
       " 'I need to tell myself this every time  It s just too painful otherwise ',\n",
       " ' Processing img xz13y3c7k3361    ',\n",
       " 'Lion 0 is amazed by Costner  Tries to sell it ',\n",
       " '                          Nguyen Hai                                                     caption id  attachment  757  align  aligncenter  width  768                   caption  63                                                                                                                                                                                                                                                                                                                                                                                                                                                                                                                                                                                                                                                                                                                                                                                                                                                                                                                                                                                                                                                                                                              caption id  attachment  758  align  aligncenter  width  768                    caption                3                                                                                                                                                          2 3     5 7                                                3                                                                                                         5                                   caption id  attachment  759  align  aligncenter  width  768                             caption                  GACP WHO   100                                                                                              ',\n",
       " 'He just played along to get some air  his bosses were huge dicks ',\n",
       " 'Get the best way techniques and system to play your Tomb Raider right now before it gets too late       Hollywood does the best',\n",
       " 'am looking for a movie to watch on Netflix please do you know any interesting one that i can watch ',\n",
       " 'I kinda know that this completely doesn t fit here  but nonetheless since it s 2020  I think this movie which hasn t been released could slip into this category think of it as an adaptation theory pitch for the presentation movie of David Icke   The lion sleeps no more So yesteday I ve been watching some David Icke  and although i am feeling more like a reptillian than human  I can t really say that I feel as innocent as a gnostic human being that is  although what roman empire did to the library of alexandria is kinda un forgivable in a way  despite perhaps there was a reason for why they did   maybe they have seen the future timelines of people  either reptiles killing humans or the other way  and for the prosperity of the citizens of the earth   gt  human interbreeding involved for highest rate of prosperity in terms of genetical superiority for the galactic empire  gt  they choose to just scan the whole library of alexandria and sent it to the moon which is hollow  but didn t have to be that way from the beginning maybe it was just a little planetary rock  like there could be someone like Elon Musk in the past flying there  while at that time still being just a little rock and building the moon from within on the top of that rock  spreading multiple building bases all arrround it  taking 100s if not thousands of years theoretically  gt  what may one call 2000 years of stagnation   we started brutally developing since industrial revolution but meanwhile we were dummies kinda like we have been pumping sumthing gradually from the angels  or rather being fed  than given the knowledge  that could be ours and deserved   untill it started looking naturally for the people of our age  to assume that the moon is real natural phenomenon of the real universe tbh though I can t say I didn t frantically enjoy the almost 3 hours long speech from 2012  The lion sleeps no more So speaking of the Ideas that Icke was I have an Idea about a movie that would involve ',\n",
       " 'check out this video  Angela   though its a music but you will enjoy it  ',\n",
       " 'Hey guys am from Nigeria and am an artist ask me any question  Instagram  ',\n",
       " '  wakanda forever  ',\n",
       " ' In this  you see many celebrity  kickass facts   and you really enjoy this',\n",
       " '  View Poll  ',\n",
       " 'After Watching Magic Mike I noticed that this supposed magic trick documentary and magic tutorial movie called Magic Mike didn t contain a single magic trick or offer any advice on practicing it  It was about a bunch of men who took their clothes off  What is magic about that  I hardly think that any hardcore or even average magician would get any use outta that  I watched the entire movie hoping to see David Blaine or Chris Angel but they never showed up  The title is misleading to the true magicians and everyone else who thought they could learn new magic tricks ',\n",
       " ' This is is boys  This is what I was made to do  ',\n",
       " 'That mean eventually Marlin will become female and have sex with Nemo ',\n",
       " 'This is a meta reference to Spiderman s primary audience because only beta males look up to Spiderman ',\n",
       " 'The Spongebob Movie entered theatres and Adam Driver had his 21st birthday  No prizes for guessing how he spent it ',\n",
       " 'I know that rule number one of documentary film making is that the camera person is NOT to intervene in the subject matter of the documentary no matter what happens  But it still feels kind of wrong that they can see human victims being lured into the house and yet they do nothing to warn them   prevent them from entering I m not asking for them to be arrested or whatever  but shouldn t they be at least held accountable in some other way for the plight of those humans  View Poll  ',\n",
       " 'It s not like it advanced any themes  because there were none ',\n",
       " ' How did nobody see him there  I mean  Batman was off camera but everyone else should have seen him walk up next to the Joker  Did he just teleport there or something ',\n",
       " ' This is similar to how in Star Trek The Wrath of Kahn  Kahn is the main villain and Spock dies to save the Enterprise Which itself is a homage to how JJ Abram never comes up with an original storyline for the franchise he s writing a sequel for Pretty meta  huh ',\n",
       " 'John Beckwith  Jeremy Grey   their flaw is upfront and obvious  they dupe women into having sex with them Secretary Cleary   homophobe  unloving to his son  views him only in terms of political expediency  Todd Cleary   rapistSack Lodge   chauvinist  cheats on his girlfriend fiance  abusive  assaults people constantly Randolph   steals from the family by watching TV instead of doing his jobFather O Neil   reveals confessions The list goes on   Literally every male character in Wedding Crashers has some enormous flaw',\n",
       " 'At the end of Easy A there is a clip of Huck Finn and Jim where Huck offers to steer  but Jim doesn t let him This is a reference to Brandon running away with his gay black lover who won t let Brandon top   ',\n",
       " ' For   Breaking Bad   Member  Fan  I got 14 15 in this quiz try it and share your results   ',\n",
       " 'In Big Bang Theory  Leonard is led repeatedly to believe that him being a nerd might worsen his chances of getting into a relationship  This is a subtle hint that this is actually true and he really should get out more  develop a few different hobbies than comics and video games  and make some other friends ',\n",
       " 'He has  it s just hidden  His palate is also shown  and he has no uvula  ew   ',\n",
       " ' Sandler was reportedly very uncomfortable with this  ',\n",
       " 'He even sent pictures of woody to a buyer and was going to send him off to Japan ',\n",
       " 'What do you think of SpongeBob last movie   sponge on the run  ',\n",
       " 'Despite being famously known for his role as Peter Parker Spider Man in the MCU  Tom Holland also directed the classic Horror movies  Child s Play   1988  and  Fright Night   1985  Oh wait  that s the  other  Tom Holland   ',\n",
       " ' ',\n",
       " ' ',\n",
       " ' double accurate because it is a hospital  ',\n",
       " ' The joker  Not cracking jokes  ',\n",
       " ' Ridiculous  ',\n",
       " 'Forgive me for making notice a peen that is almost Trump like  I had to pause the movie  during a moment without tiny Khazack peen and fat little man   pass the curse to the internet  go outside to shake the images eyeballs  and get some more beer to memove thsi mermery  Shart  da slerms have sterbled   ',\n",
       " 'Judge Hoffman and Darth Vader do have a lot in common ',\n",
       " 'The title gives away the surprise that Batman does in fact returns for the sequel',\n",
       " '    foreshadowing how this shitty movie would alienate the audience  leading to an entire generation missing out on Superman']"
      ]
     },
     "execution_count": 65,
     "metadata": {},
     "output_type": "execute_result"
    }
   ],
   "source": [
    "#First, convert to a list of strings; full reference in this entire section to the sentiment analysis lesson from Heather Robbins\n",
    "corpus = list(df['selftext'])\n",
    "while(\"\" in corpus) : corpus.remove(\"\") #from: https://www.geeksforgeeks.org/python-remove-empty-strings-from-list-of-strings/\n",
    "print(len(corpus))\n",
    "corpus[:100]"
   ]
  },
  {
   "cell_type": "markdown",
   "metadata": {},
   "source": [
    "Looks like we generated a corpus of just over 2500 documents.\n",
    "\n",
    "We'll instantiate our VADER analyzer and check it out by producing some polarity scores on a post."
   ]
  },
  {
   "cell_type": "code",
   "execution_count": 66,
   "metadata": {
    "ExecuteTime": {
     "end_time": "2021-04-29T09:50:47.412187Z",
     "start_time": "2021-04-29T09:50:47.218703Z"
    }
   },
   "outputs": [
    {
     "name": "stdout",
     "output_type": "stream",
     "text": [
      "{'neg': 0.0, 'neu': 0.894, 'pos': 0.106, 'compound': 0.3612}\n",
      "Had she not told them of the other eye while in the Indian temple   the movie would have ended Fade to credits \n"
     ]
    }
   ],
   "source": [
    "#sentiment analysis\n",
    "#instantiate VADER\n",
    "vader = SentimentIntensityAnalyzer()\n",
    "\n",
    "#Get polarity scores for a random post for a quick check\n",
    "print(vader.polarity_scores(corpus[20]))\n",
    "\n",
    "print(corpus[20])"
   ]
  },
  {
   "cell_type": "code",
   "execution_count": 67,
   "metadata": {
    "ExecuteTime": {
     "end_time": "2021-04-29T09:50:47.427841Z",
     "start_time": "2021-04-29T09:50:47.416917Z"
    },
    "scrolled": true
   },
   "outputs": [
    {
     "data": {
      "text/plain": [
       "list"
      ]
     },
     "execution_count": 67,
     "metadata": {},
     "output_type": "execute_result"
    }
   ],
   "source": [
    "type(corpus)"
   ]
  },
  {
   "cell_type": "markdown",
   "metadata": {},
   "source": [
    "Now let's do this for all of our data."
   ]
  },
  {
   "cell_type": "code",
   "execution_count": 68,
   "metadata": {
    "ExecuteTime": {
     "end_time": "2021-04-29T09:50:55.259726Z",
     "start_time": "2021-04-29T09:50:47.435433Z"
    }
   },
   "outputs": [
    {
     "data": {
      "text/html": [
       "<div>\n",
       "<style scoped>\n",
       "    .dataframe tbody tr th:only-of-type {\n",
       "        vertical-align: middle;\n",
       "    }\n",
       "\n",
       "    .dataframe tbody tr th {\n",
       "        vertical-align: top;\n",
       "    }\n",
       "\n",
       "    .dataframe thead th {\n",
       "        text-align: right;\n",
       "    }\n",
       "</style>\n",
       "<table border=\"1\" class=\"dataframe\">\n",
       "  <thead>\n",
       "    <tr style=\"text-align: right;\">\n",
       "      <th></th>\n",
       "      <th>neg</th>\n",
       "      <th>neu</th>\n",
       "      <th>pos</th>\n",
       "      <th>compound</th>\n",
       "      <th>selftext</th>\n",
       "    </tr>\n",
       "  </thead>\n",
       "  <tbody>\n",
       "    <tr>\n",
       "      <th>0</th>\n",
       "      <td>0.071</td>\n",
       "      <td>0.757</td>\n",
       "      <td>0.172</td>\n",
       "      <td>0.8899</td>\n",
       "      <td>There s a  K  in the name which means its actually about a protector  a sentry    a hero  and not about a time of day like most people think  Dont feel ashamed if you didnt notice the  K  in the t...</td>\n",
       "    </tr>\n",
       "    <tr>\n",
       "      <th>1</th>\n",
       "      <td>0.195</td>\n",
       "      <td>0.669</td>\n",
       "      <td>0.137</td>\n",
       "      <td>-0.8588</td>\n",
       "      <td>I m from Russia  and we are encountered a weird situation with LOTR in IMAX remastered  Ads was telling us that it s gonna be Remastered 4K  And you know what we got  2001 version  looks like  bec...</td>\n",
       "    </tr>\n",
       "    <tr>\n",
       "      <th>2</th>\n",
       "      <td>0.000</td>\n",
       "      <td>1.000</td>\n",
       "      <td>0.000</td>\n",
       "      <td>0.0000</td>\n",
       "      <td>RIP little Fabio</td>\n",
       "    </tr>\n",
       "    <tr>\n",
       "      <th>3</th>\n",
       "      <td>0.000</td>\n",
       "      <td>1.000</td>\n",
       "      <td>0.000</td>\n",
       "      <td>0.0000</td>\n",
       "      <td>In the movie Idiocracy  the doctor says  My first wife was  tarded  She s a pilot now    Later in the movie  you can see planes crashing in the background  Proving that her uncle was also a pilot</td>\n",
       "    </tr>\n",
       "    <tr>\n",
       "      <th>4</th>\n",
       "      <td>0.050</td>\n",
       "      <td>0.895</td>\n",
       "      <td>0.055</td>\n",
       "      <td>0.3400</td>\n",
       "      <td>In Bojack Horseman s1e1  Bojack says  Linus had a blanket and no one gave him shit for it   This tells us Peanuts exists in Bojacks universe  Given that humans and animals are all bipedal and civi...</td>\n",
       "    </tr>\n",
       "  </tbody>\n",
       "</table>\n",
       "</div>"
      ],
      "text/plain": [
       "     neg    neu    pos  compound  \\\n",
       "0  0.071  0.757  0.172    0.8899   \n",
       "1  0.195  0.669  0.137   -0.8588   \n",
       "2  0.000  1.000  0.000    0.0000   \n",
       "3  0.000  1.000  0.000    0.0000   \n",
       "4  0.050  0.895  0.055    0.3400   \n",
       "\n",
       "                                                                                                                                                                                                  selftext  \n",
       "0  There s a  K  in the name which means its actually about a protector  a sentry    a hero  and not about a time of day like most people think  Dont feel ashamed if you didnt notice the  K  in the t...  \n",
       "1  I m from Russia  and we are encountered a weird situation with LOTR in IMAX remastered  Ads was telling us that it s gonna be Remastered 4K  And you know what we got  2001 version  looks like  bec...  \n",
       "2                                                                                                                                                                                         RIP little Fabio  \n",
       "3     In the movie Idiocracy  the doctor says  My first wife was  tarded  She s a pilot now    Later in the movie  you can see planes crashing in the background  Proving that her uncle was also a pilot   \n",
       "4  In Bojack Horseman s1e1  Bojack says  Linus had a blanket and no one gave him shit for it   This tells us Peanuts exists in Bojacks universe  Given that humans and animals are all bipedal and civi...  "
      ]
     },
     "execution_count": 68,
     "metadata": {},
     "output_type": "execute_result"
    }
   ],
   "source": [
    "sentiment = []    \n",
    "\n",
    "for post in corpus:\n",
    "    scores = vader.polarity_scores(post)\n",
    "    scores['selftext'] = post\n",
    "    sentiment.append(scores)\n",
    "\n",
    "sentiment_df = pd.DataFrame(sentiment)\n",
    "sentiment_df.head()"
   ]
  },
  {
   "cell_type": "code",
   "execution_count": 69,
   "metadata": {
    "ExecuteTime": {
     "end_time": "2021-04-29T09:50:55.271588Z",
     "start_time": "2021-04-29T09:50:55.262988Z"
    }
   },
   "outputs": [
    {
     "data": {
      "text/plain": [
       "(2615, 5)"
      ]
     },
     "execution_count": 69,
     "metadata": {},
     "output_type": "execute_result"
    }
   ],
   "source": [
    "sentiment_df.shape"
   ]
  },
  {
   "cell_type": "code",
   "execution_count": 77,
   "metadata": {
    "ExecuteTime": {
     "end_time": "2021-04-29T22:22:18.350977Z",
     "start_time": "2021-04-29T22:22:18.337445Z"
    }
   },
   "outputs": [],
   "source": [
    "#set target to equal to our subreddit - bin. / conversion to num not req.\n",
    "sentiment_df['target'] =df['subreddit']\n",
    "sentiment_df.head()"
   ]
  },
  {
   "cell_type": "code",
   "execution_count": null,
   "metadata": {},
   "outputs": [],
   "source": [
    "#Plot the average positivity, negativity and compound scores for target\n",
    "df.groupby('target').mean()[['pos', 'neg', 'compound']].plot(kind='barh')\n",
    "plt.title('Average Positive, Negative & Compound Scores');"
   ]
  },
  {
   "cell_type": "code",
   "execution_count": 70,
   "metadata": {
    "ExecuteTime": {
     "end_time": "2021-04-29T09:50:55.280467Z",
     "start_time": "2021-04-29T09:50:55.275139Z"
    }
   },
   "outputs": [],
   "source": [
    "#pair-plot relationships btn. top words / sentiment and word length etc.\n",
    "#Some inspiration from Ben's work\n"
   ]
  },
  {
   "cell_type": "markdown",
   "metadata": {},
   "source": [
    "### Vectorize text in prep for analysis\n",
    "\n",
    "We will need to vectorize our words, for our models to process them. \n",
    "We will vectorize self-text, as well as, potentially, title and / or our joint text column to train on."
   ]
  },
  {
   "cell_type": "code",
   "execution_count": 47,
   "metadata": {
    "ExecuteTime": {
     "end_time": "2021-04-29T09:49:01.529154Z",
     "start_time": "2021-04-29T09:49:01.522202Z"
    }
   },
   "outputs": [],
   "source": [
    "#initialize CV transformer\n",
    "cvec = CountVectorizer(stop_words='english')"
   ]
  },
  {
   "cell_type": "markdown",
   "metadata": {},
   "source": [
    "### Word analysis"
   ]
  },
  {
   "cell_type": "code",
   "execution_count": 48,
   "metadata": {
    "ExecuteTime": {
     "end_time": "2021-04-29T09:49:02.024702Z",
     "start_time": "2021-04-29T09:49:01.534074Z"
    }
   },
   "outputs": [],
   "source": [
    "word_counts = cvec.fit_transform(df['selftext'])"
   ]
  },
  {
   "cell_type": "code",
   "execution_count": 75,
   "metadata": {
    "ExecuteTime": {
     "end_time": "2021-04-29T20:48:38.727378Z",
     "start_time": "2021-04-29T20:48:38.702897Z"
    }
   },
   "outputs": [
    {
     "data": {
      "text/plain": [
       "scipy.sparse.csr.csr_matrix"
      ]
     },
     "execution_count": 75,
     "metadata": {},
     "output_type": "execute_result"
    }
   ],
   "source": [
    "type(word_counts)"
   ]
  },
  {
   "cell_type": "code",
   "execution_count": 49,
   "metadata": {
    "ExecuteTime": {
     "end_time": "2021-04-29T09:49:02.193731Z",
     "start_time": "2021-04-29T09:49:02.026901Z"
    }
   },
   "outputs": [],
   "source": [
    "counts = pd.DataFrame(word_counts.todense(), columns=cvec.get_feature_names())"
   ]
  },
  {
   "cell_type": "markdown",
   "metadata": {},
   "source": [
    "How many words do we have in the post column?"
   ]
  },
  {
   "cell_type": "code",
   "execution_count": 50,
   "metadata": {
    "ExecuteTime": {
     "end_time": "2021-04-29T09:49:05.754799Z",
     "start_time": "2021-04-29T09:49:02.195921Z"
    }
   },
   "outputs": [
    {
     "data": {
      "text/plain": [
       "170157"
      ]
     },
     "execution_count": 50,
     "metadata": {},
     "output_type": "execute_result"
    }
   ],
   "source": [
    "counts.sum().sum()\n",
    "#note: identical calc to doing this as `word_counts.sum()`"
   ]
  },
  {
   "cell_type": "markdown",
   "metadata": {},
   "source": [
    "Let's create a new column called \"post length\" that calculates the words contained in a post's body."
   ]
  },
  {
   "cell_type": "code",
   "execution_count": 51,
   "metadata": {
    "ExecuteTime": {
     "end_time": "2021-04-29T09:49:05.804721Z",
     "start_time": "2021-04-29T09:49:05.757962Z"
    }
   },
   "outputs": [],
   "source": [
    "#get length of posts\n",
    "df['post_length'] = df['selftext'].map(lambda x: len(x.split()))"
   ]
  },
  {
   "cell_type": "code",
   "execution_count": 52,
   "metadata": {
    "ExecuteTime": {
     "end_time": "2021-04-29T09:49:05.847747Z",
     "start_time": "2021-04-29T09:49:05.807106Z"
    }
   },
   "outputs": [
    {
     "data": {
      "text/html": [
       "<div>\n",
       "<style scoped>\n",
       "    .dataframe tbody tr th:only-of-type {\n",
       "        vertical-align: middle;\n",
       "    }\n",
       "\n",
       "    .dataframe tbody tr th {\n",
       "        vertical-align: top;\n",
       "    }\n",
       "\n",
       "    .dataframe thead th {\n",
       "        text-align: right;\n",
       "    }\n",
       "</style>\n",
       "<table border=\"1\" class=\"dataframe\">\n",
       "  <thead>\n",
       "    <tr style=\"text-align: right;\">\n",
       "      <th></th>\n",
       "      <th>title</th>\n",
       "      <th>selftext</th>\n",
       "      <th>subreddit</th>\n",
       "      <th>created_utc</th>\n",
       "      <th>author</th>\n",
       "      <th>is_self</th>\n",
       "      <th>score</th>\n",
       "      <th>num_comments</th>\n",
       "      <th>timestamp</th>\n",
       "      <th>all_text</th>\n",
       "      <th>post_length</th>\n",
       "    </tr>\n",
       "  </thead>\n",
       "  <tbody>\n",
       "    <tr>\n",
       "      <th>7446</th>\n",
       "      <td>I really don t like the live action Mulan</td>\n",
       "      <td>tl dr  The new Mulan sucksI m Chinese  so I was excited as hell that we were getting a new  grittier Mulan that seemed to pay more homage to the original legend  and was more respectful to Chinese...</td>\n",
       "      <td>movies</td>\n",
       "      <td>1970-01-01 00:00:01.604190060</td>\n",
       "      <td>Puff the penguin</td>\n",
       "      <td>True</td>\n",
       "      <td>1</td>\n",
       "      <td>14</td>\n",
       "      <td>2020-10-31</td>\n",
       "      <td>I really don t like the live action Mulan. tl dr  The new Mulan sucksI m Chinese  so I was excited as hell that we were getting a new  grittier Mulan that seemed to pay more homage to the original...</td>\n",
       "      <td>430</td>\n",
       "    </tr>\n",
       "    <tr>\n",
       "      <th>6176</th>\n",
       "      <td>In the movie  The Founder   2016   Ray Kroc says every McDonalds burger must have 3 pickles  Well  today my McDonalds burgers both only had 2 pickles  Is this movie even accurate  I am outraged an...</td>\n",
       "      <td>tl dr   outraged  Michael Keaton must respond</td>\n",
       "      <td>MovieDetails</td>\n",
       "      <td>1970-01-01 00:00:01.604262582</td>\n",
       "      <td>fatal music</td>\n",
       "      <td>True</td>\n",
       "      <td>1</td>\n",
       "      <td>2</td>\n",
       "      <td>2020-11-01</td>\n",
       "      <td>In the movie  The Founder   2016   Ray Kroc says every McDonalds burger must have 3 pickles  Well  today my McDonalds burgers both only had 2 pickles  Is this movie even accurate  I am outraged an...</td>\n",
       "      <td>7</td>\n",
       "    </tr>\n",
       "    <tr>\n",
       "      <th>324</th>\n",
       "      <td>Help find a puppet movie</td>\n",
       "      <td>this was a movie that took place in a steampunk asian setting  the characters were glove puppets like thunderbolt fantasy or pili  and there was a robot  the movie tittle is also the name of the r...</td>\n",
       "      <td>movies</td>\n",
       "      <td>1970-01-01 00:00:01.618700964</td>\n",
       "      <td>hellowhatareyou</td>\n",
       "      <td>True</td>\n",
       "      <td>1</td>\n",
       "      <td>4</td>\n",
       "      <td>2021-04-17</td>\n",
       "      <td>Help find a puppet movie. this was a movie that took place in a steampunk asian setting  the characters were glove puppets like thunderbolt fantasy or pili  and there was a robot  the movie tittle...</td>\n",
       "      <td>111</td>\n",
       "    </tr>\n",
       "    <tr>\n",
       "      <th>1644</th>\n",
       "      <td>the flying fish scene in Life of Pi is the best use of  3D  i ve seen</td>\n",
       "      <td>this is the scene    i saw this movie back in 2012 in 3D and it was so good  probably the best movie i ve seen in 3D  in rewatching it  i m still so impressed by the feel of the flying fish scene ...</td>\n",
       "      <td>movies</td>\n",
       "      <td>1970-01-01 00:00:01.615421072</td>\n",
       "      <td>seethar</td>\n",
       "      <td>True</td>\n",
       "      <td>1</td>\n",
       "      <td>16</td>\n",
       "      <td>2021-03-10</td>\n",
       "      <td>the flying fish scene in Life of Pi is the best use of  3D  i ve seen. this is the scene    i saw this movie back in 2012 in 3D and it was so good  probably the best movie i ve seen in 3D  in rewa...</td>\n",
       "      <td>130</td>\n",
       "    </tr>\n",
       "    <tr>\n",
       "      <th>2050</th>\n",
       "      <td>District 9 is still one of my fav sci  fi</td>\n",
       "      <td>this is a random post but I just rewatched this again on crackle and I love this movie man  I m not huge into scifi like some but I like it enough if it s compelling material wether book  media  s...</td>\n",
       "      <td>movies</td>\n",
       "      <td>1970-01-01 00:00:01.614730206</td>\n",
       "      <td>Consistent Ad 9153</td>\n",
       "      <td>True</td>\n",
       "      <td>1</td>\n",
       "      <td>257</td>\n",
       "      <td>2021-03-02</td>\n",
       "      <td>District 9 is still one of my fav sci  fi. this is a random post but I just rewatched this again on crackle and I love this movie man  I m not huge into scifi like some but I like it enough if it ...</td>\n",
       "      <td>237</td>\n",
       "    </tr>\n",
       "  </tbody>\n",
       "</table>\n",
       "</div>"
      ],
      "text/plain": [
       "                                                                                                                                                                                                        title  \\\n",
       "7446                                                                                                                                                                I really don t like the live action Mulan   \n",
       "6176  In the movie  The Founder   2016   Ray Kroc says every McDonalds burger must have 3 pickles  Well  today my McDonalds burgers both only had 2 pickles  Is this movie even accurate  I am outraged an...   \n",
       "324                                                                                                                                                                                  Help find a puppet movie   \n",
       "1644                                                                                                                                    the flying fish scene in Life of Pi is the best use of  3D  i ve seen   \n",
       "2050                                                                                                                                                                District 9 is still one of my fav sci  fi   \n",
       "\n",
       "                                                                                                                                                                                                     selftext  \\\n",
       "7446  tl dr  The new Mulan sucksI m Chinese  so I was excited as hell that we were getting a new  grittier Mulan that seemed to pay more homage to the original legend  and was more respectful to Chinese...   \n",
       "6176                                                                                                                                                           tl dr   outraged  Michael Keaton must respond    \n",
       "324   this was a movie that took place in a steampunk asian setting  the characters were glove puppets like thunderbolt fantasy or pili  and there was a robot  the movie tittle is also the name of the r...   \n",
       "1644  this is the scene    i saw this movie back in 2012 in 3D and it was so good  probably the best movie i ve seen in 3D  in rewatching it  i m still so impressed by the feel of the flying fish scene ...   \n",
       "2050  this is a random post but I just rewatched this again on crackle and I love this movie man  I m not huge into scifi like some but I like it enough if it s compelling material wether book  media  s...   \n",
       "\n",
       "         subreddit                   created_utc              author  is_self  \\\n",
       "7446        movies 1970-01-01 00:00:01.604190060    Puff the penguin     True   \n",
       "6176  MovieDetails 1970-01-01 00:00:01.604262582         fatal music     True   \n",
       "324         movies 1970-01-01 00:00:01.618700964     hellowhatareyou     True   \n",
       "1644        movies 1970-01-01 00:00:01.615421072             seethar     True   \n",
       "2050        movies 1970-01-01 00:00:01.614730206  Consistent Ad 9153     True   \n",
       "\n",
       "      score  num_comments  timestamp  \\\n",
       "7446      1            14 2020-10-31   \n",
       "6176      1             2 2020-11-01   \n",
       "324       1             4 2021-04-17   \n",
       "1644      1            16 2021-03-10   \n",
       "2050      1           257 2021-03-02   \n",
       "\n",
       "                                                                                                                                                                                                     all_text  \\\n",
       "7446  I really don t like the live action Mulan. tl dr  The new Mulan sucksI m Chinese  so I was excited as hell that we were getting a new  grittier Mulan that seemed to pay more homage to the original...   \n",
       "6176  In the movie  The Founder   2016   Ray Kroc says every McDonalds burger must have 3 pickles  Well  today my McDonalds burgers both only had 2 pickles  Is this movie even accurate  I am outraged an...   \n",
       "324   Help find a puppet movie. this was a movie that took place in a steampunk asian setting  the characters were glove puppets like thunderbolt fantasy or pili  and there was a robot  the movie tittle...   \n",
       "1644  the flying fish scene in Life of Pi is the best use of  3D  i ve seen. this is the scene    i saw this movie back in 2012 in 3D and it was so good  probably the best movie i ve seen in 3D  in rewa...   \n",
       "2050  District 9 is still one of my fav sci  fi. this is a random post but I just rewatched this again on crackle and I love this movie man  I m not huge into scifi like some but I like it enough if it ...   \n",
       "\n",
       "      post_length  \n",
       "7446          430  \n",
       "6176            7  \n",
       "324           111  \n",
       "1644          130  \n",
       "2050          237  "
      ]
     },
     "execution_count": 52,
     "metadata": {},
     "output_type": "execute_result"
    }
   ],
   "source": [
    "#take a peek\n",
    "df.sort_values(by = 'selftext', ascending = False).head()"
   ]
  },
  {
   "cell_type": "markdown",
   "metadata": {},
   "source": [
    "What is the most typical post length?"
   ]
  },
  {
   "cell_type": "code",
   "execution_count": 53,
   "metadata": {
    "ExecuteTime": {
     "end_time": "2021-04-29T09:49:05.861620Z",
     "start_time": "2021-04-29T09:49:05.849572Z"
    }
   },
   "outputs": [
    {
     "data": {
      "text/plain": [
       "1"
      ]
     },
     "execution_count": 53,
     "metadata": {},
     "output_type": "execute_result"
    }
   ],
   "source": [
    "#check for average post density -- length of posts\n",
    "len(df['selftext'].mode())"
   ]
  },
  {
   "cell_type": "markdown",
   "metadata": {},
   "source": [
    "Let's visualize post length, by subReddit."
   ]
  },
  {
   "cell_type": "code",
   "execution_count": 54,
   "metadata": {
    "ExecuteTime": {
     "end_time": "2021-04-29T09:49:06.235318Z",
     "start_time": "2021-04-29T09:49:05.863679Z"
    }
   },
   "outputs": [
    {
     "data": {
      "image/png": "[encoded data removed]",
      "text/plain": [
       "<Figure size 432x288 with 1 Axes>"
      ]
     },
     "metadata": {},
     "output_type": "display_data"
    }
   ],
   "source": [
    "#inspiration from Gwen's NLP lab review\n",
    "\n",
    "df.groupby('subreddit')[['post_length']].mean().plot(kind='barh');\n",
    "plt.xticks(size=13);\n",
    "plt.yticks(size=13, rotation = 70, color = 'red'); #rotation added in order to fit labels\n",
    "plt.ylabel('Subreddit', size=15)\n",
    "plt.xlabel('Post length (in words)', size=15);\n",
    "plt.title('Post length by Subreddit', size=15);\n",
    "plt.savefig('../images/post_length.png')"
   ]
  },
  {
   "cell_type": "markdown",
   "metadata": {},
   "source": [
    "It seems that post length varies significantly by the type of subreddit, whoa! Is this a dead giveaway of how our models might perform? (Insert suspenseful music here.)\n",
    "\n",
    "Suffice it to say, I see promise of a signal there!"
   ]
  },
  {
   "cell_type": "code",
   "execution_count": 55,
   "metadata": {
    "ExecuteTime": {
     "end_time": "2021-04-29T09:49:06.242707Z",
     "start_time": "2021-04-29T09:49:06.238281Z"
    }
   },
   "outputs": [],
   "source": [
    "#post length vs. scores\n",
    "#group by post length being above or below the mean, and look at whether the avg. post score changes"
   ]
  },
  {
   "cell_type": "markdown",
   "metadata": {},
   "source": [
    "What are the most common words?"
   ]
  },
  {
   "cell_type": "code",
   "execution_count": 56,
   "metadata": {
    "ExecuteTime": {
     "end_time": "2021-04-29T09:49:06.255912Z",
     "start_time": "2021-04-29T09:49:06.247098Z"
    }
   },
   "outputs": [
    {
     "data": {
      "text/plain": [
       "pandas.core.frame.DataFrame"
      ]
     },
     "execution_count": 56,
     "metadata": {},
     "output_type": "execute_result"
    }
   ],
   "source": [
    "type(counts)"
   ]
  },
  {
   "cell_type": "code",
   "execution_count": 57,
   "metadata": {
    "ExecuteTime": {
     "end_time": "2021-04-29T09:49:11.089637Z",
     "start_time": "2021-04-29T09:49:06.260106Z"
    }
   },
   "outputs": [
    {
     "data": {
      "text/plain": [
       "movie        3015\n",
       "like         1771\n",
       "just         1718\n",
       "film         1540\n",
       "movies       1501\n",
       "think         979\n",
       "really        896\n",
       "time          877\n",
       "know          773\n",
       "good          746\n",
       "ve            728\n",
       "don           691\n",
       "people        666\n",
       "films         618\n",
       "watch         601\n",
       "scene         549\n",
       "great         518\n",
       "seen          503\n",
       "story         487\n",
       "way           481\n",
       "love          480\n",
       "watching      433\n",
       "make          414\n",
       "did           411\n",
       "character     401\n",
       "best          400\n",
       "remember      397\n",
       "watched       391\n",
       "man           381\n",
       "end           370\n",
       "dtype: int64"
      ]
     },
     "execution_count": 57,
     "metadata": {},
     "output_type": "execute_result"
    }
   ],
   "source": [
    "#word freq analysis - Gwen's lab review code\n",
    "counts.sum().sort_values(ascending=False).head(30).T"
   ]
  },
  {
   "cell_type": "code",
   "execution_count": 58,
   "metadata": {
    "ExecuteTime": {
     "end_time": "2021-04-29T09:49:14.037929Z",
     "start_time": "2021-04-29T09:49:11.104520Z"
    }
   },
   "outputs": [
    {
     "data": {
      "image/png": "[encoded data removed]",
      "text/plain": [
       "<Figure size 720x576 with 1 Axes>"
      ]
     },
     "metadata": {},
     "output_type": "display_data"
    }
   ],
   "source": [
    "#Gwen's lab review code\n",
    "plt.figure(figsize=(10,8))\n",
    "counts.sum().sort_values(ascending=False).head(30)[1:].plot(kind='barh');\n",
    "plt.title('Most frequently occurring words in movie subReddits', size = 15);\n",
    "plt.xlabel('Word count', size =13);\n",
    "plt.yticks(size=13);\n",
    "plt.ylabel('Word', size=13);\n",
    "plt.savefig('../images/word_freq.png')"
   ]
  },
  {
   "cell_type": "markdown",
   "metadata": {},
   "source": [
    "Ok, so words like 'watch', 'scene' and 'films' come up a lot. This is not particularly exciting and would be expected for a movie themed post. Let's look at word pairs."
   ]
  },
  {
   "cell_type": "code",
   "execution_count": 59,
   "metadata": {
    "ExecuteTime": {
     "end_time": "2021-04-29T09:49:16.261682Z",
     "start_time": "2021-04-29T09:49:14.045489Z"
    }
   },
   "outputs": [],
   "source": [
    "#look at bi-grams / tri-grams\n",
    "#consult Gwen's NLP lab review notebook (fb status analysis) for this!\n",
    "cvec2 = CountVectorizer(stop_words='english', ngram_range=(1,2))\n",
    "ngram = cvec2.fit_transform(df['selftext'])\n",
    "ngrams = pd.DataFrame(ngram.todense(), columns = cvec2.get_feature_names())"
   ]
  },
  {
   "cell_type": "code",
   "execution_count": 60,
   "metadata": {
    "ExecuteTime": {
     "end_time": "2021-04-29T09:49:16.291387Z",
     "start_time": "2021-04-29T09:49:16.271137Z"
    }
   },
   "outputs": [
    {
     "data": {
      "text/plain": [
       "pandas.core.frame.DataFrame"
      ]
     },
     "execution_count": 60,
     "metadata": {},
     "output_type": "execute_result"
    }
   ],
   "source": [
    "type(ngrams)"
   ]
  },
  {
   "cell_type": "code",
   "execution_count": 61,
   "metadata": {
    "ExecuteTime": {
     "end_time": "2021-04-29T09:49:16.335291Z",
     "start_time": "2021-04-29T09:49:16.296719Z"
    }
   },
   "outputs": [
    {
     "data": {
      "text/plain": [
       "Index(['00', '00 1952', '00 2010', '00 alias', '00 bachelor', '00 beneath',\n",
       "       '00 big', '00 black', '00 blanche', '00 bride',\n",
       "       ...\n",
       "       'zuckerberg played', 'zuckerberg saverin', 'zuko', 'zuko says',\n",
       "       'zulawski', 'zulawski unfinished', 'zvyaginstev',\n",
       "       'zvyaginstev excision', 'zyl', 'zyl checking'],\n",
       "      dtype='object', length=153686)"
      ]
     },
     "execution_count": 61,
     "metadata": {},
     "output_type": "execute_result"
    }
   ],
   "source": [
    "ngrams.columns"
   ]
  },
  {
   "cell_type": "markdown",
   "metadata": {},
   "source": [
    "These are much more interesting and telling previews -- we can start to piece some context together about what people are talking about! All we are looking at, though, is the start and end of our (not so little) output array. How big is this in terms of features?"
   ]
  },
  {
   "cell_type": "code",
   "execution_count": 62,
   "metadata": {
    "ExecuteTime": {
     "end_time": "2021-04-29T09:49:16.353390Z",
     "start_time": "2021-04-29T09:49:16.339815Z"
    },
    "scrolled": true
   },
   "outputs": [
    {
     "data": {
      "text/plain": [
       "(21798, 153686)"
      ]
     },
     "execution_count": 62,
     "metadata": {},
     "output_type": "execute_result"
    }
   ],
   "source": [
    "ngrams.shape"
   ]
  },
  {
   "cell_type": "markdown",
   "metadata": {},
   "source": [
    "Whoa! 150K features! This will take a minute!"
   ]
  },
  {
   "cell_type": "code",
   "execution_count": 63,
   "metadata": {
    "ExecuteTime": {
     "end_time": "2021-04-29T09:49:16.500805Z",
     "start_time": "2021-04-29T09:49:16.357666Z"
    }
   },
   "outputs": [],
   "source": [
    "bigrams = [col for col in ngrams.columns if len(col.split()) == 2]"
   ]
  },
  {
   "cell_type": "code",
   "execution_count": 64,
   "metadata": {
    "ExecuteTime": {
     "end_time": "2021-04-29T09:50:45.949885Z",
     "start_time": "2021-04-29T09:49:16.516136Z"
    },
    "scrolled": true
   },
   "outputs": [
    {
     "data": {
      "image/png": "[encoded data removed]",
      "text/plain": [
       "<Figure size 720x576 with 1 Axes>"
      ]
     },
     "metadata": {},
     "output_type": "display_data"
    }
   ],
   "source": [
    "plt.figure(figsize= (10,8))\n",
    "ngrams[bigrams].sum().sort_values(ascending = False).head(30).plot(kind='barh');\n",
    "plt.title('Most frequent bigrams in movie related subreddits', size = 15);\n",
    "plt.yticks(size=13)\n",
    "plt.xticks(size=13)\n",
    "plt.xlabel('Frequency of appearance in text', size=14)\n",
    "plt.ylabel('Word combinations')\n",
    "plt.savefig('../images/bigrams.png');"
   ]
  },
  {
   "cell_type": "markdown",
   "metadata": {},
   "source": [
    "These really start to tell some more interesting stories now; we can see things like 'star wars' and 'tom jerry' appearing in here, along with some 'rotten tomatoes' 🍅 and people evidently wanting to boycott Tom and Jerry. Sad cat emoji here."
   ]
  },
  {
   "cell_type": "code",
   "execution_count": 71,
   "metadata": {
    "ExecuteTime": {
     "end_time": "2021-04-29T09:50:55.289798Z",
     "start_time": "2021-04-29T09:50:55.282895Z"
    }
   },
   "outputs": [],
   "source": [
    "#stemming / lemmatizing -- if time"
   ]
  },
  {
   "cell_type": "code",
   "execution_count": 72,
   "metadata": {
    "ExecuteTime": {
     "end_time": "2021-04-29T09:50:55.299666Z",
     "start_time": "2021-04-29T09:50:55.294200Z"
    }
   },
   "outputs": [],
   "source": [
    "#parts of speech -- if time"
   ]
  },
  {
   "cell_type": "markdown",
   "metadata": {},
   "source": [
    "- - -\n",
    "## Part IV: Modeling\n",
    "\n",
    "Several classification models are availed to us. We will try the merits of different ones, potentially including:\n",
    "\n",
    "* KNN\n",
    "* Decision Trees\n",
    "* Random Forest\n",
    "* Bayes\n",
    "* Logistic regression (NOTE: this one only makes sense if we find some linearity in earlier text relationship analysis)\n",
    "* Boosting\n",
    "\n",
    "We will tune and random-search for best parameters, where appropriate."
   ]
  },
  {
   "cell_type": "code",
   "execution_count": null,
   "metadata": {},
   "outputs": [],
   "source": [
    "#define X and y"
   ]
  },
  {
   "cell_type": "code",
   "execution_count": null,
   "metadata": {},
   "outputs": [],
   "source": [
    "#train-test-split"
   ]
  },
  {
   "cell_type": "code",
   "execution_count": null,
   "metadata": {},
   "outputs": [],
   "source": [
    "#instantiate and fit. WARNING: Be sure that scaling isn't req. for a particular model\n",
    "#also define param grid here (ideally)"
   ]
  },
  {
   "cell_type": "code",
   "execution_count": null,
   "metadata": {},
   "outputs": [],
   "source": [
    "#score"
   ]
  }
 ],
 "metadata": {
  "kernelspec": {
   "display_name": "Python 3",
   "language": "python",
   "name": "python3"
  },
  "language_info": {
   "codemirror_mode": {
    "name": "ipython",
    "version": 3
   },
   "file_extension": ".py",
   "mimetype": "text/x-python",
   "name": "python",
   "nbconvert_exporter": "python",
   "pygments_lexer": "ipython3",
   "version": "3.8.3"
  },
  "latex_envs": {
   "LaTeX_envs_menu_present": true,
   "autoclose": false,
   "autocomplete": true,
   "bibliofile": "biblio.bib",
   "cite_by": "apalike",
   "current_citInitial": 1,
   "eqLabelWithNumbers": true,
   "eqNumInitial": 1,
   "hotkeys": {
    "equation": "Ctrl-E",
    "itemize": "Ctrl-I"
   },
   "labels_anchors": false,
   "latex_user_defs": false,
   "report_style_numbering": false,
   "user_envs_cfg": false
  },
  "toc": {
   "base_numbering": 1,
   "nav_menu": {},
   "number_sections": true,
   "sideBar": true,
   "skip_h1_title": false,
   "title_cell": "Table of Contents",
   "title_sidebar": "Contents",
   "toc_cell": false,
   "toc_position": {},
   "toc_section_display": true,
   "toc_window_display": true
  },
  "varInspector": {
   "cols": {
    "lenName": 16,
    "lenType": 16,
    "lenVar": 40
   },
   "kernels_config": {
    "python": {
     "delete_cmd_postfix": "",
     "delete_cmd_prefix": "del ",
     "library": "var_list.py",
     "varRefreshCmd": "print(var_dic_list())"
    },
    "r": {
     "delete_cmd_postfix": ") ",
     "delete_cmd_prefix": "rm(",
     "library": "var_list.r",
     "varRefreshCmd": "cat(var_dic_list()) "
    }
   },
   "types_to_exclude": [
    "module",
    "function",
    "builtin_function_or_method",
    "instance",
    "_Feature"
   ],
   "window_display": false
  }
 },
 "nbformat": 4,
 "nbformat_minor": 4
}

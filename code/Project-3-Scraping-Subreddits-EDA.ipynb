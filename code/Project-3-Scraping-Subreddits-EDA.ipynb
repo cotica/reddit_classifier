{
 "cells": [
  {
   "cell_type": "markdown",
   "metadata": {},
   "source": [
    "# Scraping subreddits\n",
    "\n",
    "\n",
    "## Part II - Preprocessing & EDA\n",
    "---"
   ]
  },
  {
   "cell_type": "markdown",
   "metadata": {},
   "source": [
    "We'll import all our required libraries up here."
   ]
  },
  {
   "cell_type": "code",
   "execution_count": 1,
   "metadata": {
    "ExecuteTime": {
     "end_time": "2021-04-28T05:32:41.260043Z",
     "start_time": "2021-04-28T05:32:26.799546Z"
    }
   },
   "outputs": [],
   "source": [
    "#import libraries\n",
    "import pandas as pd, numpy as np, requests, time, nltk, datetime as dt\n",
    "\n",
    "#NLP\n",
    "from nltk.stem import WordNetLemmatizer\n",
    "from nltk.sentiment.vader import SentimentIntensityAnalyzer\n",
    "\n",
    "import gensim.downloader as api #allows us to get word2vec anf glove embeddins that we need\n",
    "from gensim.models.word2vec import Word2Vec\n",
    "from transformers import pipeline\n",
    "from sklearn.feature_extraction.text import CountVectorizer, TfidfVectorizer\n",
    "\n",
    "\n",
    "#classifiers\n",
    "from sklearn.neighbors import KNeighborsClassifier\n",
    "from sklearn.preprocessing import StandardScaler\n",
    "from sklearn.linear_model import LogisticRegression\n",
    "from sklearn.metrics import (accuracy_score, confusion_matrix, plot_confusion_matrix, \\\n",
    "                             recall_score, precision_score)\n",
    "from sklearn.pipeline import Pipeline\n",
    "from sklearn.model_selection import train_test_split, GridSearchCV, cross_val_score\n",
    "from sklearn.dummy import DummyClassifier\n",
    "\n",
    "\n",
    "# easier to see full text with a bigger maxwidth:\n",
    "pd.options.display.max_colwidth = 200"
   ]
  },
  {
   "cell_type": "code",
   "execution_count": 2,
   "metadata": {
    "ExecuteTime": {
     "end_time": "2021-04-28T05:32:41.270583Z",
     "start_time": "2021-04-28T05:32:41.265482Z"
    }
   },
   "outputs": [],
   "source": [
    "#pip install python-Levenshtein\n",
    "#this is for the gensim.similarities.levenshtein submodule"
   ]
  },
  {
   "cell_type": "markdown",
   "metadata": {},
   "source": [
    "### Pull in the dataframes!"
   ]
  },
  {
   "cell_type": "code",
   "execution_count": 3,
   "metadata": {
    "ExecuteTime": {
     "end_time": "2021-04-28T05:32:41.486467Z",
     "start_time": "2021-04-28T05:32:41.275636Z"
    }
   },
   "outputs": [],
   "source": [
    "movie_deets2 = pd.read_csv('../data_outputs/good_movie_deets2.csv')\n",
    "bad_deets2 = pd.read_csv('../data_outputs/bad_movie_deets2.csv')\n",
    "all_movies = pd.read_csv('../data_outputs/all_movies.csv')"
   ]
  },
  {
   "cell_type": "markdown",
   "metadata": {},
   "source": [
    "### Get basic stats"
   ]
  },
  {
   "cell_type": "markdown",
   "metadata": {},
   "source": [
    "Let's look at basic stats about our data.\n",
    "\n",
    "How many records do we have, prior to cleaning?"
   ]
  },
  {
   "cell_type": "code",
   "execution_count": 4,
   "metadata": {
    "ExecuteTime": {
     "end_time": "2021-04-28T05:32:41.507246Z",
     "start_time": "2021-04-28T05:32:41.490374Z"
    }
   },
   "outputs": [
    {
     "data": {
      "text/plain": [
       "(8805, 9)"
      ]
     },
     "execution_count": 4,
     "metadata": {},
     "output_type": "execute_result"
    }
   ],
   "source": [
    "movie_deets2.shape"
   ]
  },
  {
   "cell_type": "code",
   "execution_count": 5,
   "metadata": {
    "ExecuteTime": {
     "end_time": "2021-04-28T05:32:41.518427Z",
     "start_time": "2021-04-28T05:32:41.509421Z"
    }
   },
   "outputs": [
    {
     "data": {
      "text/plain": [
       "(8180, 9)"
      ]
     },
     "execution_count": 5,
     "metadata": {},
     "output_type": "execute_result"
    }
   ],
   "source": [
    "bad_deets2.shape"
   ]
  },
  {
   "cell_type": "code",
   "execution_count": 6,
   "metadata": {
    "ExecuteTime": {
     "end_time": "2021-04-28T05:32:41.528750Z",
     "start_time": "2021-04-28T05:32:41.520904Z"
    }
   },
   "outputs": [
    {
     "data": {
      "text/plain": [
       "(9404, 9)"
      ]
     },
     "execution_count": 6,
     "metadata": {},
     "output_type": "execute_result"
    }
   ],
   "source": [
    "all_movies.shape"
   ]
  },
  {
   "cell_type": "markdown",
   "metadata": {},
   "source": [
    "What did we pull in?"
   ]
  },
  {
   "cell_type": "code",
   "execution_count": 7,
   "metadata": {
    "ExecuteTime": {
     "end_time": "2021-04-28T05:32:41.560137Z",
     "start_time": "2021-04-28T05:32:41.531544Z"
    },
    "scrolled": true
   },
   "outputs": [
    {
     "data": {
      "text/html": [
       "<div>\n",
       "<style scoped>\n",
       "    .dataframe tbody tr th:only-of-type {\n",
       "        vertical-align: middle;\n",
       "    }\n",
       "\n",
       "    .dataframe tbody tr th {\n",
       "        vertical-align: top;\n",
       "    }\n",
       "\n",
       "    .dataframe thead th {\n",
       "        text-align: right;\n",
       "    }\n",
       "</style>\n",
       "<table border=\"1\" class=\"dataframe\">\n",
       "  <thead>\n",
       "    <tr style=\"text-align: right;\">\n",
       "      <th></th>\n",
       "      <th>title</th>\n",
       "      <th>selftext</th>\n",
       "      <th>subreddit</th>\n",
       "      <th>created_utc</th>\n",
       "      <th>author</th>\n",
       "      <th>is_self</th>\n",
       "      <th>score</th>\n",
       "      <th>num_comments</th>\n",
       "      <th>timestamp</th>\n",
       "    </tr>\n",
       "  </thead>\n",
       "  <tbody>\n",
       "    <tr>\n",
       "      <th>0</th>\n",
       "      <td>Listen,share,repost \"culgrin d mayor\" Africa gorilla volume 1 EP on all PLATFORMS</td>\n",
       "      <td>NaN</td>\n",
       "      <td>MovieDetails</td>\n",
       "      <td>1619213155</td>\n",
       "      <td>culgrin1</td>\n",
       "      <td>False</td>\n",
       "      <td>1</td>\n",
       "      <td>0</td>\n",
       "      <td>2021-04-23</td>\n",
       "    </tr>\n",
       "    <tr>\n",
       "      <th>1</th>\n",
       "      <td>In Repo Man (1984), Miller says to Otto “suppose you're thinkin' about a plate o' shrimp. Suddenly someone'll say, plate, or shrimp, or plate o' shrimp out the blue” as an example of his concept o...</td>\n",
       "      <td>NaN</td>\n",
       "      <td>MovieDetails</td>\n",
       "      <td>1619214866</td>\n",
       "      <td>VictorBlimpmuscle</td>\n",
       "      <td>False</td>\n",
       "      <td>1</td>\n",
       "      <td>12</td>\n",
       "      <td>2021-04-23</td>\n",
       "    </tr>\n",
       "  </tbody>\n",
       "</table>\n",
       "</div>"
      ],
      "text/plain": [
       "                                                                                                                                                                                                     title  \\\n",
       "0                                                                                                                        Listen,share,repost \"culgrin d mayor\" Africa gorilla volume 1 EP on all PLATFORMS   \n",
       "1  In Repo Man (1984), Miller says to Otto “suppose you're thinkin' about a plate o' shrimp. Suddenly someone'll say, plate, or shrimp, or plate o' shrimp out the blue” as an example of his concept o...   \n",
       "\n",
       "  selftext     subreddit  created_utc             author  is_self  score  \\\n",
       "0      NaN  MovieDetails   1619213155           culgrin1    False      1   \n",
       "1      NaN  MovieDetails   1619214866  VictorBlimpmuscle    False      1   \n",
       "\n",
       "   num_comments   timestamp  \n",
       "0             0  2021-04-23  \n",
       "1            12  2021-04-23  "
      ]
     },
     "execution_count": 7,
     "metadata": {},
     "output_type": "execute_result"
    }
   ],
   "source": [
    "movie_deets2.head(2)"
   ]
  },
  {
   "cell_type": "code",
   "execution_count": 8,
   "metadata": {
    "ExecuteTime": {
     "end_time": "2021-04-28T05:32:41.590474Z",
     "start_time": "2021-04-28T05:32:41.567025Z"
    },
    "scrolled": true
   },
   "outputs": [
    {
     "data": {
      "text/html": [
       "<div>\n",
       "<style scoped>\n",
       "    .dataframe tbody tr th:only-of-type {\n",
       "        vertical-align: middle;\n",
       "    }\n",
       "\n",
       "    .dataframe tbody tr th {\n",
       "        vertical-align: top;\n",
       "    }\n",
       "\n",
       "    .dataframe thead th {\n",
       "        text-align: right;\n",
       "    }\n",
       "</style>\n",
       "<table border=\"1\" class=\"dataframe\">\n",
       "  <thead>\n",
       "    <tr style=\"text-align: right;\">\n",
       "      <th></th>\n",
       "      <th>title</th>\n",
       "      <th>selftext</th>\n",
       "      <th>subreddit</th>\n",
       "      <th>created_utc</th>\n",
       "      <th>author</th>\n",
       "      <th>is_self</th>\n",
       "      <th>score</th>\n",
       "      <th>num_comments</th>\n",
       "      <th>timestamp</th>\n",
       "    </tr>\n",
       "  </thead>\n",
       "  <tbody>\n",
       "    <tr>\n",
       "      <th>0</th>\n",
       "      <td>In the movie Bullworth (1998), a police officer is seen not shooting black people.</td>\n",
       "      <td>NaN</td>\n",
       "      <td>shittymoviedetails</td>\n",
       "      <td>1619214935</td>\n",
       "      <td>Wuz314159</td>\n",
       "      <td>False</td>\n",
       "      <td>1</td>\n",
       "      <td>1</td>\n",
       "      <td>2021-04-23</td>\n",
       "    </tr>\n",
       "    <tr>\n",
       "      <th>1</th>\n",
       "      <td>The Nightmare Before Christmas (1993), when he arrives at Christmas Town, Jack sings \"what's this? There's white things in the air\". 22 seconds later he sings \"there are children throwing snowball...</td>\n",
       "      <td>NaN</td>\n",
       "      <td>shittymoviedetails</td>\n",
       "      <td>1619217853</td>\n",
       "      <td>Nerf_Herder86</td>\n",
       "      <td>False</td>\n",
       "      <td>1</td>\n",
       "      <td>0</td>\n",
       "      <td>2021-04-23</td>\n",
       "    </tr>\n",
       "  </tbody>\n",
       "</table>\n",
       "</div>"
      ],
      "text/plain": [
       "                                                                                                                                                                                                     title  \\\n",
       "0                                                                                                                       In the movie Bullworth (1998), a police officer is seen not shooting black people.   \n",
       "1  The Nightmare Before Christmas (1993), when he arrives at Christmas Town, Jack sings \"what's this? There's white things in the air\". 22 seconds later he sings \"there are children throwing snowball...   \n",
       "\n",
       "  selftext           subreddit  created_utc         author  is_self  score  \\\n",
       "0      NaN  shittymoviedetails   1619214935      Wuz314159    False      1   \n",
       "1      NaN  shittymoviedetails   1619217853  Nerf_Herder86    False      1   \n",
       "\n",
       "   num_comments   timestamp  \n",
       "0             1  2021-04-23  \n",
       "1             0  2021-04-23  "
      ]
     },
     "execution_count": 8,
     "metadata": {},
     "output_type": "execute_result"
    }
   ],
   "source": [
    "bad_deets2.head(2)"
   ]
  },
  {
   "cell_type": "code",
   "execution_count": 9,
   "metadata": {
    "ExecuteTime": {
     "end_time": "2021-04-28T05:32:41.614433Z",
     "start_time": "2021-04-28T05:32:41.595734Z"
    },
    "scrolled": true
   },
   "outputs": [
    {
     "data": {
      "text/html": [
       "<div>\n",
       "<style scoped>\n",
       "    .dataframe tbody tr th:only-of-type {\n",
       "        vertical-align: middle;\n",
       "    }\n",
       "\n",
       "    .dataframe tbody tr th {\n",
       "        vertical-align: top;\n",
       "    }\n",
       "\n",
       "    .dataframe thead th {\n",
       "        text-align: right;\n",
       "    }\n",
       "</style>\n",
       "<table border=\"1\" class=\"dataframe\">\n",
       "  <thead>\n",
       "    <tr style=\"text-align: right;\">\n",
       "      <th></th>\n",
       "      <th>title</th>\n",
       "      <th>selftext</th>\n",
       "      <th>subreddit</th>\n",
       "      <th>created_utc</th>\n",
       "      <th>author</th>\n",
       "      <th>is_self</th>\n",
       "      <th>score</th>\n",
       "      <th>num_comments</th>\n",
       "      <th>timestamp</th>\n",
       "    </tr>\n",
       "  </thead>\n",
       "  <tbody>\n",
       "    <tr>\n",
       "      <th>0</th>\n",
       "      <td>Russian sci-fi film about artificial intelligence testing.</td>\n",
       "      <td>NaN</td>\n",
       "      <td>movies</td>\n",
       "      <td>1619216594</td>\n",
       "      <td>Anixx</td>\n",
       "      <td>False</td>\n",
       "      <td>1</td>\n",
       "      <td>0</td>\n",
       "      <td>2021-04-23</td>\n",
       "    </tr>\n",
       "    <tr>\n",
       "      <th>1</th>\n",
       "      <td>Just why! Miranda is not in the Lizzie McGuire Movie and while the movie was still good, there's a huge hole without Miranda especially when they go to a country like Rome. And Miranda was already...</td>\n",
       "      <td>[removed]</td>\n",
       "      <td>movies</td>\n",
       "      <td>1619217134</td>\n",
       "      <td>EvilIceCream1755</td>\n",
       "      <td>True</td>\n",
       "      <td>1</td>\n",
       "      <td>0</td>\n",
       "      <td>2021-04-23</td>\n",
       "    </tr>\n",
       "  </tbody>\n",
       "</table>\n",
       "</div>"
      ],
      "text/plain": [
       "                                                                                                                                                                                                     title  \\\n",
       "0                                                                                                                                               Russian sci-fi film about artificial intelligence testing.   \n",
       "1  Just why! Miranda is not in the Lizzie McGuire Movie and while the movie was still good, there's a huge hole without Miranda especially when they go to a country like Rome. And Miranda was already...   \n",
       "\n",
       "    selftext subreddit  created_utc            author  is_self  score  \\\n",
       "0        NaN    movies   1619216594             Anixx    False      1   \n",
       "1  [removed]    movies   1619217134  EvilIceCream1755     True      1   \n",
       "\n",
       "   num_comments   timestamp  \n",
       "0             0  2021-04-23  \n",
       "1             0  2021-04-23  "
      ]
     },
     "execution_count": 9,
     "metadata": {},
     "output_type": "execute_result"
    }
   ],
   "source": [
    "all_movies.head(2)"
   ]
  },
  {
   "cell_type": "markdown",
   "metadata": {},
   "source": [
    "Let's actually merge our dataframes to make it easier for processing."
   ]
  },
  {
   "cell_type": "code",
   "execution_count": 10,
   "metadata": {
    "ExecuteTime": {
     "end_time": "2021-04-28T05:32:41.647800Z",
     "start_time": "2021-04-28T05:32:41.617852Z"
    }
   },
   "outputs": [
    {
     "data": {
      "text/html": [
       "<div>\n",
       "<style scoped>\n",
       "    .dataframe tbody tr th:only-of-type {\n",
       "        vertical-align: middle;\n",
       "    }\n",
       "\n",
       "    .dataframe tbody tr th {\n",
       "        vertical-align: top;\n",
       "    }\n",
       "\n",
       "    .dataframe thead th {\n",
       "        text-align: right;\n",
       "    }\n",
       "</style>\n",
       "<table border=\"1\" class=\"dataframe\">\n",
       "  <thead>\n",
       "    <tr style=\"text-align: right;\">\n",
       "      <th></th>\n",
       "      <th>title</th>\n",
       "      <th>selftext</th>\n",
       "      <th>subreddit</th>\n",
       "      <th>created_utc</th>\n",
       "      <th>author</th>\n",
       "      <th>is_self</th>\n",
       "      <th>score</th>\n",
       "      <th>num_comments</th>\n",
       "      <th>timestamp</th>\n",
       "    </tr>\n",
       "  </thead>\n",
       "  <tbody>\n",
       "    <tr>\n",
       "      <th>0</th>\n",
       "      <td>In the movie Bullworth (1998), a police officer is seen not shooting black people.</td>\n",
       "      <td>NaN</td>\n",
       "      <td>shittymoviedetails</td>\n",
       "      <td>1619214935</td>\n",
       "      <td>Wuz314159</td>\n",
       "      <td>False</td>\n",
       "      <td>1</td>\n",
       "      <td>1</td>\n",
       "      <td>2021-04-23</td>\n",
       "    </tr>\n",
       "  </tbody>\n",
       "</table>\n",
       "</div>"
      ],
      "text/plain": [
       "                                                                                title  \\\n",
       "0  In the movie Bullworth (1998), a police officer is seen not shooting black people.   \n",
       "\n",
       "  selftext           subreddit  created_utc     author  is_self  score  \\\n",
       "0      NaN  shittymoviedetails   1619214935  Wuz314159    False      1   \n",
       "\n",
       "   num_comments   timestamp  \n",
       "0             1  2021-04-23  "
      ]
     },
     "execution_count": 10,
     "metadata": {},
     "output_type": "execute_result"
    }
   ],
   "source": [
    "#pd.concat([df1, df2])\n",
    "df = pd.concat([bad_deets2, movie_deets2, all_movies])\n",
    "df.head(1)"
   ]
  },
  {
   "cell_type": "code",
   "execution_count": 11,
   "metadata": {
    "ExecuteTime": {
     "end_time": "2021-04-28T05:32:41.658608Z",
     "start_time": "2021-04-28T05:32:41.649713Z"
    }
   },
   "outputs": [
    {
     "data": {
      "text/plain": [
       "(26389, 9)"
      ]
     },
     "execution_count": 11,
     "metadata": {},
     "output_type": "execute_result"
    }
   ],
   "source": [
    "df.shape"
   ]
  },
  {
   "cell_type": "markdown",
   "metadata": {},
   "source": [
    "What data types are we dealing with?"
   ]
  },
  {
   "cell_type": "code",
   "execution_count": 12,
   "metadata": {
    "ExecuteTime": {
     "end_time": "2021-04-28T05:32:41.690774Z",
     "start_time": "2021-04-28T05:32:41.661032Z"
    },
    "scrolled": false
   },
   "outputs": [
    {
     "name": "stdout",
     "output_type": "stream",
     "text": [
      "<class 'pandas.core.frame.DataFrame'>\n",
      "Int64Index: 26389 entries, 0 to 9403\n",
      "Data columns (total 9 columns):\n",
      " #   Column        Non-Null Count  Dtype \n",
      "---  ------        --------------  ----- \n",
      " 0   title         26389 non-null  object\n",
      " 1   selftext      7350 non-null   object\n",
      " 2   subreddit     26389 non-null  object\n",
      " 3   created_utc   26389 non-null  int64 \n",
      " 4   author        26389 non-null  object\n",
      " 5   is_self       26389 non-null  bool  \n",
      " 6   score         26389 non-null  int64 \n",
      " 7   num_comments  26389 non-null  int64 \n",
      " 8   timestamp     26389 non-null  object\n",
      "dtypes: bool(1), int64(3), object(5)\n",
      "memory usage: 1.8+ MB\n"
     ]
    }
   ],
   "source": [
    "df.info()"
   ]
  },
  {
   "cell_type": "markdown",
   "metadata": {},
   "source": [
    "A few objects, like text fields, are expected, and will need to be transformed / vectorized for modeling.\n",
    "\n",
    "Let's also convert the time stamps to a usable format, just in case they come in handy for modeling."
   ]
  },
  {
   "cell_type": "markdown",
   "metadata": {},
   "source": [
    "A few objects, like text fields, are expected, and will need to be transformed / vectorized for modeling.\n",
    "\n",
    "Let's also convert the time stamps to a usable format, just in case they come in handy for modeling. Further, the UTC is actually not really something we want in our model, and it's not really numeric either (it's a datetime concept if anything). Let's take care of that as well."
   ]
  },
  {
   "cell_type": "code",
   "execution_count": 13,
   "metadata": {
    "ExecuteTime": {
     "end_time": "2021-04-28T05:32:51.200041Z",
     "start_time": "2021-04-28T05:32:41.692760Z"
    }
   },
   "outputs": [],
   "source": [
    "#convert time stamps\n",
    "#.apply(pd.to_datetime) - ref.: https://stackoverflow.com/questions/26763344/convert-pandas-column-to-datetime\n",
    "df['timestamp'] = df['timestamp'].apply(pd.to_datetime)\n",
    "df['created_utc'] = df['created_utc'].apply(pd.to_datetime)"
   ]
  },
  {
   "cell_type": "markdown",
   "metadata": {},
   "source": [
    "Now we can try to obtain basic descriptive stats."
   ]
  },
  {
   "cell_type": "code",
   "execution_count": 14,
   "metadata": {
    "ExecuteTime": {
     "end_time": "2021-04-28T05:32:51.237703Z",
     "start_time": "2021-04-28T05:32:51.204763Z"
    },
    "scrolled": true
   },
   "outputs": [
    {
     "data": {
      "text/html": [
       "<div>\n",
       "<style scoped>\n",
       "    .dataframe tbody tr th:only-of-type {\n",
       "        vertical-align: middle;\n",
       "    }\n",
       "\n",
       "    .dataframe tbody tr th {\n",
       "        vertical-align: top;\n",
       "    }\n",
       "\n",
       "    .dataframe thead th {\n",
       "        text-align: right;\n",
       "    }\n",
       "</style>\n",
       "<table border=\"1\" class=\"dataframe\">\n",
       "  <thead>\n",
       "    <tr style=\"text-align: right;\">\n",
       "      <th></th>\n",
       "      <th>score</th>\n",
       "      <th>num_comments</th>\n",
       "    </tr>\n",
       "  </thead>\n",
       "  <tbody>\n",
       "    <tr>\n",
       "      <th>count</th>\n",
       "      <td>26389.0</td>\n",
       "      <td>26389.0</td>\n",
       "    </tr>\n",
       "    <tr>\n",
       "      <th>mean</th>\n",
       "      <td>57.4</td>\n",
       "      <td>18.7</td>\n",
       "    </tr>\n",
       "    <tr>\n",
       "      <th>std</th>\n",
       "      <td>1400.0</td>\n",
       "      <td>124.0</td>\n",
       "    </tr>\n",
       "    <tr>\n",
       "      <th>min</th>\n",
       "      <td>0.0</td>\n",
       "      <td>0.0</td>\n",
       "    </tr>\n",
       "    <tr>\n",
       "      <th>25%</th>\n",
       "      <td>1.0</td>\n",
       "      <td>0.0</td>\n",
       "    </tr>\n",
       "    <tr>\n",
       "      <th>50%</th>\n",
       "      <td>1.0</td>\n",
       "      <td>2.0</td>\n",
       "    </tr>\n",
       "    <tr>\n",
       "      <th>75%</th>\n",
       "      <td>1.0</td>\n",
       "      <td>5.0</td>\n",
       "    </tr>\n",
       "    <tr>\n",
       "      <th>max</th>\n",
       "      <td>72489.0</td>\n",
       "      <td>6036.0</td>\n",
       "    </tr>\n",
       "  </tbody>\n",
       "</table>\n",
       "</div>"
      ],
      "text/plain": [
       "         score  num_comments\n",
       "count  26389.0       26389.0\n",
       "mean      57.4          18.7\n",
       "std     1400.0         124.0\n",
       "min        0.0           0.0\n",
       "25%        1.0           0.0\n",
       "50%        1.0           2.0\n",
       "75%        1.0           5.0\n",
       "max    72489.0        6036.0"
      ]
     },
     "execution_count": 14,
     "metadata": {},
     "output_type": "execute_result"
    }
   ],
   "source": [
    "df.describe().round(1)"
   ]
  },
  {
   "cell_type": "markdown",
   "metadata": {},
   "source": [
    "Not much to look at here at the moment. The notables are the distribution of comments. We'll want to perform some more specific distribution analyses a little down the road, once done with the cleaning, to make more sense out of these stats."
   ]
  },
  {
   "cell_type": "markdown",
   "metadata": {},
   "source": [
    "Where might we have issues with missing data?"
   ]
  },
  {
   "cell_type": "code",
   "execution_count": 15,
   "metadata": {
    "ExecuteTime": {
     "end_time": "2021-04-28T05:32:51.265395Z",
     "start_time": "2021-04-28T05:32:51.240216Z"
    },
    "scrolled": true
   },
   "outputs": [
    {
     "data": {
      "text/plain": [
       "title               0\n",
       "selftext        19039\n",
       "subreddit           0\n",
       "created_utc         0\n",
       "author              0\n",
       "is_self             0\n",
       "score               0\n",
       "num_comments        0\n",
       "timestamp           0\n",
       "dtype: int64"
      ]
     },
     "execution_count": 15,
     "metadata": {},
     "output_type": "execute_result"
    }
   ],
   "source": [
    "df.isnull().sum()"
   ]
  },
  {
   "cell_type": "markdown",
   "metadata": {},
   "source": [
    "### Imputation and cleaning strategy\n",
    "\n",
    "Our strategy is to first remove anything with selftext appearing to have been deleted. Even though these are not read as nulls, they effectively are, for our purposes.\n",
    "\n",
    "We knew that we'd have quite a few issues with missing self-text. To remedy this, we could impute all nulls where self text is missing with the post's title, but this might result in inadvertent text duplicates when we train our model. So, instead, we are going to engineer a new column and merge the self-text and title text. _Note: Attribution for the idea to Riley R._\n",
    "\n",
    "We will further dedupe and get rid of ostensibly spammy looking posts, by adding stop words like \"repost\", \"reshare\", as well as dropping any dominant authors or ones that sound spammy (\"bot\", \"auto\")."
   ]
  },
  {
   "cell_type": "code",
   "execution_count": 38,
   "metadata": {
    "ExecuteTime": {
     "end_time": "2021-04-28T06:06:38.505614Z",
     "start_time": "2021-04-28T06:06:38.444005Z"
    }
   },
   "outputs": [],
   "source": [
    "#remove anything with the word \"deleted\"\n",
    "#df[~df['ids'].str.contains(\"ball\")]\n",
    "#df = df[df.ids != \"aball\"]\n",
    "#df[df['col'].str.contains('value1|value2')]\n",
    "#df[~df['col'].str.contains('value1|value2')]\n",
    "#syntactic ref from https://stackoverflow.com/questions/52297740/typeerror-bad-operand-type-for-unary-float\n",
    "\n",
    "df = df[~df['selftext'].str.contains('deleted|removed', na=False)]\n",
    "\n",
    "#df = df[df.selftext != 'deleted']\n",
    "#df = df[df.selftext != 'removed']"
   ]
  },
  {
   "cell_type": "code",
   "execution_count": 39,
   "metadata": {
    "ExecuteTime": {
     "end_time": "2021-04-28T06:06:41.693988Z",
     "start_time": "2021-04-28T06:06:41.669937Z"
    }
   },
   "outputs": [
    {
     "data": {
      "text/html": [
       "<div>\n",
       "<style scoped>\n",
       "    .dataframe tbody tr th:only-of-type {\n",
       "        vertical-align: middle;\n",
       "    }\n",
       "\n",
       "    .dataframe tbody tr th {\n",
       "        vertical-align: top;\n",
       "    }\n",
       "\n",
       "    .dataframe thead th {\n",
       "        text-align: right;\n",
       "    }\n",
       "</style>\n",
       "<table border=\"1\" class=\"dataframe\">\n",
       "  <thead>\n",
       "    <tr style=\"text-align: right;\">\n",
       "      <th></th>\n",
       "      <th>title</th>\n",
       "      <th>selftext</th>\n",
       "      <th>subreddit</th>\n",
       "      <th>created_utc</th>\n",
       "      <th>author</th>\n",
       "      <th>is_self</th>\n",
       "      <th>score</th>\n",
       "      <th>num_comments</th>\n",
       "      <th>timestamp</th>\n",
       "    </tr>\n",
       "  </thead>\n",
       "  <tbody>\n",
       "    <tr>\n",
       "      <th>0</th>\n",
       "      <td>In the movie Bullworth (1998), a police officer is seen not shooting black people.</td>\n",
       "      <td>NaN</td>\n",
       "      <td>shittymoviedetails</td>\n",
       "      <td>1970-01-01 00:00:01.619214935</td>\n",
       "      <td>Wuz314159</td>\n",
       "      <td>False</td>\n",
       "      <td>1</td>\n",
       "      <td>1</td>\n",
       "      <td>2021-04-23</td>\n",
       "    </tr>\n",
       "  </tbody>\n",
       "</table>\n",
       "</div>"
      ],
      "text/plain": [
       "                                                                                title  \\\n",
       "0  In the movie Bullworth (1998), a police officer is seen not shooting black people.   \n",
       "\n",
       "  selftext           subreddit                   created_utc     author  \\\n",
       "0      NaN  shittymoviedetails 1970-01-01 00:00:01.619214935  Wuz314159   \n",
       "\n",
       "   is_self  score  num_comments  timestamp  \n",
       "0    False      1             1 2021-04-23  "
      ]
     },
     "execution_count": 39,
     "metadata": {},
     "output_type": "execute_result"
    }
   ],
   "source": [
    "df.head(1)"
   ]
  },
  {
   "cell_type": "code",
   "execution_count": 40,
   "metadata": {
    "ExecuteTime": {
     "end_time": "2021-04-28T06:06:43.751549Z",
     "start_time": "2021-04-28T06:06:43.734762Z"
    }
   },
   "outputs": [
    {
     "data": {
      "text/plain": [
       "[https://www.reddit.com/r/Paintings\\_in\\_movies/comments/j6f34d/sascha\\_schneider\\_hypnose\\_1904\\_vs\\_the\\_lighthouse/?utm\\_source=share&amp;utm\\_medium=web2x&amp;context=3](https://www.reddit.com/r/Paintings_in_movies/comments/j6f34d/sascha_schneider_hypnose_1904_vs_the_lighthouse/?utm_source=share&amp;utm_medium=web2x&amp;context=3)                                                                                                                                                                                                                                                                                                                                                                                                                                                                                                                                                                                                                                                                                                                                                                  2\n",
       "Rachel Marrons sister hires a hitman to kill her successful sister but the reasons why are vague and explained in just a few minutes and never spoken about again. Also the sister never shows any outward resentment for her sister in any way throughout the movie which leaves her character severely underdeveloped.                                                                                                                                                                                                                                                                                                                                                                                                                                                                                                                                                                                                                                                                                                                                                                                          2\n",
       "[https://i.imgur.com/5yFzqdk.jpg](https://i.imgur.com/5yFzqdk.jpg)                                                                                                                                                                                                                                                                                                                                                                                                                                                                                                                                                                                                                                                                                                                                                                                                                                                                                                                                                                                                                                                2\n",
       "&gt;!In \"The Girl with the Dragon Tattoo\", Christopher Plummer tells Daniel Craig's character \"The man who hires the detective should always be kept on the suspects list.\" In \"Knives Out\", Craig is hired by Ransom Drysdale (Chris Evans) to investigate the murder of Harlan Thrombey (Christopher Plummer), which Ransom himself committed.!&lt;                                                                                                                                                                                                                                                                                                                                                                                                                                                                                                                                                                                                                                                                                                                                                             2\n",
       "#Poll\\n\\n**If you've seen the film, please rate it [at this poll](https://youpoll.me/48026/)**\\n\\n**If you haven't seen the film but would like to see the result of the poll [click here](https://youpoll.me/48026/r)**\\n\\n#Rankings\\n\\n[Click here](https://youpoll.me/list/50/) to see the rankings of 2020 films\\n\\n[Click here](https://youpoll.me/list/4/) to see the rankings for every poll done\\n\\n---\\n**Summary:**\\n\\nSpotlights the true story of Leroy Logan, who at a young age saw his father assaulted by two policemen, motivating him to join the Metropolitan Police and change their racist attitudes from within.\\n\\n**Director:**\\n\\nSteve McQueen\\n\\n**Writers:**\\n\\nSteve McQueen, Courttia Newland\\n\\n**Cast:**\\n\\n* John Boyega as Leroy Logan\\n* Steve Toussaint as Ken Logan\\n* Joy Richardson as Mrs. Logan\\n* Antonia Thomas as Gretl\\n* Seroca Davis as Hyacinth\\n* Liam Garrigan as Greg Huggan\\n* Tyrone Huntley as Leee John\\n\\n--\\n**Rotten Tomatoes:** N/A\\n\\n**Metacritic:** [85](https://www.metacritic.com/movie/small-axe-red-white-and-blue)\\n\\n**VOD:** Amazon Prime    2\n",
       "                                                                                                                                                                                                                                                                                                                                                                                                                                                                                                                                                                                                                                                                                                                                                                                                                                                                                                                                                                                                                                                                                                                 ..\n",
       "Whilst rewatching the latest mission impossible film I realised that in the bathroom fight scene three men walk into the room in which they are framed with a gun (dropped by “Lark”). Along with the fact that the scene is set in France it comes as a pretty clear reference to La Haine, a story based on three French youth who find a gun.                                                                                                                                                                                                                                                                                                                                                                                                                                                                                                                                                                                                                                                                                                                                                                  1\n",
       "I watched this earlier today and I am surprised at how the movie is. I had zero interest in the movie when I saw the trailers, even though it starred Tom Holland and Will Smith in the leading roles. It just didn't look that good but I was wrong. The movie is a delight, it's funny and the premise is interesting. It's also pushing it's PG rating to the limit since it's actually quite violent, it hints at cuss word and at one point there was a bleep to cover a cuss word. There's also a few sexual innuendos thrown in there aswell. At one point Tom Holland's character makes a \"50 Shades of Grey\" reference.                                                                                                                                                                                                                                                                                                                                                                                                                                                                                  1\n",
       "HeY gUyS! I just found this REALLY GREAT and sUpeR uNknOwN moVie. It's called Tropic Thunder! Starring people you  t o t a l l y haven't heard of like, bEn StilLeR, RoBerT DowNey Jr, jaCk BlaCk, MatTHEw McConAugHey, and even, ToM cRuIsE.\\n\\nThis movie is SuPeR fUnNy with humor that definetely wouldn't be appreciated if it was released today. Even though it was released in TwO ThOusAnd FuckIng EiGht! RoBerT doWneY jR plays a character in BlaCkfaCe? It's almost as if this movie is sAtiRicaL or SomEthiNg!\\n\\nSure it has almost 400 thousand IMDb ratings, an 82% on Rotten Tomatoes, some very big movie stars in it, a box office gross of nearly 200 Million Dollars, and gets posted about EvErY gOddAmN day. You probably haven't heard of it, so therefore I must post about it.\\n\\nJokes Aside, Tropic Thunder is a great movie, but it isn't some hidden gem. You know who you are, don't act like it is please.                                                                                                                                                                        1\n",
       "And ideally, they're accessible on some of the streaming platforms.\\n\\nI realize I've barely watched any film coming from Israel, so I'm curious who has some suggestions of really great films. It can be from any genre, any era. As long as there are subtitles.\\n\\nAnd I'm not a stickler if the director is Israeli-American, Israeli-British, or whatever.\\n\\nThx.                                                                                                                                                                                                                                                                                                                                                                                                                                                                                                                                                                                                                                                                                                                                          1\n",
       "&amp;#x200B;\\n\\n[The joker: Not cracking jokes](https://preview.redd.it/u98dqwyltou51.jpg?width=1000&amp;format=pjpg&amp;auto=webp&amp;s=98d27851453a36950cb3742b1d0869ac471bd8c1)                                                                                                                                                                                                                                                                                                                                                                                                                                                                                                                                                                                                                                                                                                                                                                                                                                                                                                                                1\n",
       "Name: selftext, Length: 2749, dtype: int64"
      ]
     },
     "execution_count": 40,
     "metadata": {},
     "output_type": "execute_result"
    }
   ],
   "source": [
    "df['selftext'].value_counts().sort_values(ascending=False)"
   ]
  },
  {
   "cell_type": "code",
   "execution_count": 21,
   "metadata": {
    "ExecuteTime": {
     "end_time": "2021-04-28T05:59:18.640066Z",
     "start_time": "2021-04-28T05:59:18.629550Z"
    }
   },
   "outputs": [
    {
     "data": {
      "text/plain": [
       "(26389, 9)"
      ]
     },
     "execution_count": 21,
     "metadata": {},
     "output_type": "execute_result"
    }
   ],
   "source": [
    "df.shape"
   ]
  },
  {
   "cell_type": "code",
   "execution_count": 41,
   "metadata": {
    "ExecuteTime": {
     "end_time": "2021-04-28T06:06:47.959962Z",
     "start_time": "2021-04-28T06:06:47.938960Z"
    }
   },
   "outputs": [
    {
     "data": {
      "text/plain": [
       "title               0\n",
       "selftext        19039\n",
       "subreddit           0\n",
       "created_utc         0\n",
       "author              0\n",
       "is_self             0\n",
       "score               0\n",
       "num_comments        0\n",
       "timestamp           0\n",
       "dtype: int64"
      ]
     },
     "execution_count": 41,
     "metadata": {},
     "output_type": "execute_result"
    }
   ],
   "source": [
    "df.isnull().sum()"
   ]
  },
  {
   "cell_type": "markdown",
   "metadata": {},
   "source": [
    "### Analysis\n",
    "\n",
    "Let's understand the density and usefulness of our content, by analyzing the volume of comments and looking for the richness of the text-heavy columns we are expecting.\n",
    "\n",
    "We are also going to see, whether there are any interesting prospective features for training our models."
   ]
  },
  {
   "cell_type": "code",
   "execution_count": null,
   "metadata": {
    "ExecuteTime": {
     "end_time": "2021-04-28T05:32:51.934342Z",
     "start_time": "2021-04-28T05:32:27.873Z"
    },
    "scrolled": true
   },
   "outputs": [],
   "source": [
    "#<df>['num_comments'].value_counts()\n",
    "#hist"
   ]
  },
  {
   "cell_type": "code",
   "execution_count": null,
   "metadata": {
    "ExecuteTime": {
     "end_time": "2021-04-28T05:32:51.938100Z",
     "start_time": "2021-04-28T05:32:27.878Z"
    }
   },
   "outputs": [],
   "source": [
    "#check for post density\n",
    "#<df>['selftext'].value_counts()"
   ]
  },
  {
   "cell_type": "code",
   "execution_count": null,
   "metadata": {
    "ExecuteTime": {
     "end_time": "2021-04-28T05:32:51.951936Z",
     "start_time": "2021-04-28T05:32:27.883Z"
    }
   },
   "outputs": [],
   "source": [
    "#<df>['title'].value_counts()"
   ]
  },
  {
   "cell_type": "code",
   "execution_count": null,
   "metadata": {
    "ExecuteTime": {
     "end_time": "2021-04-28T05:32:51.958474Z",
     "start_time": "2021-04-28T05:32:27.887Z"
    }
   },
   "outputs": [],
   "source": [
    "#<df>['author'].value_counts() #get only unique"
   ]
  },
  {
   "cell_type": "markdown",
   "metadata": {},
   "source": [
    "## Part III: NLP & feature eng"
   ]
  },
  {
   "cell_type": "markdown",
   "metadata": {},
   "source": [
    "### Word analysis"
   ]
  },
  {
   "cell_type": "code",
   "execution_count": null,
   "metadata": {
    "ExecuteTime": {
     "end_time": "2021-04-28T05:32:51.963241Z",
     "start_time": "2021-04-28T05:32:28.117Z"
    }
   },
   "outputs": [],
   "source": [
    "#word freq\n",
    "#vectorize self-text"
   ]
  },
  {
   "cell_type": "code",
   "execution_count": null,
   "metadata": {
    "ExecuteTime": {
     "end_time": "2021-04-28T05:32:51.968270Z",
     "start_time": "2021-04-28T05:32:28.121Z"
    }
   },
   "outputs": [],
   "source": [
    "#sentiment"
   ]
  },
  {
   "cell_type": "code",
   "execution_count": null,
   "metadata": {},
   "outputs": [],
   "source": []
  },
  {
   "cell_type": "code",
   "execution_count": null,
   "metadata": {},
   "outputs": [],
   "source": []
  }
 ],
 "metadata": {
  "kernelspec": {
   "display_name": "Python 3",
   "language": "python",
   "name": "python3"
  },
  "language_info": {
   "codemirror_mode": {
    "name": "ipython",
    "version": 3
   },
   "file_extension": ".py",
   "mimetype": "text/x-python",
   "name": "python",
   "nbconvert_exporter": "python",
   "pygments_lexer": "ipython3",
   "version": "3.8.3"
  },
  "latex_envs": {
   "LaTeX_envs_menu_present": true,
   "autoclose": false,
   "autocomplete": true,
   "bibliofile": "biblio.bib",
   "cite_by": "apalike",
   "current_citInitial": 1,
   "eqLabelWithNumbers": true,
   "eqNumInitial": 1,
   "hotkeys": {
    "equation": "Ctrl-E",
    "itemize": "Ctrl-I"
   },
   "labels_anchors": false,
   "latex_user_defs": false,
   "report_style_numbering": false,
   "user_envs_cfg": false
  },
  "toc": {
   "base_numbering": 1,
   "nav_menu": {},
   "number_sections": true,
   "sideBar": true,
   "skip_h1_title": false,
   "title_cell": "Table of Contents",
   "title_sidebar": "Contents",
   "toc_cell": false,
   "toc_position": {},
   "toc_section_display": true,
   "toc_window_display": true
  },
  "varInspector": {
   "cols": {
    "lenName": 16,
    "lenType": 16,
    "lenVar": 40
   },
   "kernels_config": {
    "python": {
     "delete_cmd_postfix": "",
     "delete_cmd_prefix": "del ",
     "library": "var_list.py",
     "varRefreshCmd": "print(var_dic_list())"
    },
    "r": {
     "delete_cmd_postfix": ") ",
     "delete_cmd_prefix": "rm(",
     "library": "var_list.r",
     "varRefreshCmd": "cat(var_dic_list()) "
    }
   },
   "types_to_exclude": [
    "module",
    "function",
    "builtin_function_or_method",
    "instance",
    "_Feature"
   ],
   "window_display": false
  }
 },
 "nbformat": 4,
 "nbformat_minor": 4
}

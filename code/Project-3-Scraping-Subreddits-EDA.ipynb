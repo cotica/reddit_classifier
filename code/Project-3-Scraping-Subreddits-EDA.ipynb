{
 "cells": [
  {
   "cell_type": "markdown",
   "metadata": {},
   "source": [
    "# Scraping subreddits\n",
    "\n",
    "\n",
    "## Part II - Preprocessing & EDA\n",
    "---"
   ]
  },
  {
   "cell_type": "markdown",
   "metadata": {},
   "source": [
    "We'll import all our required libraries up here."
   ]
  },
  {
   "cell_type": "code",
   "execution_count": 1,
   "metadata": {
    "ExecuteTime": {
     "end_time": "2021-04-29T03:45:59.712790Z",
     "start_time": "2021-04-29T03:45:43.107081Z"
    }
   },
   "outputs": [],
   "source": [
    "#import all potential libraries\n",
    "\n",
    "import pandas as pd, \\\n",
    "       numpy as np, \\\n",
    "       requests, time, nltk, \\\n",
    "       datetime as dt, \\\n",
    "       matplotlib.pyplot as plt, seaborn as sns\n",
    "       re #regex\n",
    "\n",
    "#NLP transformers\n",
    "from nltk.stem import WordNetLemmatizer\n",
    "from nltk.sentiment.vader import SentimentIntensityAnalyzer\n",
    "from nltk.tokenize import RegexpTokenizer\n",
    "\n",
    "import gensim.downloader as api #allows us to get word2vec anf glove embeddings that we need\n",
    "from gensim.models.word2vec import Word2Vec\n",
    "from transformers import pipeline\n",
    "from sklearn.pipeline import Pipeline\n",
    "from sklearn.feature_extraction.text import CountVectorizer, \\\n",
    "                                            TfidfVectorizer\n",
    "\n",
    "\n",
    "#classifiers\n",
    "from sklearn.neighbors import KNeighborsClassifier\n",
    "from sklearn.linear_model import LogisticRegression\n",
    "\n",
    "from sklearn.ensemble import (RandomForestClassifier, \\\n",
    "                              ExtraTreesClassifier, \\\n",
    "                              BaggingClassifier,\n",
    "                              GradientBoostingClassifier, \\\n",
    "                              AdaBoostClassifier, \\\n",
    "                              VotingClassifier)\n",
    "\n",
    "from sklearn.tree import DecisionTreeClassifier, plot_tree, export_text\n",
    "from xgboost import XGBRegressor, XGBClassifier\n",
    "from sklearn.naive_bayes import MultinomialNB\n",
    "\n",
    "\n",
    "#metrics / model preprocessing\n",
    "from sklearn.metrics import (accuracy_score, confusion_matrix, \\\n",
    "                             plot_confusion_matrix, \\\n",
    "                             recall_score, precision_score)\n",
    "\n",
    "from sklearn.pipeline import Pipeline\n",
    "from sklearn.model_selection import train_test_split, \\\n",
    "                                    GridSearchCV, \\\n",
    "                                    cross_val_score, \\\n",
    "                                    RandomizedSearchCV\n",
    "\n",
    "from sklearn.preprocessing import StandardScaler\n",
    "from sklearn.dummy import DummyClassifier\n",
    "from scipy.stats import uniform, loguniform\n",
    "\n",
    "# easier to see full text with a bigger maxwidth:\n",
    "pd.options.display.max_colwidth = 200\n",
    "\n",
    "#show grid on plots\n",
    "sns.set_style('darkgrid')"
   ]
  },
  {
   "cell_type": "code",
   "execution_count": 2,
   "metadata": {
    "ExecuteTime": {
     "end_time": "2021-04-29T03:45:59.723529Z",
     "start_time": "2021-04-29T03:45:59.716449Z"
    }
   },
   "outputs": [],
   "source": [
    "#pip install python-Levenshtein\n",
    "#this is for the gensim.similarities.levenshtein submodule"
   ]
  },
  {
   "cell_type": "markdown",
   "metadata": {},
   "source": [
    "- - - \n",
    "\n",
    "### Pull in the files, resulting from our scrapes, into dataframes!"
   ]
  },
  {
   "cell_type": "code",
   "execution_count": 3,
   "metadata": {
    "ExecuteTime": {
     "end_time": "2021-04-29T03:45:59.909494Z",
     "start_time": "2021-04-29T03:45:59.729297Z"
    }
   },
   "outputs": [],
   "source": [
    "movie_deets2 = pd.read_csv('../data_outputs/good_movie_deets2.csv')\n",
    "bad_deets2 = pd.read_csv('../data_outputs/bad_movie_deets2.csv')\n",
    "all_movies = pd.read_csv('../data_outputs/all_movies.csv')"
   ]
  },
  {
   "cell_type": "markdown",
   "metadata": {},
   "source": [
    "### Get basic stats"
   ]
  },
  {
   "cell_type": "markdown",
   "metadata": {},
   "source": [
    "Let's look at basic stats about our data.\n",
    "\n",
    "How many records do we have, prior to cleaning?"
   ]
  },
  {
   "cell_type": "code",
   "execution_count": 4,
   "metadata": {
    "ExecuteTime": {
     "end_time": "2021-04-29T03:45:59.921244Z",
     "start_time": "2021-04-29T03:45:59.911911Z"
    }
   },
   "outputs": [
    {
     "data": {
      "text/plain": [
       "(8805, 9)"
      ]
     },
     "execution_count": 4,
     "metadata": {},
     "output_type": "execute_result"
    }
   ],
   "source": [
    "movie_deets2.shape"
   ]
  },
  {
   "cell_type": "code",
   "execution_count": 5,
   "metadata": {
    "ExecuteTime": {
     "end_time": "2021-04-29T03:45:59.932295Z",
     "start_time": "2021-04-29T03:45:59.925200Z"
    }
   },
   "outputs": [
    {
     "data": {
      "text/plain": [
       "(8180, 9)"
      ]
     },
     "execution_count": 5,
     "metadata": {},
     "output_type": "execute_result"
    }
   ],
   "source": [
    "bad_deets2.shape"
   ]
  },
  {
   "cell_type": "code",
   "execution_count": 6,
   "metadata": {
    "ExecuteTime": {
     "end_time": "2021-04-29T03:45:59.944147Z",
     "start_time": "2021-04-29T03:45:59.935233Z"
    }
   },
   "outputs": [
    {
     "data": {
      "text/plain": [
       "(9404, 9)"
      ]
     },
     "execution_count": 6,
     "metadata": {},
     "output_type": "execute_result"
    }
   ],
   "source": [
    "all_movies.shape"
   ]
  },
  {
   "cell_type": "markdown",
   "metadata": {},
   "source": [
    "What did we pull in?"
   ]
  },
  {
   "cell_type": "code",
   "execution_count": 7,
   "metadata": {
    "ExecuteTime": {
     "end_time": "2021-04-29T03:45:59.975281Z",
     "start_time": "2021-04-29T03:45:59.954868Z"
    },
    "scrolled": true
   },
   "outputs": [
    {
     "data": {
      "text/html": [
       "<div>\n",
       "<style scoped>\n",
       "    .dataframe tbody tr th:only-of-type {\n",
       "        vertical-align: middle;\n",
       "    }\n",
       "\n",
       "    .dataframe tbody tr th {\n",
       "        vertical-align: top;\n",
       "    }\n",
       "\n",
       "    .dataframe thead th {\n",
       "        text-align: right;\n",
       "    }\n",
       "</style>\n",
       "<table border=\"1\" class=\"dataframe\">\n",
       "  <thead>\n",
       "    <tr style=\"text-align: right;\">\n",
       "      <th></th>\n",
       "      <th>title</th>\n",
       "      <th>selftext</th>\n",
       "      <th>subreddit</th>\n",
       "      <th>created_utc</th>\n",
       "      <th>author</th>\n",
       "      <th>is_self</th>\n",
       "      <th>score</th>\n",
       "      <th>num_comments</th>\n",
       "      <th>timestamp</th>\n",
       "    </tr>\n",
       "  </thead>\n",
       "  <tbody>\n",
       "    <tr>\n",
       "      <th>0</th>\n",
       "      <td>Listen,share,repost \"culgrin d mayor\" Africa gorilla volume 1 EP on all PLATFORMS</td>\n",
       "      <td>NaN</td>\n",
       "      <td>MovieDetails</td>\n",
       "      <td>1619213155</td>\n",
       "      <td>culgrin1</td>\n",
       "      <td>False</td>\n",
       "      <td>1</td>\n",
       "      <td>0</td>\n",
       "      <td>2021-04-23</td>\n",
       "    </tr>\n",
       "    <tr>\n",
       "      <th>1</th>\n",
       "      <td>In Repo Man (1984), Miller says to Otto “suppose you're thinkin' about a plate o' shrimp. Suddenly someone'll say, plate, or shrimp, or plate o' shrimp out the blue” as an example of his concept o...</td>\n",
       "      <td>NaN</td>\n",
       "      <td>MovieDetails</td>\n",
       "      <td>1619214866</td>\n",
       "      <td>VictorBlimpmuscle</td>\n",
       "      <td>False</td>\n",
       "      <td>1</td>\n",
       "      <td>12</td>\n",
       "      <td>2021-04-23</td>\n",
       "    </tr>\n",
       "  </tbody>\n",
       "</table>\n",
       "</div>"
      ],
      "text/plain": [
       "                                                                                                                                                                                                     title  \\\n",
       "0                                                                                                                        Listen,share,repost \"culgrin d mayor\" Africa gorilla volume 1 EP on all PLATFORMS   \n",
       "1  In Repo Man (1984), Miller says to Otto “suppose you're thinkin' about a plate o' shrimp. Suddenly someone'll say, plate, or shrimp, or plate o' shrimp out the blue” as an example of his concept o...   \n",
       "\n",
       "  selftext     subreddit  created_utc             author  is_self  score  \\\n",
       "0      NaN  MovieDetails   1619213155           culgrin1    False      1   \n",
       "1      NaN  MovieDetails   1619214866  VictorBlimpmuscle    False      1   \n",
       "\n",
       "   num_comments   timestamp  \n",
       "0             0  2021-04-23  \n",
       "1            12  2021-04-23  "
      ]
     },
     "execution_count": 7,
     "metadata": {},
     "output_type": "execute_result"
    }
   ],
   "source": [
    "movie_deets2.head(2)"
   ]
  },
  {
   "cell_type": "code",
   "execution_count": 8,
   "metadata": {
    "ExecuteTime": {
     "end_time": "2021-04-29T03:45:59.996729Z",
     "start_time": "2021-04-29T03:45:59.981937Z"
    },
    "scrolled": true
   },
   "outputs": [
    {
     "data": {
      "text/html": [
       "<div>\n",
       "<style scoped>\n",
       "    .dataframe tbody tr th:only-of-type {\n",
       "        vertical-align: middle;\n",
       "    }\n",
       "\n",
       "    .dataframe tbody tr th {\n",
       "        vertical-align: top;\n",
       "    }\n",
       "\n",
       "    .dataframe thead th {\n",
       "        text-align: right;\n",
       "    }\n",
       "</style>\n",
       "<table border=\"1\" class=\"dataframe\">\n",
       "  <thead>\n",
       "    <tr style=\"text-align: right;\">\n",
       "      <th></th>\n",
       "      <th>title</th>\n",
       "      <th>selftext</th>\n",
       "      <th>subreddit</th>\n",
       "      <th>created_utc</th>\n",
       "      <th>author</th>\n",
       "      <th>is_self</th>\n",
       "      <th>score</th>\n",
       "      <th>num_comments</th>\n",
       "      <th>timestamp</th>\n",
       "    </tr>\n",
       "  </thead>\n",
       "  <tbody>\n",
       "    <tr>\n",
       "      <th>0</th>\n",
       "      <td>In the movie Bullworth (1998), a police officer is seen not shooting black people.</td>\n",
       "      <td>NaN</td>\n",
       "      <td>shittymoviedetails</td>\n",
       "      <td>1619214935</td>\n",
       "      <td>Wuz314159</td>\n",
       "      <td>False</td>\n",
       "      <td>1</td>\n",
       "      <td>1</td>\n",
       "      <td>2021-04-23</td>\n",
       "    </tr>\n",
       "    <tr>\n",
       "      <th>1</th>\n",
       "      <td>The Nightmare Before Christmas (1993), when he arrives at Christmas Town, Jack sings \"what's this? There's white things in the air\". 22 seconds later he sings \"there are children throwing snowball...</td>\n",
       "      <td>NaN</td>\n",
       "      <td>shittymoviedetails</td>\n",
       "      <td>1619217853</td>\n",
       "      <td>Nerf_Herder86</td>\n",
       "      <td>False</td>\n",
       "      <td>1</td>\n",
       "      <td>0</td>\n",
       "      <td>2021-04-23</td>\n",
       "    </tr>\n",
       "  </tbody>\n",
       "</table>\n",
       "</div>"
      ],
      "text/plain": [
       "                                                                                                                                                                                                     title  \\\n",
       "0                                                                                                                       In the movie Bullworth (1998), a police officer is seen not shooting black people.   \n",
       "1  The Nightmare Before Christmas (1993), when he arrives at Christmas Town, Jack sings \"what's this? There's white things in the air\". 22 seconds later he sings \"there are children throwing snowball...   \n",
       "\n",
       "  selftext           subreddit  created_utc         author  is_self  score  \\\n",
       "0      NaN  shittymoviedetails   1619214935      Wuz314159    False      1   \n",
       "1      NaN  shittymoviedetails   1619217853  Nerf_Herder86    False      1   \n",
       "\n",
       "   num_comments   timestamp  \n",
       "0             1  2021-04-23  \n",
       "1             0  2021-04-23  "
      ]
     },
     "execution_count": 8,
     "metadata": {},
     "output_type": "execute_result"
    }
   ],
   "source": [
    "bad_deets2.head(2)"
   ]
  },
  {
   "cell_type": "code",
   "execution_count": 9,
   "metadata": {
    "ExecuteTime": {
     "end_time": "2021-04-29T03:46:00.036004Z",
     "start_time": "2021-04-29T03:46:00.001615Z"
    },
    "scrolled": true
   },
   "outputs": [
    {
     "data": {
      "text/html": [
       "<div>\n",
       "<style scoped>\n",
       "    .dataframe tbody tr th:only-of-type {\n",
       "        vertical-align: middle;\n",
       "    }\n",
       "\n",
       "    .dataframe tbody tr th {\n",
       "        vertical-align: top;\n",
       "    }\n",
       "\n",
       "    .dataframe thead th {\n",
       "        text-align: right;\n",
       "    }\n",
       "</style>\n",
       "<table border=\"1\" class=\"dataframe\">\n",
       "  <thead>\n",
       "    <tr style=\"text-align: right;\">\n",
       "      <th></th>\n",
       "      <th>title</th>\n",
       "      <th>selftext</th>\n",
       "      <th>subreddit</th>\n",
       "      <th>created_utc</th>\n",
       "      <th>author</th>\n",
       "      <th>is_self</th>\n",
       "      <th>score</th>\n",
       "      <th>num_comments</th>\n",
       "      <th>timestamp</th>\n",
       "    </tr>\n",
       "  </thead>\n",
       "  <tbody>\n",
       "    <tr>\n",
       "      <th>0</th>\n",
       "      <td>Russian sci-fi film about artificial intelligence testing.</td>\n",
       "      <td>NaN</td>\n",
       "      <td>movies</td>\n",
       "      <td>1619216594</td>\n",
       "      <td>Anixx</td>\n",
       "      <td>False</td>\n",
       "      <td>1</td>\n",
       "      <td>0</td>\n",
       "      <td>2021-04-23</td>\n",
       "    </tr>\n",
       "    <tr>\n",
       "      <th>1</th>\n",
       "      <td>Just why! Miranda is not in the Lizzie McGuire Movie and while the movie was still good, there's a huge hole without Miranda especially when they go to a country like Rome. And Miranda was already...</td>\n",
       "      <td>[removed]</td>\n",
       "      <td>movies</td>\n",
       "      <td>1619217134</td>\n",
       "      <td>EvilIceCream1755</td>\n",
       "      <td>True</td>\n",
       "      <td>1</td>\n",
       "      <td>0</td>\n",
       "      <td>2021-04-23</td>\n",
       "    </tr>\n",
       "  </tbody>\n",
       "</table>\n",
       "</div>"
      ],
      "text/plain": [
       "                                                                                                                                                                                                     title  \\\n",
       "0                                                                                                                                               Russian sci-fi film about artificial intelligence testing.   \n",
       "1  Just why! Miranda is not in the Lizzie McGuire Movie and while the movie was still good, there's a huge hole without Miranda especially when they go to a country like Rome. And Miranda was already...   \n",
       "\n",
       "    selftext subreddit  created_utc            author  is_self  score  \\\n",
       "0        NaN    movies   1619216594             Anixx    False      1   \n",
       "1  [removed]    movies   1619217134  EvilIceCream1755     True      1   \n",
       "\n",
       "   num_comments   timestamp  \n",
       "0             0  2021-04-23  \n",
       "1             0  2021-04-23  "
      ]
     },
     "execution_count": 9,
     "metadata": {},
     "output_type": "execute_result"
    }
   ],
   "source": [
    "all_movies.head(2)"
   ]
  },
  {
   "cell_type": "markdown",
   "metadata": {},
   "source": [
    "Let's actually merge our dataframes to make it easier for processing."
   ]
  },
  {
   "cell_type": "code",
   "execution_count": 10,
   "metadata": {
    "ExecuteTime": {
     "end_time": "2021-04-29T03:46:00.066160Z",
     "start_time": "2021-04-29T03:46:00.040225Z"
    }
   },
   "outputs": [
    {
     "data": {
      "text/html": [
       "<div>\n",
       "<style scoped>\n",
       "    .dataframe tbody tr th:only-of-type {\n",
       "        vertical-align: middle;\n",
       "    }\n",
       "\n",
       "    .dataframe tbody tr th {\n",
       "        vertical-align: top;\n",
       "    }\n",
       "\n",
       "    .dataframe thead th {\n",
       "        text-align: right;\n",
       "    }\n",
       "</style>\n",
       "<table border=\"1\" class=\"dataframe\">\n",
       "  <thead>\n",
       "    <tr style=\"text-align: right;\">\n",
       "      <th></th>\n",
       "      <th>title</th>\n",
       "      <th>selftext</th>\n",
       "      <th>subreddit</th>\n",
       "      <th>created_utc</th>\n",
       "      <th>author</th>\n",
       "      <th>is_self</th>\n",
       "      <th>score</th>\n",
       "      <th>num_comments</th>\n",
       "      <th>timestamp</th>\n",
       "    </tr>\n",
       "  </thead>\n",
       "  <tbody>\n",
       "    <tr>\n",
       "      <th>0</th>\n",
       "      <td>In the movie Bullworth (1998), a police officer is seen not shooting black people.</td>\n",
       "      <td>NaN</td>\n",
       "      <td>shittymoviedetails</td>\n",
       "      <td>1619214935</td>\n",
       "      <td>Wuz314159</td>\n",
       "      <td>False</td>\n",
       "      <td>1</td>\n",
       "      <td>1</td>\n",
       "      <td>2021-04-23</td>\n",
       "    </tr>\n",
       "  </tbody>\n",
       "</table>\n",
       "</div>"
      ],
      "text/plain": [
       "                                                                                title  \\\n",
       "0  In the movie Bullworth (1998), a police officer is seen not shooting black people.   \n",
       "\n",
       "  selftext           subreddit  created_utc     author  is_self  score  \\\n",
       "0      NaN  shittymoviedetails   1619214935  Wuz314159    False      1   \n",
       "\n",
       "   num_comments   timestamp  \n",
       "0             1  2021-04-23  "
      ]
     },
     "execution_count": 10,
     "metadata": {},
     "output_type": "execute_result"
    }
   ],
   "source": [
    "#pd.concat([df1, df2])\n",
    "df = pd.concat([bad_deets2, movie_deets2, all_movies])\n",
    "df.head(1)"
   ]
  },
  {
   "cell_type": "code",
   "execution_count": 11,
   "metadata": {
    "ExecuteTime": {
     "end_time": "2021-04-29T03:46:00.081384Z",
     "start_time": "2021-04-29T03:46:00.069943Z"
    }
   },
   "outputs": [
    {
     "data": {
      "text/plain": [
       "(26389, 9)"
      ]
     },
     "execution_count": 11,
     "metadata": {},
     "output_type": "execute_result"
    }
   ],
   "source": [
    "df.shape"
   ]
  },
  {
   "cell_type": "markdown",
   "metadata": {},
   "source": [
    "What data types are we dealing with?"
   ]
  },
  {
   "cell_type": "code",
   "execution_count": 12,
   "metadata": {
    "ExecuteTime": {
     "end_time": "2021-04-29T03:46:00.122117Z",
     "start_time": "2021-04-29T03:46:00.092246Z"
    },
    "scrolled": false
   },
   "outputs": [
    {
     "name": "stdout",
     "output_type": "stream",
     "text": [
      "<class 'pandas.core.frame.DataFrame'>\n",
      "Int64Index: 26389 entries, 0 to 9403\n",
      "Data columns (total 9 columns):\n",
      " #   Column        Non-Null Count  Dtype \n",
      "---  ------        --------------  ----- \n",
      " 0   title         26389 non-null  object\n",
      " 1   selftext      7350 non-null   object\n",
      " 2   subreddit     26389 non-null  object\n",
      " 3   created_utc   26389 non-null  int64 \n",
      " 4   author        26389 non-null  object\n",
      " 5   is_self       26389 non-null  bool  \n",
      " 6   score         26389 non-null  int64 \n",
      " 7   num_comments  26389 non-null  int64 \n",
      " 8   timestamp     26389 non-null  object\n",
      "dtypes: bool(1), int64(3), object(5)\n",
      "memory usage: 1.8+ MB\n"
     ]
    }
   ],
   "source": [
    "df.info()"
   ]
  },
  {
   "cell_type": "markdown",
   "metadata": {},
   "source": [
    "A few objects, like text fields, are expected, and will need to be transformed / vectorized for modeling.\n",
    "\n",
    "Let's also convert the time stamps to a usable format, just in case they come in handy for modeling."
   ]
  },
  {
   "cell_type": "markdown",
   "metadata": {},
   "source": [
    "A few objects, like text fields, are expected, and will need to be transformed / vectorized for modeling.\n",
    "\n",
    "Let's also convert the time stamps to a usable format, just in case they come in handy for modeling. Further, the UTC is actually not really something we want in our model, and it's not really numeric either (it's a datetime concept if anything). Let's take care of that as well."
   ]
  },
  {
   "cell_type": "code",
   "execution_count": 13,
   "metadata": {
    "ExecuteTime": {
     "end_time": "2021-04-29T03:46:06.492045Z",
     "start_time": "2021-04-29T03:46:00.124566Z"
    }
   },
   "outputs": [],
   "source": [
    "#convert time stamps\n",
    "#.apply(pd.to_datetime) - ref.: https://stackoverflow.com/questions/26763344/convert-pandas-column-to-datetime\n",
    "df['timestamp'] = df['timestamp'].apply(pd.to_datetime)\n",
    "df['created_utc'] = df['created_utc'].apply(pd.to_datetime)"
   ]
  },
  {
   "cell_type": "markdown",
   "metadata": {},
   "source": [
    "Now we can try to obtain basic descriptive stats."
   ]
  },
  {
   "cell_type": "code",
   "execution_count": 14,
   "metadata": {
    "ExecuteTime": {
     "end_time": "2021-04-29T03:46:06.529625Z",
     "start_time": "2021-04-29T03:46:06.494216Z"
    },
    "scrolled": true
   },
   "outputs": [
    {
     "data": {
      "text/html": [
       "<div>\n",
       "<style scoped>\n",
       "    .dataframe tbody tr th:only-of-type {\n",
       "        vertical-align: middle;\n",
       "    }\n",
       "\n",
       "    .dataframe tbody tr th {\n",
       "        vertical-align: top;\n",
       "    }\n",
       "\n",
       "    .dataframe thead th {\n",
       "        text-align: right;\n",
       "    }\n",
       "</style>\n",
       "<table border=\"1\" class=\"dataframe\">\n",
       "  <thead>\n",
       "    <tr style=\"text-align: right;\">\n",
       "      <th></th>\n",
       "      <th>score</th>\n",
       "      <th>num_comments</th>\n",
       "    </tr>\n",
       "  </thead>\n",
       "  <tbody>\n",
       "    <tr>\n",
       "      <th>count</th>\n",
       "      <td>26389.0</td>\n",
       "      <td>26389.0</td>\n",
       "    </tr>\n",
       "    <tr>\n",
       "      <th>mean</th>\n",
       "      <td>57.4</td>\n",
       "      <td>18.7</td>\n",
       "    </tr>\n",
       "    <tr>\n",
       "      <th>std</th>\n",
       "      <td>1400.0</td>\n",
       "      <td>124.0</td>\n",
       "    </tr>\n",
       "    <tr>\n",
       "      <th>min</th>\n",
       "      <td>0.0</td>\n",
       "      <td>0.0</td>\n",
       "    </tr>\n",
       "    <tr>\n",
       "      <th>25%</th>\n",
       "      <td>1.0</td>\n",
       "      <td>0.0</td>\n",
       "    </tr>\n",
       "    <tr>\n",
       "      <th>50%</th>\n",
       "      <td>1.0</td>\n",
       "      <td>2.0</td>\n",
       "    </tr>\n",
       "    <tr>\n",
       "      <th>75%</th>\n",
       "      <td>1.0</td>\n",
       "      <td>5.0</td>\n",
       "    </tr>\n",
       "    <tr>\n",
       "      <th>max</th>\n",
       "      <td>72489.0</td>\n",
       "      <td>6036.0</td>\n",
       "    </tr>\n",
       "  </tbody>\n",
       "</table>\n",
       "</div>"
      ],
      "text/plain": [
       "         score  num_comments\n",
       "count  26389.0       26389.0\n",
       "mean      57.4          18.7\n",
       "std     1400.0         124.0\n",
       "min        0.0           0.0\n",
       "25%        1.0           0.0\n",
       "50%        1.0           2.0\n",
       "75%        1.0           5.0\n",
       "max    72489.0        6036.0"
      ]
     },
     "execution_count": 14,
     "metadata": {},
     "output_type": "execute_result"
    }
   ],
   "source": [
    "df.describe().round(1)"
   ]
  },
  {
   "cell_type": "markdown",
   "metadata": {},
   "source": [
    "Not much to look at here at the moment. The notables are the distribution of comments. We'll want to perform some more specific distribution analyses a little down the road, once done with the cleaning, to make more sense out of these stats."
   ]
  },
  {
   "cell_type": "markdown",
   "metadata": {},
   "source": [
    "Where might we have issues with missing data?"
   ]
  },
  {
   "cell_type": "code",
   "execution_count": 15,
   "metadata": {
    "ExecuteTime": {
     "end_time": "2021-04-29T03:46:06.555240Z",
     "start_time": "2021-04-29T03:46:06.534114Z"
    },
    "scrolled": true
   },
   "outputs": [
    {
     "data": {
      "text/plain": [
       "title               0\n",
       "selftext        19039\n",
       "subreddit           0\n",
       "created_utc         0\n",
       "author              0\n",
       "is_self             0\n",
       "score               0\n",
       "num_comments        0\n",
       "timestamp           0\n",
       "dtype: int64"
      ]
     },
     "execution_count": 15,
     "metadata": {},
     "output_type": "execute_result"
    }
   ],
   "source": [
    "df.isnull().sum()"
   ]
  },
  {
   "cell_type": "markdown",
   "metadata": {},
   "source": [
    "- - - \n",
    "\n",
    "### Imputation and cleaning strategy\n",
    "\n",
    "Our strategy is to first remove anything with selftext appearing to have been deleted. Even though these are not read as nulls, they effectively are, for our purposes.\n",
    "\n",
    "We knew that we'd have quite a few issues with missing self-text, when we shose to scrape unfiltered data. To remedy this, we could impute all nulls where self text is missing with the post's title, but this might result in inadvertent text duplicates when we train our model. So, instead, we are going to engineer a new column and merge the self-text and title text. _Note: Attribution for the idea to Riley R._\n",
    "\n",
    "We will further dedupe and get rid of ostensibly spammy looking posts, by adding stop words like \"repost\", \"reshare\", as well as dropping any dominant authors or ones that sound spammy (\"bot\", \"auto\").\n",
    "\n",
    "We will also need to get rid of any link references.\n",
    "\n",
    "Okay, let's start by dropping anything with the word \"removed\" or \"deleted\". It's a tiny portion of our set, so I am not super worried about losing those rows of data."
   ]
  },
  {
   "cell_type": "code",
   "execution_count": 16,
   "metadata": {
    "ExecuteTime": {
     "end_time": "2021-04-29T03:46:06.601707Z",
     "start_time": "2021-04-29T03:46:06.557447Z"
    }
   },
   "outputs": [],
   "source": [
    "#df[~df['col'].str.contains('value1|value2')]\n",
    "#syntactic ref from https://stackoverflow.com/questions/52297740/typeerror-bad-operand-type-for-unary-float\n",
    "\n",
    "df = df[~df['selftext'].str.contains('deleted|removed', na=False)]\n",
    "\n",
    "#df = df[df.selftext != 'deleted']\n",
    "#df = df[df.selftext != 'removed']"
   ]
  },
  {
   "cell_type": "code",
   "execution_count": 17,
   "metadata": {
    "ExecuteTime": {
     "end_time": "2021-04-29T03:46:06.618531Z",
     "start_time": "2021-04-29T03:46:06.603894Z"
    }
   },
   "outputs": [
    {
     "data": {
      "text/html": [
       "<div>\n",
       "<style scoped>\n",
       "    .dataframe tbody tr th:only-of-type {\n",
       "        vertical-align: middle;\n",
       "    }\n",
       "\n",
       "    .dataframe tbody tr th {\n",
       "        vertical-align: top;\n",
       "    }\n",
       "\n",
       "    .dataframe thead th {\n",
       "        text-align: right;\n",
       "    }\n",
       "</style>\n",
       "<table border=\"1\" class=\"dataframe\">\n",
       "  <thead>\n",
       "    <tr style=\"text-align: right;\">\n",
       "      <th></th>\n",
       "      <th>title</th>\n",
       "      <th>selftext</th>\n",
       "      <th>subreddit</th>\n",
       "      <th>created_utc</th>\n",
       "      <th>author</th>\n",
       "      <th>is_self</th>\n",
       "      <th>score</th>\n",
       "      <th>num_comments</th>\n",
       "      <th>timestamp</th>\n",
       "    </tr>\n",
       "  </thead>\n",
       "  <tbody>\n",
       "    <tr>\n",
       "      <th>0</th>\n",
       "      <td>In the movie Bullworth (1998), a police officer is seen not shooting black people.</td>\n",
       "      <td>NaN</td>\n",
       "      <td>shittymoviedetails</td>\n",
       "      <td>1970-01-01 00:00:01.619214935</td>\n",
       "      <td>Wuz314159</td>\n",
       "      <td>False</td>\n",
       "      <td>1</td>\n",
       "      <td>1</td>\n",
       "      <td>2021-04-23</td>\n",
       "    </tr>\n",
       "  </tbody>\n",
       "</table>\n",
       "</div>"
      ],
      "text/plain": [
       "                                                                                title  \\\n",
       "0  In the movie Bullworth (1998), a police officer is seen not shooting black people.   \n",
       "\n",
       "  selftext           subreddit                   created_utc     author  \\\n",
       "0      NaN  shittymoviedetails 1970-01-01 00:00:01.619214935  Wuz314159   \n",
       "\n",
       "   is_self  score  num_comments  timestamp  \n",
       "0    False      1             1 2021-04-23  "
      ]
     },
     "execution_count": 17,
     "metadata": {},
     "output_type": "execute_result"
    }
   ],
   "source": [
    "#check\n",
    "df.head(1)"
   ]
  },
  {
   "cell_type": "markdown",
   "metadata": {},
   "source": [
    "Let's confirm that those bad rows are gone."
   ]
  },
  {
   "cell_type": "code",
   "execution_count": 18,
   "metadata": {
    "ExecuteTime": {
     "end_time": "2021-04-29T03:46:06.640847Z",
     "start_time": "2021-04-29T03:46:06.623426Z"
    }
   },
   "outputs": [
    {
     "data": {
      "text/plain": [
       "#Poll\\n\\n**If you've seen the film, please rate it [at this poll](https://youpoll.me/48026/)**\\n\\n**If you haven't seen the film but would like to see the result of the poll [click here](https://youpoll.me/48026/r)**\\n\\n#Rankings\\n\\n[Click here](https://youpoll.me/list/50/) to see the rankings of 2020 films\\n\\n[Click here](https://youpoll.me/list/4/) to see the rankings for every poll done\\n\\n---\\n**Summary:**\\n\\nSpotlights the true story of Leroy Logan, who at a young age saw his father assaulted by two policemen, motivating him to join the Metropolitan Police and change their racist attitudes from within.\\n\\n**Director:**\\n\\nSteve McQueen\\n\\n**Writers:**\\n\\nSteve McQueen, Courttia Newland\\n\\n**Cast:**\\n\\n* John Boyega as Leroy Logan\\n* Steve Toussaint as Ken Logan\\n* Joy Richardson as Mrs. Logan\\n* Antonia Thomas as Gretl\\n* Seroca Davis as Hyacinth\\n* Liam Garrigan as Greg Huggan\\n* Tyrone Huntley as Leee John\\n\\n--\\n**Rotten Tomatoes:** N/A\\n\\n**Metacritic:** [85](https://www.metacritic.com/movie/small-axe-red-white-and-blue)\\n\\n**VOD:** Amazon Prime    2\n",
       "Rachel Marrons sister hires a hitman to kill her successful sister but the reasons why are vague and explained in just a few minutes and never spoken about again. Also the sister never shows any outward resentment for her sister in any way throughout the movie which leaves her character severely underdeveloped.                                                                                                                                                                                                                                                                                                                                                                                                                                                                                                                                                                                                                                                                                                                                                                                          2\n",
       "Name: selftext, dtype: int64"
      ]
     },
     "execution_count": 18,
     "metadata": {},
     "output_type": "execute_result"
    }
   ],
   "source": [
    "#check again that removed and deleted selftexts are no longer in frame\n",
    "df['selftext'].value_counts().sort_values(ascending=False)[:2]"
   ]
  },
  {
   "cell_type": "markdown",
   "metadata": {},
   "source": [
    "We should see the dropped rows reflected in the shape."
   ]
  },
  {
   "cell_type": "code",
   "execution_count": 19,
   "metadata": {
    "ExecuteTime": {
     "end_time": "2021-04-29T03:46:06.653246Z",
     "start_time": "2021-04-29T03:46:06.643761Z"
    }
   },
   "outputs": [
    {
     "data": {
      "text/plain": [
       "(21798, 9)"
      ]
     },
     "execution_count": 19,
     "metadata": {},
     "output_type": "execute_result"
    }
   ],
   "source": [
    "#Confirm data frame has shrunk by 227 rows\n",
    "df.shape"
   ]
  },
  {
   "cell_type": "markdown",
   "metadata": {},
   "source": [
    "Finally, the nulls should still be intact -- we are going to take care of that in a moment."
   ]
  },
  {
   "cell_type": "code",
   "execution_count": 20,
   "metadata": {
    "ExecuteTime": {
     "end_time": "2021-04-29T03:46:06.673604Z",
     "start_time": "2021-04-29T03:46:06.657544Z"
    },
    "scrolled": true
   },
   "outputs": [
    {
     "data": {
      "text/plain": [
       "title               0\n",
       "selftext        19039\n",
       "subreddit           0\n",
       "created_utc         0\n",
       "author              0\n",
       "is_self             0\n",
       "score               0\n",
       "num_comments        0\n",
       "timestamp           0\n",
       "dtype: int64"
      ]
     },
     "execution_count": 20,
     "metadata": {},
     "output_type": "execute_result"
    }
   ],
   "source": [
    "df.isnull().sum()"
   ]
  },
  {
   "cell_type": "markdown",
   "metadata": {},
   "source": [
    "We also need to get rid of the link mentions."
   ]
  },
  {
   "cell_type": "code",
   "execution_count": 21,
   "metadata": {
    "ExecuteTime": {
     "end_time": "2021-04-29T03:46:06.755821Z",
     "start_time": "2021-04-29T03:46:06.675745Z"
    }
   },
   "outputs": [],
   "source": [
    "#df['column'] = df['column'].replace(r'http\\S+', '', regex=True).replace(r'www\\S+', '', regex=True)\n",
    "#from https://stackoverflow.com/questions/51994254/removing-url-from-a-column-in-pandas-dataframe/51994366\n",
    "\n",
    "df['selftext'] = df['selftext'].replace(r'http\\S+', '', regex=True).replace(\n",
    "    r'www\\S+', '', regex=True).replace(r'\\&amp\\S+', '', regex=True)"
   ]
  },
  {
   "cell_type": "code",
   "execution_count": 22,
   "metadata": {
    "ExecuteTime": {
     "end_time": "2021-04-29T03:46:06.767521Z",
     "start_time": "2021-04-29T03:46:06.757896Z"
    }
   },
   "outputs": [
    {
     "data": {
      "text/plain": [
       "pandas.core.series.Series"
      ]
     },
     "execution_count": 22,
     "metadata": {},
     "output_type": "execute_result"
    }
   ],
   "source": [
    "type(df['selftext'])"
   ]
  },
  {
   "cell_type": "code",
   "execution_count": 23,
   "metadata": {
    "ExecuteTime": {
     "end_time": "2021-04-29T03:46:07.621000Z",
     "start_time": "2021-04-29T03:46:06.775020Z"
    }
   },
   "outputs": [],
   "source": [
    "#from https://stackoverflow.com/questions/44227748/removing-newlines-from-messy-strings-in-pandas-dataframe-cells\n",
    "\n",
    "df.replace(to_replace=[r\"\\\\t|\\\\n|\\\\r\", \"\\t|\\n|\\r\"], value=[\"\",\"\"], regex=True, inplace=True)\n",
    "\n",
    "df = df.replace(r'\\\\n',' ', regex=True) "
   ]
  },
  {
   "cell_type": "markdown",
   "metadata": {},
   "source": [
    "Now let's create our all-text column that we'll train on later.\n",
    "\n",
    "However, we still need an imputation strategy for the NaNs. I'm choosing to fill them in with spaces."
   ]
  },
  {
   "cell_type": "code",
   "execution_count": 24,
   "metadata": {
    "ExecuteTime": {
     "end_time": "2021-04-29T03:46:07.631710Z",
     "start_time": "2021-04-29T03:46:07.624827Z"
    }
   },
   "outputs": [],
   "source": [
    "#nuke nulls\n",
    "df['selftext'].fillna(' ', inplace=True)"
   ]
  },
  {
   "cell_type": "code",
   "execution_count": 25,
   "metadata": {
    "ExecuteTime": {
     "end_time": "2021-04-29T03:46:07.719531Z",
     "start_time": "2021-04-29T03:46:07.636124Z"
    }
   },
   "outputs": [
    {
     "data": {
      "text/html": [
       "<div>\n",
       "<style scoped>\n",
       "    .dataframe tbody tr th:only-of-type {\n",
       "        vertical-align: middle;\n",
       "    }\n",
       "\n",
       "    .dataframe tbody tr th {\n",
       "        vertical-align: top;\n",
       "    }\n",
       "\n",
       "    .dataframe thead th {\n",
       "        text-align: right;\n",
       "    }\n",
       "</style>\n",
       "<table border=\"1\" class=\"dataframe\">\n",
       "  <thead>\n",
       "    <tr style=\"text-align: right;\">\n",
       "      <th></th>\n",
       "      <th>title</th>\n",
       "      <th>selftext</th>\n",
       "      <th>subreddit</th>\n",
       "      <th>created_utc</th>\n",
       "      <th>author</th>\n",
       "      <th>is_self</th>\n",
       "      <th>score</th>\n",
       "      <th>num_comments</th>\n",
       "      <th>timestamp</th>\n",
       "      <th>all_text</th>\n",
       "    </tr>\n",
       "  </thead>\n",
       "  <tbody>\n",
       "    <tr>\n",
       "      <th>0</th>\n",
       "      <td>In the movie Bullworth (1998), a police officer is seen not shooting black people.</td>\n",
       "      <td></td>\n",
       "      <td>shittymoviedetails</td>\n",
       "      <td>1970-01-01 00:00:01.619214935</td>\n",
       "      <td>Wuz314159</td>\n",
       "      <td>False</td>\n",
       "      <td>1</td>\n",
       "      <td>1</td>\n",
       "      <td>2021-04-23</td>\n",
       "      <td>In the movie Bullworth (1998), a police officer is seen not shooting black people..</td>\n",
       "    </tr>\n",
       "    <tr>\n",
       "      <th>13</th>\n",
       "      <td>After the commercial success of Kitchen Gun™ and Toilet Grenade™, Peter Serafinowicz expanded his business to offer a larger variety of cleaning products in John Wick: Chapter 2</td>\n",
       "      <td></td>\n",
       "      <td>shittymoviedetails</td>\n",
       "      <td>1970-01-01 00:00:01.619251458</td>\n",
       "      <td>Raoshard</td>\n",
       "      <td>False</td>\n",
       "      <td>1</td>\n",
       "      <td>46</td>\n",
       "      <td>2021-04-24</td>\n",
       "      <td>After the commercial success of Kitchen Gun™ and Toilet Grenade™, Peter Serafinowicz expanded his business to offer a larger variety of cleaning products in John Wick: Chapter 2.</td>\n",
       "    </tr>\n",
       "    <tr>\n",
       "      <th>23</th>\n",
       "      <td>Guy makes his interestingly bizarre rendition that's addictive</td>\n",
       "      <td></td>\n",
       "      <td>shittymoviedetails</td>\n",
       "      <td>1970-01-01 00:00:01.619283112</td>\n",
       "      <td>TitsAmazing</td>\n",
       "      <td>False</td>\n",
       "      <td>1</td>\n",
       "      <td>0</td>\n",
       "      <td>2021-04-24</td>\n",
       "      <td>Guy makes his interestingly bizarre rendition that's addictive.</td>\n",
       "    </tr>\n",
       "    <tr>\n",
       "      <th>22</th>\n",
       "      <td>The film title No Country For Old Men (2007) refers to the fact that Florida is not, in fact, a country. It is a state.</td>\n",
       "      <td></td>\n",
       "      <td>shittymoviedetails</td>\n",
       "      <td>1970-01-01 00:00:01.619282093</td>\n",
       "      <td>NuclearJesusMan</td>\n",
       "      <td>False</td>\n",
       "      <td>1</td>\n",
       "      <td>5</td>\n",
       "      <td>2021-04-24</td>\n",
       "      <td>The film title No Country For Old Men (2007) refers to the fact that Florida is not, in fact, a country. It is a state..</td>\n",
       "    </tr>\n",
       "    <tr>\n",
       "      <th>21</th>\n",
       "      <td>In 2001: A Space Odyssey (1968), much of the film focuses on characters walking slowly, in silence. This is a reference to the fact that holy fuck this movie is boring as all hell.</td>\n",
       "      <td></td>\n",
       "      <td>shittymoviedetails</td>\n",
       "      <td>1970-01-01 00:00:01.619281182</td>\n",
       "      <td>NuclearJesusMan</td>\n",
       "      <td>False</td>\n",
       "      <td>1</td>\n",
       "      <td>20</td>\n",
       "      <td>2021-04-24</td>\n",
       "      <td>In 2001: A Space Odyssey (1968), much of the film focuses on characters walking slowly, in silence. This is a reference to the fact that holy fuck this movie is boring as all hell..</td>\n",
       "    </tr>\n",
       "    <tr>\n",
       "      <th>20</th>\n",
       "      <td>In Captain America : The Winter Soldier (2014), the Winter Soldier looks like a crab in this scene. This is a reference to the actors name Sebastian, who is a crab in another Disney film, The Litt...</td>\n",
       "      <td></td>\n",
       "      <td>shittymoviedetails</td>\n",
       "      <td>1970-01-01 00:00:01.619280462</td>\n",
       "      <td>KennKennyKenKen</td>\n",
       "      <td>False</td>\n",
       "      <td>1</td>\n",
       "      <td>61</td>\n",
       "      <td>2021-04-24</td>\n",
       "      <td>In Captain America : The Winter Soldier (2014), the Winter Soldier looks like a crab in this scene. This is a reference to the actors name Sebastian, who is a crab in another Disney film, The Litt...</td>\n",
       "    </tr>\n",
       "    <tr>\n",
       "      <th>19</th>\n",
       "      <td>In Justice League (2021) the kid from the liquor store whom Bruce was referring to is actually McLovin.</td>\n",
       "      <td></td>\n",
       "      <td>shittymoviedetails</td>\n",
       "      <td>1970-01-01 00:00:01.619278471</td>\n",
       "      <td>pale_guy_</td>\n",
       "      <td>False</td>\n",
       "      <td>1</td>\n",
       "      <td>0</td>\n",
       "      <td>2021-04-24</td>\n",
       "      <td>In Justice League (2021) the kid from the liquor store whom Bruce was referring to is actually McLovin..</td>\n",
       "    </tr>\n",
       "    <tr>\n",
       "      <th>18</th>\n",
       "      <td>Captain America 4 (TBA) has recently been announced. Here is the leaked trailer.</td>\n",
       "      <td></td>\n",
       "      <td>shittymoviedetails</td>\n",
       "      <td>1970-01-01 00:00:01.619277392</td>\n",
       "      <td>KennKennyKenKen</td>\n",
       "      <td>False</td>\n",
       "      <td>1</td>\n",
       "      <td>13</td>\n",
       "      <td>2021-04-24</td>\n",
       "      <td>Captain America 4 (TBA) has recently been announced. Here is the leaked trailer..</td>\n",
       "    </tr>\n",
       "    <tr>\n",
       "      <th>17</th>\n",
       "      <td>In The Curious Case of Benjamin Button (2008) Brad Pitt became old because fight clubs can really take a toll on a guy.</td>\n",
       "      <td></td>\n",
       "      <td>shittymoviedetails</td>\n",
       "      <td>1970-01-01 00:00:01.619275733</td>\n",
       "      <td>pale_guy_</td>\n",
       "      <td>False</td>\n",
       "      <td>1</td>\n",
       "      <td>0</td>\n",
       "      <td>2021-04-24</td>\n",
       "      <td>In The Curious Case of Benjamin Button (2008) Brad Pitt became old because fight clubs can really take a toll on a guy..</td>\n",
       "    </tr>\n",
       "    <tr>\n",
       "      <th>16</th>\n",
       "      <td>in mortal kombat, Hanzo says Cole Young \"don’t let the bloodline die [in Japanese]” Cole Young:</td>\n",
       "      <td></td>\n",
       "      <td>shittymoviedetails</td>\n",
       "      <td>1970-01-01 00:00:01.619270578</td>\n",
       "      <td>invertedparadX</td>\n",
       "      <td>False</td>\n",
       "      <td>1</td>\n",
       "      <td>0</td>\n",
       "      <td>2021-04-24</td>\n",
       "      <td>in mortal kombat, Hanzo says Cole Young \"don’t let the bloodline die [in Japanese]” Cole Young:.</td>\n",
       "    </tr>\n",
       "    <tr>\n",
       "      <th>15</th>\n",
       "      <td>In The Falcon And The Winter Soldier, Sam becomes the new Captain America despite having no super soldier serum is a reference to the practice of affirmative action.</td>\n",
       "      <td></td>\n",
       "      <td>shittymoviedetails</td>\n",
       "      <td>1970-01-01 00:00:01.619266974</td>\n",
       "      <td>endgamespoilerbot</td>\n",
       "      <td>False</td>\n",
       "      <td>1</td>\n",
       "      <td>1</td>\n",
       "      <td>2021-04-24</td>\n",
       "      <td>In The Falcon And The Winter Soldier, Sam becomes the new Captain America despite having no super soldier serum is a reference to the practice of affirmative action..</td>\n",
       "    </tr>\n",
       "    <tr>\n",
       "      <th>14</th>\n",
       "      <td>Dbz Budokai Opening Story Mode (PS2)</td>\n",
       "      <td></td>\n",
       "      <td>shittymoviedetails</td>\n",
       "      <td>1970-01-01 00:00:01.619259493</td>\n",
       "      <td>Aggressive_Touch635</td>\n",
       "      <td>False</td>\n",
       "      <td>1</td>\n",
       "      <td>2</td>\n",
       "      <td>2021-04-24</td>\n",
       "      <td>Dbz Budokai Opening Story Mode (PS2).</td>\n",
       "    </tr>\n",
       "    <tr>\n",
       "      <th>12</th>\n",
       "      <td>/r/shittymoviedetails hit 600k subscribers yesterday</td>\n",
       "      <td></td>\n",
       "      <td>shittymoviedetails</td>\n",
       "      <td>1970-01-01 00:00:01.619248539</td>\n",
       "      <td>TrendingBot</td>\n",
       "      <td>False</td>\n",
       "      <td>1</td>\n",
       "      <td>0</td>\n",
       "      <td>2021-04-24</td>\n",
       "      <td>/r/shittymoviedetails hit 600k subscribers yesterday.</td>\n",
       "    </tr>\n",
       "    <tr>\n",
       "      <th>1</th>\n",
       "      <td>The Nightmare Before Christmas (1993), when he arrives at Christmas Town, Jack sings \"what's this? There's white things in the air\". 22 seconds later he sings \"there are children throwing snowball...</td>\n",
       "      <td></td>\n",
       "      <td>shittymoviedetails</td>\n",
       "      <td>1970-01-01 00:00:01.619217853</td>\n",
       "      <td>Nerf_Herder86</td>\n",
       "      <td>False</td>\n",
       "      <td>1</td>\n",
       "      <td>0</td>\n",
       "      <td>2021-04-23</td>\n",
       "      <td>The Nightmare Before Christmas (1993), when he arrives at Christmas Town, Jack sings \"what's this? There's white things in the air\". 22 seconds later he sings \"there are children throwing snowball...</td>\n",
       "    </tr>\n",
       "    <tr>\n",
       "      <th>11</th>\n",
       "      <td>In Game of Thrones Season 8, Daenerys’ last words are “we break the wheel together” which spelled backwards says “rehtegot leehw eht kaerb ew” which doesn’t make sense just like the rest of season 8.</td>\n",
       "      <td></td>\n",
       "      <td>shittymoviedetails</td>\n",
       "      <td>1970-01-01 00:00:01.619248335</td>\n",
       "      <td>liquidInanna</td>\n",
       "      <td>False</td>\n",
       "      <td>1</td>\n",
       "      <td>4</td>\n",
       "      <td>2021-04-24</td>\n",
       "      <td>In Game of Thrones Season 8, Daenerys’ last words are “we break the wheel together” which spelled backwards says “rehtegot leehw eht kaerb ew” which doesn’t make sense just like the rest of season...</td>\n",
       "    </tr>\n",
       "    <tr>\n",
       "      <th>9</th>\n",
       "      <td>In the movie Stowaway(2021) a crew is traveling to Mars. The journey is supposed to take 2 years. Everyone is so boring, that the leading character exits the spaceship and dies alone outside.</td>\n",
       "      <td></td>\n",
       "      <td>shittymoviedetails</td>\n",
       "      <td>1970-01-01 00:00:01.619237800</td>\n",
       "      <td>Gyros45</td>\n",
       "      <td>False</td>\n",
       "      <td>1</td>\n",
       "      <td>2</td>\n",
       "      <td>2021-04-23</td>\n",
       "      <td>In the movie Stowaway(2021) a crew is traveling to Mars. The journey is supposed to take 2 years. Everyone is so boring, that the leading character exits the spaceship and dies alone outside..</td>\n",
       "    </tr>\n",
       "    <tr>\n",
       "      <th>8</th>\n",
       "      <td>American Beauty was supposed to be a prequel to Se7en but the plot got diluted so bad that it became an entirely different movie.</td>\n",
       "      <td></td>\n",
       "      <td>shittymoviedetails</td>\n",
       "      <td>1970-01-01 00:00:01.619234366</td>\n",
       "      <td>Dingus_fartsniffer</td>\n",
       "      <td>True</td>\n",
       "      <td>1</td>\n",
       "      <td>2</td>\n",
       "      <td>2021-04-23</td>\n",
       "      <td>American Beauty was supposed to be a prequel to Se7en but the plot got diluted so bad that it became an entirely different movie..</td>\n",
       "    </tr>\n",
       "    <tr>\n",
       "      <th>7</th>\n",
       "      <td>The casting of Hugh Jackman as Wolverine was both a shock and inconvenience to him because of communication errors. It was decided early on that they needed a \"Huge Actor\" to play the popular char...</td>\n",
       "      <td></td>\n",
       "      <td>shittymoviedetails</td>\n",
       "      <td>1970-01-01 00:00:01.619229514</td>\n",
       "      <td>YouGoThatWayIllGoHom</td>\n",
       "      <td>False</td>\n",
       "      <td>1</td>\n",
       "      <td>4</td>\n",
       "      <td>2021-04-23</td>\n",
       "      <td>The casting of Hugh Jackman as Wolverine was both a shock and inconvenience to him because of communication errors. It was decided early on that they needed a \"Huge Actor\" to play the popular char...</td>\n",
       "    </tr>\n",
       "    <tr>\n",
       "      <th>6</th>\n",
       "      <td>I can’t believe they spent $90 million on this movie and no one pointed out that there’s a typo in the title</td>\n",
       "      <td></td>\n",
       "      <td>shittymoviedetails</td>\n",
       "      <td>1970-01-01 00:00:01.619228584</td>\n",
       "      <td>invertedparadX</td>\n",
       "      <td>False</td>\n",
       "      <td>1</td>\n",
       "      <td>166</td>\n",
       "      <td>2021-04-23</td>\n",
       "      <td>I can’t believe they spent $90 million on this movie and no one pointed out that there’s a typo in the title.</td>\n",
       "    </tr>\n",
       "    <tr>\n",
       "      <th>5</th>\n",
       "      <td>In Mortal Kombat (2021) in this scene you can clearly see a crew member in the shot. Very irresponsible!</td>\n",
       "      <td></td>\n",
       "      <td>shittymoviedetails</td>\n",
       "      <td>1970-01-01 00:00:01.619227354</td>\n",
       "      <td>MyHandsAreGone</td>\n",
       "      <td>False</td>\n",
       "      <td>1</td>\n",
       "      <td>0</td>\n",
       "      <td>2021-04-23</td>\n",
       "      <td>In Mortal Kombat (2021) in this scene you can clearly see a crew member in the shot. Very irresponsible!.</td>\n",
       "    </tr>\n",
       "    <tr>\n",
       "      <th>4</th>\n",
       "      <td>johnny cage could not appear in mortal kombat due to scheduling conflicts shooting the real world: back at it like a crack addict</td>\n",
       "      <td></td>\n",
       "      <td>shittymoviedetails</td>\n",
       "      <td>1970-01-01 00:00:01.619227056</td>\n",
       "      <td>invertedparadX</td>\n",
       "      <td>False</td>\n",
       "      <td>1</td>\n",
       "      <td>0</td>\n",
       "      <td>2021-04-23</td>\n",
       "      <td>johnny cage could not appear in mortal kombat due to scheduling conflicts shooting the real world: back at it like a crack addict.</td>\n",
       "    </tr>\n",
       "    <tr>\n",
       "      <th>3</th>\n",
       "      <td>In Frozen (2013) Anna asks \"Why have a ballroom with no balls?\" This is a direct reference to there being no males in the kingdom.</td>\n",
       "      <td></td>\n",
       "      <td>shittymoviedetails</td>\n",
       "      <td>1970-01-01 00:00:01.619223942</td>\n",
       "      <td>aceswild347</td>\n",
       "      <td>False</td>\n",
       "      <td>1</td>\n",
       "      <td>6</td>\n",
       "      <td>2021-04-23</td>\n",
       "      <td>In Frozen (2013) Anna asks \"Why have a ballroom with no balls?\" This is a direct reference to there being no males in the kingdom..</td>\n",
       "    </tr>\n",
       "    <tr>\n",
       "      <th>2</th>\n",
       "      <td>In Bumblebee (2018), we see a roll of toilet paper, which is used to get rid of shit, in the revenge scene. This is a reference to how this reboot is getting rid of the shit that Michael Bay made ...</td>\n",
       "      <td></td>\n",
       "      <td>shittymoviedetails</td>\n",
       "      <td>1970-01-01 00:00:01.619220585</td>\n",
       "      <td>dontcommitnorespawn</td>\n",
       "      <td>False</td>\n",
       "      <td>1</td>\n",
       "      <td>3</td>\n",
       "      <td>2021-04-23</td>\n",
       "      <td>In Bumblebee (2018), we see a roll of toilet paper, which is used to get rid of shit, in the revenge scene. This is a reference to how this reboot is getting rid of the shit that Michael Bay made ...</td>\n",
       "    </tr>\n",
       "    <tr>\n",
       "      <th>24</th>\n",
       "      <td>Your mama took you to karate class next door to a dollar store; next thing you know, you fighting dudes from another dimension throwing fire balls &amp;amp; ice spears, like sensei didn't teach you an...</td>\n",
       "      <td></td>\n",
       "      <td>shittymoviedetails</td>\n",
       "      <td>1970-01-01 00:00:01.619284669</td>\n",
       "      <td>invertedparadX</td>\n",
       "      <td>False</td>\n",
       "      <td>1</td>\n",
       "      <td>0</td>\n",
       "      <td>2021-04-24</td>\n",
       "      <td>Your mama took you to karate class next door to a dollar store; next thing you know, you fighting dudes from another dimension throwing fire balls &amp;amp; ice spears, like sensei didn't teach you an...</td>\n",
       "    </tr>\n",
       "    <tr>\n",
       "      <th>10</th>\n",
       "      <td>In Mortal Kombat (2021) the garden gnomes give the main characters the creeps because they cum on their hands</td>\n",
       "      <td></td>\n",
       "      <td>shittymoviedetails</td>\n",
       "      <td>1970-01-01 00:00:01.619238570</td>\n",
       "      <td>mtndew7</td>\n",
       "      <td>True</td>\n",
       "      <td>1</td>\n",
       "      <td>1</td>\n",
       "      <td>2021-04-23</td>\n",
       "      <td>In Mortal Kombat (2021) the garden gnomes give the main characters the creeps because they cum on their hands.</td>\n",
       "    </tr>\n",
       "  </tbody>\n",
       "</table>\n",
       "</div>"
      ],
      "text/plain": [
       "                                                                                                                                                                                                      title  \\\n",
       "0                                                                                                                        In the movie Bullworth (1998), a police officer is seen not shooting black people.   \n",
       "13                        After the commercial success of Kitchen Gun™ and Toilet Grenade™, Peter Serafinowicz expanded his business to offer a larger variety of cleaning products in John Wick: Chapter 2   \n",
       "23                                                                                                                                           Guy makes his interestingly bizarre rendition that's addictive   \n",
       "22                                                                                  The film title No Country For Old Men (2007) refers to the fact that Florida is not, in fact, a country. It is a state.   \n",
       "21                     In 2001: A Space Odyssey (1968), much of the film focuses on characters walking slowly, in silence. This is a reference to the fact that holy fuck this movie is boring as all hell.   \n",
       "20  In Captain America : The Winter Soldier (2014), the Winter Soldier looks like a crab in this scene. This is a reference to the actors name Sebastian, who is a crab in another Disney film, The Litt...   \n",
       "19                                                                                                  In Justice League (2021) the kid from the liquor store whom Bruce was referring to is actually McLovin.   \n",
       "18                                                                                                                         Captain America 4 (TBA) has recently been announced. Here is the leaked trailer.   \n",
       "17                                                                                  In The Curious Case of Benjamin Button (2008) Brad Pitt became old because fight clubs can really take a toll on a guy.   \n",
       "16                                                                                                          in mortal kombat, Hanzo says Cole Young \"don’t let the bloodline die [in Japanese]” Cole Young:   \n",
       "15                                    In The Falcon And The Winter Soldier, Sam becomes the new Captain America despite having no super soldier serum is a reference to the practice of affirmative action.   \n",
       "14                                                                                                                                                                     Dbz Budokai Opening Story Mode (PS2)   \n",
       "12                                                                                                                                                     /r/shittymoviedetails hit 600k subscribers yesterday   \n",
       "1   The Nightmare Before Christmas (1993), when he arrives at Christmas Town, Jack sings \"what's this? There's white things in the air\". 22 seconds later he sings \"there are children throwing snowball...   \n",
       "11  In Game of Thrones Season 8, Daenerys’ last words are “we break the wheel together” which spelled backwards says “rehtegot leehw eht kaerb ew” which doesn’t make sense just like the rest of season 8.   \n",
       "9           In the movie Stowaway(2021) a crew is traveling to Mars. The journey is supposed to take 2 years. Everyone is so boring, that the leading character exits the spaceship and dies alone outside.   \n",
       "8                                                                         American Beauty was supposed to be a prequel to Se7en but the plot got diluted so bad that it became an entirely different movie.   \n",
       "7   The casting of Hugh Jackman as Wolverine was both a shock and inconvenience to him because of communication errors. It was decided early on that they needed a \"Huge Actor\" to play the popular char...   \n",
       "6                                                                                              I can’t believe they spent $90 million on this movie and no one pointed out that there’s a typo in the title   \n",
       "5                                                                                                  In Mortal Kombat (2021) in this scene you can clearly see a crew member in the shot. Very irresponsible!   \n",
       "4                                                                         johnny cage could not appear in mortal kombat due to scheduling conflicts shooting the real world: back at it like a crack addict   \n",
       "3                                                                        In Frozen (2013) Anna asks \"Why have a ballroom with no balls?\" This is a direct reference to there being no males in the kingdom.   \n",
       "2   In Bumblebee (2018), we see a roll of toilet paper, which is used to get rid of shit, in the revenge scene. This is a reference to how this reboot is getting rid of the shit that Michael Bay made ...   \n",
       "24  Your mama took you to karate class next door to a dollar store; next thing you know, you fighting dudes from another dimension throwing fire balls &amp; ice spears, like sensei didn't teach you an...   \n",
       "10                                                                                            In Mortal Kombat (2021) the garden gnomes give the main characters the creeps because they cum on their hands   \n",
       "\n",
       "   selftext           subreddit                   created_utc  \\\n",
       "0            shittymoviedetails 1970-01-01 00:00:01.619214935   \n",
       "13           shittymoviedetails 1970-01-01 00:00:01.619251458   \n",
       "23           shittymoviedetails 1970-01-01 00:00:01.619283112   \n",
       "22           shittymoviedetails 1970-01-01 00:00:01.619282093   \n",
       "21           shittymoviedetails 1970-01-01 00:00:01.619281182   \n",
       "20           shittymoviedetails 1970-01-01 00:00:01.619280462   \n",
       "19           shittymoviedetails 1970-01-01 00:00:01.619278471   \n",
       "18           shittymoviedetails 1970-01-01 00:00:01.619277392   \n",
       "17           shittymoviedetails 1970-01-01 00:00:01.619275733   \n",
       "16           shittymoviedetails 1970-01-01 00:00:01.619270578   \n",
       "15           shittymoviedetails 1970-01-01 00:00:01.619266974   \n",
       "14           shittymoviedetails 1970-01-01 00:00:01.619259493   \n",
       "12           shittymoviedetails 1970-01-01 00:00:01.619248539   \n",
       "1            shittymoviedetails 1970-01-01 00:00:01.619217853   \n",
       "11           shittymoviedetails 1970-01-01 00:00:01.619248335   \n",
       "9            shittymoviedetails 1970-01-01 00:00:01.619237800   \n",
       "8            shittymoviedetails 1970-01-01 00:00:01.619234366   \n",
       "7            shittymoviedetails 1970-01-01 00:00:01.619229514   \n",
       "6            shittymoviedetails 1970-01-01 00:00:01.619228584   \n",
       "5            shittymoviedetails 1970-01-01 00:00:01.619227354   \n",
       "4            shittymoviedetails 1970-01-01 00:00:01.619227056   \n",
       "3            shittymoviedetails 1970-01-01 00:00:01.619223942   \n",
       "2            shittymoviedetails 1970-01-01 00:00:01.619220585   \n",
       "24           shittymoviedetails 1970-01-01 00:00:01.619284669   \n",
       "10           shittymoviedetails 1970-01-01 00:00:01.619238570   \n",
       "\n",
       "                  author  is_self  score  num_comments  timestamp  \\\n",
       "0              Wuz314159    False      1             1 2021-04-23   \n",
       "13              Raoshard    False      1            46 2021-04-24   \n",
       "23           TitsAmazing    False      1             0 2021-04-24   \n",
       "22       NuclearJesusMan    False      1             5 2021-04-24   \n",
       "21       NuclearJesusMan    False      1            20 2021-04-24   \n",
       "20       KennKennyKenKen    False      1            61 2021-04-24   \n",
       "19             pale_guy_    False      1             0 2021-04-24   \n",
       "18       KennKennyKenKen    False      1            13 2021-04-24   \n",
       "17             pale_guy_    False      1             0 2021-04-24   \n",
       "16        invertedparadX    False      1             0 2021-04-24   \n",
       "15     endgamespoilerbot    False      1             1 2021-04-24   \n",
       "14   Aggressive_Touch635    False      1             2 2021-04-24   \n",
       "12           TrendingBot    False      1             0 2021-04-24   \n",
       "1          Nerf_Herder86    False      1             0 2021-04-23   \n",
       "11          liquidInanna    False      1             4 2021-04-24   \n",
       "9                Gyros45    False      1             2 2021-04-23   \n",
       "8     Dingus_fartsniffer     True      1             2 2021-04-23   \n",
       "7   YouGoThatWayIllGoHom    False      1             4 2021-04-23   \n",
       "6         invertedparadX    False      1           166 2021-04-23   \n",
       "5         MyHandsAreGone    False      1             0 2021-04-23   \n",
       "4         invertedparadX    False      1             0 2021-04-23   \n",
       "3            aceswild347    False      1             6 2021-04-23   \n",
       "2    dontcommitnorespawn    False      1             3 2021-04-23   \n",
       "24        invertedparadX    False      1             0 2021-04-24   \n",
       "10               mtndew7     True      1             1 2021-04-23   \n",
       "\n",
       "                                                                                                                                                                                                   all_text  \n",
       "0                                                                                                                     In the movie Bullworth (1998), a police officer is seen not shooting black people..    \n",
       "13                     After the commercial success of Kitchen Gun™ and Toilet Grenade™, Peter Serafinowicz expanded his business to offer a larger variety of cleaning products in John Wick: Chapter 2.    \n",
       "23                                                                                                                                        Guy makes his interestingly bizarre rendition that's addictive.    \n",
       "22                                                                               The film title No Country For Old Men (2007) refers to the fact that Florida is not, in fact, a country. It is a state..    \n",
       "21                  In 2001: A Space Odyssey (1968), much of the film focuses on characters walking slowly, in silence. This is a reference to the fact that holy fuck this movie is boring as all hell..    \n",
       "20  In Captain America : The Winter Soldier (2014), the Winter Soldier looks like a crab in this scene. This is a reference to the actors name Sebastian, who is a crab in another Disney film, The Litt...  \n",
       "19                                                                                               In Justice League (2021) the kid from the liquor store whom Bruce was referring to is actually McLovin..    \n",
       "18                                                                                                                      Captain America 4 (TBA) has recently been announced. Here is the leaked trailer..    \n",
       "17                                                                               In The Curious Case of Benjamin Button (2008) Brad Pitt became old because fight clubs can really take a toll on a guy..    \n",
       "16                                                                                                       in mortal kombat, Hanzo says Cole Young \"don’t let the bloodline die [in Japanese]” Cole Young:.    \n",
       "15                                 In The Falcon And The Winter Soldier, Sam becomes the new Captain America despite having no super soldier serum is a reference to the practice of affirmative action..    \n",
       "14                                                                                                                                                                  Dbz Budokai Opening Story Mode (PS2).    \n",
       "12                                                                                                                                                  /r/shittymoviedetails hit 600k subscribers yesterday.    \n",
       "1   The Nightmare Before Christmas (1993), when he arrives at Christmas Town, Jack sings \"what's this? There's white things in the air\". 22 seconds later he sings \"there are children throwing snowball...  \n",
       "11  In Game of Thrones Season 8, Daenerys’ last words are “we break the wheel together” which spelled backwards says “rehtegot leehw eht kaerb ew” which doesn’t make sense just like the rest of season...  \n",
       "9        In the movie Stowaway(2021) a crew is traveling to Mars. The journey is supposed to take 2 years. Everyone is so boring, that the leading character exits the spaceship and dies alone outside..    \n",
       "8                                                                      American Beauty was supposed to be a prequel to Se7en but the plot got diluted so bad that it became an entirely different movie..    \n",
       "7   The casting of Hugh Jackman as Wolverine was both a shock and inconvenience to him because of communication errors. It was decided early on that they needed a \"Huge Actor\" to play the popular char...  \n",
       "6                                                                                           I can’t believe they spent $90 million on this movie and no one pointed out that there’s a typo in the title.    \n",
       "5                                                                                               In Mortal Kombat (2021) in this scene you can clearly see a crew member in the shot. Very irresponsible!.    \n",
       "4                                                                      johnny cage could not appear in mortal kombat due to scheduling conflicts shooting the real world: back at it like a crack addict.    \n",
       "3                                                                     In Frozen (2013) Anna asks \"Why have a ballroom with no balls?\" This is a direct reference to there being no males in the kingdom..    \n",
       "2   In Bumblebee (2018), we see a roll of toilet paper, which is used to get rid of shit, in the revenge scene. This is a reference to how this reboot is getting rid of the shit that Michael Bay made ...  \n",
       "24  Your mama took you to karate class next door to a dollar store; next thing you know, you fighting dudes from another dimension throwing fire balls &amp; ice spears, like sensei didn't teach you an...  \n",
       "10                                                                                          In Mortal Kombat (2021) the garden gnomes give the main characters the creeps because they cum on their hands.   "
      ]
     },
     "execution_count": 25,
     "metadata": {},
     "output_type": "execute_result"
    }
   ],
   "source": [
    "#get new all-text column.\n",
    "df['all_text'] = df['title'] + '. ' + df['selftext']\n",
    "\n",
    "#check result\n",
    "df.head(25).sort_values(by = 'selftext', ascending = False)"
   ]
  },
  {
   "cell_type": "code",
   "execution_count": 26,
   "metadata": {
    "ExecuteTime": {
     "end_time": "2021-04-29T03:46:07.748291Z",
     "start_time": "2021-04-29T03:46:07.721553Z"
    },
    "scrolled": true
   },
   "outputs": [
    {
     "data": {
      "text/plain": [
       "5861    ⏱🟥⏩🟦⏮👩🏼+🖼🧔🏿🤝👱🏻‍♂️✈️ 💥💥💥💂🏼‍♀️=🇷🇺🕛🕧🕐🕜🕑🕝🕒🕞🕓🕔😥😰🤯🤯🤯🤯🤯🤯🧔🏿🪞🧔🏿. 🤯🤯🤯👂👂🗣🗣🔊🔊🙅‍♂️🙅‍♂️🙅‍♂️🙅‍♂️Cheese grater.What do guys think about this format of screenwriting?It's really interesting how a movie can be iden...\n",
       "8795    “Sometimes it’s easy to forget that we spend most of our time stumbling around in the dark” - Reporter Marty BaronIt may seem strange to call an Oscar winning best picture film underrated, but fiv...\n",
       "6814    “Fearless Vampire Killers”is on now, as I type. I’m something of fanatic on details when it comes to location as opposed to studio sets. Does anyone know if this film is on a location, and if so, ...\n",
       "8440    “Drowning Mona”. A movie (currently on Amazon Prime) from 2000 that somehow manages all of the best B stars from the 90’s. Danny DeVito, Neve Campbell, William Fichtner, Bette Midler, Jamie Lee Cu...\n",
       "1862    “An Oxford graduate takes up a job in a mental asylum, only to discover that the \"revolutionary\" new treatments are inhumane, and that there is more going on than meets the eye.”Directed by Brad A...\n",
       "                                                                                                         ...                                                                                                   \n",
       "7164                                                                                                                                                                                                           \n",
       "3778                                                                                                                                                                                                           \n",
       "2048                                                                                                                                                                                                           \n",
       "2049                                                                                                                                                                                                           \n",
       "6476                                                                                                                                                                                                           \n",
       "Name: selftext, Length: 21798, dtype: object"
      ]
     },
     "execution_count": 26,
     "metadata": {},
     "output_type": "execute_result"
    }
   ],
   "source": [
    "df['selftext'].sort_values(ascending=False)"
   ]
  },
  {
   "cell_type": "code",
   "execution_count": 27,
   "metadata": {
    "ExecuteTime": {
     "end_time": "2021-04-29T03:46:07.754069Z",
     "start_time": "2021-04-29T03:46:07.750512Z"
    }
   },
   "outputs": [],
   "source": [
    "#get rid of spammy text / authors by creating stop words list -- or do this underneath, in the NLP part."
   ]
  },
  {
   "cell_type": "markdown",
   "metadata": {},
   "source": [
    "--- \n",
    "\n",
    "### Analysis\n",
    "\n",
    "Now that we are more or less done cleaning, let's understand the density and usefulness of our content, by analyzing the volume of comments and looking for the richness of the text columns.\n",
    "\n",
    "We will be able to perform additional text analysis later on, once we have transformed (vectorized) our text.\n",
    "\n",
    "First, let's take a look at the distribution of posts by the volume of comments."
   ]
  },
  {
   "cell_type": "code",
   "execution_count": 28,
   "metadata": {
    "ExecuteTime": {
     "end_time": "2021-04-29T03:46:07.769029Z",
     "start_time": "2021-04-29T03:46:07.757159Z"
    },
    "scrolled": true
   },
   "outputs": [
    {
     "data": {
      "text/plain": [
       "0     7083\n",
       "2     2767\n",
       "1     2159\n",
       "3     1578\n",
       "4     1282\n",
       "5      786\n",
       "6      641\n",
       "7      452\n",
       "8      406\n",
       "9      334\n",
       "10     301\n",
       "11     251\n",
       "12     245\n",
       "13     185\n",
       "14     173\n",
       "16     148\n",
       "15     138\n",
       "17     123\n",
       "20     115\n",
       "18     102\n",
       "19      88\n",
       "21      85\n",
       "22      71\n",
       "23      66\n",
       "25      66\n",
       "26      65\n",
       "27      62\n",
       "24      56\n",
       "29      46\n",
       "30      46\n",
       "28      46\n",
       "36      43\n",
       "33      39\n",
       "35      37\n",
       "34      37\n",
       "31      36\n",
       "42      35\n",
       "37      33\n",
       "32      32\n",
       "41      30\n",
       "43      28\n",
       "54      28\n",
       "47      26\n",
       "39      25\n",
       "44      24\n",
       "40      23\n",
       "38      20\n",
       "46      19\n",
       "45      18\n",
       "52      18\n",
       "Name: num_comments, dtype: int64"
      ]
     },
     "execution_count": 28,
     "metadata": {},
     "output_type": "execute_result"
    }
   ],
   "source": [
    "df['num_comments'].value_counts()[:50]"
   ]
  },
  {
   "cell_type": "code",
   "execution_count": 29,
   "metadata": {
    "ExecuteTime": {
     "end_time": "2021-04-29T03:46:07.780256Z",
     "start_time": "2021-04-29T03:46:07.772204Z"
    }
   },
   "outputs": [
    {
     "data": {
      "text/plain": [
       "22.316726305165613"
      ]
     },
     "execution_count": 29,
     "metadata": {},
     "output_type": "execute_result"
    }
   ],
   "source": [
    "df['num_comments'].mean()"
   ]
  },
  {
   "cell_type": "code",
   "execution_count": 30,
   "metadata": {
    "ExecuteTime": {
     "end_time": "2021-04-29T03:46:07.794546Z",
     "start_time": "2021-04-29T03:46:07.782289Z"
    }
   },
   "outputs": [
    {
     "data": {
      "text/plain": [
       "0    0\n",
       "dtype: int64"
      ]
     },
     "execution_count": 30,
     "metadata": {},
     "output_type": "execute_result"
    }
   ],
   "source": [
    "df['num_comments'].mode()"
   ]
  },
  {
   "cell_type": "code",
   "execution_count": 31,
   "metadata": {
    "ExecuteTime": {
     "end_time": "2021-04-29T03:46:07.807118Z",
     "start_time": "2021-04-29T03:46:07.798837Z"
    },
    "scrolled": true
   },
   "outputs": [
    {
     "data": {
      "text/plain": [
       "2.0"
      ]
     },
     "execution_count": 31,
     "metadata": {},
     "output_type": "execute_result"
    }
   ],
   "source": [
    "df['num_comments'].median()"
   ]
  },
  {
   "cell_type": "code",
   "execution_count": 32,
   "metadata": {
    "ExecuteTime": {
     "end_time": "2021-04-29T03:46:07.817632Z",
     "start_time": "2021-04-29T03:46:07.809484Z"
    }
   },
   "outputs": [
    {
     "data": {
      "text/plain": [
       "6036"
      ]
     },
     "execution_count": 32,
     "metadata": {},
     "output_type": "execute_result"
    }
   ],
   "source": [
    "df['num_comments'].max()"
   ]
  },
  {
   "cell_type": "markdown",
   "metadata": {},
   "source": [
    "Judging from this, the vast majority of posts have no comments at all. The average number of comments is 22. There are also extreme outliers exceeding 1000 comments.\n",
    "\n",
    "Let's visualize this."
   ]
  },
  {
   "cell_type": "code",
   "execution_count": 33,
   "metadata": {
    "ExecuteTime": {
     "end_time": "2021-04-29T03:46:08.086134Z",
     "start_time": "2021-04-29T03:46:07.820976Z"
    }
   },
   "outputs": [
    {
     "data": {
      "image/png": "[encoded data removed]",
      "text/plain": [
       "<Figure size 1152x576 with 1 Axes>"
      ]
     },
     "metadata": {},
     "output_type": "display_data"
    }
   ],
   "source": [
    "#code ref from Gwen's lab review lesson 4/27/2021\n",
    "\n",
    "plt.figure(figsize = (16,8));\n",
    "df['num_comments'].plot(kind='hist');\n",
    "plt.title('Number of post comments', size =20);\n",
    "plt.xticks([0, 200, 500, 1000], size=14);\n",
    "plt.yticks(size=12);\n",
    "plt.ylabel('Number of posts', size=14);"
   ]
  },
  {
   "cell_type": "markdown",
   "metadata": {},
   "source": [
    "Anything beyond 500 comments (an already huge number barely registers); there is definitely a huge outlier with something getting 6K comments; we might want to remove this outlier, to reduce noise in our data.\n",
    "\n",
    "Now let's look at distribution by authors. Let's see if any stick out as dominant, which can either mean that they are highly engaged on Reddit, or it could be a signal of spam.\n",
    "\n",
    "Further, we might want to cross-validate if any others appear across _multiple_ of our subReddits!"
   ]
  },
  {
   "cell_type": "code",
   "execution_count": 34,
   "metadata": {
    "ExecuteTime": {
     "end_time": "2021-04-29T03:46:08.110543Z",
     "start_time": "2021-04-29T03:46:08.087967Z"
    },
    "scrolled": true
   },
   "outputs": [
    {
     "data": {
      "text/plain": [
       "wednesdaygiftinfo       434\n",
       "Numerous-Lemon          282\n",
       "Ornery-Control-9474     264\n",
       "Tokyono                 191\n",
       "[deleted]               189\n",
       "pale_guy_               154\n",
       "random_guy_somewhere    138\n",
       "klsi832                 108\n",
       "Comic_Book_Reader        92\n",
       "sirsquid                 82\n",
       "chanma50                 73\n",
       "MovieBattleGame          68\n",
       "alizamessy               63\n",
       "Sisiwakanamaru           62\n",
       "VictorBlimpmuscle        53\n",
       "ggroover97               51\n",
       "KscILLBILL               46\n",
       "ToyVaren                 46\n",
       "invertedparadX           43\n",
       "SpaceMyopia              41\n",
       "gautsvo                  41\n",
       "james-1990               40\n",
       "movihq                   33\n",
       "RayInRed                 31\n",
       "prsnreddit               31\n",
       "lopezjessy               30\n",
       "LiteraryBoner            27\n",
       "CephalopodRed            27\n",
       "Jack-Earth-2             26\n",
       "randomspawner            26\n",
       "skyfall91404             25\n",
       "MistleFeast              25\n",
       "Mostafa_Dahroug          25\n",
       "Iamnotbroke              25\n",
       "JoshuaCalledMe           24\n",
       "Russian_Bagel            24\n",
       "flikrate                 24\n",
       "Prize_Guest              24\n",
       "Puzzleheaded-Fun-257     24\n",
       "2016dsense               23\n",
       "zzuhruf                  23\n",
       "legalbagelbeagle         22\n",
       "AnishNoor92              21\n",
       "RickySmith2005           21\n",
       "KermitTheFraud92         21\n",
       "ceaguila84               21\n",
       "DraftDraw                20\n",
       "ShaneMP01                20\n",
       "Gyros45                  19\n",
       "MattTheSmithers          19\n",
       "Name: author, dtype: int64"
      ]
     },
     "execution_count": 34,
     "metadata": {},
     "output_type": "execute_result"
    }
   ],
   "source": [
    "df['author'].value_counts()[:50] #get only unique"
   ]
  },
  {
   "cell_type": "code",
   "execution_count": 35,
   "metadata": {
    "ExecuteTime": {
     "end_time": "2021-04-29T03:46:08.131499Z",
     "start_time": "2021-04-29T03:46:08.112651Z"
    }
   },
   "outputs": [
    {
     "data": {
      "text/plain": [
       "1.7245253164556962"
      ]
     },
     "execution_count": 35,
     "metadata": {},
     "output_type": "execute_result"
    }
   ],
   "source": [
    "df['author'].value_counts().mean()"
   ]
  },
  {
   "cell_type": "markdown",
   "metadata": {},
   "source": [
    "We do have some authors that have posted hundreds of posts here, with an average author posting approximately twice. But nothing really obviously sticks out as concerning, at the moment, based on the author's handle alone -- that is, if we were looking for glaringly \"spammy\" signals with a naked eye (i.e. sans any spam detection machine like spam vs. ham). We'll check for the word 'repost' and 'reshare' as well; although we should have hopefully gotten rid of most of that content noise by stripping out the URLs from the text fields earlier.\n",
    "\n",
    "But how many unique authors are there?"
   ]
  },
  {
   "cell_type": "code",
   "execution_count": 36,
   "metadata": {
    "ExecuteTime": {
     "end_time": "2021-04-29T03:46:08.142921Z",
     "start_time": "2021-04-29T03:46:08.133233Z"
    },
    "scrolled": true
   },
   "outputs": [
    {
     "data": {
      "text/plain": [
       "12640"
      ]
     },
     "execution_count": 36,
     "metadata": {},
     "output_type": "execute_result"
    }
   ],
   "source": [
    "#unique authors\n",
    "#from Gwen's NLP lab review\n",
    "len(df['author'].unique())"
   ]
  },
  {
   "cell_type": "markdown",
   "metadata": {},
   "source": [
    "This checks out, given that we saw roughly 2 posts / author, above."
   ]
  },
  {
   "cell_type": "code",
   "execution_count": 37,
   "metadata": {
    "ExecuteTime": {
     "end_time": "2021-04-29T03:46:08.150538Z",
     "start_time": "2021-04-29T03:46:08.146553Z"
    }
   },
   "outputs": [],
   "source": [
    "#groupby the authors by subreddit\n"
   ]
  },
  {
   "cell_type": "markdown",
   "metadata": {},
   "source": [
    "Let's go ahead and see when most of our posts are from."
   ]
  },
  {
   "cell_type": "code",
   "execution_count": 38,
   "metadata": {
    "ExecuteTime": {
     "end_time": "2021-04-29T03:46:08.485906Z",
     "start_time": "2021-04-29T03:46:08.154981Z"
    }
   },
   "outputs": [
    {
     "data": {
      "image/png": "[encoded data removed]",
      "text/plain": [
       "<Figure size 1152x576 with 1 Axes>"
      ]
     },
     "metadata": {},
     "output_type": "display_data"
    }
   ],
   "source": [
    "#get post age\n",
    "plt.figure(figsize = (16, 8))\n",
    "plt.title('Age of post', size = 20);\n",
    "df['timestamp'].hist();\n",
    "plt.xticks(size=15)\n",
    "plt.yticks(size=15)\n",
    "plt.ylabel('Number of posts', size = 15);"
   ]
  },
  {
   "cell_type": "markdown",
   "metadata": {},
   "source": [
    "Our posts come from September 2020 to present. ( _Note: this may be a function of how far back we scraped and not in itself meaningful. This was an attempt to find possible seasonality, but there isn't really a pattern I can establish here, and it would be more meaningful to look at a year+ worth's._ )"
   ]
  },
  {
   "cell_type": "markdown",
   "metadata": {},
   "source": [
    "Finally, let's look at the distribution of original scores, compared to reposts."
   ]
  },
  {
   "cell_type": "code",
   "execution_count": 39,
   "metadata": {
    "ExecuteTime": {
     "end_time": "2021-04-29T03:46:08.500663Z",
     "start_time": "2021-04-29T03:46:08.488938Z"
    },
    "scrolled": true
   },
   "outputs": [
    {
     "data": {
      "text/plain": [
       "False    0.86\n",
       "True     0.14\n",
       "Name: is_self, dtype: float64"
      ]
     },
     "execution_count": 39,
     "metadata": {},
     "output_type": "execute_result"
    }
   ],
   "source": [
    "df['is_self'].value_counts(normalize=True).round(2)"
   ]
  },
  {
   "cell_type": "code",
   "execution_count": 40,
   "metadata": {
    "ExecuteTime": {
     "end_time": "2021-04-29T03:46:08.506659Z",
     "start_time": "2021-04-29T03:46:08.503079Z"
    }
   },
   "outputs": [],
   "source": [
    "#strip out repost / reshare stuff"
   ]
  },
  {
   "cell_type": "markdown",
   "metadata": {},
   "source": [
    "As we can see, most posts are actually reposts in our threads, and we anticipate that the overall quality of our posts might thus be on the lower side.\n",
    "\n",
    "So how well do most posts score?\n",
    "\n",
    "(More on this here: [What do Reddit post scores mean?](https://www.reddit.com/wiki/faq#wiki_how_is_a_submission.27s_score_determined.3F).)"
   ]
  },
  {
   "cell_type": "code",
   "execution_count": 41,
   "metadata": {
    "ExecuteTime": {
     "end_time": "2021-04-29T03:46:08.721008Z",
     "start_time": "2021-04-29T03:46:08.509842Z"
    },
    "scrolled": true
   },
   "outputs": [
    {
     "data": {
      "image/png": "[encoded data removed]",
      "text/plain": [
       "<Figure size 1152x576 with 1 Axes>"
      ]
     },
     "metadata": {},
     "output_type": "display_data"
    }
   ],
   "source": [
    "#dist of scores\n",
    "plt.figure(figsize = (16,8))\n",
    "df['score'].plot(kind = 'hist');\n",
    "plt.title('Distribution of post scores', size= 20)\n",
    "plt.yticks(size=15)\n",
    "plt.xticks([0, 3500, 7000, 10_000], size=15,rotation = 90)\n",
    "plt.ylabel('Number of posts', size = 15);"
   ]
  },
  {
   "cell_type": "markdown",
   "metadata": {},
   "source": [
    "Looks like this is about all we can do, before further transformation.\n",
    "\n",
    "- - -\n",
    "\n",
    "## Part III: NLP & feature eng\n",
    "\n",
    "### Vectorize text in prep for analysis"
   ]
  },
  {
   "cell_type": "code",
   "execution_count": 42,
   "metadata": {
    "ExecuteTime": {
     "end_time": "2021-04-29T03:46:08.733378Z",
     "start_time": "2021-04-29T03:46:08.722722Z"
    },
    "scrolled": true
   },
   "outputs": [
    {
     "data": {
      "text/plain": [
       "Index(['title', 'selftext', 'subreddit', 'created_utc', 'author', 'is_self',\n",
       "       'score', 'num_comments', 'timestamp', 'all_text'],\n",
       "      dtype='object')"
      ]
     },
     "execution_count": 42,
     "metadata": {},
     "output_type": "execute_result"
    }
   ],
   "source": [
    "df.columns"
   ]
  },
  {
   "cell_type": "markdown",
   "metadata": {},
   "source": [
    "We will need to vectorize our words, for our models to process them."
   ]
  },
  {
   "cell_type": "code",
   "execution_count": 43,
   "metadata": {
    "ExecuteTime": {
     "end_time": "2021-04-29T03:46:08.741249Z",
     "start_time": "2021-04-29T03:46:08.737497Z"
    }
   },
   "outputs": [],
   "source": [
    "#initialize CV transformer\n",
    "cvec = CountVectorizer(stop_words='english')"
   ]
  },
  {
   "cell_type": "markdown",
   "metadata": {},
   "source": [
    "### Word analysis\n",
    "\n",
    "We will vectorize self-text, as well as, potentially, title and / or our joint text column to train on."
   ]
  },
  {
   "cell_type": "code",
   "execution_count": 44,
   "metadata": {
    "ExecuteTime": {
     "end_time": "2021-04-29T03:46:09.221288Z",
     "start_time": "2021-04-29T03:46:08.745170Z"
    }
   },
   "outputs": [],
   "source": [
    "word_counts = cvec.fit_transform(df['selftext'])"
   ]
  },
  {
   "cell_type": "code",
   "execution_count": 59,
   "metadata": {
    "ExecuteTime": {
     "end_time": "2021-04-29T04:06:58.624406Z",
     "start_time": "2021-04-29T04:06:58.238806Z"
    }
   },
   "outputs": [],
   "source": [
    "counts = pd.DataFrame(word_counts.todense(), columns=cvec.get_feature_names())"
   ]
  },
  {
   "cell_type": "markdown",
   "metadata": {},
   "source": [
    "How many words do we have in the post column?"
   ]
  },
  {
   "cell_type": "code",
   "execution_count": 61,
   "metadata": {
    "ExecuteTime": {
     "end_time": "2021-04-29T04:07:31.613329Z",
     "start_time": "2021-04-29T04:07:26.243293Z"
    }
   },
   "outputs": [
    {
     "data": {
      "text/plain": [
       "170335"
      ]
     },
     "execution_count": 61,
     "metadata": {},
     "output_type": "execute_result"
    }
   ],
   "source": [
    "counts.sum().sum()\n",
    "#note: identical calc to doing this as `word_counts.sum()`"
   ]
  },
  {
   "cell_type": "markdown",
   "metadata": {},
   "source": [
    "Let's create a new column called \"post length\" that calculates the words contained in a post's body."
   ]
  },
  {
   "cell_type": "code",
   "execution_count": 46,
   "metadata": {
    "ExecuteTime": {
     "end_time": "2021-04-29T03:46:09.284426Z",
     "start_time": "2021-04-29T03:46:09.239168Z"
    }
   },
   "outputs": [],
   "source": [
    "#get length of posts\n",
    "df['post_length'] = df['selftext'].map(lambda x: len(x.split()))"
   ]
  },
  {
   "cell_type": "code",
   "execution_count": 47,
   "metadata": {
    "ExecuteTime": {
     "end_time": "2021-04-29T03:46:09.325612Z",
     "start_time": "2021-04-29T03:46:09.286666Z"
    }
   },
   "outputs": [
    {
     "data": {
      "text/html": [
       "<div>\n",
       "<style scoped>\n",
       "    .dataframe tbody tr th:only-of-type {\n",
       "        vertical-align: middle;\n",
       "    }\n",
       "\n",
       "    .dataframe tbody tr th {\n",
       "        vertical-align: top;\n",
       "    }\n",
       "\n",
       "    .dataframe thead th {\n",
       "        text-align: right;\n",
       "    }\n",
       "</style>\n",
       "<table border=\"1\" class=\"dataframe\">\n",
       "  <thead>\n",
       "    <tr style=\"text-align: right;\">\n",
       "      <th></th>\n",
       "      <th>title</th>\n",
       "      <th>selftext</th>\n",
       "      <th>subreddit</th>\n",
       "      <th>created_utc</th>\n",
       "      <th>author</th>\n",
       "      <th>is_self</th>\n",
       "      <th>score</th>\n",
       "      <th>num_comments</th>\n",
       "      <th>timestamp</th>\n",
       "      <th>all_text</th>\n",
       "      <th>post_length</th>\n",
       "    </tr>\n",
       "  </thead>\n",
       "  <tbody>\n",
       "    <tr>\n",
       "      <th>5861</th>\n",
       "      <td>Name this movie, emoji edition! (A new format for storyboards)</td>\n",
       "      <td>⏱🟥⏩🟦⏮👩🏼+🖼🧔🏿🤝👱🏻‍♂️✈️ 💥💥💥💂🏼‍♀️=🇷🇺🕛🕧🕐🕜🕑🕝🕒🕞🕓🕔😥😰🤯🤯🤯🤯🤯🤯🧔🏿🪞🧔🏿. 🤯🤯🤯👂👂🗣🗣🔊🔊🙅‍♂️🙅‍♂️🙅‍♂️🙅‍♂️Cheese grater.What do guys think about this format of screenwriting?It's really interesting how a movie can be iden...</td>\n",
       "      <td>movies</td>\n",
       "      <td>1970-01-01 00:00:01.607302386</td>\n",
       "      <td>-sic-boy2</td>\n",
       "      <td>True</td>\n",
       "      <td>1</td>\n",
       "      <td>2</td>\n",
       "      <td>2020-12-06</td>\n",
       "      <td>Name this movie, emoji edition! (A new format for storyboards). ⏱🟥⏩🟦⏮👩🏼+🖼🧔🏿🤝👱🏻‍♂️✈️ 💥💥💥💂🏼‍♀️=🇷🇺🕛🕧🕐🕜🕑🕝🕒🕞🕓🕔😥😰🤯🤯🤯🤯🤯🤯🧔🏿🪞🧔🏿. 🤯🤯🤯👂👂🗣🗣🔊🔊🙅‍♂️🙅‍♂️🙅‍♂️🙅‍♂️Cheese grater.What do guys think about this format ...</td>\n",
       "      <td>75</td>\n",
       "    </tr>\n",
       "    <tr>\n",
       "      <th>8795</th>\n",
       "      <td>Spotlight: The forgotten Best Picture film</td>\n",
       "      <td>“Sometimes it’s easy to forget that we spend most of our time stumbling around in the dark” - Reporter Marty BaronIt may seem strange to call an Oscar winning best picture film underrated, but fiv...</td>\n",
       "      <td>movies</td>\n",
       "      <td>1970-01-01 00:00:01.601950603</td>\n",
       "      <td>Baba8532</td>\n",
       "      <td>True</td>\n",
       "      <td>1</td>\n",
       "      <td>19</td>\n",
       "      <td>2020-10-05</td>\n",
       "      <td>Spotlight: The forgotten Best Picture film. “Sometimes it’s easy to forget that we spend most of our time stumbling around in the dark” - Reporter Marty BaronIt may seem strange to call an Oscar w...</td>\n",
       "      <td>225</td>\n",
       "    </tr>\n",
       "    <tr>\n",
       "      <th>6814</th>\n",
       "      <td>LIFE AND LIFELIKE</td>\n",
       "      <td>“Fearless Vampire Killers”is on now, as I type. I’m something of fanatic on details when it comes to location as opposed to studio sets. Does anyone know if this film is on a location, and if so, ...</td>\n",
       "      <td>movies</td>\n",
       "      <td>1970-01-01 00:00:01.605222992</td>\n",
       "      <td>LEGALIZEALLDRUGSNOW</td>\n",
       "      <td>True</td>\n",
       "      <td>1</td>\n",
       "      <td>9</td>\n",
       "      <td>2020-11-12</td>\n",
       "      <td>LIFE AND LIFELIKE. “Fearless Vampire Killers”is on now, as I type. I’m something of fanatic on details when it comes to location as opposed to studio sets. Does anyone know if this film is on a lo...</td>\n",
       "      <td>75</td>\n",
       "    </tr>\n",
       "    <tr>\n",
       "      <th>8440</th>\n",
       "      <td>Drowning Mona is a fun Year 2000 movie watch!</td>\n",
       "      <td>“Drowning Mona”. A movie (currently on Amazon Prime) from 2000 that somehow manages all of the best B stars from the 90’s. Danny DeVito, Neve Campbell, William Fichtner, Bette Midler, Jamie Lee Cu...</td>\n",
       "      <td>movies</td>\n",
       "      <td>1970-01-01 00:00:01.602460841</td>\n",
       "      <td>grc207</td>\n",
       "      <td>True</td>\n",
       "      <td>1</td>\n",
       "      <td>5</td>\n",
       "      <td>2020-10-11</td>\n",
       "      <td>Drowning Mona is a fun Year 2000 movie watch!. “Drowning Mona”. A movie (currently on Amazon Prime) from 2000 that somehow manages all of the best B stars from the 90’s. Danny DeVito, Neve Campbel...</td>\n",
       "      <td>67</td>\n",
       "    </tr>\n",
       "    <tr>\n",
       "      <th>1862</th>\n",
       "      <td>Stonehearst Asylum/Eliza Graves (2014) is an amazingly overlooked thriller based on a short story by Edgar Allen Poe. The cast includes Kate Beckinsale, Jim Sturges, David Thewlis, Ben Kingsley, B...</td>\n",
       "      <td>“An Oxford graduate takes up a job in a mental asylum, only to discover that the \"revolutionary\" new treatments are inhumane, and that there is more going on than meets the eye.”Directed by Brad A...</td>\n",
       "      <td>movies</td>\n",
       "      <td>1970-01-01 00:00:01.615162958</td>\n",
       "      <td>just_a_regular_goy</td>\n",
       "      <td>True</td>\n",
       "      <td>0</td>\n",
       "      <td>1</td>\n",
       "      <td>2021-03-07</td>\n",
       "      <td>Stonehearst Asylum/Eliza Graves (2014) is an amazingly overlooked thriller based on a short story by Edgar Allen Poe. The cast includes Kate Beckinsale, Jim Sturges, David Thewlis, Ben Kingsley, B...</td>\n",
       "      <td>99</td>\n",
       "    </tr>\n",
       "  </tbody>\n",
       "</table>\n",
       "</div>"
      ],
      "text/plain": [
       "                                                                                                                                                                                                        title  \\\n",
       "5861                                                                                                                                           Name this movie, emoji edition! (A new format for storyboards)   \n",
       "8795                                                                                                                                                               Spotlight: The forgotten Best Picture film   \n",
       "6814                                                                                                                                                                                        LIFE AND LIFELIKE   \n",
       "8440                                                                                                                                                            Drowning Mona is a fun Year 2000 movie watch!   \n",
       "1862  Stonehearst Asylum/Eliza Graves (2014) is an amazingly overlooked thriller based on a short story by Edgar Allen Poe. The cast includes Kate Beckinsale, Jim Sturges, David Thewlis, Ben Kingsley, B...   \n",
       "\n",
       "                                                                                                                                                                                                     selftext  \\\n",
       "5861  ⏱🟥⏩🟦⏮👩🏼+🖼🧔🏿🤝👱🏻‍♂️✈️ 💥💥💥💂🏼‍♀️=🇷🇺🕛🕧🕐🕜🕑🕝🕒🕞🕓🕔😥😰🤯🤯🤯🤯🤯🤯🧔🏿🪞🧔🏿. 🤯🤯🤯👂👂🗣🗣🔊🔊🙅‍♂️🙅‍♂️🙅‍♂️🙅‍♂️Cheese grater.What do guys think about this format of screenwriting?It's really interesting how a movie can be iden...   \n",
       "8795  “Sometimes it’s easy to forget that we spend most of our time stumbling around in the dark” - Reporter Marty BaronIt may seem strange to call an Oscar winning best picture film underrated, but fiv...   \n",
       "6814  “Fearless Vampire Killers”is on now, as I type. I’m something of fanatic on details when it comes to location as opposed to studio sets. Does anyone know if this film is on a location, and if so, ...   \n",
       "8440  “Drowning Mona”. A movie (currently on Amazon Prime) from 2000 that somehow manages all of the best B stars from the 90’s. Danny DeVito, Neve Campbell, William Fichtner, Bette Midler, Jamie Lee Cu...   \n",
       "1862  “An Oxford graduate takes up a job in a mental asylum, only to discover that the \"revolutionary\" new treatments are inhumane, and that there is more going on than meets the eye.”Directed by Brad A...   \n",
       "\n",
       "     subreddit                   created_utc               author  is_self  \\\n",
       "5861    movies 1970-01-01 00:00:01.607302386            -sic-boy2     True   \n",
       "8795    movies 1970-01-01 00:00:01.601950603             Baba8532     True   \n",
       "6814    movies 1970-01-01 00:00:01.605222992  LEGALIZEALLDRUGSNOW     True   \n",
       "8440    movies 1970-01-01 00:00:01.602460841               grc207     True   \n",
       "1862    movies 1970-01-01 00:00:01.615162958   just_a_regular_goy     True   \n",
       "\n",
       "      score  num_comments  timestamp  \\\n",
       "5861      1             2 2020-12-06   \n",
       "8795      1            19 2020-10-05   \n",
       "6814      1             9 2020-11-12   \n",
       "8440      1             5 2020-10-11   \n",
       "1862      0             1 2021-03-07   \n",
       "\n",
       "                                                                                                                                                                                                     all_text  \\\n",
       "5861  Name this movie, emoji edition! (A new format for storyboards). ⏱🟥⏩🟦⏮👩🏼+🖼🧔🏿🤝👱🏻‍♂️✈️ 💥💥💥💂🏼‍♀️=🇷🇺🕛🕧🕐🕜🕑🕝🕒🕞🕓🕔😥😰🤯🤯🤯🤯🤯🤯🧔🏿🪞🧔🏿. 🤯🤯🤯👂👂🗣🗣🔊🔊🙅‍♂️🙅‍♂️🙅‍♂️🙅‍♂️Cheese grater.What do guys think about this format ...   \n",
       "8795  Spotlight: The forgotten Best Picture film. “Sometimes it’s easy to forget that we spend most of our time stumbling around in the dark” - Reporter Marty BaronIt may seem strange to call an Oscar w...   \n",
       "6814  LIFE AND LIFELIKE. “Fearless Vampire Killers”is on now, as I type. I’m something of fanatic on details when it comes to location as opposed to studio sets. Does anyone know if this film is on a lo...   \n",
       "8440  Drowning Mona is a fun Year 2000 movie watch!. “Drowning Mona”. A movie (currently on Amazon Prime) from 2000 that somehow manages all of the best B stars from the 90’s. Danny DeVito, Neve Campbel...   \n",
       "1862  Stonehearst Asylum/Eliza Graves (2014) is an amazingly overlooked thriller based on a short story by Edgar Allen Poe. The cast includes Kate Beckinsale, Jim Sturges, David Thewlis, Ben Kingsley, B...   \n",
       "\n",
       "      post_length  \n",
       "5861           75  \n",
       "8795          225  \n",
       "6814           75  \n",
       "8440           67  \n",
       "1862           99  "
      ]
     },
     "execution_count": 47,
     "metadata": {},
     "output_type": "execute_result"
    }
   ],
   "source": [
    "df.sort_values(by = 'selftext', ascending = False).head()"
   ]
  },
  {
   "cell_type": "markdown",
   "metadata": {},
   "source": [
    "What is the most typical post length?"
   ]
  },
  {
   "cell_type": "code",
   "execution_count": 49,
   "metadata": {
    "ExecuteTime": {
     "end_time": "2021-04-29T03:46:09.367708Z",
     "start_time": "2021-04-29T03:46:09.352212Z"
    }
   },
   "outputs": [
    {
     "data": {
      "text/plain": [
       "1"
      ]
     },
     "execution_count": 49,
     "metadata": {},
     "output_type": "execute_result"
    }
   ],
   "source": [
    "#check for average post density -- length of posts\n",
    "len(df['selftext'].mode())"
   ]
  },
  {
   "cell_type": "markdown",
   "metadata": {},
   "source": [
    "Let's visualize post length, by subReddit."
   ]
  },
  {
   "cell_type": "code",
   "execution_count": 83,
   "metadata": {
    "ExecuteTime": {
     "end_time": "2021-04-29T04:22:31.169098Z",
     "start_time": "2021-04-29T04:22:30.778591Z"
    }
   },
   "outputs": [
    {
     "data": {
      "image/png": "[encoded data removed]",
      "text/plain": [
       "<Figure size 432x288 with 1 Axes>"
      ]
     },
     "metadata": {},
     "output_type": "display_data"
    }
   ],
   "source": [
    "#inspiration from Gwen's NLP lab review\n",
    "\n",
    "df.groupby('subreddit')[['post_length']].mean().plot(kind='barh');\n",
    "plt.xticks(size=13);\n",
    "plt.yticks(size=13);\n",
    "plt.ylabel('Subreddit', size=15)\n",
    "plt.xlabel('Post length (in words)', size=15);\n",
    "plt.title('Post length by Subreddit', size=15);\n",
    "plt.savefig('../images/post_length.png')"
   ]
  },
  {
   "cell_type": "markdown",
   "metadata": {},
   "source": [
    "What are the most common words?"
   ]
  },
  {
   "cell_type": "code",
   "execution_count": 51,
   "metadata": {
    "ExecuteTime": {
     "end_time": "2021-04-29T03:46:09.387071Z",
     "start_time": "2021-04-29T03:46:09.383463Z"
    }
   },
   "outputs": [],
   "source": [
    "#word freq analysis"
   ]
  },
  {
   "cell_type": "code",
   "execution_count": 52,
   "metadata": {
    "ExecuteTime": {
     "end_time": "2021-04-29T03:46:09.408186Z",
     "start_time": "2021-04-29T03:46:09.401222Z"
    }
   },
   "outputs": [],
   "source": [
    "#sentiment analysis"
   ]
  },
  {
   "cell_type": "code",
   "execution_count": 53,
   "metadata": {
    "ExecuteTime": {
     "end_time": "2021-04-29T03:46:09.422705Z",
     "start_time": "2021-04-29T03:46:09.416412Z"
    }
   },
   "outputs": [],
   "source": [
    "#pair-plot relationships btn. words"
   ]
  },
  {
   "cell_type": "code",
   "execution_count": 54,
   "metadata": {
    "ExecuteTime": {
     "end_time": "2021-04-29T03:46:09.434687Z",
     "start_time": "2021-04-29T03:46:09.427052Z"
    }
   },
   "outputs": [],
   "source": [
    "#look at bi-grams / tri-grams\n",
    "#consult Gwen's NLP lab review notebook (fb status analysis) for this!"
   ]
  },
  {
   "cell_type": "code",
   "execution_count": null,
   "metadata": {},
   "outputs": [],
   "source": []
  },
  {
   "cell_type": "markdown",
   "metadata": {},
   "source": [
    "- - -\n",
    "## Modeling\n",
    "\n",
    "Several classification models are availed to us. We will try the merits of different ones, potentially including:\n",
    "\n",
    "* KNN\n",
    "* Decision Trees\n",
    "* Random Forest\n",
    "* Bayes\n",
    "* Logistic regression (NOTE: this one only makes sense if we find some linearity in earlier text relationship analysis)\n",
    "* Boosting\n",
    "\n",
    "We will tune and random-search for best parameters, where appropriate."
   ]
  },
  {
   "cell_type": "code",
   "execution_count": null,
   "metadata": {},
   "outputs": [],
   "source": []
  }
 ],
 "metadata": {
  "kernelspec": {
   "display_name": "Python 3",
   "language": "python",
   "name": "python3"
  },
  "language_info": {
   "codemirror_mode": {
    "name": "ipython",
    "version": 3
   },
   "file_extension": ".py",
   "mimetype": "text/x-python",
   "name": "python",
   "nbconvert_exporter": "python",
   "pygments_lexer": "ipython3",
   "version": "3.8.3"
  },
  "latex_envs": {
   "LaTeX_envs_menu_present": true,
   "autoclose": false,
   "autocomplete": true,
   "bibliofile": "biblio.bib",
   "cite_by": "apalike",
   "current_citInitial": 1,
   "eqLabelWithNumbers": true,
   "eqNumInitial": 1,
   "hotkeys": {
    "equation": "Ctrl-E",
    "itemize": "Ctrl-I"
   },
   "labels_anchors": false,
   "latex_user_defs": false,
   "report_style_numbering": false,
   "user_envs_cfg": false
  },
  "toc": {
   "base_numbering": 1,
   "nav_menu": {},
   "number_sections": true,
   "sideBar": true,
   "skip_h1_title": false,
   "title_cell": "Table of Contents",
   "title_sidebar": "Contents",
   "toc_cell": false,
   "toc_position": {},
   "toc_section_display": true,
   "toc_window_display": true
  },
  "varInspector": {
   "cols": {
    "lenName": 16,
    "lenType": 16,
    "lenVar": 40
   },
   "kernels_config": {
    "python": {
     "delete_cmd_postfix": "",
     "delete_cmd_prefix": "del ",
     "library": "var_list.py",
     "varRefreshCmd": "print(var_dic_list())"
    },
    "r": {
     "delete_cmd_postfix": ") ",
     "delete_cmd_prefix": "rm(",
     "library": "var_list.r",
     "varRefreshCmd": "cat(var_dic_list()) "
    }
   },
   "types_to_exclude": [
    "module",
    "function",
    "builtin_function_or_method",
    "instance",
    "_Feature"
   ],
   "window_display": false
  }
 },
 "nbformat": 4,
 "nbformat_minor": 4
}
